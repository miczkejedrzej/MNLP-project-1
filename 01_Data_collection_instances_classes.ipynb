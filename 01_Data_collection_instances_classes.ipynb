{
  "cells": [
    {
      "cell_type": "markdown",
      "metadata": {
        "id": "view-in-github",
        "colab_type": "text"
      },
      "source": [
        "<a href=\"https://colab.research.google.com/github/miczkejedrzej/MNLP-project-1/blob/main/Data_collection_instances_classes.ipynb\" target=\"_parent\"><img src=\"https://colab.research.google.com/assets/colab-badge.svg\" alt=\"Open In Colab\"/></a>"
      ]
    },
    {
      "cell_type": "code",
      "execution_count": null,
      "metadata": {
        "colab": {
          "base_uri": "https://localhost:8080/",
          "height": 74
        },
        "id": "hhyM5XzTyOP3",
        "outputId": "a64a7e35-c99d-48d9-f85e-7c40ef07362e"
      },
      "outputs": [
        {
          "data": {
            "text/html": [
              "\n",
              "     <input type=\"file\" id=\"files-b192788a-3b76-45d9-81ff-c9a20f2edf66\" name=\"files[]\" multiple disabled\n",
              "        style=\"border:none\" />\n",
              "     <output id=\"result-b192788a-3b76-45d9-81ff-c9a20f2edf66\">\n",
              "      Upload widget is only available when the cell has been executed in the\n",
              "      current browser session. Please rerun this cell to enable.\n",
              "      </output>\n",
              "      <script>// Copyright 2017 Google LLC\n",
              "//\n",
              "// Licensed under the Apache License, Version 2.0 (the \"License\");\n",
              "// you may not use this file except in compliance with the License.\n",
              "// You may obtain a copy of the License at\n",
              "//\n",
              "//      http://www.apache.org/licenses/LICENSE-2.0\n",
              "//\n",
              "// Unless required by applicable law or agreed to in writing, software\n",
              "// distributed under the License is distributed on an \"AS IS\" BASIS,\n",
              "// WITHOUT WARRANTIES OR CONDITIONS OF ANY KIND, either express or implied.\n",
              "// See the License for the specific language governing permissions and\n",
              "// limitations under the License.\n",
              "\n",
              "/**\n",
              " * @fileoverview Helpers for google.colab Python module.\n",
              " */\n",
              "(function(scope) {\n",
              "function span(text, styleAttributes = {}) {\n",
              "  const element = document.createElement('span');\n",
              "  element.textContent = text;\n",
              "  for (const key of Object.keys(styleAttributes)) {\n",
              "    element.style[key] = styleAttributes[key];\n",
              "  }\n",
              "  return element;\n",
              "}\n",
              "\n",
              "// Max number of bytes which will be uploaded at a time.\n",
              "const MAX_PAYLOAD_SIZE = 100 * 1024;\n",
              "\n",
              "function _uploadFiles(inputId, outputId) {\n",
              "  const steps = uploadFilesStep(inputId, outputId);\n",
              "  const outputElement = document.getElementById(outputId);\n",
              "  // Cache steps on the outputElement to make it available for the next call\n",
              "  // to uploadFilesContinue from Python.\n",
              "  outputElement.steps = steps;\n",
              "\n",
              "  return _uploadFilesContinue(outputId);\n",
              "}\n",
              "\n",
              "// This is roughly an async generator (not supported in the browser yet),\n",
              "// where there are multiple asynchronous steps and the Python side is going\n",
              "// to poll for completion of each step.\n",
              "// This uses a Promise to block the python side on completion of each step,\n",
              "// then passes the result of the previous step as the input to the next step.\n",
              "function _uploadFilesContinue(outputId) {\n",
              "  const outputElement = document.getElementById(outputId);\n",
              "  const steps = outputElement.steps;\n",
              "\n",
              "  const next = steps.next(outputElement.lastPromiseValue);\n",
              "  return Promise.resolve(next.value.promise).then((value) => {\n",
              "    // Cache the last promise value to make it available to the next\n",
              "    // step of the generator.\n",
              "    outputElement.lastPromiseValue = value;\n",
              "    return next.value.response;\n",
              "  });\n",
              "}\n",
              "\n",
              "/**\n",
              " * Generator function which is called between each async step of the upload\n",
              " * process.\n",
              " * @param {string} inputId Element ID of the input file picker element.\n",
              " * @param {string} outputId Element ID of the output display.\n",
              " * @return {!Iterable<!Object>} Iterable of next steps.\n",
              " */\n",
              "function* uploadFilesStep(inputId, outputId) {\n",
              "  const inputElement = document.getElementById(inputId);\n",
              "  inputElement.disabled = false;\n",
              "\n",
              "  const outputElement = document.getElementById(outputId);\n",
              "  outputElement.innerHTML = '';\n",
              "\n",
              "  const pickedPromise = new Promise((resolve) => {\n",
              "    inputElement.addEventListener('change', (e) => {\n",
              "      resolve(e.target.files);\n",
              "    });\n",
              "  });\n",
              "\n",
              "  const cancel = document.createElement('button');\n",
              "  inputElement.parentElement.appendChild(cancel);\n",
              "  cancel.textContent = 'Cancel upload';\n",
              "  const cancelPromise = new Promise((resolve) => {\n",
              "    cancel.onclick = () => {\n",
              "      resolve(null);\n",
              "    };\n",
              "  });\n",
              "\n",
              "  // Wait for the user to pick the files.\n",
              "  const files = yield {\n",
              "    promise: Promise.race([pickedPromise, cancelPromise]),\n",
              "    response: {\n",
              "      action: 'starting',\n",
              "    }\n",
              "  };\n",
              "\n",
              "  cancel.remove();\n",
              "\n",
              "  // Disable the input element since further picks are not allowed.\n",
              "  inputElement.disabled = true;\n",
              "\n",
              "  if (!files) {\n",
              "    return {\n",
              "      response: {\n",
              "        action: 'complete',\n",
              "      }\n",
              "    };\n",
              "  }\n",
              "\n",
              "  for (const file of files) {\n",
              "    const li = document.createElement('li');\n",
              "    li.append(span(file.name, {fontWeight: 'bold'}));\n",
              "    li.append(span(\n",
              "        `(${file.type || 'n/a'}) - ${file.size} bytes, ` +\n",
              "        `last modified: ${\n",
              "            file.lastModifiedDate ? file.lastModifiedDate.toLocaleDateString() :\n",
              "                                    'n/a'} - `));\n",
              "    const percent = span('0% done');\n",
              "    li.appendChild(percent);\n",
              "\n",
              "    outputElement.appendChild(li);\n",
              "\n",
              "    const fileDataPromise = new Promise((resolve) => {\n",
              "      const reader = new FileReader();\n",
              "      reader.onload = (e) => {\n",
              "        resolve(e.target.result);\n",
              "      };\n",
              "      reader.readAsArrayBuffer(file);\n",
              "    });\n",
              "    // Wait for the data to be ready.\n",
              "    let fileData = yield {\n",
              "      promise: fileDataPromise,\n",
              "      response: {\n",
              "        action: 'continue',\n",
              "      }\n",
              "    };\n",
              "\n",
              "    // Use a chunked sending to avoid message size limits. See b/62115660.\n",
              "    let position = 0;\n",
              "    do {\n",
              "      const length = Math.min(fileData.byteLength - position, MAX_PAYLOAD_SIZE);\n",
              "      const chunk = new Uint8Array(fileData, position, length);\n",
              "      position += length;\n",
              "\n",
              "      const base64 = btoa(String.fromCharCode.apply(null, chunk));\n",
              "      yield {\n",
              "        response: {\n",
              "          action: 'append',\n",
              "          file: file.name,\n",
              "          data: base64,\n",
              "        },\n",
              "      };\n",
              "\n",
              "      let percentDone = fileData.byteLength === 0 ?\n",
              "          100 :\n",
              "          Math.round((position / fileData.byteLength) * 100);\n",
              "      percent.textContent = `${percentDone}% done`;\n",
              "\n",
              "    } while (position < fileData.byteLength);\n",
              "  }\n",
              "\n",
              "  // All done.\n",
              "  yield {\n",
              "    response: {\n",
              "      action: 'complete',\n",
              "    }\n",
              "  };\n",
              "}\n",
              "\n",
              "scope.google = scope.google || {};\n",
              "scope.google.colab = scope.google.colab || {};\n",
              "scope.google.colab._files = {\n",
              "  _uploadFiles,\n",
              "  _uploadFilesContinue,\n",
              "};\n",
              "})(self);\n",
              "</script> "
            ],
            "text/plain": [
              "<IPython.core.display.HTML object>"
            ]
          },
          "metadata": {},
          "output_type": "display_data"
        },
        {
          "name": "stdout",
          "output_type": "stream",
          "text": [
            "Saving [MNLP 2025 HW1] train set [PUBLIC] - train_cleaned.tsv to [MNLP 2025 HW1] train set [PUBLIC] - train_cleaned.tsv\n"
          ]
        }
      ],
      "source": [
        "# Import of the data\n",
        "\n",
        "from google.colab import files\n",
        "uploaded = files.upload()\n",
        "\n",
        "!pip install wikidata --quiet\n",
        "\n",
        "import pandas as pd\n",
        "from wikidata.client import Client\n",
        "import requests\n",
        "import seaborn as sns\n",
        "import matplotlib.pyplot as plt\n",
        "from collections import deque\n",
        "from functools import lru_cache\n",
        "from tqdm import tqdm\n",
        "\n",
        "df_train = pd.read_csv('/content/[MNLP 2025 HW1] train set [PUBLIC] - train_cleaned.tsv', sep = '\\t')\n",
        "\n",
        "!pip install datasets --quiet\n",
        "\n",
        "from datasets import load_dataset\n",
        "from huggingface_hub import login\n",
        "\n",
        "login(token=\"\")\n",
        "\n",
        "dataset = load_dataset('sapienzanlp/nlp2025_hw1_cultural_dataset')\n",
        "df_dev = dataset['validation'].to_pandas()"
      ]
    },
    {
      "cell_type": "markdown",
      "metadata": {
        "id": "RmWiWRMsnsn4"
      },
      "source": [
        "# Subclasses (P279)"
      ]
    },
    {
      "cell_type": "markdown",
      "metadata": {
        "id": "CH-sW4bbBoaR"
      },
      "source": [
        "The P279 property refers to the subclass, example : volcano is subclass of moutain.\n",
        "\n"
      ]
    },
    {
      "cell_type": "markdown",
      "metadata": {
        "id": "FfzETnR-ztpu"
      },
      "source": [
        "## Subclass depth"
      ]
    },
    {
      "cell_type": "markdown",
      "metadata": {
        "id": "2iuyxC7TzqoP"
      },
      "source": [
        " We are looking for the shortest path from the given item to a 'root' item that has not any subclass. We then define the depth of each item in the graph of subclasses as the number of nodes in the shortest path."
      ]
    },
    {
      "cell_type": "code",
      "execution_count": null,
      "metadata": {
        "id": "SW4cxTElK6Ic"
      },
      "outputs": [],
      "source": [
        "WIKIDATA_SPARQL_URL = \"https://query.wikidata.org/sparql\"\n",
        "HEADERS = {\n",
        "    \"Accept\": \"application/sparql-results+json\",\n",
        "    \"User-Agent\": \"ExplorateurWikidata/0.1 (truc@truc.com)\"\n",
        "}\n",
        "\n",
        "def extract_entity_id(url):\n",
        "    return url.strip().split(\"/\")[-1]\n",
        "\n",
        "#cache avoir requesting the same item several times during the graph search\n",
        "@lru_cache(maxsize=None)\n",
        "\n",
        "def get_superclasses(qid):\n",
        "    \"\"\"get the superclasses (P279)\"\"\"\n",
        "\n",
        "    query = f\"\"\"\n",
        "    SELECT ?superclass WHERE {{\n",
        "      wd:{qid} wdt:P279 ?superclass.\n",
        "    }}\n",
        "    \"\"\"\n",
        "    response = requests.get(WIKIDATA_SPARQL_URL, params={\"query\": query}, headers=HEADERS)\n",
        "    results = response.json()[\"results\"][\"bindings\"]\n",
        "    return tuple(r[\"superclass\"][\"value\"].split(\"/\")[-1] for r in results)\n",
        "\n",
        "def get_subclass_depth_bfs(url, max_depth=20):\n",
        "    \"\"\"get the depth by finding the shortest path with BFS\"\"\"\n",
        "    qid = extract_entity_id(url)\n",
        "    visited = set()\n",
        "    queue = deque([(qid, 1)])\n",
        "\n",
        "    while queue:\n",
        "        current_qid, depth = queue.popleft()\n",
        "        if current_qid in visited:\n",
        "            continue\n",
        "        visited.add(current_qid)\n",
        "\n",
        "        parents = get_superclasses(current_qid)\n",
        "        if not parents:\n",
        "            return depth\n",
        "        if depth >= max_depth:\n",
        "            return None\n",
        "        for parent_qid in parents:\n",
        "            queue.append((parent_qid, depth + 1))\n",
        "\n",
        "    return None\n"
      ]
    },
    {
      "cell_type": "code",
      "execution_count": null,
      "metadata": {
        "colab": {
          "base_uri": "https://localhost:8080/"
        },
        "id": "TA4IihufOXEc",
        "outputId": "cd4c7b04-9782-427d-b623-3d9c71d02ce1"
      },
      "outputs": [
        {
          "name": "stderr",
          "output_type": "stream",
          "text": [
            "100%|██████████| 6251/6251 [17:11<00:00,  6.06it/s]\n"
          ]
        }
      ],
      "source": [
        "# Application to the datasets\n",
        "tqdm.pandas()\n",
        "df_train[\"subclass_depth\"]= df_train[\"item\"].progress_apply(get_subclass_depth_bfs)"
      ]
    },
    {
      "cell_type": "code",
      "source": [
        "df_dev[\"subclass_depth\"]= df_dev[\"item\"].progress_apply(get_subclass_depth_bfs)"
      ],
      "metadata": {
        "id": "z3Ylwk85kPa_"
      },
      "execution_count": null,
      "outputs": []
    },
    {
      "cell_type": "markdown",
      "metadata": {
        "id": "2P55KXbc4mZR"
      },
      "source": [
        "## Number of subclasses downward"
      ]
    },
    {
      "cell_type": "markdown",
      "metadata": {
        "id": "DRJKmd1Rz0rN"
      },
      "source": [
        "here were a looking for the number of item that are subclass of the given item"
      ]
    },
    {
      "cell_type": "code",
      "execution_count": null,
      "metadata": {
        "id": "yFYBCWP5xtIH"
      },
      "outputs": [],
      "source": [
        "def get_direct_subclasses(url):\n",
        "    \"\"\"return the number of subclasses \"\"\"\n",
        "    qid = extract_entity_id(url)\n",
        "    query = f\"\"\"\n",
        "    SELECT ?subclass WHERE {{\n",
        "      ?subclass wdt:P279 wd:{qid} .\n",
        "    }}\n",
        "    \"\"\"\n",
        "    response = requests.get(WIKIDATA_SPARQL_URL, params={\"query\": query}, headers=HEADERS)\n",
        "    results = response.json()[\"results\"][\"bindings\"]\n",
        "\n",
        "    return len(results)\n"
      ]
    },
    {
      "cell_type": "code",
      "execution_count": null,
      "metadata": {
        "id": "8vrzw2mBTx9Q"
      },
      "outputs": [],
      "source": [
        "# Application to the datasets\n",
        "df_train[\"subclasses\"] = df_train[\"item\"].apply(get_direct_subclasses)"
      ]
    },
    {
      "cell_type": "code",
      "source": [
        "df_dev[\"subclasses\"] = df_dev[\"item\"].apply(get_direct_subclasses)"
      ],
      "metadata": {
        "id": "6DamAc0ukSZI"
      },
      "execution_count": null,
      "outputs": []
    },
    {
      "cell_type": "markdown",
      "metadata": {
        "id": "WtwuIGHw5KWl"
      },
      "source": [
        "# Instances of (P31) downward\n",
        "\n",
        "Here we explore the concept of the instances of the entity. Mainly we check how many entities on the wikipedia are the instances of the given entity, later we group the outcomes by the labels and plot them to see whether there is any meaningfull correlation"
      ]
    },
    {
      "cell_type": "code",
      "execution_count": null,
      "metadata": {
        "id": "qqtO-UBP4XaY"
      },
      "outputs": [],
      "source": [
        "def get_instances_of(url):\n",
        "  qid = extract_entity_id(url)\n",
        "  \"\"\"return  number of items that are 'instances of' the given entity\"\"\"\n",
        "  query = f\"\"\"\n",
        "  SELECT ?entity ?label WHERE {{\n",
        "    ?entity wdt:P31 wd:{qid}.\n",
        "    ?entity rdfs:label ?label .\n",
        "    FILTER(LANG(?label) = \"en\")\n",
        "  }}\n",
        "  \"\"\"\n",
        "  response = requests.get(WIKIDATA_SPARQL_URL, params={\"query\": query}, headers=HEADERS)\n",
        "  results = response.json()[\"results\"][\"bindings\"]\n",
        "\n",
        "  return len(results)\n"
      ]
    },
    {
      "cell_type": "code",
      "execution_count": null,
      "metadata": {
        "id": "e2FzgGaE6O6c"
      },
      "outputs": [],
      "source": [
        "# Application to the datasets\n",
        "df_train[\"instances_of\"] = df_train[\"item\"].apply(get_instances_of)"
      ]
    },
    {
      "cell_type": "code",
      "source": [
        "df_dev[\"instances_of\"] = df_dev[\"item\"].apply(get_instances_of)"
      ],
      "metadata": {
        "id": "NN6xM1eAkUAg"
      },
      "execution_count": null,
      "outputs": []
    },
    {
      "cell_type": "markdown",
      "metadata": {
        "id": "uQSiQnYUoSuR"
      },
      "source": [
        "# Instances of (P31) upward\n",
        "Again instances of but now in reversed way how many other entites the given item is an instance of"
      ]
    },
    {
      "cell_type": "code",
      "execution_count": null,
      "metadata": {
        "id": "NHsc38YYocC2"
      },
      "outputs": [],
      "source": [
        "def get_instances_of_up(url):\n",
        "  qid = extract_entity_id(url)\n",
        "  \"\"\"return  number of  'instances of' the given entity\"\"\"\n",
        "  query = f\"\"\"\n",
        "  SELECT ?class WHERE {{\n",
        "      wd:{qid} wdt:P31 ?class .\n",
        "    }}\n",
        "  \"\"\"\n",
        "  response = requests.get(WIKIDATA_SPARQL_URL, params={\"query\": query}, headers=HEADERS)\n",
        "  results = response.json()[\"results\"][\"bindings\"]\n",
        "\n",
        "  return len(results)"
      ]
    },
    {
      "cell_type": "code",
      "execution_count": null,
      "metadata": {
        "id": "13ih_TDtoiZl"
      },
      "outputs": [],
      "source": [
        "# Application to the datasets\n",
        "df_train[\"instances_of_up\"] = df_train[\"item\"].apply(get_instances_of_up)"
      ]
    },
    {
      "cell_type": "code",
      "source": [
        "df_dev[\"instances_of_up\"] = df_dev[\"item\"].apply(get_instances_of_up)"
      ],
      "metadata": {
        "id": "2gq5D3N4kV2w"
      },
      "execution_count": null,
      "outputs": []
    },
    {
      "cell_type": "markdown",
      "source": [
        "# Exportation"
      ],
      "metadata": {
        "id": "YJIbBuxgj8Of"
      }
    },
    {
      "cell_type": "code",
      "execution_count": null,
      "metadata": {
        "id": "u7FOsp_uBApy"
      },
      "outputs": [],
      "source": [
        "df_train.to_json('trainset_subclass_instances.json', orient='records', lines=True)\n",
        "df_dev.to_json('devset_subclass_instances.json', orient='records', lines=True)\n",
        "\n",
        "from google.colab import files\n",
        "files.download('trainset_subclass_instances.json')\n",
        "files.download('devset_subclass_instances.json')"
      ]
    }
  ],
  "metadata": {
    "colab": {
      "gpuType": "T4",
      "provenance": [],
      "include_colab_link": true
    },
    "kernelspec": {
      "display_name": "Python 3 (ipykernel)",
      "language": "python",
      "name": "python3"
    },
    "language_info": {
      "codemirror_mode": {
        "name": "ipython",
        "version": 3
      },
      "file_extension": ".py",
      "mimetype": "text/x-python",
      "name": "python",
      "nbconvert_exporter": "python",
      "pygments_lexer": "ipython3",
      "version": "3.12.9"
    }
  },
  "nbformat": 4,
  "nbformat_minor": 0
}