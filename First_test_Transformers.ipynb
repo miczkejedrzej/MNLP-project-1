{
  "nbformat": 4,
  "nbformat_minor": 0,
  "metadata": {
    "colab": {
      "provenance": [],
      "gpuType": "T4",
      "include_colab_link": true
    },
    "kernelspec": {
      "name": "python3",
      "display_name": "Python 3"
    },
    "language_info": {
      "name": "python"
    },
    "widgets": {
      "application/vnd.jupyter.widget-state+json": {
        "c814a1ae682d443db0114c11697534d0": {
          "model_module": "@jupyter-widgets/controls",
          "model_name": "HBoxModel",
          "model_module_version": "1.5.0",
          "state": {
            "_dom_classes": [],
            "_model_module": "@jupyter-widgets/controls",
            "_model_module_version": "1.5.0",
            "_model_name": "HBoxModel",
            "_view_count": null,
            "_view_module": "@jupyter-widgets/controls",
            "_view_module_version": "1.5.0",
            "_view_name": "HBoxView",
            "box_style": "",
            "children": [
              "IPY_MODEL_c2089c94b0ec472b8bde33df63230aa5",
              "IPY_MODEL_5de79e6161a74fc9ab158648e0db6ef0",
              "IPY_MODEL_ab94e92582a14c82a2543d82e10e34bb"
            ],
            "layout": "IPY_MODEL_8e0a0b8a62e44d7aa807139087a4ec98"
          }
        },
        "c2089c94b0ec472b8bde33df63230aa5": {
          "model_module": "@jupyter-widgets/controls",
          "model_name": "HTMLModel",
          "model_module_version": "1.5.0",
          "state": {
            "_dom_classes": [],
            "_model_module": "@jupyter-widgets/controls",
            "_model_module_version": "1.5.0",
            "_model_name": "HTMLModel",
            "_view_count": null,
            "_view_module": "@jupyter-widgets/controls",
            "_view_module_version": "1.5.0",
            "_view_name": "HTMLView",
            "description": "",
            "description_tooltip": null,
            "layout": "IPY_MODEL_b4b812245aec40d1a629790fb06caea2",
            "placeholder": "​",
            "style": "IPY_MODEL_610f2b64331d494b8875adfd39d48ba3",
            "value": "Map: 100%"
          }
        },
        "5de79e6161a74fc9ab158648e0db6ef0": {
          "model_module": "@jupyter-widgets/controls",
          "model_name": "FloatProgressModel",
          "model_module_version": "1.5.0",
          "state": {
            "_dom_classes": [],
            "_model_module": "@jupyter-widgets/controls",
            "_model_module_version": "1.5.0",
            "_model_name": "FloatProgressModel",
            "_view_count": null,
            "_view_module": "@jupyter-widgets/controls",
            "_view_module_version": "1.5.0",
            "_view_name": "ProgressView",
            "bar_style": "success",
            "description": "",
            "description_tooltip": null,
            "layout": "IPY_MODEL_87159e0b1d8d497784acb162d87057f3",
            "max": 6251,
            "min": 0,
            "orientation": "horizontal",
            "style": "IPY_MODEL_fee5d7e147ed48e0bbb63c694e981121",
            "value": 6251
          }
        },
        "ab94e92582a14c82a2543d82e10e34bb": {
          "model_module": "@jupyter-widgets/controls",
          "model_name": "HTMLModel",
          "model_module_version": "1.5.0",
          "state": {
            "_dom_classes": [],
            "_model_module": "@jupyter-widgets/controls",
            "_model_module_version": "1.5.0",
            "_model_name": "HTMLModel",
            "_view_count": null,
            "_view_module": "@jupyter-widgets/controls",
            "_view_module_version": "1.5.0",
            "_view_name": "HTMLView",
            "description": "",
            "description_tooltip": null,
            "layout": "IPY_MODEL_2c5f568e6d964a6eadaa0bff8fc9a806",
            "placeholder": "​",
            "style": "IPY_MODEL_f5f261456be348fa8da6880008eaa103",
            "value": " 6251/6251 [00:00&lt;00:00, 9135.84 examples/s]"
          }
        },
        "8e0a0b8a62e44d7aa807139087a4ec98": {
          "model_module": "@jupyter-widgets/base",
          "model_name": "LayoutModel",
          "model_module_version": "1.2.0",
          "state": {
            "_model_module": "@jupyter-widgets/base",
            "_model_module_version": "1.2.0",
            "_model_name": "LayoutModel",
            "_view_count": null,
            "_view_module": "@jupyter-widgets/base",
            "_view_module_version": "1.2.0",
            "_view_name": "LayoutView",
            "align_content": null,
            "align_items": null,
            "align_self": null,
            "border": null,
            "bottom": null,
            "display": null,
            "flex": null,
            "flex_flow": null,
            "grid_area": null,
            "grid_auto_columns": null,
            "grid_auto_flow": null,
            "grid_auto_rows": null,
            "grid_column": null,
            "grid_gap": null,
            "grid_row": null,
            "grid_template_areas": null,
            "grid_template_columns": null,
            "grid_template_rows": null,
            "height": null,
            "justify_content": null,
            "justify_items": null,
            "left": null,
            "margin": null,
            "max_height": null,
            "max_width": null,
            "min_height": null,
            "min_width": null,
            "object_fit": null,
            "object_position": null,
            "order": null,
            "overflow": null,
            "overflow_x": null,
            "overflow_y": null,
            "padding": null,
            "right": null,
            "top": null,
            "visibility": null,
            "width": null
          }
        },
        "b4b812245aec40d1a629790fb06caea2": {
          "model_module": "@jupyter-widgets/base",
          "model_name": "LayoutModel",
          "model_module_version": "1.2.0",
          "state": {
            "_model_module": "@jupyter-widgets/base",
            "_model_module_version": "1.2.0",
            "_model_name": "LayoutModel",
            "_view_count": null,
            "_view_module": "@jupyter-widgets/base",
            "_view_module_version": "1.2.0",
            "_view_name": "LayoutView",
            "align_content": null,
            "align_items": null,
            "align_self": null,
            "border": null,
            "bottom": null,
            "display": null,
            "flex": null,
            "flex_flow": null,
            "grid_area": null,
            "grid_auto_columns": null,
            "grid_auto_flow": null,
            "grid_auto_rows": null,
            "grid_column": null,
            "grid_gap": null,
            "grid_row": null,
            "grid_template_areas": null,
            "grid_template_columns": null,
            "grid_template_rows": null,
            "height": null,
            "justify_content": null,
            "justify_items": null,
            "left": null,
            "margin": null,
            "max_height": null,
            "max_width": null,
            "min_height": null,
            "min_width": null,
            "object_fit": null,
            "object_position": null,
            "order": null,
            "overflow": null,
            "overflow_x": null,
            "overflow_y": null,
            "padding": null,
            "right": null,
            "top": null,
            "visibility": null,
            "width": null
          }
        },
        "610f2b64331d494b8875adfd39d48ba3": {
          "model_module": "@jupyter-widgets/controls",
          "model_name": "DescriptionStyleModel",
          "model_module_version": "1.5.0",
          "state": {
            "_model_module": "@jupyter-widgets/controls",
            "_model_module_version": "1.5.0",
            "_model_name": "DescriptionStyleModel",
            "_view_count": null,
            "_view_module": "@jupyter-widgets/base",
            "_view_module_version": "1.2.0",
            "_view_name": "StyleView",
            "description_width": ""
          }
        },
        "87159e0b1d8d497784acb162d87057f3": {
          "model_module": "@jupyter-widgets/base",
          "model_name": "LayoutModel",
          "model_module_version": "1.2.0",
          "state": {
            "_model_module": "@jupyter-widgets/base",
            "_model_module_version": "1.2.0",
            "_model_name": "LayoutModel",
            "_view_count": null,
            "_view_module": "@jupyter-widgets/base",
            "_view_module_version": "1.2.0",
            "_view_name": "LayoutView",
            "align_content": null,
            "align_items": null,
            "align_self": null,
            "border": null,
            "bottom": null,
            "display": null,
            "flex": null,
            "flex_flow": null,
            "grid_area": null,
            "grid_auto_columns": null,
            "grid_auto_flow": null,
            "grid_auto_rows": null,
            "grid_column": null,
            "grid_gap": null,
            "grid_row": null,
            "grid_template_areas": null,
            "grid_template_columns": null,
            "grid_template_rows": null,
            "height": null,
            "justify_content": null,
            "justify_items": null,
            "left": null,
            "margin": null,
            "max_height": null,
            "max_width": null,
            "min_height": null,
            "min_width": null,
            "object_fit": null,
            "object_position": null,
            "order": null,
            "overflow": null,
            "overflow_x": null,
            "overflow_y": null,
            "padding": null,
            "right": null,
            "top": null,
            "visibility": null,
            "width": null
          }
        },
        "fee5d7e147ed48e0bbb63c694e981121": {
          "model_module": "@jupyter-widgets/controls",
          "model_name": "ProgressStyleModel",
          "model_module_version": "1.5.0",
          "state": {
            "_model_module": "@jupyter-widgets/controls",
            "_model_module_version": "1.5.0",
            "_model_name": "ProgressStyleModel",
            "_view_count": null,
            "_view_module": "@jupyter-widgets/base",
            "_view_module_version": "1.2.0",
            "_view_name": "StyleView",
            "bar_color": null,
            "description_width": ""
          }
        },
        "2c5f568e6d964a6eadaa0bff8fc9a806": {
          "model_module": "@jupyter-widgets/base",
          "model_name": "LayoutModel",
          "model_module_version": "1.2.0",
          "state": {
            "_model_module": "@jupyter-widgets/base",
            "_model_module_version": "1.2.0",
            "_model_name": "LayoutModel",
            "_view_count": null,
            "_view_module": "@jupyter-widgets/base",
            "_view_module_version": "1.2.0",
            "_view_name": "LayoutView",
            "align_content": null,
            "align_items": null,
            "align_self": null,
            "border": null,
            "bottom": null,
            "display": null,
            "flex": null,
            "flex_flow": null,
            "grid_area": null,
            "grid_auto_columns": null,
            "grid_auto_flow": null,
            "grid_auto_rows": null,
            "grid_column": null,
            "grid_gap": null,
            "grid_row": null,
            "grid_template_areas": null,
            "grid_template_columns": null,
            "grid_template_rows": null,
            "height": null,
            "justify_content": null,
            "justify_items": null,
            "left": null,
            "margin": null,
            "max_height": null,
            "max_width": null,
            "min_height": null,
            "min_width": null,
            "object_fit": null,
            "object_position": null,
            "order": null,
            "overflow": null,
            "overflow_x": null,
            "overflow_y": null,
            "padding": null,
            "right": null,
            "top": null,
            "visibility": null,
            "width": null
          }
        },
        "f5f261456be348fa8da6880008eaa103": {
          "model_module": "@jupyter-widgets/controls",
          "model_name": "DescriptionStyleModel",
          "model_module_version": "1.5.0",
          "state": {
            "_model_module": "@jupyter-widgets/controls",
            "_model_module_version": "1.5.0",
            "_model_name": "DescriptionStyleModel",
            "_view_count": null,
            "_view_module": "@jupyter-widgets/base",
            "_view_module_version": "1.2.0",
            "_view_name": "StyleView",
            "description_width": ""
          }
        },
        "eee9f44dd4fd402cb6835f633271c1ec": {
          "model_module": "@jupyter-widgets/controls",
          "model_name": "HBoxModel",
          "model_module_version": "1.5.0",
          "state": {
            "_dom_classes": [],
            "_model_module": "@jupyter-widgets/controls",
            "_model_module_version": "1.5.0",
            "_model_name": "HBoxModel",
            "_view_count": null,
            "_view_module": "@jupyter-widgets/controls",
            "_view_module_version": "1.5.0",
            "_view_name": "HBoxView",
            "box_style": "",
            "children": [
              "IPY_MODEL_68d8a2f52b7644b8a34b4d6a7dbdf7dd",
              "IPY_MODEL_1dd267d12df4473084c568896dab0c16",
              "IPY_MODEL_f55f35ce89064e70b4f073a4d1fcd367"
            ],
            "layout": "IPY_MODEL_f064e9b86fb348fb8c1f5290dc53517d"
          }
        },
        "68d8a2f52b7644b8a34b4d6a7dbdf7dd": {
          "model_module": "@jupyter-widgets/controls",
          "model_name": "HTMLModel",
          "model_module_version": "1.5.0",
          "state": {
            "_dom_classes": [],
            "_model_module": "@jupyter-widgets/controls",
            "_model_module_version": "1.5.0",
            "_model_name": "HTMLModel",
            "_view_count": null,
            "_view_module": "@jupyter-widgets/controls",
            "_view_module_version": "1.5.0",
            "_view_name": "HTMLView",
            "description": "",
            "description_tooltip": null,
            "layout": "IPY_MODEL_4b25ccd7163441a49768a080e6147b84",
            "placeholder": "​",
            "style": "IPY_MODEL_62ea431343144f8898e1bb4ef3d06e99",
            "value": "Map: 100%"
          }
        },
        "1dd267d12df4473084c568896dab0c16": {
          "model_module": "@jupyter-widgets/controls",
          "model_name": "FloatProgressModel",
          "model_module_version": "1.5.0",
          "state": {
            "_dom_classes": [],
            "_model_module": "@jupyter-widgets/controls",
            "_model_module_version": "1.5.0",
            "_model_name": "FloatProgressModel",
            "_view_count": null,
            "_view_module": "@jupyter-widgets/controls",
            "_view_module_version": "1.5.0",
            "_view_name": "ProgressView",
            "bar_style": "success",
            "description": "",
            "description_tooltip": null,
            "layout": "IPY_MODEL_9b33de10c9a44e619c57f133b5fd3578",
            "max": 300,
            "min": 0,
            "orientation": "horizontal",
            "style": "IPY_MODEL_4714bd838c6f4be6b8e1ce7c784d0dc4",
            "value": 300
          }
        },
        "f55f35ce89064e70b4f073a4d1fcd367": {
          "model_module": "@jupyter-widgets/controls",
          "model_name": "HTMLModel",
          "model_module_version": "1.5.0",
          "state": {
            "_dom_classes": [],
            "_model_module": "@jupyter-widgets/controls",
            "_model_module_version": "1.5.0",
            "_model_name": "HTMLModel",
            "_view_count": null,
            "_view_module": "@jupyter-widgets/controls",
            "_view_module_version": "1.5.0",
            "_view_name": "HTMLView",
            "description": "",
            "description_tooltip": null,
            "layout": "IPY_MODEL_5a4da267798c4e5e94731431bf5ba6c6",
            "placeholder": "​",
            "style": "IPY_MODEL_bba38d5a7b0449848cf356bc3d6895f4",
            "value": " 300/300 [00:00&lt;00:00, 4419.54 examples/s]"
          }
        },
        "f064e9b86fb348fb8c1f5290dc53517d": {
          "model_module": "@jupyter-widgets/base",
          "model_name": "LayoutModel",
          "model_module_version": "1.2.0",
          "state": {
            "_model_module": "@jupyter-widgets/base",
            "_model_module_version": "1.2.0",
            "_model_name": "LayoutModel",
            "_view_count": null,
            "_view_module": "@jupyter-widgets/base",
            "_view_module_version": "1.2.0",
            "_view_name": "LayoutView",
            "align_content": null,
            "align_items": null,
            "align_self": null,
            "border": null,
            "bottom": null,
            "display": null,
            "flex": null,
            "flex_flow": null,
            "grid_area": null,
            "grid_auto_columns": null,
            "grid_auto_flow": null,
            "grid_auto_rows": null,
            "grid_column": null,
            "grid_gap": null,
            "grid_row": null,
            "grid_template_areas": null,
            "grid_template_columns": null,
            "grid_template_rows": null,
            "height": null,
            "justify_content": null,
            "justify_items": null,
            "left": null,
            "margin": null,
            "max_height": null,
            "max_width": null,
            "min_height": null,
            "min_width": null,
            "object_fit": null,
            "object_position": null,
            "order": null,
            "overflow": null,
            "overflow_x": null,
            "overflow_y": null,
            "padding": null,
            "right": null,
            "top": null,
            "visibility": null,
            "width": null
          }
        },
        "4b25ccd7163441a49768a080e6147b84": {
          "model_module": "@jupyter-widgets/base",
          "model_name": "LayoutModel",
          "model_module_version": "1.2.0",
          "state": {
            "_model_module": "@jupyter-widgets/base",
            "_model_module_version": "1.2.0",
            "_model_name": "LayoutModel",
            "_view_count": null,
            "_view_module": "@jupyter-widgets/base",
            "_view_module_version": "1.2.0",
            "_view_name": "LayoutView",
            "align_content": null,
            "align_items": null,
            "align_self": null,
            "border": null,
            "bottom": null,
            "display": null,
            "flex": null,
            "flex_flow": null,
            "grid_area": null,
            "grid_auto_columns": null,
            "grid_auto_flow": null,
            "grid_auto_rows": null,
            "grid_column": null,
            "grid_gap": null,
            "grid_row": null,
            "grid_template_areas": null,
            "grid_template_columns": null,
            "grid_template_rows": null,
            "height": null,
            "justify_content": null,
            "justify_items": null,
            "left": null,
            "margin": null,
            "max_height": null,
            "max_width": null,
            "min_height": null,
            "min_width": null,
            "object_fit": null,
            "object_position": null,
            "order": null,
            "overflow": null,
            "overflow_x": null,
            "overflow_y": null,
            "padding": null,
            "right": null,
            "top": null,
            "visibility": null,
            "width": null
          }
        },
        "62ea431343144f8898e1bb4ef3d06e99": {
          "model_module": "@jupyter-widgets/controls",
          "model_name": "DescriptionStyleModel",
          "model_module_version": "1.5.0",
          "state": {
            "_model_module": "@jupyter-widgets/controls",
            "_model_module_version": "1.5.0",
            "_model_name": "DescriptionStyleModel",
            "_view_count": null,
            "_view_module": "@jupyter-widgets/base",
            "_view_module_version": "1.2.0",
            "_view_name": "StyleView",
            "description_width": ""
          }
        },
        "9b33de10c9a44e619c57f133b5fd3578": {
          "model_module": "@jupyter-widgets/base",
          "model_name": "LayoutModel",
          "model_module_version": "1.2.0",
          "state": {
            "_model_module": "@jupyter-widgets/base",
            "_model_module_version": "1.2.0",
            "_model_name": "LayoutModel",
            "_view_count": null,
            "_view_module": "@jupyter-widgets/base",
            "_view_module_version": "1.2.0",
            "_view_name": "LayoutView",
            "align_content": null,
            "align_items": null,
            "align_self": null,
            "border": null,
            "bottom": null,
            "display": null,
            "flex": null,
            "flex_flow": null,
            "grid_area": null,
            "grid_auto_columns": null,
            "grid_auto_flow": null,
            "grid_auto_rows": null,
            "grid_column": null,
            "grid_gap": null,
            "grid_row": null,
            "grid_template_areas": null,
            "grid_template_columns": null,
            "grid_template_rows": null,
            "height": null,
            "justify_content": null,
            "justify_items": null,
            "left": null,
            "margin": null,
            "max_height": null,
            "max_width": null,
            "min_height": null,
            "min_width": null,
            "object_fit": null,
            "object_position": null,
            "order": null,
            "overflow": null,
            "overflow_x": null,
            "overflow_y": null,
            "padding": null,
            "right": null,
            "top": null,
            "visibility": null,
            "width": null
          }
        },
        "4714bd838c6f4be6b8e1ce7c784d0dc4": {
          "model_module": "@jupyter-widgets/controls",
          "model_name": "ProgressStyleModel",
          "model_module_version": "1.5.0",
          "state": {
            "_model_module": "@jupyter-widgets/controls",
            "_model_module_version": "1.5.0",
            "_model_name": "ProgressStyleModel",
            "_view_count": null,
            "_view_module": "@jupyter-widgets/base",
            "_view_module_version": "1.2.0",
            "_view_name": "StyleView",
            "bar_color": null,
            "description_width": ""
          }
        },
        "5a4da267798c4e5e94731431bf5ba6c6": {
          "model_module": "@jupyter-widgets/base",
          "model_name": "LayoutModel",
          "model_module_version": "1.2.0",
          "state": {
            "_model_module": "@jupyter-widgets/base",
            "_model_module_version": "1.2.0",
            "_model_name": "LayoutModel",
            "_view_count": null,
            "_view_module": "@jupyter-widgets/base",
            "_view_module_version": "1.2.0",
            "_view_name": "LayoutView",
            "align_content": null,
            "align_items": null,
            "align_self": null,
            "border": null,
            "bottom": null,
            "display": null,
            "flex": null,
            "flex_flow": null,
            "grid_area": null,
            "grid_auto_columns": null,
            "grid_auto_flow": null,
            "grid_auto_rows": null,
            "grid_column": null,
            "grid_gap": null,
            "grid_row": null,
            "grid_template_areas": null,
            "grid_template_columns": null,
            "grid_template_rows": null,
            "height": null,
            "justify_content": null,
            "justify_items": null,
            "left": null,
            "margin": null,
            "max_height": null,
            "max_width": null,
            "min_height": null,
            "min_width": null,
            "object_fit": null,
            "object_position": null,
            "order": null,
            "overflow": null,
            "overflow_x": null,
            "overflow_y": null,
            "padding": null,
            "right": null,
            "top": null,
            "visibility": null,
            "width": null
          }
        },
        "bba38d5a7b0449848cf356bc3d6895f4": {
          "model_module": "@jupyter-widgets/controls",
          "model_name": "DescriptionStyleModel",
          "model_module_version": "1.5.0",
          "state": {
            "_model_module": "@jupyter-widgets/controls",
            "_model_module_version": "1.5.0",
            "_model_name": "DescriptionStyleModel",
            "_view_count": null,
            "_view_module": "@jupyter-widgets/base",
            "_view_module_version": "1.2.0",
            "_view_name": "StyleView",
            "description_width": ""
          }
        },
        "c336baa110df46f59d45f4db3d4ecedb": {
          "model_module": "@jupyter-widgets/controls",
          "model_name": "HBoxModel",
          "model_module_version": "1.5.0",
          "state": {
            "_dom_classes": [],
            "_model_module": "@jupyter-widgets/controls",
            "_model_module_version": "1.5.0",
            "_model_name": "HBoxModel",
            "_view_count": null,
            "_view_module": "@jupyter-widgets/controls",
            "_view_module_version": "1.5.0",
            "_view_name": "HBoxView",
            "box_style": "",
            "children": [
              "IPY_MODEL_1580090e57984eafaa5cef8a76500b7d",
              "IPY_MODEL_224730e9a58045078ad16291a2345bec",
              "IPY_MODEL_e155bb991d46450e9e590ea0c253f626"
            ],
            "layout": "IPY_MODEL_67ae8d30a5224cf0a56b6b9749b48d0b"
          }
        },
        "1580090e57984eafaa5cef8a76500b7d": {
          "model_module": "@jupyter-widgets/controls",
          "model_name": "HTMLModel",
          "model_module_version": "1.5.0",
          "state": {
            "_dom_classes": [],
            "_model_module": "@jupyter-widgets/controls",
            "_model_module_version": "1.5.0",
            "_model_name": "HTMLModel",
            "_view_count": null,
            "_view_module": "@jupyter-widgets/controls",
            "_view_module_version": "1.5.0",
            "_view_name": "HTMLView",
            "description": "",
            "description_tooltip": null,
            "layout": "IPY_MODEL_46d78c6300c648efaa548cf1a70c91ac",
            "placeholder": "​",
            "style": "IPY_MODEL_e5169ba442c2463d91029a89514d5c0e",
            "value": "Map: 100%"
          }
        },
        "224730e9a58045078ad16291a2345bec": {
          "model_module": "@jupyter-widgets/controls",
          "model_name": "FloatProgressModel",
          "model_module_version": "1.5.0",
          "state": {
            "_dom_classes": [],
            "_model_module": "@jupyter-widgets/controls",
            "_model_module_version": "1.5.0",
            "_model_name": "FloatProgressModel",
            "_view_count": null,
            "_view_module": "@jupyter-widgets/controls",
            "_view_module_version": "1.5.0",
            "_view_name": "ProgressView",
            "bar_style": "success",
            "description": "",
            "description_tooltip": null,
            "layout": "IPY_MODEL_4f85208a13104214ac9ea85eff3af2c9",
            "max": 6251,
            "min": 0,
            "orientation": "horizontal",
            "style": "IPY_MODEL_f9ad7acf01dc4b608310d6cf2bb0f0e4",
            "value": 6251
          }
        },
        "e155bb991d46450e9e590ea0c253f626": {
          "model_module": "@jupyter-widgets/controls",
          "model_name": "HTMLModel",
          "model_module_version": "1.5.0",
          "state": {
            "_dom_classes": [],
            "_model_module": "@jupyter-widgets/controls",
            "_model_module_version": "1.5.0",
            "_model_name": "HTMLModel",
            "_view_count": null,
            "_view_module": "@jupyter-widgets/controls",
            "_view_module_version": "1.5.0",
            "_view_name": "HTMLView",
            "description": "",
            "description_tooltip": null,
            "layout": "IPY_MODEL_05e0ecd12a014342b5e1322a59326c32",
            "placeholder": "​",
            "style": "IPY_MODEL_1aef9eb15f2948c285c2cd18f0551e75",
            "value": " 6251/6251 [00:00&lt;00:00, 11458.70 examples/s]"
          }
        },
        "67ae8d30a5224cf0a56b6b9749b48d0b": {
          "model_module": "@jupyter-widgets/base",
          "model_name": "LayoutModel",
          "model_module_version": "1.2.0",
          "state": {
            "_model_module": "@jupyter-widgets/base",
            "_model_module_version": "1.2.0",
            "_model_name": "LayoutModel",
            "_view_count": null,
            "_view_module": "@jupyter-widgets/base",
            "_view_module_version": "1.2.0",
            "_view_name": "LayoutView",
            "align_content": null,
            "align_items": null,
            "align_self": null,
            "border": null,
            "bottom": null,
            "display": null,
            "flex": null,
            "flex_flow": null,
            "grid_area": null,
            "grid_auto_columns": null,
            "grid_auto_flow": null,
            "grid_auto_rows": null,
            "grid_column": null,
            "grid_gap": null,
            "grid_row": null,
            "grid_template_areas": null,
            "grid_template_columns": null,
            "grid_template_rows": null,
            "height": null,
            "justify_content": null,
            "justify_items": null,
            "left": null,
            "margin": null,
            "max_height": null,
            "max_width": null,
            "min_height": null,
            "min_width": null,
            "object_fit": null,
            "object_position": null,
            "order": null,
            "overflow": null,
            "overflow_x": null,
            "overflow_y": null,
            "padding": null,
            "right": null,
            "top": null,
            "visibility": null,
            "width": null
          }
        },
        "46d78c6300c648efaa548cf1a70c91ac": {
          "model_module": "@jupyter-widgets/base",
          "model_name": "LayoutModel",
          "model_module_version": "1.2.0",
          "state": {
            "_model_module": "@jupyter-widgets/base",
            "_model_module_version": "1.2.0",
            "_model_name": "LayoutModel",
            "_view_count": null,
            "_view_module": "@jupyter-widgets/base",
            "_view_module_version": "1.2.0",
            "_view_name": "LayoutView",
            "align_content": null,
            "align_items": null,
            "align_self": null,
            "border": null,
            "bottom": null,
            "display": null,
            "flex": null,
            "flex_flow": null,
            "grid_area": null,
            "grid_auto_columns": null,
            "grid_auto_flow": null,
            "grid_auto_rows": null,
            "grid_column": null,
            "grid_gap": null,
            "grid_row": null,
            "grid_template_areas": null,
            "grid_template_columns": null,
            "grid_template_rows": null,
            "height": null,
            "justify_content": null,
            "justify_items": null,
            "left": null,
            "margin": null,
            "max_height": null,
            "max_width": null,
            "min_height": null,
            "min_width": null,
            "object_fit": null,
            "object_position": null,
            "order": null,
            "overflow": null,
            "overflow_x": null,
            "overflow_y": null,
            "padding": null,
            "right": null,
            "top": null,
            "visibility": null,
            "width": null
          }
        },
        "e5169ba442c2463d91029a89514d5c0e": {
          "model_module": "@jupyter-widgets/controls",
          "model_name": "DescriptionStyleModel",
          "model_module_version": "1.5.0",
          "state": {
            "_model_module": "@jupyter-widgets/controls",
            "_model_module_version": "1.5.0",
            "_model_name": "DescriptionStyleModel",
            "_view_count": null,
            "_view_module": "@jupyter-widgets/base",
            "_view_module_version": "1.2.0",
            "_view_name": "StyleView",
            "description_width": ""
          }
        },
        "4f85208a13104214ac9ea85eff3af2c9": {
          "model_module": "@jupyter-widgets/base",
          "model_name": "LayoutModel",
          "model_module_version": "1.2.0",
          "state": {
            "_model_module": "@jupyter-widgets/base",
            "_model_module_version": "1.2.0",
            "_model_name": "LayoutModel",
            "_view_count": null,
            "_view_module": "@jupyter-widgets/base",
            "_view_module_version": "1.2.0",
            "_view_name": "LayoutView",
            "align_content": null,
            "align_items": null,
            "align_self": null,
            "border": null,
            "bottom": null,
            "display": null,
            "flex": null,
            "flex_flow": null,
            "grid_area": null,
            "grid_auto_columns": null,
            "grid_auto_flow": null,
            "grid_auto_rows": null,
            "grid_column": null,
            "grid_gap": null,
            "grid_row": null,
            "grid_template_areas": null,
            "grid_template_columns": null,
            "grid_template_rows": null,
            "height": null,
            "justify_content": null,
            "justify_items": null,
            "left": null,
            "margin": null,
            "max_height": null,
            "max_width": null,
            "min_height": null,
            "min_width": null,
            "object_fit": null,
            "object_position": null,
            "order": null,
            "overflow": null,
            "overflow_x": null,
            "overflow_y": null,
            "padding": null,
            "right": null,
            "top": null,
            "visibility": null,
            "width": null
          }
        },
        "f9ad7acf01dc4b608310d6cf2bb0f0e4": {
          "model_module": "@jupyter-widgets/controls",
          "model_name": "ProgressStyleModel",
          "model_module_version": "1.5.0",
          "state": {
            "_model_module": "@jupyter-widgets/controls",
            "_model_module_version": "1.5.0",
            "_model_name": "ProgressStyleModel",
            "_view_count": null,
            "_view_module": "@jupyter-widgets/base",
            "_view_module_version": "1.2.0",
            "_view_name": "StyleView",
            "bar_color": null,
            "description_width": ""
          }
        },
        "05e0ecd12a014342b5e1322a59326c32": {
          "model_module": "@jupyter-widgets/base",
          "model_name": "LayoutModel",
          "model_module_version": "1.2.0",
          "state": {
            "_model_module": "@jupyter-widgets/base",
            "_model_module_version": "1.2.0",
            "_model_name": "LayoutModel",
            "_view_count": null,
            "_view_module": "@jupyter-widgets/base",
            "_view_module_version": "1.2.0",
            "_view_name": "LayoutView",
            "align_content": null,
            "align_items": null,
            "align_self": null,
            "border": null,
            "bottom": null,
            "display": null,
            "flex": null,
            "flex_flow": null,
            "grid_area": null,
            "grid_auto_columns": null,
            "grid_auto_flow": null,
            "grid_auto_rows": null,
            "grid_column": null,
            "grid_gap": null,
            "grid_row": null,
            "grid_template_areas": null,
            "grid_template_columns": null,
            "grid_template_rows": null,
            "height": null,
            "justify_content": null,
            "justify_items": null,
            "left": null,
            "margin": null,
            "max_height": null,
            "max_width": null,
            "min_height": null,
            "min_width": null,
            "object_fit": null,
            "object_position": null,
            "order": null,
            "overflow": null,
            "overflow_x": null,
            "overflow_y": null,
            "padding": null,
            "right": null,
            "top": null,
            "visibility": null,
            "width": null
          }
        },
        "1aef9eb15f2948c285c2cd18f0551e75": {
          "model_module": "@jupyter-widgets/controls",
          "model_name": "DescriptionStyleModel",
          "model_module_version": "1.5.0",
          "state": {
            "_model_module": "@jupyter-widgets/controls",
            "_model_module_version": "1.5.0",
            "_model_name": "DescriptionStyleModel",
            "_view_count": null,
            "_view_module": "@jupyter-widgets/base",
            "_view_module_version": "1.2.0",
            "_view_name": "StyleView",
            "description_width": ""
          }
        },
        "1fa5846e68474355b10d604b739ce95e": {
          "model_module": "@jupyter-widgets/controls",
          "model_name": "HBoxModel",
          "model_module_version": "1.5.0",
          "state": {
            "_dom_classes": [],
            "_model_module": "@jupyter-widgets/controls",
            "_model_module_version": "1.5.0",
            "_model_name": "HBoxModel",
            "_view_count": null,
            "_view_module": "@jupyter-widgets/controls",
            "_view_module_version": "1.5.0",
            "_view_name": "HBoxView",
            "box_style": "",
            "children": [
              "IPY_MODEL_370b98cebce34b669fee1792492514c6",
              "IPY_MODEL_b93b17d2ae984c05bce2f2557c6151c6",
              "IPY_MODEL_e6f9a0ab695c4fbba382125580ce0b67"
            ],
            "layout": "IPY_MODEL_500c76d907184d399bfeb6bff03d0fcf"
          }
        },
        "370b98cebce34b669fee1792492514c6": {
          "model_module": "@jupyter-widgets/controls",
          "model_name": "HTMLModel",
          "model_module_version": "1.5.0",
          "state": {
            "_dom_classes": [],
            "_model_module": "@jupyter-widgets/controls",
            "_model_module_version": "1.5.0",
            "_model_name": "HTMLModel",
            "_view_count": null,
            "_view_module": "@jupyter-widgets/controls",
            "_view_module_version": "1.5.0",
            "_view_name": "HTMLView",
            "description": "",
            "description_tooltip": null,
            "layout": "IPY_MODEL_1814d89665aa43e89de5525db169370d",
            "placeholder": "​",
            "style": "IPY_MODEL_e8c47c691196484bbb6078c1200020fc",
            "value": "Map: 100%"
          }
        },
        "b93b17d2ae984c05bce2f2557c6151c6": {
          "model_module": "@jupyter-widgets/controls",
          "model_name": "FloatProgressModel",
          "model_module_version": "1.5.0",
          "state": {
            "_dom_classes": [],
            "_model_module": "@jupyter-widgets/controls",
            "_model_module_version": "1.5.0",
            "_model_name": "FloatProgressModel",
            "_view_count": null,
            "_view_module": "@jupyter-widgets/controls",
            "_view_module_version": "1.5.0",
            "_view_name": "ProgressView",
            "bar_style": "success",
            "description": "",
            "description_tooltip": null,
            "layout": "IPY_MODEL_1c3026efdf7645f1bed9c0f5e9c4fea4",
            "max": 300,
            "min": 0,
            "orientation": "horizontal",
            "style": "IPY_MODEL_1a03f3eebc4e4df5bf202171e59a1fb0",
            "value": 300
          }
        },
        "e6f9a0ab695c4fbba382125580ce0b67": {
          "model_module": "@jupyter-widgets/controls",
          "model_name": "HTMLModel",
          "model_module_version": "1.5.0",
          "state": {
            "_dom_classes": [],
            "_model_module": "@jupyter-widgets/controls",
            "_model_module_version": "1.5.0",
            "_model_name": "HTMLModel",
            "_view_count": null,
            "_view_module": "@jupyter-widgets/controls",
            "_view_module_version": "1.5.0",
            "_view_name": "HTMLView",
            "description": "",
            "description_tooltip": null,
            "layout": "IPY_MODEL_0852d0941beb49769b0d70c6007d7a77",
            "placeholder": "​",
            "style": "IPY_MODEL_dc59d34af7f84eae87314a2dc0f68d72",
            "value": " 300/300 [00:00&lt;00:00, 6283.32 examples/s]"
          }
        },
        "500c76d907184d399bfeb6bff03d0fcf": {
          "model_module": "@jupyter-widgets/base",
          "model_name": "LayoutModel",
          "model_module_version": "1.2.0",
          "state": {
            "_model_module": "@jupyter-widgets/base",
            "_model_module_version": "1.2.0",
            "_model_name": "LayoutModel",
            "_view_count": null,
            "_view_module": "@jupyter-widgets/base",
            "_view_module_version": "1.2.0",
            "_view_name": "LayoutView",
            "align_content": null,
            "align_items": null,
            "align_self": null,
            "border": null,
            "bottom": null,
            "display": null,
            "flex": null,
            "flex_flow": null,
            "grid_area": null,
            "grid_auto_columns": null,
            "grid_auto_flow": null,
            "grid_auto_rows": null,
            "grid_column": null,
            "grid_gap": null,
            "grid_row": null,
            "grid_template_areas": null,
            "grid_template_columns": null,
            "grid_template_rows": null,
            "height": null,
            "justify_content": null,
            "justify_items": null,
            "left": null,
            "margin": null,
            "max_height": null,
            "max_width": null,
            "min_height": null,
            "min_width": null,
            "object_fit": null,
            "object_position": null,
            "order": null,
            "overflow": null,
            "overflow_x": null,
            "overflow_y": null,
            "padding": null,
            "right": null,
            "top": null,
            "visibility": null,
            "width": null
          }
        },
        "1814d89665aa43e89de5525db169370d": {
          "model_module": "@jupyter-widgets/base",
          "model_name": "LayoutModel",
          "model_module_version": "1.2.0",
          "state": {
            "_model_module": "@jupyter-widgets/base",
            "_model_module_version": "1.2.0",
            "_model_name": "LayoutModel",
            "_view_count": null,
            "_view_module": "@jupyter-widgets/base",
            "_view_module_version": "1.2.0",
            "_view_name": "LayoutView",
            "align_content": null,
            "align_items": null,
            "align_self": null,
            "border": null,
            "bottom": null,
            "display": null,
            "flex": null,
            "flex_flow": null,
            "grid_area": null,
            "grid_auto_columns": null,
            "grid_auto_flow": null,
            "grid_auto_rows": null,
            "grid_column": null,
            "grid_gap": null,
            "grid_row": null,
            "grid_template_areas": null,
            "grid_template_columns": null,
            "grid_template_rows": null,
            "height": null,
            "justify_content": null,
            "justify_items": null,
            "left": null,
            "margin": null,
            "max_height": null,
            "max_width": null,
            "min_height": null,
            "min_width": null,
            "object_fit": null,
            "object_position": null,
            "order": null,
            "overflow": null,
            "overflow_x": null,
            "overflow_y": null,
            "padding": null,
            "right": null,
            "top": null,
            "visibility": null,
            "width": null
          }
        },
        "e8c47c691196484bbb6078c1200020fc": {
          "model_module": "@jupyter-widgets/controls",
          "model_name": "DescriptionStyleModel",
          "model_module_version": "1.5.0",
          "state": {
            "_model_module": "@jupyter-widgets/controls",
            "_model_module_version": "1.5.0",
            "_model_name": "DescriptionStyleModel",
            "_view_count": null,
            "_view_module": "@jupyter-widgets/base",
            "_view_module_version": "1.2.0",
            "_view_name": "StyleView",
            "description_width": ""
          }
        },
        "1c3026efdf7645f1bed9c0f5e9c4fea4": {
          "model_module": "@jupyter-widgets/base",
          "model_name": "LayoutModel",
          "model_module_version": "1.2.0",
          "state": {
            "_model_module": "@jupyter-widgets/base",
            "_model_module_version": "1.2.0",
            "_model_name": "LayoutModel",
            "_view_count": null,
            "_view_module": "@jupyter-widgets/base",
            "_view_module_version": "1.2.0",
            "_view_name": "LayoutView",
            "align_content": null,
            "align_items": null,
            "align_self": null,
            "border": null,
            "bottom": null,
            "display": null,
            "flex": null,
            "flex_flow": null,
            "grid_area": null,
            "grid_auto_columns": null,
            "grid_auto_flow": null,
            "grid_auto_rows": null,
            "grid_column": null,
            "grid_gap": null,
            "grid_row": null,
            "grid_template_areas": null,
            "grid_template_columns": null,
            "grid_template_rows": null,
            "height": null,
            "justify_content": null,
            "justify_items": null,
            "left": null,
            "margin": null,
            "max_height": null,
            "max_width": null,
            "min_height": null,
            "min_width": null,
            "object_fit": null,
            "object_position": null,
            "order": null,
            "overflow": null,
            "overflow_x": null,
            "overflow_y": null,
            "padding": null,
            "right": null,
            "top": null,
            "visibility": null,
            "width": null
          }
        },
        "1a03f3eebc4e4df5bf202171e59a1fb0": {
          "model_module": "@jupyter-widgets/controls",
          "model_name": "ProgressStyleModel",
          "model_module_version": "1.5.0",
          "state": {
            "_model_module": "@jupyter-widgets/controls",
            "_model_module_version": "1.5.0",
            "_model_name": "ProgressStyleModel",
            "_view_count": null,
            "_view_module": "@jupyter-widgets/base",
            "_view_module_version": "1.2.0",
            "_view_name": "StyleView",
            "bar_color": null,
            "description_width": ""
          }
        },
        "0852d0941beb49769b0d70c6007d7a77": {
          "model_module": "@jupyter-widgets/base",
          "model_name": "LayoutModel",
          "model_module_version": "1.2.0",
          "state": {
            "_model_module": "@jupyter-widgets/base",
            "_model_module_version": "1.2.0",
            "_model_name": "LayoutModel",
            "_view_count": null,
            "_view_module": "@jupyter-widgets/base",
            "_view_module_version": "1.2.0",
            "_view_name": "LayoutView",
            "align_content": null,
            "align_items": null,
            "align_self": null,
            "border": null,
            "bottom": null,
            "display": null,
            "flex": null,
            "flex_flow": null,
            "grid_area": null,
            "grid_auto_columns": null,
            "grid_auto_flow": null,
            "grid_auto_rows": null,
            "grid_column": null,
            "grid_gap": null,
            "grid_row": null,
            "grid_template_areas": null,
            "grid_template_columns": null,
            "grid_template_rows": null,
            "height": null,
            "justify_content": null,
            "justify_items": null,
            "left": null,
            "margin": null,
            "max_height": null,
            "max_width": null,
            "min_height": null,
            "min_width": null,
            "object_fit": null,
            "object_position": null,
            "order": null,
            "overflow": null,
            "overflow_x": null,
            "overflow_y": null,
            "padding": null,
            "right": null,
            "top": null,
            "visibility": null,
            "width": null
          }
        },
        "dc59d34af7f84eae87314a2dc0f68d72": {
          "model_module": "@jupyter-widgets/controls",
          "model_name": "DescriptionStyleModel",
          "model_module_version": "1.5.0",
          "state": {
            "_model_module": "@jupyter-widgets/controls",
            "_model_module_version": "1.5.0",
            "_model_name": "DescriptionStyleModel",
            "_view_count": null,
            "_view_module": "@jupyter-widgets/base",
            "_view_module_version": "1.2.0",
            "_view_name": "StyleView",
            "description_width": ""
          }
        },
        "724b3498a321413eb30aba4bca70365c": {
          "model_module": "@jupyter-widgets/controls",
          "model_name": "HBoxModel",
          "model_module_version": "1.5.0",
          "state": {
            "_dom_classes": [],
            "_model_module": "@jupyter-widgets/controls",
            "_model_module_version": "1.5.0",
            "_model_name": "HBoxModel",
            "_view_count": null,
            "_view_module": "@jupyter-widgets/controls",
            "_view_module_version": "1.5.0",
            "_view_name": "HBoxView",
            "box_style": "",
            "children": [
              "IPY_MODEL_701c559395ef4f5dbdfba2e9e8e9487a",
              "IPY_MODEL_8d501980445f460b8c7c1ab30a9d9f7c",
              "IPY_MODEL_b846243edb624293b219807003e4a7a7"
            ],
            "layout": "IPY_MODEL_00c80a5b315f475fa5cfb85d18c08c2e"
          }
        },
        "701c559395ef4f5dbdfba2e9e8e9487a": {
          "model_module": "@jupyter-widgets/controls",
          "model_name": "HTMLModel",
          "model_module_version": "1.5.0",
          "state": {
            "_dom_classes": [],
            "_model_module": "@jupyter-widgets/controls",
            "_model_module_version": "1.5.0",
            "_model_name": "HTMLModel",
            "_view_count": null,
            "_view_module": "@jupyter-widgets/controls",
            "_view_module_version": "1.5.0",
            "_view_name": "HTMLView",
            "description": "",
            "description_tooltip": null,
            "layout": "IPY_MODEL_f27a73e83d8c4a4dbcc70a4e0e436318",
            "placeholder": "​",
            "style": "IPY_MODEL_077806f679c24fae87a631ac41637ed3",
            "value": "config.json: 100%"
          }
        },
        "8d501980445f460b8c7c1ab30a9d9f7c": {
          "model_module": "@jupyter-widgets/controls",
          "model_name": "FloatProgressModel",
          "model_module_version": "1.5.0",
          "state": {
            "_dom_classes": [],
            "_model_module": "@jupyter-widgets/controls",
            "_model_module_version": "1.5.0",
            "_model_name": "FloatProgressModel",
            "_view_count": null,
            "_view_module": "@jupyter-widgets/controls",
            "_view_module_version": "1.5.0",
            "_view_name": "ProgressView",
            "bar_style": "success",
            "description": "",
            "description_tooltip": null,
            "layout": "IPY_MODEL_4dba5a63314f496684d5514fa386e76c",
            "max": 483,
            "min": 0,
            "orientation": "horizontal",
            "style": "IPY_MODEL_5f010aa6b3174b888f2cedc984084d7c",
            "value": 483
          }
        },
        "b846243edb624293b219807003e4a7a7": {
          "model_module": "@jupyter-widgets/controls",
          "model_name": "HTMLModel",
          "model_module_version": "1.5.0",
          "state": {
            "_dom_classes": [],
            "_model_module": "@jupyter-widgets/controls",
            "_model_module_version": "1.5.0",
            "_model_name": "HTMLModel",
            "_view_count": null,
            "_view_module": "@jupyter-widgets/controls",
            "_view_module_version": "1.5.0",
            "_view_name": "HTMLView",
            "description": "",
            "description_tooltip": null,
            "layout": "IPY_MODEL_b63b0402aae24e2d94f48456a2bca680",
            "placeholder": "​",
            "style": "IPY_MODEL_c7d9e712ec2142b8b480f21b1c41a247",
            "value": " 483/483 [00:00&lt;00:00, 33.4kB/s]"
          }
        },
        "00c80a5b315f475fa5cfb85d18c08c2e": {
          "model_module": "@jupyter-widgets/base",
          "model_name": "LayoutModel",
          "model_module_version": "1.2.0",
          "state": {
            "_model_module": "@jupyter-widgets/base",
            "_model_module_version": "1.2.0",
            "_model_name": "LayoutModel",
            "_view_count": null,
            "_view_module": "@jupyter-widgets/base",
            "_view_module_version": "1.2.0",
            "_view_name": "LayoutView",
            "align_content": null,
            "align_items": null,
            "align_self": null,
            "border": null,
            "bottom": null,
            "display": null,
            "flex": null,
            "flex_flow": null,
            "grid_area": null,
            "grid_auto_columns": null,
            "grid_auto_flow": null,
            "grid_auto_rows": null,
            "grid_column": null,
            "grid_gap": null,
            "grid_row": null,
            "grid_template_areas": null,
            "grid_template_columns": null,
            "grid_template_rows": null,
            "height": null,
            "justify_content": null,
            "justify_items": null,
            "left": null,
            "margin": null,
            "max_height": null,
            "max_width": null,
            "min_height": null,
            "min_width": null,
            "object_fit": null,
            "object_position": null,
            "order": null,
            "overflow": null,
            "overflow_x": null,
            "overflow_y": null,
            "padding": null,
            "right": null,
            "top": null,
            "visibility": null,
            "width": null
          }
        },
        "f27a73e83d8c4a4dbcc70a4e0e436318": {
          "model_module": "@jupyter-widgets/base",
          "model_name": "LayoutModel",
          "model_module_version": "1.2.0",
          "state": {
            "_model_module": "@jupyter-widgets/base",
            "_model_module_version": "1.2.0",
            "_model_name": "LayoutModel",
            "_view_count": null,
            "_view_module": "@jupyter-widgets/base",
            "_view_module_version": "1.2.0",
            "_view_name": "LayoutView",
            "align_content": null,
            "align_items": null,
            "align_self": null,
            "border": null,
            "bottom": null,
            "display": null,
            "flex": null,
            "flex_flow": null,
            "grid_area": null,
            "grid_auto_columns": null,
            "grid_auto_flow": null,
            "grid_auto_rows": null,
            "grid_column": null,
            "grid_gap": null,
            "grid_row": null,
            "grid_template_areas": null,
            "grid_template_columns": null,
            "grid_template_rows": null,
            "height": null,
            "justify_content": null,
            "justify_items": null,
            "left": null,
            "margin": null,
            "max_height": null,
            "max_width": null,
            "min_height": null,
            "min_width": null,
            "object_fit": null,
            "object_position": null,
            "order": null,
            "overflow": null,
            "overflow_x": null,
            "overflow_y": null,
            "padding": null,
            "right": null,
            "top": null,
            "visibility": null,
            "width": null
          }
        },
        "077806f679c24fae87a631ac41637ed3": {
          "model_module": "@jupyter-widgets/controls",
          "model_name": "DescriptionStyleModel",
          "model_module_version": "1.5.0",
          "state": {
            "_model_module": "@jupyter-widgets/controls",
            "_model_module_version": "1.5.0",
            "_model_name": "DescriptionStyleModel",
            "_view_count": null,
            "_view_module": "@jupyter-widgets/base",
            "_view_module_version": "1.2.0",
            "_view_name": "StyleView",
            "description_width": ""
          }
        },
        "4dba5a63314f496684d5514fa386e76c": {
          "model_module": "@jupyter-widgets/base",
          "model_name": "LayoutModel",
          "model_module_version": "1.2.0",
          "state": {
            "_model_module": "@jupyter-widgets/base",
            "_model_module_version": "1.2.0",
            "_model_name": "LayoutModel",
            "_view_count": null,
            "_view_module": "@jupyter-widgets/base",
            "_view_module_version": "1.2.0",
            "_view_name": "LayoutView",
            "align_content": null,
            "align_items": null,
            "align_self": null,
            "border": null,
            "bottom": null,
            "display": null,
            "flex": null,
            "flex_flow": null,
            "grid_area": null,
            "grid_auto_columns": null,
            "grid_auto_flow": null,
            "grid_auto_rows": null,
            "grid_column": null,
            "grid_gap": null,
            "grid_row": null,
            "grid_template_areas": null,
            "grid_template_columns": null,
            "grid_template_rows": null,
            "height": null,
            "justify_content": null,
            "justify_items": null,
            "left": null,
            "margin": null,
            "max_height": null,
            "max_width": null,
            "min_height": null,
            "min_width": null,
            "object_fit": null,
            "object_position": null,
            "order": null,
            "overflow": null,
            "overflow_x": null,
            "overflow_y": null,
            "padding": null,
            "right": null,
            "top": null,
            "visibility": null,
            "width": null
          }
        },
        "5f010aa6b3174b888f2cedc984084d7c": {
          "model_module": "@jupyter-widgets/controls",
          "model_name": "ProgressStyleModel",
          "model_module_version": "1.5.0",
          "state": {
            "_model_module": "@jupyter-widgets/controls",
            "_model_module_version": "1.5.0",
            "_model_name": "ProgressStyleModel",
            "_view_count": null,
            "_view_module": "@jupyter-widgets/base",
            "_view_module_version": "1.2.0",
            "_view_name": "StyleView",
            "bar_color": null,
            "description_width": ""
          }
        },
        "b63b0402aae24e2d94f48456a2bca680": {
          "model_module": "@jupyter-widgets/base",
          "model_name": "LayoutModel",
          "model_module_version": "1.2.0",
          "state": {
            "_model_module": "@jupyter-widgets/base",
            "_model_module_version": "1.2.0",
            "_model_name": "LayoutModel",
            "_view_count": null,
            "_view_module": "@jupyter-widgets/base",
            "_view_module_version": "1.2.0",
            "_view_name": "LayoutView",
            "align_content": null,
            "align_items": null,
            "align_self": null,
            "border": null,
            "bottom": null,
            "display": null,
            "flex": null,
            "flex_flow": null,
            "grid_area": null,
            "grid_auto_columns": null,
            "grid_auto_flow": null,
            "grid_auto_rows": null,
            "grid_column": null,
            "grid_gap": null,
            "grid_row": null,
            "grid_template_areas": null,
            "grid_template_columns": null,
            "grid_template_rows": null,
            "height": null,
            "justify_content": null,
            "justify_items": null,
            "left": null,
            "margin": null,
            "max_height": null,
            "max_width": null,
            "min_height": null,
            "min_width": null,
            "object_fit": null,
            "object_position": null,
            "order": null,
            "overflow": null,
            "overflow_x": null,
            "overflow_y": null,
            "padding": null,
            "right": null,
            "top": null,
            "visibility": null,
            "width": null
          }
        },
        "c7d9e712ec2142b8b480f21b1c41a247": {
          "model_module": "@jupyter-widgets/controls",
          "model_name": "DescriptionStyleModel",
          "model_module_version": "1.5.0",
          "state": {
            "_model_module": "@jupyter-widgets/controls",
            "_model_module_version": "1.5.0",
            "_model_name": "DescriptionStyleModel",
            "_view_count": null,
            "_view_module": "@jupyter-widgets/base",
            "_view_module_version": "1.2.0",
            "_view_name": "StyleView",
            "description_width": ""
          }
        },
        "d36ef349d1a845a081e16d8e63d3d930": {
          "model_module": "@jupyter-widgets/controls",
          "model_name": "HBoxModel",
          "model_module_version": "1.5.0",
          "state": {
            "_dom_classes": [],
            "_model_module": "@jupyter-widgets/controls",
            "_model_module_version": "1.5.0",
            "_model_name": "HBoxModel",
            "_view_count": null,
            "_view_module": "@jupyter-widgets/controls",
            "_view_module_version": "1.5.0",
            "_view_name": "HBoxView",
            "box_style": "",
            "children": [
              "IPY_MODEL_5b6b53aeccdf448bbb07087325aaf7de",
              "IPY_MODEL_d1b5aca1df8d4e3fb5622f508ef8df32",
              "IPY_MODEL_4e63a6fd52a64d7594cd87bdf25f6bc5"
            ],
            "layout": "IPY_MODEL_b6e37990b88448e69d64e9dd18a22709"
          }
        },
        "5b6b53aeccdf448bbb07087325aaf7de": {
          "model_module": "@jupyter-widgets/controls",
          "model_name": "HTMLModel",
          "model_module_version": "1.5.0",
          "state": {
            "_dom_classes": [],
            "_model_module": "@jupyter-widgets/controls",
            "_model_module_version": "1.5.0",
            "_model_name": "HTMLModel",
            "_view_count": null,
            "_view_module": "@jupyter-widgets/controls",
            "_view_module_version": "1.5.0",
            "_view_name": "HTMLView",
            "description": "",
            "description_tooltip": null,
            "layout": "IPY_MODEL_509ec9cbe07f4ea2a03de017b32e1136",
            "placeholder": "​",
            "style": "IPY_MODEL_d71e51746c0a486a89d58a4ff5908d0b",
            "value": "model.safetensors: 100%"
          }
        },
        "d1b5aca1df8d4e3fb5622f508ef8df32": {
          "model_module": "@jupyter-widgets/controls",
          "model_name": "FloatProgressModel",
          "model_module_version": "1.5.0",
          "state": {
            "_dom_classes": [],
            "_model_module": "@jupyter-widgets/controls",
            "_model_module_version": "1.5.0",
            "_model_name": "FloatProgressModel",
            "_view_count": null,
            "_view_module": "@jupyter-widgets/controls",
            "_view_module_version": "1.5.0",
            "_view_name": "ProgressView",
            "bar_style": "success",
            "description": "",
            "description_tooltip": null,
            "layout": "IPY_MODEL_57f7cacf5a9b48c2a148feacc6874fc5",
            "max": 267954768,
            "min": 0,
            "orientation": "horizontal",
            "style": "IPY_MODEL_8c5347c59ca44375bd3f5b958d0a553b",
            "value": 267954768
          }
        },
        "4e63a6fd52a64d7594cd87bdf25f6bc5": {
          "model_module": "@jupyter-widgets/controls",
          "model_name": "HTMLModel",
          "model_module_version": "1.5.0",
          "state": {
            "_dom_classes": [],
            "_model_module": "@jupyter-widgets/controls",
            "_model_module_version": "1.5.0",
            "_model_name": "HTMLModel",
            "_view_count": null,
            "_view_module": "@jupyter-widgets/controls",
            "_view_module_version": "1.5.0",
            "_view_name": "HTMLView",
            "description": "",
            "description_tooltip": null,
            "layout": "IPY_MODEL_71eefc3d3688435db6db31d447013e5c",
            "placeholder": "​",
            "style": "IPY_MODEL_2bd9f7bc3d2e48c3894b64d96dc44733",
            "value": " 268M/268M [00:00&lt;00:00, 372MB/s]"
          }
        },
        "b6e37990b88448e69d64e9dd18a22709": {
          "model_module": "@jupyter-widgets/base",
          "model_name": "LayoutModel",
          "model_module_version": "1.2.0",
          "state": {
            "_model_module": "@jupyter-widgets/base",
            "_model_module_version": "1.2.0",
            "_model_name": "LayoutModel",
            "_view_count": null,
            "_view_module": "@jupyter-widgets/base",
            "_view_module_version": "1.2.0",
            "_view_name": "LayoutView",
            "align_content": null,
            "align_items": null,
            "align_self": null,
            "border": null,
            "bottom": null,
            "display": null,
            "flex": null,
            "flex_flow": null,
            "grid_area": null,
            "grid_auto_columns": null,
            "grid_auto_flow": null,
            "grid_auto_rows": null,
            "grid_column": null,
            "grid_gap": null,
            "grid_row": null,
            "grid_template_areas": null,
            "grid_template_columns": null,
            "grid_template_rows": null,
            "height": null,
            "justify_content": null,
            "justify_items": null,
            "left": null,
            "margin": null,
            "max_height": null,
            "max_width": null,
            "min_height": null,
            "min_width": null,
            "object_fit": null,
            "object_position": null,
            "order": null,
            "overflow": null,
            "overflow_x": null,
            "overflow_y": null,
            "padding": null,
            "right": null,
            "top": null,
            "visibility": null,
            "width": null
          }
        },
        "509ec9cbe07f4ea2a03de017b32e1136": {
          "model_module": "@jupyter-widgets/base",
          "model_name": "LayoutModel",
          "model_module_version": "1.2.0",
          "state": {
            "_model_module": "@jupyter-widgets/base",
            "_model_module_version": "1.2.0",
            "_model_name": "LayoutModel",
            "_view_count": null,
            "_view_module": "@jupyter-widgets/base",
            "_view_module_version": "1.2.0",
            "_view_name": "LayoutView",
            "align_content": null,
            "align_items": null,
            "align_self": null,
            "border": null,
            "bottom": null,
            "display": null,
            "flex": null,
            "flex_flow": null,
            "grid_area": null,
            "grid_auto_columns": null,
            "grid_auto_flow": null,
            "grid_auto_rows": null,
            "grid_column": null,
            "grid_gap": null,
            "grid_row": null,
            "grid_template_areas": null,
            "grid_template_columns": null,
            "grid_template_rows": null,
            "height": null,
            "justify_content": null,
            "justify_items": null,
            "left": null,
            "margin": null,
            "max_height": null,
            "max_width": null,
            "min_height": null,
            "min_width": null,
            "object_fit": null,
            "object_position": null,
            "order": null,
            "overflow": null,
            "overflow_x": null,
            "overflow_y": null,
            "padding": null,
            "right": null,
            "top": null,
            "visibility": null,
            "width": null
          }
        },
        "d71e51746c0a486a89d58a4ff5908d0b": {
          "model_module": "@jupyter-widgets/controls",
          "model_name": "DescriptionStyleModel",
          "model_module_version": "1.5.0",
          "state": {
            "_model_module": "@jupyter-widgets/controls",
            "_model_module_version": "1.5.0",
            "_model_name": "DescriptionStyleModel",
            "_view_count": null,
            "_view_module": "@jupyter-widgets/base",
            "_view_module_version": "1.2.0",
            "_view_name": "StyleView",
            "description_width": ""
          }
        },
        "57f7cacf5a9b48c2a148feacc6874fc5": {
          "model_module": "@jupyter-widgets/base",
          "model_name": "LayoutModel",
          "model_module_version": "1.2.0",
          "state": {
            "_model_module": "@jupyter-widgets/base",
            "_model_module_version": "1.2.0",
            "_model_name": "LayoutModel",
            "_view_count": null,
            "_view_module": "@jupyter-widgets/base",
            "_view_module_version": "1.2.0",
            "_view_name": "LayoutView",
            "align_content": null,
            "align_items": null,
            "align_self": null,
            "border": null,
            "bottom": null,
            "display": null,
            "flex": null,
            "flex_flow": null,
            "grid_area": null,
            "grid_auto_columns": null,
            "grid_auto_flow": null,
            "grid_auto_rows": null,
            "grid_column": null,
            "grid_gap": null,
            "grid_row": null,
            "grid_template_areas": null,
            "grid_template_columns": null,
            "grid_template_rows": null,
            "height": null,
            "justify_content": null,
            "justify_items": null,
            "left": null,
            "margin": null,
            "max_height": null,
            "max_width": null,
            "min_height": null,
            "min_width": null,
            "object_fit": null,
            "object_position": null,
            "order": null,
            "overflow": null,
            "overflow_x": null,
            "overflow_y": null,
            "padding": null,
            "right": null,
            "top": null,
            "visibility": null,
            "width": null
          }
        },
        "8c5347c59ca44375bd3f5b958d0a553b": {
          "model_module": "@jupyter-widgets/controls",
          "model_name": "ProgressStyleModel",
          "model_module_version": "1.5.0",
          "state": {
            "_model_module": "@jupyter-widgets/controls",
            "_model_module_version": "1.5.0",
            "_model_name": "ProgressStyleModel",
            "_view_count": null,
            "_view_module": "@jupyter-widgets/base",
            "_view_module_version": "1.2.0",
            "_view_name": "StyleView",
            "bar_color": null,
            "description_width": ""
          }
        },
        "71eefc3d3688435db6db31d447013e5c": {
          "model_module": "@jupyter-widgets/base",
          "model_name": "LayoutModel",
          "model_module_version": "1.2.0",
          "state": {
            "_model_module": "@jupyter-widgets/base",
            "_model_module_version": "1.2.0",
            "_model_name": "LayoutModel",
            "_view_count": null,
            "_view_module": "@jupyter-widgets/base",
            "_view_module_version": "1.2.0",
            "_view_name": "LayoutView",
            "align_content": null,
            "align_items": null,
            "align_self": null,
            "border": null,
            "bottom": null,
            "display": null,
            "flex": null,
            "flex_flow": null,
            "grid_area": null,
            "grid_auto_columns": null,
            "grid_auto_flow": null,
            "grid_auto_rows": null,
            "grid_column": null,
            "grid_gap": null,
            "grid_row": null,
            "grid_template_areas": null,
            "grid_template_columns": null,
            "grid_template_rows": null,
            "height": null,
            "justify_content": null,
            "justify_items": null,
            "left": null,
            "margin": null,
            "max_height": null,
            "max_width": null,
            "min_height": null,
            "min_width": null,
            "object_fit": null,
            "object_position": null,
            "order": null,
            "overflow": null,
            "overflow_x": null,
            "overflow_y": null,
            "padding": null,
            "right": null,
            "top": null,
            "visibility": null,
            "width": null
          }
        },
        "2bd9f7bc3d2e48c3894b64d96dc44733": {
          "model_module": "@jupyter-widgets/controls",
          "model_name": "DescriptionStyleModel",
          "model_module_version": "1.5.0",
          "state": {
            "_model_module": "@jupyter-widgets/controls",
            "_model_module_version": "1.5.0",
            "_model_name": "DescriptionStyleModel",
            "_view_count": null,
            "_view_module": "@jupyter-widgets/base",
            "_view_module_version": "1.2.0",
            "_view_name": "StyleView",
            "description_width": ""
          }
        },
        "d605c56109214ed591f6f61b5aab70d8": {
          "model_module": "@jupyter-widgets/controls",
          "model_name": "HBoxModel",
          "model_module_version": "1.5.0",
          "state": {
            "_dom_classes": [],
            "_model_module": "@jupyter-widgets/controls",
            "_model_module_version": "1.5.0",
            "_model_name": "HBoxModel",
            "_view_count": null,
            "_view_module": "@jupyter-widgets/controls",
            "_view_module_version": "1.5.0",
            "_view_name": "HBoxView",
            "box_style": "",
            "children": [
              "IPY_MODEL_a8432520a9a04441ac91ef3f0ba57a49",
              "IPY_MODEL_79de6e968f344dd292691f33343890b3",
              "IPY_MODEL_d3794c2844e3473c8ec3c6b28ca5632a"
            ],
            "layout": "IPY_MODEL_517e711d35b74948965b550b6e6f85cc"
          }
        },
        "a8432520a9a04441ac91ef3f0ba57a49": {
          "model_module": "@jupyter-widgets/controls",
          "model_name": "HTMLModel",
          "model_module_version": "1.5.0",
          "state": {
            "_dom_classes": [],
            "_model_module": "@jupyter-widgets/controls",
            "_model_module_version": "1.5.0",
            "_model_name": "HTMLModel",
            "_view_count": null,
            "_view_module": "@jupyter-widgets/controls",
            "_view_module_version": "1.5.0",
            "_view_name": "HTMLView",
            "description": "",
            "description_tooltip": null,
            "layout": "IPY_MODEL_7964aa34c5bf407f8abb8c2776fa0841",
            "placeholder": "​",
            "style": "IPY_MODEL_6cf96ecb974a441ba14e89f643c5f3bb",
            "value": "tokenizer_config.json: 100%"
          }
        },
        "79de6e968f344dd292691f33343890b3": {
          "model_module": "@jupyter-widgets/controls",
          "model_name": "FloatProgressModel",
          "model_module_version": "1.5.0",
          "state": {
            "_dom_classes": [],
            "_model_module": "@jupyter-widgets/controls",
            "_model_module_version": "1.5.0",
            "_model_name": "FloatProgressModel",
            "_view_count": null,
            "_view_module": "@jupyter-widgets/controls",
            "_view_module_version": "1.5.0",
            "_view_name": "ProgressView",
            "bar_style": "success",
            "description": "",
            "description_tooltip": null,
            "layout": "IPY_MODEL_31e8066ce1e0478585b03c4440bb5ba8",
            "max": 48,
            "min": 0,
            "orientation": "horizontal",
            "style": "IPY_MODEL_bd8d720c3be7456b8d762cf97cbe32cd",
            "value": 48
          }
        },
        "d3794c2844e3473c8ec3c6b28ca5632a": {
          "model_module": "@jupyter-widgets/controls",
          "model_name": "HTMLModel",
          "model_module_version": "1.5.0",
          "state": {
            "_dom_classes": [],
            "_model_module": "@jupyter-widgets/controls",
            "_model_module_version": "1.5.0",
            "_model_name": "HTMLModel",
            "_view_count": null,
            "_view_module": "@jupyter-widgets/controls",
            "_view_module_version": "1.5.0",
            "_view_name": "HTMLView",
            "description": "",
            "description_tooltip": null,
            "layout": "IPY_MODEL_c42579dcd41f40a3a7bd157eafda06a2",
            "placeholder": "​",
            "style": "IPY_MODEL_3c0503e7f5174579ab137f58744817d1",
            "value": " 48.0/48.0 [00:00&lt;00:00, 3.82kB/s]"
          }
        },
        "517e711d35b74948965b550b6e6f85cc": {
          "model_module": "@jupyter-widgets/base",
          "model_name": "LayoutModel",
          "model_module_version": "1.2.0",
          "state": {
            "_model_module": "@jupyter-widgets/base",
            "_model_module_version": "1.2.0",
            "_model_name": "LayoutModel",
            "_view_count": null,
            "_view_module": "@jupyter-widgets/base",
            "_view_module_version": "1.2.0",
            "_view_name": "LayoutView",
            "align_content": null,
            "align_items": null,
            "align_self": null,
            "border": null,
            "bottom": null,
            "display": null,
            "flex": null,
            "flex_flow": null,
            "grid_area": null,
            "grid_auto_columns": null,
            "grid_auto_flow": null,
            "grid_auto_rows": null,
            "grid_column": null,
            "grid_gap": null,
            "grid_row": null,
            "grid_template_areas": null,
            "grid_template_columns": null,
            "grid_template_rows": null,
            "height": null,
            "justify_content": null,
            "justify_items": null,
            "left": null,
            "margin": null,
            "max_height": null,
            "max_width": null,
            "min_height": null,
            "min_width": null,
            "object_fit": null,
            "object_position": null,
            "order": null,
            "overflow": null,
            "overflow_x": null,
            "overflow_y": null,
            "padding": null,
            "right": null,
            "top": null,
            "visibility": null,
            "width": null
          }
        },
        "7964aa34c5bf407f8abb8c2776fa0841": {
          "model_module": "@jupyter-widgets/base",
          "model_name": "LayoutModel",
          "model_module_version": "1.2.0",
          "state": {
            "_model_module": "@jupyter-widgets/base",
            "_model_module_version": "1.2.0",
            "_model_name": "LayoutModel",
            "_view_count": null,
            "_view_module": "@jupyter-widgets/base",
            "_view_module_version": "1.2.0",
            "_view_name": "LayoutView",
            "align_content": null,
            "align_items": null,
            "align_self": null,
            "border": null,
            "bottom": null,
            "display": null,
            "flex": null,
            "flex_flow": null,
            "grid_area": null,
            "grid_auto_columns": null,
            "grid_auto_flow": null,
            "grid_auto_rows": null,
            "grid_column": null,
            "grid_gap": null,
            "grid_row": null,
            "grid_template_areas": null,
            "grid_template_columns": null,
            "grid_template_rows": null,
            "height": null,
            "justify_content": null,
            "justify_items": null,
            "left": null,
            "margin": null,
            "max_height": null,
            "max_width": null,
            "min_height": null,
            "min_width": null,
            "object_fit": null,
            "object_position": null,
            "order": null,
            "overflow": null,
            "overflow_x": null,
            "overflow_y": null,
            "padding": null,
            "right": null,
            "top": null,
            "visibility": null,
            "width": null
          }
        },
        "6cf96ecb974a441ba14e89f643c5f3bb": {
          "model_module": "@jupyter-widgets/controls",
          "model_name": "DescriptionStyleModel",
          "model_module_version": "1.5.0",
          "state": {
            "_model_module": "@jupyter-widgets/controls",
            "_model_module_version": "1.5.0",
            "_model_name": "DescriptionStyleModel",
            "_view_count": null,
            "_view_module": "@jupyter-widgets/base",
            "_view_module_version": "1.2.0",
            "_view_name": "StyleView",
            "description_width": ""
          }
        },
        "31e8066ce1e0478585b03c4440bb5ba8": {
          "model_module": "@jupyter-widgets/base",
          "model_name": "LayoutModel",
          "model_module_version": "1.2.0",
          "state": {
            "_model_module": "@jupyter-widgets/base",
            "_model_module_version": "1.2.0",
            "_model_name": "LayoutModel",
            "_view_count": null,
            "_view_module": "@jupyter-widgets/base",
            "_view_module_version": "1.2.0",
            "_view_name": "LayoutView",
            "align_content": null,
            "align_items": null,
            "align_self": null,
            "border": null,
            "bottom": null,
            "display": null,
            "flex": null,
            "flex_flow": null,
            "grid_area": null,
            "grid_auto_columns": null,
            "grid_auto_flow": null,
            "grid_auto_rows": null,
            "grid_column": null,
            "grid_gap": null,
            "grid_row": null,
            "grid_template_areas": null,
            "grid_template_columns": null,
            "grid_template_rows": null,
            "height": null,
            "justify_content": null,
            "justify_items": null,
            "left": null,
            "margin": null,
            "max_height": null,
            "max_width": null,
            "min_height": null,
            "min_width": null,
            "object_fit": null,
            "object_position": null,
            "order": null,
            "overflow": null,
            "overflow_x": null,
            "overflow_y": null,
            "padding": null,
            "right": null,
            "top": null,
            "visibility": null,
            "width": null
          }
        },
        "bd8d720c3be7456b8d762cf97cbe32cd": {
          "model_module": "@jupyter-widgets/controls",
          "model_name": "ProgressStyleModel",
          "model_module_version": "1.5.0",
          "state": {
            "_model_module": "@jupyter-widgets/controls",
            "_model_module_version": "1.5.0",
            "_model_name": "ProgressStyleModel",
            "_view_count": null,
            "_view_module": "@jupyter-widgets/base",
            "_view_module_version": "1.2.0",
            "_view_name": "StyleView",
            "bar_color": null,
            "description_width": ""
          }
        },
        "c42579dcd41f40a3a7bd157eafda06a2": {
          "model_module": "@jupyter-widgets/base",
          "model_name": "LayoutModel",
          "model_module_version": "1.2.0",
          "state": {
            "_model_module": "@jupyter-widgets/base",
            "_model_module_version": "1.2.0",
            "_model_name": "LayoutModel",
            "_view_count": null,
            "_view_module": "@jupyter-widgets/base",
            "_view_module_version": "1.2.0",
            "_view_name": "LayoutView",
            "align_content": null,
            "align_items": null,
            "align_self": null,
            "border": null,
            "bottom": null,
            "display": null,
            "flex": null,
            "flex_flow": null,
            "grid_area": null,
            "grid_auto_columns": null,
            "grid_auto_flow": null,
            "grid_auto_rows": null,
            "grid_column": null,
            "grid_gap": null,
            "grid_row": null,
            "grid_template_areas": null,
            "grid_template_columns": null,
            "grid_template_rows": null,
            "height": null,
            "justify_content": null,
            "justify_items": null,
            "left": null,
            "margin": null,
            "max_height": null,
            "max_width": null,
            "min_height": null,
            "min_width": null,
            "object_fit": null,
            "object_position": null,
            "order": null,
            "overflow": null,
            "overflow_x": null,
            "overflow_y": null,
            "padding": null,
            "right": null,
            "top": null,
            "visibility": null,
            "width": null
          }
        },
        "3c0503e7f5174579ab137f58744817d1": {
          "model_module": "@jupyter-widgets/controls",
          "model_name": "DescriptionStyleModel",
          "model_module_version": "1.5.0",
          "state": {
            "_model_module": "@jupyter-widgets/controls",
            "_model_module_version": "1.5.0",
            "_model_name": "DescriptionStyleModel",
            "_view_count": null,
            "_view_module": "@jupyter-widgets/base",
            "_view_module_version": "1.2.0",
            "_view_name": "StyleView",
            "description_width": ""
          }
        },
        "f913ffeaba9a44179738953914ef1d69": {
          "model_module": "@jupyter-widgets/controls",
          "model_name": "HBoxModel",
          "model_module_version": "1.5.0",
          "state": {
            "_dom_classes": [],
            "_model_module": "@jupyter-widgets/controls",
            "_model_module_version": "1.5.0",
            "_model_name": "HBoxModel",
            "_view_count": null,
            "_view_module": "@jupyter-widgets/controls",
            "_view_module_version": "1.5.0",
            "_view_name": "HBoxView",
            "box_style": "",
            "children": [
              "IPY_MODEL_16308f4476aa499385a55c3ca5861ed0",
              "IPY_MODEL_4cdd01870ea94a109e8de6fc1e42ba7e",
              "IPY_MODEL_e9b04db869944d538944fbbe4f7a73ef"
            ],
            "layout": "IPY_MODEL_e004520f9af54aa2944ad58c83283454"
          }
        },
        "16308f4476aa499385a55c3ca5861ed0": {
          "model_module": "@jupyter-widgets/controls",
          "model_name": "HTMLModel",
          "model_module_version": "1.5.0",
          "state": {
            "_dom_classes": [],
            "_model_module": "@jupyter-widgets/controls",
            "_model_module_version": "1.5.0",
            "_model_name": "HTMLModel",
            "_view_count": null,
            "_view_module": "@jupyter-widgets/controls",
            "_view_module_version": "1.5.0",
            "_view_name": "HTMLView",
            "description": "",
            "description_tooltip": null,
            "layout": "IPY_MODEL_5b432b36984549cc93609af9166240d9",
            "placeholder": "​",
            "style": "IPY_MODEL_d33a492e4b8d4578874238c5860bcc02",
            "value": "vocab.txt: 100%"
          }
        },
        "4cdd01870ea94a109e8de6fc1e42ba7e": {
          "model_module": "@jupyter-widgets/controls",
          "model_name": "FloatProgressModel",
          "model_module_version": "1.5.0",
          "state": {
            "_dom_classes": [],
            "_model_module": "@jupyter-widgets/controls",
            "_model_module_version": "1.5.0",
            "_model_name": "FloatProgressModel",
            "_view_count": null,
            "_view_module": "@jupyter-widgets/controls",
            "_view_module_version": "1.5.0",
            "_view_name": "ProgressView",
            "bar_style": "success",
            "description": "",
            "description_tooltip": null,
            "layout": "IPY_MODEL_a951f38f297d40708292b8bc4d848824",
            "max": 231508,
            "min": 0,
            "orientation": "horizontal",
            "style": "IPY_MODEL_409b96175c294e4f9c87b686d02f41c6",
            "value": 231508
          }
        },
        "e9b04db869944d538944fbbe4f7a73ef": {
          "model_module": "@jupyter-widgets/controls",
          "model_name": "HTMLModel",
          "model_module_version": "1.5.0",
          "state": {
            "_dom_classes": [],
            "_model_module": "@jupyter-widgets/controls",
            "_model_module_version": "1.5.0",
            "_model_name": "HTMLModel",
            "_view_count": null,
            "_view_module": "@jupyter-widgets/controls",
            "_view_module_version": "1.5.0",
            "_view_name": "HTMLView",
            "description": "",
            "description_tooltip": null,
            "layout": "IPY_MODEL_c812eef0b12146ed90297fd324ce979d",
            "placeholder": "​",
            "style": "IPY_MODEL_96356a4179134a479de7c813f0332a52",
            "value": " 232k/232k [00:00&lt;00:00, 16.6MB/s]"
          }
        },
        "e004520f9af54aa2944ad58c83283454": {
          "model_module": "@jupyter-widgets/base",
          "model_name": "LayoutModel",
          "model_module_version": "1.2.0",
          "state": {
            "_model_module": "@jupyter-widgets/base",
            "_model_module_version": "1.2.0",
            "_model_name": "LayoutModel",
            "_view_count": null,
            "_view_module": "@jupyter-widgets/base",
            "_view_module_version": "1.2.0",
            "_view_name": "LayoutView",
            "align_content": null,
            "align_items": null,
            "align_self": null,
            "border": null,
            "bottom": null,
            "display": null,
            "flex": null,
            "flex_flow": null,
            "grid_area": null,
            "grid_auto_columns": null,
            "grid_auto_flow": null,
            "grid_auto_rows": null,
            "grid_column": null,
            "grid_gap": null,
            "grid_row": null,
            "grid_template_areas": null,
            "grid_template_columns": null,
            "grid_template_rows": null,
            "height": null,
            "justify_content": null,
            "justify_items": null,
            "left": null,
            "margin": null,
            "max_height": null,
            "max_width": null,
            "min_height": null,
            "min_width": null,
            "object_fit": null,
            "object_position": null,
            "order": null,
            "overflow": null,
            "overflow_x": null,
            "overflow_y": null,
            "padding": null,
            "right": null,
            "top": null,
            "visibility": null,
            "width": null
          }
        },
        "5b432b36984549cc93609af9166240d9": {
          "model_module": "@jupyter-widgets/base",
          "model_name": "LayoutModel",
          "model_module_version": "1.2.0",
          "state": {
            "_model_module": "@jupyter-widgets/base",
            "_model_module_version": "1.2.0",
            "_model_name": "LayoutModel",
            "_view_count": null,
            "_view_module": "@jupyter-widgets/base",
            "_view_module_version": "1.2.0",
            "_view_name": "LayoutView",
            "align_content": null,
            "align_items": null,
            "align_self": null,
            "border": null,
            "bottom": null,
            "display": null,
            "flex": null,
            "flex_flow": null,
            "grid_area": null,
            "grid_auto_columns": null,
            "grid_auto_flow": null,
            "grid_auto_rows": null,
            "grid_column": null,
            "grid_gap": null,
            "grid_row": null,
            "grid_template_areas": null,
            "grid_template_columns": null,
            "grid_template_rows": null,
            "height": null,
            "justify_content": null,
            "justify_items": null,
            "left": null,
            "margin": null,
            "max_height": null,
            "max_width": null,
            "min_height": null,
            "min_width": null,
            "object_fit": null,
            "object_position": null,
            "order": null,
            "overflow": null,
            "overflow_x": null,
            "overflow_y": null,
            "padding": null,
            "right": null,
            "top": null,
            "visibility": null,
            "width": null
          }
        },
        "d33a492e4b8d4578874238c5860bcc02": {
          "model_module": "@jupyter-widgets/controls",
          "model_name": "DescriptionStyleModel",
          "model_module_version": "1.5.0",
          "state": {
            "_model_module": "@jupyter-widgets/controls",
            "_model_module_version": "1.5.0",
            "_model_name": "DescriptionStyleModel",
            "_view_count": null,
            "_view_module": "@jupyter-widgets/base",
            "_view_module_version": "1.2.0",
            "_view_name": "StyleView",
            "description_width": ""
          }
        },
        "a951f38f297d40708292b8bc4d848824": {
          "model_module": "@jupyter-widgets/base",
          "model_name": "LayoutModel",
          "model_module_version": "1.2.0",
          "state": {
            "_model_module": "@jupyter-widgets/base",
            "_model_module_version": "1.2.0",
            "_model_name": "LayoutModel",
            "_view_count": null,
            "_view_module": "@jupyter-widgets/base",
            "_view_module_version": "1.2.0",
            "_view_name": "LayoutView",
            "align_content": null,
            "align_items": null,
            "align_self": null,
            "border": null,
            "bottom": null,
            "display": null,
            "flex": null,
            "flex_flow": null,
            "grid_area": null,
            "grid_auto_columns": null,
            "grid_auto_flow": null,
            "grid_auto_rows": null,
            "grid_column": null,
            "grid_gap": null,
            "grid_row": null,
            "grid_template_areas": null,
            "grid_template_columns": null,
            "grid_template_rows": null,
            "height": null,
            "justify_content": null,
            "justify_items": null,
            "left": null,
            "margin": null,
            "max_height": null,
            "max_width": null,
            "min_height": null,
            "min_width": null,
            "object_fit": null,
            "object_position": null,
            "order": null,
            "overflow": null,
            "overflow_x": null,
            "overflow_y": null,
            "padding": null,
            "right": null,
            "top": null,
            "visibility": null,
            "width": null
          }
        },
        "409b96175c294e4f9c87b686d02f41c6": {
          "model_module": "@jupyter-widgets/controls",
          "model_name": "ProgressStyleModel",
          "model_module_version": "1.5.0",
          "state": {
            "_model_module": "@jupyter-widgets/controls",
            "_model_module_version": "1.5.0",
            "_model_name": "ProgressStyleModel",
            "_view_count": null,
            "_view_module": "@jupyter-widgets/base",
            "_view_module_version": "1.2.0",
            "_view_name": "StyleView",
            "bar_color": null,
            "description_width": ""
          }
        },
        "c812eef0b12146ed90297fd324ce979d": {
          "model_module": "@jupyter-widgets/base",
          "model_name": "LayoutModel",
          "model_module_version": "1.2.0",
          "state": {
            "_model_module": "@jupyter-widgets/base",
            "_model_module_version": "1.2.0",
            "_model_name": "LayoutModel",
            "_view_count": null,
            "_view_module": "@jupyter-widgets/base",
            "_view_module_version": "1.2.0",
            "_view_name": "LayoutView",
            "align_content": null,
            "align_items": null,
            "align_self": null,
            "border": null,
            "bottom": null,
            "display": null,
            "flex": null,
            "flex_flow": null,
            "grid_area": null,
            "grid_auto_columns": null,
            "grid_auto_flow": null,
            "grid_auto_rows": null,
            "grid_column": null,
            "grid_gap": null,
            "grid_row": null,
            "grid_template_areas": null,
            "grid_template_columns": null,
            "grid_template_rows": null,
            "height": null,
            "justify_content": null,
            "justify_items": null,
            "left": null,
            "margin": null,
            "max_height": null,
            "max_width": null,
            "min_height": null,
            "min_width": null,
            "object_fit": null,
            "object_position": null,
            "order": null,
            "overflow": null,
            "overflow_x": null,
            "overflow_y": null,
            "padding": null,
            "right": null,
            "top": null,
            "visibility": null,
            "width": null
          }
        },
        "96356a4179134a479de7c813f0332a52": {
          "model_module": "@jupyter-widgets/controls",
          "model_name": "DescriptionStyleModel",
          "model_module_version": "1.5.0",
          "state": {
            "_model_module": "@jupyter-widgets/controls",
            "_model_module_version": "1.5.0",
            "_model_name": "DescriptionStyleModel",
            "_view_count": null,
            "_view_module": "@jupyter-widgets/base",
            "_view_module_version": "1.2.0",
            "_view_name": "StyleView",
            "description_width": ""
          }
        },
        "17c9766c83754daca72438f9b5c66ffd": {
          "model_module": "@jupyter-widgets/controls",
          "model_name": "HBoxModel",
          "model_module_version": "1.5.0",
          "state": {
            "_dom_classes": [],
            "_model_module": "@jupyter-widgets/controls",
            "_model_module_version": "1.5.0",
            "_model_name": "HBoxModel",
            "_view_count": null,
            "_view_module": "@jupyter-widgets/controls",
            "_view_module_version": "1.5.0",
            "_view_name": "HBoxView",
            "box_style": "",
            "children": [
              "IPY_MODEL_6fef75bf4dea4b94a734adb4eae5f622",
              "IPY_MODEL_ddce47eb9679428c95aded6b2686e9b4",
              "IPY_MODEL_2c95084d88f64465a8b469806447eea3"
            ],
            "layout": "IPY_MODEL_e562ce4d16ce4d81a40e0c91b0ccdf68"
          }
        },
        "6fef75bf4dea4b94a734adb4eae5f622": {
          "model_module": "@jupyter-widgets/controls",
          "model_name": "HTMLModel",
          "model_module_version": "1.5.0",
          "state": {
            "_dom_classes": [],
            "_model_module": "@jupyter-widgets/controls",
            "_model_module_version": "1.5.0",
            "_model_name": "HTMLModel",
            "_view_count": null,
            "_view_module": "@jupyter-widgets/controls",
            "_view_module_version": "1.5.0",
            "_view_name": "HTMLView",
            "description": "",
            "description_tooltip": null,
            "layout": "IPY_MODEL_972a2c4774ce4258abdd2021fbced141",
            "placeholder": "​",
            "style": "IPY_MODEL_b707cc3b2bd341e98caca9e5b7f44def",
            "value": "tokenizer.json: 100%"
          }
        },
        "ddce47eb9679428c95aded6b2686e9b4": {
          "model_module": "@jupyter-widgets/controls",
          "model_name": "FloatProgressModel",
          "model_module_version": "1.5.0",
          "state": {
            "_dom_classes": [],
            "_model_module": "@jupyter-widgets/controls",
            "_model_module_version": "1.5.0",
            "_model_name": "FloatProgressModel",
            "_view_count": null,
            "_view_module": "@jupyter-widgets/controls",
            "_view_module_version": "1.5.0",
            "_view_name": "ProgressView",
            "bar_style": "success",
            "description": "",
            "description_tooltip": null,
            "layout": "IPY_MODEL_5df99b6ded994bc7b4431944b22743ac",
            "max": 466062,
            "min": 0,
            "orientation": "horizontal",
            "style": "IPY_MODEL_b79e09ffa91d4978b7f41437538cc153",
            "value": 466062
          }
        },
        "2c95084d88f64465a8b469806447eea3": {
          "model_module": "@jupyter-widgets/controls",
          "model_name": "HTMLModel",
          "model_module_version": "1.5.0",
          "state": {
            "_dom_classes": [],
            "_model_module": "@jupyter-widgets/controls",
            "_model_module_version": "1.5.0",
            "_model_name": "HTMLModel",
            "_view_count": null,
            "_view_module": "@jupyter-widgets/controls",
            "_view_module_version": "1.5.0",
            "_view_name": "HTMLView",
            "description": "",
            "description_tooltip": null,
            "layout": "IPY_MODEL_f55af437e9594ed5a7b6a0fea8b60799",
            "placeholder": "​",
            "style": "IPY_MODEL_2629fd2a4bcd4b53a5d6354ea207c211",
            "value": " 466k/466k [00:00&lt;00:00, 2.14MB/s]"
          }
        },
        "e562ce4d16ce4d81a40e0c91b0ccdf68": {
          "model_module": "@jupyter-widgets/base",
          "model_name": "LayoutModel",
          "model_module_version": "1.2.0",
          "state": {
            "_model_module": "@jupyter-widgets/base",
            "_model_module_version": "1.2.0",
            "_model_name": "LayoutModel",
            "_view_count": null,
            "_view_module": "@jupyter-widgets/base",
            "_view_module_version": "1.2.0",
            "_view_name": "LayoutView",
            "align_content": null,
            "align_items": null,
            "align_self": null,
            "border": null,
            "bottom": null,
            "display": null,
            "flex": null,
            "flex_flow": null,
            "grid_area": null,
            "grid_auto_columns": null,
            "grid_auto_flow": null,
            "grid_auto_rows": null,
            "grid_column": null,
            "grid_gap": null,
            "grid_row": null,
            "grid_template_areas": null,
            "grid_template_columns": null,
            "grid_template_rows": null,
            "height": null,
            "justify_content": null,
            "justify_items": null,
            "left": null,
            "margin": null,
            "max_height": null,
            "max_width": null,
            "min_height": null,
            "min_width": null,
            "object_fit": null,
            "object_position": null,
            "order": null,
            "overflow": null,
            "overflow_x": null,
            "overflow_y": null,
            "padding": null,
            "right": null,
            "top": null,
            "visibility": null,
            "width": null
          }
        },
        "972a2c4774ce4258abdd2021fbced141": {
          "model_module": "@jupyter-widgets/base",
          "model_name": "LayoutModel",
          "model_module_version": "1.2.0",
          "state": {
            "_model_module": "@jupyter-widgets/base",
            "_model_module_version": "1.2.0",
            "_model_name": "LayoutModel",
            "_view_count": null,
            "_view_module": "@jupyter-widgets/base",
            "_view_module_version": "1.2.0",
            "_view_name": "LayoutView",
            "align_content": null,
            "align_items": null,
            "align_self": null,
            "border": null,
            "bottom": null,
            "display": null,
            "flex": null,
            "flex_flow": null,
            "grid_area": null,
            "grid_auto_columns": null,
            "grid_auto_flow": null,
            "grid_auto_rows": null,
            "grid_column": null,
            "grid_gap": null,
            "grid_row": null,
            "grid_template_areas": null,
            "grid_template_columns": null,
            "grid_template_rows": null,
            "height": null,
            "justify_content": null,
            "justify_items": null,
            "left": null,
            "margin": null,
            "max_height": null,
            "max_width": null,
            "min_height": null,
            "min_width": null,
            "object_fit": null,
            "object_position": null,
            "order": null,
            "overflow": null,
            "overflow_x": null,
            "overflow_y": null,
            "padding": null,
            "right": null,
            "top": null,
            "visibility": null,
            "width": null
          }
        },
        "b707cc3b2bd341e98caca9e5b7f44def": {
          "model_module": "@jupyter-widgets/controls",
          "model_name": "DescriptionStyleModel",
          "model_module_version": "1.5.0",
          "state": {
            "_model_module": "@jupyter-widgets/controls",
            "_model_module_version": "1.5.0",
            "_model_name": "DescriptionStyleModel",
            "_view_count": null,
            "_view_module": "@jupyter-widgets/base",
            "_view_module_version": "1.2.0",
            "_view_name": "StyleView",
            "description_width": ""
          }
        },
        "5df99b6ded994bc7b4431944b22743ac": {
          "model_module": "@jupyter-widgets/base",
          "model_name": "LayoutModel",
          "model_module_version": "1.2.0",
          "state": {
            "_model_module": "@jupyter-widgets/base",
            "_model_module_version": "1.2.0",
            "_model_name": "LayoutModel",
            "_view_count": null,
            "_view_module": "@jupyter-widgets/base",
            "_view_module_version": "1.2.0",
            "_view_name": "LayoutView",
            "align_content": null,
            "align_items": null,
            "align_self": null,
            "border": null,
            "bottom": null,
            "display": null,
            "flex": null,
            "flex_flow": null,
            "grid_area": null,
            "grid_auto_columns": null,
            "grid_auto_flow": null,
            "grid_auto_rows": null,
            "grid_column": null,
            "grid_gap": null,
            "grid_row": null,
            "grid_template_areas": null,
            "grid_template_columns": null,
            "grid_template_rows": null,
            "height": null,
            "justify_content": null,
            "justify_items": null,
            "left": null,
            "margin": null,
            "max_height": null,
            "max_width": null,
            "min_height": null,
            "min_width": null,
            "object_fit": null,
            "object_position": null,
            "order": null,
            "overflow": null,
            "overflow_x": null,
            "overflow_y": null,
            "padding": null,
            "right": null,
            "top": null,
            "visibility": null,
            "width": null
          }
        },
        "b79e09ffa91d4978b7f41437538cc153": {
          "model_module": "@jupyter-widgets/controls",
          "model_name": "ProgressStyleModel",
          "model_module_version": "1.5.0",
          "state": {
            "_model_module": "@jupyter-widgets/controls",
            "_model_module_version": "1.5.0",
            "_model_name": "ProgressStyleModel",
            "_view_count": null,
            "_view_module": "@jupyter-widgets/base",
            "_view_module_version": "1.2.0",
            "_view_name": "StyleView",
            "bar_color": null,
            "description_width": ""
          }
        },
        "f55af437e9594ed5a7b6a0fea8b60799": {
          "model_module": "@jupyter-widgets/base",
          "model_name": "LayoutModel",
          "model_module_version": "1.2.0",
          "state": {
            "_model_module": "@jupyter-widgets/base",
            "_model_module_version": "1.2.0",
            "_model_name": "LayoutModel",
            "_view_count": null,
            "_view_module": "@jupyter-widgets/base",
            "_view_module_version": "1.2.0",
            "_view_name": "LayoutView",
            "align_content": null,
            "align_items": null,
            "align_self": null,
            "border": null,
            "bottom": null,
            "display": null,
            "flex": null,
            "flex_flow": null,
            "grid_area": null,
            "grid_auto_columns": null,
            "grid_auto_flow": null,
            "grid_auto_rows": null,
            "grid_column": null,
            "grid_gap": null,
            "grid_row": null,
            "grid_template_areas": null,
            "grid_template_columns": null,
            "grid_template_rows": null,
            "height": null,
            "justify_content": null,
            "justify_items": null,
            "left": null,
            "margin": null,
            "max_height": null,
            "max_width": null,
            "min_height": null,
            "min_width": null,
            "object_fit": null,
            "object_position": null,
            "order": null,
            "overflow": null,
            "overflow_x": null,
            "overflow_y": null,
            "padding": null,
            "right": null,
            "top": null,
            "visibility": null,
            "width": null
          }
        },
        "2629fd2a4bcd4b53a5d6354ea207c211": {
          "model_module": "@jupyter-widgets/controls",
          "model_name": "DescriptionStyleModel",
          "model_module_version": "1.5.0",
          "state": {
            "_model_module": "@jupyter-widgets/controls",
            "_model_module_version": "1.5.0",
            "_model_name": "DescriptionStyleModel",
            "_view_count": null,
            "_view_module": "@jupyter-widgets/base",
            "_view_module_version": "1.2.0",
            "_view_name": "StyleView",
            "description_width": ""
          }
        },
        "5ba6cfedc3834f8089183e6c66a34941": {
          "model_module": "@jupyter-widgets/controls",
          "model_name": "HBoxModel",
          "model_module_version": "1.5.0",
          "state": {
            "_dom_classes": [],
            "_model_module": "@jupyter-widgets/controls",
            "_model_module_version": "1.5.0",
            "_model_name": "HBoxModel",
            "_view_count": null,
            "_view_module": "@jupyter-widgets/controls",
            "_view_module_version": "1.5.0",
            "_view_name": "HBoxView",
            "box_style": "",
            "children": [
              "IPY_MODEL_41116d31b6334c5699e4a74da8e8db12",
              "IPY_MODEL_ea2e22a0a9c94926bd4566ebdc61582f",
              "IPY_MODEL_f48154e425f34296a0652a2a576ad003"
            ],
            "layout": "IPY_MODEL_6d40fdb34b5b4ee4b6071c821da11d6f"
          }
        },
        "41116d31b6334c5699e4a74da8e8db12": {
          "model_module": "@jupyter-widgets/controls",
          "model_name": "HTMLModel",
          "model_module_version": "1.5.0",
          "state": {
            "_dom_classes": [],
            "_model_module": "@jupyter-widgets/controls",
            "_model_module_version": "1.5.0",
            "_model_name": "HTMLModel",
            "_view_count": null,
            "_view_module": "@jupyter-widgets/controls",
            "_view_module_version": "1.5.0",
            "_view_name": "HTMLView",
            "description": "",
            "description_tooltip": null,
            "layout": "IPY_MODEL_8d175505b5f8406b8ab81422134cae90",
            "placeholder": "​",
            "style": "IPY_MODEL_3b7512074c634460b4726ce2861d611f",
            "value": "Map: 100%"
          }
        },
        "ea2e22a0a9c94926bd4566ebdc61582f": {
          "model_module": "@jupyter-widgets/controls",
          "model_name": "FloatProgressModel",
          "model_module_version": "1.5.0",
          "state": {
            "_dom_classes": [],
            "_model_module": "@jupyter-widgets/controls",
            "_model_module_version": "1.5.0",
            "_model_name": "FloatProgressModel",
            "_view_count": null,
            "_view_module": "@jupyter-widgets/controls",
            "_view_module_version": "1.5.0",
            "_view_name": "ProgressView",
            "bar_style": "success",
            "description": "",
            "description_tooltip": null,
            "layout": "IPY_MODEL_4172878021ee488abd713c8c224c12d2",
            "max": 6251,
            "min": 0,
            "orientation": "horizontal",
            "style": "IPY_MODEL_6caca95e3d544ddf810a554d8c7810e1",
            "value": 6251
          }
        },
        "f48154e425f34296a0652a2a576ad003": {
          "model_module": "@jupyter-widgets/controls",
          "model_name": "HTMLModel",
          "model_module_version": "1.5.0",
          "state": {
            "_dom_classes": [],
            "_model_module": "@jupyter-widgets/controls",
            "_model_module_version": "1.5.0",
            "_model_name": "HTMLModel",
            "_view_count": null,
            "_view_module": "@jupyter-widgets/controls",
            "_view_module_version": "1.5.0",
            "_view_name": "HTMLView",
            "description": "",
            "description_tooltip": null,
            "layout": "IPY_MODEL_62af3e8997bd43369fe2d402a11cbbb5",
            "placeholder": "​",
            "style": "IPY_MODEL_080867fff2bf43a080ed878d26954733",
            "value": " 6251/6251 [00:00&lt;00:00, 15083.38 examples/s]"
          }
        },
        "6d40fdb34b5b4ee4b6071c821da11d6f": {
          "model_module": "@jupyter-widgets/base",
          "model_name": "LayoutModel",
          "model_module_version": "1.2.0",
          "state": {
            "_model_module": "@jupyter-widgets/base",
            "_model_module_version": "1.2.0",
            "_model_name": "LayoutModel",
            "_view_count": null,
            "_view_module": "@jupyter-widgets/base",
            "_view_module_version": "1.2.0",
            "_view_name": "LayoutView",
            "align_content": null,
            "align_items": null,
            "align_self": null,
            "border": null,
            "bottom": null,
            "display": null,
            "flex": null,
            "flex_flow": null,
            "grid_area": null,
            "grid_auto_columns": null,
            "grid_auto_flow": null,
            "grid_auto_rows": null,
            "grid_column": null,
            "grid_gap": null,
            "grid_row": null,
            "grid_template_areas": null,
            "grid_template_columns": null,
            "grid_template_rows": null,
            "height": null,
            "justify_content": null,
            "justify_items": null,
            "left": null,
            "margin": null,
            "max_height": null,
            "max_width": null,
            "min_height": null,
            "min_width": null,
            "object_fit": null,
            "object_position": null,
            "order": null,
            "overflow": null,
            "overflow_x": null,
            "overflow_y": null,
            "padding": null,
            "right": null,
            "top": null,
            "visibility": null,
            "width": null
          }
        },
        "8d175505b5f8406b8ab81422134cae90": {
          "model_module": "@jupyter-widgets/base",
          "model_name": "LayoutModel",
          "model_module_version": "1.2.0",
          "state": {
            "_model_module": "@jupyter-widgets/base",
            "_model_module_version": "1.2.0",
            "_model_name": "LayoutModel",
            "_view_count": null,
            "_view_module": "@jupyter-widgets/base",
            "_view_module_version": "1.2.0",
            "_view_name": "LayoutView",
            "align_content": null,
            "align_items": null,
            "align_self": null,
            "border": null,
            "bottom": null,
            "display": null,
            "flex": null,
            "flex_flow": null,
            "grid_area": null,
            "grid_auto_columns": null,
            "grid_auto_flow": null,
            "grid_auto_rows": null,
            "grid_column": null,
            "grid_gap": null,
            "grid_row": null,
            "grid_template_areas": null,
            "grid_template_columns": null,
            "grid_template_rows": null,
            "height": null,
            "justify_content": null,
            "justify_items": null,
            "left": null,
            "margin": null,
            "max_height": null,
            "max_width": null,
            "min_height": null,
            "min_width": null,
            "object_fit": null,
            "object_position": null,
            "order": null,
            "overflow": null,
            "overflow_x": null,
            "overflow_y": null,
            "padding": null,
            "right": null,
            "top": null,
            "visibility": null,
            "width": null
          }
        },
        "3b7512074c634460b4726ce2861d611f": {
          "model_module": "@jupyter-widgets/controls",
          "model_name": "DescriptionStyleModel",
          "model_module_version": "1.5.0",
          "state": {
            "_model_module": "@jupyter-widgets/controls",
            "_model_module_version": "1.5.0",
            "_model_name": "DescriptionStyleModel",
            "_view_count": null,
            "_view_module": "@jupyter-widgets/base",
            "_view_module_version": "1.2.0",
            "_view_name": "StyleView",
            "description_width": ""
          }
        },
        "4172878021ee488abd713c8c224c12d2": {
          "model_module": "@jupyter-widgets/base",
          "model_name": "LayoutModel",
          "model_module_version": "1.2.0",
          "state": {
            "_model_module": "@jupyter-widgets/base",
            "_model_module_version": "1.2.0",
            "_model_name": "LayoutModel",
            "_view_count": null,
            "_view_module": "@jupyter-widgets/base",
            "_view_module_version": "1.2.0",
            "_view_name": "LayoutView",
            "align_content": null,
            "align_items": null,
            "align_self": null,
            "border": null,
            "bottom": null,
            "display": null,
            "flex": null,
            "flex_flow": null,
            "grid_area": null,
            "grid_auto_columns": null,
            "grid_auto_flow": null,
            "grid_auto_rows": null,
            "grid_column": null,
            "grid_gap": null,
            "grid_row": null,
            "grid_template_areas": null,
            "grid_template_columns": null,
            "grid_template_rows": null,
            "height": null,
            "justify_content": null,
            "justify_items": null,
            "left": null,
            "margin": null,
            "max_height": null,
            "max_width": null,
            "min_height": null,
            "min_width": null,
            "object_fit": null,
            "object_position": null,
            "order": null,
            "overflow": null,
            "overflow_x": null,
            "overflow_y": null,
            "padding": null,
            "right": null,
            "top": null,
            "visibility": null,
            "width": null
          }
        },
        "6caca95e3d544ddf810a554d8c7810e1": {
          "model_module": "@jupyter-widgets/controls",
          "model_name": "ProgressStyleModel",
          "model_module_version": "1.5.0",
          "state": {
            "_model_module": "@jupyter-widgets/controls",
            "_model_module_version": "1.5.0",
            "_model_name": "ProgressStyleModel",
            "_view_count": null,
            "_view_module": "@jupyter-widgets/base",
            "_view_module_version": "1.2.0",
            "_view_name": "StyleView",
            "bar_color": null,
            "description_width": ""
          }
        },
        "62af3e8997bd43369fe2d402a11cbbb5": {
          "model_module": "@jupyter-widgets/base",
          "model_name": "LayoutModel",
          "model_module_version": "1.2.0",
          "state": {
            "_model_module": "@jupyter-widgets/base",
            "_model_module_version": "1.2.0",
            "_model_name": "LayoutModel",
            "_view_count": null,
            "_view_module": "@jupyter-widgets/base",
            "_view_module_version": "1.2.0",
            "_view_name": "LayoutView",
            "align_content": null,
            "align_items": null,
            "align_self": null,
            "border": null,
            "bottom": null,
            "display": null,
            "flex": null,
            "flex_flow": null,
            "grid_area": null,
            "grid_auto_columns": null,
            "grid_auto_flow": null,
            "grid_auto_rows": null,
            "grid_column": null,
            "grid_gap": null,
            "grid_row": null,
            "grid_template_areas": null,
            "grid_template_columns": null,
            "grid_template_rows": null,
            "height": null,
            "justify_content": null,
            "justify_items": null,
            "left": null,
            "margin": null,
            "max_height": null,
            "max_width": null,
            "min_height": null,
            "min_width": null,
            "object_fit": null,
            "object_position": null,
            "order": null,
            "overflow": null,
            "overflow_x": null,
            "overflow_y": null,
            "padding": null,
            "right": null,
            "top": null,
            "visibility": null,
            "width": null
          }
        },
        "080867fff2bf43a080ed878d26954733": {
          "model_module": "@jupyter-widgets/controls",
          "model_name": "DescriptionStyleModel",
          "model_module_version": "1.5.0",
          "state": {
            "_model_module": "@jupyter-widgets/controls",
            "_model_module_version": "1.5.0",
            "_model_name": "DescriptionStyleModel",
            "_view_count": null,
            "_view_module": "@jupyter-widgets/base",
            "_view_module_version": "1.2.0",
            "_view_name": "StyleView",
            "description_width": ""
          }
        },
        "57a669e20bd148869d5449117e5f9d5e": {
          "model_module": "@jupyter-widgets/controls",
          "model_name": "HBoxModel",
          "model_module_version": "1.5.0",
          "state": {
            "_dom_classes": [],
            "_model_module": "@jupyter-widgets/controls",
            "_model_module_version": "1.5.0",
            "_model_name": "HBoxModel",
            "_view_count": null,
            "_view_module": "@jupyter-widgets/controls",
            "_view_module_version": "1.5.0",
            "_view_name": "HBoxView",
            "box_style": "",
            "children": [
              "IPY_MODEL_741deca0a89a4dd3b8e081ca5cf903c8",
              "IPY_MODEL_eed16b6f7d7c49dd85be9498f5b83692",
              "IPY_MODEL_74ecdd8044244686b52209b06052b950"
            ],
            "layout": "IPY_MODEL_daeac99b500b4d14b42eadfe8391de82"
          }
        },
        "741deca0a89a4dd3b8e081ca5cf903c8": {
          "model_module": "@jupyter-widgets/controls",
          "model_name": "HTMLModel",
          "model_module_version": "1.5.0",
          "state": {
            "_dom_classes": [],
            "_model_module": "@jupyter-widgets/controls",
            "_model_module_version": "1.5.0",
            "_model_name": "HTMLModel",
            "_view_count": null,
            "_view_module": "@jupyter-widgets/controls",
            "_view_module_version": "1.5.0",
            "_view_name": "HTMLView",
            "description": "",
            "description_tooltip": null,
            "layout": "IPY_MODEL_92a4920751504781aa924b6912d8f198",
            "placeholder": "​",
            "style": "IPY_MODEL_1341a451e5ca441d8030aa73fab525e5",
            "value": "Map: 100%"
          }
        },
        "eed16b6f7d7c49dd85be9498f5b83692": {
          "model_module": "@jupyter-widgets/controls",
          "model_name": "FloatProgressModel",
          "model_module_version": "1.5.0",
          "state": {
            "_dom_classes": [],
            "_model_module": "@jupyter-widgets/controls",
            "_model_module_version": "1.5.0",
            "_model_name": "FloatProgressModel",
            "_view_count": null,
            "_view_module": "@jupyter-widgets/controls",
            "_view_module_version": "1.5.0",
            "_view_name": "ProgressView",
            "bar_style": "success",
            "description": "",
            "description_tooltip": null,
            "layout": "IPY_MODEL_cb425989ed6f44dd94142f769825e8a1",
            "max": 300,
            "min": 0,
            "orientation": "horizontal",
            "style": "IPY_MODEL_e6e3f1827e8546cfa70cdc949f49f1e5",
            "value": 300
          }
        },
        "74ecdd8044244686b52209b06052b950": {
          "model_module": "@jupyter-widgets/controls",
          "model_name": "HTMLModel",
          "model_module_version": "1.5.0",
          "state": {
            "_dom_classes": [],
            "_model_module": "@jupyter-widgets/controls",
            "_model_module_version": "1.5.0",
            "_model_name": "HTMLModel",
            "_view_count": null,
            "_view_module": "@jupyter-widgets/controls",
            "_view_module_version": "1.5.0",
            "_view_name": "HTMLView",
            "description": "",
            "description_tooltip": null,
            "layout": "IPY_MODEL_e6fca8095c7941608ab3bab42da90039",
            "placeholder": "​",
            "style": "IPY_MODEL_d23096eb024947fb856e80d16a882eb2",
            "value": " 300/300 [00:00&lt;00:00, 5643.57 examples/s]"
          }
        },
        "daeac99b500b4d14b42eadfe8391de82": {
          "model_module": "@jupyter-widgets/base",
          "model_name": "LayoutModel",
          "model_module_version": "1.2.0",
          "state": {
            "_model_module": "@jupyter-widgets/base",
            "_model_module_version": "1.2.0",
            "_model_name": "LayoutModel",
            "_view_count": null,
            "_view_module": "@jupyter-widgets/base",
            "_view_module_version": "1.2.0",
            "_view_name": "LayoutView",
            "align_content": null,
            "align_items": null,
            "align_self": null,
            "border": null,
            "bottom": null,
            "display": null,
            "flex": null,
            "flex_flow": null,
            "grid_area": null,
            "grid_auto_columns": null,
            "grid_auto_flow": null,
            "grid_auto_rows": null,
            "grid_column": null,
            "grid_gap": null,
            "grid_row": null,
            "grid_template_areas": null,
            "grid_template_columns": null,
            "grid_template_rows": null,
            "height": null,
            "justify_content": null,
            "justify_items": null,
            "left": null,
            "margin": null,
            "max_height": null,
            "max_width": null,
            "min_height": null,
            "min_width": null,
            "object_fit": null,
            "object_position": null,
            "order": null,
            "overflow": null,
            "overflow_x": null,
            "overflow_y": null,
            "padding": null,
            "right": null,
            "top": null,
            "visibility": null,
            "width": null
          }
        },
        "92a4920751504781aa924b6912d8f198": {
          "model_module": "@jupyter-widgets/base",
          "model_name": "LayoutModel",
          "model_module_version": "1.2.0",
          "state": {
            "_model_module": "@jupyter-widgets/base",
            "_model_module_version": "1.2.0",
            "_model_name": "LayoutModel",
            "_view_count": null,
            "_view_module": "@jupyter-widgets/base",
            "_view_module_version": "1.2.0",
            "_view_name": "LayoutView",
            "align_content": null,
            "align_items": null,
            "align_self": null,
            "border": null,
            "bottom": null,
            "display": null,
            "flex": null,
            "flex_flow": null,
            "grid_area": null,
            "grid_auto_columns": null,
            "grid_auto_flow": null,
            "grid_auto_rows": null,
            "grid_column": null,
            "grid_gap": null,
            "grid_row": null,
            "grid_template_areas": null,
            "grid_template_columns": null,
            "grid_template_rows": null,
            "height": null,
            "justify_content": null,
            "justify_items": null,
            "left": null,
            "margin": null,
            "max_height": null,
            "max_width": null,
            "min_height": null,
            "min_width": null,
            "object_fit": null,
            "object_position": null,
            "order": null,
            "overflow": null,
            "overflow_x": null,
            "overflow_y": null,
            "padding": null,
            "right": null,
            "top": null,
            "visibility": null,
            "width": null
          }
        },
        "1341a451e5ca441d8030aa73fab525e5": {
          "model_module": "@jupyter-widgets/controls",
          "model_name": "DescriptionStyleModel",
          "model_module_version": "1.5.0",
          "state": {
            "_model_module": "@jupyter-widgets/controls",
            "_model_module_version": "1.5.0",
            "_model_name": "DescriptionStyleModel",
            "_view_count": null,
            "_view_module": "@jupyter-widgets/base",
            "_view_module_version": "1.2.0",
            "_view_name": "StyleView",
            "description_width": ""
          }
        },
        "cb425989ed6f44dd94142f769825e8a1": {
          "model_module": "@jupyter-widgets/base",
          "model_name": "LayoutModel",
          "model_module_version": "1.2.0",
          "state": {
            "_model_module": "@jupyter-widgets/base",
            "_model_module_version": "1.2.0",
            "_model_name": "LayoutModel",
            "_view_count": null,
            "_view_module": "@jupyter-widgets/base",
            "_view_module_version": "1.2.0",
            "_view_name": "LayoutView",
            "align_content": null,
            "align_items": null,
            "align_self": null,
            "border": null,
            "bottom": null,
            "display": null,
            "flex": null,
            "flex_flow": null,
            "grid_area": null,
            "grid_auto_columns": null,
            "grid_auto_flow": null,
            "grid_auto_rows": null,
            "grid_column": null,
            "grid_gap": null,
            "grid_row": null,
            "grid_template_areas": null,
            "grid_template_columns": null,
            "grid_template_rows": null,
            "height": null,
            "justify_content": null,
            "justify_items": null,
            "left": null,
            "margin": null,
            "max_height": null,
            "max_width": null,
            "min_height": null,
            "min_width": null,
            "object_fit": null,
            "object_position": null,
            "order": null,
            "overflow": null,
            "overflow_x": null,
            "overflow_y": null,
            "padding": null,
            "right": null,
            "top": null,
            "visibility": null,
            "width": null
          }
        },
        "e6e3f1827e8546cfa70cdc949f49f1e5": {
          "model_module": "@jupyter-widgets/controls",
          "model_name": "ProgressStyleModel",
          "model_module_version": "1.5.0",
          "state": {
            "_model_module": "@jupyter-widgets/controls",
            "_model_module_version": "1.5.0",
            "_model_name": "ProgressStyleModel",
            "_view_count": null,
            "_view_module": "@jupyter-widgets/base",
            "_view_module_version": "1.2.0",
            "_view_name": "StyleView",
            "bar_color": null,
            "description_width": ""
          }
        },
        "e6fca8095c7941608ab3bab42da90039": {
          "model_module": "@jupyter-widgets/base",
          "model_name": "LayoutModel",
          "model_module_version": "1.2.0",
          "state": {
            "_model_module": "@jupyter-widgets/base",
            "_model_module_version": "1.2.0",
            "_model_name": "LayoutModel",
            "_view_count": null,
            "_view_module": "@jupyter-widgets/base",
            "_view_module_version": "1.2.0",
            "_view_name": "LayoutView",
            "align_content": null,
            "align_items": null,
            "align_self": null,
            "border": null,
            "bottom": null,
            "display": null,
            "flex": null,
            "flex_flow": null,
            "grid_area": null,
            "grid_auto_columns": null,
            "grid_auto_flow": null,
            "grid_auto_rows": null,
            "grid_column": null,
            "grid_gap": null,
            "grid_row": null,
            "grid_template_areas": null,
            "grid_template_columns": null,
            "grid_template_rows": null,
            "height": null,
            "justify_content": null,
            "justify_items": null,
            "left": null,
            "margin": null,
            "max_height": null,
            "max_width": null,
            "min_height": null,
            "min_width": null,
            "object_fit": null,
            "object_position": null,
            "order": null,
            "overflow": null,
            "overflow_x": null,
            "overflow_y": null,
            "padding": null,
            "right": null,
            "top": null,
            "visibility": null,
            "width": null
          }
        },
        "d23096eb024947fb856e80d16a882eb2": {
          "model_module": "@jupyter-widgets/controls",
          "model_name": "DescriptionStyleModel",
          "model_module_version": "1.5.0",
          "state": {
            "_model_module": "@jupyter-widgets/controls",
            "_model_module_version": "1.5.0",
            "_model_name": "DescriptionStyleModel",
            "_view_count": null,
            "_view_module": "@jupyter-widgets/base",
            "_view_module_version": "1.2.0",
            "_view_name": "StyleView",
            "description_width": ""
          }
        },
        "cf48000fab4c4dd1a7ff9eef8257f12d": {
          "model_module": "@jupyter-widgets/controls",
          "model_name": "HBoxModel",
          "model_module_version": "1.5.0",
          "state": {
            "_dom_classes": [],
            "_model_module": "@jupyter-widgets/controls",
            "_model_module_version": "1.5.0",
            "_model_name": "HBoxModel",
            "_view_count": null,
            "_view_module": "@jupyter-widgets/controls",
            "_view_module_version": "1.5.0",
            "_view_name": "HBoxView",
            "box_style": "",
            "children": [
              "IPY_MODEL_2326a7cc433b4193b68350fa73dd71fa",
              "IPY_MODEL_0b4a61a97eb54237ba3552042c0aeeeb",
              "IPY_MODEL_eb6569117f6d401e94f17da83d6792fe"
            ],
            "layout": "IPY_MODEL_218a6bce300046fb8191becf83e6ac05"
          }
        },
        "2326a7cc433b4193b68350fa73dd71fa": {
          "model_module": "@jupyter-widgets/controls",
          "model_name": "HTMLModel",
          "model_module_version": "1.5.0",
          "state": {
            "_dom_classes": [],
            "_model_module": "@jupyter-widgets/controls",
            "_model_module_version": "1.5.0",
            "_model_name": "HTMLModel",
            "_view_count": null,
            "_view_module": "@jupyter-widgets/controls",
            "_view_module_version": "1.5.0",
            "_view_name": "HTMLView",
            "description": "",
            "description_tooltip": null,
            "layout": "IPY_MODEL_33e759be04ea440b8c5e007dc5dec424",
            "placeholder": "​",
            "style": "IPY_MODEL_e01d24c1568f426e98705281d6bb18b4",
            "value": "Downloading builder script: 100%"
          }
        },
        "0b4a61a97eb54237ba3552042c0aeeeb": {
          "model_module": "@jupyter-widgets/controls",
          "model_name": "FloatProgressModel",
          "model_module_version": "1.5.0",
          "state": {
            "_dom_classes": [],
            "_model_module": "@jupyter-widgets/controls",
            "_model_module_version": "1.5.0",
            "_model_name": "FloatProgressModel",
            "_view_count": null,
            "_view_module": "@jupyter-widgets/controls",
            "_view_module_version": "1.5.0",
            "_view_name": "ProgressView",
            "bar_style": "success",
            "description": "",
            "description_tooltip": null,
            "layout": "IPY_MODEL_a7f7655b015440caa1fa241c8574633a",
            "max": 4203,
            "min": 0,
            "orientation": "horizontal",
            "style": "IPY_MODEL_612f0402467348a3a5ced7edb835a223",
            "value": 4203
          }
        },
        "eb6569117f6d401e94f17da83d6792fe": {
          "model_module": "@jupyter-widgets/controls",
          "model_name": "HTMLModel",
          "model_module_version": "1.5.0",
          "state": {
            "_dom_classes": [],
            "_model_module": "@jupyter-widgets/controls",
            "_model_module_version": "1.5.0",
            "_model_name": "HTMLModel",
            "_view_count": null,
            "_view_module": "@jupyter-widgets/controls",
            "_view_module_version": "1.5.0",
            "_view_name": "HTMLView",
            "description": "",
            "description_tooltip": null,
            "layout": "IPY_MODEL_3bc193f86172420281dbee8973f373d4",
            "placeholder": "​",
            "style": "IPY_MODEL_2746d6a7dbb442728eb8d0612eca5992",
            "value": " 4.20k/4.20k [00:00&lt;00:00, 433kB/s]"
          }
        },
        "218a6bce300046fb8191becf83e6ac05": {
          "model_module": "@jupyter-widgets/base",
          "model_name": "LayoutModel",
          "model_module_version": "1.2.0",
          "state": {
            "_model_module": "@jupyter-widgets/base",
            "_model_module_version": "1.2.0",
            "_model_name": "LayoutModel",
            "_view_count": null,
            "_view_module": "@jupyter-widgets/base",
            "_view_module_version": "1.2.0",
            "_view_name": "LayoutView",
            "align_content": null,
            "align_items": null,
            "align_self": null,
            "border": null,
            "bottom": null,
            "display": null,
            "flex": null,
            "flex_flow": null,
            "grid_area": null,
            "grid_auto_columns": null,
            "grid_auto_flow": null,
            "grid_auto_rows": null,
            "grid_column": null,
            "grid_gap": null,
            "grid_row": null,
            "grid_template_areas": null,
            "grid_template_columns": null,
            "grid_template_rows": null,
            "height": null,
            "justify_content": null,
            "justify_items": null,
            "left": null,
            "margin": null,
            "max_height": null,
            "max_width": null,
            "min_height": null,
            "min_width": null,
            "object_fit": null,
            "object_position": null,
            "order": null,
            "overflow": null,
            "overflow_x": null,
            "overflow_y": null,
            "padding": null,
            "right": null,
            "top": null,
            "visibility": null,
            "width": null
          }
        },
        "33e759be04ea440b8c5e007dc5dec424": {
          "model_module": "@jupyter-widgets/base",
          "model_name": "LayoutModel",
          "model_module_version": "1.2.0",
          "state": {
            "_model_module": "@jupyter-widgets/base",
            "_model_module_version": "1.2.0",
            "_model_name": "LayoutModel",
            "_view_count": null,
            "_view_module": "@jupyter-widgets/base",
            "_view_module_version": "1.2.0",
            "_view_name": "LayoutView",
            "align_content": null,
            "align_items": null,
            "align_self": null,
            "border": null,
            "bottom": null,
            "display": null,
            "flex": null,
            "flex_flow": null,
            "grid_area": null,
            "grid_auto_columns": null,
            "grid_auto_flow": null,
            "grid_auto_rows": null,
            "grid_column": null,
            "grid_gap": null,
            "grid_row": null,
            "grid_template_areas": null,
            "grid_template_columns": null,
            "grid_template_rows": null,
            "height": null,
            "justify_content": null,
            "justify_items": null,
            "left": null,
            "margin": null,
            "max_height": null,
            "max_width": null,
            "min_height": null,
            "min_width": null,
            "object_fit": null,
            "object_position": null,
            "order": null,
            "overflow": null,
            "overflow_x": null,
            "overflow_y": null,
            "padding": null,
            "right": null,
            "top": null,
            "visibility": null,
            "width": null
          }
        },
        "e01d24c1568f426e98705281d6bb18b4": {
          "model_module": "@jupyter-widgets/controls",
          "model_name": "DescriptionStyleModel",
          "model_module_version": "1.5.0",
          "state": {
            "_model_module": "@jupyter-widgets/controls",
            "_model_module_version": "1.5.0",
            "_model_name": "DescriptionStyleModel",
            "_view_count": null,
            "_view_module": "@jupyter-widgets/base",
            "_view_module_version": "1.2.0",
            "_view_name": "StyleView",
            "description_width": ""
          }
        },
        "a7f7655b015440caa1fa241c8574633a": {
          "model_module": "@jupyter-widgets/base",
          "model_name": "LayoutModel",
          "model_module_version": "1.2.0",
          "state": {
            "_model_module": "@jupyter-widgets/base",
            "_model_module_version": "1.2.0",
            "_model_name": "LayoutModel",
            "_view_count": null,
            "_view_module": "@jupyter-widgets/base",
            "_view_module_version": "1.2.0",
            "_view_name": "LayoutView",
            "align_content": null,
            "align_items": null,
            "align_self": null,
            "border": null,
            "bottom": null,
            "display": null,
            "flex": null,
            "flex_flow": null,
            "grid_area": null,
            "grid_auto_columns": null,
            "grid_auto_flow": null,
            "grid_auto_rows": null,
            "grid_column": null,
            "grid_gap": null,
            "grid_row": null,
            "grid_template_areas": null,
            "grid_template_columns": null,
            "grid_template_rows": null,
            "height": null,
            "justify_content": null,
            "justify_items": null,
            "left": null,
            "margin": null,
            "max_height": null,
            "max_width": null,
            "min_height": null,
            "min_width": null,
            "object_fit": null,
            "object_position": null,
            "order": null,
            "overflow": null,
            "overflow_x": null,
            "overflow_y": null,
            "padding": null,
            "right": null,
            "top": null,
            "visibility": null,
            "width": null
          }
        },
        "612f0402467348a3a5ced7edb835a223": {
          "model_module": "@jupyter-widgets/controls",
          "model_name": "ProgressStyleModel",
          "model_module_version": "1.5.0",
          "state": {
            "_model_module": "@jupyter-widgets/controls",
            "_model_module_version": "1.5.0",
            "_model_name": "ProgressStyleModel",
            "_view_count": null,
            "_view_module": "@jupyter-widgets/base",
            "_view_module_version": "1.2.0",
            "_view_name": "StyleView",
            "bar_color": null,
            "description_width": ""
          }
        },
        "3bc193f86172420281dbee8973f373d4": {
          "model_module": "@jupyter-widgets/base",
          "model_name": "LayoutModel",
          "model_module_version": "1.2.0",
          "state": {
            "_model_module": "@jupyter-widgets/base",
            "_model_module_version": "1.2.0",
            "_model_name": "LayoutModel",
            "_view_count": null,
            "_view_module": "@jupyter-widgets/base",
            "_view_module_version": "1.2.0",
            "_view_name": "LayoutView",
            "align_content": null,
            "align_items": null,
            "align_self": null,
            "border": null,
            "bottom": null,
            "display": null,
            "flex": null,
            "flex_flow": null,
            "grid_area": null,
            "grid_auto_columns": null,
            "grid_auto_flow": null,
            "grid_auto_rows": null,
            "grid_column": null,
            "grid_gap": null,
            "grid_row": null,
            "grid_template_areas": null,
            "grid_template_columns": null,
            "grid_template_rows": null,
            "height": null,
            "justify_content": null,
            "justify_items": null,
            "left": null,
            "margin": null,
            "max_height": null,
            "max_width": null,
            "min_height": null,
            "min_width": null,
            "object_fit": null,
            "object_position": null,
            "order": null,
            "overflow": null,
            "overflow_x": null,
            "overflow_y": null,
            "padding": null,
            "right": null,
            "top": null,
            "visibility": null,
            "width": null
          }
        },
        "2746d6a7dbb442728eb8d0612eca5992": {
          "model_module": "@jupyter-widgets/controls",
          "model_name": "DescriptionStyleModel",
          "model_module_version": "1.5.0",
          "state": {
            "_model_module": "@jupyter-widgets/controls",
            "_model_module_version": "1.5.0",
            "_model_name": "DescriptionStyleModel",
            "_view_count": null,
            "_view_module": "@jupyter-widgets/base",
            "_view_module_version": "1.2.0",
            "_view_name": "StyleView",
            "description_width": ""
          }
        },
        "2333322adc934976970b4a8e59e59c7e": {
          "model_module": "@jupyter-widgets/controls",
          "model_name": "HBoxModel",
          "model_module_version": "1.5.0",
          "state": {
            "_dom_classes": [],
            "_model_module": "@jupyter-widgets/controls",
            "_model_module_version": "1.5.0",
            "_model_name": "HBoxModel",
            "_view_count": null,
            "_view_module": "@jupyter-widgets/controls",
            "_view_module_version": "1.5.0",
            "_view_name": "HBoxView",
            "box_style": "",
            "children": [
              "IPY_MODEL_70b6fe1c79034ed08b12628d402b8ee7",
              "IPY_MODEL_27853724daaf49eaaeaa364d11b76d6d",
              "IPY_MODEL_fb669589d0194449bf121c2ec0a43e9c"
            ],
            "layout": "IPY_MODEL_6c1c592dd9e64bf488fa88d8c0dc495a"
          }
        },
        "70b6fe1c79034ed08b12628d402b8ee7": {
          "model_module": "@jupyter-widgets/controls",
          "model_name": "HTMLModel",
          "model_module_version": "1.5.0",
          "state": {
            "_dom_classes": [],
            "_model_module": "@jupyter-widgets/controls",
            "_model_module_version": "1.5.0",
            "_model_name": "HTMLModel",
            "_view_count": null,
            "_view_module": "@jupyter-widgets/controls",
            "_view_module_version": "1.5.0",
            "_view_name": "HTMLView",
            "description": "",
            "description_tooltip": null,
            "layout": "IPY_MODEL_f38683d2556145978e1e21499e6d0747",
            "placeholder": "​",
            "style": "IPY_MODEL_da44836301e544dea5d6e34733e67e56",
            "value": "Downloading builder script: 100%"
          }
        },
        "27853724daaf49eaaeaa364d11b76d6d": {
          "model_module": "@jupyter-widgets/controls",
          "model_name": "FloatProgressModel",
          "model_module_version": "1.5.0",
          "state": {
            "_dom_classes": [],
            "_model_module": "@jupyter-widgets/controls",
            "_model_module_version": "1.5.0",
            "_model_name": "FloatProgressModel",
            "_view_count": null,
            "_view_module": "@jupyter-widgets/controls",
            "_view_module_version": "1.5.0",
            "_view_name": "ProgressView",
            "bar_style": "success",
            "description": "",
            "description_tooltip": null,
            "layout": "IPY_MODEL_a923a7d3db9b415680b8d4605d4f1bf4",
            "max": 6785,
            "min": 0,
            "orientation": "horizontal",
            "style": "IPY_MODEL_75ed70cf68b24039a4bff608780bd111",
            "value": 6785
          }
        },
        "fb669589d0194449bf121c2ec0a43e9c": {
          "model_module": "@jupyter-widgets/controls",
          "model_name": "HTMLModel",
          "model_module_version": "1.5.0",
          "state": {
            "_dom_classes": [],
            "_model_module": "@jupyter-widgets/controls",
            "_model_module_version": "1.5.0",
            "_model_name": "HTMLModel",
            "_view_count": null,
            "_view_module": "@jupyter-widgets/controls",
            "_view_module_version": "1.5.0",
            "_view_name": "HTMLView",
            "description": "",
            "description_tooltip": null,
            "layout": "IPY_MODEL_e99c972f1757400e94d7e69ba40b10e9",
            "placeholder": "​",
            "style": "IPY_MODEL_959538d5c2584aafa8c39d90fc445447",
            "value": " 6.79k/6.79k [00:00&lt;00:00, 506kB/s]"
          }
        },
        "6c1c592dd9e64bf488fa88d8c0dc495a": {
          "model_module": "@jupyter-widgets/base",
          "model_name": "LayoutModel",
          "model_module_version": "1.2.0",
          "state": {
            "_model_module": "@jupyter-widgets/base",
            "_model_module_version": "1.2.0",
            "_model_name": "LayoutModel",
            "_view_count": null,
            "_view_module": "@jupyter-widgets/base",
            "_view_module_version": "1.2.0",
            "_view_name": "LayoutView",
            "align_content": null,
            "align_items": null,
            "align_self": null,
            "border": null,
            "bottom": null,
            "display": null,
            "flex": null,
            "flex_flow": null,
            "grid_area": null,
            "grid_auto_columns": null,
            "grid_auto_flow": null,
            "grid_auto_rows": null,
            "grid_column": null,
            "grid_gap": null,
            "grid_row": null,
            "grid_template_areas": null,
            "grid_template_columns": null,
            "grid_template_rows": null,
            "height": null,
            "justify_content": null,
            "justify_items": null,
            "left": null,
            "margin": null,
            "max_height": null,
            "max_width": null,
            "min_height": null,
            "min_width": null,
            "object_fit": null,
            "object_position": null,
            "order": null,
            "overflow": null,
            "overflow_x": null,
            "overflow_y": null,
            "padding": null,
            "right": null,
            "top": null,
            "visibility": null,
            "width": null
          }
        },
        "f38683d2556145978e1e21499e6d0747": {
          "model_module": "@jupyter-widgets/base",
          "model_name": "LayoutModel",
          "model_module_version": "1.2.0",
          "state": {
            "_model_module": "@jupyter-widgets/base",
            "_model_module_version": "1.2.0",
            "_model_name": "LayoutModel",
            "_view_count": null,
            "_view_module": "@jupyter-widgets/base",
            "_view_module_version": "1.2.0",
            "_view_name": "LayoutView",
            "align_content": null,
            "align_items": null,
            "align_self": null,
            "border": null,
            "bottom": null,
            "display": null,
            "flex": null,
            "flex_flow": null,
            "grid_area": null,
            "grid_auto_columns": null,
            "grid_auto_flow": null,
            "grid_auto_rows": null,
            "grid_column": null,
            "grid_gap": null,
            "grid_row": null,
            "grid_template_areas": null,
            "grid_template_columns": null,
            "grid_template_rows": null,
            "height": null,
            "justify_content": null,
            "justify_items": null,
            "left": null,
            "margin": null,
            "max_height": null,
            "max_width": null,
            "min_height": null,
            "min_width": null,
            "object_fit": null,
            "object_position": null,
            "order": null,
            "overflow": null,
            "overflow_x": null,
            "overflow_y": null,
            "padding": null,
            "right": null,
            "top": null,
            "visibility": null,
            "width": null
          }
        },
        "da44836301e544dea5d6e34733e67e56": {
          "model_module": "@jupyter-widgets/controls",
          "model_name": "DescriptionStyleModel",
          "model_module_version": "1.5.0",
          "state": {
            "_model_module": "@jupyter-widgets/controls",
            "_model_module_version": "1.5.0",
            "_model_name": "DescriptionStyleModel",
            "_view_count": null,
            "_view_module": "@jupyter-widgets/base",
            "_view_module_version": "1.2.0",
            "_view_name": "StyleView",
            "description_width": ""
          }
        },
        "a923a7d3db9b415680b8d4605d4f1bf4": {
          "model_module": "@jupyter-widgets/base",
          "model_name": "LayoutModel",
          "model_module_version": "1.2.0",
          "state": {
            "_model_module": "@jupyter-widgets/base",
            "_model_module_version": "1.2.0",
            "_model_name": "LayoutModel",
            "_view_count": null,
            "_view_module": "@jupyter-widgets/base",
            "_view_module_version": "1.2.0",
            "_view_name": "LayoutView",
            "align_content": null,
            "align_items": null,
            "align_self": null,
            "border": null,
            "bottom": null,
            "display": null,
            "flex": null,
            "flex_flow": null,
            "grid_area": null,
            "grid_auto_columns": null,
            "grid_auto_flow": null,
            "grid_auto_rows": null,
            "grid_column": null,
            "grid_gap": null,
            "grid_row": null,
            "grid_template_areas": null,
            "grid_template_columns": null,
            "grid_template_rows": null,
            "height": null,
            "justify_content": null,
            "justify_items": null,
            "left": null,
            "margin": null,
            "max_height": null,
            "max_width": null,
            "min_height": null,
            "min_width": null,
            "object_fit": null,
            "object_position": null,
            "order": null,
            "overflow": null,
            "overflow_x": null,
            "overflow_y": null,
            "padding": null,
            "right": null,
            "top": null,
            "visibility": null,
            "width": null
          }
        },
        "75ed70cf68b24039a4bff608780bd111": {
          "model_module": "@jupyter-widgets/controls",
          "model_name": "ProgressStyleModel",
          "model_module_version": "1.5.0",
          "state": {
            "_model_module": "@jupyter-widgets/controls",
            "_model_module_version": "1.5.0",
            "_model_name": "ProgressStyleModel",
            "_view_count": null,
            "_view_module": "@jupyter-widgets/base",
            "_view_module_version": "1.2.0",
            "_view_name": "StyleView",
            "bar_color": null,
            "description_width": ""
          }
        },
        "e99c972f1757400e94d7e69ba40b10e9": {
          "model_module": "@jupyter-widgets/base",
          "model_name": "LayoutModel",
          "model_module_version": "1.2.0",
          "state": {
            "_model_module": "@jupyter-widgets/base",
            "_model_module_version": "1.2.0",
            "_model_name": "LayoutModel",
            "_view_count": null,
            "_view_module": "@jupyter-widgets/base",
            "_view_module_version": "1.2.0",
            "_view_name": "LayoutView",
            "align_content": null,
            "align_items": null,
            "align_self": null,
            "border": null,
            "bottom": null,
            "display": null,
            "flex": null,
            "flex_flow": null,
            "grid_area": null,
            "grid_auto_columns": null,
            "grid_auto_flow": null,
            "grid_auto_rows": null,
            "grid_column": null,
            "grid_gap": null,
            "grid_row": null,
            "grid_template_areas": null,
            "grid_template_columns": null,
            "grid_template_rows": null,
            "height": null,
            "justify_content": null,
            "justify_items": null,
            "left": null,
            "margin": null,
            "max_height": null,
            "max_width": null,
            "min_height": null,
            "min_width": null,
            "object_fit": null,
            "object_position": null,
            "order": null,
            "overflow": null,
            "overflow_x": null,
            "overflow_y": null,
            "padding": null,
            "right": null,
            "top": null,
            "visibility": null,
            "width": null
          }
        },
        "959538d5c2584aafa8c39d90fc445447": {
          "model_module": "@jupyter-widgets/controls",
          "model_name": "DescriptionStyleModel",
          "model_module_version": "1.5.0",
          "state": {
            "_model_module": "@jupyter-widgets/controls",
            "_model_module_version": "1.5.0",
            "_model_name": "DescriptionStyleModel",
            "_view_count": null,
            "_view_module": "@jupyter-widgets/base",
            "_view_module_version": "1.2.0",
            "_view_name": "StyleView",
            "description_width": ""
          }
        },
        "46b8744a7be7450aa3fb75753a56f4e4": {
          "model_module": "@jupyter-widgets/controls",
          "model_name": "HBoxModel",
          "model_module_version": "1.5.0",
          "state": {
            "_dom_classes": [],
            "_model_module": "@jupyter-widgets/controls",
            "_model_module_version": "1.5.0",
            "_model_name": "HBoxModel",
            "_view_count": null,
            "_view_module": "@jupyter-widgets/controls",
            "_view_module_version": "1.5.0",
            "_view_name": "HBoxView",
            "box_style": "",
            "children": [
              "IPY_MODEL_1a1f291a8e994e5fb5b4cc7178135b61",
              "IPY_MODEL_e96b0009768941c1b217d36280b310f1",
              "IPY_MODEL_64cbd37198e14d2188b92a64077333fe"
            ],
            "layout": "IPY_MODEL_4b5f137bde8f4ac19201108fb7bbf0b1"
          }
        },
        "1a1f291a8e994e5fb5b4cc7178135b61": {
          "model_module": "@jupyter-widgets/controls",
          "model_name": "HTMLModel",
          "model_module_version": "1.5.0",
          "state": {
            "_dom_classes": [],
            "_model_module": "@jupyter-widgets/controls",
            "_model_module_version": "1.5.0",
            "_model_name": "HTMLModel",
            "_view_count": null,
            "_view_module": "@jupyter-widgets/controls",
            "_view_module_version": "1.5.0",
            "_view_name": "HTMLView",
            "description": "",
            "description_tooltip": null,
            "layout": "IPY_MODEL_c5ac5da6bcf440cea9c6daded67a509a",
            "placeholder": "​",
            "style": "IPY_MODEL_6c5b8ef3e57743288a1b9bd0fc87044d",
            "value": "Map: 100%"
          }
        },
        "e96b0009768941c1b217d36280b310f1": {
          "model_module": "@jupyter-widgets/controls",
          "model_name": "FloatProgressModel",
          "model_module_version": "1.5.0",
          "state": {
            "_dom_classes": [],
            "_model_module": "@jupyter-widgets/controls",
            "_model_module_version": "1.5.0",
            "_model_name": "FloatProgressModel",
            "_view_count": null,
            "_view_module": "@jupyter-widgets/controls",
            "_view_module_version": "1.5.0",
            "_view_name": "ProgressView",
            "bar_style": "success",
            "description": "",
            "description_tooltip": null,
            "layout": "IPY_MODEL_7d037391be6f4290af486fd2dc6681dc",
            "max": 6251,
            "min": 0,
            "orientation": "horizontal",
            "style": "IPY_MODEL_dc011825d493465badc08ec9bafd6fd6",
            "value": 6251
          }
        },
        "64cbd37198e14d2188b92a64077333fe": {
          "model_module": "@jupyter-widgets/controls",
          "model_name": "HTMLModel",
          "model_module_version": "1.5.0",
          "state": {
            "_dom_classes": [],
            "_model_module": "@jupyter-widgets/controls",
            "_model_module_version": "1.5.0",
            "_model_name": "HTMLModel",
            "_view_count": null,
            "_view_module": "@jupyter-widgets/controls",
            "_view_module_version": "1.5.0",
            "_view_name": "HTMLView",
            "description": "",
            "description_tooltip": null,
            "layout": "IPY_MODEL_e2385da4ca41438186c97d38af788b07",
            "placeholder": "​",
            "style": "IPY_MODEL_23be7af9561846d492ba07f4df058f01",
            "value": " 6251/6251 [00:00&lt;00:00, 12949.68 examples/s]"
          }
        },
        "4b5f137bde8f4ac19201108fb7bbf0b1": {
          "model_module": "@jupyter-widgets/base",
          "model_name": "LayoutModel",
          "model_module_version": "1.2.0",
          "state": {
            "_model_module": "@jupyter-widgets/base",
            "_model_module_version": "1.2.0",
            "_model_name": "LayoutModel",
            "_view_count": null,
            "_view_module": "@jupyter-widgets/base",
            "_view_module_version": "1.2.0",
            "_view_name": "LayoutView",
            "align_content": null,
            "align_items": null,
            "align_self": null,
            "border": null,
            "bottom": null,
            "display": null,
            "flex": null,
            "flex_flow": null,
            "grid_area": null,
            "grid_auto_columns": null,
            "grid_auto_flow": null,
            "grid_auto_rows": null,
            "grid_column": null,
            "grid_gap": null,
            "grid_row": null,
            "grid_template_areas": null,
            "grid_template_columns": null,
            "grid_template_rows": null,
            "height": null,
            "justify_content": null,
            "justify_items": null,
            "left": null,
            "margin": null,
            "max_height": null,
            "max_width": null,
            "min_height": null,
            "min_width": null,
            "object_fit": null,
            "object_position": null,
            "order": null,
            "overflow": null,
            "overflow_x": null,
            "overflow_y": null,
            "padding": null,
            "right": null,
            "top": null,
            "visibility": null,
            "width": null
          }
        },
        "c5ac5da6bcf440cea9c6daded67a509a": {
          "model_module": "@jupyter-widgets/base",
          "model_name": "LayoutModel",
          "model_module_version": "1.2.0",
          "state": {
            "_model_module": "@jupyter-widgets/base",
            "_model_module_version": "1.2.0",
            "_model_name": "LayoutModel",
            "_view_count": null,
            "_view_module": "@jupyter-widgets/base",
            "_view_module_version": "1.2.0",
            "_view_name": "LayoutView",
            "align_content": null,
            "align_items": null,
            "align_self": null,
            "border": null,
            "bottom": null,
            "display": null,
            "flex": null,
            "flex_flow": null,
            "grid_area": null,
            "grid_auto_columns": null,
            "grid_auto_flow": null,
            "grid_auto_rows": null,
            "grid_column": null,
            "grid_gap": null,
            "grid_row": null,
            "grid_template_areas": null,
            "grid_template_columns": null,
            "grid_template_rows": null,
            "height": null,
            "justify_content": null,
            "justify_items": null,
            "left": null,
            "margin": null,
            "max_height": null,
            "max_width": null,
            "min_height": null,
            "min_width": null,
            "object_fit": null,
            "object_position": null,
            "order": null,
            "overflow": null,
            "overflow_x": null,
            "overflow_y": null,
            "padding": null,
            "right": null,
            "top": null,
            "visibility": null,
            "width": null
          }
        },
        "6c5b8ef3e57743288a1b9bd0fc87044d": {
          "model_module": "@jupyter-widgets/controls",
          "model_name": "DescriptionStyleModel",
          "model_module_version": "1.5.0",
          "state": {
            "_model_module": "@jupyter-widgets/controls",
            "_model_module_version": "1.5.0",
            "_model_name": "DescriptionStyleModel",
            "_view_count": null,
            "_view_module": "@jupyter-widgets/base",
            "_view_module_version": "1.2.0",
            "_view_name": "StyleView",
            "description_width": ""
          }
        },
        "7d037391be6f4290af486fd2dc6681dc": {
          "model_module": "@jupyter-widgets/base",
          "model_name": "LayoutModel",
          "model_module_version": "1.2.0",
          "state": {
            "_model_module": "@jupyter-widgets/base",
            "_model_module_version": "1.2.0",
            "_model_name": "LayoutModel",
            "_view_count": null,
            "_view_module": "@jupyter-widgets/base",
            "_view_module_version": "1.2.0",
            "_view_name": "LayoutView",
            "align_content": null,
            "align_items": null,
            "align_self": null,
            "border": null,
            "bottom": null,
            "display": null,
            "flex": null,
            "flex_flow": null,
            "grid_area": null,
            "grid_auto_columns": null,
            "grid_auto_flow": null,
            "grid_auto_rows": null,
            "grid_column": null,
            "grid_gap": null,
            "grid_row": null,
            "grid_template_areas": null,
            "grid_template_columns": null,
            "grid_template_rows": null,
            "height": null,
            "justify_content": null,
            "justify_items": null,
            "left": null,
            "margin": null,
            "max_height": null,
            "max_width": null,
            "min_height": null,
            "min_width": null,
            "object_fit": null,
            "object_position": null,
            "order": null,
            "overflow": null,
            "overflow_x": null,
            "overflow_y": null,
            "padding": null,
            "right": null,
            "top": null,
            "visibility": null,
            "width": null
          }
        },
        "dc011825d493465badc08ec9bafd6fd6": {
          "model_module": "@jupyter-widgets/controls",
          "model_name": "ProgressStyleModel",
          "model_module_version": "1.5.0",
          "state": {
            "_model_module": "@jupyter-widgets/controls",
            "_model_module_version": "1.5.0",
            "_model_name": "ProgressStyleModel",
            "_view_count": null,
            "_view_module": "@jupyter-widgets/base",
            "_view_module_version": "1.2.0",
            "_view_name": "StyleView",
            "bar_color": null,
            "description_width": ""
          }
        },
        "e2385da4ca41438186c97d38af788b07": {
          "model_module": "@jupyter-widgets/base",
          "model_name": "LayoutModel",
          "model_module_version": "1.2.0",
          "state": {
            "_model_module": "@jupyter-widgets/base",
            "_model_module_version": "1.2.0",
            "_model_name": "LayoutModel",
            "_view_count": null,
            "_view_module": "@jupyter-widgets/base",
            "_view_module_version": "1.2.0",
            "_view_name": "LayoutView",
            "align_content": null,
            "align_items": null,
            "align_self": null,
            "border": null,
            "bottom": null,
            "display": null,
            "flex": null,
            "flex_flow": null,
            "grid_area": null,
            "grid_auto_columns": null,
            "grid_auto_flow": null,
            "grid_auto_rows": null,
            "grid_column": null,
            "grid_gap": null,
            "grid_row": null,
            "grid_template_areas": null,
            "grid_template_columns": null,
            "grid_template_rows": null,
            "height": null,
            "justify_content": null,
            "justify_items": null,
            "left": null,
            "margin": null,
            "max_height": null,
            "max_width": null,
            "min_height": null,
            "min_width": null,
            "object_fit": null,
            "object_position": null,
            "order": null,
            "overflow": null,
            "overflow_x": null,
            "overflow_y": null,
            "padding": null,
            "right": null,
            "top": null,
            "visibility": null,
            "width": null
          }
        },
        "23be7af9561846d492ba07f4df058f01": {
          "model_module": "@jupyter-widgets/controls",
          "model_name": "DescriptionStyleModel",
          "model_module_version": "1.5.0",
          "state": {
            "_model_module": "@jupyter-widgets/controls",
            "_model_module_version": "1.5.0",
            "_model_name": "DescriptionStyleModel",
            "_view_count": null,
            "_view_module": "@jupyter-widgets/base",
            "_view_module_version": "1.2.0",
            "_view_name": "StyleView",
            "description_width": ""
          }
        },
        "bda6464d1b8a45e3b67086a888a17d3d": {
          "model_module": "@jupyter-widgets/controls",
          "model_name": "HBoxModel",
          "model_module_version": "1.5.0",
          "state": {
            "_dom_classes": [],
            "_model_module": "@jupyter-widgets/controls",
            "_model_module_version": "1.5.0",
            "_model_name": "HBoxModel",
            "_view_count": null,
            "_view_module": "@jupyter-widgets/controls",
            "_view_module_version": "1.5.0",
            "_view_name": "HBoxView",
            "box_style": "",
            "children": [
              "IPY_MODEL_af67cb5a24be4207b6cf589cafba36c1",
              "IPY_MODEL_0633f76df9e740b8b18daec3fe1d5470",
              "IPY_MODEL_b14dd90891074484bae32a914f5204bc"
            ],
            "layout": "IPY_MODEL_86004bda7982441ba3b367c3eb23e53c"
          }
        },
        "af67cb5a24be4207b6cf589cafba36c1": {
          "model_module": "@jupyter-widgets/controls",
          "model_name": "HTMLModel",
          "model_module_version": "1.5.0",
          "state": {
            "_dom_classes": [],
            "_model_module": "@jupyter-widgets/controls",
            "_model_module_version": "1.5.0",
            "_model_name": "HTMLModel",
            "_view_count": null,
            "_view_module": "@jupyter-widgets/controls",
            "_view_module_version": "1.5.0",
            "_view_name": "HTMLView",
            "description": "",
            "description_tooltip": null,
            "layout": "IPY_MODEL_f88f67efedab4d3381ad9233283ca317",
            "placeholder": "​",
            "style": "IPY_MODEL_a4a7548ae9064263aa2401df12330d05",
            "value": "Map: 100%"
          }
        },
        "0633f76df9e740b8b18daec3fe1d5470": {
          "model_module": "@jupyter-widgets/controls",
          "model_name": "FloatProgressModel",
          "model_module_version": "1.5.0",
          "state": {
            "_dom_classes": [],
            "_model_module": "@jupyter-widgets/controls",
            "_model_module_version": "1.5.0",
            "_model_name": "FloatProgressModel",
            "_view_count": null,
            "_view_module": "@jupyter-widgets/controls",
            "_view_module_version": "1.5.0",
            "_view_name": "ProgressView",
            "bar_style": "success",
            "description": "",
            "description_tooltip": null,
            "layout": "IPY_MODEL_62bd3c87cad649b5abb5c50c1e2860f7",
            "max": 300,
            "min": 0,
            "orientation": "horizontal",
            "style": "IPY_MODEL_8c08d92b53d34cb99bb85c179e5c9701",
            "value": 300
          }
        },
        "b14dd90891074484bae32a914f5204bc": {
          "model_module": "@jupyter-widgets/controls",
          "model_name": "HTMLModel",
          "model_module_version": "1.5.0",
          "state": {
            "_dom_classes": [],
            "_model_module": "@jupyter-widgets/controls",
            "_model_module_version": "1.5.0",
            "_model_name": "HTMLModel",
            "_view_count": null,
            "_view_module": "@jupyter-widgets/controls",
            "_view_module_version": "1.5.0",
            "_view_name": "HTMLView",
            "description": "",
            "description_tooltip": null,
            "layout": "IPY_MODEL_838b0c342c464b8d9ee1b4166043e61c",
            "placeholder": "​",
            "style": "IPY_MODEL_7d4aad09c50b4d0eb0447da72c204744",
            "value": " 300/300 [00:00&lt;00:00, 5891.54 examples/s]"
          }
        },
        "86004bda7982441ba3b367c3eb23e53c": {
          "model_module": "@jupyter-widgets/base",
          "model_name": "LayoutModel",
          "model_module_version": "1.2.0",
          "state": {
            "_model_module": "@jupyter-widgets/base",
            "_model_module_version": "1.2.0",
            "_model_name": "LayoutModel",
            "_view_count": null,
            "_view_module": "@jupyter-widgets/base",
            "_view_module_version": "1.2.0",
            "_view_name": "LayoutView",
            "align_content": null,
            "align_items": null,
            "align_self": null,
            "border": null,
            "bottom": null,
            "display": null,
            "flex": null,
            "flex_flow": null,
            "grid_area": null,
            "grid_auto_columns": null,
            "grid_auto_flow": null,
            "grid_auto_rows": null,
            "grid_column": null,
            "grid_gap": null,
            "grid_row": null,
            "grid_template_areas": null,
            "grid_template_columns": null,
            "grid_template_rows": null,
            "height": null,
            "justify_content": null,
            "justify_items": null,
            "left": null,
            "margin": null,
            "max_height": null,
            "max_width": null,
            "min_height": null,
            "min_width": null,
            "object_fit": null,
            "object_position": null,
            "order": null,
            "overflow": null,
            "overflow_x": null,
            "overflow_y": null,
            "padding": null,
            "right": null,
            "top": null,
            "visibility": null,
            "width": null
          }
        },
        "f88f67efedab4d3381ad9233283ca317": {
          "model_module": "@jupyter-widgets/base",
          "model_name": "LayoutModel",
          "model_module_version": "1.2.0",
          "state": {
            "_model_module": "@jupyter-widgets/base",
            "_model_module_version": "1.2.0",
            "_model_name": "LayoutModel",
            "_view_count": null,
            "_view_module": "@jupyter-widgets/base",
            "_view_module_version": "1.2.0",
            "_view_name": "LayoutView",
            "align_content": null,
            "align_items": null,
            "align_self": null,
            "border": null,
            "bottom": null,
            "display": null,
            "flex": null,
            "flex_flow": null,
            "grid_area": null,
            "grid_auto_columns": null,
            "grid_auto_flow": null,
            "grid_auto_rows": null,
            "grid_column": null,
            "grid_gap": null,
            "grid_row": null,
            "grid_template_areas": null,
            "grid_template_columns": null,
            "grid_template_rows": null,
            "height": null,
            "justify_content": null,
            "justify_items": null,
            "left": null,
            "margin": null,
            "max_height": null,
            "max_width": null,
            "min_height": null,
            "min_width": null,
            "object_fit": null,
            "object_position": null,
            "order": null,
            "overflow": null,
            "overflow_x": null,
            "overflow_y": null,
            "padding": null,
            "right": null,
            "top": null,
            "visibility": null,
            "width": null
          }
        },
        "a4a7548ae9064263aa2401df12330d05": {
          "model_module": "@jupyter-widgets/controls",
          "model_name": "DescriptionStyleModel",
          "model_module_version": "1.5.0",
          "state": {
            "_model_module": "@jupyter-widgets/controls",
            "_model_module_version": "1.5.0",
            "_model_name": "DescriptionStyleModel",
            "_view_count": null,
            "_view_module": "@jupyter-widgets/base",
            "_view_module_version": "1.2.0",
            "_view_name": "StyleView",
            "description_width": ""
          }
        },
        "62bd3c87cad649b5abb5c50c1e2860f7": {
          "model_module": "@jupyter-widgets/base",
          "model_name": "LayoutModel",
          "model_module_version": "1.2.0",
          "state": {
            "_model_module": "@jupyter-widgets/base",
            "_model_module_version": "1.2.0",
            "_model_name": "LayoutModel",
            "_view_count": null,
            "_view_module": "@jupyter-widgets/base",
            "_view_module_version": "1.2.0",
            "_view_name": "LayoutView",
            "align_content": null,
            "align_items": null,
            "align_self": null,
            "border": null,
            "bottom": null,
            "display": null,
            "flex": null,
            "flex_flow": null,
            "grid_area": null,
            "grid_auto_columns": null,
            "grid_auto_flow": null,
            "grid_auto_rows": null,
            "grid_column": null,
            "grid_gap": null,
            "grid_row": null,
            "grid_template_areas": null,
            "grid_template_columns": null,
            "grid_template_rows": null,
            "height": null,
            "justify_content": null,
            "justify_items": null,
            "left": null,
            "margin": null,
            "max_height": null,
            "max_width": null,
            "min_height": null,
            "min_width": null,
            "object_fit": null,
            "object_position": null,
            "order": null,
            "overflow": null,
            "overflow_x": null,
            "overflow_y": null,
            "padding": null,
            "right": null,
            "top": null,
            "visibility": null,
            "width": null
          }
        },
        "8c08d92b53d34cb99bb85c179e5c9701": {
          "model_module": "@jupyter-widgets/controls",
          "model_name": "ProgressStyleModel",
          "model_module_version": "1.5.0",
          "state": {
            "_model_module": "@jupyter-widgets/controls",
            "_model_module_version": "1.5.0",
            "_model_name": "ProgressStyleModel",
            "_view_count": null,
            "_view_module": "@jupyter-widgets/base",
            "_view_module_version": "1.2.0",
            "_view_name": "StyleView",
            "bar_color": null,
            "description_width": ""
          }
        },
        "838b0c342c464b8d9ee1b4166043e61c": {
          "model_module": "@jupyter-widgets/base",
          "model_name": "LayoutModel",
          "model_module_version": "1.2.0",
          "state": {
            "_model_module": "@jupyter-widgets/base",
            "_model_module_version": "1.2.0",
            "_model_name": "LayoutModel",
            "_view_count": null,
            "_view_module": "@jupyter-widgets/base",
            "_view_module_version": "1.2.0",
            "_view_name": "LayoutView",
            "align_content": null,
            "align_items": null,
            "align_self": null,
            "border": null,
            "bottom": null,
            "display": null,
            "flex": null,
            "flex_flow": null,
            "grid_area": null,
            "grid_auto_columns": null,
            "grid_auto_flow": null,
            "grid_auto_rows": null,
            "grid_column": null,
            "grid_gap": null,
            "grid_row": null,
            "grid_template_areas": null,
            "grid_template_columns": null,
            "grid_template_rows": null,
            "height": null,
            "justify_content": null,
            "justify_items": null,
            "left": null,
            "margin": null,
            "max_height": null,
            "max_width": null,
            "min_height": null,
            "min_width": null,
            "object_fit": null,
            "object_position": null,
            "order": null,
            "overflow": null,
            "overflow_x": null,
            "overflow_y": null,
            "padding": null,
            "right": null,
            "top": null,
            "visibility": null,
            "width": null
          }
        },
        "7d4aad09c50b4d0eb0447da72c204744": {
          "model_module": "@jupyter-widgets/controls",
          "model_name": "DescriptionStyleModel",
          "model_module_version": "1.5.0",
          "state": {
            "_model_module": "@jupyter-widgets/controls",
            "_model_module_version": "1.5.0",
            "_model_name": "DescriptionStyleModel",
            "_view_count": null,
            "_view_module": "@jupyter-widgets/base",
            "_view_module_version": "1.2.0",
            "_view_name": "StyleView",
            "description_width": ""
          }
        },
        "60a9e2c99a744072ac63a4d6808bcd5b": {
          "model_module": "@jupyter-widgets/controls",
          "model_name": "HBoxModel",
          "model_module_version": "1.5.0",
          "state": {
            "_dom_classes": [],
            "_model_module": "@jupyter-widgets/controls",
            "_model_module_version": "1.5.0",
            "_model_name": "HBoxModel",
            "_view_count": null,
            "_view_module": "@jupyter-widgets/controls",
            "_view_module_version": "1.5.0",
            "_view_name": "HBoxView",
            "box_style": "",
            "children": [
              "IPY_MODEL_398b66ad54f849b6b572431c1b8dc964",
              "IPY_MODEL_27498b218e7c4bf3abaca2389d1cb121",
              "IPY_MODEL_11f278b838084084acc03bb531dde26c"
            ],
            "layout": "IPY_MODEL_787c255d9cf4480e92ae904bf40bb81c"
          }
        },
        "398b66ad54f849b6b572431c1b8dc964": {
          "model_module": "@jupyter-widgets/controls",
          "model_name": "HTMLModel",
          "model_module_version": "1.5.0",
          "state": {
            "_dom_classes": [],
            "_model_module": "@jupyter-widgets/controls",
            "_model_module_version": "1.5.0",
            "_model_name": "HTMLModel",
            "_view_count": null,
            "_view_module": "@jupyter-widgets/controls",
            "_view_module_version": "1.5.0",
            "_view_name": "HTMLView",
            "description": "",
            "description_tooltip": null,
            "layout": "IPY_MODEL_e55e555f1d7f42efb67f3392e8d691f6",
            "placeholder": "​",
            "style": "IPY_MODEL_e21849a9f7d847938d57446b53ca7f2d",
            "value": "Map: 100%"
          }
        },
        "27498b218e7c4bf3abaca2389d1cb121": {
          "model_module": "@jupyter-widgets/controls",
          "model_name": "FloatProgressModel",
          "model_module_version": "1.5.0",
          "state": {
            "_dom_classes": [],
            "_model_module": "@jupyter-widgets/controls",
            "_model_module_version": "1.5.0",
            "_model_name": "FloatProgressModel",
            "_view_count": null,
            "_view_module": "@jupyter-widgets/controls",
            "_view_module_version": "1.5.0",
            "_view_name": "ProgressView",
            "bar_style": "success",
            "description": "",
            "description_tooltip": null,
            "layout": "IPY_MODEL_f4da90d93d524276bb498bb042b60ed9",
            "max": 6251,
            "min": 0,
            "orientation": "horizontal",
            "style": "IPY_MODEL_a8b94f9d4c2a4bc2ad878438ebc5bc9b",
            "value": 6251
          }
        },
        "11f278b838084084acc03bb531dde26c": {
          "model_module": "@jupyter-widgets/controls",
          "model_name": "HTMLModel",
          "model_module_version": "1.5.0",
          "state": {
            "_dom_classes": [],
            "_model_module": "@jupyter-widgets/controls",
            "_model_module_version": "1.5.0",
            "_model_name": "HTMLModel",
            "_view_count": null,
            "_view_module": "@jupyter-widgets/controls",
            "_view_module_version": "1.5.0",
            "_view_name": "HTMLView",
            "description": "",
            "description_tooltip": null,
            "layout": "IPY_MODEL_8376abab0eb646e2b2d029d325eb4e8e",
            "placeholder": "​",
            "style": "IPY_MODEL_ee1ff74738514b4c9226a7cee4a94af0",
            "value": " 6251/6251 [00:03&lt;00:00, 1595.30 examples/s]"
          }
        },
        "787c255d9cf4480e92ae904bf40bb81c": {
          "model_module": "@jupyter-widgets/base",
          "model_name": "LayoutModel",
          "model_module_version": "1.2.0",
          "state": {
            "_model_module": "@jupyter-widgets/base",
            "_model_module_version": "1.2.0",
            "_model_name": "LayoutModel",
            "_view_count": null,
            "_view_module": "@jupyter-widgets/base",
            "_view_module_version": "1.2.0",
            "_view_name": "LayoutView",
            "align_content": null,
            "align_items": null,
            "align_self": null,
            "border": null,
            "bottom": null,
            "display": null,
            "flex": null,
            "flex_flow": null,
            "grid_area": null,
            "grid_auto_columns": null,
            "grid_auto_flow": null,
            "grid_auto_rows": null,
            "grid_column": null,
            "grid_gap": null,
            "grid_row": null,
            "grid_template_areas": null,
            "grid_template_columns": null,
            "grid_template_rows": null,
            "height": null,
            "justify_content": null,
            "justify_items": null,
            "left": null,
            "margin": null,
            "max_height": null,
            "max_width": null,
            "min_height": null,
            "min_width": null,
            "object_fit": null,
            "object_position": null,
            "order": null,
            "overflow": null,
            "overflow_x": null,
            "overflow_y": null,
            "padding": null,
            "right": null,
            "top": null,
            "visibility": null,
            "width": null
          }
        },
        "e55e555f1d7f42efb67f3392e8d691f6": {
          "model_module": "@jupyter-widgets/base",
          "model_name": "LayoutModel",
          "model_module_version": "1.2.0",
          "state": {
            "_model_module": "@jupyter-widgets/base",
            "_model_module_version": "1.2.0",
            "_model_name": "LayoutModel",
            "_view_count": null,
            "_view_module": "@jupyter-widgets/base",
            "_view_module_version": "1.2.0",
            "_view_name": "LayoutView",
            "align_content": null,
            "align_items": null,
            "align_self": null,
            "border": null,
            "bottom": null,
            "display": null,
            "flex": null,
            "flex_flow": null,
            "grid_area": null,
            "grid_auto_columns": null,
            "grid_auto_flow": null,
            "grid_auto_rows": null,
            "grid_column": null,
            "grid_gap": null,
            "grid_row": null,
            "grid_template_areas": null,
            "grid_template_columns": null,
            "grid_template_rows": null,
            "height": null,
            "justify_content": null,
            "justify_items": null,
            "left": null,
            "margin": null,
            "max_height": null,
            "max_width": null,
            "min_height": null,
            "min_width": null,
            "object_fit": null,
            "object_position": null,
            "order": null,
            "overflow": null,
            "overflow_x": null,
            "overflow_y": null,
            "padding": null,
            "right": null,
            "top": null,
            "visibility": null,
            "width": null
          }
        },
        "e21849a9f7d847938d57446b53ca7f2d": {
          "model_module": "@jupyter-widgets/controls",
          "model_name": "DescriptionStyleModel",
          "model_module_version": "1.5.0",
          "state": {
            "_model_module": "@jupyter-widgets/controls",
            "_model_module_version": "1.5.0",
            "_model_name": "DescriptionStyleModel",
            "_view_count": null,
            "_view_module": "@jupyter-widgets/base",
            "_view_module_version": "1.2.0",
            "_view_name": "StyleView",
            "description_width": ""
          }
        },
        "f4da90d93d524276bb498bb042b60ed9": {
          "model_module": "@jupyter-widgets/base",
          "model_name": "LayoutModel",
          "model_module_version": "1.2.0",
          "state": {
            "_model_module": "@jupyter-widgets/base",
            "_model_module_version": "1.2.0",
            "_model_name": "LayoutModel",
            "_view_count": null,
            "_view_module": "@jupyter-widgets/base",
            "_view_module_version": "1.2.0",
            "_view_name": "LayoutView",
            "align_content": null,
            "align_items": null,
            "align_self": null,
            "border": null,
            "bottom": null,
            "display": null,
            "flex": null,
            "flex_flow": null,
            "grid_area": null,
            "grid_auto_columns": null,
            "grid_auto_flow": null,
            "grid_auto_rows": null,
            "grid_column": null,
            "grid_gap": null,
            "grid_row": null,
            "grid_template_areas": null,
            "grid_template_columns": null,
            "grid_template_rows": null,
            "height": null,
            "justify_content": null,
            "justify_items": null,
            "left": null,
            "margin": null,
            "max_height": null,
            "max_width": null,
            "min_height": null,
            "min_width": null,
            "object_fit": null,
            "object_position": null,
            "order": null,
            "overflow": null,
            "overflow_x": null,
            "overflow_y": null,
            "padding": null,
            "right": null,
            "top": null,
            "visibility": null,
            "width": null
          }
        },
        "a8b94f9d4c2a4bc2ad878438ebc5bc9b": {
          "model_module": "@jupyter-widgets/controls",
          "model_name": "ProgressStyleModel",
          "model_module_version": "1.5.0",
          "state": {
            "_model_module": "@jupyter-widgets/controls",
            "_model_module_version": "1.5.0",
            "_model_name": "ProgressStyleModel",
            "_view_count": null,
            "_view_module": "@jupyter-widgets/base",
            "_view_module_version": "1.2.0",
            "_view_name": "StyleView",
            "bar_color": null,
            "description_width": ""
          }
        },
        "8376abab0eb646e2b2d029d325eb4e8e": {
          "model_module": "@jupyter-widgets/base",
          "model_name": "LayoutModel",
          "model_module_version": "1.2.0",
          "state": {
            "_model_module": "@jupyter-widgets/base",
            "_model_module_version": "1.2.0",
            "_model_name": "LayoutModel",
            "_view_count": null,
            "_view_module": "@jupyter-widgets/base",
            "_view_module_version": "1.2.0",
            "_view_name": "LayoutView",
            "align_content": null,
            "align_items": null,
            "align_self": null,
            "border": null,
            "bottom": null,
            "display": null,
            "flex": null,
            "flex_flow": null,
            "grid_area": null,
            "grid_auto_columns": null,
            "grid_auto_flow": null,
            "grid_auto_rows": null,
            "grid_column": null,
            "grid_gap": null,
            "grid_row": null,
            "grid_template_areas": null,
            "grid_template_columns": null,
            "grid_template_rows": null,
            "height": null,
            "justify_content": null,
            "justify_items": null,
            "left": null,
            "margin": null,
            "max_height": null,
            "max_width": null,
            "min_height": null,
            "min_width": null,
            "object_fit": null,
            "object_position": null,
            "order": null,
            "overflow": null,
            "overflow_x": null,
            "overflow_y": null,
            "padding": null,
            "right": null,
            "top": null,
            "visibility": null,
            "width": null
          }
        },
        "ee1ff74738514b4c9226a7cee4a94af0": {
          "model_module": "@jupyter-widgets/controls",
          "model_name": "DescriptionStyleModel",
          "model_module_version": "1.5.0",
          "state": {
            "_model_module": "@jupyter-widgets/controls",
            "_model_module_version": "1.5.0",
            "_model_name": "DescriptionStyleModel",
            "_view_count": null,
            "_view_module": "@jupyter-widgets/base",
            "_view_module_version": "1.2.0",
            "_view_name": "StyleView",
            "description_width": ""
          }
        },
        "3fcd6b6bfd8a44d2b09f92cfe52f6deb": {
          "model_module": "@jupyter-widgets/controls",
          "model_name": "HBoxModel",
          "model_module_version": "1.5.0",
          "state": {
            "_dom_classes": [],
            "_model_module": "@jupyter-widgets/controls",
            "_model_module_version": "1.5.0",
            "_model_name": "HBoxModel",
            "_view_count": null,
            "_view_module": "@jupyter-widgets/controls",
            "_view_module_version": "1.5.0",
            "_view_name": "HBoxView",
            "box_style": "",
            "children": [
              "IPY_MODEL_41a4f280059e4740a7b0bc8502f8f2f1",
              "IPY_MODEL_6ae34264d5b248e88af7d7321beffb50",
              "IPY_MODEL_b234796c794b4c828eceebd8b699daa6"
            ],
            "layout": "IPY_MODEL_e9b07ff2fb654554bc10c9ab19a7e17a"
          }
        },
        "41a4f280059e4740a7b0bc8502f8f2f1": {
          "model_module": "@jupyter-widgets/controls",
          "model_name": "HTMLModel",
          "model_module_version": "1.5.0",
          "state": {
            "_dom_classes": [],
            "_model_module": "@jupyter-widgets/controls",
            "_model_module_version": "1.5.0",
            "_model_name": "HTMLModel",
            "_view_count": null,
            "_view_module": "@jupyter-widgets/controls",
            "_view_module_version": "1.5.0",
            "_view_name": "HTMLView",
            "description": "",
            "description_tooltip": null,
            "layout": "IPY_MODEL_9178656d23a641c4995595affbf2c4bc",
            "placeholder": "​",
            "style": "IPY_MODEL_d1992b0a36ad4000833c912aa8847c48",
            "value": "Map: 100%"
          }
        },
        "6ae34264d5b248e88af7d7321beffb50": {
          "model_module": "@jupyter-widgets/controls",
          "model_name": "FloatProgressModel",
          "model_module_version": "1.5.0",
          "state": {
            "_dom_classes": [],
            "_model_module": "@jupyter-widgets/controls",
            "_model_module_version": "1.5.0",
            "_model_name": "FloatProgressModel",
            "_view_count": null,
            "_view_module": "@jupyter-widgets/controls",
            "_view_module_version": "1.5.0",
            "_view_name": "ProgressView",
            "bar_style": "success",
            "description": "",
            "description_tooltip": null,
            "layout": "IPY_MODEL_29213cbb2d974ef4b307876eaa39b139",
            "max": 300,
            "min": 0,
            "orientation": "horizontal",
            "style": "IPY_MODEL_0621c435fe2d4ff78424a452b13fcf31",
            "value": 300
          }
        },
        "b234796c794b4c828eceebd8b699daa6": {
          "model_module": "@jupyter-widgets/controls",
          "model_name": "HTMLModel",
          "model_module_version": "1.5.0",
          "state": {
            "_dom_classes": [],
            "_model_module": "@jupyter-widgets/controls",
            "_model_module_version": "1.5.0",
            "_model_name": "HTMLModel",
            "_view_count": null,
            "_view_module": "@jupyter-widgets/controls",
            "_view_module_version": "1.5.0",
            "_view_name": "HTMLView",
            "description": "",
            "description_tooltip": null,
            "layout": "IPY_MODEL_c8e71e90b47a45579dd93e42183897ff",
            "placeholder": "​",
            "style": "IPY_MODEL_0593e01d49af4432a155d68aa26dc15b",
            "value": " 300/300 [00:00&lt;00:00, 1415.69 examples/s]"
          }
        },
        "e9b07ff2fb654554bc10c9ab19a7e17a": {
          "model_module": "@jupyter-widgets/base",
          "model_name": "LayoutModel",
          "model_module_version": "1.2.0",
          "state": {
            "_model_module": "@jupyter-widgets/base",
            "_model_module_version": "1.2.0",
            "_model_name": "LayoutModel",
            "_view_count": null,
            "_view_module": "@jupyter-widgets/base",
            "_view_module_version": "1.2.0",
            "_view_name": "LayoutView",
            "align_content": null,
            "align_items": null,
            "align_self": null,
            "border": null,
            "bottom": null,
            "display": null,
            "flex": null,
            "flex_flow": null,
            "grid_area": null,
            "grid_auto_columns": null,
            "grid_auto_flow": null,
            "grid_auto_rows": null,
            "grid_column": null,
            "grid_gap": null,
            "grid_row": null,
            "grid_template_areas": null,
            "grid_template_columns": null,
            "grid_template_rows": null,
            "height": null,
            "justify_content": null,
            "justify_items": null,
            "left": null,
            "margin": null,
            "max_height": null,
            "max_width": null,
            "min_height": null,
            "min_width": null,
            "object_fit": null,
            "object_position": null,
            "order": null,
            "overflow": null,
            "overflow_x": null,
            "overflow_y": null,
            "padding": null,
            "right": null,
            "top": null,
            "visibility": null,
            "width": null
          }
        },
        "9178656d23a641c4995595affbf2c4bc": {
          "model_module": "@jupyter-widgets/base",
          "model_name": "LayoutModel",
          "model_module_version": "1.2.0",
          "state": {
            "_model_module": "@jupyter-widgets/base",
            "_model_module_version": "1.2.0",
            "_model_name": "LayoutModel",
            "_view_count": null,
            "_view_module": "@jupyter-widgets/base",
            "_view_module_version": "1.2.0",
            "_view_name": "LayoutView",
            "align_content": null,
            "align_items": null,
            "align_self": null,
            "border": null,
            "bottom": null,
            "display": null,
            "flex": null,
            "flex_flow": null,
            "grid_area": null,
            "grid_auto_columns": null,
            "grid_auto_flow": null,
            "grid_auto_rows": null,
            "grid_column": null,
            "grid_gap": null,
            "grid_row": null,
            "grid_template_areas": null,
            "grid_template_columns": null,
            "grid_template_rows": null,
            "height": null,
            "justify_content": null,
            "justify_items": null,
            "left": null,
            "margin": null,
            "max_height": null,
            "max_width": null,
            "min_height": null,
            "min_width": null,
            "object_fit": null,
            "object_position": null,
            "order": null,
            "overflow": null,
            "overflow_x": null,
            "overflow_y": null,
            "padding": null,
            "right": null,
            "top": null,
            "visibility": null,
            "width": null
          }
        },
        "d1992b0a36ad4000833c912aa8847c48": {
          "model_module": "@jupyter-widgets/controls",
          "model_name": "DescriptionStyleModel",
          "model_module_version": "1.5.0",
          "state": {
            "_model_module": "@jupyter-widgets/controls",
            "_model_module_version": "1.5.0",
            "_model_name": "DescriptionStyleModel",
            "_view_count": null,
            "_view_module": "@jupyter-widgets/base",
            "_view_module_version": "1.2.0",
            "_view_name": "StyleView",
            "description_width": ""
          }
        },
        "29213cbb2d974ef4b307876eaa39b139": {
          "model_module": "@jupyter-widgets/base",
          "model_name": "LayoutModel",
          "model_module_version": "1.2.0",
          "state": {
            "_model_module": "@jupyter-widgets/base",
            "_model_module_version": "1.2.0",
            "_model_name": "LayoutModel",
            "_view_count": null,
            "_view_module": "@jupyter-widgets/base",
            "_view_module_version": "1.2.0",
            "_view_name": "LayoutView",
            "align_content": null,
            "align_items": null,
            "align_self": null,
            "border": null,
            "bottom": null,
            "display": null,
            "flex": null,
            "flex_flow": null,
            "grid_area": null,
            "grid_auto_columns": null,
            "grid_auto_flow": null,
            "grid_auto_rows": null,
            "grid_column": null,
            "grid_gap": null,
            "grid_row": null,
            "grid_template_areas": null,
            "grid_template_columns": null,
            "grid_template_rows": null,
            "height": null,
            "justify_content": null,
            "justify_items": null,
            "left": null,
            "margin": null,
            "max_height": null,
            "max_width": null,
            "min_height": null,
            "min_width": null,
            "object_fit": null,
            "object_position": null,
            "order": null,
            "overflow": null,
            "overflow_x": null,
            "overflow_y": null,
            "padding": null,
            "right": null,
            "top": null,
            "visibility": null,
            "width": null
          }
        },
        "0621c435fe2d4ff78424a452b13fcf31": {
          "model_module": "@jupyter-widgets/controls",
          "model_name": "ProgressStyleModel",
          "model_module_version": "1.5.0",
          "state": {
            "_model_module": "@jupyter-widgets/controls",
            "_model_module_version": "1.5.0",
            "_model_name": "ProgressStyleModel",
            "_view_count": null,
            "_view_module": "@jupyter-widgets/base",
            "_view_module_version": "1.2.0",
            "_view_name": "StyleView",
            "bar_color": null,
            "description_width": ""
          }
        },
        "c8e71e90b47a45579dd93e42183897ff": {
          "model_module": "@jupyter-widgets/base",
          "model_name": "LayoutModel",
          "model_module_version": "1.2.0",
          "state": {
            "_model_module": "@jupyter-widgets/base",
            "_model_module_version": "1.2.0",
            "_model_name": "LayoutModel",
            "_view_count": null,
            "_view_module": "@jupyter-widgets/base",
            "_view_module_version": "1.2.0",
            "_view_name": "LayoutView",
            "align_content": null,
            "align_items": null,
            "align_self": null,
            "border": null,
            "bottom": null,
            "display": null,
            "flex": null,
            "flex_flow": null,
            "grid_area": null,
            "grid_auto_columns": null,
            "grid_auto_flow": null,
            "grid_auto_rows": null,
            "grid_column": null,
            "grid_gap": null,
            "grid_row": null,
            "grid_template_areas": null,
            "grid_template_columns": null,
            "grid_template_rows": null,
            "height": null,
            "justify_content": null,
            "justify_items": null,
            "left": null,
            "margin": null,
            "max_height": null,
            "max_width": null,
            "min_height": null,
            "min_width": null,
            "object_fit": null,
            "object_position": null,
            "order": null,
            "overflow": null,
            "overflow_x": null,
            "overflow_y": null,
            "padding": null,
            "right": null,
            "top": null,
            "visibility": null,
            "width": null
          }
        },
        "0593e01d49af4432a155d68aa26dc15b": {
          "model_module": "@jupyter-widgets/controls",
          "model_name": "DescriptionStyleModel",
          "model_module_version": "1.5.0",
          "state": {
            "_model_module": "@jupyter-widgets/controls",
            "_model_module_version": "1.5.0",
            "_model_name": "DescriptionStyleModel",
            "_view_count": null,
            "_view_module": "@jupyter-widgets/base",
            "_view_module_version": "1.2.0",
            "_view_name": "StyleView",
            "description_width": ""
          }
        },
        "8561cfd54258466f863c01d120adee0f": {
          "model_module": "@jupyter-widgets/controls",
          "model_name": "HBoxModel",
          "model_module_version": "1.5.0",
          "state": {
            "_dom_classes": [],
            "_model_module": "@jupyter-widgets/controls",
            "_model_module_version": "1.5.0",
            "_model_name": "HBoxModel",
            "_view_count": null,
            "_view_module": "@jupyter-widgets/controls",
            "_view_module_version": "1.5.0",
            "_view_name": "HBoxView",
            "box_style": "",
            "children": [
              "IPY_MODEL_c0010fcc098243afb2e98210a8f47010",
              "IPY_MODEL_f9aa7985d19f47feb1a89057ddcfd294",
              "IPY_MODEL_00ccbecf3b9d46e9aa2076c0dc55908f"
            ],
            "layout": "IPY_MODEL_36dcde0dd6134f5c8166011f17d1b649"
          }
        },
        "c0010fcc098243afb2e98210a8f47010": {
          "model_module": "@jupyter-widgets/controls",
          "model_name": "HTMLModel",
          "model_module_version": "1.5.0",
          "state": {
            "_dom_classes": [],
            "_model_module": "@jupyter-widgets/controls",
            "_model_module_version": "1.5.0",
            "_model_name": "HTMLModel",
            "_view_count": null,
            "_view_module": "@jupyter-widgets/controls",
            "_view_module_version": "1.5.0",
            "_view_name": "HTMLView",
            "description": "",
            "description_tooltip": null,
            "layout": "IPY_MODEL_cd1553be0c7c4cfe8662c44a30cb4d8b",
            "placeholder": "​",
            "style": "IPY_MODEL_212641388b914dc19813c2e100924ecd",
            "value": "config.json: 100%"
          }
        },
        "f9aa7985d19f47feb1a89057ddcfd294": {
          "model_module": "@jupyter-widgets/controls",
          "model_name": "FloatProgressModel",
          "model_module_version": "1.5.0",
          "state": {
            "_dom_classes": [],
            "_model_module": "@jupyter-widgets/controls",
            "_model_module_version": "1.5.0",
            "_model_name": "FloatProgressModel",
            "_view_count": null,
            "_view_module": "@jupyter-widgets/controls",
            "_view_module_version": "1.5.0",
            "_view_name": "ProgressView",
            "bar_style": "success",
            "description": "",
            "description_tooltip": null,
            "layout": "IPY_MODEL_3c619101f273465fb881aa701ab0c31c",
            "max": 578,
            "min": 0,
            "orientation": "horizontal",
            "style": "IPY_MODEL_40b083f555d949c5bc38ed110780f842",
            "value": 578
          }
        },
        "00ccbecf3b9d46e9aa2076c0dc55908f": {
          "model_module": "@jupyter-widgets/controls",
          "model_name": "HTMLModel",
          "model_module_version": "1.5.0",
          "state": {
            "_dom_classes": [],
            "_model_module": "@jupyter-widgets/controls",
            "_model_module_version": "1.5.0",
            "_model_name": "HTMLModel",
            "_view_count": null,
            "_view_module": "@jupyter-widgets/controls",
            "_view_module_version": "1.5.0",
            "_view_name": "HTMLView",
            "description": "",
            "description_tooltip": null,
            "layout": "IPY_MODEL_fa5cf0edd457478da71c69657fce1cc7",
            "placeholder": "​",
            "style": "IPY_MODEL_ac244c5fd49942728da2d28544cf2333",
            "value": " 578/578 [00:00&lt;00:00, 35.0kB/s]"
          }
        },
        "36dcde0dd6134f5c8166011f17d1b649": {
          "model_module": "@jupyter-widgets/base",
          "model_name": "LayoutModel",
          "model_module_version": "1.2.0",
          "state": {
            "_model_module": "@jupyter-widgets/base",
            "_model_module_version": "1.2.0",
            "_model_name": "LayoutModel",
            "_view_count": null,
            "_view_module": "@jupyter-widgets/base",
            "_view_module_version": "1.2.0",
            "_view_name": "LayoutView",
            "align_content": null,
            "align_items": null,
            "align_self": null,
            "border": null,
            "bottom": null,
            "display": null,
            "flex": null,
            "flex_flow": null,
            "grid_area": null,
            "grid_auto_columns": null,
            "grid_auto_flow": null,
            "grid_auto_rows": null,
            "grid_column": null,
            "grid_gap": null,
            "grid_row": null,
            "grid_template_areas": null,
            "grid_template_columns": null,
            "grid_template_rows": null,
            "height": null,
            "justify_content": null,
            "justify_items": null,
            "left": null,
            "margin": null,
            "max_height": null,
            "max_width": null,
            "min_height": null,
            "min_width": null,
            "object_fit": null,
            "object_position": null,
            "order": null,
            "overflow": null,
            "overflow_x": null,
            "overflow_y": null,
            "padding": null,
            "right": null,
            "top": null,
            "visibility": null,
            "width": null
          }
        },
        "cd1553be0c7c4cfe8662c44a30cb4d8b": {
          "model_module": "@jupyter-widgets/base",
          "model_name": "LayoutModel",
          "model_module_version": "1.2.0",
          "state": {
            "_model_module": "@jupyter-widgets/base",
            "_model_module_version": "1.2.0",
            "_model_name": "LayoutModel",
            "_view_count": null,
            "_view_module": "@jupyter-widgets/base",
            "_view_module_version": "1.2.0",
            "_view_name": "LayoutView",
            "align_content": null,
            "align_items": null,
            "align_self": null,
            "border": null,
            "bottom": null,
            "display": null,
            "flex": null,
            "flex_flow": null,
            "grid_area": null,
            "grid_auto_columns": null,
            "grid_auto_flow": null,
            "grid_auto_rows": null,
            "grid_column": null,
            "grid_gap": null,
            "grid_row": null,
            "grid_template_areas": null,
            "grid_template_columns": null,
            "grid_template_rows": null,
            "height": null,
            "justify_content": null,
            "justify_items": null,
            "left": null,
            "margin": null,
            "max_height": null,
            "max_width": null,
            "min_height": null,
            "min_width": null,
            "object_fit": null,
            "object_position": null,
            "order": null,
            "overflow": null,
            "overflow_x": null,
            "overflow_y": null,
            "padding": null,
            "right": null,
            "top": null,
            "visibility": null,
            "width": null
          }
        },
        "212641388b914dc19813c2e100924ecd": {
          "model_module": "@jupyter-widgets/controls",
          "model_name": "DescriptionStyleModel",
          "model_module_version": "1.5.0",
          "state": {
            "_model_module": "@jupyter-widgets/controls",
            "_model_module_version": "1.5.0",
            "_model_name": "DescriptionStyleModel",
            "_view_count": null,
            "_view_module": "@jupyter-widgets/base",
            "_view_module_version": "1.2.0",
            "_view_name": "StyleView",
            "description_width": ""
          }
        },
        "3c619101f273465fb881aa701ab0c31c": {
          "model_module": "@jupyter-widgets/base",
          "model_name": "LayoutModel",
          "model_module_version": "1.2.0",
          "state": {
            "_model_module": "@jupyter-widgets/base",
            "_model_module_version": "1.2.0",
            "_model_name": "LayoutModel",
            "_view_count": null,
            "_view_module": "@jupyter-widgets/base",
            "_view_module_version": "1.2.0",
            "_view_name": "LayoutView",
            "align_content": null,
            "align_items": null,
            "align_self": null,
            "border": null,
            "bottom": null,
            "display": null,
            "flex": null,
            "flex_flow": null,
            "grid_area": null,
            "grid_auto_columns": null,
            "grid_auto_flow": null,
            "grid_auto_rows": null,
            "grid_column": null,
            "grid_gap": null,
            "grid_row": null,
            "grid_template_areas": null,
            "grid_template_columns": null,
            "grid_template_rows": null,
            "height": null,
            "justify_content": null,
            "justify_items": null,
            "left": null,
            "margin": null,
            "max_height": null,
            "max_width": null,
            "min_height": null,
            "min_width": null,
            "object_fit": null,
            "object_position": null,
            "order": null,
            "overflow": null,
            "overflow_x": null,
            "overflow_y": null,
            "padding": null,
            "right": null,
            "top": null,
            "visibility": null,
            "width": null
          }
        },
        "40b083f555d949c5bc38ed110780f842": {
          "model_module": "@jupyter-widgets/controls",
          "model_name": "ProgressStyleModel",
          "model_module_version": "1.5.0",
          "state": {
            "_model_module": "@jupyter-widgets/controls",
            "_model_module_version": "1.5.0",
            "_model_name": "ProgressStyleModel",
            "_view_count": null,
            "_view_module": "@jupyter-widgets/base",
            "_view_module_version": "1.2.0",
            "_view_name": "StyleView",
            "bar_color": null,
            "description_width": ""
          }
        },
        "fa5cf0edd457478da71c69657fce1cc7": {
          "model_module": "@jupyter-widgets/base",
          "model_name": "LayoutModel",
          "model_module_version": "1.2.0",
          "state": {
            "_model_module": "@jupyter-widgets/base",
            "_model_module_version": "1.2.0",
            "_model_name": "LayoutModel",
            "_view_count": null,
            "_view_module": "@jupyter-widgets/base",
            "_view_module_version": "1.2.0",
            "_view_name": "LayoutView",
            "align_content": null,
            "align_items": null,
            "align_self": null,
            "border": null,
            "bottom": null,
            "display": null,
            "flex": null,
            "flex_flow": null,
            "grid_area": null,
            "grid_auto_columns": null,
            "grid_auto_flow": null,
            "grid_auto_rows": null,
            "grid_column": null,
            "grid_gap": null,
            "grid_row": null,
            "grid_template_areas": null,
            "grid_template_columns": null,
            "grid_template_rows": null,
            "height": null,
            "justify_content": null,
            "justify_items": null,
            "left": null,
            "margin": null,
            "max_height": null,
            "max_width": null,
            "min_height": null,
            "min_width": null,
            "object_fit": null,
            "object_position": null,
            "order": null,
            "overflow": null,
            "overflow_x": null,
            "overflow_y": null,
            "padding": null,
            "right": null,
            "top": null,
            "visibility": null,
            "width": null
          }
        },
        "ac244c5fd49942728da2d28544cf2333": {
          "model_module": "@jupyter-widgets/controls",
          "model_name": "DescriptionStyleModel",
          "model_module_version": "1.5.0",
          "state": {
            "_model_module": "@jupyter-widgets/controls",
            "_model_module_version": "1.5.0",
            "_model_name": "DescriptionStyleModel",
            "_view_count": null,
            "_view_module": "@jupyter-widgets/base",
            "_view_module_version": "1.2.0",
            "_view_name": "StyleView",
            "description_width": ""
          }
        },
        "61f1d96b68d4429da4f1930b5394b5f4": {
          "model_module": "@jupyter-widgets/controls",
          "model_name": "HBoxModel",
          "model_module_version": "1.5.0",
          "state": {
            "_dom_classes": [],
            "_model_module": "@jupyter-widgets/controls",
            "_model_module_version": "1.5.0",
            "_model_name": "HBoxModel",
            "_view_count": null,
            "_view_module": "@jupyter-widgets/controls",
            "_view_module_version": "1.5.0",
            "_view_name": "HBoxView",
            "box_style": "",
            "children": [
              "IPY_MODEL_1a085af996424a478b5728bbe149ca10",
              "IPY_MODEL_525ea63d37a1495dbb928abeb88649f6",
              "IPY_MODEL_32711eb9e4a2414c8242eeca8066ff9a"
            ],
            "layout": "IPY_MODEL_c547e814e8a74c7e9b6a0130e1e737d2"
          }
        },
        "1a085af996424a478b5728bbe149ca10": {
          "model_module": "@jupyter-widgets/controls",
          "model_name": "HTMLModel",
          "model_module_version": "1.5.0",
          "state": {
            "_dom_classes": [],
            "_model_module": "@jupyter-widgets/controls",
            "_model_module_version": "1.5.0",
            "_model_name": "HTMLModel",
            "_view_count": null,
            "_view_module": "@jupyter-widgets/controls",
            "_view_module_version": "1.5.0",
            "_view_name": "HTMLView",
            "description": "",
            "description_tooltip": null,
            "layout": "IPY_MODEL_c593da67435b4c8fa72a9fbce882ed94",
            "placeholder": "​",
            "style": "IPY_MODEL_8f234ac9554b406da8bdd12c66f6f89c",
            "value": "pytorch_model.bin: 100%"
          }
        },
        "525ea63d37a1495dbb928abeb88649f6": {
          "model_module": "@jupyter-widgets/controls",
          "model_name": "FloatProgressModel",
          "model_module_version": "1.5.0",
          "state": {
            "_dom_classes": [],
            "_model_module": "@jupyter-widgets/controls",
            "_model_module_version": "1.5.0",
            "_model_name": "FloatProgressModel",
            "_view_count": null,
            "_view_module": "@jupyter-widgets/controls",
            "_view_module_version": "1.5.0",
            "_view_name": "ProgressView",
            "bar_style": "success",
            "description": "",
            "description_tooltip": null,
            "layout": "IPY_MODEL_98e02180ad564995962c9861b7dde125",
            "max": 286059269,
            "min": 0,
            "orientation": "horizontal",
            "style": "IPY_MODEL_04f243f494504f50ab275917a38beb6c",
            "value": 286059269
          }
        },
        "32711eb9e4a2414c8242eeca8066ff9a": {
          "model_module": "@jupyter-widgets/controls",
          "model_name": "HTMLModel",
          "model_module_version": "1.5.0",
          "state": {
            "_dom_classes": [],
            "_model_module": "@jupyter-widgets/controls",
            "_model_module_version": "1.5.0",
            "_model_name": "HTMLModel",
            "_view_count": null,
            "_view_module": "@jupyter-widgets/controls",
            "_view_module_version": "1.5.0",
            "_view_name": "HTMLView",
            "description": "",
            "description_tooltip": null,
            "layout": "IPY_MODEL_6e30043c5c8a4266aa48f9e57af0f4b0",
            "placeholder": "​",
            "style": "IPY_MODEL_5c986ef646324c4cb6182d42218ec5bb",
            "value": " 286M/286M [00:04&lt;00:00, 30.5MB/s]"
          }
        },
        "c547e814e8a74c7e9b6a0130e1e737d2": {
          "model_module": "@jupyter-widgets/base",
          "model_name": "LayoutModel",
          "model_module_version": "1.2.0",
          "state": {
            "_model_module": "@jupyter-widgets/base",
            "_model_module_version": "1.2.0",
            "_model_name": "LayoutModel",
            "_view_count": null,
            "_view_module": "@jupyter-widgets/base",
            "_view_module_version": "1.2.0",
            "_view_name": "LayoutView",
            "align_content": null,
            "align_items": null,
            "align_self": null,
            "border": null,
            "bottom": null,
            "display": null,
            "flex": null,
            "flex_flow": null,
            "grid_area": null,
            "grid_auto_columns": null,
            "grid_auto_flow": null,
            "grid_auto_rows": null,
            "grid_column": null,
            "grid_gap": null,
            "grid_row": null,
            "grid_template_areas": null,
            "grid_template_columns": null,
            "grid_template_rows": null,
            "height": null,
            "justify_content": null,
            "justify_items": null,
            "left": null,
            "margin": null,
            "max_height": null,
            "max_width": null,
            "min_height": null,
            "min_width": null,
            "object_fit": null,
            "object_position": null,
            "order": null,
            "overflow": null,
            "overflow_x": null,
            "overflow_y": null,
            "padding": null,
            "right": null,
            "top": null,
            "visibility": null,
            "width": null
          }
        },
        "c593da67435b4c8fa72a9fbce882ed94": {
          "model_module": "@jupyter-widgets/base",
          "model_name": "LayoutModel",
          "model_module_version": "1.2.0",
          "state": {
            "_model_module": "@jupyter-widgets/base",
            "_model_module_version": "1.2.0",
            "_model_name": "LayoutModel",
            "_view_count": null,
            "_view_module": "@jupyter-widgets/base",
            "_view_module_version": "1.2.0",
            "_view_name": "LayoutView",
            "align_content": null,
            "align_items": null,
            "align_self": null,
            "border": null,
            "bottom": null,
            "display": null,
            "flex": null,
            "flex_flow": null,
            "grid_area": null,
            "grid_auto_columns": null,
            "grid_auto_flow": null,
            "grid_auto_rows": null,
            "grid_column": null,
            "grid_gap": null,
            "grid_row": null,
            "grid_template_areas": null,
            "grid_template_columns": null,
            "grid_template_rows": null,
            "height": null,
            "justify_content": null,
            "justify_items": null,
            "left": null,
            "margin": null,
            "max_height": null,
            "max_width": null,
            "min_height": null,
            "min_width": null,
            "object_fit": null,
            "object_position": null,
            "order": null,
            "overflow": null,
            "overflow_x": null,
            "overflow_y": null,
            "padding": null,
            "right": null,
            "top": null,
            "visibility": null,
            "width": null
          }
        },
        "8f234ac9554b406da8bdd12c66f6f89c": {
          "model_module": "@jupyter-widgets/controls",
          "model_name": "DescriptionStyleModel",
          "model_module_version": "1.5.0",
          "state": {
            "_model_module": "@jupyter-widgets/controls",
            "_model_module_version": "1.5.0",
            "_model_name": "DescriptionStyleModel",
            "_view_count": null,
            "_view_module": "@jupyter-widgets/base",
            "_view_module_version": "1.2.0",
            "_view_name": "StyleView",
            "description_width": ""
          }
        },
        "98e02180ad564995962c9861b7dde125": {
          "model_module": "@jupyter-widgets/base",
          "model_name": "LayoutModel",
          "model_module_version": "1.2.0",
          "state": {
            "_model_module": "@jupyter-widgets/base",
            "_model_module_version": "1.2.0",
            "_model_name": "LayoutModel",
            "_view_count": null,
            "_view_module": "@jupyter-widgets/base",
            "_view_module_version": "1.2.0",
            "_view_name": "LayoutView",
            "align_content": null,
            "align_items": null,
            "align_self": null,
            "border": null,
            "bottom": null,
            "display": null,
            "flex": null,
            "flex_flow": null,
            "grid_area": null,
            "grid_auto_columns": null,
            "grid_auto_flow": null,
            "grid_auto_rows": null,
            "grid_column": null,
            "grid_gap": null,
            "grid_row": null,
            "grid_template_areas": null,
            "grid_template_columns": null,
            "grid_template_rows": null,
            "height": null,
            "justify_content": null,
            "justify_items": null,
            "left": null,
            "margin": null,
            "max_height": null,
            "max_width": null,
            "min_height": null,
            "min_width": null,
            "object_fit": null,
            "object_position": null,
            "order": null,
            "overflow": null,
            "overflow_x": null,
            "overflow_y": null,
            "padding": null,
            "right": null,
            "top": null,
            "visibility": null,
            "width": null
          }
        },
        "04f243f494504f50ab275917a38beb6c": {
          "model_module": "@jupyter-widgets/controls",
          "model_name": "ProgressStyleModel",
          "model_module_version": "1.5.0",
          "state": {
            "_model_module": "@jupyter-widgets/controls",
            "_model_module_version": "1.5.0",
            "_model_name": "ProgressStyleModel",
            "_view_count": null,
            "_view_module": "@jupyter-widgets/base",
            "_view_module_version": "1.2.0",
            "_view_name": "StyleView",
            "bar_color": null,
            "description_width": ""
          }
        },
        "6e30043c5c8a4266aa48f9e57af0f4b0": {
          "model_module": "@jupyter-widgets/base",
          "model_name": "LayoutModel",
          "model_module_version": "1.2.0",
          "state": {
            "_model_module": "@jupyter-widgets/base",
            "_model_module_version": "1.2.0",
            "_model_name": "LayoutModel",
            "_view_count": null,
            "_view_module": "@jupyter-widgets/base",
            "_view_module_version": "1.2.0",
            "_view_name": "LayoutView",
            "align_content": null,
            "align_items": null,
            "align_self": null,
            "border": null,
            "bottom": null,
            "display": null,
            "flex": null,
            "flex_flow": null,
            "grid_area": null,
            "grid_auto_columns": null,
            "grid_auto_flow": null,
            "grid_auto_rows": null,
            "grid_column": null,
            "grid_gap": null,
            "grid_row": null,
            "grid_template_areas": null,
            "grid_template_columns": null,
            "grid_template_rows": null,
            "height": null,
            "justify_content": null,
            "justify_items": null,
            "left": null,
            "margin": null,
            "max_height": null,
            "max_width": null,
            "min_height": null,
            "min_width": null,
            "object_fit": null,
            "object_position": null,
            "order": null,
            "overflow": null,
            "overflow_x": null,
            "overflow_y": null,
            "padding": null,
            "right": null,
            "top": null,
            "visibility": null,
            "width": null
          }
        },
        "5c986ef646324c4cb6182d42218ec5bb": {
          "model_module": "@jupyter-widgets/controls",
          "model_name": "DescriptionStyleModel",
          "model_module_version": "1.5.0",
          "state": {
            "_model_module": "@jupyter-widgets/controls",
            "_model_module_version": "1.5.0",
            "_model_name": "DescriptionStyleModel",
            "_view_count": null,
            "_view_module": "@jupyter-widgets/base",
            "_view_module_version": "1.2.0",
            "_view_name": "StyleView",
            "description_width": ""
          }
        },
        "50b42ec3316e4c56aef711b0154fe8be": {
          "model_module": "@jupyter-widgets/controls",
          "model_name": "HBoxModel",
          "model_module_version": "1.5.0",
          "state": {
            "_dom_classes": [],
            "_model_module": "@jupyter-widgets/controls",
            "_model_module_version": "1.5.0",
            "_model_name": "HBoxModel",
            "_view_count": null,
            "_view_module": "@jupyter-widgets/controls",
            "_view_module_version": "1.5.0",
            "_view_name": "HBoxView",
            "box_style": "",
            "children": [
              "IPY_MODEL_3eeb220770a24030b394573468270a67",
              "IPY_MODEL_61f470be35014601b3c754a6932f2eb3",
              "IPY_MODEL_cb00ebc3765346fca510ab1df9291221"
            ],
            "layout": "IPY_MODEL_fc8d4063578047448a82441716482eee"
          }
        },
        "3eeb220770a24030b394573468270a67": {
          "model_module": "@jupyter-widgets/controls",
          "model_name": "HTMLModel",
          "model_module_version": "1.5.0",
          "state": {
            "_dom_classes": [],
            "_model_module": "@jupyter-widgets/controls",
            "_model_module_version": "1.5.0",
            "_model_name": "HTMLModel",
            "_view_count": null,
            "_view_module": "@jupyter-widgets/controls",
            "_view_module_version": "1.5.0",
            "_view_name": "HTMLView",
            "description": "",
            "description_tooltip": null,
            "layout": "IPY_MODEL_c65bd715702d4609847b06eb04325230",
            "placeholder": "​",
            "style": "IPY_MODEL_ac11c4b818404b20b3d0df0c2d99cc9b",
            "value": "tokenizer_config.json: 100%"
          }
        },
        "61f470be35014601b3c754a6932f2eb3": {
          "model_module": "@jupyter-widgets/controls",
          "model_name": "FloatProgressModel",
          "model_module_version": "1.5.0",
          "state": {
            "_dom_classes": [],
            "_model_module": "@jupyter-widgets/controls",
            "_model_module_version": "1.5.0",
            "_model_name": "FloatProgressModel",
            "_view_count": null,
            "_view_module": "@jupyter-widgets/controls",
            "_view_module_version": "1.5.0",
            "_view_name": "ProgressView",
            "bar_style": "success",
            "description": "",
            "description_tooltip": null,
            "layout": "IPY_MODEL_3a75d1804b7340ee808299dea14f35cb",
            "max": 52,
            "min": 0,
            "orientation": "horizontal",
            "style": "IPY_MODEL_b776d3a9cfd04c3ebe221d8e2b43cae8",
            "value": 52
          }
        },
        "cb00ebc3765346fca510ab1df9291221": {
          "model_module": "@jupyter-widgets/controls",
          "model_name": "HTMLModel",
          "model_module_version": "1.5.0",
          "state": {
            "_dom_classes": [],
            "_model_module": "@jupyter-widgets/controls",
            "_model_module_version": "1.5.0",
            "_model_name": "HTMLModel",
            "_view_count": null,
            "_view_module": "@jupyter-widgets/controls",
            "_view_module_version": "1.5.0",
            "_view_name": "HTMLView",
            "description": "",
            "description_tooltip": null,
            "layout": "IPY_MODEL_f36dc0179b2d4310bbc8fcd6afaecf76",
            "placeholder": "​",
            "style": "IPY_MODEL_49b2f91aabd943129f8bd3905d281a50",
            "value": " 52.0/52.0 [00:00&lt;00:00, 5.86kB/s]"
          }
        },
        "fc8d4063578047448a82441716482eee": {
          "model_module": "@jupyter-widgets/base",
          "model_name": "LayoutModel",
          "model_module_version": "1.2.0",
          "state": {
            "_model_module": "@jupyter-widgets/base",
            "_model_module_version": "1.2.0",
            "_model_name": "LayoutModel",
            "_view_count": null,
            "_view_module": "@jupyter-widgets/base",
            "_view_module_version": "1.2.0",
            "_view_name": "LayoutView",
            "align_content": null,
            "align_items": null,
            "align_self": null,
            "border": null,
            "bottom": null,
            "display": null,
            "flex": null,
            "flex_flow": null,
            "grid_area": null,
            "grid_auto_columns": null,
            "grid_auto_flow": null,
            "grid_auto_rows": null,
            "grid_column": null,
            "grid_gap": null,
            "grid_row": null,
            "grid_template_areas": null,
            "grid_template_columns": null,
            "grid_template_rows": null,
            "height": null,
            "justify_content": null,
            "justify_items": null,
            "left": null,
            "margin": null,
            "max_height": null,
            "max_width": null,
            "min_height": null,
            "min_width": null,
            "object_fit": null,
            "object_position": null,
            "order": null,
            "overflow": null,
            "overflow_x": null,
            "overflow_y": null,
            "padding": null,
            "right": null,
            "top": null,
            "visibility": null,
            "width": null
          }
        },
        "c65bd715702d4609847b06eb04325230": {
          "model_module": "@jupyter-widgets/base",
          "model_name": "LayoutModel",
          "model_module_version": "1.2.0",
          "state": {
            "_model_module": "@jupyter-widgets/base",
            "_model_module_version": "1.2.0",
            "_model_name": "LayoutModel",
            "_view_count": null,
            "_view_module": "@jupyter-widgets/base",
            "_view_module_version": "1.2.0",
            "_view_name": "LayoutView",
            "align_content": null,
            "align_items": null,
            "align_self": null,
            "border": null,
            "bottom": null,
            "display": null,
            "flex": null,
            "flex_flow": null,
            "grid_area": null,
            "grid_auto_columns": null,
            "grid_auto_flow": null,
            "grid_auto_rows": null,
            "grid_column": null,
            "grid_gap": null,
            "grid_row": null,
            "grid_template_areas": null,
            "grid_template_columns": null,
            "grid_template_rows": null,
            "height": null,
            "justify_content": null,
            "justify_items": null,
            "left": null,
            "margin": null,
            "max_height": null,
            "max_width": null,
            "min_height": null,
            "min_width": null,
            "object_fit": null,
            "object_position": null,
            "order": null,
            "overflow": null,
            "overflow_x": null,
            "overflow_y": null,
            "padding": null,
            "right": null,
            "top": null,
            "visibility": null,
            "width": null
          }
        },
        "ac11c4b818404b20b3d0df0c2d99cc9b": {
          "model_module": "@jupyter-widgets/controls",
          "model_name": "DescriptionStyleModel",
          "model_module_version": "1.5.0",
          "state": {
            "_model_module": "@jupyter-widgets/controls",
            "_model_module_version": "1.5.0",
            "_model_name": "DescriptionStyleModel",
            "_view_count": null,
            "_view_module": "@jupyter-widgets/base",
            "_view_module_version": "1.2.0",
            "_view_name": "StyleView",
            "description_width": ""
          }
        },
        "3a75d1804b7340ee808299dea14f35cb": {
          "model_module": "@jupyter-widgets/base",
          "model_name": "LayoutModel",
          "model_module_version": "1.2.0",
          "state": {
            "_model_module": "@jupyter-widgets/base",
            "_model_module_version": "1.2.0",
            "_model_name": "LayoutModel",
            "_view_count": null,
            "_view_module": "@jupyter-widgets/base",
            "_view_module_version": "1.2.0",
            "_view_name": "LayoutView",
            "align_content": null,
            "align_items": null,
            "align_self": null,
            "border": null,
            "bottom": null,
            "display": null,
            "flex": null,
            "flex_flow": null,
            "grid_area": null,
            "grid_auto_columns": null,
            "grid_auto_flow": null,
            "grid_auto_rows": null,
            "grid_column": null,
            "grid_gap": null,
            "grid_row": null,
            "grid_template_areas": null,
            "grid_template_columns": null,
            "grid_template_rows": null,
            "height": null,
            "justify_content": null,
            "justify_items": null,
            "left": null,
            "margin": null,
            "max_height": null,
            "max_width": null,
            "min_height": null,
            "min_width": null,
            "object_fit": null,
            "object_position": null,
            "order": null,
            "overflow": null,
            "overflow_x": null,
            "overflow_y": null,
            "padding": null,
            "right": null,
            "top": null,
            "visibility": null,
            "width": null
          }
        },
        "b776d3a9cfd04c3ebe221d8e2b43cae8": {
          "model_module": "@jupyter-widgets/controls",
          "model_name": "ProgressStyleModel",
          "model_module_version": "1.5.0",
          "state": {
            "_model_module": "@jupyter-widgets/controls",
            "_model_module_version": "1.5.0",
            "_model_name": "ProgressStyleModel",
            "_view_count": null,
            "_view_module": "@jupyter-widgets/base",
            "_view_module_version": "1.2.0",
            "_view_name": "StyleView",
            "bar_color": null,
            "description_width": ""
          }
        },
        "f36dc0179b2d4310bbc8fcd6afaecf76": {
          "model_module": "@jupyter-widgets/base",
          "model_name": "LayoutModel",
          "model_module_version": "1.2.0",
          "state": {
            "_model_module": "@jupyter-widgets/base",
            "_model_module_version": "1.2.0",
            "_model_name": "LayoutModel",
            "_view_count": null,
            "_view_module": "@jupyter-widgets/base",
            "_view_module_version": "1.2.0",
            "_view_name": "LayoutView",
            "align_content": null,
            "align_items": null,
            "align_self": null,
            "border": null,
            "bottom": null,
            "display": null,
            "flex": null,
            "flex_flow": null,
            "grid_area": null,
            "grid_auto_columns": null,
            "grid_auto_flow": null,
            "grid_auto_rows": null,
            "grid_column": null,
            "grid_gap": null,
            "grid_row": null,
            "grid_template_areas": null,
            "grid_template_columns": null,
            "grid_template_rows": null,
            "height": null,
            "justify_content": null,
            "justify_items": null,
            "left": null,
            "margin": null,
            "max_height": null,
            "max_width": null,
            "min_height": null,
            "min_width": null,
            "object_fit": null,
            "object_position": null,
            "order": null,
            "overflow": null,
            "overflow_x": null,
            "overflow_y": null,
            "padding": null,
            "right": null,
            "top": null,
            "visibility": null,
            "width": null
          }
        },
        "49b2f91aabd943129f8bd3905d281a50": {
          "model_module": "@jupyter-widgets/controls",
          "model_name": "DescriptionStyleModel",
          "model_module_version": "1.5.0",
          "state": {
            "_model_module": "@jupyter-widgets/controls",
            "_model_module_version": "1.5.0",
            "_model_name": "DescriptionStyleModel",
            "_view_count": null,
            "_view_module": "@jupyter-widgets/base",
            "_view_module_version": "1.2.0",
            "_view_name": "StyleView",
            "description_width": ""
          }
        },
        "dcbe609b81ea4623adac251466a33357": {
          "model_module": "@jupyter-widgets/controls",
          "model_name": "HBoxModel",
          "model_module_version": "1.5.0",
          "state": {
            "_dom_classes": [],
            "_model_module": "@jupyter-widgets/controls",
            "_model_module_version": "1.5.0",
            "_model_name": "HBoxModel",
            "_view_count": null,
            "_view_module": "@jupyter-widgets/controls",
            "_view_module_version": "1.5.0",
            "_view_name": "HBoxView",
            "box_style": "",
            "children": [
              "IPY_MODEL_6b03896974634a03bd3143347cee69a1",
              "IPY_MODEL_96cc63b3749149bb86809bf0e44c3d5b",
              "IPY_MODEL_bab11500ac59422d8d5db8eca311878a"
            ],
            "layout": "IPY_MODEL_9efc240301e143d49c05678579884d27"
          }
        },
        "6b03896974634a03bd3143347cee69a1": {
          "model_module": "@jupyter-widgets/controls",
          "model_name": "HTMLModel",
          "model_module_version": "1.5.0",
          "state": {
            "_dom_classes": [],
            "_model_module": "@jupyter-widgets/controls",
            "_model_module_version": "1.5.0",
            "_model_name": "HTMLModel",
            "_view_count": null,
            "_view_module": "@jupyter-widgets/controls",
            "_view_module_version": "1.5.0",
            "_view_name": "HTMLView",
            "description": "",
            "description_tooltip": null,
            "layout": "IPY_MODEL_74fd2357bf4e41d2bc016a818936bc56",
            "placeholder": "​",
            "style": "IPY_MODEL_d60e6b642c594a90ad7ef714682a0d01",
            "value": "spm.model: 100%"
          }
        },
        "96cc63b3749149bb86809bf0e44c3d5b": {
          "model_module": "@jupyter-widgets/controls",
          "model_name": "FloatProgressModel",
          "model_module_version": "1.5.0",
          "state": {
            "_dom_classes": [],
            "_model_module": "@jupyter-widgets/controls",
            "_model_module_version": "1.5.0",
            "_model_name": "FloatProgressModel",
            "_view_count": null,
            "_view_module": "@jupyter-widgets/controls",
            "_view_module_version": "1.5.0",
            "_view_name": "ProgressView",
            "bar_style": "success",
            "description": "",
            "description_tooltip": null,
            "layout": "IPY_MODEL_24fcf7a8528445b686b1eb17f5469b36",
            "max": 2464616,
            "min": 0,
            "orientation": "horizontal",
            "style": "IPY_MODEL_4aa27e074e1d4139b3850076428e3ddd",
            "value": 2464616
          }
        },
        "bab11500ac59422d8d5db8eca311878a": {
          "model_module": "@jupyter-widgets/controls",
          "model_name": "HTMLModel",
          "model_module_version": "1.5.0",
          "state": {
            "_dom_classes": [],
            "_model_module": "@jupyter-widgets/controls",
            "_model_module_version": "1.5.0",
            "_model_name": "HTMLModel",
            "_view_count": null,
            "_view_module": "@jupyter-widgets/controls",
            "_view_module_version": "1.5.0",
            "_view_name": "HTMLView",
            "description": "",
            "description_tooltip": null,
            "layout": "IPY_MODEL_85f600e8e2134c85ad16580a1af20c13",
            "placeholder": "​",
            "style": "IPY_MODEL_0af25491b1dc4d1d97038e6925d914b4",
            "value": " 2.46M/2.46M [00:00&lt;00:00, 92.2MB/s]"
          }
        },
        "9efc240301e143d49c05678579884d27": {
          "model_module": "@jupyter-widgets/base",
          "model_name": "LayoutModel",
          "model_module_version": "1.2.0",
          "state": {
            "_model_module": "@jupyter-widgets/base",
            "_model_module_version": "1.2.0",
            "_model_name": "LayoutModel",
            "_view_count": null,
            "_view_module": "@jupyter-widgets/base",
            "_view_module_version": "1.2.0",
            "_view_name": "LayoutView",
            "align_content": null,
            "align_items": null,
            "align_self": null,
            "border": null,
            "bottom": null,
            "display": null,
            "flex": null,
            "flex_flow": null,
            "grid_area": null,
            "grid_auto_columns": null,
            "grid_auto_flow": null,
            "grid_auto_rows": null,
            "grid_column": null,
            "grid_gap": null,
            "grid_row": null,
            "grid_template_areas": null,
            "grid_template_columns": null,
            "grid_template_rows": null,
            "height": null,
            "justify_content": null,
            "justify_items": null,
            "left": null,
            "margin": null,
            "max_height": null,
            "max_width": null,
            "min_height": null,
            "min_width": null,
            "object_fit": null,
            "object_position": null,
            "order": null,
            "overflow": null,
            "overflow_x": null,
            "overflow_y": null,
            "padding": null,
            "right": null,
            "top": null,
            "visibility": null,
            "width": null
          }
        },
        "74fd2357bf4e41d2bc016a818936bc56": {
          "model_module": "@jupyter-widgets/base",
          "model_name": "LayoutModel",
          "model_module_version": "1.2.0",
          "state": {
            "_model_module": "@jupyter-widgets/base",
            "_model_module_version": "1.2.0",
            "_model_name": "LayoutModel",
            "_view_count": null,
            "_view_module": "@jupyter-widgets/base",
            "_view_module_version": "1.2.0",
            "_view_name": "LayoutView",
            "align_content": null,
            "align_items": null,
            "align_self": null,
            "border": null,
            "bottom": null,
            "display": null,
            "flex": null,
            "flex_flow": null,
            "grid_area": null,
            "grid_auto_columns": null,
            "grid_auto_flow": null,
            "grid_auto_rows": null,
            "grid_column": null,
            "grid_gap": null,
            "grid_row": null,
            "grid_template_areas": null,
            "grid_template_columns": null,
            "grid_template_rows": null,
            "height": null,
            "justify_content": null,
            "justify_items": null,
            "left": null,
            "margin": null,
            "max_height": null,
            "max_width": null,
            "min_height": null,
            "min_width": null,
            "object_fit": null,
            "object_position": null,
            "order": null,
            "overflow": null,
            "overflow_x": null,
            "overflow_y": null,
            "padding": null,
            "right": null,
            "top": null,
            "visibility": null,
            "width": null
          }
        },
        "d60e6b642c594a90ad7ef714682a0d01": {
          "model_module": "@jupyter-widgets/controls",
          "model_name": "DescriptionStyleModel",
          "model_module_version": "1.5.0",
          "state": {
            "_model_module": "@jupyter-widgets/controls",
            "_model_module_version": "1.5.0",
            "_model_name": "DescriptionStyleModel",
            "_view_count": null,
            "_view_module": "@jupyter-widgets/base",
            "_view_module_version": "1.2.0",
            "_view_name": "StyleView",
            "description_width": ""
          }
        },
        "24fcf7a8528445b686b1eb17f5469b36": {
          "model_module": "@jupyter-widgets/base",
          "model_name": "LayoutModel",
          "model_module_version": "1.2.0",
          "state": {
            "_model_module": "@jupyter-widgets/base",
            "_model_module_version": "1.2.0",
            "_model_name": "LayoutModel",
            "_view_count": null,
            "_view_module": "@jupyter-widgets/base",
            "_view_module_version": "1.2.0",
            "_view_name": "LayoutView",
            "align_content": null,
            "align_items": null,
            "align_self": null,
            "border": null,
            "bottom": null,
            "display": null,
            "flex": null,
            "flex_flow": null,
            "grid_area": null,
            "grid_auto_columns": null,
            "grid_auto_flow": null,
            "grid_auto_rows": null,
            "grid_column": null,
            "grid_gap": null,
            "grid_row": null,
            "grid_template_areas": null,
            "grid_template_columns": null,
            "grid_template_rows": null,
            "height": null,
            "justify_content": null,
            "justify_items": null,
            "left": null,
            "margin": null,
            "max_height": null,
            "max_width": null,
            "min_height": null,
            "min_width": null,
            "object_fit": null,
            "object_position": null,
            "order": null,
            "overflow": null,
            "overflow_x": null,
            "overflow_y": null,
            "padding": null,
            "right": null,
            "top": null,
            "visibility": null,
            "width": null
          }
        },
        "4aa27e074e1d4139b3850076428e3ddd": {
          "model_module": "@jupyter-widgets/controls",
          "model_name": "ProgressStyleModel",
          "model_module_version": "1.5.0",
          "state": {
            "_model_module": "@jupyter-widgets/controls",
            "_model_module_version": "1.5.0",
            "_model_name": "ProgressStyleModel",
            "_view_count": null,
            "_view_module": "@jupyter-widgets/base",
            "_view_module_version": "1.2.0",
            "_view_name": "StyleView",
            "bar_color": null,
            "description_width": ""
          }
        },
        "85f600e8e2134c85ad16580a1af20c13": {
          "model_module": "@jupyter-widgets/base",
          "model_name": "LayoutModel",
          "model_module_version": "1.2.0",
          "state": {
            "_model_module": "@jupyter-widgets/base",
            "_model_module_version": "1.2.0",
            "_model_name": "LayoutModel",
            "_view_count": null,
            "_view_module": "@jupyter-widgets/base",
            "_view_module_version": "1.2.0",
            "_view_name": "LayoutView",
            "align_content": null,
            "align_items": null,
            "align_self": null,
            "border": null,
            "bottom": null,
            "display": null,
            "flex": null,
            "flex_flow": null,
            "grid_area": null,
            "grid_auto_columns": null,
            "grid_auto_flow": null,
            "grid_auto_rows": null,
            "grid_column": null,
            "grid_gap": null,
            "grid_row": null,
            "grid_template_areas": null,
            "grid_template_columns": null,
            "grid_template_rows": null,
            "height": null,
            "justify_content": null,
            "justify_items": null,
            "left": null,
            "margin": null,
            "max_height": null,
            "max_width": null,
            "min_height": null,
            "min_width": null,
            "object_fit": null,
            "object_position": null,
            "order": null,
            "overflow": null,
            "overflow_x": null,
            "overflow_y": null,
            "padding": null,
            "right": null,
            "top": null,
            "visibility": null,
            "width": null
          }
        },
        "0af25491b1dc4d1d97038e6925d914b4": {
          "model_module": "@jupyter-widgets/controls",
          "model_name": "DescriptionStyleModel",
          "model_module_version": "1.5.0",
          "state": {
            "_model_module": "@jupyter-widgets/controls",
            "_model_module_version": "1.5.0",
            "_model_name": "DescriptionStyleModel",
            "_view_count": null,
            "_view_module": "@jupyter-widgets/base",
            "_view_module_version": "1.2.0",
            "_view_name": "StyleView",
            "description_width": ""
          }
        },
        "aab98fe2422e4ee8ad8b1b44c98a9285": {
          "model_module": "@jupyter-widgets/controls",
          "model_name": "HBoxModel",
          "model_module_version": "1.5.0",
          "state": {
            "_dom_classes": [],
            "_model_module": "@jupyter-widgets/controls",
            "_model_module_version": "1.5.0",
            "_model_name": "HBoxModel",
            "_view_count": null,
            "_view_module": "@jupyter-widgets/controls",
            "_view_module_version": "1.5.0",
            "_view_name": "HBoxView",
            "box_style": "",
            "children": [
              "IPY_MODEL_1cc37bcbb6534535816bcc1d7bd56e17",
              "IPY_MODEL_af22025ab05a414eab4853568bc0fc2b",
              "IPY_MODEL_cb3e12cc23814087934d9eb2b7ce04b3"
            ],
            "layout": "IPY_MODEL_b6956441fe774494af914f81e4aacdb3"
          }
        },
        "1cc37bcbb6534535816bcc1d7bd56e17": {
          "model_module": "@jupyter-widgets/controls",
          "model_name": "HTMLModel",
          "model_module_version": "1.5.0",
          "state": {
            "_dom_classes": [],
            "_model_module": "@jupyter-widgets/controls",
            "_model_module_version": "1.5.0",
            "_model_name": "HTMLModel",
            "_view_count": null,
            "_view_module": "@jupyter-widgets/controls",
            "_view_module_version": "1.5.0",
            "_view_name": "HTMLView",
            "description": "",
            "description_tooltip": null,
            "layout": "IPY_MODEL_f8f833b79e5649b796eee21a7b3148db",
            "placeholder": "​",
            "style": "IPY_MODEL_7e7fb6b190864497bd7d4aecb11c3adb",
            "value": "model.safetensors: 100%"
          }
        },
        "af22025ab05a414eab4853568bc0fc2b": {
          "model_module": "@jupyter-widgets/controls",
          "model_name": "FloatProgressModel",
          "model_module_version": "1.5.0",
          "state": {
            "_dom_classes": [],
            "_model_module": "@jupyter-widgets/controls",
            "_model_module_version": "1.5.0",
            "_model_name": "FloatProgressModel",
            "_view_count": null,
            "_view_module": "@jupyter-widgets/controls",
            "_view_module_version": "1.5.0",
            "_view_name": "ProgressView",
            "bar_style": "success",
            "description": "",
            "description_tooltip": null,
            "layout": "IPY_MODEL_47c41e1ef5f84656a10ea2c7c4ece085",
            "max": 286034994,
            "min": 0,
            "orientation": "horizontal",
            "style": "IPY_MODEL_8a209ca2eb4d4bd898446aaef4aa9ad6",
            "value": 286034994
          }
        },
        "cb3e12cc23814087934d9eb2b7ce04b3": {
          "model_module": "@jupyter-widgets/controls",
          "model_name": "HTMLModel",
          "model_module_version": "1.5.0",
          "state": {
            "_dom_classes": [],
            "_model_module": "@jupyter-widgets/controls",
            "_model_module_version": "1.5.0",
            "_model_name": "HTMLModel",
            "_view_count": null,
            "_view_module": "@jupyter-widgets/controls",
            "_view_module_version": "1.5.0",
            "_view_name": "HTMLView",
            "description": "",
            "description_tooltip": null,
            "layout": "IPY_MODEL_364abfa93a0f41c1a6ebf10342a3265e",
            "placeholder": "​",
            "style": "IPY_MODEL_743cd9a6b8154436bc6d7317d03a97e1",
            "value": " 286M/286M [00:01&lt;00:00, 94.2MB/s]"
          }
        },
        "b6956441fe774494af914f81e4aacdb3": {
          "model_module": "@jupyter-widgets/base",
          "model_name": "LayoutModel",
          "model_module_version": "1.2.0",
          "state": {
            "_model_module": "@jupyter-widgets/base",
            "_model_module_version": "1.2.0",
            "_model_name": "LayoutModel",
            "_view_count": null,
            "_view_module": "@jupyter-widgets/base",
            "_view_module_version": "1.2.0",
            "_view_name": "LayoutView",
            "align_content": null,
            "align_items": null,
            "align_self": null,
            "border": null,
            "bottom": null,
            "display": null,
            "flex": null,
            "flex_flow": null,
            "grid_area": null,
            "grid_auto_columns": null,
            "grid_auto_flow": null,
            "grid_auto_rows": null,
            "grid_column": null,
            "grid_gap": null,
            "grid_row": null,
            "grid_template_areas": null,
            "grid_template_columns": null,
            "grid_template_rows": null,
            "height": null,
            "justify_content": null,
            "justify_items": null,
            "left": null,
            "margin": null,
            "max_height": null,
            "max_width": null,
            "min_height": null,
            "min_width": null,
            "object_fit": null,
            "object_position": null,
            "order": null,
            "overflow": null,
            "overflow_x": null,
            "overflow_y": null,
            "padding": null,
            "right": null,
            "top": null,
            "visibility": null,
            "width": null
          }
        },
        "f8f833b79e5649b796eee21a7b3148db": {
          "model_module": "@jupyter-widgets/base",
          "model_name": "LayoutModel",
          "model_module_version": "1.2.0",
          "state": {
            "_model_module": "@jupyter-widgets/base",
            "_model_module_version": "1.2.0",
            "_model_name": "LayoutModel",
            "_view_count": null,
            "_view_module": "@jupyter-widgets/base",
            "_view_module_version": "1.2.0",
            "_view_name": "LayoutView",
            "align_content": null,
            "align_items": null,
            "align_self": null,
            "border": null,
            "bottom": null,
            "display": null,
            "flex": null,
            "flex_flow": null,
            "grid_area": null,
            "grid_auto_columns": null,
            "grid_auto_flow": null,
            "grid_auto_rows": null,
            "grid_column": null,
            "grid_gap": null,
            "grid_row": null,
            "grid_template_areas": null,
            "grid_template_columns": null,
            "grid_template_rows": null,
            "height": null,
            "justify_content": null,
            "justify_items": null,
            "left": null,
            "margin": null,
            "max_height": null,
            "max_width": null,
            "min_height": null,
            "min_width": null,
            "object_fit": null,
            "object_position": null,
            "order": null,
            "overflow": null,
            "overflow_x": null,
            "overflow_y": null,
            "padding": null,
            "right": null,
            "top": null,
            "visibility": null,
            "width": null
          }
        },
        "7e7fb6b190864497bd7d4aecb11c3adb": {
          "model_module": "@jupyter-widgets/controls",
          "model_name": "DescriptionStyleModel",
          "model_module_version": "1.5.0",
          "state": {
            "_model_module": "@jupyter-widgets/controls",
            "_model_module_version": "1.5.0",
            "_model_name": "DescriptionStyleModel",
            "_view_count": null,
            "_view_module": "@jupyter-widgets/base",
            "_view_module_version": "1.2.0",
            "_view_name": "StyleView",
            "description_width": ""
          }
        },
        "47c41e1ef5f84656a10ea2c7c4ece085": {
          "model_module": "@jupyter-widgets/base",
          "model_name": "LayoutModel",
          "model_module_version": "1.2.0",
          "state": {
            "_model_module": "@jupyter-widgets/base",
            "_model_module_version": "1.2.0",
            "_model_name": "LayoutModel",
            "_view_count": null,
            "_view_module": "@jupyter-widgets/base",
            "_view_module_version": "1.2.0",
            "_view_name": "LayoutView",
            "align_content": null,
            "align_items": null,
            "align_self": null,
            "border": null,
            "bottom": null,
            "display": null,
            "flex": null,
            "flex_flow": null,
            "grid_area": null,
            "grid_auto_columns": null,
            "grid_auto_flow": null,
            "grid_auto_rows": null,
            "grid_column": null,
            "grid_gap": null,
            "grid_row": null,
            "grid_template_areas": null,
            "grid_template_columns": null,
            "grid_template_rows": null,
            "height": null,
            "justify_content": null,
            "justify_items": null,
            "left": null,
            "margin": null,
            "max_height": null,
            "max_width": null,
            "min_height": null,
            "min_width": null,
            "object_fit": null,
            "object_position": null,
            "order": null,
            "overflow": null,
            "overflow_x": null,
            "overflow_y": null,
            "padding": null,
            "right": null,
            "top": null,
            "visibility": null,
            "width": null
          }
        },
        "8a209ca2eb4d4bd898446aaef4aa9ad6": {
          "model_module": "@jupyter-widgets/controls",
          "model_name": "ProgressStyleModel",
          "model_module_version": "1.5.0",
          "state": {
            "_model_module": "@jupyter-widgets/controls",
            "_model_module_version": "1.5.0",
            "_model_name": "ProgressStyleModel",
            "_view_count": null,
            "_view_module": "@jupyter-widgets/base",
            "_view_module_version": "1.2.0",
            "_view_name": "StyleView",
            "bar_color": null,
            "description_width": ""
          }
        },
        "364abfa93a0f41c1a6ebf10342a3265e": {
          "model_module": "@jupyter-widgets/base",
          "model_name": "LayoutModel",
          "model_module_version": "1.2.0",
          "state": {
            "_model_module": "@jupyter-widgets/base",
            "_model_module_version": "1.2.0",
            "_model_name": "LayoutModel",
            "_view_count": null,
            "_view_module": "@jupyter-widgets/base",
            "_view_module_version": "1.2.0",
            "_view_name": "LayoutView",
            "align_content": null,
            "align_items": null,
            "align_self": null,
            "border": null,
            "bottom": null,
            "display": null,
            "flex": null,
            "flex_flow": null,
            "grid_area": null,
            "grid_auto_columns": null,
            "grid_auto_flow": null,
            "grid_auto_rows": null,
            "grid_column": null,
            "grid_gap": null,
            "grid_row": null,
            "grid_template_areas": null,
            "grid_template_columns": null,
            "grid_template_rows": null,
            "height": null,
            "justify_content": null,
            "justify_items": null,
            "left": null,
            "margin": null,
            "max_height": null,
            "max_width": null,
            "min_height": null,
            "min_width": null,
            "object_fit": null,
            "object_position": null,
            "order": null,
            "overflow": null,
            "overflow_x": null,
            "overflow_y": null,
            "padding": null,
            "right": null,
            "top": null,
            "visibility": null,
            "width": null
          }
        },
        "743cd9a6b8154436bc6d7317d03a97e1": {
          "model_module": "@jupyter-widgets/controls",
          "model_name": "DescriptionStyleModel",
          "model_module_version": "1.5.0",
          "state": {
            "_model_module": "@jupyter-widgets/controls",
            "_model_module_version": "1.5.0",
            "_model_name": "DescriptionStyleModel",
            "_view_count": null,
            "_view_module": "@jupyter-widgets/base",
            "_view_module_version": "1.2.0",
            "_view_name": "StyleView",
            "description_width": ""
          }
        },
        "e6e9ac2aded34f719653184203d3d3b3": {
          "model_module": "@jupyter-widgets/controls",
          "model_name": "HBoxModel",
          "model_module_version": "1.5.0",
          "state": {
            "_dom_classes": [],
            "_model_module": "@jupyter-widgets/controls",
            "_model_module_version": "1.5.0",
            "_model_name": "HBoxModel",
            "_view_count": null,
            "_view_module": "@jupyter-widgets/controls",
            "_view_module_version": "1.5.0",
            "_view_name": "HBoxView",
            "box_style": "",
            "children": [
              "IPY_MODEL_9ae365043d5a4602b039267288b5fdfe",
              "IPY_MODEL_9bb1cc03833b4eecbbbb71cb727ec7ad",
              "IPY_MODEL_62ccdcc9c7cb4dcbabb4a389b069d0a8"
            ],
            "layout": "IPY_MODEL_176401482907404588d6eeeb4f0e0fb8"
          }
        },
        "9ae365043d5a4602b039267288b5fdfe": {
          "model_module": "@jupyter-widgets/controls",
          "model_name": "HTMLModel",
          "model_module_version": "1.5.0",
          "state": {
            "_dom_classes": [],
            "_model_module": "@jupyter-widgets/controls",
            "_model_module_version": "1.5.0",
            "_model_name": "HTMLModel",
            "_view_count": null,
            "_view_module": "@jupyter-widgets/controls",
            "_view_module_version": "1.5.0",
            "_view_name": "HTMLView",
            "description": "",
            "description_tooltip": null,
            "layout": "IPY_MODEL_c68294e9f58f4917b18a11e9f72e4559",
            "placeholder": "​",
            "style": "IPY_MODEL_a9b6e2a3c27f4a02a4ff22d5a2995231",
            "value": "config.json: 100%"
          }
        },
        "9bb1cc03833b4eecbbbb71cb727ec7ad": {
          "model_module": "@jupyter-widgets/controls",
          "model_name": "FloatProgressModel",
          "model_module_version": "1.5.0",
          "state": {
            "_dom_classes": [],
            "_model_module": "@jupyter-widgets/controls",
            "_model_module_version": "1.5.0",
            "_model_name": "FloatProgressModel",
            "_view_count": null,
            "_view_module": "@jupyter-widgets/controls",
            "_view_module_version": "1.5.0",
            "_view_name": "ProgressView",
            "bar_style": "success",
            "description": "",
            "description_tooltip": null,
            "layout": "IPY_MODEL_a7ca2aa2bf5d4832a6b4fb649ebc7cff",
            "max": 481,
            "min": 0,
            "orientation": "horizontal",
            "style": "IPY_MODEL_7c2a5c9243024dac8e3de14f0b77ca8e",
            "value": 481
          }
        },
        "62ccdcc9c7cb4dcbabb4a389b069d0a8": {
          "model_module": "@jupyter-widgets/controls",
          "model_name": "HTMLModel",
          "model_module_version": "1.5.0",
          "state": {
            "_dom_classes": [],
            "_model_module": "@jupyter-widgets/controls",
            "_model_module_version": "1.5.0",
            "_model_name": "HTMLModel",
            "_view_count": null,
            "_view_module": "@jupyter-widgets/controls",
            "_view_module_version": "1.5.0",
            "_view_name": "HTMLView",
            "description": "",
            "description_tooltip": null,
            "layout": "IPY_MODEL_dfd8c8b534214cada34c6d1d9d23bb50",
            "placeholder": "​",
            "style": "IPY_MODEL_04f0156118fe4608bcb271a8240bd31c",
            "value": " 481/481 [00:00&lt;00:00, 44.7kB/s]"
          }
        },
        "176401482907404588d6eeeb4f0e0fb8": {
          "model_module": "@jupyter-widgets/base",
          "model_name": "LayoutModel",
          "model_module_version": "1.2.0",
          "state": {
            "_model_module": "@jupyter-widgets/base",
            "_model_module_version": "1.2.0",
            "_model_name": "LayoutModel",
            "_view_count": null,
            "_view_module": "@jupyter-widgets/base",
            "_view_module_version": "1.2.0",
            "_view_name": "LayoutView",
            "align_content": null,
            "align_items": null,
            "align_self": null,
            "border": null,
            "bottom": null,
            "display": null,
            "flex": null,
            "flex_flow": null,
            "grid_area": null,
            "grid_auto_columns": null,
            "grid_auto_flow": null,
            "grid_auto_rows": null,
            "grid_column": null,
            "grid_gap": null,
            "grid_row": null,
            "grid_template_areas": null,
            "grid_template_columns": null,
            "grid_template_rows": null,
            "height": null,
            "justify_content": null,
            "justify_items": null,
            "left": null,
            "margin": null,
            "max_height": null,
            "max_width": null,
            "min_height": null,
            "min_width": null,
            "object_fit": null,
            "object_position": null,
            "order": null,
            "overflow": null,
            "overflow_x": null,
            "overflow_y": null,
            "padding": null,
            "right": null,
            "top": null,
            "visibility": null,
            "width": null
          }
        },
        "c68294e9f58f4917b18a11e9f72e4559": {
          "model_module": "@jupyter-widgets/base",
          "model_name": "LayoutModel",
          "model_module_version": "1.2.0",
          "state": {
            "_model_module": "@jupyter-widgets/base",
            "_model_module_version": "1.2.0",
            "_model_name": "LayoutModel",
            "_view_count": null,
            "_view_module": "@jupyter-widgets/base",
            "_view_module_version": "1.2.0",
            "_view_name": "LayoutView",
            "align_content": null,
            "align_items": null,
            "align_self": null,
            "border": null,
            "bottom": null,
            "display": null,
            "flex": null,
            "flex_flow": null,
            "grid_area": null,
            "grid_auto_columns": null,
            "grid_auto_flow": null,
            "grid_auto_rows": null,
            "grid_column": null,
            "grid_gap": null,
            "grid_row": null,
            "grid_template_areas": null,
            "grid_template_columns": null,
            "grid_template_rows": null,
            "height": null,
            "justify_content": null,
            "justify_items": null,
            "left": null,
            "margin": null,
            "max_height": null,
            "max_width": null,
            "min_height": null,
            "min_width": null,
            "object_fit": null,
            "object_position": null,
            "order": null,
            "overflow": null,
            "overflow_x": null,
            "overflow_y": null,
            "padding": null,
            "right": null,
            "top": null,
            "visibility": null,
            "width": null
          }
        },
        "a9b6e2a3c27f4a02a4ff22d5a2995231": {
          "model_module": "@jupyter-widgets/controls",
          "model_name": "DescriptionStyleModel",
          "model_module_version": "1.5.0",
          "state": {
            "_model_module": "@jupyter-widgets/controls",
            "_model_module_version": "1.5.0",
            "_model_name": "DescriptionStyleModel",
            "_view_count": null,
            "_view_module": "@jupyter-widgets/base",
            "_view_module_version": "1.2.0",
            "_view_name": "StyleView",
            "description_width": ""
          }
        },
        "a7ca2aa2bf5d4832a6b4fb649ebc7cff": {
          "model_module": "@jupyter-widgets/base",
          "model_name": "LayoutModel",
          "model_module_version": "1.2.0",
          "state": {
            "_model_module": "@jupyter-widgets/base",
            "_model_module_version": "1.2.0",
            "_model_name": "LayoutModel",
            "_view_count": null,
            "_view_module": "@jupyter-widgets/base",
            "_view_module_version": "1.2.0",
            "_view_name": "LayoutView",
            "align_content": null,
            "align_items": null,
            "align_self": null,
            "border": null,
            "bottom": null,
            "display": null,
            "flex": null,
            "flex_flow": null,
            "grid_area": null,
            "grid_auto_columns": null,
            "grid_auto_flow": null,
            "grid_auto_rows": null,
            "grid_column": null,
            "grid_gap": null,
            "grid_row": null,
            "grid_template_areas": null,
            "grid_template_columns": null,
            "grid_template_rows": null,
            "height": null,
            "justify_content": null,
            "justify_items": null,
            "left": null,
            "margin": null,
            "max_height": null,
            "max_width": null,
            "min_height": null,
            "min_width": null,
            "object_fit": null,
            "object_position": null,
            "order": null,
            "overflow": null,
            "overflow_x": null,
            "overflow_y": null,
            "padding": null,
            "right": null,
            "top": null,
            "visibility": null,
            "width": null
          }
        },
        "7c2a5c9243024dac8e3de14f0b77ca8e": {
          "model_module": "@jupyter-widgets/controls",
          "model_name": "ProgressStyleModel",
          "model_module_version": "1.5.0",
          "state": {
            "_model_module": "@jupyter-widgets/controls",
            "_model_module_version": "1.5.0",
            "_model_name": "ProgressStyleModel",
            "_view_count": null,
            "_view_module": "@jupyter-widgets/base",
            "_view_module_version": "1.2.0",
            "_view_name": "StyleView",
            "bar_color": null,
            "description_width": ""
          }
        },
        "dfd8c8b534214cada34c6d1d9d23bb50": {
          "model_module": "@jupyter-widgets/base",
          "model_name": "LayoutModel",
          "model_module_version": "1.2.0",
          "state": {
            "_model_module": "@jupyter-widgets/base",
            "_model_module_version": "1.2.0",
            "_model_name": "LayoutModel",
            "_view_count": null,
            "_view_module": "@jupyter-widgets/base",
            "_view_module_version": "1.2.0",
            "_view_name": "LayoutView",
            "align_content": null,
            "align_items": null,
            "align_self": null,
            "border": null,
            "bottom": null,
            "display": null,
            "flex": null,
            "flex_flow": null,
            "grid_area": null,
            "grid_auto_columns": null,
            "grid_auto_flow": null,
            "grid_auto_rows": null,
            "grid_column": null,
            "grid_gap": null,
            "grid_row": null,
            "grid_template_areas": null,
            "grid_template_columns": null,
            "grid_template_rows": null,
            "height": null,
            "justify_content": null,
            "justify_items": null,
            "left": null,
            "margin": null,
            "max_height": null,
            "max_width": null,
            "min_height": null,
            "min_width": null,
            "object_fit": null,
            "object_position": null,
            "order": null,
            "overflow": null,
            "overflow_x": null,
            "overflow_y": null,
            "padding": null,
            "right": null,
            "top": null,
            "visibility": null,
            "width": null
          }
        },
        "04f0156118fe4608bcb271a8240bd31c": {
          "model_module": "@jupyter-widgets/controls",
          "model_name": "DescriptionStyleModel",
          "model_module_version": "1.5.0",
          "state": {
            "_model_module": "@jupyter-widgets/controls",
            "_model_module_version": "1.5.0",
            "_model_name": "DescriptionStyleModel",
            "_view_count": null,
            "_view_module": "@jupyter-widgets/base",
            "_view_module_version": "1.2.0",
            "_view_name": "StyleView",
            "description_width": ""
          }
        },
        "43f6288ce7094f76a0dbf846b5f75ce7": {
          "model_module": "@jupyter-widgets/controls",
          "model_name": "HBoxModel",
          "model_module_version": "1.5.0",
          "state": {
            "_dom_classes": [],
            "_model_module": "@jupyter-widgets/controls",
            "_model_module_version": "1.5.0",
            "_model_name": "HBoxModel",
            "_view_count": null,
            "_view_module": "@jupyter-widgets/controls",
            "_view_module_version": "1.5.0",
            "_view_name": "HBoxView",
            "box_style": "",
            "children": [
              "IPY_MODEL_891300515c304071b1ac073b305d7278",
              "IPY_MODEL_ad3fa93a926a4bd6a60ae138a873c4a8",
              "IPY_MODEL_fe87d8ef87284719bd8833f718a3a48a"
            ],
            "layout": "IPY_MODEL_689d23d81f2e4b47b297c7eca4709345"
          }
        },
        "891300515c304071b1ac073b305d7278": {
          "model_module": "@jupyter-widgets/controls",
          "model_name": "HTMLModel",
          "model_module_version": "1.5.0",
          "state": {
            "_dom_classes": [],
            "_model_module": "@jupyter-widgets/controls",
            "_model_module_version": "1.5.0",
            "_model_name": "HTMLModel",
            "_view_count": null,
            "_view_module": "@jupyter-widgets/controls",
            "_view_module_version": "1.5.0",
            "_view_name": "HTMLView",
            "description": "",
            "description_tooltip": null,
            "layout": "IPY_MODEL_26a85f782bef4b0eb8ff6d2b0789e4b7",
            "placeholder": "​",
            "style": "IPY_MODEL_15f68f9d95de4d0c9a043d5a886fccba",
            "value": "model.safetensors: 100%"
          }
        },
        "ad3fa93a926a4bd6a60ae138a873c4a8": {
          "model_module": "@jupyter-widgets/controls",
          "model_name": "FloatProgressModel",
          "model_module_version": "1.5.0",
          "state": {
            "_dom_classes": [],
            "_model_module": "@jupyter-widgets/controls",
            "_model_module_version": "1.5.0",
            "_model_name": "FloatProgressModel",
            "_view_count": null,
            "_view_module": "@jupyter-widgets/controls",
            "_view_module_version": "1.5.0",
            "_view_name": "ProgressView",
            "bar_style": "success",
            "description": "",
            "description_tooltip": null,
            "layout": "IPY_MODEL_45f0927cb9884b76862d3356714c4985",
            "max": 498818054,
            "min": 0,
            "orientation": "horizontal",
            "style": "IPY_MODEL_4ab86316a8b1440c8ce36018c61ee215",
            "value": 498818054
          }
        },
        "fe87d8ef87284719bd8833f718a3a48a": {
          "model_module": "@jupyter-widgets/controls",
          "model_name": "HTMLModel",
          "model_module_version": "1.5.0",
          "state": {
            "_dom_classes": [],
            "_model_module": "@jupyter-widgets/controls",
            "_model_module_version": "1.5.0",
            "_model_name": "HTMLModel",
            "_view_count": null,
            "_view_module": "@jupyter-widgets/controls",
            "_view_module_version": "1.5.0",
            "_view_name": "HTMLView",
            "description": "",
            "description_tooltip": null,
            "layout": "IPY_MODEL_7177667198af4098b9c67e5fa61aa317",
            "placeholder": "​",
            "style": "IPY_MODEL_01c017af94674ea1a4dbf3eaaade02fb",
            "value": " 499M/499M [00:01&lt;00:00, 246MB/s]"
          }
        },
        "689d23d81f2e4b47b297c7eca4709345": {
          "model_module": "@jupyter-widgets/base",
          "model_name": "LayoutModel",
          "model_module_version": "1.2.0",
          "state": {
            "_model_module": "@jupyter-widgets/base",
            "_model_module_version": "1.2.0",
            "_model_name": "LayoutModel",
            "_view_count": null,
            "_view_module": "@jupyter-widgets/base",
            "_view_module_version": "1.2.0",
            "_view_name": "LayoutView",
            "align_content": null,
            "align_items": null,
            "align_self": null,
            "border": null,
            "bottom": null,
            "display": null,
            "flex": null,
            "flex_flow": null,
            "grid_area": null,
            "grid_auto_columns": null,
            "grid_auto_flow": null,
            "grid_auto_rows": null,
            "grid_column": null,
            "grid_gap": null,
            "grid_row": null,
            "grid_template_areas": null,
            "grid_template_columns": null,
            "grid_template_rows": null,
            "height": null,
            "justify_content": null,
            "justify_items": null,
            "left": null,
            "margin": null,
            "max_height": null,
            "max_width": null,
            "min_height": null,
            "min_width": null,
            "object_fit": null,
            "object_position": null,
            "order": null,
            "overflow": null,
            "overflow_x": null,
            "overflow_y": null,
            "padding": null,
            "right": null,
            "top": null,
            "visibility": null,
            "width": null
          }
        },
        "26a85f782bef4b0eb8ff6d2b0789e4b7": {
          "model_module": "@jupyter-widgets/base",
          "model_name": "LayoutModel",
          "model_module_version": "1.2.0",
          "state": {
            "_model_module": "@jupyter-widgets/base",
            "_model_module_version": "1.2.0",
            "_model_name": "LayoutModel",
            "_view_count": null,
            "_view_module": "@jupyter-widgets/base",
            "_view_module_version": "1.2.0",
            "_view_name": "LayoutView",
            "align_content": null,
            "align_items": null,
            "align_self": null,
            "border": null,
            "bottom": null,
            "display": null,
            "flex": null,
            "flex_flow": null,
            "grid_area": null,
            "grid_auto_columns": null,
            "grid_auto_flow": null,
            "grid_auto_rows": null,
            "grid_column": null,
            "grid_gap": null,
            "grid_row": null,
            "grid_template_areas": null,
            "grid_template_columns": null,
            "grid_template_rows": null,
            "height": null,
            "justify_content": null,
            "justify_items": null,
            "left": null,
            "margin": null,
            "max_height": null,
            "max_width": null,
            "min_height": null,
            "min_width": null,
            "object_fit": null,
            "object_position": null,
            "order": null,
            "overflow": null,
            "overflow_x": null,
            "overflow_y": null,
            "padding": null,
            "right": null,
            "top": null,
            "visibility": null,
            "width": null
          }
        },
        "15f68f9d95de4d0c9a043d5a886fccba": {
          "model_module": "@jupyter-widgets/controls",
          "model_name": "DescriptionStyleModel",
          "model_module_version": "1.5.0",
          "state": {
            "_model_module": "@jupyter-widgets/controls",
            "_model_module_version": "1.5.0",
            "_model_name": "DescriptionStyleModel",
            "_view_count": null,
            "_view_module": "@jupyter-widgets/base",
            "_view_module_version": "1.2.0",
            "_view_name": "StyleView",
            "description_width": ""
          }
        },
        "45f0927cb9884b76862d3356714c4985": {
          "model_module": "@jupyter-widgets/base",
          "model_name": "LayoutModel",
          "model_module_version": "1.2.0",
          "state": {
            "_model_module": "@jupyter-widgets/base",
            "_model_module_version": "1.2.0",
            "_model_name": "LayoutModel",
            "_view_count": null,
            "_view_module": "@jupyter-widgets/base",
            "_view_module_version": "1.2.0",
            "_view_name": "LayoutView",
            "align_content": null,
            "align_items": null,
            "align_self": null,
            "border": null,
            "bottom": null,
            "display": null,
            "flex": null,
            "flex_flow": null,
            "grid_area": null,
            "grid_auto_columns": null,
            "grid_auto_flow": null,
            "grid_auto_rows": null,
            "grid_column": null,
            "grid_gap": null,
            "grid_row": null,
            "grid_template_areas": null,
            "grid_template_columns": null,
            "grid_template_rows": null,
            "height": null,
            "justify_content": null,
            "justify_items": null,
            "left": null,
            "margin": null,
            "max_height": null,
            "max_width": null,
            "min_height": null,
            "min_width": null,
            "object_fit": null,
            "object_position": null,
            "order": null,
            "overflow": null,
            "overflow_x": null,
            "overflow_y": null,
            "padding": null,
            "right": null,
            "top": null,
            "visibility": null,
            "width": null
          }
        },
        "4ab86316a8b1440c8ce36018c61ee215": {
          "model_module": "@jupyter-widgets/controls",
          "model_name": "ProgressStyleModel",
          "model_module_version": "1.5.0",
          "state": {
            "_model_module": "@jupyter-widgets/controls",
            "_model_module_version": "1.5.0",
            "_model_name": "ProgressStyleModel",
            "_view_count": null,
            "_view_module": "@jupyter-widgets/base",
            "_view_module_version": "1.2.0",
            "_view_name": "StyleView",
            "bar_color": null,
            "description_width": ""
          }
        },
        "7177667198af4098b9c67e5fa61aa317": {
          "model_module": "@jupyter-widgets/base",
          "model_name": "LayoutModel",
          "model_module_version": "1.2.0",
          "state": {
            "_model_module": "@jupyter-widgets/base",
            "_model_module_version": "1.2.0",
            "_model_name": "LayoutModel",
            "_view_count": null,
            "_view_module": "@jupyter-widgets/base",
            "_view_module_version": "1.2.0",
            "_view_name": "LayoutView",
            "align_content": null,
            "align_items": null,
            "align_self": null,
            "border": null,
            "bottom": null,
            "display": null,
            "flex": null,
            "flex_flow": null,
            "grid_area": null,
            "grid_auto_columns": null,
            "grid_auto_flow": null,
            "grid_auto_rows": null,
            "grid_column": null,
            "grid_gap": null,
            "grid_row": null,
            "grid_template_areas": null,
            "grid_template_columns": null,
            "grid_template_rows": null,
            "height": null,
            "justify_content": null,
            "justify_items": null,
            "left": null,
            "margin": null,
            "max_height": null,
            "max_width": null,
            "min_height": null,
            "min_width": null,
            "object_fit": null,
            "object_position": null,
            "order": null,
            "overflow": null,
            "overflow_x": null,
            "overflow_y": null,
            "padding": null,
            "right": null,
            "top": null,
            "visibility": null,
            "width": null
          }
        },
        "01c017af94674ea1a4dbf3eaaade02fb": {
          "model_module": "@jupyter-widgets/controls",
          "model_name": "DescriptionStyleModel",
          "model_module_version": "1.5.0",
          "state": {
            "_model_module": "@jupyter-widgets/controls",
            "_model_module_version": "1.5.0",
            "_model_name": "DescriptionStyleModel",
            "_view_count": null,
            "_view_module": "@jupyter-widgets/base",
            "_view_module_version": "1.2.0",
            "_view_name": "StyleView",
            "description_width": ""
          }
        },
        "e69fae79363147ea85733188bafb9feb": {
          "model_module": "@jupyter-widgets/controls",
          "model_name": "HBoxModel",
          "model_module_version": "1.5.0",
          "state": {
            "_dom_classes": [],
            "_model_module": "@jupyter-widgets/controls",
            "_model_module_version": "1.5.0",
            "_model_name": "HBoxModel",
            "_view_count": null,
            "_view_module": "@jupyter-widgets/controls",
            "_view_module_version": "1.5.0",
            "_view_name": "HBoxView",
            "box_style": "",
            "children": [
              "IPY_MODEL_4b5057273f974b7eb99f3f2890224964",
              "IPY_MODEL_ac72740d4ed44afc9e141464e7187c79",
              "IPY_MODEL_557a9bf9d10d4465aa05f4dbe4069f52"
            ],
            "layout": "IPY_MODEL_0a716d0db41a442b91797a8450c9cf4b"
          }
        },
        "4b5057273f974b7eb99f3f2890224964": {
          "model_module": "@jupyter-widgets/controls",
          "model_name": "HTMLModel",
          "model_module_version": "1.5.0",
          "state": {
            "_dom_classes": [],
            "_model_module": "@jupyter-widgets/controls",
            "_model_module_version": "1.5.0",
            "_model_name": "HTMLModel",
            "_view_count": null,
            "_view_module": "@jupyter-widgets/controls",
            "_view_module_version": "1.5.0",
            "_view_name": "HTMLView",
            "description": "",
            "description_tooltip": null,
            "layout": "IPY_MODEL_4d4d50cbb36a44f9a62a1c734da96204",
            "placeholder": "​",
            "style": "IPY_MODEL_36f6ebf94782494a95b3468bf2d83e84",
            "value": "tokenizer_config.json: 100%"
          }
        },
        "ac72740d4ed44afc9e141464e7187c79": {
          "model_module": "@jupyter-widgets/controls",
          "model_name": "FloatProgressModel",
          "model_module_version": "1.5.0",
          "state": {
            "_dom_classes": [],
            "_model_module": "@jupyter-widgets/controls",
            "_model_module_version": "1.5.0",
            "_model_name": "FloatProgressModel",
            "_view_count": null,
            "_view_module": "@jupyter-widgets/controls",
            "_view_module_version": "1.5.0",
            "_view_name": "ProgressView",
            "bar_style": "success",
            "description": "",
            "description_tooltip": null,
            "layout": "IPY_MODEL_f7f3da38873245078f40440f14c58d3f",
            "max": 25,
            "min": 0,
            "orientation": "horizontal",
            "style": "IPY_MODEL_771795889c2d4684a5e79893fc3ce7de",
            "value": 25
          }
        },
        "557a9bf9d10d4465aa05f4dbe4069f52": {
          "model_module": "@jupyter-widgets/controls",
          "model_name": "HTMLModel",
          "model_module_version": "1.5.0",
          "state": {
            "_dom_classes": [],
            "_model_module": "@jupyter-widgets/controls",
            "_model_module_version": "1.5.0",
            "_model_name": "HTMLModel",
            "_view_count": null,
            "_view_module": "@jupyter-widgets/controls",
            "_view_module_version": "1.5.0",
            "_view_name": "HTMLView",
            "description": "",
            "description_tooltip": null,
            "layout": "IPY_MODEL_618bad96ab834e7ba1d63034cb990f37",
            "placeholder": "​",
            "style": "IPY_MODEL_44dec2acf75f48c19e4a8f07b5ec1445",
            "value": " 25.0/25.0 [00:00&lt;00:00, 2.10kB/s]"
          }
        },
        "0a716d0db41a442b91797a8450c9cf4b": {
          "model_module": "@jupyter-widgets/base",
          "model_name": "LayoutModel",
          "model_module_version": "1.2.0",
          "state": {
            "_model_module": "@jupyter-widgets/base",
            "_model_module_version": "1.2.0",
            "_model_name": "LayoutModel",
            "_view_count": null,
            "_view_module": "@jupyter-widgets/base",
            "_view_module_version": "1.2.0",
            "_view_name": "LayoutView",
            "align_content": null,
            "align_items": null,
            "align_self": null,
            "border": null,
            "bottom": null,
            "display": null,
            "flex": null,
            "flex_flow": null,
            "grid_area": null,
            "grid_auto_columns": null,
            "grid_auto_flow": null,
            "grid_auto_rows": null,
            "grid_column": null,
            "grid_gap": null,
            "grid_row": null,
            "grid_template_areas": null,
            "grid_template_columns": null,
            "grid_template_rows": null,
            "height": null,
            "justify_content": null,
            "justify_items": null,
            "left": null,
            "margin": null,
            "max_height": null,
            "max_width": null,
            "min_height": null,
            "min_width": null,
            "object_fit": null,
            "object_position": null,
            "order": null,
            "overflow": null,
            "overflow_x": null,
            "overflow_y": null,
            "padding": null,
            "right": null,
            "top": null,
            "visibility": null,
            "width": null
          }
        },
        "4d4d50cbb36a44f9a62a1c734da96204": {
          "model_module": "@jupyter-widgets/base",
          "model_name": "LayoutModel",
          "model_module_version": "1.2.0",
          "state": {
            "_model_module": "@jupyter-widgets/base",
            "_model_module_version": "1.2.0",
            "_model_name": "LayoutModel",
            "_view_count": null,
            "_view_module": "@jupyter-widgets/base",
            "_view_module_version": "1.2.0",
            "_view_name": "LayoutView",
            "align_content": null,
            "align_items": null,
            "align_self": null,
            "border": null,
            "bottom": null,
            "display": null,
            "flex": null,
            "flex_flow": null,
            "grid_area": null,
            "grid_auto_columns": null,
            "grid_auto_flow": null,
            "grid_auto_rows": null,
            "grid_column": null,
            "grid_gap": null,
            "grid_row": null,
            "grid_template_areas": null,
            "grid_template_columns": null,
            "grid_template_rows": null,
            "height": null,
            "justify_content": null,
            "justify_items": null,
            "left": null,
            "margin": null,
            "max_height": null,
            "max_width": null,
            "min_height": null,
            "min_width": null,
            "object_fit": null,
            "object_position": null,
            "order": null,
            "overflow": null,
            "overflow_x": null,
            "overflow_y": null,
            "padding": null,
            "right": null,
            "top": null,
            "visibility": null,
            "width": null
          }
        },
        "36f6ebf94782494a95b3468bf2d83e84": {
          "model_module": "@jupyter-widgets/controls",
          "model_name": "DescriptionStyleModel",
          "model_module_version": "1.5.0",
          "state": {
            "_model_module": "@jupyter-widgets/controls",
            "_model_module_version": "1.5.0",
            "_model_name": "DescriptionStyleModel",
            "_view_count": null,
            "_view_module": "@jupyter-widgets/base",
            "_view_module_version": "1.2.0",
            "_view_name": "StyleView",
            "description_width": ""
          }
        },
        "f7f3da38873245078f40440f14c58d3f": {
          "model_module": "@jupyter-widgets/base",
          "model_name": "LayoutModel",
          "model_module_version": "1.2.0",
          "state": {
            "_model_module": "@jupyter-widgets/base",
            "_model_module_version": "1.2.0",
            "_model_name": "LayoutModel",
            "_view_count": null,
            "_view_module": "@jupyter-widgets/base",
            "_view_module_version": "1.2.0",
            "_view_name": "LayoutView",
            "align_content": null,
            "align_items": null,
            "align_self": null,
            "border": null,
            "bottom": null,
            "display": null,
            "flex": null,
            "flex_flow": null,
            "grid_area": null,
            "grid_auto_columns": null,
            "grid_auto_flow": null,
            "grid_auto_rows": null,
            "grid_column": null,
            "grid_gap": null,
            "grid_row": null,
            "grid_template_areas": null,
            "grid_template_columns": null,
            "grid_template_rows": null,
            "height": null,
            "justify_content": null,
            "justify_items": null,
            "left": null,
            "margin": null,
            "max_height": null,
            "max_width": null,
            "min_height": null,
            "min_width": null,
            "object_fit": null,
            "object_position": null,
            "order": null,
            "overflow": null,
            "overflow_x": null,
            "overflow_y": null,
            "padding": null,
            "right": null,
            "top": null,
            "visibility": null,
            "width": null
          }
        },
        "771795889c2d4684a5e79893fc3ce7de": {
          "model_module": "@jupyter-widgets/controls",
          "model_name": "ProgressStyleModel",
          "model_module_version": "1.5.0",
          "state": {
            "_model_module": "@jupyter-widgets/controls",
            "_model_module_version": "1.5.0",
            "_model_name": "ProgressStyleModel",
            "_view_count": null,
            "_view_module": "@jupyter-widgets/base",
            "_view_module_version": "1.2.0",
            "_view_name": "StyleView",
            "bar_color": null,
            "description_width": ""
          }
        },
        "618bad96ab834e7ba1d63034cb990f37": {
          "model_module": "@jupyter-widgets/base",
          "model_name": "LayoutModel",
          "model_module_version": "1.2.0",
          "state": {
            "_model_module": "@jupyter-widgets/base",
            "_model_module_version": "1.2.0",
            "_model_name": "LayoutModel",
            "_view_count": null,
            "_view_module": "@jupyter-widgets/base",
            "_view_module_version": "1.2.0",
            "_view_name": "LayoutView",
            "align_content": null,
            "align_items": null,
            "align_self": null,
            "border": null,
            "bottom": null,
            "display": null,
            "flex": null,
            "flex_flow": null,
            "grid_area": null,
            "grid_auto_columns": null,
            "grid_auto_flow": null,
            "grid_auto_rows": null,
            "grid_column": null,
            "grid_gap": null,
            "grid_row": null,
            "grid_template_areas": null,
            "grid_template_columns": null,
            "grid_template_rows": null,
            "height": null,
            "justify_content": null,
            "justify_items": null,
            "left": null,
            "margin": null,
            "max_height": null,
            "max_width": null,
            "min_height": null,
            "min_width": null,
            "object_fit": null,
            "object_position": null,
            "order": null,
            "overflow": null,
            "overflow_x": null,
            "overflow_y": null,
            "padding": null,
            "right": null,
            "top": null,
            "visibility": null,
            "width": null
          }
        },
        "44dec2acf75f48c19e4a8f07b5ec1445": {
          "model_module": "@jupyter-widgets/controls",
          "model_name": "DescriptionStyleModel",
          "model_module_version": "1.5.0",
          "state": {
            "_model_module": "@jupyter-widgets/controls",
            "_model_module_version": "1.5.0",
            "_model_name": "DescriptionStyleModel",
            "_view_count": null,
            "_view_module": "@jupyter-widgets/base",
            "_view_module_version": "1.2.0",
            "_view_name": "StyleView",
            "description_width": ""
          }
        },
        "06ac7b4fa7514a7cbf5b1a104173d645": {
          "model_module": "@jupyter-widgets/controls",
          "model_name": "HBoxModel",
          "model_module_version": "1.5.0",
          "state": {
            "_dom_classes": [],
            "_model_module": "@jupyter-widgets/controls",
            "_model_module_version": "1.5.0",
            "_model_name": "HBoxModel",
            "_view_count": null,
            "_view_module": "@jupyter-widgets/controls",
            "_view_module_version": "1.5.0",
            "_view_name": "HBoxView",
            "box_style": "",
            "children": [
              "IPY_MODEL_d7f3e13f17ae45709357e546bfa5e1f4",
              "IPY_MODEL_a0914bd7c634463b8ef0d450b5d73de5",
              "IPY_MODEL_e14e0dc89d95494cb0968d6ccf78a723"
            ],
            "layout": "IPY_MODEL_c81d89458baf4d4b9f05920381bdf0db"
          }
        },
        "d7f3e13f17ae45709357e546bfa5e1f4": {
          "model_module": "@jupyter-widgets/controls",
          "model_name": "HTMLModel",
          "model_module_version": "1.5.0",
          "state": {
            "_dom_classes": [],
            "_model_module": "@jupyter-widgets/controls",
            "_model_module_version": "1.5.0",
            "_model_name": "HTMLModel",
            "_view_count": null,
            "_view_module": "@jupyter-widgets/controls",
            "_view_module_version": "1.5.0",
            "_view_name": "HTMLView",
            "description": "",
            "description_tooltip": null,
            "layout": "IPY_MODEL_c4da069240e742f7ba98e01e94912ff3",
            "placeholder": "​",
            "style": "IPY_MODEL_791f706eb38e402ebd51b2473e8da314",
            "value": "vocab.json: 100%"
          }
        },
        "a0914bd7c634463b8ef0d450b5d73de5": {
          "model_module": "@jupyter-widgets/controls",
          "model_name": "FloatProgressModel",
          "model_module_version": "1.5.0",
          "state": {
            "_dom_classes": [],
            "_model_module": "@jupyter-widgets/controls",
            "_model_module_version": "1.5.0",
            "_model_name": "FloatProgressModel",
            "_view_count": null,
            "_view_module": "@jupyter-widgets/controls",
            "_view_module_version": "1.5.0",
            "_view_name": "ProgressView",
            "bar_style": "success",
            "description": "",
            "description_tooltip": null,
            "layout": "IPY_MODEL_00ab0f730ef940ffb63010475b4d5e3b",
            "max": 898823,
            "min": 0,
            "orientation": "horizontal",
            "style": "IPY_MODEL_57c1366c49154cb7a3a792baa7e0ae8c",
            "value": 898823
          }
        },
        "e14e0dc89d95494cb0968d6ccf78a723": {
          "model_module": "@jupyter-widgets/controls",
          "model_name": "HTMLModel",
          "model_module_version": "1.5.0",
          "state": {
            "_dom_classes": [],
            "_model_module": "@jupyter-widgets/controls",
            "_model_module_version": "1.5.0",
            "_model_name": "HTMLModel",
            "_view_count": null,
            "_view_module": "@jupyter-widgets/controls",
            "_view_module_version": "1.5.0",
            "_view_name": "HTMLView",
            "description": "",
            "description_tooltip": null,
            "layout": "IPY_MODEL_ea0399eedb9140eb82de761fa7b8bb75",
            "placeholder": "​",
            "style": "IPY_MODEL_a7debeefdcde49ffb67a596b97e152ac",
            "value": " 899k/899k [00:00&lt;00:00, 40.9MB/s]"
          }
        },
        "c81d89458baf4d4b9f05920381bdf0db": {
          "model_module": "@jupyter-widgets/base",
          "model_name": "LayoutModel",
          "model_module_version": "1.2.0",
          "state": {
            "_model_module": "@jupyter-widgets/base",
            "_model_module_version": "1.2.0",
            "_model_name": "LayoutModel",
            "_view_count": null,
            "_view_module": "@jupyter-widgets/base",
            "_view_module_version": "1.2.0",
            "_view_name": "LayoutView",
            "align_content": null,
            "align_items": null,
            "align_self": null,
            "border": null,
            "bottom": null,
            "display": null,
            "flex": null,
            "flex_flow": null,
            "grid_area": null,
            "grid_auto_columns": null,
            "grid_auto_flow": null,
            "grid_auto_rows": null,
            "grid_column": null,
            "grid_gap": null,
            "grid_row": null,
            "grid_template_areas": null,
            "grid_template_columns": null,
            "grid_template_rows": null,
            "height": null,
            "justify_content": null,
            "justify_items": null,
            "left": null,
            "margin": null,
            "max_height": null,
            "max_width": null,
            "min_height": null,
            "min_width": null,
            "object_fit": null,
            "object_position": null,
            "order": null,
            "overflow": null,
            "overflow_x": null,
            "overflow_y": null,
            "padding": null,
            "right": null,
            "top": null,
            "visibility": null,
            "width": null
          }
        },
        "c4da069240e742f7ba98e01e94912ff3": {
          "model_module": "@jupyter-widgets/base",
          "model_name": "LayoutModel",
          "model_module_version": "1.2.0",
          "state": {
            "_model_module": "@jupyter-widgets/base",
            "_model_module_version": "1.2.0",
            "_model_name": "LayoutModel",
            "_view_count": null,
            "_view_module": "@jupyter-widgets/base",
            "_view_module_version": "1.2.0",
            "_view_name": "LayoutView",
            "align_content": null,
            "align_items": null,
            "align_self": null,
            "border": null,
            "bottom": null,
            "display": null,
            "flex": null,
            "flex_flow": null,
            "grid_area": null,
            "grid_auto_columns": null,
            "grid_auto_flow": null,
            "grid_auto_rows": null,
            "grid_column": null,
            "grid_gap": null,
            "grid_row": null,
            "grid_template_areas": null,
            "grid_template_columns": null,
            "grid_template_rows": null,
            "height": null,
            "justify_content": null,
            "justify_items": null,
            "left": null,
            "margin": null,
            "max_height": null,
            "max_width": null,
            "min_height": null,
            "min_width": null,
            "object_fit": null,
            "object_position": null,
            "order": null,
            "overflow": null,
            "overflow_x": null,
            "overflow_y": null,
            "padding": null,
            "right": null,
            "top": null,
            "visibility": null,
            "width": null
          }
        },
        "791f706eb38e402ebd51b2473e8da314": {
          "model_module": "@jupyter-widgets/controls",
          "model_name": "DescriptionStyleModel",
          "model_module_version": "1.5.0",
          "state": {
            "_model_module": "@jupyter-widgets/controls",
            "_model_module_version": "1.5.0",
            "_model_name": "DescriptionStyleModel",
            "_view_count": null,
            "_view_module": "@jupyter-widgets/base",
            "_view_module_version": "1.2.0",
            "_view_name": "StyleView",
            "description_width": ""
          }
        },
        "00ab0f730ef940ffb63010475b4d5e3b": {
          "model_module": "@jupyter-widgets/base",
          "model_name": "LayoutModel",
          "model_module_version": "1.2.0",
          "state": {
            "_model_module": "@jupyter-widgets/base",
            "_model_module_version": "1.2.0",
            "_model_name": "LayoutModel",
            "_view_count": null,
            "_view_module": "@jupyter-widgets/base",
            "_view_module_version": "1.2.0",
            "_view_name": "LayoutView",
            "align_content": null,
            "align_items": null,
            "align_self": null,
            "border": null,
            "bottom": null,
            "display": null,
            "flex": null,
            "flex_flow": null,
            "grid_area": null,
            "grid_auto_columns": null,
            "grid_auto_flow": null,
            "grid_auto_rows": null,
            "grid_column": null,
            "grid_gap": null,
            "grid_row": null,
            "grid_template_areas": null,
            "grid_template_columns": null,
            "grid_template_rows": null,
            "height": null,
            "justify_content": null,
            "justify_items": null,
            "left": null,
            "margin": null,
            "max_height": null,
            "max_width": null,
            "min_height": null,
            "min_width": null,
            "object_fit": null,
            "object_position": null,
            "order": null,
            "overflow": null,
            "overflow_x": null,
            "overflow_y": null,
            "padding": null,
            "right": null,
            "top": null,
            "visibility": null,
            "width": null
          }
        },
        "57c1366c49154cb7a3a792baa7e0ae8c": {
          "model_module": "@jupyter-widgets/controls",
          "model_name": "ProgressStyleModel",
          "model_module_version": "1.5.0",
          "state": {
            "_model_module": "@jupyter-widgets/controls",
            "_model_module_version": "1.5.0",
            "_model_name": "ProgressStyleModel",
            "_view_count": null,
            "_view_module": "@jupyter-widgets/base",
            "_view_module_version": "1.2.0",
            "_view_name": "StyleView",
            "bar_color": null,
            "description_width": ""
          }
        },
        "ea0399eedb9140eb82de761fa7b8bb75": {
          "model_module": "@jupyter-widgets/base",
          "model_name": "LayoutModel",
          "model_module_version": "1.2.0",
          "state": {
            "_model_module": "@jupyter-widgets/base",
            "_model_module_version": "1.2.0",
            "_model_name": "LayoutModel",
            "_view_count": null,
            "_view_module": "@jupyter-widgets/base",
            "_view_module_version": "1.2.0",
            "_view_name": "LayoutView",
            "align_content": null,
            "align_items": null,
            "align_self": null,
            "border": null,
            "bottom": null,
            "display": null,
            "flex": null,
            "flex_flow": null,
            "grid_area": null,
            "grid_auto_columns": null,
            "grid_auto_flow": null,
            "grid_auto_rows": null,
            "grid_column": null,
            "grid_gap": null,
            "grid_row": null,
            "grid_template_areas": null,
            "grid_template_columns": null,
            "grid_template_rows": null,
            "height": null,
            "justify_content": null,
            "justify_items": null,
            "left": null,
            "margin": null,
            "max_height": null,
            "max_width": null,
            "min_height": null,
            "min_width": null,
            "object_fit": null,
            "object_position": null,
            "order": null,
            "overflow": null,
            "overflow_x": null,
            "overflow_y": null,
            "padding": null,
            "right": null,
            "top": null,
            "visibility": null,
            "width": null
          }
        },
        "a7debeefdcde49ffb67a596b97e152ac": {
          "model_module": "@jupyter-widgets/controls",
          "model_name": "DescriptionStyleModel",
          "model_module_version": "1.5.0",
          "state": {
            "_model_module": "@jupyter-widgets/controls",
            "_model_module_version": "1.5.0",
            "_model_name": "DescriptionStyleModel",
            "_view_count": null,
            "_view_module": "@jupyter-widgets/base",
            "_view_module_version": "1.2.0",
            "_view_name": "StyleView",
            "description_width": ""
          }
        },
        "58349741cf5d4530afc5d1cde1c12829": {
          "model_module": "@jupyter-widgets/controls",
          "model_name": "HBoxModel",
          "model_module_version": "1.5.0",
          "state": {
            "_dom_classes": [],
            "_model_module": "@jupyter-widgets/controls",
            "_model_module_version": "1.5.0",
            "_model_name": "HBoxModel",
            "_view_count": null,
            "_view_module": "@jupyter-widgets/controls",
            "_view_module_version": "1.5.0",
            "_view_name": "HBoxView",
            "box_style": "",
            "children": [
              "IPY_MODEL_272c21863af94582971bc1ebac93e27f",
              "IPY_MODEL_b78d8b4beaf049ee84382d0c7975ae27",
              "IPY_MODEL_36de8f1aaa864763bbe68203c9fa0112"
            ],
            "layout": "IPY_MODEL_1faf188c7c4a4f7eb394d16a92a50812"
          }
        },
        "272c21863af94582971bc1ebac93e27f": {
          "model_module": "@jupyter-widgets/controls",
          "model_name": "HTMLModel",
          "model_module_version": "1.5.0",
          "state": {
            "_dom_classes": [],
            "_model_module": "@jupyter-widgets/controls",
            "_model_module_version": "1.5.0",
            "_model_name": "HTMLModel",
            "_view_count": null,
            "_view_module": "@jupyter-widgets/controls",
            "_view_module_version": "1.5.0",
            "_view_name": "HTMLView",
            "description": "",
            "description_tooltip": null,
            "layout": "IPY_MODEL_dc815345773f4761a3e7e3c07f115095",
            "placeholder": "​",
            "style": "IPY_MODEL_f7d1b84d4501472a903d1e5bb714ae00",
            "value": "merges.txt: 100%"
          }
        },
        "b78d8b4beaf049ee84382d0c7975ae27": {
          "model_module": "@jupyter-widgets/controls",
          "model_name": "FloatProgressModel",
          "model_module_version": "1.5.0",
          "state": {
            "_dom_classes": [],
            "_model_module": "@jupyter-widgets/controls",
            "_model_module_version": "1.5.0",
            "_model_name": "FloatProgressModel",
            "_view_count": null,
            "_view_module": "@jupyter-widgets/controls",
            "_view_module_version": "1.5.0",
            "_view_name": "ProgressView",
            "bar_style": "success",
            "description": "",
            "description_tooltip": null,
            "layout": "IPY_MODEL_4cea0b67fc10454d9a589aa6ce8a8332",
            "max": 456318,
            "min": 0,
            "orientation": "horizontal",
            "style": "IPY_MODEL_0b9f01e1c2e94979a1476de7c87cbb7d",
            "value": 456318
          }
        },
        "36de8f1aaa864763bbe68203c9fa0112": {
          "model_module": "@jupyter-widgets/controls",
          "model_name": "HTMLModel",
          "model_module_version": "1.5.0",
          "state": {
            "_dom_classes": [],
            "_model_module": "@jupyter-widgets/controls",
            "_model_module_version": "1.5.0",
            "_model_name": "HTMLModel",
            "_view_count": null,
            "_view_module": "@jupyter-widgets/controls",
            "_view_module_version": "1.5.0",
            "_view_name": "HTMLView",
            "description": "",
            "description_tooltip": null,
            "layout": "IPY_MODEL_04b70311a33f4b7ea0a70e807fe9e709",
            "placeholder": "​",
            "style": "IPY_MODEL_ddd5d684e47e4c43a1cb11e14f73e6f5",
            "value": " 456k/456k [00:00&lt;00:00, 18.1MB/s]"
          }
        },
        "1faf188c7c4a4f7eb394d16a92a50812": {
          "model_module": "@jupyter-widgets/base",
          "model_name": "LayoutModel",
          "model_module_version": "1.2.0",
          "state": {
            "_model_module": "@jupyter-widgets/base",
            "_model_module_version": "1.2.0",
            "_model_name": "LayoutModel",
            "_view_count": null,
            "_view_module": "@jupyter-widgets/base",
            "_view_module_version": "1.2.0",
            "_view_name": "LayoutView",
            "align_content": null,
            "align_items": null,
            "align_self": null,
            "border": null,
            "bottom": null,
            "display": null,
            "flex": null,
            "flex_flow": null,
            "grid_area": null,
            "grid_auto_columns": null,
            "grid_auto_flow": null,
            "grid_auto_rows": null,
            "grid_column": null,
            "grid_gap": null,
            "grid_row": null,
            "grid_template_areas": null,
            "grid_template_columns": null,
            "grid_template_rows": null,
            "height": null,
            "justify_content": null,
            "justify_items": null,
            "left": null,
            "margin": null,
            "max_height": null,
            "max_width": null,
            "min_height": null,
            "min_width": null,
            "object_fit": null,
            "object_position": null,
            "order": null,
            "overflow": null,
            "overflow_x": null,
            "overflow_y": null,
            "padding": null,
            "right": null,
            "top": null,
            "visibility": null,
            "width": null
          }
        },
        "dc815345773f4761a3e7e3c07f115095": {
          "model_module": "@jupyter-widgets/base",
          "model_name": "LayoutModel",
          "model_module_version": "1.2.0",
          "state": {
            "_model_module": "@jupyter-widgets/base",
            "_model_module_version": "1.2.0",
            "_model_name": "LayoutModel",
            "_view_count": null,
            "_view_module": "@jupyter-widgets/base",
            "_view_module_version": "1.2.0",
            "_view_name": "LayoutView",
            "align_content": null,
            "align_items": null,
            "align_self": null,
            "border": null,
            "bottom": null,
            "display": null,
            "flex": null,
            "flex_flow": null,
            "grid_area": null,
            "grid_auto_columns": null,
            "grid_auto_flow": null,
            "grid_auto_rows": null,
            "grid_column": null,
            "grid_gap": null,
            "grid_row": null,
            "grid_template_areas": null,
            "grid_template_columns": null,
            "grid_template_rows": null,
            "height": null,
            "justify_content": null,
            "justify_items": null,
            "left": null,
            "margin": null,
            "max_height": null,
            "max_width": null,
            "min_height": null,
            "min_width": null,
            "object_fit": null,
            "object_position": null,
            "order": null,
            "overflow": null,
            "overflow_x": null,
            "overflow_y": null,
            "padding": null,
            "right": null,
            "top": null,
            "visibility": null,
            "width": null
          }
        },
        "f7d1b84d4501472a903d1e5bb714ae00": {
          "model_module": "@jupyter-widgets/controls",
          "model_name": "DescriptionStyleModel",
          "model_module_version": "1.5.0",
          "state": {
            "_model_module": "@jupyter-widgets/controls",
            "_model_module_version": "1.5.0",
            "_model_name": "DescriptionStyleModel",
            "_view_count": null,
            "_view_module": "@jupyter-widgets/base",
            "_view_module_version": "1.2.0",
            "_view_name": "StyleView",
            "description_width": ""
          }
        },
        "4cea0b67fc10454d9a589aa6ce8a8332": {
          "model_module": "@jupyter-widgets/base",
          "model_name": "LayoutModel",
          "model_module_version": "1.2.0",
          "state": {
            "_model_module": "@jupyter-widgets/base",
            "_model_module_version": "1.2.0",
            "_model_name": "LayoutModel",
            "_view_count": null,
            "_view_module": "@jupyter-widgets/base",
            "_view_module_version": "1.2.0",
            "_view_name": "LayoutView",
            "align_content": null,
            "align_items": null,
            "align_self": null,
            "border": null,
            "bottom": null,
            "display": null,
            "flex": null,
            "flex_flow": null,
            "grid_area": null,
            "grid_auto_columns": null,
            "grid_auto_flow": null,
            "grid_auto_rows": null,
            "grid_column": null,
            "grid_gap": null,
            "grid_row": null,
            "grid_template_areas": null,
            "grid_template_columns": null,
            "grid_template_rows": null,
            "height": null,
            "justify_content": null,
            "justify_items": null,
            "left": null,
            "margin": null,
            "max_height": null,
            "max_width": null,
            "min_height": null,
            "min_width": null,
            "object_fit": null,
            "object_position": null,
            "order": null,
            "overflow": null,
            "overflow_x": null,
            "overflow_y": null,
            "padding": null,
            "right": null,
            "top": null,
            "visibility": null,
            "width": null
          }
        },
        "0b9f01e1c2e94979a1476de7c87cbb7d": {
          "model_module": "@jupyter-widgets/controls",
          "model_name": "ProgressStyleModel",
          "model_module_version": "1.5.0",
          "state": {
            "_model_module": "@jupyter-widgets/controls",
            "_model_module_version": "1.5.0",
            "_model_name": "ProgressStyleModel",
            "_view_count": null,
            "_view_module": "@jupyter-widgets/base",
            "_view_module_version": "1.2.0",
            "_view_name": "StyleView",
            "bar_color": null,
            "description_width": ""
          }
        },
        "04b70311a33f4b7ea0a70e807fe9e709": {
          "model_module": "@jupyter-widgets/base",
          "model_name": "LayoutModel",
          "model_module_version": "1.2.0",
          "state": {
            "_model_module": "@jupyter-widgets/base",
            "_model_module_version": "1.2.0",
            "_model_name": "LayoutModel",
            "_view_count": null,
            "_view_module": "@jupyter-widgets/base",
            "_view_module_version": "1.2.0",
            "_view_name": "LayoutView",
            "align_content": null,
            "align_items": null,
            "align_self": null,
            "border": null,
            "bottom": null,
            "display": null,
            "flex": null,
            "flex_flow": null,
            "grid_area": null,
            "grid_auto_columns": null,
            "grid_auto_flow": null,
            "grid_auto_rows": null,
            "grid_column": null,
            "grid_gap": null,
            "grid_row": null,
            "grid_template_areas": null,
            "grid_template_columns": null,
            "grid_template_rows": null,
            "height": null,
            "justify_content": null,
            "justify_items": null,
            "left": null,
            "margin": null,
            "max_height": null,
            "max_width": null,
            "min_height": null,
            "min_width": null,
            "object_fit": null,
            "object_position": null,
            "order": null,
            "overflow": null,
            "overflow_x": null,
            "overflow_y": null,
            "padding": null,
            "right": null,
            "top": null,
            "visibility": null,
            "width": null
          }
        },
        "ddd5d684e47e4c43a1cb11e14f73e6f5": {
          "model_module": "@jupyter-widgets/controls",
          "model_name": "DescriptionStyleModel",
          "model_module_version": "1.5.0",
          "state": {
            "_model_module": "@jupyter-widgets/controls",
            "_model_module_version": "1.5.0",
            "_model_name": "DescriptionStyleModel",
            "_view_count": null,
            "_view_module": "@jupyter-widgets/base",
            "_view_module_version": "1.2.0",
            "_view_name": "StyleView",
            "description_width": ""
          }
        },
        "460388128cc84ac7878ef51a6731629a": {
          "model_module": "@jupyter-widgets/controls",
          "model_name": "HBoxModel",
          "model_module_version": "1.5.0",
          "state": {
            "_dom_classes": [],
            "_model_module": "@jupyter-widgets/controls",
            "_model_module_version": "1.5.0",
            "_model_name": "HBoxModel",
            "_view_count": null,
            "_view_module": "@jupyter-widgets/controls",
            "_view_module_version": "1.5.0",
            "_view_name": "HBoxView",
            "box_style": "",
            "children": [
              "IPY_MODEL_3aa131245d8045559d1a5da44df4fc8a",
              "IPY_MODEL_a2c2e6b05e064dafbd6ecc45c2d8e4dc",
              "IPY_MODEL_fc84455f16e94505b745a63a3727cd29"
            ],
            "layout": "IPY_MODEL_3d36f3190ead4736a1bf8c053409c6b9"
          }
        },
        "3aa131245d8045559d1a5da44df4fc8a": {
          "model_module": "@jupyter-widgets/controls",
          "model_name": "HTMLModel",
          "model_module_version": "1.5.0",
          "state": {
            "_dom_classes": [],
            "_model_module": "@jupyter-widgets/controls",
            "_model_module_version": "1.5.0",
            "_model_name": "HTMLModel",
            "_view_count": null,
            "_view_module": "@jupyter-widgets/controls",
            "_view_module_version": "1.5.0",
            "_view_name": "HTMLView",
            "description": "",
            "description_tooltip": null,
            "layout": "IPY_MODEL_07d4c025829a4cddb08aff63191fc508",
            "placeholder": "​",
            "style": "IPY_MODEL_1f921b24b82a488e878109167a21cffd",
            "value": "tokenizer.json: 100%"
          }
        },
        "a2c2e6b05e064dafbd6ecc45c2d8e4dc": {
          "model_module": "@jupyter-widgets/controls",
          "model_name": "FloatProgressModel",
          "model_module_version": "1.5.0",
          "state": {
            "_dom_classes": [],
            "_model_module": "@jupyter-widgets/controls",
            "_model_module_version": "1.5.0",
            "_model_name": "FloatProgressModel",
            "_view_count": null,
            "_view_module": "@jupyter-widgets/controls",
            "_view_module_version": "1.5.0",
            "_view_name": "ProgressView",
            "bar_style": "success",
            "description": "",
            "description_tooltip": null,
            "layout": "IPY_MODEL_dd0c011835224ffeb600c81e92e116cc",
            "max": 1355863,
            "min": 0,
            "orientation": "horizontal",
            "style": "IPY_MODEL_babcba9e17bd4680a076e9c90b0ea29c",
            "value": 1355863
          }
        },
        "fc84455f16e94505b745a63a3727cd29": {
          "model_module": "@jupyter-widgets/controls",
          "model_name": "HTMLModel",
          "model_module_version": "1.5.0",
          "state": {
            "_dom_classes": [],
            "_model_module": "@jupyter-widgets/controls",
            "_model_module_version": "1.5.0",
            "_model_name": "HTMLModel",
            "_view_count": null,
            "_view_module": "@jupyter-widgets/controls",
            "_view_module_version": "1.5.0",
            "_view_name": "HTMLView",
            "description": "",
            "description_tooltip": null,
            "layout": "IPY_MODEL_889e6ae15bf84321a56e91387f7798ce",
            "placeholder": "​",
            "style": "IPY_MODEL_2d202b82b33c47889c6dbb1b900274c3",
            "value": " 1.36M/1.36M [00:00&lt;00:00, 3.21MB/s]"
          }
        },
        "3d36f3190ead4736a1bf8c053409c6b9": {
          "model_module": "@jupyter-widgets/base",
          "model_name": "LayoutModel",
          "model_module_version": "1.2.0",
          "state": {
            "_model_module": "@jupyter-widgets/base",
            "_model_module_version": "1.2.0",
            "_model_name": "LayoutModel",
            "_view_count": null,
            "_view_module": "@jupyter-widgets/base",
            "_view_module_version": "1.2.0",
            "_view_name": "LayoutView",
            "align_content": null,
            "align_items": null,
            "align_self": null,
            "border": null,
            "bottom": null,
            "display": null,
            "flex": null,
            "flex_flow": null,
            "grid_area": null,
            "grid_auto_columns": null,
            "grid_auto_flow": null,
            "grid_auto_rows": null,
            "grid_column": null,
            "grid_gap": null,
            "grid_row": null,
            "grid_template_areas": null,
            "grid_template_columns": null,
            "grid_template_rows": null,
            "height": null,
            "justify_content": null,
            "justify_items": null,
            "left": null,
            "margin": null,
            "max_height": null,
            "max_width": null,
            "min_height": null,
            "min_width": null,
            "object_fit": null,
            "object_position": null,
            "order": null,
            "overflow": null,
            "overflow_x": null,
            "overflow_y": null,
            "padding": null,
            "right": null,
            "top": null,
            "visibility": null,
            "width": null
          }
        },
        "07d4c025829a4cddb08aff63191fc508": {
          "model_module": "@jupyter-widgets/base",
          "model_name": "LayoutModel",
          "model_module_version": "1.2.0",
          "state": {
            "_model_module": "@jupyter-widgets/base",
            "_model_module_version": "1.2.0",
            "_model_name": "LayoutModel",
            "_view_count": null,
            "_view_module": "@jupyter-widgets/base",
            "_view_module_version": "1.2.0",
            "_view_name": "LayoutView",
            "align_content": null,
            "align_items": null,
            "align_self": null,
            "border": null,
            "bottom": null,
            "display": null,
            "flex": null,
            "flex_flow": null,
            "grid_area": null,
            "grid_auto_columns": null,
            "grid_auto_flow": null,
            "grid_auto_rows": null,
            "grid_column": null,
            "grid_gap": null,
            "grid_row": null,
            "grid_template_areas": null,
            "grid_template_columns": null,
            "grid_template_rows": null,
            "height": null,
            "justify_content": null,
            "justify_items": null,
            "left": null,
            "margin": null,
            "max_height": null,
            "max_width": null,
            "min_height": null,
            "min_width": null,
            "object_fit": null,
            "object_position": null,
            "order": null,
            "overflow": null,
            "overflow_x": null,
            "overflow_y": null,
            "padding": null,
            "right": null,
            "top": null,
            "visibility": null,
            "width": null
          }
        },
        "1f921b24b82a488e878109167a21cffd": {
          "model_module": "@jupyter-widgets/controls",
          "model_name": "DescriptionStyleModel",
          "model_module_version": "1.5.0",
          "state": {
            "_model_module": "@jupyter-widgets/controls",
            "_model_module_version": "1.5.0",
            "_model_name": "DescriptionStyleModel",
            "_view_count": null,
            "_view_module": "@jupyter-widgets/base",
            "_view_module_version": "1.2.0",
            "_view_name": "StyleView",
            "description_width": ""
          }
        },
        "dd0c011835224ffeb600c81e92e116cc": {
          "model_module": "@jupyter-widgets/base",
          "model_name": "LayoutModel",
          "model_module_version": "1.2.0",
          "state": {
            "_model_module": "@jupyter-widgets/base",
            "_model_module_version": "1.2.0",
            "_model_name": "LayoutModel",
            "_view_count": null,
            "_view_module": "@jupyter-widgets/base",
            "_view_module_version": "1.2.0",
            "_view_name": "LayoutView",
            "align_content": null,
            "align_items": null,
            "align_self": null,
            "border": null,
            "bottom": null,
            "display": null,
            "flex": null,
            "flex_flow": null,
            "grid_area": null,
            "grid_auto_columns": null,
            "grid_auto_flow": null,
            "grid_auto_rows": null,
            "grid_column": null,
            "grid_gap": null,
            "grid_row": null,
            "grid_template_areas": null,
            "grid_template_columns": null,
            "grid_template_rows": null,
            "height": null,
            "justify_content": null,
            "justify_items": null,
            "left": null,
            "margin": null,
            "max_height": null,
            "max_width": null,
            "min_height": null,
            "min_width": null,
            "object_fit": null,
            "object_position": null,
            "order": null,
            "overflow": null,
            "overflow_x": null,
            "overflow_y": null,
            "padding": null,
            "right": null,
            "top": null,
            "visibility": null,
            "width": null
          }
        },
        "babcba9e17bd4680a076e9c90b0ea29c": {
          "model_module": "@jupyter-widgets/controls",
          "model_name": "ProgressStyleModel",
          "model_module_version": "1.5.0",
          "state": {
            "_model_module": "@jupyter-widgets/controls",
            "_model_module_version": "1.5.0",
            "_model_name": "ProgressStyleModel",
            "_view_count": null,
            "_view_module": "@jupyter-widgets/base",
            "_view_module_version": "1.2.0",
            "_view_name": "StyleView",
            "bar_color": null,
            "description_width": ""
          }
        },
        "889e6ae15bf84321a56e91387f7798ce": {
          "model_module": "@jupyter-widgets/base",
          "model_name": "LayoutModel",
          "model_module_version": "1.2.0",
          "state": {
            "_model_module": "@jupyter-widgets/base",
            "_model_module_version": "1.2.0",
            "_model_name": "LayoutModel",
            "_view_count": null,
            "_view_module": "@jupyter-widgets/base",
            "_view_module_version": "1.2.0",
            "_view_name": "LayoutView",
            "align_content": null,
            "align_items": null,
            "align_self": null,
            "border": null,
            "bottom": null,
            "display": null,
            "flex": null,
            "flex_flow": null,
            "grid_area": null,
            "grid_auto_columns": null,
            "grid_auto_flow": null,
            "grid_auto_rows": null,
            "grid_column": null,
            "grid_gap": null,
            "grid_row": null,
            "grid_template_areas": null,
            "grid_template_columns": null,
            "grid_template_rows": null,
            "height": null,
            "justify_content": null,
            "justify_items": null,
            "left": null,
            "margin": null,
            "max_height": null,
            "max_width": null,
            "min_height": null,
            "min_width": null,
            "object_fit": null,
            "object_position": null,
            "order": null,
            "overflow": null,
            "overflow_x": null,
            "overflow_y": null,
            "padding": null,
            "right": null,
            "top": null,
            "visibility": null,
            "width": null
          }
        },
        "2d202b82b33c47889c6dbb1b900274c3": {
          "model_module": "@jupyter-widgets/controls",
          "model_name": "DescriptionStyleModel",
          "model_module_version": "1.5.0",
          "state": {
            "_model_module": "@jupyter-widgets/controls",
            "_model_module_version": "1.5.0",
            "_model_name": "DescriptionStyleModel",
            "_view_count": null,
            "_view_module": "@jupyter-widgets/base",
            "_view_module_version": "1.2.0",
            "_view_name": "StyleView",
            "description_width": ""
          }
        },
        "669dfa9854ae45a79dd95c761b66fd4b": {
          "model_module": "@jupyter-widgets/controls",
          "model_name": "HBoxModel",
          "model_module_version": "1.5.0",
          "state": {
            "_dom_classes": [],
            "_model_module": "@jupyter-widgets/controls",
            "_model_module_version": "1.5.0",
            "_model_name": "HBoxModel",
            "_view_count": null,
            "_view_module": "@jupyter-widgets/controls",
            "_view_module_version": "1.5.0",
            "_view_name": "HBoxView",
            "box_style": "",
            "children": [
              "IPY_MODEL_2d6616b71b244ccd86742951c80ac62c",
              "IPY_MODEL_87474e1938bb4110a7402fd40562848e",
              "IPY_MODEL_9ca8d29a81c14d128df0daf12002b023"
            ],
            "layout": "IPY_MODEL_ab681013de354ae0bff0a2cdc4370fda"
          }
        },
        "2d6616b71b244ccd86742951c80ac62c": {
          "model_module": "@jupyter-widgets/controls",
          "model_name": "HTMLModel",
          "model_module_version": "1.5.0",
          "state": {
            "_dom_classes": [],
            "_model_module": "@jupyter-widgets/controls",
            "_model_module_version": "1.5.0",
            "_model_name": "HTMLModel",
            "_view_count": null,
            "_view_module": "@jupyter-widgets/controls",
            "_view_module_version": "1.5.0",
            "_view_name": "HTMLView",
            "description": "",
            "description_tooltip": null,
            "layout": "IPY_MODEL_774a47ceac484c70be9cc1a0c8cfef3a",
            "placeholder": "​",
            "style": "IPY_MODEL_16c0893d2f194912823f0645f9769445",
            "value": "Map:   0%"
          }
        },
        "87474e1938bb4110a7402fd40562848e": {
          "model_module": "@jupyter-widgets/controls",
          "model_name": "FloatProgressModel",
          "model_module_version": "1.5.0",
          "state": {
            "_dom_classes": [],
            "_model_module": "@jupyter-widgets/controls",
            "_model_module_version": "1.5.0",
            "_model_name": "FloatProgressModel",
            "_view_count": null,
            "_view_module": "@jupyter-widgets/controls",
            "_view_module_version": "1.5.0",
            "_view_name": "ProgressView",
            "bar_style": "danger",
            "description": "",
            "description_tooltip": null,
            "layout": "IPY_MODEL_30271d5f7f914bcd85be379e53abffe0",
            "max": 6251,
            "min": 0,
            "orientation": "horizontal",
            "style": "IPY_MODEL_69760211bce5428e9358c2f18f2d7c96",
            "value": 0
          }
        },
        "9ca8d29a81c14d128df0daf12002b023": {
          "model_module": "@jupyter-widgets/controls",
          "model_name": "HTMLModel",
          "model_module_version": "1.5.0",
          "state": {
            "_dom_classes": [],
            "_model_module": "@jupyter-widgets/controls",
            "_model_module_version": "1.5.0",
            "_model_name": "HTMLModel",
            "_view_count": null,
            "_view_module": "@jupyter-widgets/controls",
            "_view_module_version": "1.5.0",
            "_view_name": "HTMLView",
            "description": "",
            "description_tooltip": null,
            "layout": "IPY_MODEL_19c418c3c7f04f38a07e0e374238d32b",
            "placeholder": "​",
            "style": "IPY_MODEL_406b85ab27c149feae6d496483e30127",
            "value": " 0/6251 [00:00&lt;?, ? examples/s]"
          }
        },
        "ab681013de354ae0bff0a2cdc4370fda": {
          "model_module": "@jupyter-widgets/base",
          "model_name": "LayoutModel",
          "model_module_version": "1.2.0",
          "state": {
            "_model_module": "@jupyter-widgets/base",
            "_model_module_version": "1.2.0",
            "_model_name": "LayoutModel",
            "_view_count": null,
            "_view_module": "@jupyter-widgets/base",
            "_view_module_version": "1.2.0",
            "_view_name": "LayoutView",
            "align_content": null,
            "align_items": null,
            "align_self": null,
            "border": null,
            "bottom": null,
            "display": null,
            "flex": null,
            "flex_flow": null,
            "grid_area": null,
            "grid_auto_columns": null,
            "grid_auto_flow": null,
            "grid_auto_rows": null,
            "grid_column": null,
            "grid_gap": null,
            "grid_row": null,
            "grid_template_areas": null,
            "grid_template_columns": null,
            "grid_template_rows": null,
            "height": null,
            "justify_content": null,
            "justify_items": null,
            "left": null,
            "margin": null,
            "max_height": null,
            "max_width": null,
            "min_height": null,
            "min_width": null,
            "object_fit": null,
            "object_position": null,
            "order": null,
            "overflow": null,
            "overflow_x": null,
            "overflow_y": null,
            "padding": null,
            "right": null,
            "top": null,
            "visibility": null,
            "width": null
          }
        },
        "774a47ceac484c70be9cc1a0c8cfef3a": {
          "model_module": "@jupyter-widgets/base",
          "model_name": "LayoutModel",
          "model_module_version": "1.2.0",
          "state": {
            "_model_module": "@jupyter-widgets/base",
            "_model_module_version": "1.2.0",
            "_model_name": "LayoutModel",
            "_view_count": null,
            "_view_module": "@jupyter-widgets/base",
            "_view_module_version": "1.2.0",
            "_view_name": "LayoutView",
            "align_content": null,
            "align_items": null,
            "align_self": null,
            "border": null,
            "bottom": null,
            "display": null,
            "flex": null,
            "flex_flow": null,
            "grid_area": null,
            "grid_auto_columns": null,
            "grid_auto_flow": null,
            "grid_auto_rows": null,
            "grid_column": null,
            "grid_gap": null,
            "grid_row": null,
            "grid_template_areas": null,
            "grid_template_columns": null,
            "grid_template_rows": null,
            "height": null,
            "justify_content": null,
            "justify_items": null,
            "left": null,
            "margin": null,
            "max_height": null,
            "max_width": null,
            "min_height": null,
            "min_width": null,
            "object_fit": null,
            "object_position": null,
            "order": null,
            "overflow": null,
            "overflow_x": null,
            "overflow_y": null,
            "padding": null,
            "right": null,
            "top": null,
            "visibility": null,
            "width": null
          }
        },
        "16c0893d2f194912823f0645f9769445": {
          "model_module": "@jupyter-widgets/controls",
          "model_name": "DescriptionStyleModel",
          "model_module_version": "1.5.0",
          "state": {
            "_model_module": "@jupyter-widgets/controls",
            "_model_module_version": "1.5.0",
            "_model_name": "DescriptionStyleModel",
            "_view_count": null,
            "_view_module": "@jupyter-widgets/base",
            "_view_module_version": "1.2.0",
            "_view_name": "StyleView",
            "description_width": ""
          }
        },
        "30271d5f7f914bcd85be379e53abffe0": {
          "model_module": "@jupyter-widgets/base",
          "model_name": "LayoutModel",
          "model_module_version": "1.2.0",
          "state": {
            "_model_module": "@jupyter-widgets/base",
            "_model_module_version": "1.2.0",
            "_model_name": "LayoutModel",
            "_view_count": null,
            "_view_module": "@jupyter-widgets/base",
            "_view_module_version": "1.2.0",
            "_view_name": "LayoutView",
            "align_content": null,
            "align_items": null,
            "align_self": null,
            "border": null,
            "bottom": null,
            "display": null,
            "flex": null,
            "flex_flow": null,
            "grid_area": null,
            "grid_auto_columns": null,
            "grid_auto_flow": null,
            "grid_auto_rows": null,
            "grid_column": null,
            "grid_gap": null,
            "grid_row": null,
            "grid_template_areas": null,
            "grid_template_columns": null,
            "grid_template_rows": null,
            "height": null,
            "justify_content": null,
            "justify_items": null,
            "left": null,
            "margin": null,
            "max_height": null,
            "max_width": null,
            "min_height": null,
            "min_width": null,
            "object_fit": null,
            "object_position": null,
            "order": null,
            "overflow": null,
            "overflow_x": null,
            "overflow_y": null,
            "padding": null,
            "right": null,
            "top": null,
            "visibility": null,
            "width": null
          }
        },
        "69760211bce5428e9358c2f18f2d7c96": {
          "model_module": "@jupyter-widgets/controls",
          "model_name": "ProgressStyleModel",
          "model_module_version": "1.5.0",
          "state": {
            "_model_module": "@jupyter-widgets/controls",
            "_model_module_version": "1.5.0",
            "_model_name": "ProgressStyleModel",
            "_view_count": null,
            "_view_module": "@jupyter-widgets/base",
            "_view_module_version": "1.2.0",
            "_view_name": "StyleView",
            "bar_color": null,
            "description_width": ""
          }
        },
        "19c418c3c7f04f38a07e0e374238d32b": {
          "model_module": "@jupyter-widgets/base",
          "model_name": "LayoutModel",
          "model_module_version": "1.2.0",
          "state": {
            "_model_module": "@jupyter-widgets/base",
            "_model_module_version": "1.2.0",
            "_model_name": "LayoutModel",
            "_view_count": null,
            "_view_module": "@jupyter-widgets/base",
            "_view_module_version": "1.2.0",
            "_view_name": "LayoutView",
            "align_content": null,
            "align_items": null,
            "align_self": null,
            "border": null,
            "bottom": null,
            "display": null,
            "flex": null,
            "flex_flow": null,
            "grid_area": null,
            "grid_auto_columns": null,
            "grid_auto_flow": null,
            "grid_auto_rows": null,
            "grid_column": null,
            "grid_gap": null,
            "grid_row": null,
            "grid_template_areas": null,
            "grid_template_columns": null,
            "grid_template_rows": null,
            "height": null,
            "justify_content": null,
            "justify_items": null,
            "left": null,
            "margin": null,
            "max_height": null,
            "max_width": null,
            "min_height": null,
            "min_width": null,
            "object_fit": null,
            "object_position": null,
            "order": null,
            "overflow": null,
            "overflow_x": null,
            "overflow_y": null,
            "padding": null,
            "right": null,
            "top": null,
            "visibility": null,
            "width": null
          }
        },
        "406b85ab27c149feae6d496483e30127": {
          "model_module": "@jupyter-widgets/controls",
          "model_name": "DescriptionStyleModel",
          "model_module_version": "1.5.0",
          "state": {
            "_model_module": "@jupyter-widgets/controls",
            "_model_module_version": "1.5.0",
            "_model_name": "DescriptionStyleModel",
            "_view_count": null,
            "_view_module": "@jupyter-widgets/base",
            "_view_module_version": "1.2.0",
            "_view_name": "StyleView",
            "description_width": ""
          }
        }
      }
    },
    "accelerator": "GPU"
  },
  "cells": [
    {
      "cell_type": "markdown",
      "metadata": {
        "id": "view-in-github",
        "colab_type": "text"
      },
      "source": [
        "<a href=\"https://colab.research.google.com/github/miczkejedrzej/MNLP-project-1/blob/main/First_test_Transformers.ipynb\" target=\"_parent\"><img src=\"https://colab.research.google.com/assets/colab-badge.svg\" alt=\"Open In Colab\"/></a>"
      ]
    },
    {
      "cell_type": "code",
      "source": [
        "# Import of the training data\n",
        "\n",
        "from google.colab import files\n",
        "uploaded = files.upload()\n",
        "\n",
        "# Import of moduls\n",
        "\n",
        "!pip install wikidata --quiet\n",
        "!pip install accelerate -U --quiet\n",
        "!pip install datasets --quiet\n",
        "!pip install evaluate --quiet\n",
        "\n",
        "import matplotlib.pyplot as plt\n",
        "import pandas as pd\n",
        "import numpy as np\n",
        "from datasets import Dataset, DatasetDict\n",
        "import torch\n",
        "from typing import Dict\n",
        "import torch\n",
        "from datasets import load_dataset\n",
        "from transformers import AutoConfig, AutoModelForSequenceClassification, AutoTokenizer, EvalPrediction, Trainer, TrainingArguments, set_seed, DataCollatorWithPadding\n",
        "import evaluate\n",
        "from sklearn.metrics import classification_report, accuracy_score, f1_score, precision_score, recall_score, confusion_matrix, ConfusionMatrixDisplay\n",
        "import seaborn as sns\n",
        "\n",
        "from tqdm.auto import tqdm\n",
        "import warnings\n",
        "warnings.simplefilter(action='ignore', category=FutureWarning)\n",
        "\n",
        "# Loading the data\n",
        "train_df = pd.read_csv('[MNLP 2025 HW1] train set [PUBLIC] - train_cleaned.tsv', sep='\\t')"
      ],
      "metadata": {
        "colab": {
          "base_uri": "https://localhost:8080/",
          "height": 423
        },
        "id": "29w62xzbH9Xo",
        "outputId": "2321a955-902c-403b-adfd-5a58241b4b13"
      },
      "execution_count": 1,
      "outputs": [
        {
          "output_type": "display_data",
          "data": {
            "text/plain": [
              "<IPython.core.display.HTML object>"
            ],
            "text/html": [
              "\n",
              "     <input type=\"file\" id=\"files-a43d2022-0263-45d8-ba3f-6d12088a60af\" name=\"files[]\" multiple disabled\n",
              "        style=\"border:none\" />\n",
              "     <output id=\"result-a43d2022-0263-45d8-ba3f-6d12088a60af\">\n",
              "      Upload widget is only available when the cell has been executed in the\n",
              "      current browser session. Please rerun this cell to enable.\n",
              "      </output>\n",
              "      <script>// Copyright 2017 Google LLC\n",
              "//\n",
              "// Licensed under the Apache License, Version 2.0 (the \"License\");\n",
              "// you may not use this file except in compliance with the License.\n",
              "// You may obtain a copy of the License at\n",
              "//\n",
              "//      http://www.apache.org/licenses/LICENSE-2.0\n",
              "//\n",
              "// Unless required by applicable law or agreed to in writing, software\n",
              "// distributed under the License is distributed on an \"AS IS\" BASIS,\n",
              "// WITHOUT WARRANTIES OR CONDITIONS OF ANY KIND, either express or implied.\n",
              "// See the License for the specific language governing permissions and\n",
              "// limitations under the License.\n",
              "\n",
              "/**\n",
              " * @fileoverview Helpers for google.colab Python module.\n",
              " */\n",
              "(function(scope) {\n",
              "function span(text, styleAttributes = {}) {\n",
              "  const element = document.createElement('span');\n",
              "  element.textContent = text;\n",
              "  for (const key of Object.keys(styleAttributes)) {\n",
              "    element.style[key] = styleAttributes[key];\n",
              "  }\n",
              "  return element;\n",
              "}\n",
              "\n",
              "// Max number of bytes which will be uploaded at a time.\n",
              "const MAX_PAYLOAD_SIZE = 100 * 1024;\n",
              "\n",
              "function _uploadFiles(inputId, outputId) {\n",
              "  const steps = uploadFilesStep(inputId, outputId);\n",
              "  const outputElement = document.getElementById(outputId);\n",
              "  // Cache steps on the outputElement to make it available for the next call\n",
              "  // to uploadFilesContinue from Python.\n",
              "  outputElement.steps = steps;\n",
              "\n",
              "  return _uploadFilesContinue(outputId);\n",
              "}\n",
              "\n",
              "// This is roughly an async generator (not supported in the browser yet),\n",
              "// where there are multiple asynchronous steps and the Python side is going\n",
              "// to poll for completion of each step.\n",
              "// This uses a Promise to block the python side on completion of each step,\n",
              "// then passes the result of the previous step as the input to the next step.\n",
              "function _uploadFilesContinue(outputId) {\n",
              "  const outputElement = document.getElementById(outputId);\n",
              "  const steps = outputElement.steps;\n",
              "\n",
              "  const next = steps.next(outputElement.lastPromiseValue);\n",
              "  return Promise.resolve(next.value.promise).then((value) => {\n",
              "    // Cache the last promise value to make it available to the next\n",
              "    // step of the generator.\n",
              "    outputElement.lastPromiseValue = value;\n",
              "    return next.value.response;\n",
              "  });\n",
              "}\n",
              "\n",
              "/**\n",
              " * Generator function which is called between each async step of the upload\n",
              " * process.\n",
              " * @param {string} inputId Element ID of the input file picker element.\n",
              " * @param {string} outputId Element ID of the output display.\n",
              " * @return {!Iterable<!Object>} Iterable of next steps.\n",
              " */\n",
              "function* uploadFilesStep(inputId, outputId) {\n",
              "  const inputElement = document.getElementById(inputId);\n",
              "  inputElement.disabled = false;\n",
              "\n",
              "  const outputElement = document.getElementById(outputId);\n",
              "  outputElement.innerHTML = '';\n",
              "\n",
              "  const pickedPromise = new Promise((resolve) => {\n",
              "    inputElement.addEventListener('change', (e) => {\n",
              "      resolve(e.target.files);\n",
              "    });\n",
              "  });\n",
              "\n",
              "  const cancel = document.createElement('button');\n",
              "  inputElement.parentElement.appendChild(cancel);\n",
              "  cancel.textContent = 'Cancel upload';\n",
              "  const cancelPromise = new Promise((resolve) => {\n",
              "    cancel.onclick = () => {\n",
              "      resolve(null);\n",
              "    };\n",
              "  });\n",
              "\n",
              "  // Wait for the user to pick the files.\n",
              "  const files = yield {\n",
              "    promise: Promise.race([pickedPromise, cancelPromise]),\n",
              "    response: {\n",
              "      action: 'starting',\n",
              "    }\n",
              "  };\n",
              "\n",
              "  cancel.remove();\n",
              "\n",
              "  // Disable the input element since further picks are not allowed.\n",
              "  inputElement.disabled = true;\n",
              "\n",
              "  if (!files) {\n",
              "    return {\n",
              "      response: {\n",
              "        action: 'complete',\n",
              "      }\n",
              "    };\n",
              "  }\n",
              "\n",
              "  for (const file of files) {\n",
              "    const li = document.createElement('li');\n",
              "    li.append(span(file.name, {fontWeight: 'bold'}));\n",
              "    li.append(span(\n",
              "        `(${file.type || 'n/a'}) - ${file.size} bytes, ` +\n",
              "        `last modified: ${\n",
              "            file.lastModifiedDate ? file.lastModifiedDate.toLocaleDateString() :\n",
              "                                    'n/a'} - `));\n",
              "    const percent = span('0% done');\n",
              "    li.appendChild(percent);\n",
              "\n",
              "    outputElement.appendChild(li);\n",
              "\n",
              "    const fileDataPromise = new Promise((resolve) => {\n",
              "      const reader = new FileReader();\n",
              "      reader.onload = (e) => {\n",
              "        resolve(e.target.result);\n",
              "      };\n",
              "      reader.readAsArrayBuffer(file);\n",
              "    });\n",
              "    // Wait for the data to be ready.\n",
              "    let fileData = yield {\n",
              "      promise: fileDataPromise,\n",
              "      response: {\n",
              "        action: 'continue',\n",
              "      }\n",
              "    };\n",
              "\n",
              "    // Use a chunked sending to avoid message size limits. See b/62115660.\n",
              "    let position = 0;\n",
              "    do {\n",
              "      const length = Math.min(fileData.byteLength - position, MAX_PAYLOAD_SIZE);\n",
              "      const chunk = new Uint8Array(fileData, position, length);\n",
              "      position += length;\n",
              "\n",
              "      const base64 = btoa(String.fromCharCode.apply(null, chunk));\n",
              "      yield {\n",
              "        response: {\n",
              "          action: 'append',\n",
              "          file: file.name,\n",
              "          data: base64,\n",
              "        },\n",
              "      };\n",
              "\n",
              "      let percentDone = fileData.byteLength === 0 ?\n",
              "          100 :\n",
              "          Math.round((position / fileData.byteLength) * 100);\n",
              "      percent.textContent = `${percentDone}% done`;\n",
              "\n",
              "    } while (position < fileData.byteLength);\n",
              "  }\n",
              "\n",
              "  // All done.\n",
              "  yield {\n",
              "    response: {\n",
              "      action: 'complete',\n",
              "    }\n",
              "  };\n",
              "}\n",
              "\n",
              "scope.google = scope.google || {};\n",
              "scope.google.colab = scope.google.colab || {};\n",
              "scope.google.colab._files = {\n",
              "  _uploadFiles,\n",
              "  _uploadFilesContinue,\n",
              "};\n",
              "})(self);\n",
              "</script> "
            ]
          },
          "metadata": {}
        },
        {
          "output_type": "stream",
          "name": "stdout",
          "text": [
            "Saving [MNLP 2025 HW1] train set [PUBLIC] - train_cleaned.tsv to [MNLP 2025 HW1] train set [PUBLIC] - train_cleaned.tsv\n",
            "\u001b[2K   \u001b[90m━━━━━━━━━━━━━━━━━━━━━━━━━━━━━━━━━━━━━━━━\u001b[0m \u001b[32m354.7/354.7 kB\u001b[0m \u001b[31m34.3 MB/s\u001b[0m eta \u001b[36m0:00:00\u001b[0m\n",
            "\u001b[2K   \u001b[90m━━━━━━━━━━━━━━━━━━━━━━━━━━━━━━━━━━━━━━━━\u001b[0m \u001b[32m363.4/363.4 MB\u001b[0m \u001b[31m4.6 MB/s\u001b[0m eta \u001b[36m0:00:00\u001b[0m\n",
            "\u001b[2K   \u001b[90m━━━━━━━━━━━━━━━━━━━━━━━━━━━━━━━━━━━━━━━━\u001b[0m \u001b[32m13.8/13.8 MB\u001b[0m \u001b[31m107.4 MB/s\u001b[0m eta \u001b[36m0:00:00\u001b[0m\n",
            "\u001b[2K   \u001b[90m━━━━━━━━━━━━━━━━━━━━━━━━━━━━━━━━━━━━━━━━\u001b[0m \u001b[32m24.6/24.6 MB\u001b[0m \u001b[31m78.6 MB/s\u001b[0m eta \u001b[36m0:00:00\u001b[0m\n",
            "\u001b[2K   \u001b[90m━━━━━━━━━━━━━━━━━━━━━━━━━━━━━━━━━━━━━━━━\u001b[0m \u001b[32m883.7/883.7 kB\u001b[0m \u001b[31m59.4 MB/s\u001b[0m eta \u001b[36m0:00:00\u001b[0m\n",
            "\u001b[2K   \u001b[90m━━━━━━━━━━━━━━━━━━━━━━━━━━━━━━━━━━━━━━━━\u001b[0m \u001b[32m664.8/664.8 MB\u001b[0m \u001b[31m2.8 MB/s\u001b[0m eta \u001b[36m0:00:00\u001b[0m\n",
            "\u001b[2K   \u001b[90m━━━━━━━━━━━━━━━━━━━━━━━━━━━━━━━━━━━━━━━━\u001b[0m \u001b[32m211.5/211.5 MB\u001b[0m \u001b[31m5.6 MB/s\u001b[0m eta \u001b[36m0:00:00\u001b[0m\n",
            "\u001b[2K   \u001b[90m━━━━━━━━━━━━━━━━━━━━━━━━━━━━━━━━━━━━━━━━\u001b[0m \u001b[32m56.3/56.3 MB\u001b[0m \u001b[31m15.7 MB/s\u001b[0m eta \u001b[36m0:00:00\u001b[0m\n",
            "\u001b[2K   \u001b[90m━━━━━━━━━━━━━━━━━━━━━━━━━━━━━━━━━━━━━━━━\u001b[0m \u001b[32m127.9/127.9 MB\u001b[0m \u001b[31m7.6 MB/s\u001b[0m eta \u001b[36m0:00:00\u001b[0m\n",
            "\u001b[2K   \u001b[90m━━━━━━━━━━━━━━━━━━━━━━━━━━━━━━━━━━━━━━━━\u001b[0m \u001b[32m207.5/207.5 MB\u001b[0m \u001b[31m5.6 MB/s\u001b[0m eta \u001b[36m0:00:00\u001b[0m\n",
            "\u001b[2K   \u001b[90m━━━━━━━━━━━━━━━━━━━━━━━━━━━━━━━━━━━━━━━━\u001b[0m \u001b[32m21.1/21.1 MB\u001b[0m \u001b[31m65.7 MB/s\u001b[0m eta \u001b[36m0:00:00\u001b[0m\n",
            "\u001b[2K   \u001b[90m━━━━━━━━━━━━━━━━━━━━━━━━━━━━━━━━━━━━━━━━\u001b[0m \u001b[32m491.2/491.2 kB\u001b[0m \u001b[31m39.9 MB/s\u001b[0m eta \u001b[36m0:00:00\u001b[0m\n",
            "\u001b[2K   \u001b[90m━━━━━━━━━━━━━━━━━━━━━━━━━━━━━━━━━━━━━━━━\u001b[0m \u001b[32m116.3/116.3 kB\u001b[0m \u001b[31m14.0 MB/s\u001b[0m eta \u001b[36m0:00:00\u001b[0m\n",
            "\u001b[2K   \u001b[90m━━━━━━━━━━━━━━━━━━━━━━━━━━━━━━━━━━━━━━━━\u001b[0m \u001b[32m183.9/183.9 kB\u001b[0m \u001b[31m23.3 MB/s\u001b[0m eta \u001b[36m0:00:00\u001b[0m\n",
            "\u001b[2K   \u001b[90m━━━━━━━━━━━━━━━━━━━━━━━━━━━━━━━━━━━━━━━━\u001b[0m \u001b[32m143.5/143.5 kB\u001b[0m \u001b[31m17.9 MB/s\u001b[0m eta \u001b[36m0:00:00\u001b[0m\n",
            "\u001b[2K   \u001b[90m━━━━━━━━━━━━━━━━━━━━━━━━━━━━━━━━━━━━━━━━\u001b[0m \u001b[32m194.8/194.8 kB\u001b[0m \u001b[31m22.7 MB/s\u001b[0m eta \u001b[36m0:00:00\u001b[0m\n",
            "\u001b[?25h\u001b[31mERROR: pip's dependency resolver does not currently take into account all the packages that are installed. This behaviour is the source of the following dependency conflicts.\n",
            "gcsfs 2025.3.2 requires fsspec==2025.3.2, but you have fsspec 2024.12.0 which is incompatible.\u001b[0m\u001b[31m\n",
            "\u001b[2K   \u001b[90m━━━━━━━━━━━━━━━━━━━━━━━━━━━━━━━━━━━━━━━━\u001b[0m \u001b[32m84.0/84.0 kB\u001b[0m \u001b[31m9.8 MB/s\u001b[0m eta \u001b[36m0:00:00\u001b[0m\n",
            "\u001b[?25h"
          ]
        }
      ]
    },
    {
      "cell_type": "code",
      "source": [
        "uploaded = files.upload()"
      ],
      "metadata": {
        "id": "YP8_4nGHGovN",
        "outputId": "e3078c2b-15dc-41e9-f091-ad7d4a5073ec",
        "colab": {
          "base_uri": "https://localhost:8080/",
          "height": 73
        }
      },
      "execution_count": 4,
      "outputs": [
        {
          "output_type": "display_data",
          "data": {
            "text/plain": [
              "<IPython.core.display.HTML object>"
            ],
            "text/html": [
              "\n",
              "     <input type=\"file\" id=\"files-d1ea4418-e789-4c6e-8d8d-9bd180974b74\" name=\"files[]\" multiple disabled\n",
              "        style=\"border:none\" />\n",
              "     <output id=\"result-d1ea4418-e789-4c6e-8d8d-9bd180974b74\">\n",
              "      Upload widget is only available when the cell has been executed in the\n",
              "      current browser session. Please rerun this cell to enable.\n",
              "      </output>\n",
              "      <script>// Copyright 2017 Google LLC\n",
              "//\n",
              "// Licensed under the Apache License, Version 2.0 (the \"License\");\n",
              "// you may not use this file except in compliance with the License.\n",
              "// You may obtain a copy of the License at\n",
              "//\n",
              "//      http://www.apache.org/licenses/LICENSE-2.0\n",
              "//\n",
              "// Unless required by applicable law or agreed to in writing, software\n",
              "// distributed under the License is distributed on an \"AS IS\" BASIS,\n",
              "// WITHOUT WARRANTIES OR CONDITIONS OF ANY KIND, either express or implied.\n",
              "// See the License for the specific language governing permissions and\n",
              "// limitations under the License.\n",
              "\n",
              "/**\n",
              " * @fileoverview Helpers for google.colab Python module.\n",
              " */\n",
              "(function(scope) {\n",
              "function span(text, styleAttributes = {}) {\n",
              "  const element = document.createElement('span');\n",
              "  element.textContent = text;\n",
              "  for (const key of Object.keys(styleAttributes)) {\n",
              "    element.style[key] = styleAttributes[key];\n",
              "  }\n",
              "  return element;\n",
              "}\n",
              "\n",
              "// Max number of bytes which will be uploaded at a time.\n",
              "const MAX_PAYLOAD_SIZE = 100 * 1024;\n",
              "\n",
              "function _uploadFiles(inputId, outputId) {\n",
              "  const steps = uploadFilesStep(inputId, outputId);\n",
              "  const outputElement = document.getElementById(outputId);\n",
              "  // Cache steps on the outputElement to make it available for the next call\n",
              "  // to uploadFilesContinue from Python.\n",
              "  outputElement.steps = steps;\n",
              "\n",
              "  return _uploadFilesContinue(outputId);\n",
              "}\n",
              "\n",
              "// This is roughly an async generator (not supported in the browser yet),\n",
              "// where there are multiple asynchronous steps and the Python side is going\n",
              "// to poll for completion of each step.\n",
              "// This uses a Promise to block the python side on completion of each step,\n",
              "// then passes the result of the previous step as the input to the next step.\n",
              "function _uploadFilesContinue(outputId) {\n",
              "  const outputElement = document.getElementById(outputId);\n",
              "  const steps = outputElement.steps;\n",
              "\n",
              "  const next = steps.next(outputElement.lastPromiseValue);\n",
              "  return Promise.resolve(next.value.promise).then((value) => {\n",
              "    // Cache the last promise value to make it available to the next\n",
              "    // step of the generator.\n",
              "    outputElement.lastPromiseValue = value;\n",
              "    return next.value.response;\n",
              "  });\n",
              "}\n",
              "\n",
              "/**\n",
              " * Generator function which is called between each async step of the upload\n",
              " * process.\n",
              " * @param {string} inputId Element ID of the input file picker element.\n",
              " * @param {string} outputId Element ID of the output display.\n",
              " * @return {!Iterable<!Object>} Iterable of next steps.\n",
              " */\n",
              "function* uploadFilesStep(inputId, outputId) {\n",
              "  const inputElement = document.getElementById(inputId);\n",
              "  inputElement.disabled = false;\n",
              "\n",
              "  const outputElement = document.getElementById(outputId);\n",
              "  outputElement.innerHTML = '';\n",
              "\n",
              "  const pickedPromise = new Promise((resolve) => {\n",
              "    inputElement.addEventListener('change', (e) => {\n",
              "      resolve(e.target.files);\n",
              "    });\n",
              "  });\n",
              "\n",
              "  const cancel = document.createElement('button');\n",
              "  inputElement.parentElement.appendChild(cancel);\n",
              "  cancel.textContent = 'Cancel upload';\n",
              "  const cancelPromise = new Promise((resolve) => {\n",
              "    cancel.onclick = () => {\n",
              "      resolve(null);\n",
              "    };\n",
              "  });\n",
              "\n",
              "  // Wait for the user to pick the files.\n",
              "  const files = yield {\n",
              "    promise: Promise.race([pickedPromise, cancelPromise]),\n",
              "    response: {\n",
              "      action: 'starting',\n",
              "    }\n",
              "  };\n",
              "\n",
              "  cancel.remove();\n",
              "\n",
              "  // Disable the input element since further picks are not allowed.\n",
              "  inputElement.disabled = true;\n",
              "\n",
              "  if (!files) {\n",
              "    return {\n",
              "      response: {\n",
              "        action: 'complete',\n",
              "      }\n",
              "    };\n",
              "  }\n",
              "\n",
              "  for (const file of files) {\n",
              "    const li = document.createElement('li');\n",
              "    li.append(span(file.name, {fontWeight: 'bold'}));\n",
              "    li.append(span(\n",
              "        `(${file.type || 'n/a'}) - ${file.size} bytes, ` +\n",
              "        `last modified: ${\n",
              "            file.lastModifiedDate ? file.lastModifiedDate.toLocaleDateString() :\n",
              "                                    'n/a'} - `));\n",
              "    const percent = span('0% done');\n",
              "    li.appendChild(percent);\n",
              "\n",
              "    outputElement.appendChild(li);\n",
              "\n",
              "    const fileDataPromise = new Promise((resolve) => {\n",
              "      const reader = new FileReader();\n",
              "      reader.onload = (e) => {\n",
              "        resolve(e.target.result);\n",
              "      };\n",
              "      reader.readAsArrayBuffer(file);\n",
              "    });\n",
              "    // Wait for the data to be ready.\n",
              "    let fileData = yield {\n",
              "      promise: fileDataPromise,\n",
              "      response: {\n",
              "        action: 'continue',\n",
              "      }\n",
              "    };\n",
              "\n",
              "    // Use a chunked sending to avoid message size limits. See b/62115660.\n",
              "    let position = 0;\n",
              "    do {\n",
              "      const length = Math.min(fileData.byteLength - position, MAX_PAYLOAD_SIZE);\n",
              "      const chunk = new Uint8Array(fileData, position, length);\n",
              "      position += length;\n",
              "\n",
              "      const base64 = btoa(String.fromCharCode.apply(null, chunk));\n",
              "      yield {\n",
              "        response: {\n",
              "          action: 'append',\n",
              "          file: file.name,\n",
              "          data: base64,\n",
              "        },\n",
              "      };\n",
              "\n",
              "      let percentDone = fileData.byteLength === 0 ?\n",
              "          100 :\n",
              "          Math.round((position / fileData.byteLength) * 100);\n",
              "      percent.textContent = `${percentDone}% done`;\n",
              "\n",
              "    } while (position < fileData.byteLength);\n",
              "  }\n",
              "\n",
              "  // All done.\n",
              "  yield {\n",
              "    response: {\n",
              "      action: 'complete',\n",
              "    }\n",
              "  };\n",
              "}\n",
              "\n",
              "scope.google = scope.google || {};\n",
              "scope.google.colab = scope.google.colab || {};\n",
              "scope.google.colab._files = {\n",
              "  _uploadFiles,\n",
              "  _uploadFilesContinue,\n",
              "};\n",
              "})(self);\n",
              "</script> "
            ]
          },
          "metadata": {}
        },
        {
          "output_type": "stream",
          "name": "stdout",
          "text": [
            "Saving dev_df_complete.json to dev_df_complete.json\n"
          ]
        }
      ]
    },
    {
      "cell_type": "code",
      "source": [
        "!pip install datasets --quiet\n",
        "\n",
        "from datasets import load_dataset\n",
        "from huggingface_hub import login\n",
        "\n",
        "# First : Create an account on Hugging face, and create also a token\n",
        "\n",
        "# Connection to hugging face\n",
        "# login(token=\"\")\n",
        "\n",
        "# dataset = load_dataset('sapienzanlp/nlp2025_hw1_cultural_dataset')\n",
        "\n",
        "# dev_df = dataset['validation'].to_pandas()"
      ],
      "metadata": {
        "id": "7geTzXmHTBYY"
      },
      "execution_count": 5,
      "outputs": []
    },
    {
      "cell_type": "code",
      "source": [
        "#Wikipedia text (1000 characters) for each item\n",
        "df_train_text = pd.read_json('/content/train_with_text.json', lines=True)[['item','text']]\n",
        "df_dev_text = pd.read_json('/content/dev_with_text.json', lines=True)[['item','text']]\n",
        "dev_df = pd.read_json('dev_df_complete.json',lines=True, orient='record')\n",
        "\n",
        "#500 first characters\n",
        "#df_train_text['text'] = df_train_text['text'].apply(lambda x: x[:500])\n",
        "#df_dev_text['text'] = df_dev_text['text'].apply(lambda x: x[:500])"
      ],
      "metadata": {
        "id": "sU3Y_RprZJcc"
      },
      "execution_count": 6,
      "outputs": []
    },
    {
      "cell_type": "markdown",
      "source": [
        "# Cleaning the tables"
      ],
      "metadata": {
        "id": "8fyWjnSkIe-U"
      }
    },
    {
      "cell_type": "code",
      "source": [
        "# Select the labels and associated labels to correct\n",
        "to_correct = train_df[train_df[\"label\"].isin(['cultural agn','cultural represent', 'cultural ex', 'cultural ag'])][['item', 'label']]\n",
        "\n",
        "# Create the mapping for correction\n",
        "mapping_correction = {\n",
        "  'cultural agn' : 'cultural agnostic',\n",
        "  'cultural represent' : 'cultural representative',\n",
        "  'cultural ex' : 'cultural exclusive',\n",
        "  'cultural ag' : 'cultural agnostic'\n",
        "}\n",
        "\n",
        "# Apply the correction\n",
        "to_correct['label'] = to_correct['label'].map(mapping_correction)\n",
        "\n",
        "# We update the transformations to the initial dataset\n",
        "train_df.set_index('item', inplace=True)\n",
        "to_correct.set_index('item', inplace=True)\n",
        "\n",
        "train_df.update(to_correct)\n",
        "train_df.reset_index(inplace=True)\n",
        "\n",
        "# Select the items that have no label, or with label 'cultural', or 'cult'\n",
        "to_classify = train_df[(train_df[\"label\"].isin([\"cultural\", \"cult\"])) | (train_df[\"label\"].isna())][['item', 'name', 'description']]\n",
        "\n",
        "# Create the dictionnary for the mapping\n",
        "categories = {\n",
        "    'http://www.wikidata.org/entity/Q957033': 'cultural representative',\n",
        "    'http://www.wikidata.org/entity/Q30327019': 'cultural agnostic',\n",
        "    'http://www.wikidata.org/entity/Q811361': 'cultural agnostic',\n",
        "    'http://www.wikidata.org/entity/Q12014207': 'cultural agnostic',\n",
        "    'http://www.wikidata.org/entity/Q257907': 'cultural exclusive',\n",
        "    'http://www.wikidata.org/entity/Q1136336': 'cultural representative',\n",
        "    'http://www.wikidata.org/entity/Q67111': 'cultural representative',\n",
        "    'http://www.wikidata.org/entity/Q1089672': 'cultural representative',\n",
        "    'http://www.wikidata.org/entity/Q85755629': 'cultural representative',\n",
        "    'http://www.wikidata.org/entity/Q206912': 'cultural agnostic',\n",
        "    'http://www.wikidata.org/entity/Q23228': 'cultural agnostic',\n",
        "    'http://www.wikidata.org/entity/Q3196604': 'cultural representative',\n",
        "    'http://www.wikidata.org/entity/Q1940624': 'cultural representative'\n",
        "}\n",
        "\n",
        "# Apply the classification\n",
        "to_classify['label'] = to_classify['item'].map(categories)\n",
        "\n",
        "# We update the transformations to the initial dataset\n",
        "train_df.set_index('item', inplace=True)\n",
        "to_classify.set_index('item', inplace=True)\n",
        "\n",
        "train_df.update(to_classify)\n",
        "train_df.reset_index(inplace=True)\n",
        "\n",
        "dict_mapping ={'cultural exclusive': 0, 'cultural representative': 1, 'cultural agnostic': 2}\n",
        "\n",
        "train_df['label'] = train_df['label'].map(dict_mapping)\n",
        "train_df['label'] = train_df['label'].apply(lambda x: np.array(x))\n",
        "\n",
        "dev_df['label'] = dev_df['label'].map(dict_mapping)\n",
        "dev_df['label'] = dev_df['label'].apply(lambda x: np.array(x))"
      ],
      "metadata": {
        "id": "x6tcy5HiArsD"
      },
      "execution_count": 7,
      "outputs": []
    },
    {
      "cell_type": "code",
      "source": [
        "train_df[\"idx\"] = range(len(train_df))\n",
        "dev_df[\"idx\"] = range(len(dev_df))\n",
        "\n",
        "# Creation of the dictionnary datasets\n",
        "train_dict = train_df[['idx','name','description','label']].to_dict(orient=\"list\")\n",
        "train_dataset = Dataset.from_dict(train_dict)\n",
        "\n",
        "dev_dict = dev_df[['idx','name','description','label']].to_dict(orient=\"list\")\n",
        "dev_dataset = Dataset.from_dict(dev_dict)\n",
        "\n",
        "# Merge the datasets into one single dictionnary\n",
        "datasets = DatasetDict({\n",
        "    \"train\": train_dataset,\n",
        "    \"dev\": dev_dataset\n",
        "})\n",
        "\n",
        "# Visualisation\n",
        "datasets"
      ],
      "metadata": {
        "id": "Y3jinJGsNmTJ",
        "colab": {
          "base_uri": "https://localhost:8080/"
        },
        "outputId": "4606eb24-520c-4c31-c92e-ef57df5a3d95"
      },
      "execution_count": 8,
      "outputs": [
        {
          "output_type": "execute_result",
          "data": {
            "text/plain": [
              "DatasetDict({\n",
              "    train: Dataset({\n",
              "        features: ['idx', 'name', 'description', 'label'],\n",
              "        num_rows: 6251\n",
              "    })\n",
              "    dev: Dataset({\n",
              "        features: ['idx', 'name', 'description', 'label'],\n",
              "        num_rows: 300\n",
              "    })\n",
              "})"
            ]
          },
          "metadata": {},
          "execution_count": 8
        }
      ]
    },
    {
      "cell_type": "markdown",
      "source": [
        "# Metrics"
      ],
      "metadata": {
        "id": "8AbCUtqZPJqA"
      }
    },
    {
      "cell_type": "code",
      "execution_count": 9,
      "metadata": {
        "id": "UnQC7RJhJU1l"
      },
      "outputs": [],
      "source": [
        "def compute_metrics(eval_pred):\n",
        "\n",
        "    # Load metrics\n",
        "    load_accuracy = evaluate.load(\"accuracy\")\n",
        "    load_f1 = evaluate.load(\"f1\")\n",
        "\n",
        "    logits, labels = eval_pred\n",
        "    predictions = np.argmax(logits, axis=-1)\n",
        "\n",
        "    # Computation\n",
        "    accuracy = load_accuracy.compute(predictions=predictions, references=labels)[\"accuracy\"]\n",
        "    f1 = load_f1.compute(predictions=predictions, references=labels, average=\"weighted\")[\"f1\"]\n",
        "    precision = precision_score(labels, predictions, average=\"weighted\", zero_division=0)\n",
        "    recall = recall_score(labels, predictions, average=\"weighted\", zero_division=0)\n",
        "    cm = confusion_matrix(labels, predictions)\n",
        "\n",
        "    return {\n",
        "        \"accuracy\": accuracy,\n",
        "        \"f1\": f1,\n",
        "        \"precision\": precision,\n",
        "        \"recall\": recall,\n",
        "        \"cm\": cm\n",
        "    }"
      ]
    },
    {
      "cell_type": "markdown",
      "source": [
        "# Models"
      ],
      "metadata": {
        "id": "f7Y1djY7tmgB"
      }
    },
    {
      "cell_type": "markdown",
      "source": [
        "## Model 1 : BERT"
      ],
      "metadata": {
        "id": "PVA0rQ6dmhdX"
      }
    },
    {
      "cell_type": "markdown",
      "source": [
        "We will rely on the Huggingface **AutoModelForSequenceClassification** class from huggingface repository. This is a wrapper for encoder-only models, that allow us to simply create a model suitable to solve a classification task over textual sentences.\n",
        "\n",
        "**BERT Encoding**\n",
        "\n",
        "We use a BERT-style pretrained encoder model, in this setting, we rely on the tokenization practices of those models.\n",
        "\n",
        "Each sentence is:\n",
        "- Splitted in tokens\n",
        "- Added special tokens (\\[CLS\\], \\[SEP\\])\n",
        "- Sum Position Embeddings\n",
        "- Sum Segment Embeddings (Deprecated)\n",
        "\n",
        "![alt text](https://miro.medium.com/v2/resize:fit:998/1*EKzyGf_l0e57XN491_YAyg.png)\n",
        "\n",
        "**Sentence Classification**\n",
        "\n",
        "In the previous notebook you saw how to train a token level classifier to solve NER task, learning a MLP over each tokens of the input sentence. In the setting of sentence level classification the standard approaches apply a MLP over the [CLS] token's embedding of the last encoder layer. This is because the [CLS] token contains a lot of information about the **semantic and syntactitc** structure of the input sentence.\n",
        "\n",
        "![alt text](https://jalammar.github.io/images/bert-classifier.png \"Sentence Classification\")"
      ],
      "metadata": {
        "id": "HfLBSPbwtdk0"
      }
    },
    {
      "cell_type": "code",
      "execution_count": 10,
      "metadata": {
        "id": "CDVJcVjPK-jp"
      },
      "outputs": [],
      "source": [
        "### Model Parameters\n",
        "# we will use with Distil-BERT\n",
        "language_model_name = \"distilbert-base-uncased\"\n",
        "\n",
        "### Training Argurments\n",
        "\n",
        "# this GPU should be enough for this task to handle 32 samples per batch\n",
        "batch_size = 8\n",
        "\n",
        "# optim\n",
        "learning_rate = 1e-4\n",
        "weight_decay = 0.001 # we could use e.g. 0.01 in case of very low and very high amount of data for regularization\n",
        "\n",
        "# training\n",
        "epochs = 1\n",
        "device = \"cuda\" if torch.cuda.is_available() else \"cpu\"\n",
        "\n",
        "\n",
        "set_seed(42)"
      ]
    },
    {
      "cell_type": "markdown",
      "source": [
        "### Model 1.1"
      ],
      "metadata": {
        "id": "SgBl34sst_wP"
      }
    },
    {
      "cell_type": "code",
      "source": [
        "## Initialize the model\n",
        "model_11 = AutoModelForSequenceClassification.from_pretrained(language_model_name,\n",
        "                                                                   ignore_mismatched_sizes=True,\n",
        "                                                                   output_attentions=False, output_hidden_states=False,\n",
        "                                                                   num_labels=3) # number of the classes\n",
        "\n",
        "# Load the pretrained tokenizer\n",
        "tokenizer = AutoTokenizer.from_pretrained(language_model_name)\n",
        "\n",
        "# Set the data collator\n",
        "# Function used to prepare the data before the training.\n",
        "# the data collator function used here apply a zero-padding on the elements in the batch\n",
        "# the padding is needed to have a \"full\" form of the batches\n",
        "data_collator = DataCollatorWithPadding(tokenizer=tokenizer)\n",
        "\n",
        "def tokenize_function(examples):\n",
        "    return tokenizer(examples[\"description\"], padding=True, truncation=True)"
      ],
      "metadata": {
        "colab": {
          "base_uri": "https://localhost:8080/",
          "height": 371,
          "referenced_widgets": [
            "724b3498a321413eb30aba4bca70365c",
            "701c559395ef4f5dbdfba2e9e8e9487a",
            "8d501980445f460b8c7c1ab30a9d9f7c",
            "b846243edb624293b219807003e4a7a7",
            "00c80a5b315f475fa5cfb85d18c08c2e",
            "f27a73e83d8c4a4dbcc70a4e0e436318",
            "077806f679c24fae87a631ac41637ed3",
            "4dba5a63314f496684d5514fa386e76c",
            "5f010aa6b3174b888f2cedc984084d7c",
            "b63b0402aae24e2d94f48456a2bca680",
            "c7d9e712ec2142b8b480f21b1c41a247",
            "d36ef349d1a845a081e16d8e63d3d930",
            "5b6b53aeccdf448bbb07087325aaf7de",
            "d1b5aca1df8d4e3fb5622f508ef8df32",
            "4e63a6fd52a64d7594cd87bdf25f6bc5",
            "b6e37990b88448e69d64e9dd18a22709",
            "509ec9cbe07f4ea2a03de017b32e1136",
            "d71e51746c0a486a89d58a4ff5908d0b",
            "57f7cacf5a9b48c2a148feacc6874fc5",
            "8c5347c59ca44375bd3f5b958d0a553b",
            "71eefc3d3688435db6db31d447013e5c",
            "2bd9f7bc3d2e48c3894b64d96dc44733",
            "d605c56109214ed591f6f61b5aab70d8",
            "a8432520a9a04441ac91ef3f0ba57a49",
            "79de6e968f344dd292691f33343890b3",
            "d3794c2844e3473c8ec3c6b28ca5632a",
            "517e711d35b74948965b550b6e6f85cc",
            "7964aa34c5bf407f8abb8c2776fa0841",
            "6cf96ecb974a441ba14e89f643c5f3bb",
            "31e8066ce1e0478585b03c4440bb5ba8",
            "bd8d720c3be7456b8d762cf97cbe32cd",
            "c42579dcd41f40a3a7bd157eafda06a2",
            "3c0503e7f5174579ab137f58744817d1",
            "f913ffeaba9a44179738953914ef1d69",
            "16308f4476aa499385a55c3ca5861ed0",
            "4cdd01870ea94a109e8de6fc1e42ba7e",
            "e9b04db869944d538944fbbe4f7a73ef",
            "e004520f9af54aa2944ad58c83283454",
            "5b432b36984549cc93609af9166240d9",
            "d33a492e4b8d4578874238c5860bcc02",
            "a951f38f297d40708292b8bc4d848824",
            "409b96175c294e4f9c87b686d02f41c6",
            "c812eef0b12146ed90297fd324ce979d",
            "96356a4179134a479de7c813f0332a52",
            "17c9766c83754daca72438f9b5c66ffd",
            "6fef75bf4dea4b94a734adb4eae5f622",
            "ddce47eb9679428c95aded6b2686e9b4",
            "2c95084d88f64465a8b469806447eea3",
            "e562ce4d16ce4d81a40e0c91b0ccdf68",
            "972a2c4774ce4258abdd2021fbced141",
            "b707cc3b2bd341e98caca9e5b7f44def",
            "5df99b6ded994bc7b4431944b22743ac",
            "b79e09ffa91d4978b7f41437538cc153",
            "f55af437e9594ed5a7b6a0fea8b60799",
            "2629fd2a4bcd4b53a5d6354ea207c211"
          ]
        },
        "id": "BaeWJQhKtZ1H",
        "outputId": "fc753fbe-5e9f-4211-c681-19e5442f260f"
      },
      "execution_count": 11,
      "outputs": [
        {
          "output_type": "stream",
          "name": "stderr",
          "text": [
            "/usr/local/lib/python3.11/dist-packages/huggingface_hub/utils/_auth.py:94: UserWarning: \n",
            "The secret `HF_TOKEN` does not exist in your Colab secrets.\n",
            "To authenticate with the Hugging Face Hub, create a token in your settings tab (https://huggingface.co/settings/tokens), set it as secret in your Google Colab and restart your session.\n",
            "You will be able to reuse this secret in all of your notebooks.\n",
            "Please note that authentication is recommended but still optional to access public models or datasets.\n",
            "  warnings.warn(\n"
          ]
        },
        {
          "output_type": "display_data",
          "data": {
            "text/plain": [
              "config.json:   0%|          | 0.00/483 [00:00<?, ?B/s]"
            ],
            "application/vnd.jupyter.widget-view+json": {
              "version_major": 2,
              "version_minor": 0,
              "model_id": "724b3498a321413eb30aba4bca70365c"
            }
          },
          "metadata": {}
        },
        {
          "output_type": "stream",
          "name": "stderr",
          "text": [
            "Xet Storage is enabled for this repo, but the 'hf_xet' package is not installed. Falling back to regular HTTP download. For better performance, install the package with: `pip install huggingface_hub[hf_xet]` or `pip install hf_xet`\n",
            "WARNING:huggingface_hub.file_download:Xet Storage is enabled for this repo, but the 'hf_xet' package is not installed. Falling back to regular HTTP download. For better performance, install the package with: `pip install huggingface_hub[hf_xet]` or `pip install hf_xet`\n"
          ]
        },
        {
          "output_type": "display_data",
          "data": {
            "text/plain": [
              "model.safetensors:   0%|          | 0.00/268M [00:00<?, ?B/s]"
            ],
            "application/vnd.jupyter.widget-view+json": {
              "version_major": 2,
              "version_minor": 0,
              "model_id": "d36ef349d1a845a081e16d8e63d3d930"
            }
          },
          "metadata": {}
        },
        {
          "output_type": "stream",
          "name": "stderr",
          "text": [
            "Some weights of DistilBertForSequenceClassification were not initialized from the model checkpoint at distilbert-base-uncased and are newly initialized: ['classifier.bias', 'classifier.weight', 'pre_classifier.bias', 'pre_classifier.weight']\n",
            "You should probably TRAIN this model on a down-stream task to be able to use it for predictions and inference.\n"
          ]
        },
        {
          "output_type": "display_data",
          "data": {
            "text/plain": [
              "tokenizer_config.json:   0%|          | 0.00/48.0 [00:00<?, ?B/s]"
            ],
            "application/vnd.jupyter.widget-view+json": {
              "version_major": 2,
              "version_minor": 0,
              "model_id": "d605c56109214ed591f6f61b5aab70d8"
            }
          },
          "metadata": {}
        },
        {
          "output_type": "display_data",
          "data": {
            "text/plain": [
              "vocab.txt:   0%|          | 0.00/232k [00:00<?, ?B/s]"
            ],
            "application/vnd.jupyter.widget-view+json": {
              "version_major": 2,
              "version_minor": 0,
              "model_id": "f913ffeaba9a44179738953914ef1d69"
            }
          },
          "metadata": {}
        },
        {
          "output_type": "display_data",
          "data": {
            "text/plain": [
              "tokenizer.json:   0%|          | 0.00/466k [00:00<?, ?B/s]"
            ],
            "application/vnd.jupyter.widget-view+json": {
              "version_major": 2,
              "version_minor": 0,
              "model_id": "17c9766c83754daca72438f9b5c66ffd"
            }
          },
          "metadata": {}
        }
      ]
    },
    {
      "cell_type": "markdown",
      "source": [
        "![image.png](data:image/png;base64,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)\n",
        "\n",
        "Here you can see a padded batch, The **GRAY** elements are added to have the same size for each sample.\n",
        "\n",
        "**Data collators** are objects that will form a batch by using a list of dataset elements as input. These elements are of the same type as the elements of train_dataset or eval_dataset.\n",
        "\n",
        "Link to huggingface documentation for the Data Collator functions (https://huggingface.co/docs/transformers/main_classes/data_collator)"
      ],
      "metadata": {
        "id": "oRtP-3rcVSzF"
      }
    },
    {
      "cell_type": "code",
      "source": [
        "# Tokenize the dataset ...\n",
        "print(\"Tokenize the dataset ...\")\n",
        "tokenized_datasets = datasets.map(tokenize_function, batched=True)"
      ],
      "metadata": {
        "colab": {
          "base_uri": "https://localhost:8080/",
          "height": 98,
          "referenced_widgets": [
            "5ba6cfedc3834f8089183e6c66a34941",
            "41116d31b6334c5699e4a74da8e8db12",
            "ea2e22a0a9c94926bd4566ebdc61582f",
            "f48154e425f34296a0652a2a576ad003",
            "6d40fdb34b5b4ee4b6071c821da11d6f",
            "8d175505b5f8406b8ab81422134cae90",
            "3b7512074c634460b4726ce2861d611f",
            "4172878021ee488abd713c8c224c12d2",
            "6caca95e3d544ddf810a554d8c7810e1",
            "62af3e8997bd43369fe2d402a11cbbb5",
            "080867fff2bf43a080ed878d26954733",
            "57a669e20bd148869d5449117e5f9d5e",
            "741deca0a89a4dd3b8e081ca5cf903c8",
            "eed16b6f7d7c49dd85be9498f5b83692",
            "74ecdd8044244686b52209b06052b950",
            "daeac99b500b4d14b42eadfe8391de82",
            "92a4920751504781aa924b6912d8f198",
            "1341a451e5ca441d8030aa73fab525e5",
            "cb425989ed6f44dd94142f769825e8a1",
            "e6e3f1827e8546cfa70cdc949f49f1e5",
            "e6fca8095c7941608ab3bab42da90039",
            "d23096eb024947fb856e80d16a882eb2"
          ]
        },
        "id": "KwXqj8tct-yD",
        "outputId": "3ec53944-a81f-47d0-d8e4-3c17074e8338"
      },
      "execution_count": 12,
      "outputs": [
        {
          "output_type": "stream",
          "name": "stdout",
          "text": [
            "Tokenize the dataset ...\n"
          ]
        },
        {
          "output_type": "display_data",
          "data": {
            "text/plain": [
              "Map:   0%|          | 0/6251 [00:00<?, ? examples/s]"
            ],
            "application/vnd.jupyter.widget-view+json": {
              "version_major": 2,
              "version_minor": 0,
              "model_id": "5ba6cfedc3834f8089183e6c66a34941"
            }
          },
          "metadata": {}
        },
        {
          "output_type": "display_data",
          "data": {
            "text/plain": [
              "Map:   0%|          | 0/300 [00:00<?, ? examples/s]"
            ],
            "application/vnd.jupyter.widget-view+json": {
              "version_major": 2,
              "version_minor": 0,
              "model_id": "57a669e20bd148869d5449117e5f9d5e"
            }
          },
          "metadata": {}
        }
      ]
    },
    {
      "cell_type": "markdown",
      "source": [
        "#### Training\n",
        "\n",
        "To train a transformer model you can rely on the **Trainer** class of Huggingface (https://huggingface.co/docs/transformers/main_classes/trainer).\n",
        "\n",
        "The Trainer class allows you to save many lines of code, and makes your code much more readable.\n",
        "\n",
        "To initialize the Trainer class you have to define a **TrainerArguments** object."
      ],
      "metadata": {
        "id": "GWmn_wLzooPe"
      }
    },
    {
      "cell_type": "code",
      "source": [
        "training_args = TrainingArguments(\n",
        "    output_dir=\"training_dir\",                    # output directory [Mandatory]\n",
        "    num_train_epochs=epochs,                      # total number of training epochs\n",
        "    per_device_train_batch_size=batch_size,       # batch size per device during training\n",
        "    warmup_steps=500,                             # number of warmup steps for learning rate scheduler\n",
        "    weight_decay=weight_decay,                    # strength of weight decay\n",
        "    save_strategy=\"no\",\n",
        "    learning_rate=learning_rate,                  # learning rate\n",
        "    report_to=\"none\",\n",
        "    logging_dir=\"sentiment_analysis_logs\",         # use it later to get the training curves\n",
        "    load_best_model_at_end=True,\n",
        "    metric_for_best_model=\"f1\"\n",
        "    )"
      ],
      "metadata": {
        "id": "ArBIUUy_vDPg"
      },
      "execution_count": 13,
      "outputs": []
    },
    {
      "cell_type": "code",
      "source": [
        "trainer = Trainer(\n",
        "   model=model_11,\n",
        "   args=training_args,\n",
        "   train_dataset=tokenized_datasets['train'],\n",
        "   eval_dataset=tokenized_datasets[\"dev\"],\n",
        "   tokenizer=tokenizer,\n",
        "   data_collator=data_collator,\n",
        "   compute_metrics=compute_metrics,\n",
        ")"
      ],
      "metadata": {
        "id": "o4rAJRJNucX0"
      },
      "execution_count": 14,
      "outputs": []
    },
    {
      "cell_type": "code",
      "source": [
        "# Let's Train ...\n",
        "trainer.train()"
      ],
      "metadata": {
        "colab": {
          "base_uri": "https://localhost:8080/",
          "height": 158
        },
        "id": "8ohc7fZBvjDJ",
        "outputId": "9666b480-ce03-4e7b-b2b2-ecad2cd34ee6"
      },
      "execution_count": 15,
      "outputs": [
        {
          "output_type": "display_data",
          "data": {
            "text/plain": [
              "<IPython.core.display.HTML object>"
            ],
            "text/html": [
              "\n",
              "    <div>\n",
              "      \n",
              "      <progress value='782' max='782' style='width:300px; height:20px; vertical-align: middle;'></progress>\n",
              "      [782/782 00:54, Epoch 1/1]\n",
              "    </div>\n",
              "    <table border=\"1\" class=\"dataframe\">\n",
              "  <thead>\n",
              " <tr style=\"text-align: left;\">\n",
              "      <th>Step</th>\n",
              "      <th>Training Loss</th>\n",
              "    </tr>\n",
              "  </thead>\n",
              "  <tbody>\n",
              "    <tr>\n",
              "      <td>500</td>\n",
              "      <td>0.773800</td>\n",
              "    </tr>\n",
              "  </tbody>\n",
              "</table><p>"
            ]
          },
          "metadata": {}
        },
        {
          "output_type": "execute_result",
          "data": {
            "text/plain": [
              "TrainOutput(global_step=782, training_loss=0.7203672365154452, metrics={'train_runtime': 55.7242, 'train_samples_per_second': 112.178, 'train_steps_per_second': 14.033, 'total_flos': 101318668783200.0, 'train_loss': 0.7203672365154452, 'epoch': 1.0})"
            ]
          },
          "metadata": {},
          "execution_count": 15
        }
      ]
    },
    {
      "cell_type": "code",
      "source": [
        "# Evaluate the model ...\n",
        "trainer.evaluate()"
      ],
      "metadata": {
        "colab": {
          "base_uri": "https://localhost:8080/",
          "height": 309,
          "referenced_widgets": [
            "cf48000fab4c4dd1a7ff9eef8257f12d",
            "2326a7cc433b4193b68350fa73dd71fa",
            "0b4a61a97eb54237ba3552042c0aeeeb",
            "eb6569117f6d401e94f17da83d6792fe",
            "218a6bce300046fb8191becf83e6ac05",
            "33e759be04ea440b8c5e007dc5dec424",
            "e01d24c1568f426e98705281d6bb18b4",
            "a7f7655b015440caa1fa241c8574633a",
            "612f0402467348a3a5ced7edb835a223",
            "3bc193f86172420281dbee8973f373d4",
            "2746d6a7dbb442728eb8d0612eca5992",
            "2333322adc934976970b4a8e59e59c7e",
            "70b6fe1c79034ed08b12628d402b8ee7",
            "27853724daaf49eaaeaa364d11b76d6d",
            "fb669589d0194449bf121c2ec0a43e9c",
            "6c1c592dd9e64bf488fa88d8c0dc495a",
            "f38683d2556145978e1e21499e6d0747",
            "da44836301e544dea5d6e34733e67e56",
            "a923a7d3db9b415680b8d4605d4f1bf4",
            "75ed70cf68b24039a4bff608780bd111",
            "e99c972f1757400e94d7e69ba40b10e9",
            "959538d5c2584aafa8c39d90fc445447"
          ]
        },
        "id": "fpvMaurQvktK",
        "outputId": "835db0ed-da97-4047-d7f8-f8fa1d55e7ab"
      },
      "execution_count": 16,
      "outputs": [
        {
          "output_type": "display_data",
          "data": {
            "text/plain": [
              "<IPython.core.display.HTML object>"
            ],
            "text/html": [
              "\n",
              "    <div>\n",
              "      \n",
              "      <progress value='38' max='38' style='width:300px; height:20px; vertical-align: middle;'></progress>\n",
              "      [38/38 00:00]\n",
              "    </div>\n",
              "    "
            ]
          },
          "metadata": {}
        },
        {
          "output_type": "display_data",
          "data": {
            "text/plain": [
              "Downloading builder script:   0%|          | 0.00/4.20k [00:00<?, ?B/s]"
            ],
            "application/vnd.jupyter.widget-view+json": {
              "version_major": 2,
              "version_minor": 0,
              "model_id": "cf48000fab4c4dd1a7ff9eef8257f12d"
            }
          },
          "metadata": {}
        },
        {
          "output_type": "display_data",
          "data": {
            "text/plain": [
              "Downloading builder script:   0%|          | 0.00/6.79k [00:00<?, ?B/s]"
            ],
            "application/vnd.jupyter.widget-view+json": {
              "version_major": 2,
              "version_minor": 0,
              "model_id": "2333322adc934976970b4a8e59e59c7e"
            }
          },
          "metadata": {}
        },
        {
          "output_type": "execute_result",
          "data": {
            "text/plain": [
              "{'eval_loss': 0.702393651008606,\n",
              " 'eval_accuracy': 0.7033333333333334,\n",
              " 'eval_f1': 0.6933780026436938,\n",
              " 'eval_precision': 0.6889427609427609,\n",
              " 'eval_recall': 0.7033333333333334,\n",
              " 'eval_cm': array([[ 37,  35,   4],\n",
              "        [ 26,  62,  19],\n",
              "        [  3,   2, 112]]),\n",
              " 'eval_runtime': 1.7767,\n",
              " 'eval_samples_per_second': 168.856,\n",
              " 'eval_steps_per_second': 21.388,\n",
              " 'epoch': 1.0}"
            ]
          },
          "metadata": {},
          "execution_count": 16
        }
      ]
    },
    {
      "cell_type": "markdown",
      "source": [
        "#### Inference"
      ],
      "metadata": {
        "id": "20Me-x8H8tIB"
      }
    },
    {
      "cell_type": "code",
      "source": [
        "def evaluate_trainer(trainer, dataset):\n",
        "    model_predictions = trainer.predict(dataset)\n",
        "    logits = model_predictions.predictions\n",
        "    labels = np.argmax(logits,axis=1)\n",
        "    return labels\n"
      ],
      "metadata": {
        "id": "3YrFC_tQ8szq"
      },
      "execution_count": 20,
      "outputs": []
    },
    {
      "cell_type": "code",
      "source": [
        "def predict_culture(text, model, tokenizer, device, max_length=128):\n",
        "    model.eval()\n",
        "    encoding = tokenizer(text, return_tensors='pt', max_length=max_length, padding='max_length', truncation=True)\n",
        "    input_ids = encoding['input_ids'].to(device)\n",
        "    attention_mask = encoding['attention_mask'].to(device)\n",
        "    with torch.no_grad():\n",
        "        outputs = model(input_ids=input_ids, attention_mask=attention_mask)\n",
        "        _, preds = torch.max(outputs.logits, dim=1)\n",
        "    return (\n",
        "        \"cultural exclusive\" if preds.item() == 0\n",
        "        else \"cultural representative\" if preds.item() == 1\n",
        "        else \"cultural agnostic\"\n",
        "    )"
      ],
      "metadata": {
        "id": "JgNoD1F-2NUn"
      },
      "execution_count": null,
      "outputs": []
    },
    {
      "cell_type": "code",
      "source": [
        "predict_culture(\"President of America\", model_11, tokenizer, \"cuda:0\")"
      ],
      "metadata": {
        "colab": {
          "base_uri": "https://localhost:8080/",
          "height": 35
        },
        "id": "GmDJ_uFbnVVI",
        "outputId": "7037a3c4-5a89-4830-ba30-251c7d508bdc"
      },
      "execution_count": null,
      "outputs": [
        {
          "output_type": "execute_result",
          "data": {
            "text/plain": [
              "'cultural representative'"
            ],
            "application/vnd.google.colaboratory.intrinsic+json": {
              "type": "string"
            }
          },
          "metadata": {},
          "execution_count": 14
        }
      ]
    },
    {
      "cell_type": "code",
      "source": [
        "predict_culture(\"President of Paraguay\", model_11, tokenizer, \"cuda:0\")"
      ],
      "metadata": {
        "colab": {
          "base_uri": "https://localhost:8080/",
          "height": 35
        },
        "id": "ptBHKlhunZ9m",
        "outputId": "dac1413f-6ad9-44dc-9dd5-cc8ad21d96e4"
      },
      "execution_count": null,
      "outputs": [
        {
          "output_type": "execute_result",
          "data": {
            "text/plain": [
              "'cultural exclusive'"
            ],
            "application/vnd.google.colaboratory.intrinsic+json": {
              "type": "string"
            }
          },
          "metadata": {},
          "execution_count": 15
        }
      ]
    },
    {
      "cell_type": "code",
      "source": [
        "predict_culture(\"River\", model_11, tokenizer, \"cuda:0\")"
      ],
      "metadata": {
        "colab": {
          "base_uri": "https://localhost:8080/",
          "height": 35
        },
        "id": "jTZxMvKNn_5Y",
        "outputId": "5b52c854-61bf-4a8a-e64f-d124dfb2b176"
      },
      "execution_count": null,
      "outputs": [
        {
          "output_type": "execute_result",
          "data": {
            "text/plain": [
              "'cultural agnostic'"
            ],
            "application/vnd.google.colaboratory.intrinsic+json": {
              "type": "string"
            }
          },
          "metadata": {},
          "execution_count": 16
        }
      ]
    },
    {
      "cell_type": "code",
      "source": [
        "predict_culture(\"Sleep\", model_11, tokenizer, \"cuda:0\")"
      ],
      "metadata": {
        "colab": {
          "base_uri": "https://localhost:8080/",
          "height": 35
        },
        "id": "FpaQL6b3oGVy",
        "outputId": "9e31f620-bf92-4a52-eda8-1f8fba969361"
      },
      "execution_count": null,
      "outputs": [
        {
          "output_type": "execute_result",
          "data": {
            "text/plain": [
              "'cultural agnostic'"
            ],
            "application/vnd.google.colaboratory.intrinsic+json": {
              "type": "string"
            }
          },
          "metadata": {},
          "execution_count": 17
        }
      ]
    },
    {
      "cell_type": "code",
      "source": [
        "predict_culture(\"Pizza\", model_11, tokenizer, \"cuda:0\")"
      ],
      "metadata": {
        "colab": {
          "base_uri": "https://localhost:8080/",
          "height": 35
        },
        "id": "slRMOHBQvfpL",
        "outputId": "90ef7693-f3a5-4740-9726-7917299aa17f"
      },
      "execution_count": null,
      "outputs": [
        {
          "output_type": "execute_result",
          "data": {
            "text/plain": [
              "'cultural representative'"
            ],
            "application/vnd.google.colaboratory.intrinsic+json": {
              "type": "string"
            }
          },
          "metadata": {},
          "execution_count": 18
        }
      ]
    },
    {
      "cell_type": "code",
      "source": [
        "predict_culture(\"Caponata\", model_11, tokenizer, \"cuda:0\")"
      ],
      "metadata": {
        "colab": {
          "base_uri": "https://localhost:8080/",
          "height": 35
        },
        "id": "gxtU1ICZvh6M",
        "outputId": "5cf01548-0417-48ac-d212-acab31db53d0"
      },
      "execution_count": null,
      "outputs": [
        {
          "output_type": "execute_result",
          "data": {
            "text/plain": [
              "'cultural exclusive'"
            ],
            "application/vnd.google.colaboratory.intrinsic+json": {
              "type": "string"
            }
          },
          "metadata": {},
          "execution_count": 19
        }
      ]
    },
    {
      "cell_type": "code",
      "source": [
        "predict_culture(\"Bread\", model_11, tokenizer, \"cuda:0\")"
      ],
      "metadata": {
        "colab": {
          "base_uri": "https://localhost:8080/",
          "height": 35
        },
        "id": "oKXKs8HDxBsU",
        "outputId": "abc2cf04-bd7b-415c-d412-7512e25b5a03"
      },
      "execution_count": null,
      "outputs": [
        {
          "output_type": "execute_result",
          "data": {
            "text/plain": [
              "'cultural exclusive'"
            ],
            "application/vnd.google.colaboratory.intrinsic+json": {
              "type": "string"
            }
          },
          "metadata": {},
          "execution_count": 20
        }
      ]
    },
    {
      "cell_type": "markdown",
      "source": [
        "#### Evaluation"
      ],
      "metadata": {
        "id": "DSquq2-goT8-"
      }
    },
    {
      "cell_type": "code",
      "source": [
        "dev_df['predict_label_transformer'] = evaluate_trainer(trainer,tokenized_datasets['dev'])\n",
        "dev_df['predict_label_transformer']"
      ],
      "metadata": {
        "id": "F4rasXrYoWOg",
        "colab": {
          "base_uri": "https://localhost:8080/",
          "height": 458
        },
        "outputId": "df7619fd-cbed-42fe-fcb3-70af0e0eb57f"
      },
      "execution_count": 21,
      "outputs": [
        {
          "output_type": "display_data",
          "data": {
            "text/plain": [
              "<IPython.core.display.HTML object>"
            ],
            "text/html": []
          },
          "metadata": {}
        },
        {
          "output_type": "execute_result",
          "data": {
            "text/plain": [
              "0      0\n",
              "1      0\n",
              "2      1\n",
              "3      1\n",
              "4      1\n",
              "      ..\n",
              "295    2\n",
              "296    0\n",
              "297    0\n",
              "298    0\n",
              "299    0\n",
              "Name: predict_label_transformer, Length: 300, dtype: int64"
            ],
            "text/html": [
              "<div>\n",
              "<style scoped>\n",
              "    .dataframe tbody tr th:only-of-type {\n",
              "        vertical-align: middle;\n",
              "    }\n",
              "\n",
              "    .dataframe tbody tr th {\n",
              "        vertical-align: top;\n",
              "    }\n",
              "\n",
              "    .dataframe thead th {\n",
              "        text-align: right;\n",
              "    }\n",
              "</style>\n",
              "<table border=\"1\" class=\"dataframe\">\n",
              "  <thead>\n",
              "    <tr style=\"text-align: right;\">\n",
              "      <th></th>\n",
              "      <th>predict_label_transformer</th>\n",
              "    </tr>\n",
              "  </thead>\n",
              "  <tbody>\n",
              "    <tr>\n",
              "      <th>0</th>\n",
              "      <td>0</td>\n",
              "    </tr>\n",
              "    <tr>\n",
              "      <th>1</th>\n",
              "      <td>0</td>\n",
              "    </tr>\n",
              "    <tr>\n",
              "      <th>2</th>\n",
              "      <td>1</td>\n",
              "    </tr>\n",
              "    <tr>\n",
              "      <th>3</th>\n",
              "      <td>1</td>\n",
              "    </tr>\n",
              "    <tr>\n",
              "      <th>4</th>\n",
              "      <td>1</td>\n",
              "    </tr>\n",
              "    <tr>\n",
              "      <th>...</th>\n",
              "      <td>...</td>\n",
              "    </tr>\n",
              "    <tr>\n",
              "      <th>295</th>\n",
              "      <td>2</td>\n",
              "    </tr>\n",
              "    <tr>\n",
              "      <th>296</th>\n",
              "      <td>0</td>\n",
              "    </tr>\n",
              "    <tr>\n",
              "      <th>297</th>\n",
              "      <td>0</td>\n",
              "    </tr>\n",
              "    <tr>\n",
              "      <th>298</th>\n",
              "      <td>0</td>\n",
              "    </tr>\n",
              "    <tr>\n",
              "      <th>299</th>\n",
              "      <td>0</td>\n",
              "    </tr>\n",
              "  </tbody>\n",
              "</table>\n",
              "<p>300 rows × 1 columns</p>\n",
              "</div><br><label><b>dtype:</b> int64</label>"
            ]
          },
          "metadata": {},
          "execution_count": 21
        }
      ]
    },
    {
      "cell_type": "code",
      "source": [
        "# Extract the true and predicted labels\n",
        "y_true = dev_df['label']\n",
        "y_pred = dev_df['predict_label_transformer']\n",
        "\n",
        "# Visualisation of the evaluation metrics\n",
        "print(\"Accuracy:\", accuracy_score(y_true, y_pred))\n",
        "print(\"Precision (weighted):\", precision_score(y_true, y_pred, average=\"weighted\"))\n",
        "print(\"Recall (weighted):\", recall_score(y_true, y_pred, average=\"weighted\"))\n",
        "print(\"F1-score (weighted):\", f1_score(y_true, y_pred, average=\"weighted\"))\n",
        "\n",
        "print(\"\\n Classification Report:\")\n",
        "print(classification_report(y_true, y_pred, target_names=[\"exclusive\", \"representative\", \"agnostic\"]))\n",
        "\n",
        "cm = confusion_matrix(y_true, y_pred)\n",
        "disp = ConfusionMatrixDisplay(confusion_matrix=cm, display_labels=[\"exclusive\", \"representative\", \"agnostic\"])\n",
        "\n",
        "plt.figure(figsize=(6, 6))\n",
        "disp.plot(cmap=plt.cm.Blues, values_format='d')\n",
        "plt.title(\"Confusion matrix\")\n",
        "plt.grid(False)\n",
        "plt.show()"
      ],
      "metadata": {
        "id": "uVLe13kBpg-4",
        "colab": {
          "base_uri": "https://localhost:8080/",
          "height": 767
        },
        "outputId": "74dd63c8-79bc-4bcc-8405-f58de9461d01"
      },
      "execution_count": 22,
      "outputs": [
        {
          "output_type": "stream",
          "name": "stdout",
          "text": [
            "Accuracy: 0.7\n",
            "Precision (weighted): 0.6999913119148876\n",
            "Recall (weighted): 0.7\n",
            "F1-score (weighted): 0.695826544382247\n",
            "\n",
            " Classification Report:\n",
            "                precision    recall  f1-score   support\n",
            "\n",
            "     exclusive       0.53      0.62      0.57        76\n",
            "representative       0.67      0.53      0.59       107\n",
            "      agnostic       0.83      0.91      0.87       117\n",
            "\n",
            "      accuracy                           0.70       300\n",
            "     macro avg       0.68      0.69      0.68       300\n",
            "  weighted avg       0.70      0.70      0.70       300\n",
            "\n"
          ]
        },
        {
          "output_type": "display_data",
          "data": {
            "text/plain": [
              "<Figure size 600x600 with 0 Axes>"
            ]
          },
          "metadata": {}
        },
        {
          "output_type": "display_data",
          "data": {
            "text/plain": [
              "<Figure size 640x480 with 2 Axes>"
            ],
            "image/png": "[encoded data removed]"
          },
          "metadata": {}
        }
      ]
    },
    {
      "cell_type": "markdown",
      "source": [
        "### Model 1.2\n",
        "\n",
        "We modify the input :\n",
        "\n",
        "Instead of having the description as input, we use the descrpition AND the name of the item"
      ],
      "metadata": {
        "id": "FZUllTiEyYYn"
      }
    },
    {
      "cell_type": "code",
      "source": [
        "## Initialize the model\n",
        "model_12 = AutoModelForSequenceClassification.from_pretrained(language_model_name,\n",
        "                                                                   ignore_mismatched_sizes=True,\n",
        "                                                                   output_attentions=False, output_hidden_states=False,\n",
        "                                                                   num_labels=3) # number of the classes\n",
        "\n",
        "# Load the pretrained tokenizer\n",
        "tokenizer = AutoTokenizer.from_pretrained(language_model_name)\n",
        "\n",
        "# Set the data collator\n",
        "# Function used to prepare the data before the training.\n",
        "# the data collator function used here apply a zero-padding on the elements in the batch\n",
        "# the padding is needed to have a \"full\" form of the batches\n",
        "data_collator = DataCollatorWithPadding(tokenizer=tokenizer)\n",
        "\n",
        "def tokenize_function(examples):\n",
        "    text_inputs = [f\"{name}: {desc}\" for name, desc in zip(examples[\"name\"], examples[\"description\"])]\n",
        "    return tokenizer(text_inputs, padding=True, truncation=True)"
      ],
      "metadata": {
        "colab": {
          "base_uri": "https://localhost:8080/"
        },
        "outputId": "4c374804-16f2-4e52-9f76-c9b9ed90cfe7",
        "id": "Et_gj32VyYYq"
      },
      "execution_count": 23,
      "outputs": [
        {
          "output_type": "stream",
          "name": "stderr",
          "text": [
            "Some weights of DistilBertForSequenceClassification were not initialized from the model checkpoint at distilbert-base-uncased and are newly initialized: ['classifier.bias', 'classifier.weight', 'pre_classifier.bias', 'pre_classifier.weight']\n",
            "You should probably TRAIN this model on a down-stream task to be able to use it for predictions and inference.\n"
          ]
        }
      ]
    },
    {
      "cell_type": "code",
      "source": [
        "# Tokenize the dataset ...\n",
        "print(\"Tokenize the dataset ...\")\n",
        "tokenized_datasets = datasets.map(tokenize_function, batched=True)"
      ],
      "metadata": {
        "colab": {
          "base_uri": "https://localhost:8080/",
          "height": 98,
          "referenced_widgets": [
            "46b8744a7be7450aa3fb75753a56f4e4",
            "1a1f291a8e994e5fb5b4cc7178135b61",
            "e96b0009768941c1b217d36280b310f1",
            "64cbd37198e14d2188b92a64077333fe",
            "4b5f137bde8f4ac19201108fb7bbf0b1",
            "c5ac5da6bcf440cea9c6daded67a509a",
            "6c5b8ef3e57743288a1b9bd0fc87044d",
            "7d037391be6f4290af486fd2dc6681dc",
            "dc011825d493465badc08ec9bafd6fd6",
            "e2385da4ca41438186c97d38af788b07",
            "23be7af9561846d492ba07f4df058f01",
            "bda6464d1b8a45e3b67086a888a17d3d",
            "af67cb5a24be4207b6cf589cafba36c1",
            "0633f76df9e740b8b18daec3fe1d5470",
            "b14dd90891074484bae32a914f5204bc",
            "86004bda7982441ba3b367c3eb23e53c",
            "f88f67efedab4d3381ad9233283ca317",
            "a4a7548ae9064263aa2401df12330d05",
            "62bd3c87cad649b5abb5c50c1e2860f7",
            "8c08d92b53d34cb99bb85c179e5c9701",
            "838b0c342c464b8d9ee1b4166043e61c",
            "7d4aad09c50b4d0eb0447da72c204744"
          ]
        },
        "outputId": "69ec8115-dcd6-41c1-e307-87c5515ce3dd",
        "id": "eOkHiJKeyYYv"
      },
      "execution_count": 24,
      "outputs": [
        {
          "output_type": "stream",
          "name": "stdout",
          "text": [
            "Tokenize the dataset ...\n"
          ]
        },
        {
          "output_type": "display_data",
          "data": {
            "text/plain": [
              "Map:   0%|          | 0/6251 [00:00<?, ? examples/s]"
            ],
            "application/vnd.jupyter.widget-view+json": {
              "version_major": 2,
              "version_minor": 0,
              "model_id": "46b8744a7be7450aa3fb75753a56f4e4"
            }
          },
          "metadata": {}
        },
        {
          "output_type": "display_data",
          "data": {
            "text/plain": [
              "Map:   0%|          | 0/300 [00:00<?, ? examples/s]"
            ],
            "application/vnd.jupyter.widget-view+json": {
              "version_major": 2,
              "version_minor": 0,
              "model_id": "bda6464d1b8a45e3b67086a888a17d3d"
            }
          },
          "metadata": {}
        }
      ]
    },
    {
      "cell_type": "markdown",
      "source": [
        "#### Training\n",
        "\n",
        "To train a transformer model you can rely on the **Trainer** class of Huggingface (https://huggingface.co/docs/transformers/main_classes/trainer).\n",
        "\n",
        "The Trainer class allows you to save many lines of code, and makes your code much more readable.\n",
        "\n",
        "To initialize the Trainer class you have to define a **TrainerArguments** object."
      ],
      "metadata": {
        "id": "hBFXyDqOyYYw"
      }
    },
    {
      "cell_type": "code",
      "source": [
        "training_args = TrainingArguments(\n",
        "    output_dir=\"training_dir\",                    # output directory [Mandatory]\n",
        "    num_train_epochs=epochs,                      # total number of training epochs\n",
        "    per_device_train_batch_size=batch_size,       # batch size per device during training\n",
        "    warmup_steps=500,                             # number of warmup steps for learning rate scheduler\n",
        "    weight_decay=weight_decay,                    # strength of weight decay\n",
        "    save_strategy=\"no\",\n",
        "    learning_rate=learning_rate,                  # learning rate\n",
        "    report_to=\"none\",\n",
        "    logging_dir=\"sentiment_analysis_logs\",         # use it later to get the training curves\n",
        "    load_best_model_at_end=True,\n",
        "    metric_for_best_model=\"f1\"\n",
        "    )"
      ],
      "metadata": {
        "id": "PdeakwC1yYYx"
      },
      "execution_count": 25,
      "outputs": []
    },
    {
      "cell_type": "code",
      "source": [
        "trainer = Trainer(\n",
        "   model=model_12,\n",
        "   args=training_args,\n",
        "   train_dataset=tokenized_datasets['train'],\n",
        "   eval_dataset=tokenized_datasets[\"dev\"],\n",
        "   tokenizer=tokenizer,\n",
        "   data_collator=data_collator,\n",
        "   compute_metrics=compute_metrics,\n",
        ")"
      ],
      "metadata": {
        "id": "iuI_b3l3yYYy"
      },
      "execution_count": 26,
      "outputs": []
    },
    {
      "cell_type": "code",
      "source": [
        "# Let's Train ...\n",
        "trainer.train()"
      ],
      "metadata": {
        "colab": {
          "base_uri": "https://localhost:8080/",
          "height": 158
        },
        "outputId": "f3dfe446-ed12-488b-8e02-f59c41837c07",
        "id": "hiR6fwB9yYYz"
      },
      "execution_count": 27,
      "outputs": [
        {
          "output_type": "display_data",
          "data": {
            "text/plain": [
              "<IPython.core.display.HTML object>"
            ],
            "text/html": [
              "\n",
              "    <div>\n",
              "      \n",
              "      <progress value='782' max='782' style='width:300px; height:20px; vertical-align: middle;'></progress>\n",
              "      [782/782 00:57, Epoch 1/1]\n",
              "    </div>\n",
              "    <table border=\"1\" class=\"dataframe\">\n",
              "  <thead>\n",
              " <tr style=\"text-align: left;\">\n",
              "      <th>Step</th>\n",
              "      <th>Training Loss</th>\n",
              "    </tr>\n",
              "  </thead>\n",
              "  <tbody>\n",
              "    <tr>\n",
              "      <td>500</td>\n",
              "      <td>0.715800</td>\n",
              "    </tr>\n",
              "  </tbody>\n",
              "</table><p>"
            ]
          },
          "metadata": {}
        },
        {
          "output_type": "execute_result",
          "data": {
            "text/plain": [
              "TrainOutput(global_step=782, training_loss=0.6625491676428129, metrics={'train_runtime': 58.0415, 'train_samples_per_second': 107.699, 'train_steps_per_second': 13.473, 'total_flos': 108512397758808.0, 'train_loss': 0.6625491676428129, 'epoch': 1.0})"
            ]
          },
          "metadata": {},
          "execution_count": 27
        }
      ]
    },
    {
      "cell_type": "code",
      "source": [
        "# Evaluate the model ...\n",
        "trainer.evaluate()"
      ],
      "metadata": {
        "colab": {
          "base_uri": "https://localhost:8080/",
          "height": 245
        },
        "outputId": "e3694be5-e344-4732-8edc-b2c6bbe7f471",
        "id": "IbpqItNryYY1"
      },
      "execution_count": 28,
      "outputs": [
        {
          "output_type": "display_data",
          "data": {
            "text/plain": [
              "<IPython.core.display.HTML object>"
            ],
            "text/html": [
              "\n",
              "    <div>\n",
              "      \n",
              "      <progress value='38' max='38' style='width:300px; height:20px; vertical-align: middle;'></progress>\n",
              "      [38/38 00:00]\n",
              "    </div>\n",
              "    "
            ]
          },
          "metadata": {}
        },
        {
          "output_type": "execute_result",
          "data": {
            "text/plain": [
              "{'eval_loss': 0.6203221082687378,\n",
              " 'eval_accuracy': 0.75,\n",
              " 'eval_f1': 0.7458641554812812,\n",
              " 'eval_precision': 0.7436793414746171,\n",
              " 'eval_recall': 0.75,\n",
              " 'eval_cm': array([[ 47,  27,   2],\n",
              "        [ 24,  68,  15],\n",
              "        [  3,   4, 110]]),\n",
              " 'eval_runtime': 2.8805,\n",
              " 'eval_samples_per_second': 104.148,\n",
              " 'eval_steps_per_second': 13.192,\n",
              " 'epoch': 1.0}"
            ]
          },
          "metadata": {},
          "execution_count": 28
        }
      ]
    },
    {
      "cell_type": "markdown",
      "source": [
        "#### Inference"
      ],
      "metadata": {
        "id": "LvvpYI5JyYY3"
      }
    },
    {
      "cell_type": "code",
      "source": [
        "def predict_culture(text, model, tokenizer, device, max_length=128):\n",
        "    model.eval()\n",
        "    encoding = tokenizer(text, return_tensors='pt', max_length=max_length, padding='max_length', truncation=True)\n",
        "    input_ids = encoding['input_ids'].to(device)\n",
        "    attention_mask = encoding['attention_mask'].to(device)\n",
        "    with torch.no_grad():\n",
        "        outputs = model(input_ids=input_ids, attention_mask=attention_mask)\n",
        "        _, preds = torch.max(outputs.logits, dim=1)\n",
        "    return (\n",
        "        \"cultural exclusive\" if preds.item() == 0\n",
        "        else \"cultural representative\" if preds.item() == 1\n",
        "        else \"cultural agnostic\"\n",
        "    )"
      ],
      "metadata": {
        "id": "WgG_R7lJyYY4"
      },
      "execution_count": 31,
      "outputs": []
    },
    {
      "cell_type": "code",
      "source": [
        "predict_culture(\"President of America\", model_12, tokenizer, \"cuda:0\")"
      ],
      "metadata": {
        "colab": {
          "base_uri": "https://localhost:8080/",
          "height": 35
        },
        "outputId": "d63a667c-0eb8-4ad2-b2e4-532071bd7790",
        "id": "br_djhkoyYY5"
      },
      "execution_count": 32,
      "outputs": [
        {
          "output_type": "execute_result",
          "data": {
            "text/plain": [
              "'cultural representative'"
            ],
            "application/vnd.google.colaboratory.intrinsic+json": {
              "type": "string"
            }
          },
          "metadata": {},
          "execution_count": 32
        }
      ]
    },
    {
      "cell_type": "code",
      "source": [
        "predict_culture(\"President of Paraguay\", model_12, tokenizer, \"cuda:0\")"
      ],
      "metadata": {
        "colab": {
          "base_uri": "https://localhost:8080/",
          "height": 35
        },
        "outputId": "2dda9fdb-6b20-4a25-b76b-9e88754bb278",
        "id": "zMPtIe_wyYY5"
      },
      "execution_count": 33,
      "outputs": [
        {
          "output_type": "execute_result",
          "data": {
            "text/plain": [
              "'cultural exclusive'"
            ],
            "application/vnd.google.colaboratory.intrinsic+json": {
              "type": "string"
            }
          },
          "metadata": {},
          "execution_count": 33
        }
      ]
    },
    {
      "cell_type": "code",
      "source": [
        "predict_culture(\"River\", model_12, tokenizer, \"cuda:0\")"
      ],
      "metadata": {
        "colab": {
          "base_uri": "https://localhost:8080/",
          "height": 35
        },
        "outputId": "e9ee2fef-53f9-4e46-f3fc-97acca395899",
        "id": "3imi6TSXyYY6"
      },
      "execution_count": 34,
      "outputs": [
        {
          "output_type": "execute_result",
          "data": {
            "text/plain": [
              "'cultural agnostic'"
            ],
            "application/vnd.google.colaboratory.intrinsic+json": {
              "type": "string"
            }
          },
          "metadata": {},
          "execution_count": 34
        }
      ]
    },
    {
      "cell_type": "code",
      "source": [
        "predict_culture(\"Sleep\", model_12, tokenizer, \"cuda:0\")"
      ],
      "metadata": {
        "colab": {
          "base_uri": "https://localhost:8080/",
          "height": 35
        },
        "outputId": "ac0ca9ed-e09f-4779-c46a-dc7c623879e5",
        "id": "bRJtQSvJyYY7"
      },
      "execution_count": 35,
      "outputs": [
        {
          "output_type": "execute_result",
          "data": {
            "text/plain": [
              "'cultural agnostic'"
            ],
            "application/vnd.google.colaboratory.intrinsic+json": {
              "type": "string"
            }
          },
          "metadata": {},
          "execution_count": 35
        }
      ]
    },
    {
      "cell_type": "code",
      "source": [
        "predict_culture(\"Pizza\", model_12, tokenizer, \"cuda:0\")"
      ],
      "metadata": {
        "colab": {
          "base_uri": "https://localhost:8080/",
          "height": 35
        },
        "outputId": "6c1be38c-094a-45ca-b3f4-8cccb0e18855",
        "id": "R4ZoTUD5yYY8"
      },
      "execution_count": 36,
      "outputs": [
        {
          "output_type": "execute_result",
          "data": {
            "text/plain": [
              "'cultural representative'"
            ],
            "application/vnd.google.colaboratory.intrinsic+json": {
              "type": "string"
            }
          },
          "metadata": {},
          "execution_count": 36
        }
      ]
    },
    {
      "cell_type": "code",
      "source": [
        "predict_culture(\"Caponata\", model_12, tokenizer, \"cuda:0\")"
      ],
      "metadata": {
        "colab": {
          "base_uri": "https://localhost:8080/",
          "height": 35
        },
        "outputId": "a912174d-db06-42f1-f45d-fa97c0503806",
        "id": "U3TK4dvvyYY9"
      },
      "execution_count": 37,
      "outputs": [
        {
          "output_type": "execute_result",
          "data": {
            "text/plain": [
              "'cultural agnostic'"
            ],
            "application/vnd.google.colaboratory.intrinsic+json": {
              "type": "string"
            }
          },
          "metadata": {},
          "execution_count": 37
        }
      ]
    },
    {
      "cell_type": "code",
      "source": [
        "predict_culture(\"Bread\", model_12, tokenizer, \"cuda:0\")"
      ],
      "metadata": {
        "colab": {
          "base_uri": "https://localhost:8080/",
          "height": 35
        },
        "outputId": "37d1f048-53dd-4c2b-ebe3-efbd20dda7e0",
        "id": "HaEYuf9EyYY-"
      },
      "execution_count": 38,
      "outputs": [
        {
          "output_type": "execute_result",
          "data": {
            "text/plain": [
              "'cultural representative'"
            ],
            "application/vnd.google.colaboratory.intrinsic+json": {
              "type": "string"
            }
          },
          "metadata": {},
          "execution_count": 38
        }
      ]
    },
    {
      "cell_type": "markdown",
      "source": [
        "#### Evaluation"
      ],
      "metadata": {
        "id": "UTygl9ykyYY_"
      }
    },
    {
      "cell_type": "code",
      "source": [
        "# Apply the model on the dev set\n",
        "\n",
        "dev_df['predict_label_transformer'] = evaluate_trainer(trainer,tokenized_datasets['dev'])\n",
        "dev_df['predict_label_transformer']"
      ],
      "metadata": {
        "colab": {
          "base_uri": "https://localhost:8080/",
          "height": 458
        },
        "outputId": "4c730969-da0d-4207-a9a8-279bd05cc385",
        "id": "LaWTxsHQyYY_"
      },
      "execution_count": 29,
      "outputs": [
        {
          "output_type": "display_data",
          "data": {
            "text/plain": [
              "<IPython.core.display.HTML object>"
            ],
            "text/html": []
          },
          "metadata": {}
        },
        {
          "output_type": "execute_result",
          "data": {
            "text/plain": [
              "0      0\n",
              "1      1\n",
              "2      1\n",
              "3      1\n",
              "4      1\n",
              "      ..\n",
              "295    2\n",
              "296    0\n",
              "297    0\n",
              "298    0\n",
              "299    1\n",
              "Name: predict_label_transformer, Length: 300, dtype: int64"
            ],
            "text/html": [
              "<div>\n",
              "<style scoped>\n",
              "    .dataframe tbody tr th:only-of-type {\n",
              "        vertical-align: middle;\n",
              "    }\n",
              "\n",
              "    .dataframe tbody tr th {\n",
              "        vertical-align: top;\n",
              "    }\n",
              "\n",
              "    .dataframe thead th {\n",
              "        text-align: right;\n",
              "    }\n",
              "</style>\n",
              "<table border=\"1\" class=\"dataframe\">\n",
              "  <thead>\n",
              "    <tr style=\"text-align: right;\">\n",
              "      <th></th>\n",
              "      <th>predict_label_transformer</th>\n",
              "    </tr>\n",
              "  </thead>\n",
              "  <tbody>\n",
              "    <tr>\n",
              "      <th>0</th>\n",
              "      <td>0</td>\n",
              "    </tr>\n",
              "    <tr>\n",
              "      <th>1</th>\n",
              "      <td>1</td>\n",
              "    </tr>\n",
              "    <tr>\n",
              "      <th>2</th>\n",
              "      <td>1</td>\n",
              "    </tr>\n",
              "    <tr>\n",
              "      <th>3</th>\n",
              "      <td>1</td>\n",
              "    </tr>\n",
              "    <tr>\n",
              "      <th>4</th>\n",
              "      <td>1</td>\n",
              "    </tr>\n",
              "    <tr>\n",
              "      <th>...</th>\n",
              "      <td>...</td>\n",
              "    </tr>\n",
              "    <tr>\n",
              "      <th>295</th>\n",
              "      <td>2</td>\n",
              "    </tr>\n",
              "    <tr>\n",
              "      <th>296</th>\n",
              "      <td>0</td>\n",
              "    </tr>\n",
              "    <tr>\n",
              "      <th>297</th>\n",
              "      <td>0</td>\n",
              "    </tr>\n",
              "    <tr>\n",
              "      <th>298</th>\n",
              "      <td>0</td>\n",
              "    </tr>\n",
              "    <tr>\n",
              "      <th>299</th>\n",
              "      <td>1</td>\n",
              "    </tr>\n",
              "  </tbody>\n",
              "</table>\n",
              "<p>300 rows × 1 columns</p>\n",
              "</div><br><label><b>dtype:</b> int64</label>"
            ]
          },
          "metadata": {},
          "execution_count": 29
        }
      ]
    },
    {
      "cell_type": "code",
      "source": [
        "# Extract the true and predicted labels\n",
        "y_true = dev_df['label']\n",
        "y_pred = dev_df['predict_label_transformer']\n",
        "\n",
        "# Visualisation of the evaluation metrics\n",
        "print(\"Accuracy:\", accuracy_score(y_true, y_pred))\n",
        "print(\"Precision (weighted):\", precision_score(y_true, y_pred, average=\"weighted\"))\n",
        "print(\"Recall (weighted):\", recall_score(y_true, y_pred, average=\"weighted\"))\n",
        "print(\"F1-score (weighted):\", f1_score(y_true, y_pred, average=\"weighted\"))\n",
        "\n",
        "print(\"\\n Classification Report:\")\n",
        "print(classification_report(y_true, y_pred, target_names=[\"exclusive\", \"representative\", \"agnostic\"]))\n",
        "\n",
        "cm = confusion_matrix(y_true, y_pred)\n",
        "disp = ConfusionMatrixDisplay(confusion_matrix=cm, display_labels=[\"exclusive\", \"representative\", \"agnostic\"])\n",
        "\n",
        "plt.figure(figsize=(6, 6))\n",
        "disp.plot(cmap=plt.cm.Blues, values_format='d')\n",
        "plt.title(\"Confusion matrix\")\n",
        "plt.grid(False)\n",
        "plt.show()"
      ],
      "metadata": {
        "colab": {
          "base_uri": "https://localhost:8080/",
          "height": 767
        },
        "outputId": "2265326a-2f23-4ea1-d8fd-8e2864a7444f",
        "id": "ezRAehx-yYZA"
      },
      "execution_count": 30,
      "outputs": [
        {
          "output_type": "stream",
          "name": "stdout",
          "text": [
            "Accuracy: 0.75\n",
            "Precision (weighted): 0.7436793414746171\n",
            "Recall (weighted): 0.75\n",
            "F1-score (weighted): 0.7458641554812812\n",
            "\n",
            " Classification Report:\n",
            "                precision    recall  f1-score   support\n",
            "\n",
            "     exclusive       0.64      0.62      0.63        76\n",
            "representative       0.69      0.64      0.66       107\n",
            "      agnostic       0.87      0.94      0.90       117\n",
            "\n",
            "      accuracy                           0.75       300\n",
            "     macro avg       0.73      0.73      0.73       300\n",
            "  weighted avg       0.74      0.75      0.75       300\n",
            "\n"
          ]
        },
        {
          "output_type": "display_data",
          "data": {
            "text/plain": [
              "<Figure size 600x600 with 0 Axes>"
            ]
          },
          "metadata": {}
        },
        {
          "output_type": "display_data",
          "data": {
            "text/plain": [
              "<Figure size 640x480 with 2 Axes>"
            ],
            "image/png": "[encoded data removed]"
          },
          "metadata": {}
        }
      ]
    },
    {
      "cell_type": "markdown",
      "source": [
        "Observation : Adding the name as input decrease the accuracy"
      ],
      "metadata": {
        "id": "u8-0a5l-0Hfq"
      }
    },
    {
      "cell_type": "markdown",
      "source": [
        "### Model 1.3"
      ],
      "metadata": {
        "id": "5iTal3pZz8FS"
      }
    },
    {
      "cell_type": "markdown",
      "source": [
        "We still try to use the name of the item as input. But instead of using it as a variable, we merge it with the descrition. For exemple\n",
        "\n",
        "- Name = Meutre à la tronconeuse\n",
        "- Descrition = French Horror Moovie\n",
        "\n",
        "The input becomes : Meutre à la tronconeuse - French Horror Moovie"
      ],
      "metadata": {
        "id": "fNBWYPcV0Shn"
      }
    },
    {
      "cell_type": "code",
      "source": [
        "## Initialize the model\n",
        "model_13 = AutoModelForSequenceClassification.from_pretrained(language_model_name,\n",
        "                                                                   ignore_mismatched_sizes=True,\n",
        "                                                                   output_attentions=False, output_hidden_states=False,\n",
        "                                                                   num_labels=3) # number of the classes\n",
        "\n",
        "# Load the pretrained tokenizer\n",
        "tokenizer = AutoTokenizer.from_pretrained(language_model_name)\n",
        "\n",
        "# Set the data collator\n",
        "# Function used to prepare the data before the training.\n",
        "# the data collator function used here apply a zero-padding on the elements in the batch\n",
        "# the padding is needed to have a \"full\" form of the batches\n",
        "data_collator = DataCollatorWithPadding(tokenizer=tokenizer)\n",
        "\n",
        "def tokenize_function(examples):\n",
        "    inputs = [f\"{name} - {desc}\" for name, desc in zip(examples[\"name\"], examples[\"description\"])]\n",
        "    return tokenizer(inputs, padding=True, truncation=True)"
      ],
      "metadata": {
        "colab": {
          "base_uri": "https://localhost:8080/"
        },
        "outputId": "05796a9c-6861-4dfd-84ce-d245fa65ed0c",
        "id": "kiL0Sn5u0uie"
      },
      "execution_count": 39,
      "outputs": [
        {
          "output_type": "stream",
          "name": "stderr",
          "text": [
            "Some weights of DistilBertForSequenceClassification were not initialized from the model checkpoint at distilbert-base-uncased and are newly initialized: ['classifier.bias', 'classifier.weight', 'pre_classifier.bias', 'pre_classifier.weight']\n",
            "You should probably TRAIN this model on a down-stream task to be able to use it for predictions and inference.\n"
          ]
        }
      ]
    },
    {
      "cell_type": "code",
      "source": [
        "# Tokenize the dataset ...\n",
        "print(\"Tokenize the dataset ...\")\n",
        "tokenized_datasets = datasets.map(tokenize_function, batched=True)"
      ],
      "metadata": {
        "colab": {
          "base_uri": "https://localhost:8080/",
          "height": 98,
          "referenced_widgets": [
            "c814a1ae682d443db0114c11697534d0",
            "c2089c94b0ec472b8bde33df63230aa5",
            "5de79e6161a74fc9ab158648e0db6ef0",
            "ab94e92582a14c82a2543d82e10e34bb",
            "8e0a0b8a62e44d7aa807139087a4ec98",
            "b4b812245aec40d1a629790fb06caea2",
            "610f2b64331d494b8875adfd39d48ba3",
            "87159e0b1d8d497784acb162d87057f3",
            "fee5d7e147ed48e0bbb63c694e981121",
            "2c5f568e6d964a6eadaa0bff8fc9a806",
            "f5f261456be348fa8da6880008eaa103",
            "eee9f44dd4fd402cb6835f633271c1ec",
            "68d8a2f52b7644b8a34b4d6a7dbdf7dd",
            "1dd267d12df4473084c568896dab0c16",
            "f55f35ce89064e70b4f073a4d1fcd367",
            "f064e9b86fb348fb8c1f5290dc53517d",
            "4b25ccd7163441a49768a080e6147b84",
            "62ea431343144f8898e1bb4ef3d06e99",
            "9b33de10c9a44e619c57f133b5fd3578",
            "4714bd838c6f4be6b8e1ce7c784d0dc4",
            "5a4da267798c4e5e94731431bf5ba6c6",
            "bba38d5a7b0449848cf356bc3d6895f4"
          ]
        },
        "outputId": "f11e88c7-3427-49e7-be79-2cf84cafac20",
        "id": "8WOHlnzd0uii"
      },
      "execution_count": null,
      "outputs": [
        {
          "output_type": "stream",
          "name": "stdout",
          "text": [
            "Tokenize the dataset ...\n"
          ]
        },
        {
          "output_type": "display_data",
          "data": {
            "text/plain": [
              "Map:   0%|          | 0/6251 [00:00<?, ? examples/s]"
            ],
            "application/vnd.jupyter.widget-view+json": {
              "version_major": 2,
              "version_minor": 0,
              "model_id": "c814a1ae682d443db0114c11697534d0"
            }
          },
          "metadata": {}
        },
        {
          "output_type": "display_data",
          "data": {
            "text/plain": [
              "Map:   0%|          | 0/300 [00:00<?, ? examples/s]"
            ],
            "application/vnd.jupyter.widget-view+json": {
              "version_major": 2,
              "version_minor": 0,
              "model_id": "eee9f44dd4fd402cb6835f633271c1ec"
            }
          },
          "metadata": {}
        }
      ]
    },
    {
      "cell_type": "markdown",
      "source": [
        "#### Training\n",
        "\n",
        "To train a transformer model you can rely on the **Trainer** class of Huggingface (https://huggingface.co/docs/transformers/main_classes/trainer).\n",
        "\n",
        "The Trainer class allows you to save many lines of code, and makes your code much more readable.\n",
        "\n",
        "To initialize the Trainer class you have to define a **TrainerArguments** object."
      ],
      "metadata": {
        "id": "y3rAo2mj0uik"
      }
    },
    {
      "cell_type": "code",
      "source": [
        "training_args = TrainingArguments(\n",
        "    output_dir=\"training_dir\",                    # output directory [Mandatory]\n",
        "    num_train_epochs=epochs,                      # total number of training epochs\n",
        "    per_device_train_batch_size=batch_size,       # batch size per device during training\n",
        "    warmup_steps=500,                             # number of warmup steps for learning rate scheduler\n",
        "    weight_decay=weight_decay,                    # strength of weight decay\n",
        "    save_strategy=\"no\",\n",
        "    learning_rate=learning_rate,                  # learning rate\n",
        "    report_to=\"none\",\n",
        "    logging_dir=\"sentiment_analysis_logs\", # use it later to get the training curves\n",
        "    load_best_model_at_end=True,\n",
        "    metric_for_best_model=\"f1\"\n",
        ")"
      ],
      "metadata": {
        "id": "KPU4XtGo0uil"
      },
      "execution_count": 40,
      "outputs": []
    },
    {
      "cell_type": "code",
      "source": [
        "trainer = Trainer(\n",
        "   model=model_13,\n",
        "   args=training_args,\n",
        "   train_dataset=tokenized_datasets['train'],\n",
        "   eval_dataset=tokenized_datasets[\"dev\"],\n",
        "   tokenizer=tokenizer,\n",
        "   data_collator=data_collator,\n",
        "   compute_metrics=compute_metrics,\n",
        ")"
      ],
      "metadata": {
        "id": "SBgER1_G0uin"
      },
      "execution_count": 41,
      "outputs": []
    },
    {
      "cell_type": "code",
      "source": [
        "# Let's Train ...\n",
        "trainer.train()"
      ],
      "metadata": {
        "colab": {
          "base_uri": "https://localhost:8080/",
          "height": 158
        },
        "outputId": "a65cb1bf-e3de-4ed0-c76c-10d1bf0d90ad",
        "id": "EyuKwlYv0uir"
      },
      "execution_count": 42,
      "outputs": [
        {
          "output_type": "display_data",
          "data": {
            "text/plain": [
              "<IPython.core.display.HTML object>"
            ],
            "text/html": [
              "\n",
              "    <div>\n",
              "      \n",
              "      <progress value='782' max='782' style='width:300px; height:20px; vertical-align: middle;'></progress>\n",
              "      [782/782 00:59, Epoch 1/1]\n",
              "    </div>\n",
              "    <table border=\"1\" class=\"dataframe\">\n",
              "  <thead>\n",
              " <tr style=\"text-align: left;\">\n",
              "      <th>Step</th>\n",
              "      <th>Training Loss</th>\n",
              "    </tr>\n",
              "  </thead>\n",
              "  <tbody>\n",
              "    <tr>\n",
              "      <td>500</td>\n",
              "      <td>0.716200</td>\n",
              "    </tr>\n",
              "  </tbody>\n",
              "</table><p>"
            ]
          },
          "metadata": {}
        },
        {
          "output_type": "execute_result",
          "data": {
            "text/plain": [
              "TrainOutput(global_step=782, training_loss=0.6652124507347946, metrics={'train_runtime': 59.1074, 'train_samples_per_second': 105.757, 'train_steps_per_second': 13.23, 'total_flos': 108512397758808.0, 'train_loss': 0.6652124507347946, 'epoch': 1.0})"
            ]
          },
          "metadata": {},
          "execution_count": 42
        }
      ]
    },
    {
      "cell_type": "code",
      "source": [
        "# Evaluate the model ...\n",
        "trainer.evaluate()"
      ],
      "metadata": {
        "colab": {
          "base_uri": "https://localhost:8080/",
          "height": 245
        },
        "outputId": "1a858c37-0e99-4b85-d8d4-6d6984150728",
        "id": "XrhkIJml0uit"
      },
      "execution_count": 43,
      "outputs": [
        {
          "output_type": "display_data",
          "data": {
            "text/plain": [
              "<IPython.core.display.HTML object>"
            ],
            "text/html": [
              "\n",
              "    <div>\n",
              "      \n",
              "      <progress value='38' max='38' style='width:300px; height:20px; vertical-align: middle;'></progress>\n",
              "      [38/38 00:00]\n",
              "    </div>\n",
              "    "
            ]
          },
          "metadata": {}
        },
        {
          "output_type": "execute_result",
          "data": {
            "text/plain": [
              "{'eval_loss': 0.6008146405220032,\n",
              " 'eval_accuracy': 0.77,\n",
              " 'eval_f1': 0.7662071458596049,\n",
              " 'eval_precision': 0.7662255383399657,\n",
              " 'eval_recall': 0.77,\n",
              " 'eval_cm': array([[ 51,  23,   2],\n",
              "        [ 26,  68,  13],\n",
              "        [  3,   2, 112]]),\n",
              " 'eval_runtime': 3.0131,\n",
              " 'eval_samples_per_second': 99.567,\n",
              " 'eval_steps_per_second': 12.612,\n",
              " 'epoch': 1.0}"
            ]
          },
          "metadata": {},
          "execution_count": 43
        }
      ]
    },
    {
      "cell_type": "markdown",
      "source": [
        "#### Inference"
      ],
      "metadata": {
        "id": "hmLDaI4x0uiu"
      }
    },
    {
      "cell_type": "code",
      "source": [
        "def predict_culture(text, model, tokenizer, device, max_length=128):\n",
        "    model.eval()\n",
        "    encoding = tokenizer(text, return_tensors='pt', max_length=max_length, padding='max_length', truncation=True)\n",
        "    input_ids = encoding['input_ids'].to(device)\n",
        "    attention_mask = encoding['attention_mask'].to(device)\n",
        "    with torch.no_grad():\n",
        "        outputs = model(input_ids=input_ids, attention_mask=attention_mask)\n",
        "        _, preds = torch.max(outputs.logits, dim=1)\n",
        "    return (\n",
        "        \"cultural exclusive\" if preds.item() == 0\n",
        "        else \"cultural representative\" if preds.item() == 1\n",
        "        else \"cultural agnostic\"\n",
        "    )"
      ],
      "metadata": {
        "id": "BxKIjoYl0uiv"
      },
      "execution_count": 44,
      "outputs": []
    },
    {
      "cell_type": "code",
      "source": [
        "predict_culture(\"President of America\", model_13, tokenizer, \"cuda:0\")"
      ],
      "metadata": {
        "colab": {
          "base_uri": "https://localhost:8080/",
          "height": 35
        },
        "outputId": "52cd6e7c-5610-4557-edc5-9f0d5c3922d3",
        "id": "v7LDVv1L0uiw"
      },
      "execution_count": 45,
      "outputs": [
        {
          "output_type": "execute_result",
          "data": {
            "text/plain": [
              "'cultural representative'"
            ],
            "application/vnd.google.colaboratory.intrinsic+json": {
              "type": "string"
            }
          },
          "metadata": {},
          "execution_count": 45
        }
      ]
    },
    {
      "cell_type": "code",
      "source": [
        "predict_culture(\"President of Paraguay\", model_13, tokenizer, \"cuda:0\")"
      ],
      "metadata": {
        "colab": {
          "base_uri": "https://localhost:8080/",
          "height": 35
        },
        "outputId": "555e20f7-eb0d-42e8-b267-765543025a47",
        "id": "dXjUxCk10uix"
      },
      "execution_count": 46,
      "outputs": [
        {
          "output_type": "execute_result",
          "data": {
            "text/plain": [
              "'cultural exclusive'"
            ],
            "application/vnd.google.colaboratory.intrinsic+json": {
              "type": "string"
            }
          },
          "metadata": {},
          "execution_count": 46
        }
      ]
    },
    {
      "cell_type": "code",
      "source": [
        "predict_culture(\"River\", model_13, tokenizer, \"cuda:0\")"
      ],
      "metadata": {
        "colab": {
          "base_uri": "https://localhost:8080/",
          "height": 35
        },
        "outputId": "3935bc9f-41cd-409d-f29b-8291e6a4abef",
        "id": "OtQx7LN90uiy"
      },
      "execution_count": 47,
      "outputs": [
        {
          "output_type": "execute_result",
          "data": {
            "text/plain": [
              "'cultural agnostic'"
            ],
            "application/vnd.google.colaboratory.intrinsic+json": {
              "type": "string"
            }
          },
          "metadata": {},
          "execution_count": 47
        }
      ]
    },
    {
      "cell_type": "code",
      "source": [
        "predict_culture(\"Sleep\", model_13, tokenizer, \"cuda:0\")"
      ],
      "metadata": {
        "colab": {
          "base_uri": "https://localhost:8080/",
          "height": 35
        },
        "outputId": "b2a4e890-aabc-4ff9-9fe4-fc57936f41be",
        "id": "hfIcLfM80uiz"
      },
      "execution_count": 48,
      "outputs": [
        {
          "output_type": "execute_result",
          "data": {
            "text/plain": [
              "'cultural agnostic'"
            ],
            "application/vnd.google.colaboratory.intrinsic+json": {
              "type": "string"
            }
          },
          "metadata": {},
          "execution_count": 48
        }
      ]
    },
    {
      "cell_type": "code",
      "source": [
        "predict_culture(\"Pizza\", model_13, tokenizer, \"cuda:0\")"
      ],
      "metadata": {
        "colab": {
          "base_uri": "https://localhost:8080/",
          "height": 35
        },
        "outputId": "7cff6117-e72c-4558-95e9-5470270ecf61",
        "id": "OuVyQ0830ui0"
      },
      "execution_count": 49,
      "outputs": [
        {
          "output_type": "execute_result",
          "data": {
            "text/plain": [
              "'cultural representative'"
            ],
            "application/vnd.google.colaboratory.intrinsic+json": {
              "type": "string"
            }
          },
          "metadata": {},
          "execution_count": 49
        }
      ]
    },
    {
      "cell_type": "code",
      "source": [
        "predict_culture(\"Caponata\", model_13, tokenizer, \"cuda:0\")"
      ],
      "metadata": {
        "colab": {
          "base_uri": "https://localhost:8080/",
          "height": 35
        },
        "outputId": "77c86761-c152-41fb-a821-ed721923b028",
        "id": "Xmym7VpR0ui1"
      },
      "execution_count": 50,
      "outputs": [
        {
          "output_type": "execute_result",
          "data": {
            "text/plain": [
              "'cultural agnostic'"
            ],
            "application/vnd.google.colaboratory.intrinsic+json": {
              "type": "string"
            }
          },
          "metadata": {},
          "execution_count": 50
        }
      ]
    },
    {
      "cell_type": "code",
      "source": [
        "predict_culture(\"Bread\", model_13, tokenizer, \"cuda:0\")"
      ],
      "metadata": {
        "colab": {
          "base_uri": "https://localhost:8080/",
          "height": 35
        },
        "outputId": "8ef46b09-005e-43c4-8c99-50dc7acc0653",
        "id": "t4LMReyL0ui2"
      },
      "execution_count": 51,
      "outputs": [
        {
          "output_type": "execute_result",
          "data": {
            "text/plain": [
              "'cultural agnostic'"
            ],
            "application/vnd.google.colaboratory.intrinsic+json": {
              "type": "string"
            }
          },
          "metadata": {},
          "execution_count": 51
        }
      ]
    },
    {
      "cell_type": "markdown",
      "source": [
        "#### Evaluation"
      ],
      "metadata": {
        "id": "6pGMwif80ui3"
      }
    },
    {
      "cell_type": "code",
      "source": [
        "# Apply the model on the dev set\n",
        "dev_df['predict_label_transformer'] = evaluate_trainer(trainer,tokenized_datasets['dev'])\n",
        "# Visualisation\n",
        "dev_df['predict_label_transformer']"
      ],
      "metadata": {
        "colab": {
          "base_uri": "https://localhost:8080/",
          "height": 458
        },
        "outputId": "1a63b680-d33f-4777-8c87-f975b55cf504",
        "id": "dYjx4LNT0ui4"
      },
      "execution_count": 52,
      "outputs": [
        {
          "output_type": "display_data",
          "data": {
            "text/plain": [
              "<IPython.core.display.HTML object>"
            ],
            "text/html": []
          },
          "metadata": {}
        },
        {
          "output_type": "execute_result",
          "data": {
            "text/plain": [
              "0      0\n",
              "1      0\n",
              "2      1\n",
              "3      1\n",
              "4      1\n",
              "      ..\n",
              "295    2\n",
              "296    0\n",
              "297    0\n",
              "298    0\n",
              "299    0\n",
              "Name: predict_label_transformer, Length: 300, dtype: int64"
            ],
            "text/html": [
              "<div>\n",
              "<style scoped>\n",
              "    .dataframe tbody tr th:only-of-type {\n",
              "        vertical-align: middle;\n",
              "    }\n",
              "\n",
              "    .dataframe tbody tr th {\n",
              "        vertical-align: top;\n",
              "    }\n",
              "\n",
              "    .dataframe thead th {\n",
              "        text-align: right;\n",
              "    }\n",
              "</style>\n",
              "<table border=\"1\" class=\"dataframe\">\n",
              "  <thead>\n",
              "    <tr style=\"text-align: right;\">\n",
              "      <th></th>\n",
              "      <th>predict_label_transformer</th>\n",
              "    </tr>\n",
              "  </thead>\n",
              "  <tbody>\n",
              "    <tr>\n",
              "      <th>0</th>\n",
              "      <td>0</td>\n",
              "    </tr>\n",
              "    <tr>\n",
              "      <th>1</th>\n",
              "      <td>0</td>\n",
              "    </tr>\n",
              "    <tr>\n",
              "      <th>2</th>\n",
              "      <td>1</td>\n",
              "    </tr>\n",
              "    <tr>\n",
              "      <th>3</th>\n",
              "      <td>1</td>\n",
              "    </tr>\n",
              "    <tr>\n",
              "      <th>4</th>\n",
              "      <td>1</td>\n",
              "    </tr>\n",
              "    <tr>\n",
              "      <th>...</th>\n",
              "      <td>...</td>\n",
              "    </tr>\n",
              "    <tr>\n",
              "      <th>295</th>\n",
              "      <td>2</td>\n",
              "    </tr>\n",
              "    <tr>\n",
              "      <th>296</th>\n",
              "      <td>0</td>\n",
              "    </tr>\n",
              "    <tr>\n",
              "      <th>297</th>\n",
              "      <td>0</td>\n",
              "    </tr>\n",
              "    <tr>\n",
              "      <th>298</th>\n",
              "      <td>0</td>\n",
              "    </tr>\n",
              "    <tr>\n",
              "      <th>299</th>\n",
              "      <td>0</td>\n",
              "    </tr>\n",
              "  </tbody>\n",
              "</table>\n",
              "<p>300 rows × 1 columns</p>\n",
              "</div><br><label><b>dtype:</b> int64</label>"
            ]
          },
          "metadata": {},
          "execution_count": 52
        }
      ]
    },
    {
      "cell_type": "code",
      "source": [
        "# Extract the true and predicted labels\n",
        "y_true = dev_df['label']\n",
        "y_pred = dev_df['predict_label_transformer']\n",
        "\n",
        "# Visualisation of the evaluation metrics\n",
        "print(\"Accuracy:\", accuracy_score(y_true, y_pred))\n",
        "print(\"Precision (weighted):\", precision_score(y_true, y_pred, average=\"weighted\"))\n",
        "print(\"Recall (weighted):\", recall_score(y_true, y_pred, average=\"weighted\"))\n",
        "print(\"F1-score (weighted):\", f1_score(y_true, y_pred, average=\"weighted\"))\n",
        "\n",
        "print(\"\\n Classification Report:\")\n",
        "print(classification_report(y_true, y_pred, target_names=[\"exclusive\", \"representative\", \"agnostic\"]))\n",
        "\n",
        "cm = confusion_matrix(y_true, y_pred)\n",
        "disp = ConfusionMatrixDisplay(confusion_matrix=cm, display_labels=[\"exclusive\", \"representative\", \"agnostic\"])\n",
        "\n",
        "plt.figure(figsize=(6, 6))\n",
        "disp.plot(cmap=plt.cm.Blues, values_format='d')\n",
        "plt.title(\"Confusion matrix\")\n",
        "plt.grid(False)\n",
        "plt.show()"
      ],
      "metadata": {
        "colab": {
          "base_uri": "https://localhost:8080/",
          "height": 767
        },
        "outputId": "e71f48dc-e876-4a2c-ce04-021a184325ce",
        "id": "jtEvKoCD0ui4"
      },
      "execution_count": 53,
      "outputs": [
        {
          "output_type": "stream",
          "name": "stdout",
          "text": [
            "Accuracy: 0.77\n",
            "Precision (weighted): 0.7662255383399657\n",
            "Recall (weighted): 0.77\n",
            "F1-score (weighted): 0.7662071458596049\n",
            "\n",
            " Classification Report:\n",
            "                precision    recall  f1-score   support\n",
            "\n",
            "     exclusive       0.64      0.67      0.65        76\n",
            "representative       0.73      0.64      0.68       107\n",
            "      agnostic       0.88      0.96      0.92       117\n",
            "\n",
            "      accuracy                           0.77       300\n",
            "     macro avg       0.75      0.75      0.75       300\n",
            "  weighted avg       0.77      0.77      0.77       300\n",
            "\n"
          ]
        },
        {
          "output_type": "display_data",
          "data": {
            "text/plain": [
              "<Figure size 600x600 with 0 Axes>"
            ]
          },
          "metadata": {}
        },
        {
          "output_type": "display_data",
          "data": {
            "text/plain": [
              "<Figure size 640x480 with 2 Axes>"
            ],
            "image/png": "[encoded data removed]"
          },
          "metadata": {}
        }
      ]
    },
    {
      "cell_type": "markdown",
      "source": [
        "# That's the best accuracy we've ever had for now !"
      ],
      "metadata": {
        "id": "sqTfiPrX2Cqh"
      }
    },
    {
      "cell_type": "markdown",
      "source": [
        "### Model 1.4\n"
      ],
      "metadata": {
        "id": "UVw7GKxJWrAM"
      }
    },
    {
      "cell_type": "markdown",
      "source": [
        "let's try using extract of the wikipedia text"
      ],
      "metadata": {
        "id": "6_RYylv-Wyvg"
      }
    },
    {
      "cell_type": "code",
      "source": [
        "#adding text columns\n",
        "train_df = pd.merge(train_df, df_train_text, on='item', how='left')\n",
        "dev_df = pd.merge(dev_df, df_dev_text, on='item', how='left')\n",
        "\n",
        "train_df[\"idx\"] = range(len(train_df))\n",
        "dev_df[\"idx\"] = range(len(dev_df))\n",
        "\n",
        "# Creation of the dictionnary datasets\n",
        "train_dict = train_df[['idx','name','text','label']].to_dict(orient=\"list\")\n",
        "train_dataset = Dataset.from_dict(train_dict)\n",
        "\n",
        "dev_dict = dev_df[['idx','name','text','label']].to_dict(orient=\"list\")\n",
        "dev_dataset = Dataset.from_dict(dev_dict)\n",
        "\n",
        "# Merge the datasets into one single dictionnary\n",
        "datasets = DatasetDict({\n",
        "    \"train\": train_dataset,\n",
        "    \"dev\": dev_dataset\n",
        "})\n",
        "\n",
        "# Visualisation\n",
        "datasets"
      ],
      "metadata": {
        "colab": {
          "base_uri": "https://localhost:8080/"
        },
        "id": "0bgafK5EaaYd",
        "outputId": "b3c9e06f-4afd-44c5-9bac-89d7285b7eec"
      },
      "execution_count": 54,
      "outputs": [
        {
          "output_type": "execute_result",
          "data": {
            "text/plain": [
              "DatasetDict({\n",
              "    train: Dataset({\n",
              "        features: ['idx', 'name', 'text', 'label'],\n",
              "        num_rows: 6251\n",
              "    })\n",
              "    dev: Dataset({\n",
              "        features: ['idx', 'name', 'text', 'label'],\n",
              "        num_rows: 300\n",
              "    })\n",
              "})"
            ]
          },
          "metadata": {},
          "execution_count": 54
        }
      ]
    },
    {
      "cell_type": "code",
      "source": [
        "## Initialize the model\n",
        "model_14 = AutoModelForSequenceClassification.from_pretrained(language_model_name,\n",
        "                                                                   ignore_mismatched_sizes=True,\n",
        "                                                                   output_attentions=False, output_hidden_states=False,\n",
        "                                                                   num_labels=3) # number of the classes\n",
        "\n",
        "# Load the pretrained tokenizer\n",
        "tokenizer = AutoTokenizer.from_pretrained(language_model_name)\n",
        "\n",
        "# Set the data collator\n",
        "# Function used to prepare the data before the training.\n",
        "# the data collator function used here apply a zero-padding on the elements in the batch\n",
        "# the padding is needed to have a \"full\" form of the batches\n",
        "data_collator = DataCollatorWithPadding(tokenizer=tokenizer)\n",
        "\n",
        "def tokenize_function(examples):\n",
        "    inputs = [desc for desc in examples[\"text\"]]\n",
        "    return tokenizer(inputs, padding=True, truncation=True)"
      ],
      "metadata": {
        "colab": {
          "base_uri": "https://localhost:8080/"
        },
        "id": "mC9dUxp-XPb9",
        "outputId": "6ea424b7-4481-433e-e7b2-6b99dc56c036"
      },
      "execution_count": 55,
      "outputs": [
        {
          "output_type": "stream",
          "name": "stderr",
          "text": [
            "Some weights of DistilBertForSequenceClassification were not initialized from the model checkpoint at distilbert-base-uncased and are newly initialized: ['classifier.bias', 'classifier.weight', 'pre_classifier.bias', 'pre_classifier.weight']\n",
            "You should probably TRAIN this model on a down-stream task to be able to use it for predictions and inference.\n"
          ]
        }
      ]
    },
    {
      "cell_type": "code",
      "source": [
        "# Tokenize the dataset ...\n",
        "print(\"Tokenize the dataset ...\")\n",
        "tokenized_datasets = datasets.map(tokenize_function, batched=True)"
      ],
      "metadata": {
        "colab": {
          "base_uri": "https://localhost:8080/",
          "height": 98,
          "referenced_widgets": [
            "60a9e2c99a744072ac63a4d6808bcd5b",
            "398b66ad54f849b6b572431c1b8dc964",
            "27498b218e7c4bf3abaca2389d1cb121",
            "11f278b838084084acc03bb531dde26c",
            "787c255d9cf4480e92ae904bf40bb81c",
            "e55e555f1d7f42efb67f3392e8d691f6",
            "e21849a9f7d847938d57446b53ca7f2d",
            "f4da90d93d524276bb498bb042b60ed9",
            "a8b94f9d4c2a4bc2ad878438ebc5bc9b",
            "8376abab0eb646e2b2d029d325eb4e8e",
            "ee1ff74738514b4c9226a7cee4a94af0",
            "3fcd6b6bfd8a44d2b09f92cfe52f6deb",
            "41a4f280059e4740a7b0bc8502f8f2f1",
            "6ae34264d5b248e88af7d7321beffb50",
            "b234796c794b4c828eceebd8b699daa6",
            "e9b07ff2fb654554bc10c9ab19a7e17a",
            "9178656d23a641c4995595affbf2c4bc",
            "d1992b0a36ad4000833c912aa8847c48",
            "29213cbb2d974ef4b307876eaa39b139",
            "0621c435fe2d4ff78424a452b13fcf31",
            "c8e71e90b47a45579dd93e42183897ff",
            "0593e01d49af4432a155d68aa26dc15b"
          ]
        },
        "id": "mLPsM9utXXcc",
        "outputId": "0668c0f2-cca0-409f-cd07-3aeba221cd3a"
      },
      "execution_count": 56,
      "outputs": [
        {
          "output_type": "stream",
          "name": "stdout",
          "text": [
            "Tokenize the dataset ...\n"
          ]
        },
        {
          "output_type": "display_data",
          "data": {
            "text/plain": [
              "Map:   0%|          | 0/6251 [00:00<?, ? examples/s]"
            ],
            "application/vnd.jupyter.widget-view+json": {
              "version_major": 2,
              "version_minor": 0,
              "model_id": "60a9e2c99a744072ac63a4d6808bcd5b"
            }
          },
          "metadata": {}
        },
        {
          "output_type": "display_data",
          "data": {
            "text/plain": [
              "Map:   0%|          | 0/300 [00:00<?, ? examples/s]"
            ],
            "application/vnd.jupyter.widget-view+json": {
              "version_major": 2,
              "version_minor": 0,
              "model_id": "3fcd6b6bfd8a44d2b09f92cfe52f6deb"
            }
          },
          "metadata": {}
        }
      ]
    },
    {
      "cell_type": "markdown",
      "source": [
        "#### Training"
      ],
      "metadata": {
        "id": "TBmH7mo1XNBx"
      }
    },
    {
      "cell_type": "code",
      "source": [
        "training_args = TrainingArguments(\n",
        "    output_dir=\"training_dir\",                    # output directory [Mandatory]\n",
        "    num_train_epochs=epochs,                      # total number of training epochs\n",
        "    per_device_train_batch_size=batch_size,       # batch size per device during training\n",
        "    warmup_steps=500,                             # number of warmup steps for learning rate scheduler\n",
        "    weight_decay=weight_decay,                    # strength of weight decay\n",
        "    save_strategy=\"no\",\n",
        "    learning_rate=learning_rate,                  # learning rate\n",
        "    report_to=\"none\",\n",
        "    logging_dir=\"sentiment_analysis_logs\",         # use it later to get the training curves\n",
        "    load_best_model_at_end=True,\n",
        "    metric_for_best_model=\"f1\"\n",
        "    )"
      ],
      "metadata": {
        "id": "T1FdNzz3XbeO"
      },
      "execution_count": 57,
      "outputs": []
    },
    {
      "cell_type": "code",
      "source": [
        "trainer = Trainer(\n",
        "   model=model_14,\n",
        "   args=training_args,\n",
        "   train_dataset=tokenized_datasets['train'],\n",
        "   eval_dataset=tokenized_datasets[\"dev\"],\n",
        "   tokenizer=tokenizer,\n",
        "   data_collator=data_collator,\n",
        "   compute_metrics=compute_metrics,\n",
        ")"
      ],
      "metadata": {
        "id": "05vydxAQXb5l"
      },
      "execution_count": 58,
      "outputs": []
    },
    {
      "cell_type": "code",
      "source": [
        "# Let's Train ...\n",
        "trainer.train()"
      ],
      "metadata": {
        "colab": {
          "base_uri": "https://localhost:8080/",
          "height": 158
        },
        "id": "RPmly7nmXh1y",
        "outputId": "70215b19-1a13-49cf-dc45-055d68d88075"
      },
      "execution_count": 59,
      "outputs": [
        {
          "output_type": "display_data",
          "data": {
            "text/plain": [
              "<IPython.core.display.HTML object>"
            ],
            "text/html": [
              "\n",
              "    <div>\n",
              "      \n",
              "      <progress value='782' max='782' style='width:300px; height:20px; vertical-align: middle;'></progress>\n",
              "      [782/782 03:38, Epoch 1/1]\n",
              "    </div>\n",
              "    <table border=\"1\" class=\"dataframe\">\n",
              "  <thead>\n",
              " <tr style=\"text-align: left;\">\n",
              "      <th>Step</th>\n",
              "      <th>Training Loss</th>\n",
              "    </tr>\n",
              "  </thead>\n",
              "  <tbody>\n",
              "    <tr>\n",
              "      <td>500</td>\n",
              "      <td>0.705100</td>\n",
              "    </tr>\n",
              "  </tbody>\n",
              "</table><p>"
            ]
          },
          "metadata": {}
        },
        {
          "output_type": "execute_result",
          "data": {
            "text/plain": [
              "TrainOutput(global_step=782, training_loss=0.6792278631263987, metrics={'train_runtime': 219.2714, 'train_samples_per_second': 28.508, 'train_steps_per_second': 3.566, 'total_flos': 589174009764354.0, 'train_loss': 0.6792278631263987, 'epoch': 1.0})"
            ]
          },
          "metadata": {},
          "execution_count": 59
        }
      ]
    },
    {
      "cell_type": "code",
      "source": [
        "# Evaluate the model ...\n",
        "trainer.evaluate()"
      ],
      "metadata": {
        "colab": {
          "base_uri": "https://localhost:8080/",
          "height": 245
        },
        "id": "y709dGU3XlBr",
        "outputId": "28fe52bb-3b49-417e-a7f2-055ed4563c31"
      },
      "execution_count": 60,
      "outputs": [
        {
          "output_type": "display_data",
          "data": {
            "text/plain": [
              "<IPython.core.display.HTML object>"
            ],
            "text/html": [
              "\n",
              "    <div>\n",
              "      \n",
              "      <progress value='38' max='38' style='width:300px; height:20px; vertical-align: middle;'></progress>\n",
              "      [38/38 00:03]\n",
              "    </div>\n",
              "    "
            ]
          },
          "metadata": {}
        },
        {
          "output_type": "execute_result",
          "data": {
            "text/plain": [
              "{'eval_loss': 0.5904644131660461,\n",
              " 'eval_accuracy': 0.7433333333333333,\n",
              " 'eval_f1': 0.7456436925035959,\n",
              " 'eval_precision': 0.749797225622195,\n",
              " 'eval_recall': 0.7433333333333333,\n",
              " 'eval_cm': array([[ 49,  24,   3],\n",
              "        [ 30,  70,   7],\n",
              "        [  7,   6, 104]]),\n",
              " 'eval_runtime': 5.7651,\n",
              " 'eval_samples_per_second': 52.038,\n",
              " 'eval_steps_per_second': 6.591,\n",
              " 'epoch': 1.0}"
            ]
          },
          "metadata": {},
          "execution_count": 60
        }
      ]
    },
    {
      "cell_type": "markdown",
      "source": [
        "#### Inference"
      ],
      "metadata": {
        "id": "iOMzDJJLbSgD"
      }
    },
    {
      "cell_type": "code",
      "source": [
        "def predict_culture(text, model, tokenizer, device, max_length=128):\n",
        "    model.eval()\n",
        "    encoding = tokenizer(text, return_tensors='pt', max_length=max_length, padding='max_length', truncation=True)\n",
        "    input_ids = encoding['input_ids'].to(device)\n",
        "    attention_mask = encoding['attention_mask'].to(device)\n",
        "    with torch.no_grad():\n",
        "        outputs = model(input_ids=input_ids, attention_mask=attention_mask)\n",
        "        _, preds = torch.max(outputs.logits, dim=1)\n",
        "    return (\n",
        "        \"cultural exclusive\" if preds.item() == 0\n",
        "        else \"cultural representative\" if preds.item() == 1\n",
        "        else \"cultural agnostic\"\n",
        "    )"
      ],
      "metadata": {
        "id": "8ov4tBOVbUO_"
      },
      "execution_count": 61,
      "outputs": []
    },
    {
      "cell_type": "markdown",
      "source": [
        "#### Evaluation"
      ],
      "metadata": {
        "id": "SHiCkoGXbewr"
      }
    },
    {
      "cell_type": "code",
      "source": [
        "# Apply the model on the dev set\n",
        "dev_df['predict_label_transformer'] = evaluate_trainer(trainer,tokenized_datasets['dev'])\n",
        "# Visualisation\n",
        "dev_df['predict_label_transformer']"
      ],
      "metadata": {
        "colab": {
          "base_uri": "https://localhost:8080/",
          "height": 458
        },
        "id": "sVY6oDPVbhB_",
        "outputId": "98bb6237-d329-477c-d133-1f08b5f0a6ab"
      },
      "execution_count": 62,
      "outputs": [
        {
          "output_type": "display_data",
          "data": {
            "text/plain": [
              "<IPython.core.display.HTML object>"
            ],
            "text/html": []
          },
          "metadata": {}
        },
        {
          "output_type": "execute_result",
          "data": {
            "text/plain": [
              "0      0\n",
              "1      1\n",
              "2      1\n",
              "3      1\n",
              "4      1\n",
              "      ..\n",
              "295    2\n",
              "296    0\n",
              "297    0\n",
              "298    0\n",
              "299    1\n",
              "Name: predict_label_transformer, Length: 300, dtype: int64"
            ],
            "text/html": [
              "<div>\n",
              "<style scoped>\n",
              "    .dataframe tbody tr th:only-of-type {\n",
              "        vertical-align: middle;\n",
              "    }\n",
              "\n",
              "    .dataframe tbody tr th {\n",
              "        vertical-align: top;\n",
              "    }\n",
              "\n",
              "    .dataframe thead th {\n",
              "        text-align: right;\n",
              "    }\n",
              "</style>\n",
              "<table border=\"1\" class=\"dataframe\">\n",
              "  <thead>\n",
              "    <tr style=\"text-align: right;\">\n",
              "      <th></th>\n",
              "      <th>predict_label_transformer</th>\n",
              "    </tr>\n",
              "  </thead>\n",
              "  <tbody>\n",
              "    <tr>\n",
              "      <th>0</th>\n",
              "      <td>0</td>\n",
              "    </tr>\n",
              "    <tr>\n",
              "      <th>1</th>\n",
              "      <td>1</td>\n",
              "    </tr>\n",
              "    <tr>\n",
              "      <th>2</th>\n",
              "      <td>1</td>\n",
              "    </tr>\n",
              "    <tr>\n",
              "      <th>3</th>\n",
              "      <td>1</td>\n",
              "    </tr>\n",
              "    <tr>\n",
              "      <th>4</th>\n",
              "      <td>1</td>\n",
              "    </tr>\n",
              "    <tr>\n",
              "      <th>...</th>\n",
              "      <td>...</td>\n",
              "    </tr>\n",
              "    <tr>\n",
              "      <th>295</th>\n",
              "      <td>2</td>\n",
              "    </tr>\n",
              "    <tr>\n",
              "      <th>296</th>\n",
              "      <td>0</td>\n",
              "    </tr>\n",
              "    <tr>\n",
              "      <th>297</th>\n",
              "      <td>0</td>\n",
              "    </tr>\n",
              "    <tr>\n",
              "      <th>298</th>\n",
              "      <td>0</td>\n",
              "    </tr>\n",
              "    <tr>\n",
              "      <th>299</th>\n",
              "      <td>1</td>\n",
              "    </tr>\n",
              "  </tbody>\n",
              "</table>\n",
              "<p>300 rows × 1 columns</p>\n",
              "</div><br><label><b>dtype:</b> int64</label>"
            ]
          },
          "metadata": {},
          "execution_count": 62
        }
      ]
    },
    {
      "cell_type": "code",
      "source": [
        "# Extract the true and predicted labels\n",
        "y_true = dev_df['label']\n",
        "y_pred = dev_df['predict_label_transformer']\n",
        "\n",
        "# Visualisation of the evaluation metrics\n",
        "print(\"Accuracy:\", accuracy_score(y_true, y_pred))\n",
        "print(\"Precision (weighted):\", precision_score(y_true, y_pred, average=\"weighted\"))\n",
        "print(\"Recall (weighted):\", recall_score(y_true, y_pred, average=\"weighted\"))\n",
        "print(\"F1-score (weighted):\", f1_score(y_true, y_pred, average=\"weighted\"))\n",
        "\n",
        "print(\"\\n Classification Report:\")\n",
        "print(classification_report(y_true, y_pred, target_names=[\"exclusive\", \"representative\", \"agnostic\"]))\n",
        "\n",
        "cm = confusion_matrix(y_true, y_pred)\n",
        "disp = ConfusionMatrixDisplay(confusion_matrix=cm, display_labels=[\"exclusive\", \"representative\", \"agnostic\"])\n",
        "\n",
        "plt.figure(figsize=(6, 6))\n",
        "disp.plot(cmap=plt.cm.Blues, values_format='d')\n",
        "plt.title(\"Confusion matrix\")\n",
        "plt.grid(False)\n",
        "plt.show()"
      ],
      "metadata": {
        "colab": {
          "base_uri": "https://localhost:8080/",
          "height": 767
        },
        "id": "ZgnnQB9Yb3Ag",
        "outputId": "db4b76cd-d7d6-41e5-986d-10490be2268b"
      },
      "execution_count": 63,
      "outputs": [
        {
          "output_type": "stream",
          "name": "stdout",
          "text": [
            "Accuracy: 0.7433333333333333\n",
            "Precision (weighted): 0.749797225622195\n",
            "Recall (weighted): 0.7433333333333333\n",
            "F1-score (weighted): 0.7456436925035959\n",
            "\n",
            " Classification Report:\n",
            "                precision    recall  f1-score   support\n",
            "\n",
            "     exclusive       0.57      0.64      0.60        76\n",
            "representative       0.70      0.65      0.68       107\n",
            "      agnostic       0.91      0.89      0.90       117\n",
            "\n",
            "      accuracy                           0.74       300\n",
            "     macro avg       0.73      0.73      0.73       300\n",
            "  weighted avg       0.75      0.74      0.75       300\n",
            "\n"
          ]
        },
        {
          "output_type": "display_data",
          "data": {
            "text/plain": [
              "<Figure size 600x600 with 0 Axes>"
            ]
          },
          "metadata": {}
        },
        {
          "output_type": "display_data",
          "data": {
            "text/plain": [
              "<Figure size 640x480 with 2 Axes>"
            ],
            "image/png": "[encoded data removed]"
          },
          "metadata": {}
        }
      ]
    },
    {
      "cell_type": "markdown",
      "source": [
        "## Model 2 : DeBERTa"
      ],
      "metadata": {
        "id": "zx0ToibQ399C"
      }
    },
    {
      "cell_type": "code",
      "source": [
        "### Model Parameters\n",
        "# we will use with Distil-BERT\n",
        "language_model_name = \"microsoft/deberta-v3-small\"\n",
        "\n",
        "### Training Argurments\n",
        "\n",
        "# this GPU should be enough for this task to handle 32 samples per batch\n",
        "batch_size = 8\n",
        "\n",
        "# optim\n",
        "learning_rate = 1e-4\n",
        "weight_decay = 0.001 # we could use e.g. 0.01 in case of very low and very high amount of data for regularization\n",
        "\n",
        "# training\n",
        "epochs = 1\n",
        "device = \"cuda\" if torch.cuda.is_available() else \"cpu\"\n",
        "\n",
        "\n",
        "set_seed(42)"
      ],
      "metadata": {
        "id": "MbeQXRDh4giE"
      },
      "execution_count": 64,
      "outputs": []
    },
    {
      "cell_type": "code",
      "source": [
        "## Initialize the model\n",
        "model_21 = AutoModelForSequenceClassification.from_pretrained(language_model_name,\n",
        "                                                                   ignore_mismatched_sizes=True,\n",
        "                                                                   output_attentions=False, output_hidden_states=False,\n",
        "                                                                   num_labels=3) # number of the classes\n",
        "\n",
        "# Load the pretrained tokenizer\n",
        "tokenizer = AutoTokenizer.from_pretrained(language_model_name)\n",
        "\n",
        "# Set the data collator\n",
        "# Function used to prepare the data before the training.\n",
        "# the data collator function used here apply a zero-padding on the elements in the batch\n",
        "# the padding is needed to have a \"full\" form of the batches\n",
        "data_collator = DataCollatorWithPadding(tokenizer=tokenizer)\n",
        "\n",
        "def tokenize_function(examples):\n",
        "    inputs = [f\"{name} - {desc}\" for name, desc in zip(examples[\"name\"], examples[\"description\"])]\n",
        "    return tokenizer(inputs, padding=True, truncation=True)"
      ],
      "metadata": {
        "colab": {
          "base_uri": "https://localhost:8080/",
          "height": 266,
          "referenced_widgets": [
            "8561cfd54258466f863c01d120adee0f",
            "c0010fcc098243afb2e98210a8f47010",
            "f9aa7985d19f47feb1a89057ddcfd294",
            "00ccbecf3b9d46e9aa2076c0dc55908f",
            "36dcde0dd6134f5c8166011f17d1b649",
            "cd1553be0c7c4cfe8662c44a30cb4d8b",
            "212641388b914dc19813c2e100924ecd",
            "3c619101f273465fb881aa701ab0c31c",
            "40b083f555d949c5bc38ed110780f842",
            "fa5cf0edd457478da71c69657fce1cc7",
            "ac244c5fd49942728da2d28544cf2333",
            "61f1d96b68d4429da4f1930b5394b5f4",
            "1a085af996424a478b5728bbe149ca10",
            "525ea63d37a1495dbb928abeb88649f6",
            "32711eb9e4a2414c8242eeca8066ff9a",
            "c547e814e8a74c7e9b6a0130e1e737d2",
            "c593da67435b4c8fa72a9fbce882ed94",
            "8f234ac9554b406da8bdd12c66f6f89c",
            "98e02180ad564995962c9861b7dde125",
            "04f243f494504f50ab275917a38beb6c",
            "6e30043c5c8a4266aa48f9e57af0f4b0",
            "5c986ef646324c4cb6182d42218ec5bb",
            "50b42ec3316e4c56aef711b0154fe8be",
            "3eeb220770a24030b394573468270a67",
            "61f470be35014601b3c754a6932f2eb3",
            "cb00ebc3765346fca510ab1df9291221",
            "fc8d4063578047448a82441716482eee",
            "c65bd715702d4609847b06eb04325230",
            "ac11c4b818404b20b3d0df0c2d99cc9b",
            "3a75d1804b7340ee808299dea14f35cb",
            "b776d3a9cfd04c3ebe221d8e2b43cae8",
            "f36dc0179b2d4310bbc8fcd6afaecf76",
            "49b2f91aabd943129f8bd3905d281a50",
            "dcbe609b81ea4623adac251466a33357",
            "6b03896974634a03bd3143347cee69a1",
            "96cc63b3749149bb86809bf0e44c3d5b",
            "bab11500ac59422d8d5db8eca311878a",
            "9efc240301e143d49c05678579884d27",
            "74fd2357bf4e41d2bc016a818936bc56",
            "d60e6b642c594a90ad7ef714682a0d01",
            "24fcf7a8528445b686b1eb17f5469b36",
            "4aa27e074e1d4139b3850076428e3ddd",
            "85f600e8e2134c85ad16580a1af20c13",
            "0af25491b1dc4d1d97038e6925d914b4",
            "aab98fe2422e4ee8ad8b1b44c98a9285",
            "1cc37bcbb6534535816bcc1d7bd56e17",
            "af22025ab05a414eab4853568bc0fc2b",
            "cb3e12cc23814087934d9eb2b7ce04b3",
            "b6956441fe774494af914f81e4aacdb3",
            "f8f833b79e5649b796eee21a7b3148db",
            "7e7fb6b190864497bd7d4aecb11c3adb",
            "47c41e1ef5f84656a10ea2c7c4ece085",
            "8a209ca2eb4d4bd898446aaef4aa9ad6",
            "364abfa93a0f41c1a6ebf10342a3265e",
            "743cd9a6b8154436bc6d7317d03a97e1"
          ]
        },
        "outputId": "170f4f40-a13a-484f-9f52-e0bf06cdad24",
        "id": "Q98t4a004TMY"
      },
      "execution_count": 65,
      "outputs": [
        {
          "output_type": "display_data",
          "data": {
            "text/plain": [
              "config.json:   0%|          | 0.00/578 [00:00<?, ?B/s]"
            ],
            "application/vnd.jupyter.widget-view+json": {
              "version_major": 2,
              "version_minor": 0,
              "model_id": "8561cfd54258466f863c01d120adee0f"
            }
          },
          "metadata": {}
        },
        {
          "output_type": "display_data",
          "data": {
            "text/plain": [
              "pytorch_model.bin:   0%|          | 0.00/286M [00:00<?, ?B/s]"
            ],
            "application/vnd.jupyter.widget-view+json": {
              "version_major": 2,
              "version_minor": 0,
              "model_id": "61f1d96b68d4429da4f1930b5394b5f4"
            }
          },
          "metadata": {}
        },
        {
          "output_type": "stream",
          "name": "stderr",
          "text": [
            "Some weights of DebertaV2ForSequenceClassification were not initialized from the model checkpoint at microsoft/deberta-v3-small and are newly initialized: ['classifier.bias', 'classifier.weight', 'pooler.dense.bias', 'pooler.dense.weight']\n",
            "You should probably TRAIN this model on a down-stream task to be able to use it for predictions and inference.\n"
          ]
        },
        {
          "output_type": "display_data",
          "data": {
            "text/plain": [
              "tokenizer_config.json:   0%|          | 0.00/52.0 [00:00<?, ?B/s]"
            ],
            "application/vnd.jupyter.widget-view+json": {
              "version_major": 2,
              "version_minor": 0,
              "model_id": "50b42ec3316e4c56aef711b0154fe8be"
            }
          },
          "metadata": {}
        },
        {
          "output_type": "display_data",
          "data": {
            "text/plain": [
              "spm.model:   0%|          | 0.00/2.46M [00:00<?, ?B/s]"
            ],
            "application/vnd.jupyter.widget-view+json": {
              "version_major": 2,
              "version_minor": 0,
              "model_id": "dcbe609b81ea4623adac251466a33357"
            }
          },
          "metadata": {}
        },
        {
          "output_type": "display_data",
          "data": {
            "text/plain": [
              "model.safetensors:   0%|          | 0.00/286M [00:00<?, ?B/s]"
            ],
            "application/vnd.jupyter.widget-view+json": {
              "version_major": 2,
              "version_minor": 0,
              "model_id": "aab98fe2422e4ee8ad8b1b44c98a9285"
            }
          },
          "metadata": {}
        },
        {
          "output_type": "stream",
          "name": "stderr",
          "text": [
            "/usr/local/lib/python3.11/dist-packages/transformers/convert_slow_tokenizer.py:559: UserWarning: The sentencepiece tokenizer that you are converting to a fast tokenizer uses the byte fallback option which is not implemented in the fast tokenizers. In practice this means that the fast version of the tokenizer can produce unknown tokens whereas the sentencepiece version would have converted these unknown tokens into a sequence of byte tokens matching the original piece of text.\n",
            "  warnings.warn(\n"
          ]
        }
      ]
    },
    {
      "cell_type": "code",
      "source": [
        "# Tokenize the dataset ...\n",
        "print(\"Tokenize the dataset ...\")\n",
        "tokenized_datasets = datasets.map(tokenize_function, batched=True)"
      ],
      "metadata": {
        "colab": {
          "base_uri": "https://localhost:8080/",
          "height": 116,
          "referenced_widgets": [
            "c336baa110df46f59d45f4db3d4ecedb",
            "1580090e57984eafaa5cef8a76500b7d",
            "224730e9a58045078ad16291a2345bec",
            "e155bb991d46450e9e590ea0c253f626",
            "67ae8d30a5224cf0a56b6b9749b48d0b",
            "46d78c6300c648efaa548cf1a70c91ac",
            "e5169ba442c2463d91029a89514d5c0e",
            "4f85208a13104214ac9ea85eff3af2c9",
            "f9ad7acf01dc4b608310d6cf2bb0f0e4",
            "05e0ecd12a014342b5e1322a59326c32",
            "1aef9eb15f2948c285c2cd18f0551e75",
            "1fa5846e68474355b10d604b739ce95e",
            "370b98cebce34b669fee1792492514c6",
            "b93b17d2ae984c05bce2f2557c6151c6",
            "e6f9a0ab695c4fbba382125580ce0b67",
            "500c76d907184d399bfeb6bff03d0fcf",
            "1814d89665aa43e89de5525db169370d",
            "e8c47c691196484bbb6078c1200020fc",
            "1c3026efdf7645f1bed9c0f5e9c4fea4",
            "1a03f3eebc4e4df5bf202171e59a1fb0",
            "0852d0941beb49769b0d70c6007d7a77",
            "dc59d34af7f84eae87314a2dc0f68d72"
          ]
        },
        "outputId": "a445bd69-7275-4798-9ca5-dac3140e9197",
        "id": "hTeyXG3a4TMb"
      },
      "execution_count": null,
      "outputs": [
        {
          "output_type": "stream",
          "name": "stdout",
          "text": [
            "Tokenize the dataset ...\n"
          ]
        },
        {
          "output_type": "display_data",
          "data": {
            "text/plain": [
              "Map:   0%|          | 0/6251 [00:00<?, ? examples/s]"
            ],
            "application/vnd.jupyter.widget-view+json": {
              "version_major": 2,
              "version_minor": 0,
              "model_id": "c336baa110df46f59d45f4db3d4ecedb"
            }
          },
          "metadata": {}
        },
        {
          "output_type": "stream",
          "name": "stderr",
          "text": [
            "Asking to truncate to max_length but no maximum length is provided and the model has no predefined maximum length. Default to no truncation.\n"
          ]
        },
        {
          "output_type": "display_data",
          "data": {
            "text/plain": [
              "Map:   0%|          | 0/300 [00:00<?, ? examples/s]"
            ],
            "application/vnd.jupyter.widget-view+json": {
              "version_major": 2,
              "version_minor": 0,
              "model_id": "1fa5846e68474355b10d604b739ce95e"
            }
          },
          "metadata": {}
        }
      ]
    },
    {
      "cell_type": "markdown",
      "source": [
        "#### Training\n",
        "\n",
        "To train a transformer model you can rely on the **Trainer** class of Huggingface (https://huggingface.co/docs/transformers/main_classes/trainer).\n",
        "\n",
        "The Trainer class allows you to save many lines of code, and makes your code much more readable.\n",
        "\n",
        "To initialize the Trainer class you have to define a **TrainerArguments** object."
      ],
      "metadata": {
        "id": "4hymPibt4TMc"
      }
    },
    {
      "cell_type": "code",
      "source": [
        "training_args = TrainingArguments(\n",
        "    output_dir=\"training_dir\",                    # output directory [Mandatory]\n",
        "    num_train_epochs=epochs,                      # total number of training epochs\n",
        "    per_device_train_batch_size=batch_size,       # batch size per device during training\n",
        "    warmup_steps=500,                             # number of warmup steps for learning rate scheduler\n",
        "    weight_decay=weight_decay,                    # strength of weight decay\n",
        "    save_strategy=\"no\",\n",
        "    learning_rate=learning_rate,                  # learning rate\n",
        "    report_to=\"none\",\n",
        "    logging_dir=\"sentiment_analysis_logs\",         # use it later to get the training curves\n",
        "    load_best_model_at_end=True,\n",
        "    metric_for_best_model=\"f1\"\n",
        "    )"
      ],
      "metadata": {
        "id": "hFJHFylW4TMd"
      },
      "execution_count": 66,
      "outputs": []
    },
    {
      "cell_type": "code",
      "source": [
        "trainer = Trainer(\n",
        "   model=model_21,\n",
        "   args=training_args,\n",
        "   train_dataset=tokenized_datasets['train'],\n",
        "   eval_dataset=tokenized_datasets[\"dev\"],\n",
        "   tokenizer=tokenizer,\n",
        "   data_collator=data_collator,\n",
        "   compute_metrics=compute_metrics,\n",
        ")"
      ],
      "metadata": {
        "id": "4ROBpS8b4TMe"
      },
      "execution_count": 67,
      "outputs": []
    },
    {
      "cell_type": "code",
      "source": [
        "# Let's Train ...\n",
        "trainer.train()"
      ],
      "metadata": {
        "colab": {
          "base_uri": "https://localhost:8080/",
          "height": 158
        },
        "outputId": "583812c3-1e90-4021-f716-f7a08f77f3c5",
        "id": "VEE8Om4S4TMe"
      },
      "execution_count": 68,
      "outputs": [
        {
          "output_type": "display_data",
          "data": {
            "text/plain": [
              "<IPython.core.display.HTML object>"
            ],
            "text/html": [
              "\n",
              "    <div>\n",
              "      \n",
              "      <progress value='782' max='782' style='width:300px; height:20px; vertical-align: middle;'></progress>\n",
              "      [782/782 05:08, Epoch 1/1]\n",
              "    </div>\n",
              "    <table border=\"1\" class=\"dataframe\">\n",
              "  <thead>\n",
              " <tr style=\"text-align: left;\">\n",
              "      <th>Step</th>\n",
              "      <th>Training Loss</th>\n",
              "    </tr>\n",
              "  </thead>\n",
              "  <tbody>\n",
              "    <tr>\n",
              "      <td>500</td>\n",
              "      <td>1.027800</td>\n",
              "    </tr>\n",
              "  </tbody>\n",
              "</table><p>"
            ]
          },
          "metadata": {}
        },
        {
          "output_type": "execute_result",
          "data": {
            "text/plain": [
              "TrainOutput(global_step=782, training_loss=0.9598048568686561, metrics={'train_runtime': 309.1531, 'train_samples_per_second': 20.22, 'train_steps_per_second': 2.529, 'total_flos': 589194996227586.0, 'train_loss': 0.9598048568686561, 'epoch': 1.0})"
            ]
          },
          "metadata": {},
          "execution_count": 68
        }
      ]
    },
    {
      "cell_type": "code",
      "source": [
        "# Evaluate the model ...\n",
        "trainer.evaluate()"
      ],
      "metadata": {
        "colab": {
          "base_uri": "https://localhost:8080/",
          "height": 245
        },
        "outputId": "bb6d68d5-9190-4248-d11f-13b303020b6e",
        "id": "DntsFLAT4TMf"
      },
      "execution_count": 69,
      "outputs": [
        {
          "output_type": "display_data",
          "data": {
            "text/plain": [
              "<IPython.core.display.HTML object>"
            ],
            "text/html": [
              "\n",
              "    <div>\n",
              "      \n",
              "      <progress value='38' max='38' style='width:300px; height:20px; vertical-align: middle;'></progress>\n",
              "      [38/38 00:04]\n",
              "    </div>\n",
              "    "
            ]
          },
          "metadata": {}
        },
        {
          "output_type": "execute_result",
          "data": {
            "text/plain": [
              "{'eval_loss': 0.8048135638237,\n",
              " 'eval_accuracy': 0.57,\n",
              " 'eval_f1': 0.4820355584738584,\n",
              " 'eval_precision': 0.5307541432344921,\n",
              " 'eval_recall': 0.57,\n",
              " 'eval_cm': array([[ 67,   2,   7],\n",
              "        [ 84,   3,  20],\n",
              "        [ 12,   4, 101]]),\n",
              " 'eval_runtime': 7.4497,\n",
              " 'eval_samples_per_second': 40.27,\n",
              " 'eval_steps_per_second': 5.101,\n",
              " 'epoch': 1.0}"
            ]
          },
          "metadata": {},
          "execution_count": 69
        }
      ]
    },
    {
      "cell_type": "markdown",
      "source": [
        "#### Inference"
      ],
      "metadata": {
        "id": "jUlq_eki4TMh"
      }
    },
    {
      "cell_type": "code",
      "source": [
        "def predict_culture(text, model, tokenizer, device, max_length=128):\n",
        "    model.eval()\n",
        "    encoding = tokenizer(text, return_tensors='pt', max_length=max_length, padding='max_length', truncation=True)\n",
        "    input_ids = encoding['input_ids'].to(device)\n",
        "    attention_mask = encoding['attention_mask'].to(device)\n",
        "    with torch.no_grad():\n",
        "        outputs = model(input_ids=input_ids, attention_mask=attention_mask)\n",
        "        _, preds = torch.max(outputs.logits, dim=1)\n",
        "    return (\n",
        "        \"cultural exclusive\" if preds.item() == 0\n",
        "        else \"cultural representative\" if preds.item() == 1\n",
        "        else \"cultural agnostic\"\n",
        "    )"
      ],
      "metadata": {
        "id": "LRnNwUVS4TMj"
      },
      "execution_count": 70,
      "outputs": []
    },
    {
      "cell_type": "code",
      "source": [
        "predict_culture(\"President of America\", model_21, tokenizer, \"cuda:0\")"
      ],
      "metadata": {
        "colab": {
          "base_uri": "https://localhost:8080/",
          "height": 35
        },
        "outputId": "ccd22d0d-652a-4958-fcfb-160071f39ba0",
        "id": "ZOaQolLu4TMk"
      },
      "execution_count": 71,
      "outputs": [
        {
          "output_type": "execute_result",
          "data": {
            "text/plain": [
              "'cultural agnostic'"
            ],
            "application/vnd.google.colaboratory.intrinsic+json": {
              "type": "string"
            }
          },
          "metadata": {},
          "execution_count": 71
        }
      ]
    },
    {
      "cell_type": "code",
      "source": [
        "predict_culture(\"President of Paraguay\", model_21, tokenizer, \"cuda:0\")"
      ],
      "metadata": {
        "colab": {
          "base_uri": "https://localhost:8080/",
          "height": 35
        },
        "outputId": "cf35659b-6da5-4f3a-fe6d-fb767a6b0b09",
        "id": "yXOpCzig4TMm"
      },
      "execution_count": 72,
      "outputs": [
        {
          "output_type": "execute_result",
          "data": {
            "text/plain": [
              "'cultural agnostic'"
            ],
            "application/vnd.google.colaboratory.intrinsic+json": {
              "type": "string"
            }
          },
          "metadata": {},
          "execution_count": 72
        }
      ]
    },
    {
      "cell_type": "code",
      "source": [
        "predict_culture(\"River\", model_21, tokenizer, \"cuda:0\")"
      ],
      "metadata": {
        "colab": {
          "base_uri": "https://localhost:8080/",
          "height": 35
        },
        "outputId": "fc7198e1-6979-456b-a731-42a267053f04",
        "id": "_eFQARNn4TMn"
      },
      "execution_count": 73,
      "outputs": [
        {
          "output_type": "execute_result",
          "data": {
            "text/plain": [
              "'cultural agnostic'"
            ],
            "application/vnd.google.colaboratory.intrinsic+json": {
              "type": "string"
            }
          },
          "metadata": {},
          "execution_count": 73
        }
      ]
    },
    {
      "cell_type": "code",
      "source": [
        "predict_culture(\"Sleep\", model_21, tokenizer, \"cuda:0\")"
      ],
      "metadata": {
        "colab": {
          "base_uri": "https://localhost:8080/",
          "height": 35
        },
        "outputId": "0942edf0-3038-4524-dd6f-34db73bb2a3e",
        "id": "ILjUoL1h4TMn"
      },
      "execution_count": 74,
      "outputs": [
        {
          "output_type": "execute_result",
          "data": {
            "text/plain": [
              "'cultural agnostic'"
            ],
            "application/vnd.google.colaboratory.intrinsic+json": {
              "type": "string"
            }
          },
          "metadata": {},
          "execution_count": 74
        }
      ]
    },
    {
      "cell_type": "code",
      "source": [
        "predict_culture(\"Pizza\", model_21, tokenizer, \"cuda:0\")"
      ],
      "metadata": {
        "colab": {
          "base_uri": "https://localhost:8080/",
          "height": 35
        },
        "outputId": "9a0fd5f5-3731-424d-dc0b-8f7a653fb861",
        "id": "NPUkmNeP4TMo"
      },
      "execution_count": 75,
      "outputs": [
        {
          "output_type": "execute_result",
          "data": {
            "text/plain": [
              "'cultural agnostic'"
            ],
            "application/vnd.google.colaboratory.intrinsic+json": {
              "type": "string"
            }
          },
          "metadata": {},
          "execution_count": 75
        }
      ]
    },
    {
      "cell_type": "code",
      "source": [
        "predict_culture(\"Caponata\", model_21, tokenizer, \"cuda:0\")"
      ],
      "metadata": {
        "colab": {
          "base_uri": "https://localhost:8080/",
          "height": 35
        },
        "outputId": "d25b1a56-3f44-4981-a0e3-a0ced3bb83a3",
        "id": "1Wa5j8t-4TMo"
      },
      "execution_count": 76,
      "outputs": [
        {
          "output_type": "execute_result",
          "data": {
            "text/plain": [
              "'cultural agnostic'"
            ],
            "application/vnd.google.colaboratory.intrinsic+json": {
              "type": "string"
            }
          },
          "metadata": {},
          "execution_count": 76
        }
      ]
    },
    {
      "cell_type": "code",
      "source": [
        "predict_culture(\"Bread\", model_21, tokenizer, \"cuda:0\")"
      ],
      "metadata": {
        "colab": {
          "base_uri": "https://localhost:8080/",
          "height": 35
        },
        "outputId": "5f461715-79ba-4f93-8b23-89974f09b1f2",
        "id": "glgm0E6i4TMp"
      },
      "execution_count": 77,
      "outputs": [
        {
          "output_type": "execute_result",
          "data": {
            "text/plain": [
              "'cultural agnostic'"
            ],
            "application/vnd.google.colaboratory.intrinsic+json": {
              "type": "string"
            }
          },
          "metadata": {},
          "execution_count": 77
        }
      ]
    },
    {
      "cell_type": "markdown",
      "source": [
        "#### Evaluation"
      ],
      "metadata": {
        "id": "4HJLerxE4TMp"
      }
    },
    {
      "cell_type": "code",
      "source": [
        "# Apply the model on the dev set\n",
        "dev_df['predict_label_transformer'] = evaluate_trainer(trainer,tokenized_datasets['dev'])\n",
        "\n",
        "# Transform the labels into integers\n",
        "dev_df['predict_label_transformer']\n",
        "# Visualisation\n"
      ],
      "metadata": {
        "colab": {
          "base_uri": "https://localhost:8080/",
          "height": 458
        },
        "outputId": "e7e61edb-fc45-455e-ed08-8242bac2f972",
        "id": "KQWF8aaZ4TMq"
      },
      "execution_count": 78,
      "outputs": [
        {
          "output_type": "display_data",
          "data": {
            "text/plain": [
              "<IPython.core.display.HTML object>"
            ],
            "text/html": []
          },
          "metadata": {}
        },
        {
          "output_type": "execute_result",
          "data": {
            "text/plain": [
              "0      0\n",
              "1      0\n",
              "2      0\n",
              "3      0\n",
              "4      0\n",
              "      ..\n",
              "295    2\n",
              "296    0\n",
              "297    0\n",
              "298    0\n",
              "299    0\n",
              "Name: predict_label_transformer, Length: 300, dtype: int64"
            ],
            "text/html": [
              "<div>\n",
              "<style scoped>\n",
              "    .dataframe tbody tr th:only-of-type {\n",
              "        vertical-align: middle;\n",
              "    }\n",
              "\n",
              "    .dataframe tbody tr th {\n",
              "        vertical-align: top;\n",
              "    }\n",
              "\n",
              "    .dataframe thead th {\n",
              "        text-align: right;\n",
              "    }\n",
              "</style>\n",
              "<table border=\"1\" class=\"dataframe\">\n",
              "  <thead>\n",
              "    <tr style=\"text-align: right;\">\n",
              "      <th></th>\n",
              "      <th>predict_label_transformer</th>\n",
              "    </tr>\n",
              "  </thead>\n",
              "  <tbody>\n",
              "    <tr>\n",
              "      <th>0</th>\n",
              "      <td>0</td>\n",
              "    </tr>\n",
              "    <tr>\n",
              "      <th>1</th>\n",
              "      <td>0</td>\n",
              "    </tr>\n",
              "    <tr>\n",
              "      <th>2</th>\n",
              "      <td>0</td>\n",
              "    </tr>\n",
              "    <tr>\n",
              "      <th>3</th>\n",
              "      <td>0</td>\n",
              "    </tr>\n",
              "    <tr>\n",
              "      <th>4</th>\n",
              "      <td>0</td>\n",
              "    </tr>\n",
              "    <tr>\n",
              "      <th>...</th>\n",
              "      <td>...</td>\n",
              "    </tr>\n",
              "    <tr>\n",
              "      <th>295</th>\n",
              "      <td>2</td>\n",
              "    </tr>\n",
              "    <tr>\n",
              "      <th>296</th>\n",
              "      <td>0</td>\n",
              "    </tr>\n",
              "    <tr>\n",
              "      <th>297</th>\n",
              "      <td>0</td>\n",
              "    </tr>\n",
              "    <tr>\n",
              "      <th>298</th>\n",
              "      <td>0</td>\n",
              "    </tr>\n",
              "    <tr>\n",
              "      <th>299</th>\n",
              "      <td>0</td>\n",
              "    </tr>\n",
              "  </tbody>\n",
              "</table>\n",
              "<p>300 rows × 1 columns</p>\n",
              "</div><br><label><b>dtype:</b> int64</label>"
            ]
          },
          "metadata": {},
          "execution_count": 78
        }
      ]
    },
    {
      "cell_type": "code",
      "source": [
        "# Extract the true and predicted labels\n",
        "y_true = dev_df['label']\n",
        "y_pred = dev_df['predict_label_transformer']\n",
        "\n",
        "# Visualisation of the evaluation metrics\n",
        "print(\"Accuracy:\", accuracy_score(y_true, y_pred))\n",
        "print(\"Precision (weighted):\", precision_score(y_true, y_pred, average=\"weighted\"))\n",
        "print(\"Recall (weighted):\", recall_score(y_true, y_pred, average=\"weighted\"))\n",
        "print(\"F1-score (weighted):\", f1_score(y_true, y_pred, average=\"weighted\"))\n",
        "\n",
        "print(\"\\n Classification Report:\")\n",
        "print(classification_report(y_true, y_pred, target_names=[\"exclusive\", \"representative\", \"agnostic\"]))\n",
        "\n",
        "cm = confusion_matrix(y_true, y_pred)\n",
        "disp = ConfusionMatrixDisplay(confusion_matrix=cm, display_labels=[\"exclusive\", \"representative\", \"agnostic\"])\n",
        "\n",
        "plt.figure(figsize=(6, 6))\n",
        "disp.plot(cmap=plt.cm.Blues, values_format='d')\n",
        "plt.title(\"Confusion matrix\")\n",
        "plt.grid(False)\n",
        "plt.show()"
      ],
      "metadata": {
        "colab": {
          "base_uri": "https://localhost:8080/",
          "height": 767
        },
        "outputId": "0e79a392-aa77-4748-cecd-7e7703546ca8",
        "id": "xQXVeh1w4TMq"
      },
      "execution_count": 79,
      "outputs": [
        {
          "output_type": "stream",
          "name": "stdout",
          "text": [
            "Accuracy: 0.57\n",
            "Precision (weighted): 0.5307541432344921\n",
            "Recall (weighted): 0.57\n",
            "F1-score (weighted): 0.4820355584738584\n",
            "\n",
            " Classification Report:\n",
            "                precision    recall  f1-score   support\n",
            "\n",
            "     exclusive       0.41      0.88      0.56        76\n",
            "representative       0.33      0.03      0.05       107\n",
            "      agnostic       0.79      0.86      0.82       117\n",
            "\n",
            "      accuracy                           0.57       300\n",
            "     macro avg       0.51      0.59      0.48       300\n",
            "  weighted avg       0.53      0.57      0.48       300\n",
            "\n"
          ]
        },
        {
          "output_type": "display_data",
          "data": {
            "text/plain": [
              "<Figure size 600x600 with 0 Axes>"
            ]
          },
          "metadata": {}
        },
        {
          "output_type": "display_data",
          "data": {
            "text/plain": [
              "<Figure size 640x480 with 2 Axes>"
            ],
            "image/png": "[encoded data removed]"
          },
          "metadata": {}
        }
      ]
    },
    {
      "cell_type": "markdown",
      "source": [
        "## Model 3 : RoBERTa"
      ],
      "metadata": {
        "id": "N2IMC5Z05t55"
      }
    },
    {
      "cell_type": "code",
      "source": [
        "### Model Parameters\n",
        "# we will use with Distil-BERT\n",
        "language_model_name = \"roberta-base\"\n",
        "\n",
        "### Training Argurments\n",
        "\n",
        "# this GPU should be enough for this task to handle 32 samples per batch\n",
        "batch_size = 32\n",
        "\n",
        "# optim\n",
        "learning_rate = 1e-4\n",
        "weight_decay = 0.001 # we could use e.g. 0.01 in case of very low and very high amount of data for regularization\n",
        "\n",
        "# training\n",
        "epochs = 1\n",
        "device = \"cuda\" if torch.cuda.is_available() else \"cpu\"\n",
        "\n",
        "\n",
        "set_seed(42)"
      ],
      "metadata": {
        "id": "4rrQVjBp51u_"
      },
      "execution_count": 81,
      "outputs": []
    },
    {
      "cell_type": "code",
      "source": [
        "## Initialize the model\n",
        "model_31 = AutoModelForSequenceClassification.from_pretrained(language_model_name,\n",
        "                                                                   ignore_mismatched_sizes=True,\n",
        "                                                                   output_attentions=False, output_hidden_states=False,\n",
        "                                                                   num_labels=3) # number of the classes\n",
        "\n",
        "# Load the pretrained tokenizer\n",
        "tokenizer = AutoTokenizer.from_pretrained(language_model_name)\n",
        "\n",
        "# Set the data collator\n",
        "# Function used to prepare the data before the training.\n",
        "# the data collator function used here apply a zero-padding on the elements in the batch\n",
        "# the padding is needed to have a \"full\" form of the batches\n",
        "data_collator = DataCollatorWithPadding(tokenizer=tokenizer)\n",
        "\n",
        "def tokenize_function(examples):\n",
        "    inputs = [f\"{name} - {desc}\" for name, desc in zip(examples[\"name\"], examples[\"description\"])]\n",
        "    return tokenizer(inputs, padding=True, truncation=True)"
      ],
      "metadata": {
        "colab": {
          "base_uri": "https://localhost:8080/",
          "height": 298,
          "referenced_widgets": [
            "e6e9ac2aded34f719653184203d3d3b3",
            "9ae365043d5a4602b039267288b5fdfe",
            "9bb1cc03833b4eecbbbb71cb727ec7ad",
            "62ccdcc9c7cb4dcbabb4a389b069d0a8",
            "176401482907404588d6eeeb4f0e0fb8",
            "c68294e9f58f4917b18a11e9f72e4559",
            "a9b6e2a3c27f4a02a4ff22d5a2995231",
            "a7ca2aa2bf5d4832a6b4fb649ebc7cff",
            "7c2a5c9243024dac8e3de14f0b77ca8e",
            "dfd8c8b534214cada34c6d1d9d23bb50",
            "04f0156118fe4608bcb271a8240bd31c",
            "43f6288ce7094f76a0dbf846b5f75ce7",
            "891300515c304071b1ac073b305d7278",
            "ad3fa93a926a4bd6a60ae138a873c4a8",
            "fe87d8ef87284719bd8833f718a3a48a",
            "689d23d81f2e4b47b297c7eca4709345",
            "26a85f782bef4b0eb8ff6d2b0789e4b7",
            "15f68f9d95de4d0c9a043d5a886fccba",
            "45f0927cb9884b76862d3356714c4985",
            "4ab86316a8b1440c8ce36018c61ee215",
            "7177667198af4098b9c67e5fa61aa317",
            "01c017af94674ea1a4dbf3eaaade02fb",
            "e69fae79363147ea85733188bafb9feb",
            "4b5057273f974b7eb99f3f2890224964",
            "ac72740d4ed44afc9e141464e7187c79",
            "557a9bf9d10d4465aa05f4dbe4069f52",
            "0a716d0db41a442b91797a8450c9cf4b",
            "4d4d50cbb36a44f9a62a1c734da96204",
            "36f6ebf94782494a95b3468bf2d83e84",
            "f7f3da38873245078f40440f14c58d3f",
            "771795889c2d4684a5e79893fc3ce7de",
            "618bad96ab834e7ba1d63034cb990f37",
            "44dec2acf75f48c19e4a8f07b5ec1445",
            "06ac7b4fa7514a7cbf5b1a104173d645",
            "d7f3e13f17ae45709357e546bfa5e1f4",
            "a0914bd7c634463b8ef0d450b5d73de5",
            "e14e0dc89d95494cb0968d6ccf78a723",
            "c81d89458baf4d4b9f05920381bdf0db",
            "c4da069240e742f7ba98e01e94912ff3",
            "791f706eb38e402ebd51b2473e8da314",
            "00ab0f730ef940ffb63010475b4d5e3b",
            "57c1366c49154cb7a3a792baa7e0ae8c",
            "ea0399eedb9140eb82de761fa7b8bb75",
            "a7debeefdcde49ffb67a596b97e152ac",
            "58349741cf5d4530afc5d1cde1c12829",
            "272c21863af94582971bc1ebac93e27f",
            "b78d8b4beaf049ee84382d0c7975ae27",
            "36de8f1aaa864763bbe68203c9fa0112",
            "1faf188c7c4a4f7eb394d16a92a50812",
            "dc815345773f4761a3e7e3c07f115095",
            "f7d1b84d4501472a903d1e5bb714ae00",
            "4cea0b67fc10454d9a589aa6ce8a8332",
            "0b9f01e1c2e94979a1476de7c87cbb7d",
            "04b70311a33f4b7ea0a70e807fe9e709",
            "ddd5d684e47e4c43a1cb11e14f73e6f5",
            "460388128cc84ac7878ef51a6731629a",
            "3aa131245d8045559d1a5da44df4fc8a",
            "a2c2e6b05e064dafbd6ecc45c2d8e4dc",
            "fc84455f16e94505b745a63a3727cd29",
            "3d36f3190ead4736a1bf8c053409c6b9",
            "07d4c025829a4cddb08aff63191fc508",
            "1f921b24b82a488e878109167a21cffd",
            "dd0c011835224ffeb600c81e92e116cc",
            "babcba9e17bd4680a076e9c90b0ea29c",
            "889e6ae15bf84321a56e91387f7798ce",
            "2d202b82b33c47889c6dbb1b900274c3"
          ]
        },
        "outputId": "1febf155-1846-4037-f272-8f82593c1340",
        "id": "4BKsVVLh51vB"
      },
      "execution_count": 82,
      "outputs": [
        {
          "output_type": "display_data",
          "data": {
            "text/plain": [
              "config.json:   0%|          | 0.00/481 [00:00<?, ?B/s]"
            ],
            "application/vnd.jupyter.widget-view+json": {
              "version_major": 2,
              "version_minor": 0,
              "model_id": "e6e9ac2aded34f719653184203d3d3b3"
            }
          },
          "metadata": {}
        },
        {
          "output_type": "stream",
          "name": "stderr",
          "text": [
            "Xet Storage is enabled for this repo, but the 'hf_xet' package is not installed. Falling back to regular HTTP download. For better performance, install the package with: `pip install huggingface_hub[hf_xet]` or `pip install hf_xet`\n",
            "WARNING:huggingface_hub.file_download:Xet Storage is enabled for this repo, but the 'hf_xet' package is not installed. Falling back to regular HTTP download. For better performance, install the package with: `pip install huggingface_hub[hf_xet]` or `pip install hf_xet`\n"
          ]
        },
        {
          "output_type": "display_data",
          "data": {
            "text/plain": [
              "model.safetensors:   0%|          | 0.00/499M [00:00<?, ?B/s]"
            ],
            "application/vnd.jupyter.widget-view+json": {
              "version_major": 2,
              "version_minor": 0,
              "model_id": "43f6288ce7094f76a0dbf846b5f75ce7"
            }
          },
          "metadata": {}
        },
        {
          "output_type": "stream",
          "name": "stderr",
          "text": [
            "Some weights of RobertaForSequenceClassification were not initialized from the model checkpoint at roberta-base and are newly initialized: ['classifier.dense.bias', 'classifier.dense.weight', 'classifier.out_proj.bias', 'classifier.out_proj.weight']\n",
            "You should probably TRAIN this model on a down-stream task to be able to use it for predictions and inference.\n"
          ]
        },
        {
          "output_type": "display_data",
          "data": {
            "text/plain": [
              "tokenizer_config.json:   0%|          | 0.00/25.0 [00:00<?, ?B/s]"
            ],
            "application/vnd.jupyter.widget-view+json": {
              "version_major": 2,
              "version_minor": 0,
              "model_id": "e69fae79363147ea85733188bafb9feb"
            }
          },
          "metadata": {}
        },
        {
          "output_type": "display_data",
          "data": {
            "text/plain": [
              "vocab.json:   0%|          | 0.00/899k [00:00<?, ?B/s]"
            ],
            "application/vnd.jupyter.widget-view+json": {
              "version_major": 2,
              "version_minor": 0,
              "model_id": "06ac7b4fa7514a7cbf5b1a104173d645"
            }
          },
          "metadata": {}
        },
        {
          "output_type": "display_data",
          "data": {
            "text/plain": [
              "merges.txt:   0%|          | 0.00/456k [00:00<?, ?B/s]"
            ],
            "application/vnd.jupyter.widget-view+json": {
              "version_major": 2,
              "version_minor": 0,
              "model_id": "58349741cf5d4530afc5d1cde1c12829"
            }
          },
          "metadata": {}
        },
        {
          "output_type": "display_data",
          "data": {
            "text/plain": [
              "tokenizer.json:   0%|          | 0.00/1.36M [00:00<?, ?B/s]"
            ],
            "application/vnd.jupyter.widget-view+json": {
              "version_major": 2,
              "version_minor": 0,
              "model_id": "460388128cc84ac7878ef51a6731629a"
            }
          },
          "metadata": {}
        }
      ]
    },
    {
      "cell_type": "code",
      "source": [
        "# Tokenize the dataset ...\n",
        "print(\"Tokenize the dataset ...\")\n",
        "tokenized_datasets = datasets.map(tokenize_function, batched=True)"
      ],
      "metadata": {
        "colab": {
          "base_uri": "https://localhost:8080/",
          "height": 371,
          "referenced_widgets": [
            "669dfa9854ae45a79dd95c761b66fd4b",
            "2d6616b71b244ccd86742951c80ac62c",
            "87474e1938bb4110a7402fd40562848e",
            "9ca8d29a81c14d128df0daf12002b023",
            "ab681013de354ae0bff0a2cdc4370fda",
            "774a47ceac484c70be9cc1a0c8cfef3a",
            "16c0893d2f194912823f0645f9769445",
            "30271d5f7f914bcd85be379e53abffe0",
            "69760211bce5428e9358c2f18f2d7c96",
            "19c418c3c7f04f38a07e0e374238d32b",
            "406b85ab27c149feae6d496483e30127"
          ]
        },
        "outputId": "db028789-ec5c-4b49-ec66-ecf4cf218984",
        "id": "itO0d9qE51vC"
      },
      "execution_count": 83,
      "outputs": [
        {
          "output_type": "stream",
          "name": "stdout",
          "text": [
            "Tokenize the dataset ...\n"
          ]
        },
        {
          "output_type": "display_data",
          "data": {
            "text/plain": [
              "Map:   0%|          | 0/6251 [00:00<?, ? examples/s]"
            ],
            "application/vnd.jupyter.widget-view+json": {
              "version_major": 2,
              "version_minor": 0,
              "model_id": "669dfa9854ae45a79dd95c761b66fd4b"
            }
          },
          "metadata": {}
        },
        {
          "output_type": "error",
          "ename": "KeyError",
          "evalue": "'description'",
          "traceback": [
            "\u001b[0;31m---------------------------------------------------------------------------\u001b[0m",
            "\u001b[0;31mKeyError\u001b[0m                                  Traceback (most recent call last)",
            "\u001b[0;32m<ipython-input-83-45e250678f28>\u001b[0m in \u001b[0;36m<cell line: 0>\u001b[0;34m()\u001b[0m\n\u001b[1;32m      1\u001b[0m \u001b[0;31m# Tokenize the dataset ...\u001b[0m\u001b[0;34m\u001b[0m\u001b[0;34m\u001b[0m\u001b[0m\n\u001b[1;32m      2\u001b[0m \u001b[0mprint\u001b[0m\u001b[0;34m(\u001b[0m\u001b[0;34m\"Tokenize the dataset ...\"\u001b[0m\u001b[0;34m)\u001b[0m\u001b[0;34m\u001b[0m\u001b[0;34m\u001b[0m\u001b[0m\n\u001b[0;32m----> 3\u001b[0;31m \u001b[0mtokenized_datasets\u001b[0m \u001b[0;34m=\u001b[0m \u001b[0mdatasets\u001b[0m\u001b[0;34m.\u001b[0m\u001b[0mmap\u001b[0m\u001b[0;34m(\u001b[0m\u001b[0mtokenize_function\u001b[0m\u001b[0;34m,\u001b[0m \u001b[0mbatched\u001b[0m\u001b[0;34m=\u001b[0m\u001b[0;32mTrue\u001b[0m\u001b[0;34m)\u001b[0m\u001b[0;34m\u001b[0m\u001b[0;34m\u001b[0m\u001b[0m\n\u001b[0m",
            "\u001b[0;32m/usr/local/lib/python3.11/dist-packages/datasets/dataset_dict.py\u001b[0m in \u001b[0;36mmap\u001b[0;34m(self, function, with_indices, with_rank, with_split, input_columns, batched, batch_size, drop_last_batch, remove_columns, keep_in_memory, load_from_cache_file, cache_file_names, writer_batch_size, features, disable_nullable, fn_kwargs, num_proc, desc)\u001b[0m\n\u001b[1;32m    939\u001b[0m                 \u001b[0mfunction\u001b[0m \u001b[0;34m=\u001b[0m \u001b[0mbind\u001b[0m\u001b[0;34m(\u001b[0m\u001b[0mfunction\u001b[0m\u001b[0;34m,\u001b[0m \u001b[0msplit\u001b[0m\u001b[0;34m)\u001b[0m\u001b[0;34m\u001b[0m\u001b[0;34m\u001b[0m\u001b[0m\n\u001b[1;32m    940\u001b[0m \u001b[0;34m\u001b[0m\u001b[0m\n\u001b[0;32m--> 941\u001b[0;31m             dataset_dict[split] = dataset.map(\n\u001b[0m\u001b[1;32m    942\u001b[0m                 \u001b[0mfunction\u001b[0m\u001b[0;34m=\u001b[0m\u001b[0mfunction\u001b[0m\u001b[0;34m,\u001b[0m\u001b[0;34m\u001b[0m\u001b[0;34m\u001b[0m\u001b[0m\n\u001b[1;32m    943\u001b[0m                 \u001b[0mwith_indices\u001b[0m\u001b[0;34m=\u001b[0m\u001b[0mwith_indices\u001b[0m\u001b[0;34m,\u001b[0m\u001b[0;34m\u001b[0m\u001b[0;34m\u001b[0m\u001b[0m\n",
            "\u001b[0;32m/usr/local/lib/python3.11/dist-packages/datasets/arrow_dataset.py\u001b[0m in \u001b[0;36mwrapper\u001b[0;34m(*args, **kwargs)\u001b[0m\n\u001b[1;32m    555\u001b[0m         }\n\u001b[1;32m    556\u001b[0m         \u001b[0;31m# apply actual function\u001b[0m\u001b[0;34m\u001b[0m\u001b[0;34m\u001b[0m\u001b[0m\n\u001b[0;32m--> 557\u001b[0;31m         \u001b[0mout\u001b[0m\u001b[0;34m:\u001b[0m \u001b[0mUnion\u001b[0m\u001b[0;34m[\u001b[0m\u001b[0;34m\"Dataset\"\u001b[0m\u001b[0;34m,\u001b[0m \u001b[0;34m\"DatasetDict\"\u001b[0m\u001b[0;34m]\u001b[0m \u001b[0;34m=\u001b[0m \u001b[0mfunc\u001b[0m\u001b[0;34m(\u001b[0m\u001b[0mself\u001b[0m\u001b[0;34m,\u001b[0m \u001b[0;34m*\u001b[0m\u001b[0margs\u001b[0m\u001b[0;34m,\u001b[0m \u001b[0;34m**\u001b[0m\u001b[0mkwargs\u001b[0m\u001b[0;34m)\u001b[0m\u001b[0;34m\u001b[0m\u001b[0;34m\u001b[0m\u001b[0m\n\u001b[0m\u001b[1;32m    558\u001b[0m         \u001b[0mdatasets\u001b[0m\u001b[0;34m:\u001b[0m \u001b[0mlist\u001b[0m\u001b[0;34m[\u001b[0m\u001b[0;34m\"Dataset\"\u001b[0m\u001b[0;34m]\u001b[0m \u001b[0;34m=\u001b[0m \u001b[0mlist\u001b[0m\u001b[0;34m(\u001b[0m\u001b[0mout\u001b[0m\u001b[0;34m.\u001b[0m\u001b[0mvalues\u001b[0m\u001b[0;34m(\u001b[0m\u001b[0;34m)\u001b[0m\u001b[0;34m)\u001b[0m \u001b[0;32mif\u001b[0m \u001b[0misinstance\u001b[0m\u001b[0;34m(\u001b[0m\u001b[0mout\u001b[0m\u001b[0;34m,\u001b[0m \u001b[0mdict\u001b[0m\u001b[0;34m)\u001b[0m \u001b[0;32melse\u001b[0m \u001b[0;34m[\u001b[0m\u001b[0mout\u001b[0m\u001b[0;34m]\u001b[0m\u001b[0;34m\u001b[0m\u001b[0;34m\u001b[0m\u001b[0m\n\u001b[1;32m    559\u001b[0m         \u001b[0;31m# re-apply format to the output\u001b[0m\u001b[0;34m\u001b[0m\u001b[0;34m\u001b[0m\u001b[0m\n",
            "\u001b[0;32m/usr/local/lib/python3.11/dist-packages/datasets/arrow_dataset.py\u001b[0m in \u001b[0;36mmap\u001b[0;34m(self, function, with_indices, with_rank, input_columns, batched, batch_size, drop_last_batch, remove_columns, keep_in_memory, load_from_cache_file, cache_file_name, writer_batch_size, features, disable_nullable, fn_kwargs, num_proc, suffix_template, new_fingerprint, desc)\u001b[0m\n\u001b[1;32m   3072\u001b[0m                     \u001b[0mdesc\u001b[0m\u001b[0;34m=\u001b[0m\u001b[0mdesc\u001b[0m \u001b[0;32mor\u001b[0m \u001b[0;34m\"Map\"\u001b[0m\u001b[0;34m,\u001b[0m\u001b[0;34m\u001b[0m\u001b[0;34m\u001b[0m\u001b[0m\n\u001b[1;32m   3073\u001b[0m                 ) as pbar:\n\u001b[0;32m-> 3074\u001b[0;31m                     \u001b[0;32mfor\u001b[0m \u001b[0mrank\u001b[0m\u001b[0;34m,\u001b[0m \u001b[0mdone\u001b[0m\u001b[0;34m,\u001b[0m \u001b[0mcontent\u001b[0m \u001b[0;32min\u001b[0m \u001b[0mDataset\u001b[0m\u001b[0;34m.\u001b[0m\u001b[0m_map_single\u001b[0m\u001b[0;34m(\u001b[0m\u001b[0;34m**\u001b[0m\u001b[0mdataset_kwargs\u001b[0m\u001b[0;34m)\u001b[0m\u001b[0;34m:\u001b[0m\u001b[0;34m\u001b[0m\u001b[0;34m\u001b[0m\u001b[0m\n\u001b[0m\u001b[1;32m   3075\u001b[0m                         \u001b[0;32mif\u001b[0m \u001b[0mdone\u001b[0m\u001b[0;34m:\u001b[0m\u001b[0;34m\u001b[0m\u001b[0;34m\u001b[0m\u001b[0m\n\u001b[1;32m   3076\u001b[0m                             \u001b[0mshards_done\u001b[0m \u001b[0;34m+=\u001b[0m \u001b[0;36m1\u001b[0m\u001b[0;34m\u001b[0m\u001b[0;34m\u001b[0m\u001b[0m\n",
            "\u001b[0;32m/usr/local/lib/python3.11/dist-packages/datasets/arrow_dataset.py\u001b[0m in \u001b[0;36m_map_single\u001b[0;34m(shard, function, with_indices, with_rank, input_columns, batched, batch_size, drop_last_batch, remove_columns, keep_in_memory, cache_file_name, writer_batch_size, features, disable_nullable, fn_kwargs, new_fingerprint, rank, offset)\u001b[0m\n\u001b[1;32m   3514\u001b[0m                 \u001b[0;32melse\u001b[0m\u001b[0;34m:\u001b[0m\u001b[0;34m\u001b[0m\u001b[0;34m\u001b[0m\u001b[0m\n\u001b[1;32m   3515\u001b[0m                     \u001b[0m_time\u001b[0m \u001b[0;34m=\u001b[0m \u001b[0mtime\u001b[0m\u001b[0;34m.\u001b[0m\u001b[0mtime\u001b[0m\u001b[0;34m(\u001b[0m\u001b[0;34m)\u001b[0m\u001b[0;34m\u001b[0m\u001b[0;34m\u001b[0m\u001b[0m\n\u001b[0;32m-> 3516\u001b[0;31m                     \u001b[0;32mfor\u001b[0m \u001b[0mi\u001b[0m\u001b[0;34m,\u001b[0m \u001b[0mbatch\u001b[0m \u001b[0;32min\u001b[0m \u001b[0miter_outputs\u001b[0m\u001b[0;34m(\u001b[0m\u001b[0mshard_iterable\u001b[0m\u001b[0;34m)\u001b[0m\u001b[0;34m:\u001b[0m\u001b[0;34m\u001b[0m\u001b[0;34m\u001b[0m\u001b[0m\n\u001b[0m\u001b[1;32m   3517\u001b[0m                         \u001b[0mnum_examples_in_batch\u001b[0m \u001b[0;34m=\u001b[0m \u001b[0mlen\u001b[0m\u001b[0;34m(\u001b[0m\u001b[0mi\u001b[0m\u001b[0;34m)\u001b[0m\u001b[0;34m\u001b[0m\u001b[0;34m\u001b[0m\u001b[0m\n\u001b[1;32m   3518\u001b[0m                         \u001b[0;32mif\u001b[0m \u001b[0mupdate_data\u001b[0m\u001b[0;34m:\u001b[0m\u001b[0;34m\u001b[0m\u001b[0;34m\u001b[0m\u001b[0m\n",
            "\u001b[0;32m/usr/local/lib/python3.11/dist-packages/datasets/arrow_dataset.py\u001b[0m in \u001b[0;36miter_outputs\u001b[0;34m(shard_iterable)\u001b[0m\n\u001b[1;32m   3464\u001b[0m             \u001b[0;32melse\u001b[0m\u001b[0;34m:\u001b[0m\u001b[0;34m\u001b[0m\u001b[0;34m\u001b[0m\u001b[0m\n\u001b[1;32m   3465\u001b[0m                 \u001b[0;32mfor\u001b[0m \u001b[0mi\u001b[0m\u001b[0;34m,\u001b[0m \u001b[0mexample\u001b[0m \u001b[0;32min\u001b[0m \u001b[0mshard_iterable\u001b[0m\u001b[0;34m:\u001b[0m\u001b[0;34m\u001b[0m\u001b[0;34m\u001b[0m\u001b[0m\n\u001b[0;32m-> 3466\u001b[0;31m                     \u001b[0;32myield\u001b[0m \u001b[0mi\u001b[0m\u001b[0;34m,\u001b[0m \u001b[0mapply_function\u001b[0m\u001b[0;34m(\u001b[0m\u001b[0mexample\u001b[0m\u001b[0;34m,\u001b[0m \u001b[0mi\u001b[0m\u001b[0;34m,\u001b[0m \u001b[0moffset\u001b[0m\u001b[0;34m=\u001b[0m\u001b[0moffset\u001b[0m\u001b[0;34m)\u001b[0m\u001b[0;34m\u001b[0m\u001b[0;34m\u001b[0m\u001b[0m\n\u001b[0m\u001b[1;32m   3467\u001b[0m \u001b[0;34m\u001b[0m\u001b[0m\n\u001b[1;32m   3468\u001b[0m         \u001b[0mnum_examples_progress_update\u001b[0m \u001b[0;34m=\u001b[0m \u001b[0;36m0\u001b[0m\u001b[0;34m\u001b[0m\u001b[0;34m\u001b[0m\u001b[0m\n",
            "\u001b[0;32m/usr/local/lib/python3.11/dist-packages/datasets/arrow_dataset.py\u001b[0m in \u001b[0;36mapply_function\u001b[0;34m(pa_inputs, indices, offset)\u001b[0m\n\u001b[1;32m   3387\u001b[0m             \u001b[0;34m\"\"\"Utility to apply the function on a selection of columns.\"\"\"\u001b[0m\u001b[0;34m\u001b[0m\u001b[0;34m\u001b[0m\u001b[0m\n\u001b[1;32m   3388\u001b[0m             \u001b[0minputs\u001b[0m\u001b[0;34m,\u001b[0m \u001b[0mfn_args\u001b[0m\u001b[0;34m,\u001b[0m \u001b[0madditional_args\u001b[0m\u001b[0;34m,\u001b[0m \u001b[0mfn_kwargs\u001b[0m \u001b[0;34m=\u001b[0m \u001b[0mprepare_inputs\u001b[0m\u001b[0;34m(\u001b[0m\u001b[0mpa_inputs\u001b[0m\u001b[0;34m,\u001b[0m \u001b[0mindices\u001b[0m\u001b[0;34m,\u001b[0m \u001b[0moffset\u001b[0m\u001b[0;34m=\u001b[0m\u001b[0moffset\u001b[0m\u001b[0;34m)\u001b[0m\u001b[0;34m\u001b[0m\u001b[0;34m\u001b[0m\u001b[0m\n\u001b[0;32m-> 3389\u001b[0;31m             \u001b[0mprocessed_inputs\u001b[0m \u001b[0;34m=\u001b[0m \u001b[0mfunction\u001b[0m\u001b[0;34m(\u001b[0m\u001b[0;34m*\u001b[0m\u001b[0mfn_args\u001b[0m\u001b[0;34m,\u001b[0m \u001b[0;34m*\u001b[0m\u001b[0madditional_args\u001b[0m\u001b[0;34m,\u001b[0m \u001b[0;34m**\u001b[0m\u001b[0mfn_kwargs\u001b[0m\u001b[0;34m)\u001b[0m\u001b[0;34m\u001b[0m\u001b[0;34m\u001b[0m\u001b[0m\n\u001b[0m\u001b[1;32m   3390\u001b[0m             \u001b[0;32mreturn\u001b[0m \u001b[0mprepare_outputs\u001b[0m\u001b[0;34m(\u001b[0m\u001b[0mpa_inputs\u001b[0m\u001b[0;34m,\u001b[0m \u001b[0minputs\u001b[0m\u001b[0;34m,\u001b[0m \u001b[0mprocessed_inputs\u001b[0m\u001b[0;34m)\u001b[0m\u001b[0;34m\u001b[0m\u001b[0;34m\u001b[0m\u001b[0m\n\u001b[1;32m   3391\u001b[0m \u001b[0;34m\u001b[0m\u001b[0m\n",
            "\u001b[0;32m<ipython-input-82-5ed683cc26ae>\u001b[0m in \u001b[0;36mtokenize_function\u001b[0;34m(examples)\u001b[0m\n\u001b[1;32m     15\u001b[0m \u001b[0;34m\u001b[0m\u001b[0m\n\u001b[1;32m     16\u001b[0m \u001b[0;32mdef\u001b[0m \u001b[0mtokenize_function\u001b[0m\u001b[0;34m(\u001b[0m\u001b[0mexamples\u001b[0m\u001b[0;34m)\u001b[0m\u001b[0;34m:\u001b[0m\u001b[0;34m\u001b[0m\u001b[0;34m\u001b[0m\u001b[0m\n\u001b[0;32m---> 17\u001b[0;31m     \u001b[0minputs\u001b[0m \u001b[0;34m=\u001b[0m \u001b[0;34m[\u001b[0m\u001b[0;34mf\"{name} - {desc}\"\u001b[0m \u001b[0;32mfor\u001b[0m \u001b[0mname\u001b[0m\u001b[0;34m,\u001b[0m \u001b[0mdesc\u001b[0m \u001b[0;32min\u001b[0m \u001b[0mzip\u001b[0m\u001b[0;34m(\u001b[0m\u001b[0mexamples\u001b[0m\u001b[0;34m[\u001b[0m\u001b[0;34m\"name\"\u001b[0m\u001b[0;34m]\u001b[0m\u001b[0;34m,\u001b[0m \u001b[0mexamples\u001b[0m\u001b[0;34m[\u001b[0m\u001b[0;34m\"description\"\u001b[0m\u001b[0;34m]\u001b[0m\u001b[0;34m)\u001b[0m\u001b[0;34m]\u001b[0m\u001b[0;34m\u001b[0m\u001b[0;34m\u001b[0m\u001b[0m\n\u001b[0m\u001b[1;32m     18\u001b[0m     \u001b[0;32mreturn\u001b[0m \u001b[0mtokenizer\u001b[0m\u001b[0;34m(\u001b[0m\u001b[0minputs\u001b[0m\u001b[0;34m,\u001b[0m \u001b[0mpadding\u001b[0m\u001b[0;34m=\u001b[0m\u001b[0;32mTrue\u001b[0m\u001b[0;34m,\u001b[0m \u001b[0mtruncation\u001b[0m\u001b[0;34m=\u001b[0m\u001b[0;32mTrue\u001b[0m\u001b[0;34m)\u001b[0m\u001b[0;34m\u001b[0m\u001b[0;34m\u001b[0m\u001b[0m\n",
            "\u001b[0;32m/usr/local/lib/python3.11/dist-packages/datasets/formatting/formatting.py\u001b[0m in \u001b[0;36m__getitem__\u001b[0;34m(self, key)\u001b[0m\n\u001b[1;32m    278\u001b[0m \u001b[0;34m\u001b[0m\u001b[0m\n\u001b[1;32m    279\u001b[0m     \u001b[0;32mdef\u001b[0m \u001b[0m__getitem__\u001b[0m\u001b[0;34m(\u001b[0m\u001b[0mself\u001b[0m\u001b[0;34m,\u001b[0m \u001b[0mkey\u001b[0m\u001b[0;34m)\u001b[0m\u001b[0;34m:\u001b[0m\u001b[0;34m\u001b[0m\u001b[0;34m\u001b[0m\u001b[0m\n\u001b[0;32m--> 280\u001b[0;31m         \u001b[0mvalue\u001b[0m \u001b[0;34m=\u001b[0m \u001b[0mself\u001b[0m\u001b[0;34m.\u001b[0m\u001b[0mdata\u001b[0m\u001b[0;34m[\u001b[0m\u001b[0mkey\u001b[0m\u001b[0;34m]\u001b[0m\u001b[0;34m\u001b[0m\u001b[0;34m\u001b[0m\u001b[0m\n\u001b[0m\u001b[1;32m    281\u001b[0m         \u001b[0;32mif\u001b[0m \u001b[0mkey\u001b[0m \u001b[0;32min\u001b[0m \u001b[0mself\u001b[0m\u001b[0;34m.\u001b[0m\u001b[0mkeys_to_format\u001b[0m\u001b[0;34m:\u001b[0m\u001b[0;34m\u001b[0m\u001b[0;34m\u001b[0m\u001b[0m\n\u001b[1;32m    282\u001b[0m             \u001b[0mvalue\u001b[0m \u001b[0;34m=\u001b[0m \u001b[0mself\u001b[0m\u001b[0;34m.\u001b[0m\u001b[0mformat\u001b[0m\u001b[0;34m(\u001b[0m\u001b[0mkey\u001b[0m\u001b[0;34m)\u001b[0m\u001b[0;34m\u001b[0m\u001b[0;34m\u001b[0m\u001b[0m\n",
            "\u001b[0;31mKeyError\u001b[0m: 'description'"
          ]
        }
      ]
    },
    {
      "cell_type": "markdown",
      "source": [
        "#### Training\n",
        "\n",
        "To train a transformer model you can rely on the **Trainer** class of Huggingface (https://huggingface.co/docs/transformers/main_classes/trainer).\n",
        "\n",
        "The Trainer class allows you to save many lines of code, and makes your code much more readable.\n",
        "\n",
        "To initialize the Trainer class you have to define a **TrainerArguments** object."
      ],
      "metadata": {
        "id": "iCLYbFCv51vD"
      }
    },
    {
      "cell_type": "code",
      "source": [
        "training_args = TrainingArguments(\n",
        "    output_dir=\"training_dir\",                    # output directory [Mandatory]\n",
        "    num_train_epochs=epochs,                      # total number of training epochs\n",
        "    per_device_train_batch_size=batch_size,       # batch size per device during training\n",
        "    warmup_steps=500,                             # number of warmup steps for learning rate scheduler\n",
        "    weight_decay=weight_decay,                    # strength of weight decay\n",
        "    save_strategy=\"no\",\n",
        "    learning_rate=learning_rate,                  # learning rate\n",
        "    report_to=\"none\",\n",
        "    logging_dir=\"sentiment_analysis_logs\"         # use it later to get the training curves\n",
        ")"
      ],
      "metadata": {
        "id": "bJTx9VMn51vE"
      },
      "execution_count": null,
      "outputs": []
    },
    {
      "cell_type": "code",
      "source": [
        "trainer = Trainer(\n",
        "   model=model_31,\n",
        "   args=training_args,\n",
        "   train_dataset=tokenized_datasets['train'],\n",
        "   eval_dataset=tokenized_datasets[\"dev\"],\n",
        "   tokenizer=tokenizer,\n",
        "   data_collator=data_collator,\n",
        "   compute_metrics=compute_metrics,\n",
        ")"
      ],
      "metadata": {
        "id": "2XhMRek451vF"
      },
      "execution_count": null,
      "outputs": []
    },
    {
      "cell_type": "code",
      "source": [
        "# Let's Train ...\n",
        "trainer.train()"
      ],
      "metadata": {
        "colab": {
          "base_uri": "https://localhost:8080/",
          "height": 110
        },
        "outputId": "544f0dcc-e97a-4893-bf99-7da405e44849",
        "id": "jJxtVORi51vF"
      },
      "execution_count": null,
      "outputs": [
        {
          "output_type": "display_data",
          "data": {
            "text/plain": [
              "<IPython.core.display.HTML object>"
            ],
            "text/html": [
              "\n",
              "    <div>\n",
              "      \n",
              "      <progress value='196' max='196' style='width:300px; height:20px; vertical-align: middle;'></progress>\n",
              "      [196/196 01:18, Epoch 1/1]\n",
              "    </div>\n",
              "    <table border=\"1\" class=\"dataframe\">\n",
              "  <thead>\n",
              " <tr style=\"text-align: left;\">\n",
              "      <th>Step</th>\n",
              "      <th>Training Loss</th>\n",
              "    </tr>\n",
              "  </thead>\n",
              "  <tbody>\n",
              "  </tbody>\n",
              "</table><p>"
            ]
          },
          "metadata": {}
        },
        {
          "output_type": "execute_result",
          "data": {
            "text/plain": [
              "TrainOutput(global_step=196, training_loss=0.7689237010722257, metrics={'train_runtime': 79.0968, 'train_samples_per_second': 79.03, 'train_steps_per_second': 2.478, 'total_flos': 231124581738288.0, 'train_loss': 0.7689237010722257, 'epoch': 1.0})"
            ]
          },
          "metadata": {},
          "execution_count": 88
        }
      ]
    },
    {
      "cell_type": "code",
      "source": [
        "# Evaluate the model ...\n",
        "trainer.evaluate()"
      ],
      "metadata": {
        "colab": {
          "base_uri": "https://localhost:8080/",
          "height": 245
        },
        "outputId": "75b48dc2-854d-4e4e-c329-f43a097d0b3b",
        "id": "SgUUuNIN51vG"
      },
      "execution_count": null,
      "outputs": [
        {
          "output_type": "display_data",
          "data": {
            "text/plain": [
              "<IPython.core.display.HTML object>"
            ],
            "text/html": [
              "\n",
              "    <div>\n",
              "      \n",
              "      <progress value='38' max='38' style='width:300px; height:20px; vertical-align: middle;'></progress>\n",
              "      [38/38 00:00]\n",
              "    </div>\n",
              "    "
            ]
          },
          "metadata": {}
        },
        {
          "output_type": "execute_result",
          "data": {
            "text/plain": [
              "{'eval_loss': 0.6331952810287476,\n",
              " 'eval_accuracy': 0.7166666666666667,\n",
              " 'eval_f1': 0.7162604093813523,\n",
              " 'eval_precision': 0.7168085587532048,\n",
              " 'eval_recall': 0.7166666666666667,\n",
              " 'eval_cm': array([[ 41,  32,   3],\n",
              "        [ 26,  71,  10],\n",
              "        [  3,  11, 103]]),\n",
              " 'eval_runtime': 3.2394,\n",
              " 'eval_samples_per_second': 92.61,\n",
              " 'eval_steps_per_second': 11.731,\n",
              " 'epoch': 1.0}"
            ]
          },
          "metadata": {},
          "execution_count": 89
        }
      ]
    },
    {
      "cell_type": "markdown",
      "source": [
        "#### Inference"
      ],
      "metadata": {
        "id": "IdVd2_q251vH"
      }
    },
    {
      "cell_type": "code",
      "source": [
        "def predict_culture(text, model, tokenizer, device, max_length=128):\n",
        "    model.eval()\n",
        "    encoding = tokenizer(text, return_tensors='pt', max_length=max_length, padding='max_length', truncation=True)\n",
        "    input_ids = encoding['input_ids'].to(device)\n",
        "    attention_mask = encoding['attention_mask'].to(device)\n",
        "    with torch.no_grad():\n",
        "        outputs = model(input_ids=input_ids, attention_mask=attention_mask)\n",
        "        _, preds = torch.max(outputs.logits, dim=1)\n",
        "    return (\n",
        "        \"cultural exclusive\" if preds.item() == 0\n",
        "        else \"cultural representative\" if preds.item() == 1\n",
        "        else \"cultural agnostic\"\n",
        "    )"
      ],
      "metadata": {
        "id": "RuO08g-451vJ"
      },
      "execution_count": null,
      "outputs": []
    },
    {
      "cell_type": "code",
      "source": [
        "predict_culture(\"President of America\", model_31, tokenizer, \"cuda:0\")"
      ],
      "metadata": {
        "colab": {
          "base_uri": "https://localhost:8080/",
          "height": 35
        },
        "outputId": "b9ad16b1-1a82-445a-d6bc-9dec6bed9aa9",
        "id": "HsqhumqO51vK"
      },
      "execution_count": null,
      "outputs": [
        {
          "output_type": "execute_result",
          "data": {
            "text/plain": [
              "'cultural representative'"
            ],
            "application/vnd.google.colaboratory.intrinsic+json": {
              "type": "string"
            }
          },
          "metadata": {},
          "execution_count": 91
        }
      ]
    },
    {
      "cell_type": "code",
      "source": [
        "predict_culture(\"President of Paraguay\", model_31, tokenizer, \"cuda:0\")"
      ],
      "metadata": {
        "colab": {
          "base_uri": "https://localhost:8080/",
          "height": 35
        },
        "outputId": "fb8c228b-c426-4fc0-a514-84eb6b7c84fb",
        "id": "z1gugXa251vK"
      },
      "execution_count": null,
      "outputs": [
        {
          "output_type": "execute_result",
          "data": {
            "text/plain": [
              "'cultural exclusive'"
            ],
            "application/vnd.google.colaboratory.intrinsic+json": {
              "type": "string"
            }
          },
          "metadata": {},
          "execution_count": 92
        }
      ]
    },
    {
      "cell_type": "code",
      "source": [
        "predict_culture(\"River\", model_31, tokenizer, \"cuda:0\")"
      ],
      "metadata": {
        "colab": {
          "base_uri": "https://localhost:8080/",
          "height": 35
        },
        "outputId": "acebbfcd-6adb-4259-fd3f-1e71b44f228d",
        "id": "PsM33zsS51vL"
      },
      "execution_count": null,
      "outputs": [
        {
          "output_type": "execute_result",
          "data": {
            "text/plain": [
              "'cultural agnostic'"
            ],
            "application/vnd.google.colaboratory.intrinsic+json": {
              "type": "string"
            }
          },
          "metadata": {},
          "execution_count": 93
        }
      ]
    },
    {
      "cell_type": "code",
      "source": [
        "predict_culture(\"Sleep\", model_31, tokenizer, \"cuda:0\")"
      ],
      "metadata": {
        "colab": {
          "base_uri": "https://localhost:8080/",
          "height": 35
        },
        "outputId": "9d81baf9-f54d-42ed-edf0-a9c013c934d6",
        "id": "NgPCS-TX51vL"
      },
      "execution_count": null,
      "outputs": [
        {
          "output_type": "execute_result",
          "data": {
            "text/plain": [
              "'cultural agnostic'"
            ],
            "application/vnd.google.colaboratory.intrinsic+json": {
              "type": "string"
            }
          },
          "metadata": {},
          "execution_count": 94
        }
      ]
    },
    {
      "cell_type": "code",
      "source": [
        "predict_culture(\"Pizza\", model_31, tokenizer, \"cuda:0\")"
      ],
      "metadata": {
        "colab": {
          "base_uri": "https://localhost:8080/",
          "height": 35
        },
        "outputId": "30aa0040-cb5f-4f33-acee-78acd97d7266",
        "id": "Q364Ns0y51vN"
      },
      "execution_count": null,
      "outputs": [
        {
          "output_type": "execute_result",
          "data": {
            "text/plain": [
              "'cultural representative'"
            ],
            "application/vnd.google.colaboratory.intrinsic+json": {
              "type": "string"
            }
          },
          "metadata": {},
          "execution_count": 95
        }
      ]
    },
    {
      "cell_type": "code",
      "source": [
        "predict_culture(\"Caponata\", model_31, tokenizer, \"cuda:0\")"
      ],
      "metadata": {
        "colab": {
          "base_uri": "https://localhost:8080/",
          "height": 35
        },
        "outputId": "1e5cfd40-7441-4177-cf7d-c69ba39ebdf4",
        "id": "EU5Rj7Dd51vN"
      },
      "execution_count": null,
      "outputs": [
        {
          "output_type": "execute_result",
          "data": {
            "text/plain": [
              "'cultural representative'"
            ],
            "application/vnd.google.colaboratory.intrinsic+json": {
              "type": "string"
            }
          },
          "metadata": {},
          "execution_count": 96
        }
      ]
    },
    {
      "cell_type": "code",
      "source": [
        "predict_culture(\"Bread\", model_31, tokenizer, \"cuda:0\")"
      ],
      "metadata": {
        "colab": {
          "base_uri": "https://localhost:8080/",
          "height": 35
        },
        "outputId": "98623b0b-9085-4b65-e17c-c4db6970ffe7",
        "id": "v9mrHFDx51vN"
      },
      "execution_count": null,
      "outputs": [
        {
          "output_type": "execute_result",
          "data": {
            "text/plain": [
              "'cultural representative'"
            ],
            "application/vnd.google.colaboratory.intrinsic+json": {
              "type": "string"
            }
          },
          "metadata": {},
          "execution_count": 97
        }
      ]
    },
    {
      "cell_type": "markdown",
      "source": [
        "#### Evaluation"
      ],
      "metadata": {
        "id": "2Iww-9Sc51vO"
      }
    },
    {
      "cell_type": "code",
      "source": [
        "# Apply the model on the dev set\n",
        "dev_df['predict_label_transformer'] = dev_df['description'].apply(lambda x: predict_culture(x, model_31, tokenizer, \"cuda:0\"))\n",
        "\n",
        "# Transform the labels into integers\n",
        "dict_mapping ={'cultural exclusive': 0, 'cultural representative': 1, 'cultural agnostic': 2}\n",
        "dev_df['predict_label_transformer'] = dev_df['predict_label_transformer'].map(dict_mapping)\n",
        "dev_df['predict_label_transformer'] = dev_df['predict_label_transformer'].apply(lambda x: np.array(x))\n",
        "\n",
        "# Visualisation\n",
        "dev_df"
      ],
      "metadata": {
        "colab": {
          "base_uri": "https://localhost:8080/",
          "height": 597
        },
        "outputId": "d2b4f9b4-2e7c-4f8b-d934-e0f0627aeb6f",
        "id": "_ddSCfct51vP"
      },
      "execution_count": null,
      "outputs": [
        {
          "output_type": "execute_result",
          "data": {
            "text/plain": [
              "                                       item                name  \\\n",
              "0     http://www.wikidata.org/entity/Q15786      1. FC Nürnberg   \n",
              "1    http://www.wikidata.org/entity/Q268530          77 Records   \n",
              "2    http://www.wikidata.org/entity/Q216153        A Bug's Life   \n",
              "3       http://www.wikidata.org/entity/Q593        A Gang Story   \n",
              "4    http://www.wikidata.org/entity/Q192185       Aaron Copland   \n",
              "..                                      ...                 ...   \n",
              "295   http://www.wikidata.org/entity/Q36180              writer   \n",
              "296  http://www.wikidata.org/entity/Q156316  Würzburg Residence   \n",
              "297   http://www.wikidata.org/entity/Q56911               xunfu   \n",
              "298     http://www.wikidata.org/entity/Q377        Yanka Kupala   \n",
              "299  http://www.wikidata.org/entity/Q615394                 Yếm   \n",
              "\n",
              "                                           description     type  \\\n",
              "0       German sports club based in Nuremberg, Bavaria   entity   \n",
              "1                                      UK record label   entity   \n",
              "2    1998 animated film directed by John Lasseter a...   entity   \n",
              "3                         2011 film by Olivier Marchal   entity   \n",
              "4    American composer, composition teacher, writer...   entity   \n",
              "..                                                 ...      ...   \n",
              "295  person who uses written words to communicate i...  concept   \n",
              "296  cultural heritage monument D-6-63-000-454 (0) ...   entity   \n",
              "297  high government official of the Chinese Ming a...  concept   \n",
              "298                      Belarusian writer (1882–1942)   entity   \n",
              "299                    a traditional Vietnamese bodice  concept   \n",
              "\n",
              "             category    subcategory  label  idx  predict_label_transformer  \n",
              "0              sports    sports club      1    0                          0  \n",
              "1               music   record label      0    1                          1  \n",
              "2    comics and anime  animated film      1    2                          1  \n",
              "3               films           film      0    3                          1  \n",
              "4     performing arts  choreographer      1    4                          1  \n",
              "..                ...            ...    ...  ...                        ...  \n",
              "295       visual arts         artist      2  295                          2  \n",
              "296           history         museum      1  296                          0  \n",
              "297          politics     politician      0  297                          1  \n",
              "298        literature           poet      1  298                          1  \n",
              "299           fashion       clothing      0  299                          1  \n",
              "\n",
              "[300 rows x 9 columns]"
            ],
            "text/html": [
              "\n",
              "  <div id=\"df-5fa4673f-c44d-4bf7-8f90-026fb1ca4adc\" class=\"colab-df-container\">\n",
              "    <div>\n",
              "<style scoped>\n",
              "    .dataframe tbody tr th:only-of-type {\n",
              "        vertical-align: middle;\n",
              "    }\n",
              "\n",
              "    .dataframe tbody tr th {\n",
              "        vertical-align: top;\n",
              "    }\n",
              "\n",
              "    .dataframe thead th {\n",
              "        text-align: right;\n",
              "    }\n",
              "</style>\n",
              "<table border=\"1\" class=\"dataframe\">\n",
              "  <thead>\n",
              "    <tr style=\"text-align: right;\">\n",
              "      <th></th>\n",
              "      <th>item</th>\n",
              "      <th>name</th>\n",
              "      <th>description</th>\n",
              "      <th>type</th>\n",
              "      <th>category</th>\n",
              "      <th>subcategory</th>\n",
              "      <th>label</th>\n",
              "      <th>idx</th>\n",
              "      <th>predict_label_transformer</th>\n",
              "    </tr>\n",
              "  </thead>\n",
              "  <tbody>\n",
              "    <tr>\n",
              "      <th>0</th>\n",
              "      <td>http://www.wikidata.org/entity/Q15786</td>\n",
              "      <td>1. FC Nürnberg</td>\n",
              "      <td>German sports club based in Nuremberg, Bavaria</td>\n",
              "      <td>entity</td>\n",
              "      <td>sports</td>\n",
              "      <td>sports club</td>\n",
              "      <td>1</td>\n",
              "      <td>0</td>\n",
              "      <td>0</td>\n",
              "    </tr>\n",
              "    <tr>\n",
              "      <th>1</th>\n",
              "      <td>http://www.wikidata.org/entity/Q268530</td>\n",
              "      <td>77 Records</td>\n",
              "      <td>UK record label</td>\n",
              "      <td>entity</td>\n",
              "      <td>music</td>\n",
              "      <td>record label</td>\n",
              "      <td>0</td>\n",
              "      <td>1</td>\n",
              "      <td>1</td>\n",
              "    </tr>\n",
              "    <tr>\n",
              "      <th>2</th>\n",
              "      <td>http://www.wikidata.org/entity/Q216153</td>\n",
              "      <td>A Bug's Life</td>\n",
              "      <td>1998 animated film directed by John Lasseter a...</td>\n",
              "      <td>entity</td>\n",
              "      <td>comics and anime</td>\n",
              "      <td>animated film</td>\n",
              "      <td>1</td>\n",
              "      <td>2</td>\n",
              "      <td>1</td>\n",
              "    </tr>\n",
              "    <tr>\n",
              "      <th>3</th>\n",
              "      <td>http://www.wikidata.org/entity/Q593</td>\n",
              "      <td>A Gang Story</td>\n",
              "      <td>2011 film by Olivier Marchal</td>\n",
              "      <td>entity</td>\n",
              "      <td>films</td>\n",
              "      <td>film</td>\n",
              "      <td>0</td>\n",
              "      <td>3</td>\n",
              "      <td>1</td>\n",
              "    </tr>\n",
              "    <tr>\n",
              "      <th>4</th>\n",
              "      <td>http://www.wikidata.org/entity/Q192185</td>\n",
              "      <td>Aaron Copland</td>\n",
              "      <td>American composer, composition teacher, writer...</td>\n",
              "      <td>entity</td>\n",
              "      <td>performing arts</td>\n",
              "      <td>choreographer</td>\n",
              "      <td>1</td>\n",
              "      <td>4</td>\n",
              "      <td>1</td>\n",
              "    </tr>\n",
              "    <tr>\n",
              "      <th>...</th>\n",
              "      <td>...</td>\n",
              "      <td>...</td>\n",
              "      <td>...</td>\n",
              "      <td>...</td>\n",
              "      <td>...</td>\n",
              "      <td>...</td>\n",
              "      <td>...</td>\n",
              "      <td>...</td>\n",
              "      <td>...</td>\n",
              "    </tr>\n",
              "    <tr>\n",
              "      <th>295</th>\n",
              "      <td>http://www.wikidata.org/entity/Q36180</td>\n",
              "      <td>writer</td>\n",
              "      <td>person who uses written words to communicate i...</td>\n",
              "      <td>concept</td>\n",
              "      <td>visual arts</td>\n",
              "      <td>artist</td>\n",
              "      <td>2</td>\n",
              "      <td>295</td>\n",
              "      <td>2</td>\n",
              "    </tr>\n",
              "    <tr>\n",
              "      <th>296</th>\n",
              "      <td>http://www.wikidata.org/entity/Q156316</td>\n",
              "      <td>Würzburg Residence</td>\n",
              "      <td>cultural heritage monument D-6-63-000-454 (0) ...</td>\n",
              "      <td>entity</td>\n",
              "      <td>history</td>\n",
              "      <td>museum</td>\n",
              "      <td>1</td>\n",
              "      <td>296</td>\n",
              "      <td>0</td>\n",
              "    </tr>\n",
              "    <tr>\n",
              "      <th>297</th>\n",
              "      <td>http://www.wikidata.org/entity/Q56911</td>\n",
              "      <td>xunfu</td>\n",
              "      <td>high government official of the Chinese Ming a...</td>\n",
              "      <td>concept</td>\n",
              "      <td>politics</td>\n",
              "      <td>politician</td>\n",
              "      <td>0</td>\n",
              "      <td>297</td>\n",
              "      <td>1</td>\n",
              "    </tr>\n",
              "    <tr>\n",
              "      <th>298</th>\n",
              "      <td>http://www.wikidata.org/entity/Q377</td>\n",
              "      <td>Yanka Kupala</td>\n",
              "      <td>Belarusian writer (1882–1942)</td>\n",
              "      <td>entity</td>\n",
              "      <td>literature</td>\n",
              "      <td>poet</td>\n",
              "      <td>1</td>\n",
              "      <td>298</td>\n",
              "      <td>1</td>\n",
              "    </tr>\n",
              "    <tr>\n",
              "      <th>299</th>\n",
              "      <td>http://www.wikidata.org/entity/Q615394</td>\n",
              "      <td>Yếm</td>\n",
              "      <td>a traditional Vietnamese bodice</td>\n",
              "      <td>concept</td>\n",
              "      <td>fashion</td>\n",
              "      <td>clothing</td>\n",
              "      <td>0</td>\n",
              "      <td>299</td>\n",
              "      <td>1</td>\n",
              "    </tr>\n",
              "  </tbody>\n",
              "</table>\n",
              "<p>300 rows × 9 columns</p>\n",
              "</div>\n",
              "    <div class=\"colab-df-buttons\">\n",
              "\n",
              "  <div class=\"colab-df-container\">\n",
              "    <button class=\"colab-df-convert\" onclick=\"convertToInteractive('df-5fa4673f-c44d-4bf7-8f90-026fb1ca4adc')\"\n",
              "            title=\"Convert this dataframe to an interactive table.\"\n",
              "            style=\"display:none;\">\n",
              "\n",
              "  <svg xmlns=\"http://www.w3.org/2000/svg\" height=\"24px\" viewBox=\"0 -960 960 960\">\n",
              "    <path d=\"M120-120v-720h720v720H120Zm60-500h600v-160H180v160Zm220 220h160v-160H400v160Zm0 220h160v-160H400v160ZM180-400h160v-160H180v160Zm440 0h160v-160H620v160ZM180-180h160v-160H180v160Zm440 0h160v-160H620v160Z\"/>\n",
              "  </svg>\n",
              "    </button>\n",
              "\n",
              "  <style>\n",
              "    .colab-df-container {\n",
              "      display:flex;\n",
              "      gap: 12px;\n",
              "    }\n",
              "\n",
              "    .colab-df-convert {\n",
              "      background-color: #E8F0FE;\n",
              "      border: none;\n",
              "      border-radius: 50%;\n",
              "      cursor: pointer;\n",
              "      display: none;\n",
              "      fill: #1967D2;\n",
              "      height: 32px;\n",
              "      padding: 0 0 0 0;\n",
              "      width: 32px;\n",
              "    }\n",
              "\n",
              "    .colab-df-convert:hover {\n",
              "      background-color: #E2EBFA;\n",
              "      box-shadow: 0px 1px 2px rgba(60, 64, 67, 0.3), 0px 1px 3px 1px rgba(60, 64, 67, 0.15);\n",
              "      fill: #174EA6;\n",
              "    }\n",
              "\n",
              "    .colab-df-buttons div {\n",
              "      margin-bottom: 4px;\n",
              "    }\n",
              "\n",
              "    [theme=dark] .colab-df-convert {\n",
              "      background-color: #3B4455;\n",
              "      fill: #D2E3FC;\n",
              "    }\n",
              "\n",
              "    [theme=dark] .colab-df-convert:hover {\n",
              "      background-color: #434B5C;\n",
              "      box-shadow: 0px 1px 3px 1px rgba(0, 0, 0, 0.15);\n",
              "      filter: drop-shadow(0px 1px 2px rgba(0, 0, 0, 0.3));\n",
              "      fill: #FFFFFF;\n",
              "    }\n",
              "  </style>\n",
              "\n",
              "    <script>\n",
              "      const buttonEl =\n",
              "        document.querySelector('#df-5fa4673f-c44d-4bf7-8f90-026fb1ca4adc button.colab-df-convert');\n",
              "      buttonEl.style.display =\n",
              "        google.colab.kernel.accessAllowed ? 'block' : 'none';\n",
              "\n",
              "      async function convertToInteractive(key) {\n",
              "        const element = document.querySelector('#df-5fa4673f-c44d-4bf7-8f90-026fb1ca4adc');\n",
              "        const dataTable =\n",
              "          await google.colab.kernel.invokeFunction('convertToInteractive',\n",
              "                                                    [key], {});\n",
              "        if (!dataTable) return;\n",
              "\n",
              "        const docLinkHtml = 'Like what you see? Visit the ' +\n",
              "          '<a target=\"_blank\" href=https://colab.research.google.com/notebooks/data_table.ipynb>data table notebook</a>'\n",
              "          + ' to learn more about interactive tables.';\n",
              "        element.innerHTML = '';\n",
              "        dataTable['output_type'] = 'display_data';\n",
              "        await google.colab.output.renderOutput(dataTable, element);\n",
              "        const docLink = document.createElement('div');\n",
              "        docLink.innerHTML = docLinkHtml;\n",
              "        element.appendChild(docLink);\n",
              "      }\n",
              "    </script>\n",
              "  </div>\n",
              "\n",
              "\n",
              "<div id=\"df-118c4348-63a8-459d-b6e1-e9d187a8e8ce\">\n",
              "  <button class=\"colab-df-quickchart\" onclick=\"quickchart('df-118c4348-63a8-459d-b6e1-e9d187a8e8ce')\"\n",
              "            title=\"Suggest charts\"\n",
              "            style=\"display:none;\">\n",
              "\n",
              "<svg xmlns=\"http://www.w3.org/2000/svg\" height=\"24px\"viewBox=\"0 0 24 24\"\n",
              "     width=\"24px\">\n",
              "    <g>\n",
              "        <path d=\"M19 3H5c-1.1 0-2 .9-2 2v14c0 1.1.9 2 2 2h14c1.1 0 2-.9 2-2V5c0-1.1-.9-2-2-2zM9 17H7v-7h2v7zm4 0h-2V7h2v10zm4 0h-2v-4h2v4z\"/>\n",
              "    </g>\n",
              "</svg>\n",
              "  </button>\n",
              "\n",
              "<style>\n",
              "  .colab-df-quickchart {\n",
              "      --bg-color: #E8F0FE;\n",
              "      --fill-color: #1967D2;\n",
              "      --hover-bg-color: #E2EBFA;\n",
              "      --hover-fill-color: #174EA6;\n",
              "      --disabled-fill-color: #AAA;\n",
              "      --disabled-bg-color: #DDD;\n",
              "  }\n",
              "\n",
              "  [theme=dark] .colab-df-quickchart {\n",
              "      --bg-color: #3B4455;\n",
              "      --fill-color: #D2E3FC;\n",
              "      --hover-bg-color: #434B5C;\n",
              "      --hover-fill-color: #FFFFFF;\n",
              "      --disabled-bg-color: #3B4455;\n",
              "      --disabled-fill-color: #666;\n",
              "  }\n",
              "\n",
              "  .colab-df-quickchart {\n",
              "    background-color: var(--bg-color);\n",
              "    border: none;\n",
              "    border-radius: 50%;\n",
              "    cursor: pointer;\n",
              "    display: none;\n",
              "    fill: var(--fill-color);\n",
              "    height: 32px;\n",
              "    padding: 0;\n",
              "    width: 32px;\n",
              "  }\n",
              "\n",
              "  .colab-df-quickchart:hover {\n",
              "    background-color: var(--hover-bg-color);\n",
              "    box-shadow: 0 1px 2px rgba(60, 64, 67, 0.3), 0 1px 3px 1px rgba(60, 64, 67, 0.15);\n",
              "    fill: var(--button-hover-fill-color);\n",
              "  }\n",
              "\n",
              "  .colab-df-quickchart-complete:disabled,\n",
              "  .colab-df-quickchart-complete:disabled:hover {\n",
              "    background-color: var(--disabled-bg-color);\n",
              "    fill: var(--disabled-fill-color);\n",
              "    box-shadow: none;\n",
              "  }\n",
              "\n",
              "  .colab-df-spinner {\n",
              "    border: 2px solid var(--fill-color);\n",
              "    border-color: transparent;\n",
              "    border-bottom-color: var(--fill-color);\n",
              "    animation:\n",
              "      spin 1s steps(1) infinite;\n",
              "  }\n",
              "\n",
              "  @keyframes spin {\n",
              "    0% {\n",
              "      border-color: transparent;\n",
              "      border-bottom-color: var(--fill-color);\n",
              "      border-left-color: var(--fill-color);\n",
              "    }\n",
              "    20% {\n",
              "      border-color: transparent;\n",
              "      border-left-color: var(--fill-color);\n",
              "      border-top-color: var(--fill-color);\n",
              "    }\n",
              "    30% {\n",
              "      border-color: transparent;\n",
              "      border-left-color: var(--fill-color);\n",
              "      border-top-color: var(--fill-color);\n",
              "      border-right-color: var(--fill-color);\n",
              "    }\n",
              "    40% {\n",
              "      border-color: transparent;\n",
              "      border-right-color: var(--fill-color);\n",
              "      border-top-color: var(--fill-color);\n",
              "    }\n",
              "    60% {\n",
              "      border-color: transparent;\n",
              "      border-right-color: var(--fill-color);\n",
              "    }\n",
              "    80% {\n",
              "      border-color: transparent;\n",
              "      border-right-color: var(--fill-color);\n",
              "      border-bottom-color: var(--fill-color);\n",
              "    }\n",
              "    90% {\n",
              "      border-color: transparent;\n",
              "      border-bottom-color: var(--fill-color);\n",
              "    }\n",
              "  }\n",
              "</style>\n",
              "\n",
              "  <script>\n",
              "    async function quickchart(key) {\n",
              "      const quickchartButtonEl =\n",
              "        document.querySelector('#' + key + ' button');\n",
              "      quickchartButtonEl.disabled = true;  // To prevent multiple clicks.\n",
              "      quickchartButtonEl.classList.add('colab-df-spinner');\n",
              "      try {\n",
              "        const charts = await google.colab.kernel.invokeFunction(\n",
              "            'suggestCharts', [key], {});\n",
              "      } catch (error) {\n",
              "        console.error('Error during call to suggestCharts:', error);\n",
              "      }\n",
              "      quickchartButtonEl.classList.remove('colab-df-spinner');\n",
              "      quickchartButtonEl.classList.add('colab-df-quickchart-complete');\n",
              "    }\n",
              "    (() => {\n",
              "      let quickchartButtonEl =\n",
              "        document.querySelector('#df-118c4348-63a8-459d-b6e1-e9d187a8e8ce button');\n",
              "      quickchartButtonEl.style.display =\n",
              "        google.colab.kernel.accessAllowed ? 'block' : 'none';\n",
              "    })();\n",
              "  </script>\n",
              "</div>\n",
              "\n",
              "  <div id=\"id_1759ec09-a08f-4698-b433-18910dfc837b\">\n",
              "    <style>\n",
              "      .colab-df-generate {\n",
              "        background-color: #E8F0FE;\n",
              "        border: none;\n",
              "        border-radius: 50%;\n",
              "        cursor: pointer;\n",
              "        display: none;\n",
              "        fill: #1967D2;\n",
              "        height: 32px;\n",
              "        padding: 0 0 0 0;\n",
              "        width: 32px;\n",
              "      }\n",
              "\n",
              "      .colab-df-generate:hover {\n",
              "        background-color: #E2EBFA;\n",
              "        box-shadow: 0px 1px 2px rgba(60, 64, 67, 0.3), 0px 1px 3px 1px rgba(60, 64, 67, 0.15);\n",
              "        fill: #174EA6;\n",
              "      }\n",
              "\n",
              "      [theme=dark] .colab-df-generate {\n",
              "        background-color: #3B4455;\n",
              "        fill: #D2E3FC;\n",
              "      }\n",
              "\n",
              "      [theme=dark] .colab-df-generate:hover {\n",
              "        background-color: #434B5C;\n",
              "        box-shadow: 0px 1px 3px 1px rgba(0, 0, 0, 0.15);\n",
              "        filter: drop-shadow(0px 1px 2px rgba(0, 0, 0, 0.3));\n",
              "        fill: #FFFFFF;\n",
              "      }\n",
              "    </style>\n",
              "    <button class=\"colab-df-generate\" onclick=\"generateWithVariable('dev_df')\"\n",
              "            title=\"Generate code using this dataframe.\"\n",
              "            style=\"display:none;\">\n",
              "\n",
              "  <svg xmlns=\"http://www.w3.org/2000/svg\" height=\"24px\"viewBox=\"0 0 24 24\"\n",
              "       width=\"24px\">\n",
              "    <path d=\"M7,19H8.4L18.45,9,17,7.55,7,17.6ZM5,21V16.75L18.45,3.32a2,2,0,0,1,2.83,0l1.4,1.43a1.91,1.91,0,0,1,.58,1.4,1.91,1.91,0,0,1-.58,1.4L9.25,21ZM18.45,9,17,7.55Zm-12,3A5.31,5.31,0,0,0,4.9,8.1,5.31,5.31,0,0,0,1,6.5,5.31,5.31,0,0,0,4.9,4.9,5.31,5.31,0,0,0,6.5,1,5.31,5.31,0,0,0,8.1,4.9,5.31,5.31,0,0,0,12,6.5,5.46,5.46,0,0,0,6.5,12Z\"/>\n",
              "  </svg>\n",
              "    </button>\n",
              "    <script>\n",
              "      (() => {\n",
              "      const buttonEl =\n",
              "        document.querySelector('#id_1759ec09-a08f-4698-b433-18910dfc837b button.colab-df-generate');\n",
              "      buttonEl.style.display =\n",
              "        google.colab.kernel.accessAllowed ? 'block' : 'none';\n",
              "\n",
              "      buttonEl.onclick = () => {\n",
              "        google.colab.notebook.generateWithVariable('dev_df');\n",
              "      }\n",
              "      })();\n",
              "    </script>\n",
              "  </div>\n",
              "\n",
              "    </div>\n",
              "  </div>\n"
            ],
            "application/vnd.google.colaboratory.intrinsic+json": {
              "type": "dataframe",
              "variable_name": "dev_df",
              "summary": "{\n  \"name\": \"dev_df\",\n  \"rows\": 300,\n  \"fields\": [\n    {\n      \"column\": \"item\",\n      \"properties\": {\n        \"dtype\": \"string\",\n        \"num_unique_values\": 300,\n        \"samples\": [\n          \"http://www.wikidata.org/entity/Q29536\",\n          \"http://www.wikidata.org/entity/Q1365\",\n          \"http://www.wikidata.org/entity/Q3086695\"\n        ],\n        \"semantic_type\": \"\",\n        \"description\": \"\"\n      }\n    },\n    {\n      \"column\": \"name\",\n      \"properties\": {\n        \"dtype\": \"string\",\n        \"num_unique_values\": 300,\n        \"samples\": [\n          \"paganism\",\n          \"Swept Away\",\n          \"Les Trois Accords\"\n        ],\n        \"semantic_type\": \"\",\n        \"description\": \"\"\n      }\n    },\n    {\n      \"column\": \"description\",\n      \"properties\": {\n        \"dtype\": \"string\",\n        \"num_unique_values\": 296,\n        \"samples\": [\n          \"Swedish chef\",\n          \"one of four major schools of madhhab of Islamic jurisprudence within Sunni Islam\",\n          \"traditional men's garment of South Asia\"\n        ],\n        \"semantic_type\": \"\",\n        \"description\": \"\"\n      }\n    },\n    {\n      \"column\": \"type\",\n      \"properties\": {\n        \"dtype\": \"category\",\n        \"num_unique_values\": 2,\n        \"samples\": [\n          \"concept\",\n          \"entity\"\n        ],\n        \"semantic_type\": \"\",\n        \"description\": \"\"\n      }\n    },\n    {\n      \"column\": \"category\",\n      \"properties\": {\n        \"dtype\": \"category\",\n        \"num_unique_values\": 19,\n        \"samples\": [\n          \"sports\",\n          \"architecture\"\n        ],\n        \"semantic_type\": \"\",\n        \"description\": \"\"\n      }\n    },\n    {\n      \"column\": \"subcategory\",\n      \"properties\": {\n        \"dtype\": \"category\",\n        \"num_unique_values\": 112,\n        \"samples\": [\n          \"fashion trend\",\n          \"greeting\"\n        ],\n        \"semantic_type\": \"\",\n        \"description\": \"\"\n      }\n    },\n    {\n      \"column\": \"label\",\n      \"properties\": {\n        \"dtype\": \"number\",\n        \"std\": 0,\n        \"min\": 0,\n        \"max\": 2,\n        \"num_unique_values\": 3,\n        \"samples\": [\n          1,\n          0\n        ],\n        \"semantic_type\": \"\",\n        \"description\": \"\"\n      }\n    },\n    {\n      \"column\": \"idx\",\n      \"properties\": {\n        \"dtype\": \"number\",\n        \"std\": 86,\n        \"min\": 0,\n        \"max\": 299,\n        \"num_unique_values\": 300,\n        \"samples\": [\n          203,\n          266\n        ],\n        \"semantic_type\": \"\",\n        \"description\": \"\"\n      }\n    },\n    {\n      \"column\": \"predict_label_transformer\",\n      \"properties\": {\n        \"dtype\": \"number\",\n        \"std\": 0,\n        \"min\": 0,\n        \"max\": 2,\n        \"num_unique_values\": 3,\n        \"samples\": [\n          0,\n          1\n        ],\n        \"semantic_type\": \"\",\n        \"description\": \"\"\n      }\n    }\n  ]\n}"
            }
          },
          "metadata": {},
          "execution_count": 98
        }
      ]
    },
    {
      "cell_type": "code",
      "source": [
        "# Extract the true and predicted labels\n",
        "y_true = dev_df['label']\n",
        "y_pred = dev_df['predict_label_transformer']\n",
        "\n",
        "# Visualisation of the evaluation metrics\n",
        "print(\"Accuracy:\", accuracy_score(y_true, y_pred))\n",
        "print(\"Precision (weighted):\", precision_score(y_true, y_pred, average=\"weighted\"))\n",
        "print(\"Recall (weighted):\", recall_score(y_true, y_pred, average=\"weighted\"))\n",
        "print(\"F1-score (weighted):\", f1_score(y_true, y_pred, average=\"weighted\"))\n",
        "\n",
        "print(\"\\n Classification Report:\")\n",
        "print(classification_report(y_true, y_pred, target_names=[\"exclusive\", \"representative\", \"agnostic\"]))\n",
        "\n",
        "cm = confusion_matrix(y_true, y_pred)\n",
        "disp = ConfusionMatrixDisplay(confusion_matrix=cm, display_labels=[\"exclusive\", \"representative\", \"agnostic\"])\n",
        "\n",
        "plt.figure(figsize=(6, 6))\n",
        "disp.plot(cmap=plt.cm.Blues, values_format='d')\n",
        "plt.title(\"Confusion matrix\")\n",
        "plt.grid(False)\n",
        "plt.show()"
      ],
      "metadata": {
        "colab": {
          "base_uri": "https://localhost:8080/",
          "height": 767
        },
        "outputId": "fb589104-f859-4fd3-ee06-e3c128069530",
        "id": "5Cvu24EG51vP"
      },
      "execution_count": null,
      "outputs": [
        {
          "output_type": "stream",
          "name": "stdout",
          "text": [
            "Accuracy: 0.6866666666666666\n",
            "Precision (weighted): 0.6701554937523816\n",
            "Recall (weighted): 0.6866666666666666\n",
            "F1-score (weighted): 0.666291362097034\n",
            "\n",
            " Classification Report:\n",
            "                precision    recall  f1-score   support\n",
            "\n",
            "     exclusive       0.58      0.33      0.42        76\n",
            "representative       0.62      0.67      0.65       107\n",
            "      agnostic       0.77      0.93      0.84       117\n",
            "\n",
            "      accuracy                           0.69       300\n",
            "     macro avg       0.66      0.64      0.64       300\n",
            "  weighted avg       0.67      0.69      0.67       300\n",
            "\n"
          ]
        },
        {
          "output_type": "display_data",
          "data": {
            "text/plain": [
              "<Figure size 600x600 with 0 Axes>"
            ]
          },
          "metadata": {}
        },
        {
          "output_type": "display_data",
          "data": {
            "text/plain": [
              "<Figure size 640x480 with 2 Axes>"
            ],
            "image/png": "[encoded data removed]"
          },
          "metadata": {}
        }
      ]
    }
  ]
}