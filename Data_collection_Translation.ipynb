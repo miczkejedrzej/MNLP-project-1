{
  "nbformat": 4,
  "nbformat_minor": 0,
  "metadata": {
    "colab": {
      "provenance": [],
      "authorship_tag": "ABX9TyNWrqVeFhqF5CctVwTmHMWf",
      "include_colab_link": true
    },
    "kernelspec": {
      "name": "python3",
      "display_name": "Python 3"
    },
    "language_info": {
      "name": "python"
    }
  },
  "cells": [
    {
      "cell_type": "markdown",
      "metadata": {
        "id": "view-in-github",
        "colab_type": "text"
      },
      "source": [
        "<a href=\"https://colab.research.google.com/github/miczkejedrzej/MNLP-project-1/blob/main/Data_collection_Translation.ipynb\" target=\"_parent\"><img src=\"https://colab.research.google.com/assets/colab-badge.svg\" alt=\"Open In Colab\"/></a>"
      ]
    },
    {
      "cell_type": "code",
      "execution_count": 4,
      "metadata": {
        "colab": {
          "base_uri": "https://localhost:8080/",
          "height": 73
        },
        "id": "6rH7mi5S7YRV",
        "outputId": "6d3ee263-6c31-4d5c-c5de-f291144c5913"
      },
      "outputs": [
        {
          "output_type": "display_data",
          "data": {
            "text/plain": [
              "<IPython.core.display.HTML object>"
            ],
            "text/html": [
              "\n",
              "     <input type=\"file\" id=\"files-c719ec28-5ff6-4593-9a48-26b5467587bf\" name=\"files[]\" multiple disabled\n",
              "        style=\"border:none\" />\n",
              "     <output id=\"result-c719ec28-5ff6-4593-9a48-26b5467587bf\">\n",
              "      Upload widget is only available when the cell has been executed in the\n",
              "      current browser session. Please rerun this cell to enable.\n",
              "      </output>\n",
              "      <script>// Copyright 2017 Google LLC\n",
              "//\n",
              "// Licensed under the Apache License, Version 2.0 (the \"License\");\n",
              "// you may not use this file except in compliance with the License.\n",
              "// You may obtain a copy of the License at\n",
              "//\n",
              "//      http://www.apache.org/licenses/LICENSE-2.0\n",
              "//\n",
              "// Unless required by applicable law or agreed to in writing, software\n",
              "// distributed under the License is distributed on an \"AS IS\" BASIS,\n",
              "// WITHOUT WARRANTIES OR CONDITIONS OF ANY KIND, either express or implied.\n",
              "// See the License for the specific language governing permissions and\n",
              "// limitations under the License.\n",
              "\n",
              "/**\n",
              " * @fileoverview Helpers for google.colab Python module.\n",
              " */\n",
              "(function(scope) {\n",
              "function span(text, styleAttributes = {}) {\n",
              "  const element = document.createElement('span');\n",
              "  element.textContent = text;\n",
              "  for (const key of Object.keys(styleAttributes)) {\n",
              "    element.style[key] = styleAttributes[key];\n",
              "  }\n",
              "  return element;\n",
              "}\n",
              "\n",
              "// Max number of bytes which will be uploaded at a time.\n",
              "const MAX_PAYLOAD_SIZE = 100 * 1024;\n",
              "\n",
              "function _uploadFiles(inputId, outputId) {\n",
              "  const steps = uploadFilesStep(inputId, outputId);\n",
              "  const outputElement = document.getElementById(outputId);\n",
              "  // Cache steps on the outputElement to make it available for the next call\n",
              "  // to uploadFilesContinue from Python.\n",
              "  outputElement.steps = steps;\n",
              "\n",
              "  return _uploadFilesContinue(outputId);\n",
              "}\n",
              "\n",
              "// This is roughly an async generator (not supported in the browser yet),\n",
              "// where there are multiple asynchronous steps and the Python side is going\n",
              "// to poll for completion of each step.\n",
              "// This uses a Promise to block the python side on completion of each step,\n",
              "// then passes the result of the previous step as the input to the next step.\n",
              "function _uploadFilesContinue(outputId) {\n",
              "  const outputElement = document.getElementById(outputId);\n",
              "  const steps = outputElement.steps;\n",
              "\n",
              "  const next = steps.next(outputElement.lastPromiseValue);\n",
              "  return Promise.resolve(next.value.promise).then((value) => {\n",
              "    // Cache the last promise value to make it available to the next\n",
              "    // step of the generator.\n",
              "    outputElement.lastPromiseValue = value;\n",
              "    return next.value.response;\n",
              "  });\n",
              "}\n",
              "\n",
              "/**\n",
              " * Generator function which is called between each async step of the upload\n",
              " * process.\n",
              " * @param {string} inputId Element ID of the input file picker element.\n",
              " * @param {string} outputId Element ID of the output display.\n",
              " * @return {!Iterable<!Object>} Iterable of next steps.\n",
              " */\n",
              "function* uploadFilesStep(inputId, outputId) {\n",
              "  const inputElement = document.getElementById(inputId);\n",
              "  inputElement.disabled = false;\n",
              "\n",
              "  const outputElement = document.getElementById(outputId);\n",
              "  outputElement.innerHTML = '';\n",
              "\n",
              "  const pickedPromise = new Promise((resolve) => {\n",
              "    inputElement.addEventListener('change', (e) => {\n",
              "      resolve(e.target.files);\n",
              "    });\n",
              "  });\n",
              "\n",
              "  const cancel = document.createElement('button');\n",
              "  inputElement.parentElement.appendChild(cancel);\n",
              "  cancel.textContent = 'Cancel upload';\n",
              "  const cancelPromise = new Promise((resolve) => {\n",
              "    cancel.onclick = () => {\n",
              "      resolve(null);\n",
              "    };\n",
              "  });\n",
              "\n",
              "  // Wait for the user to pick the files.\n",
              "  const files = yield {\n",
              "    promise: Promise.race([pickedPromise, cancelPromise]),\n",
              "    response: {\n",
              "      action: 'starting',\n",
              "    }\n",
              "  };\n",
              "\n",
              "  cancel.remove();\n",
              "\n",
              "  // Disable the input element since further picks are not allowed.\n",
              "  inputElement.disabled = true;\n",
              "\n",
              "  if (!files) {\n",
              "    return {\n",
              "      response: {\n",
              "        action: 'complete',\n",
              "      }\n",
              "    };\n",
              "  }\n",
              "\n",
              "  for (const file of files) {\n",
              "    const li = document.createElement('li');\n",
              "    li.append(span(file.name, {fontWeight: 'bold'}));\n",
              "    li.append(span(\n",
              "        `(${file.type || 'n/a'}) - ${file.size} bytes, ` +\n",
              "        `last modified: ${\n",
              "            file.lastModifiedDate ? file.lastModifiedDate.toLocaleDateString() :\n",
              "                                    'n/a'} - `));\n",
              "    const percent = span('0% done');\n",
              "    li.appendChild(percent);\n",
              "\n",
              "    outputElement.appendChild(li);\n",
              "\n",
              "    const fileDataPromise = new Promise((resolve) => {\n",
              "      const reader = new FileReader();\n",
              "      reader.onload = (e) => {\n",
              "        resolve(e.target.result);\n",
              "      };\n",
              "      reader.readAsArrayBuffer(file);\n",
              "    });\n",
              "    // Wait for the data to be ready.\n",
              "    let fileData = yield {\n",
              "      promise: fileDataPromise,\n",
              "      response: {\n",
              "        action: 'continue',\n",
              "      }\n",
              "    };\n",
              "\n",
              "    // Use a chunked sending to avoid message size limits. See b/62115660.\n",
              "    let position = 0;\n",
              "    do {\n",
              "      const length = Math.min(fileData.byteLength - position, MAX_PAYLOAD_SIZE);\n",
              "      const chunk = new Uint8Array(fileData, position, length);\n",
              "      position += length;\n",
              "\n",
              "      const base64 = btoa(String.fromCharCode.apply(null, chunk));\n",
              "      yield {\n",
              "        response: {\n",
              "          action: 'append',\n",
              "          file: file.name,\n",
              "          data: base64,\n",
              "        },\n",
              "      };\n",
              "\n",
              "      let percentDone = fileData.byteLength === 0 ?\n",
              "          100 :\n",
              "          Math.round((position / fileData.byteLength) * 100);\n",
              "      percent.textContent = `${percentDone}% done`;\n",
              "\n",
              "    } while (position < fileData.byteLength);\n",
              "  }\n",
              "\n",
              "  // All done.\n",
              "  yield {\n",
              "    response: {\n",
              "      action: 'complete',\n",
              "    }\n",
              "  };\n",
              "}\n",
              "\n",
              "scope.google = scope.google || {};\n",
              "scope.google.colab = scope.google.colab || {};\n",
              "scope.google.colab._files = {\n",
              "  _uploadFiles,\n",
              "  _uploadFilesContinue,\n",
              "};\n",
              "})(self);\n",
              "</script> "
            ]
          },
          "metadata": {}
        },
        {
          "output_type": "stream",
          "name": "stdout",
          "text": [
            "Saving [MNLP 2025 HW1] train set [PUBLIC] - train_cleaned.tsv to [MNLP 2025 HW1] train set [PUBLIC] - train_cleaned (2).tsv\n"
          ]
        }
      ],
      "source": [
        "# Import of the training data\n",
        "\n",
        "from google.colab import files\n",
        "uploaded = files.upload()\n",
        "\n",
        "# Import of moduls\n",
        "\n",
        "!pip install wikidata --quiet\n",
        "\n",
        "import matplotlib.pyplot as plt\n",
        "import pandas as pd\n",
        "from wikidata.client import Client\n",
        "import requests\n",
        "\n",
        "from tqdm.auto import tqdm\n",
        "import warnings\n",
        "warnings.simplefilter(action='ignore', category=FutureWarning)\n",
        "\n",
        "# Loading the data\n",
        "train_df = pd.read_csv('[MNLP 2025 HW1] train set [PUBLIC] - train_cleaned.tsv', sep='\\t')"
      ]
    },
    {
      "cell_type": "code",
      "source": [
        "def extract_entity_id(url):\n",
        "    return url.strip().split(\"/\")[-1]"
      ],
      "metadata": {
        "id": "NR8U9Zwr7dOw"
      },
      "execution_count": 5,
      "outputs": []
    },
    {
      "cell_type": "code",
      "source": [
        "def get_sitelinks(wikidata_url):\n",
        "\n",
        "  # Extract the id of the item\n",
        "  entity_id = extract_entity_id(wikidata_url)\n",
        "\n",
        "  # Extract information of the item\n",
        "  client = Client()\n",
        "  item = client.get(entity_id, load=True)\n",
        "\n",
        "  # Extract the sitelinks of the item\n",
        "  sitelinks = item.data.get(\"sitelinks\", {})\n",
        "\n",
        "  return sitelinks\n",
        "\n",
        "\n",
        "\n",
        "def get_first_1000_characters(wikidata_url):\n",
        "\n",
        "    # Initialisation of parameters, list and dictionnary\n",
        "\n",
        "    selected_languages = [\"en\", \"fr\", \"es\", \"zh\", \"ar\", \"hi\", \"ru\", \"pt\", \"ja\", \"sw\"]\n",
        "    dict_lang = {}\n",
        "\n",
        "    # Extraction of the Wikipedia pages informations, for the selected item\n",
        "    sitelinks = get_sitelinks(wikidata_url)\n",
        "\n",
        "    # Extraction of the wikipedia page, for every languages\n",
        "    for lang in selected_languages:\n",
        "        lang_wiki = sitelinks.get(f\"{lang}wiki\")\n",
        "        if not lang_wiki:\n",
        "            continue\n",
        "\n",
        "        title = lang_wiki[\"title\"]\n",
        "\n",
        "        api_url = f\"https://{lang}.wikipedia.org/w/api.php\"\n",
        "        params = {\n",
        "            \"action\": \"query\",\n",
        "            \"prop\": \"extracts\",\n",
        "            \"explaintext\": True,\n",
        "            \"titles\": title,\n",
        "            \"format\": \"json\",\n",
        "            \"redirects\": 1\n",
        "        }\n",
        "\n",
        "        try:\n",
        "            res = requests.get(api_url, params=params).json()\n",
        "            page = next(iter(res[\"query\"][\"pages\"].values()))\n",
        "            text = page.get(\"extract\", \"\")\n",
        "            dict_lang[lang] = text[:1000] # Selection of the first 1000 characters only\n",
        "\n",
        "        except Exception as e:\n",
        "            continue\n",
        "\n",
        "    return dict_lang\n",
        "\n",
        "# Test\n",
        "wikidata_url = train_df.iloc[0,0]\n",
        "dict_languages = get_first_1000_characters(wikidata_url)"
      ],
      "metadata": {
        "id": "Djm-zrRASy-B"
      },
      "execution_count": 35,
      "outputs": []
    },
    {
      "cell_type": "code",
      "source": [
        "!pip install googletrans==4.0.0-rc1 --quiet\n",
        "\n",
        "from googletrans import Translator\n",
        "\n",
        "def translate_to_english(sentence, lang):\n",
        "\n",
        "    translator = Translator()\n",
        "    try:\n",
        "        # Translation\n",
        "        translation = translator.translate(sentence, src=lang, dest='en')\n",
        "        return translation.text\n",
        "    except Exception as e:\n",
        "        return None\n",
        "\n",
        "# Test\n",
        "#translate_to_english('essai', 'fr')"
      ],
      "metadata": {
        "id": "OjLWcRTvc5g8"
      },
      "execution_count": 36,
      "outputs": []
    },
    {
      "cell_type": "code",
      "source": [
        "dict_english = {}\n",
        "\n",
        "for lang, text in dict_languages.items():\n",
        "  dict_english[lang] = translate_to_english(text, lang)\n",
        "\n",
        "# Test\n",
        "dict_english"
      ],
      "metadata": {
        "colab": {
          "base_uri": "https://localhost:8080/"
        },
        "id": "L3ctRj9sb_Pg",
        "outputId": "d2a32a85-ffc5-4cc3-b836-0155d0a399a6"
      },
      "execution_count": 39,
      "outputs": [
        {
          "output_type": "execute_result",
          "data": {
            "text/plain": [
              "{'en': \"Miguel Juan Sebastián Piñera Echenique (Spanish: [miˈɣel ˈxwan seβasˈtjam piˈɲeɾa etʃeˈnike] ; 1 December 1949 – 6 February 2024) was a Chilean businessman and politician who served as President of Chile from 2010 to 2014 and again from 2018 to 2022. The son of a Christian Democratic politician and diplomat, he studied business administration at the Pontifical Catholic University of Chile and economics at Harvard University. At the time of his death, he had an estimated net worth of US$2.7 billion, according to Forbes, making him the third richest person in Chile and the 1177th richest person in the world.\\nA member of the liberal-conservative National Renewal party, he served as a senator for the East Santiago district from 1990 to 1998, running for the presidency in the 2005 election, which he lost to Michelle Bachelet, and again, successfully, in 2010. As a result, he became Chile's first conservative president to be democratically elected since 1958, and the first to hold the office\",\n",
              " 'fr': \"Sebastián Piñera Echenique, born December 1, 1949 in Santiago de Chile and died on February 6, 2024 in Lago Ranco, is a businessman and Chilean statesman, President of the Republic from 2010 to 2014, then from 2018 to 2022.\\nAfter a career as an economist at the service of several institutions, including the World Bank, he built his success as a businessman in the 1980s. He is one of the richest people in the country, with an estimated fortune at 2.7 billion dollars when he died in 2024.\\nHe was a senator from 1990 to 1998. He then chaired the Right's Right Party, which he was the candidate for the 2005-2006 presidential election, won by Michelle Bachelet.\\nCandidate for a right-wing coalition in the 2009-2010 presidential election, he was elected President of the Republic against former President Eduardo Frei RuiZ-Tagle, thus ending twenty years of power in the center left.Unable to run for a second consecutive mandate, he leaves the meadow\",\n",
              " 'es': \"Miguel Juan Sebastián Piñera Echenique (Santiago, December 1, 1949-ilihue, February 6, 2024) [2] [3] [4] [5] He was a Chilean commercial and businessman.He was president of the Republic of Chile in two non-consecutive periods (2010-2014 and 2018-2022), [6] the first Pro Tempore President of Celac (2011-2013) and the first Pro Tempore President of Prosur (2019-2020).\\nSon of José Piñera Carvallo, a Chilean Democrat -Christian public official who served as an ambassador during the government of President Eduardo Frei Montalva, and Magdalena Echenique Rozas, studied commercial engineering with mention in economics at the Pontifical Catholic University of Chile and subsequently obtained a master's degree and doctorate in economics at Harvard University.policy.\\nIn the financial field, he owned one of his country's largest fortunes, with an estimated capital of 2700 million dollars in 2017, according to the magazine\",\n",
              " 'zh': None,\n",
              " 'ar': \"Miguel Juan Sebastian Penira Ecenika (01 December 1949 - 6 February 2024) billionaires and a Chilean businessman and politician who held the position of Chilean president for two presidential periods from 2018 to 2022. And a president from 2010 to 2014. Being the son of a politician and diplomat from the Christian Democratic Party, studied business engineering at the Catholic Pope University in Chile and the economy at Harvard University.His clear wealth was estimated at $ 2.8 billion in 2019, according to Forms, making it one of the people's antiquities in Chile.\\nAs a member of the Liberal Conservative National Renewal Party, he held the position of Senator for the East Santiago boycott between 1990 and 1998, and was nominated for the elections in 2005, which he lost to Michel Bachelet, then renewed his candidacy and succeeded in 2010. As a result, the first governor of Chenty has been elected in a democratic manner since 1958, and the first occupation of the position since the departure of Augusto Pinochet in 1990.\\nIn the aftermath of the social unrest that erupted in late 2019, Benira's ability to judge according to the principle of the presidential system led to allegations that Chile is in a parliamentary parliamentary state by virtue of reality or must become parliamentary.\",\n",
              " 'hi': 'Miguel Juan Sebastian Pinera Ichanic (December 1, 1949 - February 6, 2024) was the President of Chile from 2010 to 2014 and then from 2018 to 2022.',\n",
              " 'ru': 'Migul Huan Sebastyan Pigneur Echenyka (Spanish Miguel Juan Sebastián Piñera Echenique [Miˈɣel ˈxwan Suxyasˈtjan Piˈɲeɾa etʃnike]; December 1, 1949 [], Santiago - February 6, 2024, Ranko, Ranko, RankoLos Rios)-Chilean economist, investor and politician.President Chile in 2010-2014 and 2018–2022.Billionaire.\\n\\n\\n== Family ==\\nFather - Jose Piner Carvaio, one of the founders of the CDP, under President Eduardo Frey - Ambassador to Belgium and at the UN.Sebastian had 3 brother and 2 sisters.One of the brothers, Jose-a famous economist and statesman, was a member of the Chicago Boys group.\\nSebastian Pigner was married, he has 2 sons and 2 daughters.\\n\\n\\n== Education and teaching ==\\nIn 1971, Pignera graduated from the Catholic University of Chile with a diploma in the field of business.Initially, Pignera built a scientific career.In 1971, he already taught the economy at the Chile University School of Economics, then moved to the Valparaiso business school.Until 1988, he taught the economy at a number of universities.In early 1970',\n",
              " 'pt': 'Miguel Juan Sebastián Piñera Echenique (Santiago, December 1, 1949 - Lago Ranco, February 6, 2024) was a Chilean businessman and politician.He was the President of the Republic of Chile, having held his position twice: between 2010 and 2014, and between 2018 and 2022. It was also, between 2011 and 2013, the first pro tempore president of Celac and, from 2019 to 2024, the first Prosul Pro Tempore president.\\nHe was a senator from 1990 to 1998 and a candidate for the presidency of the Republic in the 2005 elections, when he was defeated in the second round by socialist Michelle Bachelet.He became president of Chile in 2010 and again in 2018. Before the protests that broke out in late 2019, Piñera had taken a partially tough position on corruption and organized crime.He ordered the Minister of Justice, Hernán Larraín, to legally repress and dissolve corrupt organizations in the country, such as the Chilean branch of the Edwin Symonowicz Foundation, owned by Polish singer and geographer Edwin',\n",
              " 'ja': \"Miguel Juan Sebastián Piñera Echenique (West: Miguel Juan Sebastián Piñera Echenique, December 1, 1949 - February 6, 2024) is a politician in the Republic of Chile.He served as the 35th and 37th presidents and the senator.He is a member of the National Innovation Party, which follows the military dictatorship of August Pinochet.\\nHe owns many companies and shares, including credit card companies, media and airlines.He is ranked 437th in the world with a total assets of $2.2 billion by the American economic magazine Forbes, and is one of Chile's millionaires, having owned other soccer club teams.She married Cecilia Morale and has four children.Her younger brother is singer Miguel Piñera.He is a Catholic.\\n\\n\\n== Biography ==\\nHis father was the United Nations ambassador, so he lived in Belgium and the United States of America as a boy.He studied commercial engineering at the Catholic University of Chile (PUC) and graduated in 1971.He has studied abroad at Harvard University to study economics.From 1971 to 1988, he taught economics at the Catholic University of Chile, the University of Chile, and the University of Adolfo Ibañez.\\nHe served as president of the Bank of Talca in 1978 and since 1980 he served as general manager and chairman of Citicorp Chile.\\nAfter being elected from an independent political party to the Senate in 1990, he joined the National Innovation Party.He became the leader of the party in 2001, and in 2005 he ran for president but was eliminated.As a shareholder, he owned about one point 100% of the national television station Chilevisión, 27% of the Ran Airlines and 13% of the soccer club CSD CoroCoro.\\n\\n\\n=== President ===\\nIn 2010, he was elected president of the Republic of Chile.He is the first politician to form the tide of the military dictatorship of Augusto Pinochet, in Chile, which had been a centre-left government since the transfer of civilian rule in 1990.He took office on March 11th of the same year.On this day, a major M6.9 earthquake occurred near Pichirem, and aftershocks occurred just before and during the inauguration ceremony.From August to October, the company was praised for responding to the Copiapo mine crash.\\nIn 2011, plans to build a hydroelectric power plant called Hidro Aysén in Patagonia, Chile, and massive student protests across the country caused approval ratings to fall from 63% at the end of 2009 to 36%, but before the end of office in February 2014, approval ratings recovered to 50%.\\nA big challenge to become a president\",\n",
              " 'sw': 'Miguel Juan Sebastián Piñera Echenique (born 1 December 1949) is a Chilean businessman and billionaire, now Chilean President since 2018, previously serving from 2010 to 2014.'}"
            ]
          },
          "metadata": {},
          "execution_count": 39
        }
      ]
    },
    {
      "cell_type": "code",
      "source": [
        "# Comparison between english texts, and translated texts :\n",
        "\n",
        "# Jaccard Similitary\n",
        "\n",
        "def jaccard_similarity(text1, text2):\n",
        "    set1 = set(text1.lower().split())\n",
        "    set2 = set(text2.lower().split())\n",
        "\n",
        "    intersection = len(set1 & set2)\n",
        "    union = len(set1 | set2)\n",
        "\n",
        "    return intersection / union\n",
        "\n",
        "# Levenstein Distance\n",
        "\n",
        "!pip install Levenshtein --quiet\n",
        "import Levenshtein\n",
        "\n",
        "def levenshtein_distance(text1, text2):\n",
        "    return Levenshtein.distance(text1, text2)"
      ],
      "metadata": {
        "colab": {
          "base_uri": "https://localhost:8080/"
        },
        "id": "pKA85CJmffc_",
        "outputId": "33145583-a76e-4299-9484-115702556a6c"
      },
      "execution_count": 42,
      "outputs": [
        {
          "output_type": "stream",
          "name": "stdout",
          "text": [
            "\u001b[?25l   \u001b[90m━━━━━━━━━━━━━━━━━━━━━━━━━━━━━━━━━━━━━━━━\u001b[0m \u001b[32m0.0/161.7 kB\u001b[0m \u001b[31m?\u001b[0m eta \u001b[36m-:--:--\u001b[0m\r\u001b[2K   \u001b[90m━━━━━━━━━━━━━━━━━━━━━━━━━━━━━━━━━━━━━━━━\u001b[0m \u001b[32m161.7/161.7 kB\u001b[0m \u001b[31m9.4 MB/s\u001b[0m eta \u001b[36m0:00:00\u001b[0m\n",
            "\u001b[?25h\u001b[?25l   \u001b[90m━━━━━━━━━━━━━━━━━━━━━━━━━━━━━━━━━━━━━━━━\u001b[0m \u001b[32m0.0/3.1 MB\u001b[0m \u001b[31m?\u001b[0m eta \u001b[36m-:--:--\u001b[0m\r\u001b[2K   \u001b[91m━━━━━━━━━━━━━━━━━━━━━━━━━━━━━━━━━━━━━━━\u001b[0m\u001b[91m╸\u001b[0m \u001b[32m3.1/3.1 MB\u001b[0m \u001b[31m135.5 MB/s\u001b[0m eta \u001b[36m0:00:01\u001b[0m\r\u001b[2K   \u001b[90m━━━━━━━━━━━━━━━━━━━━━━━━━━━━━━━━━━━━━━━━\u001b[0m \u001b[32m3.1/3.1 MB\u001b[0m \u001b[31m71.0 MB/s\u001b[0m eta \u001b[36m0:00:00\u001b[0m\n",
            "\u001b[?25hSimilarité Jaccard : 0.16666666666666666\n",
            "Distance de Levenshtein : 17\n"
          ]
        }
      ]
    },
    {
      "cell_type": "code",
      "source": [
        "for lang, text in dict_english.items():\n",
        "  print(f\"Levensetien Distance : en - {lang} : \", levenshtein_distance(dict_languages['en'], dict_languages[f'{lang}']))"
      ],
      "metadata": {
        "colab": {
          "base_uri": "https://localhost:8080/"
        },
        "id": "JfSF59LYh919",
        "outputId": "9f5a122a-0884-4880-83fe-09dc64a7b0c4"
      },
      "execution_count": 45,
      "outputs": [
        {
          "output_type": "stream",
          "name": "stdout",
          "text": [
            "Levensetien Distance : en - en :  0\n",
            "Levensetien Distance : en - fr :  780\n",
            "Levensetien Distance : en - es :  789\n",
            "Levensetien Distance : en - zh :  931\n",
            "Levensetien Distance : en - ar :  925\n",
            "Levensetien Distance : en - hi :  948\n",
            "Levensetien Distance : en - ru :  884\n",
            "Levensetien Distance : en - pt :  774\n",
            "Levensetien Distance : en - ja :  982\n",
            "Levensetien Distance : en - sw :  841\n"
          ]
        }
      ]
    }
  ]
}