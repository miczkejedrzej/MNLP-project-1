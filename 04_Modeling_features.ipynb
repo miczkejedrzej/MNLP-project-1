{
  "nbformat": 4,
  "nbformat_minor": 0,
  "metadata": {
    "colab": {
      "provenance": [],
      "gpuType": "T4",
      "toc_visible": true,
      "include_colab_link": true
    },
    "kernelspec": {
      "name": "python3",
      "display_name": "Python 3"
    },
    "language_info": {
      "name": "python"
    },
    "accelerator": "GPU",
    "widgets": {
      "application/vnd.jupyter.widget-state+json": {
        "f41196c8bc3f44baa16b9627a33b4659": {
          "model_module": "@jupyter-widgets/controls",
          "model_name": "HBoxModel",
          "model_module_version": "1.5.0",
          "state": {
            "_dom_classes": [],
            "_model_module": "@jupyter-widgets/controls",
            "_model_module_version": "1.5.0",
            "_model_name": "HBoxModel",
            "_view_count": null,
            "_view_module": "@jupyter-widgets/controls",
            "_view_module_version": "1.5.0",
            "_view_name": "HBoxView",
            "box_style": "",
            "children": [
              "IPY_MODEL_2b36384c4dbd4c56a7863f7ff7e44c08",
              "IPY_MODEL_f78b3e118ec54637891e6c5c6724b109",
              "IPY_MODEL_cd8aa1ee2dd642258fb35ef30b10e56d"
            ],
            "layout": "IPY_MODEL_d1e320b766944522a3181b953de77a1a"
          }
        },
        "2b36384c4dbd4c56a7863f7ff7e44c08": {
          "model_module": "@jupyter-widgets/controls",
          "model_name": "HTMLModel",
          "model_module_version": "1.5.0",
          "state": {
            "_dom_classes": [],
            "_model_module": "@jupyter-widgets/controls",
            "_model_module_version": "1.5.0",
            "_model_name": "HTMLModel",
            "_view_count": null,
            "_view_module": "@jupyter-widgets/controls",
            "_view_module_version": "1.5.0",
            "_view_name": "HTMLView",
            "description": "",
            "description_tooltip": null,
            "layout": "IPY_MODEL_9f953520fced4cc294c19ae16bd6f07d",
            "placeholder": "​",
            "style": "IPY_MODEL_6a82ea36a8dd4335aee2603b3ef9dc20",
            "value": "model_logits_features.keras: 100%"
          }
        },
        "f78b3e118ec54637891e6c5c6724b109": {
          "model_module": "@jupyter-widgets/controls",
          "model_name": "FloatProgressModel",
          "model_module_version": "1.5.0",
          "state": {
            "_dom_classes": [],
            "_model_module": "@jupyter-widgets/controls",
            "_model_module_version": "1.5.0",
            "_model_name": "FloatProgressModel",
            "_view_count": null,
            "_view_module": "@jupyter-widgets/controls",
            "_view_module_version": "1.5.0",
            "_view_name": "ProgressView",
            "bar_style": "success",
            "description": "",
            "description_tooltip": null,
            "layout": "IPY_MODEL_14824d8ae9664903bff172a246e86e1f",
            "max": 8743763,
            "min": 0,
            "orientation": "horizontal",
            "style": "IPY_MODEL_040d8625337d4a6a9224ed9dca00d644",
            "value": 8743763
          }
        },
        "cd8aa1ee2dd642258fb35ef30b10e56d": {
          "model_module": "@jupyter-widgets/controls",
          "model_name": "HTMLModel",
          "model_module_version": "1.5.0",
          "state": {
            "_dom_classes": [],
            "_model_module": "@jupyter-widgets/controls",
            "_model_module_version": "1.5.0",
            "_model_name": "HTMLModel",
            "_view_count": null,
            "_view_module": "@jupyter-widgets/controls",
            "_view_module_version": "1.5.0",
            "_view_name": "HTMLView",
            "description": "",
            "description_tooltip": null,
            "layout": "IPY_MODEL_a901c24fddf942e3b38805d941b9e969",
            "placeholder": "​",
            "style": "IPY_MODEL_a174eed6abc748109cde1be5fae8443a",
            "value": " 8.74M/8.74M [00:00&lt;00:00, 24.8MB/s]"
          }
        },
        "d1e320b766944522a3181b953de77a1a": {
          "model_module": "@jupyter-widgets/base",
          "model_name": "LayoutModel",
          "model_module_version": "1.2.0",
          "state": {
            "_model_module": "@jupyter-widgets/base",
            "_model_module_version": "1.2.0",
            "_model_name": "LayoutModel",
            "_view_count": null,
            "_view_module": "@jupyter-widgets/base",
            "_view_module_version": "1.2.0",
            "_view_name": "LayoutView",
            "align_content": null,
            "align_items": null,
            "align_self": null,
            "border": null,
            "bottom": null,
            "display": null,
            "flex": null,
            "flex_flow": null,
            "grid_area": null,
            "grid_auto_columns": null,
            "grid_auto_flow": null,
            "grid_auto_rows": null,
            "grid_column": null,
            "grid_gap": null,
            "grid_row": null,
            "grid_template_areas": null,
            "grid_template_columns": null,
            "grid_template_rows": null,
            "height": null,
            "justify_content": null,
            "justify_items": null,
            "left": null,
            "margin": null,
            "max_height": null,
            "max_width": null,
            "min_height": null,
            "min_width": null,
            "object_fit": null,
            "object_position": null,
            "order": null,
            "overflow": null,
            "overflow_x": null,
            "overflow_y": null,
            "padding": null,
            "right": null,
            "top": null,
            "visibility": null,
            "width": null
          }
        },
        "9f953520fced4cc294c19ae16bd6f07d": {
          "model_module": "@jupyter-widgets/base",
          "model_name": "LayoutModel",
          "model_module_version": "1.2.0",
          "state": {
            "_model_module": "@jupyter-widgets/base",
            "_model_module_version": "1.2.0",
            "_model_name": "LayoutModel",
            "_view_count": null,
            "_view_module": "@jupyter-widgets/base",
            "_view_module_version": "1.2.0",
            "_view_name": "LayoutView",
            "align_content": null,
            "align_items": null,
            "align_self": null,
            "border": null,
            "bottom": null,
            "display": null,
            "flex": null,
            "flex_flow": null,
            "grid_area": null,
            "grid_auto_columns": null,
            "grid_auto_flow": null,
            "grid_auto_rows": null,
            "grid_column": null,
            "grid_gap": null,
            "grid_row": null,
            "grid_template_areas": null,
            "grid_template_columns": null,
            "grid_template_rows": null,
            "height": null,
            "justify_content": null,
            "justify_items": null,
            "left": null,
            "margin": null,
            "max_height": null,
            "max_width": null,
            "min_height": null,
            "min_width": null,
            "object_fit": null,
            "object_position": null,
            "order": null,
            "overflow": null,
            "overflow_x": null,
            "overflow_y": null,
            "padding": null,
            "right": null,
            "top": null,
            "visibility": null,
            "width": null
          }
        },
        "6a82ea36a8dd4335aee2603b3ef9dc20": {
          "model_module": "@jupyter-widgets/controls",
          "model_name": "DescriptionStyleModel",
          "model_module_version": "1.5.0",
          "state": {
            "_model_module": "@jupyter-widgets/controls",
            "_model_module_version": "1.5.0",
            "_model_name": "DescriptionStyleModel",
            "_view_count": null,
            "_view_module": "@jupyter-widgets/base",
            "_view_module_version": "1.2.0",
            "_view_name": "StyleView",
            "description_width": ""
          }
        },
        "14824d8ae9664903bff172a246e86e1f": {
          "model_module": "@jupyter-widgets/base",
          "model_name": "LayoutModel",
          "model_module_version": "1.2.0",
          "state": {
            "_model_module": "@jupyter-widgets/base",
            "_model_module_version": "1.2.0",
            "_model_name": "LayoutModel",
            "_view_count": null,
            "_view_module": "@jupyter-widgets/base",
            "_view_module_version": "1.2.0",
            "_view_name": "LayoutView",
            "align_content": null,
            "align_items": null,
            "align_self": null,
            "border": null,
            "bottom": null,
            "display": null,
            "flex": null,
            "flex_flow": null,
            "grid_area": null,
            "grid_auto_columns": null,
            "grid_auto_flow": null,
            "grid_auto_rows": null,
            "grid_column": null,
            "grid_gap": null,
            "grid_row": null,
            "grid_template_areas": null,
            "grid_template_columns": null,
            "grid_template_rows": null,
            "height": null,
            "justify_content": null,
            "justify_items": null,
            "left": null,
            "margin": null,
            "max_height": null,
            "max_width": null,
            "min_height": null,
            "min_width": null,
            "object_fit": null,
            "object_position": null,
            "order": null,
            "overflow": null,
            "overflow_x": null,
            "overflow_y": null,
            "padding": null,
            "right": null,
            "top": null,
            "visibility": null,
            "width": null
          }
        },
        "040d8625337d4a6a9224ed9dca00d644": {
          "model_module": "@jupyter-widgets/controls",
          "model_name": "ProgressStyleModel",
          "model_module_version": "1.5.0",
          "state": {
            "_model_module": "@jupyter-widgets/controls",
            "_model_module_version": "1.5.0",
            "_model_name": "ProgressStyleModel",
            "_view_count": null,
            "_view_module": "@jupyter-widgets/base",
            "_view_module_version": "1.2.0",
            "_view_name": "StyleView",
            "bar_color": null,
            "description_width": ""
          }
        },
        "a901c24fddf942e3b38805d941b9e969": {
          "model_module": "@jupyter-widgets/base",
          "model_name": "LayoutModel",
          "model_module_version": "1.2.0",
          "state": {
            "_model_module": "@jupyter-widgets/base",
            "_model_module_version": "1.2.0",
            "_model_name": "LayoutModel",
            "_view_count": null,
            "_view_module": "@jupyter-widgets/base",
            "_view_module_version": "1.2.0",
            "_view_name": "LayoutView",
            "align_content": null,
            "align_items": null,
            "align_self": null,
            "border": null,
            "bottom": null,
            "display": null,
            "flex": null,
            "flex_flow": null,
            "grid_area": null,
            "grid_auto_columns": null,
            "grid_auto_flow": null,
            "grid_auto_rows": null,
            "grid_column": null,
            "grid_gap": null,
            "grid_row": null,
            "grid_template_areas": null,
            "grid_template_columns": null,
            "grid_template_rows": null,
            "height": null,
            "justify_content": null,
            "justify_items": null,
            "left": null,
            "margin": null,
            "max_height": null,
            "max_width": null,
            "min_height": null,
            "min_width": null,
            "object_fit": null,
            "object_position": null,
            "order": null,
            "overflow": null,
            "overflow_x": null,
            "overflow_y": null,
            "padding": null,
            "right": null,
            "top": null,
            "visibility": null,
            "width": null
          }
        },
        "a174eed6abc748109cde1be5fae8443a": {
          "model_module": "@jupyter-widgets/controls",
          "model_name": "DescriptionStyleModel",
          "model_module_version": "1.5.0",
          "state": {
            "_model_module": "@jupyter-widgets/controls",
            "_model_module_version": "1.5.0",
            "_model_name": "DescriptionStyleModel",
            "_view_count": null,
            "_view_module": "@jupyter-widgets/base",
            "_view_module_version": "1.2.0",
            "_view_name": "StyleView",
            "description_width": ""
          }
        }
      }
    }
  },
  "cells": [
    {
      "cell_type": "markdown",
      "metadata": {
        "id": "view-in-github",
        "colab_type": "text"
      },
      "source": [
        "<a href=\"https://colab.research.google.com/github/miczkejedrzej/MNLP-project-1/blob/main/04_Modeling_features.ipynb\" target=\"_parent\"><img src=\"https://colab.research.google.com/assets/colab-badge.svg\" alt=\"Open In Colab\"/></a>"
      ]
    },
    {
      "cell_type": "markdown",
      "source": [
        "# Modelization - Neural network based on the extracted features\n",
        "\n",
        "In this notebook we will teach the neural network based on the features we have extracted from the wikidata and wikipedia.\n",
        "We will try a neural network model"
      ],
      "metadata": {
        "id": "SPqNN6HfglJA"
      }
    },
    {
      "cell_type": "code",
      "execution_count": 1,
      "metadata": {
        "id": "YZSRucX6c70p"
      },
      "outputs": [],
      "source": [
        "# Import of the training data\n",
        "\n",
        "from google.colab import files\n",
        "\n",
        "# Import of moduls\n",
        "\n",
        "import matplotlib.pyplot as plt\n",
        "import pandas as pd\n",
        "import numpy as np\n",
        "import json\n",
        "import tensorflow as tf\n",
        "from tensorflow.keras.utils import to_categorical\n",
        "from tensorflow.keras import layers, models, callbacks\n",
        "from tensorflow.keras.optimizers import Adam\n",
        "from tensorflow.keras.layers import LeakyReLU\n",
        "from sklearn.metrics import accuracy_score\n",
        "from sklearn.model_selection import train_test_split\n",
        "from sklearn.preprocessing import StandardScaler, OneHotEncoder,MinMaxScaler\n",
        "from sklearn.impute import SimpleImputer\n",
        "from sklearn.compose import ColumnTransformer\n",
        "from sklearn.pipeline import Pipeline\n",
        "from tensorflow.keras.utils import to_categorical\n",
        "from xgboost import XGBClassifier\n",
        "from sklearn.metrics import accuracy_score\n",
        "from sklearn.linear_model import LogisticRegression\n",
        "from sklearn.svm import SVC\n",
        "from sklearn.ensemble import RandomForestClassifier\n",
        "from sklearn.metrics import confusion_matrix\n",
        "from sklearn.metrics import classification_report\n",
        "import seaborn as sns\n",
        "from tensorflow.keras.models import Model\n",
        "from sklearn.model_selection import StratifiedKFold\n",
        "import math\n",
        "\n",
        "from tqdm.auto import tqdm\n",
        "import warnings\n",
        "warnings.simplefilter(action='ignore', category=FutureWarning)"
      ]
    },
    {
      "cell_type": "code",
      "source": [
        "from google.colab import drive\n",
        "drive.mount('/content/drive')\n",
        "import pandas as pd\n",
        "\n",
        "train_df = pd.read_json('/content/drive/MyDrive/France_Poland_multilanguage_shared_folder/train_df_complete.json', orient=\"records\", lines=True)\n",
        "dev_df = pd.read_json('/content/drive/MyDrive/France_Poland_multilanguage_shared_folder/dev_df_complete.json', orient=\"records\", lines=True)"
      ],
      "metadata": {
        "id": "1kNd_-fguCid",
        "outputId": "ffb578e2-6460-423b-f287-fe7bad9693aa",
        "colab": {
          "base_uri": "https://localhost:8080/"
        }
      },
      "execution_count": 3,
      "outputs": [
        {
          "output_type": "stream",
          "name": "stdout",
          "text": [
            "Drive already mounted at /content/drive; to attempt to forcibly remount, call drive.mount(\"/content/drive\", force_remount=True).\n"
          ]
        }
      ]
    },
    {
      "cell_type": "markdown",
      "source": [
        "## Reproducibility : seed"
      ],
      "metadata": {
        "id": "rnPW_Uy4fGOo"
      }
    },
    {
      "cell_type": "markdown",
      "source": [
        "tf random seed set so that the experiments with the neural netowrk are reproducible"
      ],
      "metadata": {
        "id": "NNGO0Vu2gVTJ"
      }
    },
    {
      "cell_type": "code",
      "source": [
        "SEED = 42\n",
        "tf.random.set_seed(SEED)"
      ],
      "metadata": {
        "id": "cSqMQmFGenDZ"
      },
      "execution_count": null,
      "outputs": []
    },
    {
      "cell_type": "markdown",
      "source": [
        "## Data preparation"
      ],
      "metadata": {
        "id": "J9ExQ6hOiYTP"
      }
    },
    {
      "cell_type": "markdown",
      "source": [
        "Here we adjust our dataframe in order to prepare it in the correct format for the neural network"
      ],
      "metadata": {
        "id": "rBo7NvUJgRzY"
      }
    },
    {
      "cell_type": "code",
      "source": [
        "# Get the list of explicatives variables\n",
        "list_var = ['subclass_depth', 'subclasses', 'instances_of', 'instances_of_up', 'date', 'nb_lang',\n",
        "       'descr_num_nouns', 'descr_num_verbs',\n",
        "       'descr_num_adjectives', 'descr_has_location', 'descr_has_ethnic_group',\n",
        "       'descr_has_event', 'type_cat', 'category_architecture',\n",
        "       'category_biology', 'category_comics and anime', 'category_fashion',\n",
        "       'category_films', 'category_food', 'category_geography',\n",
        "       'category_literature', 'category_media', 'category_music',\n",
        "       'category_politics', 'category_sports', 'category_transportation',\n",
        "       'category_visual arts', 'category_combined',\n",
        "       'main_country_cat'\n",
        "]\n",
        "\n",
        "# Create the X and y, train and dev\n",
        "X_train = train_df[list_var]\n",
        "y_train = train_df['label_int'].values\n",
        "\n",
        "X_dev = dev_df[list_var]\n",
        "y_dev = dev_df['label_int'].values\n",
        "\n",
        "# Selecting numerical columns from X_train (all of them are int64 or float64)\n",
        "num_cols = X_train.select_dtypes(include=['int64', 'float64']).columns.tolist()\n",
        "\n",
        "# Defining pipeline: impute Nan, then scale\n",
        "num_pipeline = Pipeline([\n",
        "    ('imputer', SimpleImputer(strategy='mean')),\n",
        "    ('scaler', MinMaxScaler())\n",
        "])\n",
        "\n",
        "# Appling pipeline to numeric columns\n",
        "preprocessor = ColumnTransformer([\n",
        "    ('num', num_pipeline, num_cols)\n",
        "])\n",
        "\n",
        "\n",
        "#adjustin the data to proper format\n",
        "X_train_processed = preprocessor.fit_transform(X_train)\n",
        "X_dev_processed = preprocessor.transform(X_dev)\n",
        "\n",
        "# float cast\n",
        "X_train_processed = X_train_processed.astype('float32')\n",
        "X_dev_processed = X_dev_processed.astype('float32')\n",
        "\n",
        "# One-hot encode labels\n",
        "y_train_cat = to_categorical(y_train, num_classes=3)\n",
        "y_dev_cat = to_categorical(y_dev, num_classes=3)"
      ],
      "metadata": {
        "id": "_fVr0hu-iX1f"
      },
      "execution_count": null,
      "outputs": []
    },
    {
      "cell_type": "markdown",
      "source": [
        "## Training - Hyperparameter tuning\n",
        "\n",
        "  Firstly we try our network with the k-fold(k=5) cross validation in order to know how many epochs should we train our neural network not to underfit and not to overfit\n"
      ],
      "metadata": {
        "id": "9WknBsxV4XSU"
      }
    },
    {
      "cell_type": "code",
      "source": [
        "# Build early stop and reduce lr conditions\n",
        "early_stop = callbacks.EarlyStopping(monitor='val_loss', patience=5, restore_best_weights=True)\n",
        "reduce_lr = callbacks.ReduceLROnPlateau(monitor='val_loss', factor=0.5, patience=5)\n",
        "\n",
        "# Create the 5 folds\n",
        "kfold = StratifiedKFold(n_splits=5, shuffle=True, random_state=42)\n",
        "epochs_per_fold = []\n",
        "\n",
        "# Loop over the folds\n",
        "for train_indices, val_indices in kfold.split(X_train_processed,y_train):\n",
        "\n",
        "    # Get the data from the fold\n",
        "    X_train_fold, X_val_fold = X_train_processed[train_indices], X_train_processed[val_indices]\n",
        "    y_train_fold, y_val_fold = y_train[train_indices], y_train[val_indices]\n",
        "\n",
        "    # Create the classification model\n",
        "    model_classification = models.Sequential()\n",
        "\n",
        "    # Create the first layer, and add it to the model\n",
        "    input_layer = layers.Input(shape=(29,), name=\"input_layer\")\n",
        "    model_classification.add(input_layer)\n",
        "\n",
        "    # Build many blocs\n",
        "    for i, units in enumerate([1024, 1024, 512, 512, 256, 256, 128, 128, 64, 64, 32, 32]):\n",
        "\n",
        "        # Creation of the layers\n",
        "        dense_layer = layers.Dense(units, name=f\"dense_layer_{i}\")\n",
        "        leaky_relu = LeakyReLU(alpha=0.1, name=f\"leaky_relu_{i}\")\n",
        "        batch_norm = layers.BatchNormalization(name=f\"batch_norm_{i}\")\n",
        "        dropout = layers.Dropout(0.3 if units > 128 else 0.2, name=f\"dropout_{i}\")\n",
        "\n",
        "        # Adding layers to the model\n",
        "        model_classification.add(dense_layer)\n",
        "        model_classification.add(leaky_relu)\n",
        "        model_classification.add(batch_norm)\n",
        "        model_classification.add(dropout)\n",
        "\n",
        "    # Add the final layers\n",
        "    logits_output = layers.Dense(3, name=\"logits\")\n",
        "    model_classification.add(logits_output)\n",
        "    softmax_output = layers.Activation('softmax', name=\"softmax\")\n",
        "    model_classification.add(softmax_output)\n",
        "\n",
        "    # Compile\n",
        "    model_classification.compile(optimizer=Adam(learning_rate=1e-3),\n",
        "                  loss='sparse_categorical_crossentropy',\n",
        "                  metrics=['accuracy'])\n",
        "\n",
        "\n",
        "\n",
        "    history = model_classification.fit(\n",
        "        X_train_fold, y_train_fold,\n",
        "        validation_data=(X_val_fold, y_val_fold),\n",
        "        epochs=200,\n",
        "        batch_size=64,\n",
        "        callbacks=[early_stop, reduce_lr]\n",
        "    )\n",
        "    epochs_per_fold.append(len(history.history['loss']))\n",
        "\n",
        "\n",
        "print(f\"mean num of epochs per fold is : {np.mean(epochs_per_fold)}\")"
      ],
      "metadata": {
        "id": "XtYxEsGg6dOE",
        "outputId": "b3011c15-56a4-4363-c4ff-4c8d0d1cd3bc",
        "colab": {
          "base_uri": "https://localhost:8080/"
        }
      },
      "execution_count": null,
      "outputs": [
        {
          "metadata": {
            "tags": null
          },
          "name": "stderr",
          "output_type": "stream",
          "text": [
            "/usr/local/lib/python3.11/dist-packages/keras/src/layers/activations/leaky_relu.py:41: UserWarning: Argument `alpha` is deprecated. Use `negative_slope` instead.\n",
            "  warnings.warn(\n"
          ]
        },
        {
          "output_type": "stream",
          "name": "stdout",
          "text": [
            "Epoch 1/200\n",
            "\u001b[1m79/79\u001b[0m \u001b[32m━━━━━━━━━━━━━━━━━━━━\u001b[0m\u001b[37m\u001b[0m \u001b[1m29s\u001b[0m 148ms/step - accuracy: 0.3894 - loss: 1.3557 - val_accuracy: 0.4301 - val_loss: 1.0424 - learning_rate: 0.0010\n",
            "Epoch 2/200\n",
            "\u001b[1m79/79\u001b[0m \u001b[32m━━━━━━━━━━━━━━━━━━━━\u001b[0m\u001b[37m\u001b[0m \u001b[1m20s\u001b[0m 7ms/step - accuracy: 0.5931 - loss: 0.9030 - val_accuracy: 0.4636 - val_loss: 0.9798 - learning_rate: 0.0010\n",
            "Epoch 3/200\n",
            "\u001b[1m79/79\u001b[0m \u001b[32m━━━━━━━━━━━━━━━━━━━━\u001b[0m\u001b[37m\u001b[0m \u001b[1m1s\u001b[0m 8ms/step - accuracy: 0.6014 - loss: 0.8353 - val_accuracy: 0.5068 - val_loss: 0.8691 - learning_rate: 0.0010\n",
            "Epoch 4/200\n",
            "\u001b[1m79/79\u001b[0m \u001b[32m━━━━━━━━━━━━━━━━━━━━\u001b[0m\u001b[37m\u001b[0m \u001b[1m1s\u001b[0m 10ms/step - accuracy: 0.6541 - loss: 0.7627 - val_accuracy: 0.6291 - val_loss: 0.7880 - learning_rate: 0.0010\n",
            "Epoch 5/200\n",
            "\u001b[1m79/79\u001b[0m \u001b[32m━━━━━━━━━━━━━━━━━━━━\u001b[0m\u001b[37m\u001b[0m \u001b[1m1s\u001b[0m 7ms/step - accuracy: 0.6651 - loss: 0.7321 - val_accuracy: 0.6243 - val_loss: 0.7648 - learning_rate: 0.0010\n",
            "Epoch 6/200\n",
            "\u001b[1m79/79\u001b[0m \u001b[32m━━━━━━━━━━━━━━━━━━━━\u001b[0m\u001b[37m\u001b[0m \u001b[1m1s\u001b[0m 8ms/step - accuracy: 0.6729 - loss: 0.7185 - val_accuracy: 0.6763 - val_loss: 0.7148 - learning_rate: 0.0010\n",
            "Epoch 7/200\n",
            "\u001b[1m79/79\u001b[0m \u001b[32m━━━━━━━━━━━━━━━━━━━━\u001b[0m\u001b[37m\u001b[0m \u001b[1m1s\u001b[0m 7ms/step - accuracy: 0.6942 - loss: 0.6947 - val_accuracy: 0.6795 - val_loss: 0.6787 - learning_rate: 0.0010\n",
            "Epoch 8/200\n",
            "\u001b[1m79/79\u001b[0m \u001b[32m━━━━━━━━━━━━━━━━━━━━\u001b[0m\u001b[37m\u001b[0m \u001b[1m1s\u001b[0m 7ms/step - accuracy: 0.7032 - loss: 0.6824 - val_accuracy: 0.7082 - val_loss: 0.6507 - learning_rate: 0.0010\n",
            "Epoch 9/200\n",
            "\u001b[1m79/79\u001b[0m \u001b[32m━━━━━━━━━━━━━━━━━━━━\u001b[0m\u001b[37m\u001b[0m \u001b[1m1s\u001b[0m 7ms/step - accuracy: 0.7153 - loss: 0.6619 - val_accuracy: 0.7210 - val_loss: 0.6458 - learning_rate: 0.0010\n",
            "Epoch 10/200\n",
            "\u001b[1m79/79\u001b[0m \u001b[32m━━━━━━━━━━━━━━━━━━━━\u001b[0m\u001b[37m\u001b[0m \u001b[1m1s\u001b[0m 8ms/step - accuracy: 0.7260 - loss: 0.6512 - val_accuracy: 0.7346 - val_loss: 0.6452 - learning_rate: 0.0010\n",
            "Epoch 11/200\n",
            "\u001b[1m79/79\u001b[0m \u001b[32m━━━━━━━━━━━━━━━━━━━━\u001b[0m\u001b[37m\u001b[0m \u001b[1m1s\u001b[0m 7ms/step - accuracy: 0.7269 - loss: 0.6479 - val_accuracy: 0.7426 - val_loss: 0.6330 - learning_rate: 0.0010\n",
            "Epoch 12/200\n",
            "\u001b[1m79/79\u001b[0m \u001b[32m━━━━━━━━━━━━━━━━━━━━\u001b[0m\u001b[37m\u001b[0m \u001b[1m1s\u001b[0m 6ms/step - accuracy: 0.7410 - loss: 0.6306 - val_accuracy: 0.7354 - val_loss: 0.6357 - learning_rate: 0.0010\n",
            "Epoch 13/200\n",
            "\u001b[1m79/79\u001b[0m \u001b[32m━━━━━━━━━━━━━━━━━━━━\u001b[0m\u001b[37m\u001b[0m \u001b[1m1s\u001b[0m 7ms/step - accuracy: 0.7479 - loss: 0.6179 - val_accuracy: 0.7538 - val_loss: 0.6317 - learning_rate: 0.0010\n",
            "Epoch 14/200\n",
            "\u001b[1m79/79\u001b[0m \u001b[32m━━━━━━━━━━━━━━━━━━━━\u001b[0m\u001b[37m\u001b[0m \u001b[1m1s\u001b[0m 7ms/step - accuracy: 0.7525 - loss: 0.6159 - val_accuracy: 0.7554 - val_loss: 0.6216 - learning_rate: 0.0010\n",
            "Epoch 15/200\n",
            "\u001b[1m79/79\u001b[0m \u001b[32m━━━━━━━━━━━━━━━━━━━━\u001b[0m\u001b[37m\u001b[0m \u001b[1m1s\u001b[0m 8ms/step - accuracy: 0.7479 - loss: 0.6098 - val_accuracy: 0.7498 - val_loss: 0.6202 - learning_rate: 0.0010\n",
            "Epoch 16/200\n",
            "\u001b[1m79/79\u001b[0m \u001b[32m━━━━━━━━━━━━━━━━━━━━\u001b[0m\u001b[37m\u001b[0m \u001b[1m1s\u001b[0m 6ms/step - accuracy: 0.7526 - loss: 0.6061 - val_accuracy: 0.7418 - val_loss: 0.6225 - learning_rate: 0.0010\n",
            "Epoch 17/200\n",
            "\u001b[1m79/79\u001b[0m \u001b[32m━━━━━━━━━━━━━━━━━━━━\u001b[0m\u001b[37m\u001b[0m \u001b[1m1s\u001b[0m 6ms/step - accuracy: 0.7553 - loss: 0.5983 - val_accuracy: 0.7514 - val_loss: 0.6207 - learning_rate: 0.0010\n",
            "Epoch 18/200\n",
            "\u001b[1m79/79\u001b[0m \u001b[32m━━━━━━━━━━━━━━━━━━━━\u001b[0m\u001b[37m\u001b[0m \u001b[1m1s\u001b[0m 7ms/step - accuracy: 0.7610 - loss: 0.5992 - val_accuracy: 0.7458 - val_loss: 0.6129 - learning_rate: 0.0010\n",
            "Epoch 19/200\n",
            "\u001b[1m79/79\u001b[0m \u001b[32m━━━━━━━━━━━━━━━━━━━━\u001b[0m\u001b[37m\u001b[0m \u001b[1m1s\u001b[0m 7ms/step - accuracy: 0.7551 - loss: 0.6070 - val_accuracy: 0.7466 - val_loss: 0.6203 - learning_rate: 0.0010\n",
            "Epoch 20/200\n",
            "\u001b[1m79/79\u001b[0m \u001b[32m━━━━━━━━━━━━━━━━━━━━\u001b[0m\u001b[37m\u001b[0m \u001b[1m1s\u001b[0m 8ms/step - accuracy: 0.7599 - loss: 0.5964 - val_accuracy: 0.7474 - val_loss: 0.6127 - learning_rate: 0.0010\n",
            "Epoch 21/200\n",
            "\u001b[1m79/79\u001b[0m \u001b[32m━━━━━━━━━━━━━━━━━━━━\u001b[0m\u001b[37m\u001b[0m \u001b[1m1s\u001b[0m 11ms/step - accuracy: 0.7592 - loss: 0.5802 - val_accuracy: 0.7482 - val_loss: 0.6257 - learning_rate: 0.0010\n",
            "Epoch 22/200\n",
            "\u001b[1m79/79\u001b[0m \u001b[32m━━━━━━━━━━━━━━━━━━━━\u001b[0m\u001b[37m\u001b[0m \u001b[1m1s\u001b[0m 9ms/step - accuracy: 0.7677 - loss: 0.5817 - val_accuracy: 0.7370 - val_loss: 0.6276 - learning_rate: 0.0010\n",
            "Epoch 23/200\n",
            "\u001b[1m79/79\u001b[0m \u001b[32m━━━━━━━━━━━━━━━━━━━━\u001b[0m\u001b[37m\u001b[0m \u001b[1m1s\u001b[0m 6ms/step - accuracy: 0.7667 - loss: 0.5826 - val_accuracy: 0.7522 - val_loss: 0.6211 - learning_rate: 0.0010\n",
            "Epoch 24/200\n",
            "\u001b[1m79/79\u001b[0m \u001b[32m━━━━━━━━━━━━━━━━━━━━\u001b[0m\u001b[37m\u001b[0m \u001b[1m1s\u001b[0m 6ms/step - accuracy: 0.7718 - loss: 0.5582 - val_accuracy: 0.7450 - val_loss: 0.6263 - learning_rate: 0.0010\n",
            "Epoch 25/200\n",
            "\u001b[1m79/79\u001b[0m \u001b[32m━━━━━━━━━━━━━━━━━━━━\u001b[0m\u001b[37m\u001b[0m \u001b[1m1s\u001b[0m 7ms/step - accuracy: 0.7708 - loss: 0.5852 - val_accuracy: 0.7554 - val_loss: 0.6176 - learning_rate: 0.0010\n",
            "Epoch 1/200\n",
            "\u001b[1m79/79\u001b[0m \u001b[32m━━━━━━━━━━━━━━━━━━━━\u001b[0m\u001b[37m\u001b[0m \u001b[1m28s\u001b[0m 149ms/step - accuracy: 0.4134 - loss: 1.4247 - val_accuracy: 0.5416 - val_loss: 1.0091 - learning_rate: 0.0010\n",
            "Epoch 2/200\n",
            "\u001b[1m79/79\u001b[0m \u001b[32m━━━━━━━━━━━━━━━━━━━━\u001b[0m\u001b[37m\u001b[0m \u001b[1m1s\u001b[0m 6ms/step - accuracy: 0.5788 - loss: 0.9478 - val_accuracy: 0.6040 - val_loss: 0.9234 - learning_rate: 0.0010\n",
            "Epoch 3/200\n",
            "\u001b[1m79/79\u001b[0m \u001b[32m━━━━━━━━━━━━━━━━━━━━\u001b[0m\u001b[37m\u001b[0m \u001b[1m1s\u001b[0m 6ms/step - accuracy: 0.6194 - loss: 0.8506 - val_accuracy: 0.6456 - val_loss: 0.8321 - learning_rate: 0.0010\n",
            "Epoch 4/200\n",
            "\u001b[1m79/79\u001b[0m \u001b[32m━━━━━━━━━━━━━━━━━━━━\u001b[0m\u001b[37m\u001b[0m \u001b[1m1s\u001b[0m 8ms/step - accuracy: 0.6347 - loss: 0.7961 - val_accuracy: 0.6448 - val_loss: 0.7823 - learning_rate: 0.0010\n",
            "Epoch 5/200\n",
            "\u001b[1m79/79\u001b[0m \u001b[32m━━━━━━━━━━━━━━━━━━━━\u001b[0m\u001b[37m\u001b[0m \u001b[1m1s\u001b[0m 7ms/step - accuracy: 0.6569 - loss: 0.7511 - val_accuracy: 0.6528 - val_loss: 0.7312 - learning_rate: 0.0010\n",
            "Epoch 6/200\n",
            "\u001b[1m79/79\u001b[0m \u001b[32m━━━━━━━━━━━━━━━━━━━━\u001b[0m\u001b[37m\u001b[0m \u001b[1m1s\u001b[0m 7ms/step - accuracy: 0.6676 - loss: 0.7316 - val_accuracy: 0.6800 - val_loss: 0.7075 - learning_rate: 0.0010\n",
            "Epoch 7/200\n",
            "\u001b[1m79/79\u001b[0m \u001b[32m━━━━━━━━━━━━━━━━━━━━\u001b[0m\u001b[37m\u001b[0m \u001b[1m1s\u001b[0m 7ms/step - accuracy: 0.6815 - loss: 0.7060 - val_accuracy: 0.7336 - val_loss: 0.6656 - learning_rate: 0.0010\n",
            "Epoch 8/200\n",
            "\u001b[1m79/79\u001b[0m \u001b[32m━━━━━━━━━━━━━━━━━━━━\u001b[0m\u001b[37m\u001b[0m \u001b[1m1s\u001b[0m 8ms/step - accuracy: 0.6995 - loss: 0.6817 - val_accuracy: 0.7216 - val_loss: 0.6667 - learning_rate: 0.0010\n",
            "Epoch 9/200\n",
            "\u001b[1m79/79\u001b[0m \u001b[32m━━━━━━━━━━━━━━━━━━━━\u001b[0m\u001b[37m\u001b[0m \u001b[1m1s\u001b[0m 10ms/step - accuracy: 0.7113 - loss: 0.6692 - val_accuracy: 0.7248 - val_loss: 0.6612 - learning_rate: 0.0010\n",
            "Epoch 10/200\n",
            "\u001b[1m79/79\u001b[0m \u001b[32m━━━━━━━━━━━━━━━━━━━━\u001b[0m\u001b[37m\u001b[0m \u001b[1m1s\u001b[0m 8ms/step - accuracy: 0.7130 - loss: 0.6655 - val_accuracy: 0.7232 - val_loss: 0.6582 - learning_rate: 0.0010\n",
            "Epoch 11/200\n",
            "\u001b[1m79/79\u001b[0m \u001b[32m━━━━━━━━━━━━━━━━━━━━\u001b[0m\u001b[37m\u001b[0m \u001b[1m1s\u001b[0m 7ms/step - accuracy: 0.7259 - loss: 0.6482 - val_accuracy: 0.7264 - val_loss: 0.6514 - learning_rate: 0.0010\n",
            "Epoch 12/200\n",
            "\u001b[1m79/79\u001b[0m \u001b[32m━━━━━━━━━━━━━━━━━━━━\u001b[0m\u001b[37m\u001b[0m \u001b[1m1s\u001b[0m 7ms/step - accuracy: 0.7325 - loss: 0.6419 - val_accuracy: 0.7272 - val_loss: 0.6385 - learning_rate: 0.0010\n",
            "Epoch 13/200\n",
            "\u001b[1m79/79\u001b[0m \u001b[32m━━━━━━━━━━━━━━━━━━━━\u001b[0m\u001b[37m\u001b[0m \u001b[1m1s\u001b[0m 8ms/step - accuracy: 0.7351 - loss: 0.6335 - val_accuracy: 0.7296 - val_loss: 0.6543 - learning_rate: 0.0010\n",
            "Epoch 14/200\n",
            "\u001b[1m79/79\u001b[0m \u001b[32m━━━━━━━━━━━━━━━━━━━━\u001b[0m\u001b[37m\u001b[0m \u001b[1m1s\u001b[0m 7ms/step - accuracy: 0.7387 - loss: 0.6178 - val_accuracy: 0.7280 - val_loss: 0.6542 - learning_rate: 0.0010\n",
            "Epoch 15/200\n",
            "\u001b[1m79/79\u001b[0m \u001b[32m━━━━━━━━━━━━━━━━━━━━\u001b[0m\u001b[37m\u001b[0m \u001b[1m1s\u001b[0m 8ms/step - accuracy: 0.7491 - loss: 0.6215 - val_accuracy: 0.7280 - val_loss: 0.6533 - learning_rate: 0.0010\n",
            "Epoch 16/200\n",
            "\u001b[1m79/79\u001b[0m \u001b[32m━━━━━━━━━━━━━━━━━━━━\u001b[0m\u001b[37m\u001b[0m \u001b[1m1s\u001b[0m 7ms/step - accuracy: 0.7586 - loss: 0.6040 - val_accuracy: 0.7336 - val_loss: 0.6495 - learning_rate: 0.0010\n",
            "Epoch 17/200\n",
            "\u001b[1m79/79\u001b[0m \u001b[32m━━━━━━━━━━━━━━━━━━━━\u001b[0m\u001b[37m\u001b[0m \u001b[1m1s\u001b[0m 8ms/step - accuracy: 0.7482 - loss: 0.6108 - val_accuracy: 0.7288 - val_loss: 0.6510 - learning_rate: 0.0010\n",
            "Epoch 1/200\n",
            "\u001b[1m79/79\u001b[0m \u001b[32m━━━━━━━━━━━━━━━━━━━━\u001b[0m\u001b[37m\u001b[0m \u001b[1m26s\u001b[0m 124ms/step - accuracy: 0.3975 - loss: 1.2807 - val_accuracy: 0.4296 - val_loss: 1.0643 - learning_rate: 0.0010\n",
            "Epoch 2/200\n",
            "\u001b[1m79/79\u001b[0m \u001b[32m━━━━━━━━━━━━━━━━━━━━\u001b[0m\u001b[37m\u001b[0m \u001b[1m1s\u001b[0m 7ms/step - accuracy: 0.5762 - loss: 0.8986 - val_accuracy: 0.4296 - val_loss: 1.0172 - learning_rate: 0.0010\n",
            "Epoch 3/200\n",
            "\u001b[1m79/79\u001b[0m \u001b[32m━━━━━━━━━━━━━━━━━━━━\u001b[0m\u001b[37m\u001b[0m \u001b[1m1s\u001b[0m 8ms/step - accuracy: 0.6306 - loss: 0.7946 - val_accuracy: 0.4872 - val_loss: 0.9584 - learning_rate: 0.0010\n",
            "Epoch 4/200\n",
            "\u001b[1m79/79\u001b[0m \u001b[32m━━━━━━━━━━━━━━━━━━━━\u001b[0m\u001b[37m\u001b[0m \u001b[1m1s\u001b[0m 10ms/step - accuracy: 0.6480 - loss: 0.7602 - val_accuracy: 0.5192 - val_loss: 0.8872 - learning_rate: 0.0010\n",
            "Epoch 5/200\n",
            "\u001b[1m79/79\u001b[0m \u001b[32m━━━━━━━━━━━━━━━━━━━━\u001b[0m\u001b[37m\u001b[0m \u001b[1m1s\u001b[0m 9ms/step - accuracy: 0.6726 - loss: 0.7285 - val_accuracy: 0.6336 - val_loss: 0.7832 - learning_rate: 0.0010\n",
            "Epoch 6/200\n",
            "\u001b[1m79/79\u001b[0m \u001b[32m━━━━━━━━━━━━━━━━━━━━\u001b[0m\u001b[37m\u001b[0m \u001b[1m1s\u001b[0m 7ms/step - accuracy: 0.6649 - loss: 0.7161 - val_accuracy: 0.6976 - val_loss: 0.7101 - learning_rate: 0.0010\n",
            "Epoch 7/200\n",
            "\u001b[1m79/79\u001b[0m \u001b[32m━━━━━━━━━━━━━━━━━━━━\u001b[0m\u001b[37m\u001b[0m \u001b[1m1s\u001b[0m 7ms/step - accuracy: 0.6978 - loss: 0.6881 - val_accuracy: 0.7144 - val_loss: 0.6540 - learning_rate: 0.0010\n",
            "Epoch 8/200\n",
            "\u001b[1m79/79\u001b[0m \u001b[32m━━━━━━━━━━━━━━━━━━━━\u001b[0m\u001b[37m\u001b[0m \u001b[1m1s\u001b[0m 8ms/step - accuracy: 0.7106 - loss: 0.6723 - val_accuracy: 0.7296 - val_loss: 0.6371 - learning_rate: 0.0010\n",
            "Epoch 9/200\n",
            "\u001b[1m79/79\u001b[0m \u001b[32m━━━━━━━━━━━━━━━━━━━━\u001b[0m\u001b[37m\u001b[0m \u001b[1m1s\u001b[0m 7ms/step - accuracy: 0.7198 - loss: 0.6609 - val_accuracy: 0.7144 - val_loss: 0.6579 - learning_rate: 0.0010\n",
            "Epoch 10/200\n",
            "\u001b[1m79/79\u001b[0m \u001b[32m━━━━━━━━━━━━━━━━━━━━\u001b[0m\u001b[37m\u001b[0m \u001b[1m1s\u001b[0m 7ms/step - accuracy: 0.7270 - loss: 0.6496 - val_accuracy: 0.7464 - val_loss: 0.6252 - learning_rate: 0.0010\n",
            "Epoch 11/200\n",
            "\u001b[1m79/79\u001b[0m \u001b[32m━━━━━━━━━━━━━━━━━━━━\u001b[0m\u001b[37m\u001b[0m \u001b[1m1s\u001b[0m 7ms/step - accuracy: 0.7323 - loss: 0.6518 - val_accuracy: 0.7480 - val_loss: 0.6105 - learning_rate: 0.0010\n",
            "Epoch 12/200\n",
            "\u001b[1m79/79\u001b[0m \u001b[32m━━━━━━━━━━━━━━━━━━━━\u001b[0m\u001b[37m\u001b[0m \u001b[1m1s\u001b[0m 7ms/step - accuracy: 0.7394 - loss: 0.6395 - val_accuracy: 0.7328 - val_loss: 0.6221 - learning_rate: 0.0010\n",
            "Epoch 13/200\n",
            "\u001b[1m79/79\u001b[0m \u001b[32m━━━━━━━━━━━━━━━━━━━━\u001b[0m\u001b[37m\u001b[0m \u001b[1m1s\u001b[0m 7ms/step - accuracy: 0.7388 - loss: 0.6268 - val_accuracy: 0.7192 - val_loss: 0.6454 - learning_rate: 0.0010\n",
            "Epoch 14/200\n",
            "\u001b[1m79/79\u001b[0m \u001b[32m━━━━━━━━━━━━━━━━━━━━\u001b[0m\u001b[37m\u001b[0m \u001b[1m1s\u001b[0m 7ms/step - accuracy: 0.7465 - loss: 0.6119 - val_accuracy: 0.7320 - val_loss: 0.6321 - learning_rate: 0.0010\n",
            "Epoch 15/200\n",
            "\u001b[1m79/79\u001b[0m \u001b[32m━━━━━━━━━━━━━━━━━━━━\u001b[0m\u001b[37m\u001b[0m \u001b[1m1s\u001b[0m 8ms/step - accuracy: 0.7464 - loss: 0.6172 - val_accuracy: 0.7376 - val_loss: 0.6291 - learning_rate: 0.0010\n",
            "Epoch 16/200\n",
            "\u001b[1m79/79\u001b[0m \u001b[32m━━━━━━━━━━━━━━━━━━━━\u001b[0m\u001b[37m\u001b[0m \u001b[1m1s\u001b[0m 7ms/step - accuracy: 0.7529 - loss: 0.6029 - val_accuracy: 0.7472 - val_loss: 0.6146 - learning_rate: 0.0010\n",
            "Epoch 1/200\n",
            "\u001b[1m79/79\u001b[0m \u001b[32m━━━━━━━━━━━━━━━━━━━━\u001b[0m\u001b[37m\u001b[0m \u001b[1m24s\u001b[0m 113ms/step - accuracy: 0.3864 - loss: 1.4450 - val_accuracy: 0.4296 - val_loss: 1.0807 - learning_rate: 0.0010\n",
            "Epoch 2/200\n",
            "\u001b[1m79/79\u001b[0m \u001b[32m━━━━━━━━━━━━━━━━━━━━\u001b[0m\u001b[37m\u001b[0m \u001b[1m1s\u001b[0m 8ms/step - accuracy: 0.5887 - loss: 0.9141 - val_accuracy: 0.4296 - val_loss: 1.0893 - learning_rate: 0.0010\n",
            "Epoch 3/200\n",
            "\u001b[1m79/79\u001b[0m \u001b[32m━━━━━━━━━━━━━━━━━━━━\u001b[0m\u001b[37m\u001b[0m \u001b[1m1s\u001b[0m 9ms/step - accuracy: 0.6266 - loss: 0.8430 - val_accuracy: 0.5872 - val_loss: 0.8983 - learning_rate: 0.0010\n",
            "Epoch 4/200\n",
            "\u001b[1m79/79\u001b[0m \u001b[32m━━━━━━━━━━━━━━━━━━━━\u001b[0m\u001b[37m\u001b[0m \u001b[1m1s\u001b[0m 9ms/step - accuracy: 0.6455 - loss: 0.8047 - val_accuracy: 0.6368 - val_loss: 0.8478 - learning_rate: 0.0010\n",
            "Epoch 5/200\n",
            "\u001b[1m79/79\u001b[0m \u001b[32m━━━━━━━━━━━━━━━━━━━━\u001b[0m\u001b[37m\u001b[0m \u001b[1m1s\u001b[0m 7ms/step - accuracy: 0.6549 - loss: 0.7722 - val_accuracy: 0.6792 - val_loss: 0.7636 - learning_rate: 0.0010\n",
            "Epoch 6/200\n",
            "\u001b[1m79/79\u001b[0m \u001b[32m━━━━━━━━━━━━━━━━━━━━\u001b[0m\u001b[37m\u001b[0m \u001b[1m1s\u001b[0m 7ms/step - accuracy: 0.6557 - loss: 0.7448 - val_accuracy: 0.6920 - val_loss: 0.6893 - learning_rate: 0.0010\n",
            "Epoch 7/200\n",
            "\u001b[1m79/79\u001b[0m \u001b[32m━━━━━━━━━━━━━━━━━━━━\u001b[0m\u001b[37m\u001b[0m \u001b[1m1s\u001b[0m 7ms/step - accuracy: 0.6892 - loss: 0.7174 - val_accuracy: 0.7160 - val_loss: 0.6390 - learning_rate: 0.0010\n",
            "Epoch 8/200\n",
            "\u001b[1m79/79\u001b[0m \u001b[32m━━━━━━━━━━━━━━━━━━━━\u001b[0m\u001b[37m\u001b[0m \u001b[1m1s\u001b[0m 8ms/step - accuracy: 0.6839 - loss: 0.7113 - val_accuracy: 0.7272 - val_loss: 0.6226 - learning_rate: 0.0010\n",
            "Epoch 9/200\n",
            "\u001b[1m79/79\u001b[0m \u001b[32m━━━━━━━━━━━━━━━━━━━━\u001b[0m\u001b[37m\u001b[0m \u001b[1m1s\u001b[0m 7ms/step - accuracy: 0.6992 - loss: 0.6837 - val_accuracy: 0.7424 - val_loss: 0.6047 - learning_rate: 0.0010\n",
            "Epoch 10/200\n",
            "\u001b[1m79/79\u001b[0m \u001b[32m━━━━━━━━━━━━━━━━━━━━\u001b[0m\u001b[37m\u001b[0m \u001b[1m1s\u001b[0m 8ms/step - accuracy: 0.7079 - loss: 0.6645 - val_accuracy: 0.7424 - val_loss: 0.6121 - learning_rate: 0.0010\n",
            "Epoch 11/200\n",
            "\u001b[1m79/79\u001b[0m \u001b[32m━━━━━━━━━━━━━━━━━━━━\u001b[0m\u001b[37m\u001b[0m \u001b[1m1s\u001b[0m 7ms/step - accuracy: 0.7190 - loss: 0.6494 - val_accuracy: 0.7512 - val_loss: 0.6003 - learning_rate: 0.0010\n",
            "Epoch 12/200\n",
            "\u001b[1m79/79\u001b[0m \u001b[32m━━━━━━━━━━━━━━━━━━━━\u001b[0m\u001b[37m\u001b[0m \u001b[1m1s\u001b[0m 7ms/step - accuracy: 0.7216 - loss: 0.6607 - val_accuracy: 0.7400 - val_loss: 0.6079 - learning_rate: 0.0010\n",
            "Epoch 13/200\n",
            "\u001b[1m79/79\u001b[0m \u001b[32m━━━━━━━━━━━━━━━━━━━━\u001b[0m\u001b[37m\u001b[0m \u001b[1m1s\u001b[0m 7ms/step - accuracy: 0.7282 - loss: 0.6406 - val_accuracy: 0.7424 - val_loss: 0.6063 - learning_rate: 0.0010\n",
            "Epoch 14/200\n",
            "\u001b[1m79/79\u001b[0m \u001b[32m━━━━━━━━━━━━━━━━━━━━\u001b[0m\u001b[37m\u001b[0m \u001b[1m1s\u001b[0m 7ms/step - accuracy: 0.7337 - loss: 0.6282 - val_accuracy: 0.7448 - val_loss: 0.5965 - learning_rate: 0.0010\n",
            "Epoch 15/200\n",
            "\u001b[1m79/79\u001b[0m \u001b[32m━━━━━━━━━━━━━━━━━━━━\u001b[0m\u001b[37m\u001b[0m \u001b[1m1s\u001b[0m 7ms/step - accuracy: 0.7399 - loss: 0.6199 - val_accuracy: 0.7440 - val_loss: 0.6006 - learning_rate: 0.0010\n",
            "Epoch 16/200\n",
            "\u001b[1m79/79\u001b[0m \u001b[32m━━━━━━━━━━━━━━━━━━━━\u001b[0m\u001b[37m\u001b[0m \u001b[1m1s\u001b[0m 7ms/step - accuracy: 0.7382 - loss: 0.6305 - val_accuracy: 0.7464 - val_loss: 0.5983 - learning_rate: 0.0010\n",
            "Epoch 17/200\n",
            "\u001b[1m79/79\u001b[0m \u001b[32m━━━━━━━━━━━━━━━━━━━━\u001b[0m\u001b[37m\u001b[0m \u001b[1m1s\u001b[0m 7ms/step - accuracy: 0.7395 - loss: 0.6235 - val_accuracy: 0.7464 - val_loss: 0.5983 - learning_rate: 0.0010\n",
            "Epoch 18/200\n",
            "\u001b[1m79/79\u001b[0m \u001b[32m━━━━━━━━━━━━━━━━━━━━\u001b[0m\u001b[37m\u001b[0m \u001b[1m1s\u001b[0m 7ms/step - accuracy: 0.7330 - loss: 0.6156 - val_accuracy: 0.7464 - val_loss: 0.5926 - learning_rate: 0.0010\n",
            "Epoch 19/200\n",
            "\u001b[1m79/79\u001b[0m \u001b[32m━━━━━━━━━━━━━━━━━━━━\u001b[0m\u001b[37m\u001b[0m \u001b[1m1s\u001b[0m 7ms/step - accuracy: 0.7400 - loss: 0.6044 - val_accuracy: 0.7528 - val_loss: 0.5929 - learning_rate: 0.0010\n",
            "Epoch 20/200\n",
            "\u001b[1m79/79\u001b[0m \u001b[32m━━━━━━━━━━━━━━━━━━━━\u001b[0m\u001b[37m\u001b[0m \u001b[1m1s\u001b[0m 9ms/step - accuracy: 0.7427 - loss: 0.6031 - val_accuracy: 0.7456 - val_loss: 0.5962 - learning_rate: 0.0010\n",
            "Epoch 21/200\n",
            "\u001b[1m79/79\u001b[0m \u001b[32m━━━━━━━━━━━━━━━━━━━━\u001b[0m\u001b[37m\u001b[0m \u001b[1m1s\u001b[0m 9ms/step - accuracy: 0.7374 - loss: 0.6087 - val_accuracy: 0.7456 - val_loss: 0.6038 - learning_rate: 0.0010\n",
            "Epoch 22/200\n",
            "\u001b[1m79/79\u001b[0m \u001b[32m━━━━━━━━━━━━━━━━━━━━\u001b[0m\u001b[37m\u001b[0m \u001b[1m1s\u001b[0m 8ms/step - accuracy: 0.7464 - loss: 0.5929 - val_accuracy: 0.7432 - val_loss: 0.6137 - learning_rate: 0.0010\n",
            "Epoch 23/200\n",
            "\u001b[1m79/79\u001b[0m \u001b[32m━━━━━━━━━━━━━━━━━━━━\u001b[0m\u001b[37m\u001b[0m \u001b[1m1s\u001b[0m 7ms/step - accuracy: 0.7501 - loss: 0.5963 - val_accuracy: 0.7496 - val_loss: 0.6072 - learning_rate: 0.0010\n",
            "Epoch 1/200\n",
            "\u001b[1m79/79\u001b[0m \u001b[32m━━━━━━━━━━━━━━━━━━━━\u001b[0m\u001b[37m\u001b[0m \u001b[1m27s\u001b[0m 129ms/step - accuracy: 0.4046 - loss: 1.3583 - val_accuracy: 0.6208 - val_loss: 0.9701 - learning_rate: 0.0010\n",
            "Epoch 2/200\n",
            "\u001b[1m79/79\u001b[0m \u001b[32m━━━━━━━━━━━━━━━━━━━━\u001b[0m\u001b[37m\u001b[0m \u001b[1m3s\u001b[0m 7ms/step - accuracy: 0.5851 - loss: 0.9297 - val_accuracy: 0.6480 - val_loss: 0.9084 - learning_rate: 0.0010\n",
            "Epoch 3/200\n",
            "\u001b[1m79/79\u001b[0m \u001b[32m━━━━━━━━━━━━━━━━━━━━\u001b[0m\u001b[37m\u001b[0m \u001b[1m1s\u001b[0m 7ms/step - accuracy: 0.6174 - loss: 0.8424 - val_accuracy: 0.6640 - val_loss: 0.8155 - learning_rate: 0.0010\n",
            "Epoch 4/200\n",
            "\u001b[1m79/79\u001b[0m \u001b[32m━━━━━━━━━━━━━━━━━━━━\u001b[0m\u001b[37m\u001b[0m \u001b[1m1s\u001b[0m 7ms/step - accuracy: 0.6449 - loss: 0.7794 - val_accuracy: 0.6736 - val_loss: 0.7486 - learning_rate: 0.0010\n",
            "Epoch 5/200\n",
            "\u001b[1m79/79\u001b[0m \u001b[32m━━━━━━━━━━━━━━━━━━━━\u001b[0m\u001b[37m\u001b[0m \u001b[1m1s\u001b[0m 9ms/step - accuracy: 0.6592 - loss: 0.7491 - val_accuracy: 0.6976 - val_loss: 0.7096 - learning_rate: 0.0010\n",
            "Epoch 6/200\n",
            "\u001b[1m79/79\u001b[0m \u001b[32m━━━━━━━━━━━━━━━━━━━━\u001b[0m\u001b[37m\u001b[0m \u001b[1m1s\u001b[0m 8ms/step - accuracy: 0.6768 - loss: 0.7214 - val_accuracy: 0.7320 - val_loss: 0.6605 - learning_rate: 0.0010\n",
            "Epoch 7/200\n",
            "\u001b[1m79/79\u001b[0m \u001b[32m━━━━━━━━━━━━━━━━━━━━\u001b[0m\u001b[37m\u001b[0m \u001b[1m1s\u001b[0m 7ms/step - accuracy: 0.7006 - loss: 0.7022 - val_accuracy: 0.7312 - val_loss: 0.6344 - learning_rate: 0.0010\n",
            "Epoch 8/200\n",
            "\u001b[1m79/79\u001b[0m \u001b[32m━━━━━━━━━━━━━━━━━━━━\u001b[0m\u001b[37m\u001b[0m \u001b[1m1s\u001b[0m 7ms/step - accuracy: 0.7088 - loss: 0.6896 - val_accuracy: 0.7432 - val_loss: 0.6032 - learning_rate: 0.0010\n",
            "Epoch 9/200\n",
            "\u001b[1m79/79\u001b[0m \u001b[32m━━━━━━━━━━━━━━━━━━━━\u001b[0m\u001b[37m\u001b[0m \u001b[1m1s\u001b[0m 7ms/step - accuracy: 0.7226 - loss: 0.6660 - val_accuracy: 0.7256 - val_loss: 0.6189 - learning_rate: 0.0010\n",
            "Epoch 10/200\n",
            "\u001b[1m79/79\u001b[0m \u001b[32m━━━━━━━━━━━━━━━━━━━━\u001b[0m\u001b[37m\u001b[0m \u001b[1m1s\u001b[0m 7ms/step - accuracy: 0.7272 - loss: 0.6629 - val_accuracy: 0.7432 - val_loss: 0.6092 - learning_rate: 0.0010\n",
            "Epoch 11/200\n",
            "\u001b[1m79/79\u001b[0m \u001b[32m━━━━━━━━━━━━━━━━━━━━\u001b[0m\u001b[37m\u001b[0m \u001b[1m1s\u001b[0m 7ms/step - accuracy: 0.7311 - loss: 0.6569 - val_accuracy: 0.7336 - val_loss: 0.6171 - learning_rate: 0.0010\n",
            "Epoch 12/200\n",
            "\u001b[1m79/79\u001b[0m \u001b[32m━━━━━━━━━━━━━━━━━━━━\u001b[0m\u001b[37m\u001b[0m \u001b[1m1s\u001b[0m 7ms/step - accuracy: 0.7313 - loss: 0.6472 - val_accuracy: 0.7464 - val_loss: 0.6145 - learning_rate: 0.0010\n",
            "Epoch 13/200\n",
            "\u001b[1m79/79\u001b[0m \u001b[32m━━━━━━━━━━━━━━━━━━━━\u001b[0m\u001b[37m\u001b[0m \u001b[1m1s\u001b[0m 8ms/step - accuracy: 0.7368 - loss: 0.6421 - val_accuracy: 0.7504 - val_loss: 0.6139 - learning_rate: 0.0010\n",
            "mean num of epochs per fold is : 18.8\n"
          ]
        }
      ]
    },
    {
      "cell_type": "markdown",
      "source": [
        "## Training - Final model"
      ],
      "metadata": {
        "id": "DJiF_KdN4fbH"
      }
    },
    {
      "cell_type": "markdown",
      "source": [
        "Now, knowing the proper number of epochs, we retrain the nn on the whole training data without the folds"
      ],
      "metadata": {
        "id": "rRXbEF8rgAOB"
      }
    },
    {
      "cell_type": "code",
      "source": [
        "# Build 2 models : one for classification, and one that get logits, just before softmax layer\n",
        "model_classification = models.Sequential()\n",
        "model_logits= models.Sequential()\n",
        "\n",
        "# Create input layer, add it to the models\n",
        "input_layer = layers.Input(shape=(29,), name=\"input_layer\")\n",
        "model_classification.add(input_layer)\n",
        "model_logits.add(input_layer)\n",
        "\n",
        "\n",
        "# Create blocs for the neural network\n",
        "for i, units in enumerate([1024, 1024, 512, 512, 256, 256, 128, 128, 64, 64, 32, 32]):\n",
        "\n",
        "    # Create layers for each bloc\n",
        "    dense_layer = layers.Dense(units, name=f\"dense_layer_{i}\")\n",
        "    leaky_relu = LeakyReLU(alpha=0.1, name=f\"leaky_relu_{i}\")\n",
        "    batch_norm = layers.BatchNormalization(name=f\"batch_norm_{i}\")\n",
        "    dropout = layers.Dropout(0.3 if units > 128 else 0.2, name=f\"dropout_{i}\")\n",
        "\n",
        "    # Add the layers to both models\n",
        "    model_classification.add(dense_layer)\n",
        "    model_classification.add(leaky_relu)\n",
        "    model_classification.add(batch_norm)\n",
        "    model_classification.add(dropout)\n",
        "\n",
        "    model_logits.add(dense_layer)\n",
        "    model_logits.add(leaky_relu)\n",
        "    model_logits.add(batch_norm)\n",
        "    model_logits.add(dropout)\n",
        "\n",
        "# Add the final layers\n",
        "logits_output = layers.Dense(3, name=\"logits\")\n",
        "model_classification.add(logits_output)\n",
        "model_logits.add(logits_output)\n",
        "softmax_output = layers.Activation('softmax', name=\"softmax\")\n",
        "model_classification.add(softmax_output)\n",
        "\n",
        "\n",
        "# Compilation\n",
        "model_classification.compile(optimizer=Adam(learning_rate=1e-3),\n",
        "              loss='categorical_crossentropy',\n",
        "              metrics=['accuracy'])\n",
        "\n",
        "# model_NN.summary()\n",
        "\n",
        "history = model_classification.fit(\n",
        "    X_train_processed, y_train_cat,\n",
        "    epochs=math.floor(np.mean(epochs_per_fold)),\n",
        "    batch_size=64,\n",
        ")\n",
        "\n",
        "# Prediction\n",
        "logits_dev = model_logits.predict(X_dev_processed)\n",
        "logits_train = model_logits.predict(X_train_processed)"
      ],
      "metadata": {
        "id": "RZzk4TkP4juZ",
        "outputId": "d841b47f-286b-4092-a68c-84b4ac0d4e3f",
        "colab": {
          "base_uri": "https://localhost:8080/"
        }
      },
      "execution_count": null,
      "outputs": [
        {
          "output_type": "stream",
          "name": "stdout",
          "text": [
            "Epoch 1/18\n",
            "\u001b[1m98/98\u001b[0m \u001b[32m━━━━━━━━━━━━━━━━━━━━\u001b[0m\u001b[37m\u001b[0m \u001b[1m25s\u001b[0m 99ms/step - accuracy: 0.4104 - loss: 1.3252\n",
            "Epoch 2/18\n",
            "\u001b[1m98/98\u001b[0m \u001b[32m━━━━━━━━━━━━━━━━━━━━\u001b[0m\u001b[37m\u001b[0m \u001b[1m4s\u001b[0m 7ms/step - accuracy: 0.5890 - loss: 0.8868\n",
            "Epoch 3/18\n",
            "\u001b[1m98/98\u001b[0m \u001b[32m━━━━━━━━━━━━━━━━━━━━\u001b[0m\u001b[37m\u001b[0m \u001b[1m1s\u001b[0m 6ms/step - accuracy: 0.6144 - loss: 0.8104\n",
            "Epoch 4/18\n",
            "\u001b[1m98/98\u001b[0m \u001b[32m━━━━━━━━━━━━━━━━━━━━\u001b[0m\u001b[37m\u001b[0m \u001b[1m1s\u001b[0m 6ms/step - accuracy: 0.6542 - loss: 0.7641\n",
            "Epoch 5/18\n",
            "\u001b[1m98/98\u001b[0m \u001b[32m━━━━━━━━━━━━━━━━━━━━\u001b[0m\u001b[37m\u001b[0m \u001b[1m1s\u001b[0m 6ms/step - accuracy: 0.6815 - loss: 0.7324\n",
            "Epoch 6/18\n",
            "\u001b[1m98/98\u001b[0m \u001b[32m━━━━━━━━━━━━━━━━━━━━\u001b[0m\u001b[37m\u001b[0m \u001b[1m1s\u001b[0m 6ms/step - accuracy: 0.7046 - loss: 0.6949\n",
            "Epoch 7/18\n",
            "\u001b[1m98/98\u001b[0m \u001b[32m━━━━━━━━━━━━━━━━━━━━\u001b[0m\u001b[37m\u001b[0m \u001b[1m1s\u001b[0m 6ms/step - accuracy: 0.7029 - loss: 0.6999\n",
            "Epoch 8/18\n",
            "\u001b[1m98/98\u001b[0m \u001b[32m━━━━━━━━━━━━━━━━━━━━\u001b[0m\u001b[37m\u001b[0m \u001b[1m1s\u001b[0m 6ms/step - accuracy: 0.7209 - loss: 0.6737\n",
            "Epoch 9/18\n",
            "\u001b[1m98/98\u001b[0m \u001b[32m━━━━━━━━━━━━━━━━━━━━\u001b[0m\u001b[37m\u001b[0m \u001b[1m1s\u001b[0m 6ms/step - accuracy: 0.7231 - loss: 0.6634\n",
            "Epoch 10/18\n",
            "\u001b[1m98/98\u001b[0m \u001b[32m━━━━━━━━━━━━━━━━━━━━\u001b[0m\u001b[37m\u001b[0m \u001b[1m1s\u001b[0m 6ms/step - accuracy: 0.7354 - loss: 0.6477\n",
            "Epoch 11/18\n",
            "\u001b[1m98/98\u001b[0m \u001b[32m━━━━━━━━━━━━━━━━━━━━\u001b[0m\u001b[37m\u001b[0m \u001b[1m1s\u001b[0m 6ms/step - accuracy: 0.7389 - loss: 0.6386\n",
            "Epoch 12/18\n",
            "\u001b[1m98/98\u001b[0m \u001b[32m━━━━━━━━━━━━━━━━━━━━\u001b[0m\u001b[37m\u001b[0m \u001b[1m1s\u001b[0m 6ms/step - accuracy: 0.7372 - loss: 0.6409\n",
            "Epoch 13/18\n",
            "\u001b[1m98/98\u001b[0m \u001b[32m━━━━━━━━━━━━━━━━━━━━\u001b[0m\u001b[37m\u001b[0m \u001b[1m1s\u001b[0m 5ms/step - accuracy: 0.7465 - loss: 0.6229\n",
            "Epoch 14/18\n",
            "\u001b[1m98/98\u001b[0m \u001b[32m━━━━━━━━━━━━━━━━━━━━\u001b[0m\u001b[37m\u001b[0m \u001b[1m1s\u001b[0m 6ms/step - accuracy: 0.7453 - loss: 0.6280\n",
            "Epoch 15/18\n",
            "\u001b[1m98/98\u001b[0m \u001b[32m━━━━━━━━━━━━━━━━━━━━\u001b[0m\u001b[37m\u001b[0m \u001b[1m1s\u001b[0m 6ms/step - accuracy: 0.7485 - loss: 0.6210\n",
            "Epoch 16/18\n",
            "\u001b[1m98/98\u001b[0m \u001b[32m━━━━━━━━━━━━━━━━━━━━\u001b[0m\u001b[37m\u001b[0m \u001b[1m1s\u001b[0m 6ms/step - accuracy: 0.7461 - loss: 0.6182\n",
            "Epoch 17/18\n",
            "\u001b[1m98/98\u001b[0m \u001b[32m━━━━━━━━━━━━━━━━━━━━\u001b[0m\u001b[37m\u001b[0m \u001b[1m1s\u001b[0m 6ms/step - accuracy: 0.7621 - loss: 0.6046\n",
            "Epoch 18/18\n",
            "\u001b[1m98/98\u001b[0m \u001b[32m━━━━━━━━━━━━━━━━━━━━\u001b[0m\u001b[37m\u001b[0m \u001b[1m1s\u001b[0m 7ms/step - accuracy: 0.7574 - loss: 0.6072\n",
            "\u001b[1m10/10\u001b[0m \u001b[32m━━━━━━━━━━━━━━━━━━━━\u001b[0m\u001b[37m\u001b[0m \u001b[1m2s\u001b[0m 101ms/step\n",
            "\u001b[1m196/196\u001b[0m \u001b[32m━━━━━━━━━━━━━━━━━━━━\u001b[0m\u001b[37m\u001b[0m \u001b[1m1s\u001b[0m 5ms/step\n"
          ]
        }
      ]
    },
    {
      "cell_type": "code",
      "source": [
        "from sklearn.metrics import accuracy_score, precision_recall_fscore_support\n",
        "\n",
        "\n",
        "# Predictions on train\n",
        "y_train_pred = model_classification.predict(X_train_processed)\n",
        "y_train_pred_classes = np.argmax(y_train_pred, axis=1)\n",
        "y_train_true_classes = np.argmax(y_train_cat, axis=1)\n",
        "\n",
        "# Predictions on dev\n",
        "y_dev_pred = model_classification.predict(X_dev_processed)\n",
        "y_dev_pred_classes = np.argmax(y_dev_pred, axis=1)\n",
        "y_dev_true_classes = np.argmax(y_dev_cat, axis=1)\n",
        "\n",
        "# Metrics\n",
        "train_accuracy = accuracy_score(y_train_true_classes, y_train_pred_classes)\n",
        "dev_accuracy = accuracy_score(y_dev_true_classes, y_dev_pred_classes)\n",
        "train_precision, train_recall, train_f1, _ = precision_recall_fscore_support(y_train_true_classes, y_train_pred_classes, average='weighted')\n",
        "dev_precision, dev_recall, dev_f1, _ = precision_recall_fscore_support(y_dev_true_classes, y_dev_pred_classes, average='weighted')\n",
        "\n",
        "# Print\n",
        "print(f\"Train accuracy : {train_accuracy * 100:.2f}%\")\n",
        "print(f\"Train precision: {train_precision * 100:.2f}%\")\n",
        "print(f\"Train recall   : {train_recall * 100:.2f}%\")\n",
        "print(f\"Train F1-score : {train_f1 * 100:.2f}%\")\n",
        "print(f\"Dev accuracy   : {dev_accuracy * 100:.2f}%\")\n",
        "print(f\"Dev precision  : {dev_precision * 100:.2f}%\")\n",
        "print(f\"Dev recall     : {dev_recall * 100:.2f}%\")\n",
        "print(f\"Dev F1-score   : {dev_f1 * 100:.2f}%\")\n",
        "\n"
      ],
      "metadata": {
        "id": "VrJAqGTC-a5W",
        "outputId": "9f6ade0c-6bfd-4a15-c4e0-eea0cca90958",
        "colab": {
          "base_uri": "https://localhost:8080/"
        }
      },
      "execution_count": null,
      "outputs": [
        {
          "output_type": "stream",
          "name": "stdout",
          "text": [
            "\u001b[1m196/196\u001b[0m \u001b[32m━━━━━━━━━━━━━━━━━━━━\u001b[0m\u001b[37m\u001b[0m \u001b[1m2s\u001b[0m 5ms/step\n",
            "\u001b[1m10/10\u001b[0m \u001b[32m━━━━━━━━━━━━━━━━━━━━\u001b[0m\u001b[37m\u001b[0m \u001b[1m0s\u001b[0m 32ms/step\n",
            "Train accuracy : 77.30%\n",
            "Train precision: 77.01%\n",
            "Train recall   : 77.30%\n",
            "Train F1-score : 76.72%\n",
            "Dev accuracy   : 75.67%\n",
            "Dev precision  : 75.50%\n",
            "Dev recall     : 75.67%\n",
            "Dev F1-score   : 75.06%\n"
          ]
        }
      ]
    },
    {
      "cell_type": "markdown",
      "source": [
        "## Different approaches\n",
        "we do not limit ourselves to deep learning approach with neural network, but also try the more lightweight approaches from the classical machine learning such as: Random Forest, Logistic Regression, XGBoost, SVM and asses the outcomes by evaluating on the dev set and visualizin the outcomes with confusion matrices"
      ],
      "metadata": {
        "id": "qP6pe5iKjAj9"
      }
    },
    {
      "cell_type": "markdown",
      "source": [
        "### Random Forest"
      ],
      "metadata": {
        "id": "8TPlwyyh2stA"
      }
    },
    {
      "cell_type": "code",
      "source": [
        "# From one hot to labels\n",
        "y_train_int = np.argmax(y_train_cat, axis=1)\n",
        "y_dev_int = np.argmax(y_dev_cat, axis=1)\n",
        "\n",
        "# Model and training\n",
        "model_RF = RandomForestClassifier(n_estimators=100, random_state=42)\n",
        "model_RF.fit(X_train_processed, y_train_int)\n",
        "\n",
        "# Predictions\n",
        "y_train_pred = model_RF.predict(X_train_processed)\n",
        "y_dev_pred = model_RF.predict(X_dev_processed)\n",
        "\n",
        "# Metrics\n",
        "train_accuracy = accuracy_score(y_train_int, y_train_pred)\n",
        "dev_accuracy = accuracy_score(y_dev_int, y_dev_pred)\n",
        "train_precision, train_recall, train_f1, _ = precision_recall_fscore_support(y_train_int, y_train_pred, average='weighted')\n",
        "dev_precision, dev_recall, dev_f1, _ = precision_recall_fscore_support(y_dev_int, y_dev_pred, average='weighted')\n",
        "\n",
        "# Print\n",
        "print(f\"Accuracy on Train: {train_accuracy * 100:.2f}%\")\n",
        "print(f\"Accuracy on Dev: {dev_accuracy * 100:.2f}%\")\n",
        "print(f\"Train Precision: {train_precision * 100:.2f}%\")\n",
        "print(f\"Train Recall: {train_recall * 100:.2f}%\")\n",
        "print(f\"Train F1-score: {train_f1 * 100:.2f}%\")\n",
        "print(f\"Dev Precision: {dev_precision * 100:.2f}%\")\n",
        "print(f\"Dev Recall: {dev_recall * 100:.2f}%\")\n",
        "print(f\"Dev F1-score: {dev_f1 * 100:.2f}%\")\n"
      ],
      "metadata": {
        "colab": {
          "base_uri": "https://localhost:8080/"
        },
        "id": "XKSsppTe3-BZ",
        "outputId": "e4705f40-a950-43dd-a4d1-d76a3a70b8af"
      },
      "execution_count": null,
      "outputs": [
        {
          "output_type": "stream",
          "name": "stdout",
          "text": [
            "Accuracy on Train: 99.68%\n",
            "Accuracy on Dev: 74.67%\n",
            "Train Precision: 99.68%\n",
            "Train Recall: 99.68%\n",
            "Train F1-score: 99.68%\n",
            "Dev Precision: 74.32%\n",
            "Dev Recall: 74.67%\n",
            "Dev F1-score: 74.39%\n"
          ]
        }
      ]
    },
    {
      "cell_type": "code",
      "source": [
        "# Classification report\n",
        "print(classification_report(y_dev_int, y_dev_pred))"
      ],
      "metadata": {
        "outputId": "38dfe2b9-db74-4e99-e804-db0d72a0d4e5",
        "colab": {
          "base_uri": "https://localhost:8080/"
        },
        "id": "RdxHm-sYPuCC"
      },
      "execution_count": null,
      "outputs": [
        {
          "output_type": "stream",
          "name": "stdout",
          "text": [
            "              precision    recall  f1-score   support\n",
            "\n",
            "           0       0.69      0.74      0.71        76\n",
            "           1       0.68      0.61      0.64       107\n",
            "           2       0.84      0.88      0.86       117\n",
            "\n",
            "    accuracy                           0.75       300\n",
            "   macro avg       0.74      0.74      0.74       300\n",
            "weighted avg       0.74      0.75      0.74       300\n",
            "\n"
          ]
        }
      ]
    },
    {
      "cell_type": "code",
      "source": [
        "# Confusion Matrix\n",
        "cm_NN = confusion_matrix(y_dev_int, y_dev_pred)\n",
        "plt.figure(figsize=(8,6))\n",
        "classes = ['cultural exclusive', 'cultural representative', 'cultural agnostic']\n",
        "sns.heatmap(cm_NN, annot=True, fmt=\"d\", cmap=\"Blues\", vmin=0, xticklabels=classes, yticklabels=classes)\n",
        "plt.xlabel(\"Predicted\")\n",
        "plt.ylabel(\"True\")\n",
        "plt.title(\"Confusion matrix for the random forest model\")\n",
        "plt.show()\n"
      ],
      "metadata": {
        "outputId": "12b2d1f5-7dd2-4bc0-8faa-36de39d8ad3b",
        "colab": {
          "base_uri": "https://localhost:8080/",
          "height": 564
        },
        "id": "k_HHQbj5PuCE"
      },
      "execution_count": null,
      "outputs": [
        {
          "output_type": "display_data",
          "data": {
            "text/plain": [
              "<Figure size 800x600 with 2 Axes>"
            ],
            "image/png": "[encoded data removed]"
          },
          "metadata": {}
        }
      ]
    },
    {
      "cell_type": "markdown",
      "source": [
        "### XGBoost"
      ],
      "metadata": {
        "id": "io-G-dXsAgt-"
      }
    },
    {
      "cell_type": "code",
      "source": [
        "# Define XGBoost model\n",
        "model_XG = XGBClassifier(use_label_encoder=False, eval_metric='mlogloss')\n",
        "\n",
        "# Train model\n",
        "model_XG.fit(X_train_processed, y_train)\n",
        "\n",
        "# Predictions\n",
        "y_train_pred = model_XG.predict(X_train_processed)\n",
        "y_dev_pred = model_XG.predict(X_dev_processed)\n",
        "\n",
        "# Predictions\n",
        "y_train_pred = model_XG.predict(X_train_processed)\n",
        "y_dev_pred = model_XG.predict(X_dev_processed)\n",
        "\n",
        "# Metrics\n",
        "train_accuracy = accuracy_score(y_train_int, y_train_pred)\n",
        "dev_accuracy = accuracy_score(y_dev_int, y_dev_pred)\n",
        "train_precision, train_recall, train_f1, _ = precision_recall_fscore_support(y_train_int, y_train_pred, average='weighted')\n",
        "dev_precision, dev_recall, dev_f1, _ = precision_recall_fscore_support(y_dev_int, y_dev_pred, average='weighted')\n",
        "\n",
        "# Print\n",
        "print(f\"Accuracy on Train: {train_accuracy * 100:.2f}%\")\n",
        "print(f\"Accuracy on Dev: {dev_accuracy * 100:.2f}%\")\n",
        "print(f\"Train Precision: {train_precision * 100:.2f}%\")\n",
        "print(f\"Train Recall: {train_recall * 100:.2f}%\")\n",
        "print(f\"Train F1-score: {train_f1 * 100:.2f}%\")\n",
        "print(f\"Dev Precision: {dev_precision * 100:.2f}%\")\n",
        "print(f\"Dev Recall: {dev_recall * 100:.2f}%\")\n",
        "print(f\"Dev F1-score: {dev_f1 * 100:.2f}%\")\n"
      ],
      "metadata": {
        "id": "dh9uVSPoAgYD",
        "outputId": "bcecd546-10ad-4ab8-8677-e6f5e51241d1",
        "colab": {
          "base_uri": "https://localhost:8080/"
        }
      },
      "execution_count": null,
      "outputs": [
        {
          "output_type": "stream",
          "name": "stderr",
          "text": [
            "/usr/local/lib/python3.11/dist-packages/xgboost/core.py:158: UserWarning: [12:39:26] WARNING: /workspace/src/learner.cc:740: \n",
            "Parameters: { \"use_label_encoder\" } are not used.\n",
            "\n",
            "  warnings.warn(smsg, UserWarning)\n"
          ]
        },
        {
          "output_type": "stream",
          "name": "stdout",
          "text": [
            "Accuracy on Train: 91.15%\n",
            "Accuracy on Dev: 74.33%\n",
            "Train Precision: 91.25%\n",
            "Train Recall: 91.15%\n",
            "Train F1-score: 91.05%\n",
            "Dev Precision: 73.91%\n",
            "Dev Recall: 74.33%\n",
            "Dev F1-score: 74.03%\n"
          ]
        }
      ]
    },
    {
      "cell_type": "code",
      "source": [
        "# Classification report\n",
        "print(classification_report(y_dev, y_dev_pred))"
      ],
      "metadata": {
        "outputId": "f21ea74c-b5da-44c0-c7d5-956ba29f9257",
        "colab": {
          "base_uri": "https://localhost:8080/"
        },
        "id": "Lrji0XI6QOba"
      },
      "execution_count": null,
      "outputs": [
        {
          "output_type": "stream",
          "name": "stdout",
          "text": [
            "              precision    recall  f1-score   support\n",
            "\n",
            "           0       0.68      0.68      0.68        76\n",
            "           1       0.68      0.63      0.65       107\n",
            "           2       0.83      0.89      0.86       117\n",
            "\n",
            "    accuracy                           0.74       300\n",
            "   macro avg       0.73      0.73      0.73       300\n",
            "weighted avg       0.74      0.74      0.74       300\n",
            "\n"
          ]
        }
      ]
    },
    {
      "cell_type": "code",
      "source": [
        "# Confusion matrix\n",
        "cm_NN = confusion_matrix(y_dev, y_dev_pred)\n",
        "plt.figure(figsize=(8,6))\n",
        "classes = ['cultural exclusive', 'cultural representative', 'cultural agnostic']\n",
        "sns.heatmap(cm_NN, annot=True, fmt=\"d\", cmap=\"Blues\", vmin=0, xticklabels=classes, yticklabels=classes)\n",
        "plt.xlabel(\"Predicted\")\n",
        "plt.ylabel(\"True\")\n",
        "plt.title(\"Confusion matrix for the XGBoost model\")\n",
        "plt.show()\n"
      ],
      "metadata": {
        "outputId": "ba66ee02-a09d-4f73-8563-e84cc6e69deb",
        "colab": {
          "base_uri": "https://localhost:8080/",
          "height": 564
        },
        "id": "e0iTbQGFQObc"
      },
      "execution_count": null,
      "outputs": [
        {
          "output_type": "display_data",
          "data": {
            "text/plain": [
              "<Figure size 800x600 with 2 Axes>"
            ],
            "image/png": "[encoded data removed]"
          },
          "metadata": {}
        }
      ]
    },
    {
      "cell_type": "markdown",
      "source": [
        "### SVM"
      ],
      "metadata": {
        "id": "SMcQwioOA8qN"
      }
    },
    {
      "cell_type": "code",
      "source": [
        "# From one hot to labels\n",
        "y_train_int = np.argmax(y_train_cat, axis=1)\n",
        "y_dev_int = np.argmax(y_dev_cat, axis=1)\n",
        "\n",
        "# Model SVM and training\n",
        "model_SV = SVC(kernel='rbf', probability=True)\n",
        "model_SV.fit(X_train_processed, y_train_int)\n",
        "\n",
        "# Predictions\n",
        "y_train_pred = model_SV.predict(X_train_processed)\n",
        "y_dev_pred = model_SV.predict(X_dev_processed)\n",
        "\n",
        "# Predictions\n",
        "y_train_pred = model_SV.predict(X_train_processed)\n",
        "y_dev_pred = model_SV.predict(X_dev_processed)\n",
        "\n",
        "# Metrics\n",
        "train_accuracy = accuracy_score(y_train_int, y_train_pred)\n",
        "dev_accuracy = accuracy_score(y_dev_int, y_dev_pred)\n",
        "train_precision, train_recall, train_f1, _ = precision_recall_fscore_support(y_train_int, y_train_pred, average='weighted')\n",
        "dev_precision, dev_recall, dev_f1, _ = precision_recall_fscore_support(y_dev_int, y_dev_pred, average='weighted')\n",
        "\n",
        "# Print\n",
        "print(f\"Accuracy on Train: {train_accuracy * 100:.2f}%\")\n",
        "print(f\"Accuracy on Dev: {dev_accuracy * 100:.2f}%\")\n",
        "print(f\"Train Precision: {train_precision * 100:.2f}%\")\n",
        "print(f\"Train Recall: {train_recall * 100:.2f}%\")\n",
        "print(f\"Train F1-score: {train_f1 * 100:.2f}%\")\n",
        "print(f\"Dev Precision: {dev_precision * 100:.2f}%\")\n",
        "print(f\"Dev Recall: {dev_recall * 100:.2f}%\")\n",
        "print(f\"Dev F1-score: {dev_f1 * 100:.2f}%\")"
      ],
      "metadata": {
        "id": "1oexmSbzA8gl",
        "outputId": "cfb6da03-9aaa-427c-d78b-04b12a8dc704",
        "colab": {
          "base_uri": "https://localhost:8080/"
        }
      },
      "execution_count": null,
      "outputs": [
        {
          "output_type": "stream",
          "name": "stdout",
          "text": [
            "Accuracy on Train: 75.14%\n",
            "Accuracy on Dev: 73.00%\n",
            "Train Precision: 74.78%\n",
            "Train Recall: 75.14%\n",
            "Train F1-score: 74.45%\n",
            "Dev Precision: 72.79%\n",
            "Dev Recall: 73.00%\n",
            "Dev F1-score: 72.00%\n"
          ]
        }
      ]
    },
    {
      "cell_type": "code",
      "source": [
        "# Classification report\n",
        "print(classification_report(y_dev_int, y_dev_pred))"
      ],
      "metadata": {
        "outputId": "c76c5d5a-c738-42b5-b515-a93a79830344",
        "colab": {
          "base_uri": "https://localhost:8080/"
        },
        "id": "gzGHOvPdQdQm"
      },
      "execution_count": null,
      "outputs": [
        {
          "output_type": "stream",
          "name": "stdout",
          "text": [
            "              precision    recall  f1-score   support\n",
            "\n",
            "           0       0.65      0.71      0.68        76\n",
            "           1       0.73      0.52      0.61       107\n",
            "           2       0.78      0.93      0.85       117\n",
            "\n",
            "    accuracy                           0.73       300\n",
            "   macro avg       0.72      0.72      0.71       300\n",
            "weighted avg       0.73      0.73      0.72       300\n",
            "\n"
          ]
        }
      ]
    },
    {
      "cell_type": "code",
      "source": [
        "# Confusion matrix\n",
        "cm_NN = confusion_matrix(y_dev_int, y_dev_pred)\n",
        "plt.figure(figsize=(8,6))\n",
        "classes = ['cultural exclusive', 'cultural representative', 'cultural agnostic']\n",
        "sns.heatmap(cm_NN, annot=True, fmt=\"d\", cmap=\"Blues\", vmin=0, xticklabels=classes, yticklabels=classes)\n",
        "plt.xlabel(\"Predicted\")\n",
        "plt.ylabel(\"True\")\n",
        "plt.title(\"Confusion matrix for the SVM model\")\n",
        "plt.show()\n"
      ],
      "metadata": {
        "outputId": "43be3150-422e-4ade-c906-a0b8655fae99",
        "colab": {
          "base_uri": "https://localhost:8080/",
          "height": 564
        },
        "id": "hp4A2vQHQdQo"
      },
      "execution_count": null,
      "outputs": [
        {
          "output_type": "display_data",
          "data": {
            "text/plain": [
              "<Figure size 800x600 with 2 Axes>"
            ],
            "image/png": "[encoded data removed]"
          },
          "metadata": {}
        }
      ]
    },
    {
      "cell_type": "markdown",
      "source": [
        "### Logistic Regression"
      ],
      "metadata": {
        "id": "droCHEMwBUkd"
      }
    },
    {
      "cell_type": "code",
      "source": [
        "# From one hot to labels\n",
        "y_train_int = np.argmax(y_train_cat, axis=1)\n",
        "y_dev_int = np.argmax(y_dev_cat, axis=1)\n",
        "\n",
        "# Model\n",
        "model_LR = LogisticRegression(multi_class='multinomial', max_iter=1000)\n",
        "model_LR.fit(X_train_processed, y_train_int)\n",
        "\n",
        "# Prediction\n",
        "y_train_pred = model_LR.predict(X_train_processed)\n",
        "y_dev_pred = model_LR.predict(X_dev_processed)\n",
        "\n",
        "# Predictions\n",
        "y_train_pred = model_LR.predict(X_train_processed)\n",
        "y_dev_pred = model_LR.predict(X_dev_processed)\n",
        "\n",
        "# Metrics\n",
        "train_accuracy = accuracy_score(y_train_int, y_train_pred)\n",
        "dev_accuracy = accuracy_score(y_dev_int, y_dev_pred)\n",
        "train_precision, train_recall, train_f1, _ = precision_recall_fscore_support(y_train_int, y_train_pred, average='weighted')\n",
        "dev_precision, dev_recall, dev_f1, _ = precision_recall_fscore_support(y_dev_int, y_dev_pred, average='weighted')\n",
        "\n",
        "# Print\n",
        "print(f\"Accuracy on Train: {train_accuracy * 100:.2f}%\")\n",
        "print(f\"Accuracy on Dev: {dev_accuracy * 100:.2f}%\")\n",
        "print(f\"Train Precision: {train_precision * 100:.2f}%\")\n",
        "print(f\"Train Recall: {train_recall * 100:.2f}%\")\n",
        "print(f\"Train F1-score: {train_f1 * 100:.2f}%\")\n",
        "print(f\"Dev Precision: {dev_precision * 100:.2f}%\")\n",
        "print(f\"Dev Recall: {dev_recall * 100:.2f}%\")\n",
        "print(f\"Dev F1-score: {dev_f1 * 100:.2f}%\")"
      ],
      "metadata": {
        "id": "dxyJUbmoBTnc",
        "outputId": "36f315fd-f569-458c-b8a2-245ccaa1df31",
        "colab": {
          "base_uri": "https://localhost:8080/"
        }
      },
      "execution_count": null,
      "outputs": [
        {
          "output_type": "stream",
          "name": "stdout",
          "text": [
            "Accuracy on Train: 74.92%\n",
            "Accuracy on Dev: 76.33%\n",
            "Train Precision: 74.43%\n",
            "Train Recall: 74.92%\n",
            "Train F1-score: 74.08%\n",
            "Dev Precision: 76.44%\n",
            "Dev Recall: 76.33%\n",
            "Dev F1-score: 75.51%\n"
          ]
        }
      ]
    },
    {
      "cell_type": "code",
      "source": [
        "# Classification report\n",
        "print(classification_report(y_dev_int, y_dev_pred))"
      ],
      "metadata": {
        "outputId": "3086301f-7203-4a24-a003-18e44d221906",
        "colab": {
          "base_uri": "https://localhost:8080/"
        },
        "id": "hGDb6dEnQsPR"
      },
      "execution_count": null,
      "outputs": [
        {
          "output_type": "stream",
          "name": "stdout",
          "text": [
            "              precision    recall  f1-score   support\n",
            "\n",
            "           0       0.71      0.74      0.72        76\n",
            "           1       0.78      0.58      0.67       107\n",
            "           2       0.78      0.95      0.86       117\n",
            "\n",
            "    accuracy                           0.76       300\n",
            "   macro avg       0.76      0.75      0.75       300\n",
            "weighted avg       0.76      0.76      0.76       300\n",
            "\n"
          ]
        }
      ]
    },
    {
      "cell_type": "code",
      "source": [
        "# Confusion matrix\n",
        "cm_NN = confusion_matrix(y_dev_int, y_dev_pred)\n",
        "plt.figure(figsize=(8,6))\n",
        "classes = ['cultural exclusive', 'cultural representative', 'cultural agnostic']\n",
        "sns.heatmap(cm_NN, annot=True, fmt=\"d\", cmap=\"Blues\", vmin=0, xticklabels=classes, yticklabels=classes)\n",
        "plt.xlabel(\"Predicted\")\n",
        "plt.ylabel(\"True\")\n",
        "plt.title(\"Confusion matrix for the log reg model\")\n",
        "plt.show()"
      ],
      "metadata": {
        "id": "GBOQnvVCQy67",
        "outputId": "7c9cde55-c200-486a-c1ec-5fe371d70c1c",
        "colab": {
          "base_uri": "https://localhost:8080/",
          "height": 564
        }
      },
      "execution_count": null,
      "outputs": [
        {
          "output_type": "display_data",
          "data": {
            "text/plain": [
              "<Figure size 800x600 with 2 Axes>"
            ],
            "image/png": "[encoded data removed]"
          },
          "metadata": {}
        }
      ]
    },
    {
      "cell_type": "markdown",
      "source": [
        "# Exportation of the ML models"
      ],
      "metadata": {
        "id": "sDb4YYj7Cgh2"
      }
    },
    {
      "cell_type": "code",
      "source": [
        "from huggingface_hub import login, create_repo, upload_folder\n",
        "import os\n",
        "import tensorflow as tf\n",
        "from huggingface_hub import hf_hub_download\n",
        "\n",
        "login(token=\"\")\n",
        "\n",
        "repo_name = \"MNLP-HW1\"\n",
        "repo_id = f\"tgarnier067/{repo_name}\"\n",
        "create_repo(repo_id, exist_ok=True, private=False)\n",
        "model_folder = \"models\"\n",
        "os.makedirs(model_folder, exist_ok=True)\n",
        "models = {\n",
        "    \"model_logits_features\": model_logits\n",
        "}\n",
        "\n",
        "# Save the models in separate files\n",
        "for model_name, model in models.items():\n",
        "    model_file_path = os.path.join(model_folder, f\"{model_name}.keras\")\n",
        "    model.save(model_file_path)\n",
        "\n",
        "# Add a default README\n",
        "readme_content = \"\"\"# MNLP HW1 Models\n",
        "This repository contains multiple models trained for different tasks. Each model is saved as a separate `.keras` file.\n",
        "\"\"\"\n",
        "\n",
        "# Create a README.md file in the model folder\n",
        "with open(os.path.join(model_folder, \"README.md\"), \"w\") as f:\n",
        "    f.write(readme_content)\n",
        "\n",
        "# Upload all models to the Hugging Face repo\n",
        "upload_folder(\n",
        "    repo_id=repo_id,\n",
        "    folder_path=model_folder,\n",
        "    path_in_repo=\"\"\n",
        ")\n",
        "\n",
        "print(f\"All models have been successfully uploaded to Hugging Face in the repo {repo_id}!\")"
      ],
      "metadata": {
        "id": "NLHD5Mo_CgDj",
        "colab": {
          "base_uri": "https://localhost:8080/",
          "height": 243,
          "referenced_widgets": [
            "f41196c8bc3f44baa16b9627a33b4659",
            "2b36384c4dbd4c56a7863f7ff7e44c08",
            "f78b3e118ec54637891e6c5c6724b109",
            "cd8aa1ee2dd642258fb35ef30b10e56d",
            "d1e320b766944522a3181b953de77a1a",
            "9f953520fced4cc294c19ae16bd6f07d",
            "6a82ea36a8dd4335aee2603b3ef9dc20",
            "14824d8ae9664903bff172a246e86e1f",
            "040d8625337d4a6a9224ed9dca00d644",
            "a901c24fddf942e3b38805d941b9e969",
            "a174eed6abc748109cde1be5fae8443a"
          ]
        },
        "outputId": "6de2e709-b629-4ce8-ece6-88922de103e5"
      },
      "execution_count": null,
      "outputs": [
        {
          "output_type": "stream",
          "name": "stderr",
          "text": [
            "/usr/local/lib/python3.11/dist-packages/huggingface_hub/utils/_auth.py:94: UserWarning: \n",
            "The secret `HF_TOKEN` does not exist in your Colab secrets.\n",
            "To authenticate with the Hugging Face Hub, create a token in your settings tab (https://huggingface.co/settings/tokens), set it as secret in your Google Colab and restart your session.\n",
            "You will be able to reuse this secret in all of your notebooks.\n",
            "Please note that authentication is recommended but still optional to access public models or datasets.\n",
            "  warnings.warn(\n",
            "/usr/local/lib/python3.11/dist-packages/huggingface_hub/hf_api.py:9561: UserWarning: Warnings while validating metadata in README.md:\n",
            "- empty or missing yaml metadata in repo card\n",
            "  warnings.warn(f\"Warnings while validating metadata in README.md:\\n{message}\")\n"
          ]
        },
        {
          "output_type": "display_data",
          "data": {
            "text/plain": [
              "model_logits_features.keras:   0%|          | 0.00/8.74M [00:00<?, ?B/s]"
            ],
            "application/vnd.jupyter.widget-view+json": {
              "version_major": 2,
              "version_minor": 0,
              "model_id": "f41196c8bc3f44baa16b9627a33b4659"
            }
          },
          "metadata": {}
        },
        {
          "output_type": "stream",
          "name": "stdout",
          "text": [
            "All models have been successfully uploaded to Hugging Face in the repo tgarnier067/MNLP-HW1!\n"
          ]
        }
      ]
    }
  ]
}