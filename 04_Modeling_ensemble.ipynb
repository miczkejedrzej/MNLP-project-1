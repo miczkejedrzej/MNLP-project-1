{
  "nbformat": 4,
  "nbformat_minor": 0,
  "metadata": {
    "colab": {
      "provenance": [],
      "gpuType": "T4",
      "include_colab_link": true
    },
    "kernelspec": {
      "name": "python3",
      "display_name": "Python 3"
    },
    "language_info": {
      "name": "python"
    },
    "accelerator": "GPU",
    "widgets": {
      "application/vnd.jupyter.widget-state+json": {
        "8221e668677d42a29783871db259575c": {
          "model_module": "@jupyter-widgets/controls",
          "model_name": "HBoxModel",
          "model_module_version": "1.5.0",
          "state": {
            "_dom_classes": [],
            "_model_module": "@jupyter-widgets/controls",
            "_model_module_version": "1.5.0",
            "_model_name": "HBoxModel",
            "_view_count": null,
            "_view_module": "@jupyter-widgets/controls",
            "_view_module_version": "1.5.0",
            "_view_name": "HBoxView",
            "box_style": "",
            "children": [
              "IPY_MODEL_ef16527de71b47c48eaf0098b3876df9",
              "IPY_MODEL_8ccb5aa930154517af5d4eb3ea13cedc",
              "IPY_MODEL_f0234706904747e5bf495189bf675dda"
            ],
            "layout": "IPY_MODEL_60eb4d92e3af48b6b90d50a790245506"
          }
        },
        "ef16527de71b47c48eaf0098b3876df9": {
          "model_module": "@jupyter-widgets/controls",
          "model_name": "HTMLModel",
          "model_module_version": "1.5.0",
          "state": {
            "_dom_classes": [],
            "_model_module": "@jupyter-widgets/controls",
            "_model_module_version": "1.5.0",
            "_model_name": "HTMLModel",
            "_view_count": null,
            "_view_module": "@jupyter-widgets/controls",
            "_view_module_version": "1.5.0",
            "_view_name": "HTMLView",
            "description": "",
            "description_tooltip": null,
            "layout": "IPY_MODEL_005c9b20c65b40edbdb348643103fbc6",
            "placeholder": "​",
            "style": "IPY_MODEL_e1a0dba8d2b3498e8305cd68aa1974a4",
            "value": "model_logits_features.keras: 100%"
          }
        },
        "8ccb5aa930154517af5d4eb3ea13cedc": {
          "model_module": "@jupyter-widgets/controls",
          "model_name": "FloatProgressModel",
          "model_module_version": "1.5.0",
          "state": {
            "_dom_classes": [],
            "_model_module": "@jupyter-widgets/controls",
            "_model_module_version": "1.5.0",
            "_model_name": "FloatProgressModel",
            "_view_count": null,
            "_view_module": "@jupyter-widgets/controls",
            "_view_module_version": "1.5.0",
            "_view_name": "ProgressView",
            "bar_style": "success",
            "description": "",
            "description_tooltip": null,
            "layout": "IPY_MODEL_10500c30bbbf4dddbcabaac8ac7a2d18",
            "max": 8743763,
            "min": 0,
            "orientation": "horizontal",
            "style": "IPY_MODEL_65879f3d1c8447799bb660deb65fda00",
            "value": 8743763
          }
        },
        "f0234706904747e5bf495189bf675dda": {
          "model_module": "@jupyter-widgets/controls",
          "model_name": "HTMLModel",
          "model_module_version": "1.5.0",
          "state": {
            "_dom_classes": [],
            "_model_module": "@jupyter-widgets/controls",
            "_model_module_version": "1.5.0",
            "_model_name": "HTMLModel",
            "_view_count": null,
            "_view_module": "@jupyter-widgets/controls",
            "_view_module_version": "1.5.0",
            "_view_name": "HTMLView",
            "description": "",
            "description_tooltip": null,
            "layout": "IPY_MODEL_638d31ee6ec541aca542e80c8fe0830a",
            "placeholder": "​",
            "style": "IPY_MODEL_eea31341a87048e884d9187f1089eb16",
            "value": " 8.74M/8.74M [00:00&lt;00:00, 30.0MB/s]"
          }
        },
        "60eb4d92e3af48b6b90d50a790245506": {
          "model_module": "@jupyter-widgets/base",
          "model_name": "LayoutModel",
          "model_module_version": "1.2.0",
          "state": {
            "_model_module": "@jupyter-widgets/base",
            "_model_module_version": "1.2.0",
            "_model_name": "LayoutModel",
            "_view_count": null,
            "_view_module": "@jupyter-widgets/base",
            "_view_module_version": "1.2.0",
            "_view_name": "LayoutView",
            "align_content": null,
            "align_items": null,
            "align_self": null,
            "border": null,
            "bottom": null,
            "display": null,
            "flex": null,
            "flex_flow": null,
            "grid_area": null,
            "grid_auto_columns": null,
            "grid_auto_flow": null,
            "grid_auto_rows": null,
            "grid_column": null,
            "grid_gap": null,
            "grid_row": null,
            "grid_template_areas": null,
            "grid_template_columns": null,
            "grid_template_rows": null,
            "height": null,
            "justify_content": null,
            "justify_items": null,
            "left": null,
            "margin": null,
            "max_height": null,
            "max_width": null,
            "min_height": null,
            "min_width": null,
            "object_fit": null,
            "object_position": null,
            "order": null,
            "overflow": null,
            "overflow_x": null,
            "overflow_y": null,
            "padding": null,
            "right": null,
            "top": null,
            "visibility": null,
            "width": null
          }
        },
        "005c9b20c65b40edbdb348643103fbc6": {
          "model_module": "@jupyter-widgets/base",
          "model_name": "LayoutModel",
          "model_module_version": "1.2.0",
          "state": {
            "_model_module": "@jupyter-widgets/base",
            "_model_module_version": "1.2.0",
            "_model_name": "LayoutModel",
            "_view_count": null,
            "_view_module": "@jupyter-widgets/base",
            "_view_module_version": "1.2.0",
            "_view_name": "LayoutView",
            "align_content": null,
            "align_items": null,
            "align_self": null,
            "border": null,
            "bottom": null,
            "display": null,
            "flex": null,
            "flex_flow": null,
            "grid_area": null,
            "grid_auto_columns": null,
            "grid_auto_flow": null,
            "grid_auto_rows": null,
            "grid_column": null,
            "grid_gap": null,
            "grid_row": null,
            "grid_template_areas": null,
            "grid_template_columns": null,
            "grid_template_rows": null,
            "height": null,
            "justify_content": null,
            "justify_items": null,
            "left": null,
            "margin": null,
            "max_height": null,
            "max_width": null,
            "min_height": null,
            "min_width": null,
            "object_fit": null,
            "object_position": null,
            "order": null,
            "overflow": null,
            "overflow_x": null,
            "overflow_y": null,
            "padding": null,
            "right": null,
            "top": null,
            "visibility": null,
            "width": null
          }
        },
        "e1a0dba8d2b3498e8305cd68aa1974a4": {
          "model_module": "@jupyter-widgets/controls",
          "model_name": "DescriptionStyleModel",
          "model_module_version": "1.5.0",
          "state": {
            "_model_module": "@jupyter-widgets/controls",
            "_model_module_version": "1.5.0",
            "_model_name": "DescriptionStyleModel",
            "_view_count": null,
            "_view_module": "@jupyter-widgets/base",
            "_view_module_version": "1.2.0",
            "_view_name": "StyleView",
            "description_width": ""
          }
        },
        "10500c30bbbf4dddbcabaac8ac7a2d18": {
          "model_module": "@jupyter-widgets/base",
          "model_name": "LayoutModel",
          "model_module_version": "1.2.0",
          "state": {
            "_model_module": "@jupyter-widgets/base",
            "_model_module_version": "1.2.0",
            "_model_name": "LayoutModel",
            "_view_count": null,
            "_view_module": "@jupyter-widgets/base",
            "_view_module_version": "1.2.0",
            "_view_name": "LayoutView",
            "align_content": null,
            "align_items": null,
            "align_self": null,
            "border": null,
            "bottom": null,
            "display": null,
            "flex": null,
            "flex_flow": null,
            "grid_area": null,
            "grid_auto_columns": null,
            "grid_auto_flow": null,
            "grid_auto_rows": null,
            "grid_column": null,
            "grid_gap": null,
            "grid_row": null,
            "grid_template_areas": null,
            "grid_template_columns": null,
            "grid_template_rows": null,
            "height": null,
            "justify_content": null,
            "justify_items": null,
            "left": null,
            "margin": null,
            "max_height": null,
            "max_width": null,
            "min_height": null,
            "min_width": null,
            "object_fit": null,
            "object_position": null,
            "order": null,
            "overflow": null,
            "overflow_x": null,
            "overflow_y": null,
            "padding": null,
            "right": null,
            "top": null,
            "visibility": null,
            "width": null
          }
        },
        "65879f3d1c8447799bb660deb65fda00": {
          "model_module": "@jupyter-widgets/controls",
          "model_name": "ProgressStyleModel",
          "model_module_version": "1.5.0",
          "state": {
            "_model_module": "@jupyter-widgets/controls",
            "_model_module_version": "1.5.0",
            "_model_name": "ProgressStyleModel",
            "_view_count": null,
            "_view_module": "@jupyter-widgets/base",
            "_view_module_version": "1.2.0",
            "_view_name": "StyleView",
            "bar_color": null,
            "description_width": ""
          }
        },
        "638d31ee6ec541aca542e80c8fe0830a": {
          "model_module": "@jupyter-widgets/base",
          "model_name": "LayoutModel",
          "model_module_version": "1.2.0",
          "state": {
            "_model_module": "@jupyter-widgets/base",
            "_model_module_version": "1.2.0",
            "_model_name": "LayoutModel",
            "_view_count": null,
            "_view_module": "@jupyter-widgets/base",
            "_view_module_version": "1.2.0",
            "_view_name": "LayoutView",
            "align_content": null,
            "align_items": null,
            "align_self": null,
            "border": null,
            "bottom": null,
            "display": null,
            "flex": null,
            "flex_flow": null,
            "grid_area": null,
            "grid_auto_columns": null,
            "grid_auto_flow": null,
            "grid_auto_rows": null,
            "grid_column": null,
            "grid_gap": null,
            "grid_row": null,
            "grid_template_areas": null,
            "grid_template_columns": null,
            "grid_template_rows": null,
            "height": null,
            "justify_content": null,
            "justify_items": null,
            "left": null,
            "margin": null,
            "max_height": null,
            "max_width": null,
            "min_height": null,
            "min_width": null,
            "object_fit": null,
            "object_position": null,
            "order": null,
            "overflow": null,
            "overflow_x": null,
            "overflow_y": null,
            "padding": null,
            "right": null,
            "top": null,
            "visibility": null,
            "width": null
          }
        },
        "eea31341a87048e884d9187f1089eb16": {
          "model_module": "@jupyter-widgets/controls",
          "model_name": "DescriptionStyleModel",
          "model_module_version": "1.5.0",
          "state": {
            "_model_module": "@jupyter-widgets/controls",
            "_model_module_version": "1.5.0",
            "_model_name": "DescriptionStyleModel",
            "_view_count": null,
            "_view_module": "@jupyter-widgets/base",
            "_view_module_version": "1.2.0",
            "_view_name": "StyleView",
            "description_width": ""
          }
        },
        "437403f577684728a76099d543964f2b": {
          "model_module": "@jupyter-widgets/controls",
          "model_name": "HBoxModel",
          "model_module_version": "1.5.0",
          "state": {
            "_dom_classes": [],
            "_model_module": "@jupyter-widgets/controls",
            "_model_module_version": "1.5.0",
            "_model_name": "HBoxModel",
            "_view_count": null,
            "_view_module": "@jupyter-widgets/controls",
            "_view_module_version": "1.5.0",
            "_view_name": "HBoxView",
            "box_style": "",
            "children": [
              "IPY_MODEL_8f81dbc06d994f3eaa9d11dbbe6ec258",
              "IPY_MODEL_b608e11e6c74456db487d18e3b231842",
              "IPY_MODEL_d18fc80e28544c768165e66cefdbead4"
            ],
            "layout": "IPY_MODEL_b2e65344426f43efae323e17fd4281ba"
          }
        },
        "8f81dbc06d994f3eaa9d11dbbe6ec258": {
          "model_module": "@jupyter-widgets/controls",
          "model_name": "HTMLModel",
          "model_module_version": "1.5.0",
          "state": {
            "_dom_classes": [],
            "_model_module": "@jupyter-widgets/controls",
            "_model_module_version": "1.5.0",
            "_model_name": "HTMLModel",
            "_view_count": null,
            "_view_module": "@jupyter-widgets/controls",
            "_view_module_version": "1.5.0",
            "_view_name": "HTMLView",
            "description": "",
            "description_tooltip": null,
            "layout": "IPY_MODEL_a0b18a9aeda14c11ad3b955bb87a8e75",
            "placeholder": "​",
            "style": "IPY_MODEL_d0b21e9f0594447c9390989613c00af4",
            "value": "model_logits_description.keras: 100%"
          }
        },
        "b608e11e6c74456db487d18e3b231842": {
          "model_module": "@jupyter-widgets/controls",
          "model_name": "FloatProgressModel",
          "model_module_version": "1.5.0",
          "state": {
            "_dom_classes": [],
            "_model_module": "@jupyter-widgets/controls",
            "_model_module_version": "1.5.0",
            "_model_name": "FloatProgressModel",
            "_view_count": null,
            "_view_module": "@jupyter-widgets/controls",
            "_view_module_version": "1.5.0",
            "_view_name": "ProgressView",
            "bar_style": "success",
            "description": "",
            "description_tooltip": null,
            "layout": "IPY_MODEL_f370318022894eebb4e97b260515232e",
            "max": 9857950,
            "min": 0,
            "orientation": "horizontal",
            "style": "IPY_MODEL_87d065fd7a0c43668c0fc3315ccb715b",
            "value": 9857950
          }
        },
        "d18fc80e28544c768165e66cefdbead4": {
          "model_module": "@jupyter-widgets/controls",
          "model_name": "HTMLModel",
          "model_module_version": "1.5.0",
          "state": {
            "_dom_classes": [],
            "_model_module": "@jupyter-widgets/controls",
            "_model_module_version": "1.5.0",
            "_model_name": "HTMLModel",
            "_view_count": null,
            "_view_module": "@jupyter-widgets/controls",
            "_view_module_version": "1.5.0",
            "_view_name": "HTMLView",
            "description": "",
            "description_tooltip": null,
            "layout": "IPY_MODEL_ed4d88ecd77b4114927b5cf8221d691b",
            "placeholder": "​",
            "style": "IPY_MODEL_56cfd4219ee748aeb512cc27b9c2d9e8",
            "value": " 9.86M/9.86M [00:00&lt;00:00, 85.4MB/s]"
          }
        },
        "b2e65344426f43efae323e17fd4281ba": {
          "model_module": "@jupyter-widgets/base",
          "model_name": "LayoutModel",
          "model_module_version": "1.2.0",
          "state": {
            "_model_module": "@jupyter-widgets/base",
            "_model_module_version": "1.2.0",
            "_model_name": "LayoutModel",
            "_view_count": null,
            "_view_module": "@jupyter-widgets/base",
            "_view_module_version": "1.2.0",
            "_view_name": "LayoutView",
            "align_content": null,
            "align_items": null,
            "align_self": null,
            "border": null,
            "bottom": null,
            "display": null,
            "flex": null,
            "flex_flow": null,
            "grid_area": null,
            "grid_auto_columns": null,
            "grid_auto_flow": null,
            "grid_auto_rows": null,
            "grid_column": null,
            "grid_gap": null,
            "grid_row": null,
            "grid_template_areas": null,
            "grid_template_columns": null,
            "grid_template_rows": null,
            "height": null,
            "justify_content": null,
            "justify_items": null,
            "left": null,
            "margin": null,
            "max_height": null,
            "max_width": null,
            "min_height": null,
            "min_width": null,
            "object_fit": null,
            "object_position": null,
            "order": null,
            "overflow": null,
            "overflow_x": null,
            "overflow_y": null,
            "padding": null,
            "right": null,
            "top": null,
            "visibility": null,
            "width": null
          }
        },
        "a0b18a9aeda14c11ad3b955bb87a8e75": {
          "model_module": "@jupyter-widgets/base",
          "model_name": "LayoutModel",
          "model_module_version": "1.2.0",
          "state": {
            "_model_module": "@jupyter-widgets/base",
            "_model_module_version": "1.2.0",
            "_model_name": "LayoutModel",
            "_view_count": null,
            "_view_module": "@jupyter-widgets/base",
            "_view_module_version": "1.2.0",
            "_view_name": "LayoutView",
            "align_content": null,
            "align_items": null,
            "align_self": null,
            "border": null,
            "bottom": null,
            "display": null,
            "flex": null,
            "flex_flow": null,
            "grid_area": null,
            "grid_auto_columns": null,
            "grid_auto_flow": null,
            "grid_auto_rows": null,
            "grid_column": null,
            "grid_gap": null,
            "grid_row": null,
            "grid_template_areas": null,
            "grid_template_columns": null,
            "grid_template_rows": null,
            "height": null,
            "justify_content": null,
            "justify_items": null,
            "left": null,
            "margin": null,
            "max_height": null,
            "max_width": null,
            "min_height": null,
            "min_width": null,
            "object_fit": null,
            "object_position": null,
            "order": null,
            "overflow": null,
            "overflow_x": null,
            "overflow_y": null,
            "padding": null,
            "right": null,
            "top": null,
            "visibility": null,
            "width": null
          }
        },
        "d0b21e9f0594447c9390989613c00af4": {
          "model_module": "@jupyter-widgets/controls",
          "model_name": "DescriptionStyleModel",
          "model_module_version": "1.5.0",
          "state": {
            "_model_module": "@jupyter-widgets/controls",
            "_model_module_version": "1.5.0",
            "_model_name": "DescriptionStyleModel",
            "_view_count": null,
            "_view_module": "@jupyter-widgets/base",
            "_view_module_version": "1.2.0",
            "_view_name": "StyleView",
            "description_width": ""
          }
        },
        "f370318022894eebb4e97b260515232e": {
          "model_module": "@jupyter-widgets/base",
          "model_name": "LayoutModel",
          "model_module_version": "1.2.0",
          "state": {
            "_model_module": "@jupyter-widgets/base",
            "_model_module_version": "1.2.0",
            "_model_name": "LayoutModel",
            "_view_count": null,
            "_view_module": "@jupyter-widgets/base",
            "_view_module_version": "1.2.0",
            "_view_name": "LayoutView",
            "align_content": null,
            "align_items": null,
            "align_self": null,
            "border": null,
            "bottom": null,
            "display": null,
            "flex": null,
            "flex_flow": null,
            "grid_area": null,
            "grid_auto_columns": null,
            "grid_auto_flow": null,
            "grid_auto_rows": null,
            "grid_column": null,
            "grid_gap": null,
            "grid_row": null,
            "grid_template_areas": null,
            "grid_template_columns": null,
            "grid_template_rows": null,
            "height": null,
            "justify_content": null,
            "justify_items": null,
            "left": null,
            "margin": null,
            "max_height": null,
            "max_width": null,
            "min_height": null,
            "min_width": null,
            "object_fit": null,
            "object_position": null,
            "order": null,
            "overflow": null,
            "overflow_x": null,
            "overflow_y": null,
            "padding": null,
            "right": null,
            "top": null,
            "visibility": null,
            "width": null
          }
        },
        "87d065fd7a0c43668c0fc3315ccb715b": {
          "model_module": "@jupyter-widgets/controls",
          "model_name": "ProgressStyleModel",
          "model_module_version": "1.5.0",
          "state": {
            "_model_module": "@jupyter-widgets/controls",
            "_model_module_version": "1.5.0",
            "_model_name": "ProgressStyleModel",
            "_view_count": null,
            "_view_module": "@jupyter-widgets/base",
            "_view_module_version": "1.2.0",
            "_view_name": "StyleView",
            "bar_color": null,
            "description_width": ""
          }
        },
        "ed4d88ecd77b4114927b5cf8221d691b": {
          "model_module": "@jupyter-widgets/base",
          "model_name": "LayoutModel",
          "model_module_version": "1.2.0",
          "state": {
            "_model_module": "@jupyter-widgets/base",
            "_model_module_version": "1.2.0",
            "_model_name": "LayoutModel",
            "_view_count": null,
            "_view_module": "@jupyter-widgets/base",
            "_view_module_version": "1.2.0",
            "_view_name": "LayoutView",
            "align_content": null,
            "align_items": null,
            "align_self": null,
            "border": null,
            "bottom": null,
            "display": null,
            "flex": null,
            "flex_flow": null,
            "grid_area": null,
            "grid_auto_columns": null,
            "grid_auto_flow": null,
            "grid_auto_rows": null,
            "grid_column": null,
            "grid_gap": null,
            "grid_row": null,
            "grid_template_areas": null,
            "grid_template_columns": null,
            "grid_template_rows": null,
            "height": null,
            "justify_content": null,
            "justify_items": null,
            "left": null,
            "margin": null,
            "max_height": null,
            "max_width": null,
            "min_height": null,
            "min_width": null,
            "object_fit": null,
            "object_position": null,
            "order": null,
            "overflow": null,
            "overflow_x": null,
            "overflow_y": null,
            "padding": null,
            "right": null,
            "top": null,
            "visibility": null,
            "width": null
          }
        },
        "56cfd4219ee748aeb512cc27b9c2d9e8": {
          "model_module": "@jupyter-widgets/controls",
          "model_name": "DescriptionStyleModel",
          "model_module_version": "1.5.0",
          "state": {
            "_model_module": "@jupyter-widgets/controls",
            "_model_module_version": "1.5.0",
            "_model_name": "DescriptionStyleModel",
            "_view_count": null,
            "_view_module": "@jupyter-widgets/base",
            "_view_module_version": "1.2.0",
            "_view_name": "StyleView",
            "description_width": ""
          }
        },
        "52f1602bfb704dd3b79ebdcf42ba0ffc": {
          "model_module": "@jupyter-widgets/controls",
          "model_name": "HBoxModel",
          "model_module_version": "1.5.0",
          "state": {
            "_dom_classes": [],
            "_model_module": "@jupyter-widgets/controls",
            "_model_module_version": "1.5.0",
            "_model_name": "HBoxModel",
            "_view_count": null,
            "_view_module": "@jupyter-widgets/controls",
            "_view_module_version": "1.5.0",
            "_view_name": "HBoxView",
            "box_style": "",
            "children": [
              "IPY_MODEL_5349ace0d2c14d82888168978fa495cf",
              "IPY_MODEL_91f24e9cac2243bdaefd4998a0049013",
              "IPY_MODEL_c17d472f8c2748b39c14bf047a0f6498"
            ],
            "layout": "IPY_MODEL_48cf4f1156174755a6d71843dd989ffc"
          }
        },
        "5349ace0d2c14d82888168978fa495cf": {
          "model_module": "@jupyter-widgets/controls",
          "model_name": "HTMLModel",
          "model_module_version": "1.5.0",
          "state": {
            "_dom_classes": [],
            "_model_module": "@jupyter-widgets/controls",
            "_model_module_version": "1.5.0",
            "_model_name": "HTMLModel",
            "_view_count": null,
            "_view_module": "@jupyter-widgets/controls",
            "_view_module_version": "1.5.0",
            "_view_name": "HTMLView",
            "description": "",
            "description_tooltip": null,
            "layout": "IPY_MODEL_fcba734d8bdb42fa9a5b6e920cfd43f6",
            "placeholder": "​",
            "style": "IPY_MODEL_a5db5c19ee2e4a49a40e6b672700c186",
            "value": "model_logits_photos.keras: 100%"
          }
        },
        "91f24e9cac2243bdaefd4998a0049013": {
          "model_module": "@jupyter-widgets/controls",
          "model_name": "FloatProgressModel",
          "model_module_version": "1.5.0",
          "state": {
            "_dom_classes": [],
            "_model_module": "@jupyter-widgets/controls",
            "_model_module_version": "1.5.0",
            "_model_name": "FloatProgressModel",
            "_view_count": null,
            "_view_module": "@jupyter-widgets/controls",
            "_view_module_version": "1.5.0",
            "_view_name": "ProgressView",
            "bar_style": "success",
            "description": "",
            "description_tooltip": null,
            "layout": "IPY_MODEL_56836a37473a4970a6e92a0bf22b8094",
            "max": 517032,
            "min": 0,
            "orientation": "horizontal",
            "style": "IPY_MODEL_24489572beb34cba88502cb49e695593",
            "value": 517032
          }
        },
        "c17d472f8c2748b39c14bf047a0f6498": {
          "model_module": "@jupyter-widgets/controls",
          "model_name": "HTMLModel",
          "model_module_version": "1.5.0",
          "state": {
            "_dom_classes": [],
            "_model_module": "@jupyter-widgets/controls",
            "_model_module_version": "1.5.0",
            "_model_name": "HTMLModel",
            "_view_count": null,
            "_view_module": "@jupyter-widgets/controls",
            "_view_module_version": "1.5.0",
            "_view_name": "HTMLView",
            "description": "",
            "description_tooltip": null,
            "layout": "IPY_MODEL_6e440e6200fc4596b24c64329cc22b09",
            "placeholder": "​",
            "style": "IPY_MODEL_acbbc92e011f4fd3a0880152ce4ef68c",
            "value": " 517k/517k [00:00&lt;00:00, 20.4MB/s]"
          }
        },
        "48cf4f1156174755a6d71843dd989ffc": {
          "model_module": "@jupyter-widgets/base",
          "model_name": "LayoutModel",
          "model_module_version": "1.2.0",
          "state": {
            "_model_module": "@jupyter-widgets/base",
            "_model_module_version": "1.2.0",
            "_model_name": "LayoutModel",
            "_view_count": null,
            "_view_module": "@jupyter-widgets/base",
            "_view_module_version": "1.2.0",
            "_view_name": "LayoutView",
            "align_content": null,
            "align_items": null,
            "align_self": null,
            "border": null,
            "bottom": null,
            "display": null,
            "flex": null,
            "flex_flow": null,
            "grid_area": null,
            "grid_auto_columns": null,
            "grid_auto_flow": null,
            "grid_auto_rows": null,
            "grid_column": null,
            "grid_gap": null,
            "grid_row": null,
            "grid_template_areas": null,
            "grid_template_columns": null,
            "grid_template_rows": null,
            "height": null,
            "justify_content": null,
            "justify_items": null,
            "left": null,
            "margin": null,
            "max_height": null,
            "max_width": null,
            "min_height": null,
            "min_width": null,
            "object_fit": null,
            "object_position": null,
            "order": null,
            "overflow": null,
            "overflow_x": null,
            "overflow_y": null,
            "padding": null,
            "right": null,
            "top": null,
            "visibility": null,
            "width": null
          }
        },
        "fcba734d8bdb42fa9a5b6e920cfd43f6": {
          "model_module": "@jupyter-widgets/base",
          "model_name": "LayoutModel",
          "model_module_version": "1.2.0",
          "state": {
            "_model_module": "@jupyter-widgets/base",
            "_model_module_version": "1.2.0",
            "_model_name": "LayoutModel",
            "_view_count": null,
            "_view_module": "@jupyter-widgets/base",
            "_view_module_version": "1.2.0",
            "_view_name": "LayoutView",
            "align_content": null,
            "align_items": null,
            "align_self": null,
            "border": null,
            "bottom": null,
            "display": null,
            "flex": null,
            "flex_flow": null,
            "grid_area": null,
            "grid_auto_columns": null,
            "grid_auto_flow": null,
            "grid_auto_rows": null,
            "grid_column": null,
            "grid_gap": null,
            "grid_row": null,
            "grid_template_areas": null,
            "grid_template_columns": null,
            "grid_template_rows": null,
            "height": null,
            "justify_content": null,
            "justify_items": null,
            "left": null,
            "margin": null,
            "max_height": null,
            "max_width": null,
            "min_height": null,
            "min_width": null,
            "object_fit": null,
            "object_position": null,
            "order": null,
            "overflow": null,
            "overflow_x": null,
            "overflow_y": null,
            "padding": null,
            "right": null,
            "top": null,
            "visibility": null,
            "width": null
          }
        },
        "a5db5c19ee2e4a49a40e6b672700c186": {
          "model_module": "@jupyter-widgets/controls",
          "model_name": "DescriptionStyleModel",
          "model_module_version": "1.5.0",
          "state": {
            "_model_module": "@jupyter-widgets/controls",
            "_model_module_version": "1.5.0",
            "_model_name": "DescriptionStyleModel",
            "_view_count": null,
            "_view_module": "@jupyter-widgets/base",
            "_view_module_version": "1.2.0",
            "_view_name": "StyleView",
            "description_width": ""
          }
        },
        "56836a37473a4970a6e92a0bf22b8094": {
          "model_module": "@jupyter-widgets/base",
          "model_name": "LayoutModel",
          "model_module_version": "1.2.0",
          "state": {
            "_model_module": "@jupyter-widgets/base",
            "_model_module_version": "1.2.0",
            "_model_name": "LayoutModel",
            "_view_count": null,
            "_view_module": "@jupyter-widgets/base",
            "_view_module_version": "1.2.0",
            "_view_name": "LayoutView",
            "align_content": null,
            "align_items": null,
            "align_self": null,
            "border": null,
            "bottom": null,
            "display": null,
            "flex": null,
            "flex_flow": null,
            "grid_area": null,
            "grid_auto_columns": null,
            "grid_auto_flow": null,
            "grid_auto_rows": null,
            "grid_column": null,
            "grid_gap": null,
            "grid_row": null,
            "grid_template_areas": null,
            "grid_template_columns": null,
            "grid_template_rows": null,
            "height": null,
            "justify_content": null,
            "justify_items": null,
            "left": null,
            "margin": null,
            "max_height": null,
            "max_width": null,
            "min_height": null,
            "min_width": null,
            "object_fit": null,
            "object_position": null,
            "order": null,
            "overflow": null,
            "overflow_x": null,
            "overflow_y": null,
            "padding": null,
            "right": null,
            "top": null,
            "visibility": null,
            "width": null
          }
        },
        "24489572beb34cba88502cb49e695593": {
          "model_module": "@jupyter-widgets/controls",
          "model_name": "ProgressStyleModel",
          "model_module_version": "1.5.0",
          "state": {
            "_model_module": "@jupyter-widgets/controls",
            "_model_module_version": "1.5.0",
            "_model_name": "ProgressStyleModel",
            "_view_count": null,
            "_view_module": "@jupyter-widgets/base",
            "_view_module_version": "1.2.0",
            "_view_name": "StyleView",
            "bar_color": null,
            "description_width": ""
          }
        },
        "6e440e6200fc4596b24c64329cc22b09": {
          "model_module": "@jupyter-widgets/base",
          "model_name": "LayoutModel",
          "model_module_version": "1.2.0",
          "state": {
            "_model_module": "@jupyter-widgets/base",
            "_model_module_version": "1.2.0",
            "_model_name": "LayoutModel",
            "_view_count": null,
            "_view_module": "@jupyter-widgets/base",
            "_view_module_version": "1.2.0",
            "_view_name": "LayoutView",
            "align_content": null,
            "align_items": null,
            "align_self": null,
            "border": null,
            "bottom": null,
            "display": null,
            "flex": null,
            "flex_flow": null,
            "grid_area": null,
            "grid_auto_columns": null,
            "grid_auto_flow": null,
            "grid_auto_rows": null,
            "grid_column": null,
            "grid_gap": null,
            "grid_row": null,
            "grid_template_areas": null,
            "grid_template_columns": null,
            "grid_template_rows": null,
            "height": null,
            "justify_content": null,
            "justify_items": null,
            "left": null,
            "margin": null,
            "max_height": null,
            "max_width": null,
            "min_height": null,
            "min_width": null,
            "object_fit": null,
            "object_position": null,
            "order": null,
            "overflow": null,
            "overflow_x": null,
            "overflow_y": null,
            "padding": null,
            "right": null,
            "top": null,
            "visibility": null,
            "width": null
          }
        },
        "acbbc92e011f4fd3a0880152ce4ef68c": {
          "model_module": "@jupyter-widgets/controls",
          "model_name": "DescriptionStyleModel",
          "model_module_version": "1.5.0",
          "state": {
            "_model_module": "@jupyter-widgets/controls",
            "_model_module_version": "1.5.0",
            "_model_name": "DescriptionStyleModel",
            "_view_count": null,
            "_view_module": "@jupyter-widgets/base",
            "_view_module_version": "1.2.0",
            "_view_name": "StyleView",
            "description_width": ""
          }
        }
      }
    }
  },
  "cells": [
    {
      "cell_type": "markdown",
      "metadata": {
        "id": "view-in-github",
        "colab_type": "text"
      },
      "source": [
        "<a href=\"https://colab.research.google.com/github/miczkejedrzej/MNLP-project-1/blob/main/04_Modeling_ensemble.ipynb\" target=\"_parent\"><img src=\"https://colab.research.google.com/assets/colab-badge.svg\" alt=\"Open In Colab\"/></a>"
      ]
    },
    {
      "cell_type": "markdown",
      "source": [
        "#Ensemble\n"
      ],
      "metadata": {
        "id": "_N5_A08nJLCh"
      }
    },
    {
      "cell_type": "code",
      "source": [
        "from google.colab import drive\n",
        "drive.mount('/content/drive')\n",
        "import pandas as pd\n",
        "\n",
        "train_df = pd.read_json('/content/drive/MyDrive/France_Poland_multilanguage_shared_folder/train_df_complete.json', orient=\"records\", lines=True)\n",
        "dev_df = pd.read_json('/content/drive/MyDrive/France_Poland_multilanguage_shared_folder/dev_df_complete.json', orient=\"records\", lines=True)"
      ],
      "metadata": {
        "id": "pcf8a3OavShG",
        "outputId": "9bf5a820-2c4d-47ca-9bb3-6857ed2b8701",
        "colab": {
          "base_uri": "https://localhost:8080/"
        }
      },
      "execution_count": 1,
      "outputs": [
        {
          "output_type": "stream",
          "name": "stdout",
          "text": [
            "Mounted at /content/drive\n"
          ]
        }
      ]
    },
    {
      "cell_type": "code",
      "execution_count": 4,
      "metadata": {
        "colab": {
          "base_uri": "https://localhost:8080/"
        },
        "id": "EJob63VAJInj",
        "outputId": "17ecca96-4f3a-42c0-dc09-b58c72ea8e6b"
      },
      "outputs": [
        {
          "output_type": "stream",
          "name": "stdout",
          "text": [
            "Collecting fasttext\n",
            "  Downloading fasttext-0.9.3.tar.gz (73 kB)\n",
            "\u001b[?25l     \u001b[90m━━━━━━━━━━━━━━━━━━━━━━━━━━━━━━━━━━━━━━━━\u001b[0m \u001b[32m0.0/73.4 kB\u001b[0m \u001b[31m?\u001b[0m eta \u001b[36m-:--:--\u001b[0m\r\u001b[2K     \u001b[90m━━━━━━━━━━━━━━━━━━━━━━━━━━━━━━━━━━━━━━━━\u001b[0m \u001b[32m73.4/73.4 kB\u001b[0m \u001b[31m3.0 MB/s\u001b[0m eta \u001b[36m0:00:00\u001b[0m\n",
            "\u001b[?25h  Installing build dependencies ... \u001b[?25l\u001b[?25hdone\n",
            "  Getting requirements to build wheel ... \u001b[?25l\u001b[?25hdone\n",
            "  Preparing metadata (pyproject.toml) ... \u001b[?25l\u001b[?25hdone\n",
            "Collecting pybind11>=2.2 (from fasttext)\n",
            "  Using cached pybind11-2.13.6-py3-none-any.whl.metadata (9.5 kB)\n",
            "Requirement already satisfied: setuptools>=0.7.0 in /usr/local/lib/python3.11/dist-packages (from fasttext) (75.2.0)\n",
            "Requirement already satisfied: numpy in /usr/local/lib/python3.11/dist-packages (from fasttext) (2.0.2)\n",
            "Using cached pybind11-2.13.6-py3-none-any.whl (243 kB)\n",
            "Building wheels for collected packages: fasttext\n",
            "  Building wheel for fasttext (pyproject.toml) ... \u001b[?25l\u001b[?25hdone\n",
            "  Created wheel for fasttext: filename=fasttext-0.9.3-cp311-cp311-linux_x86_64.whl size=4313489 sha256=7220ff229201e8457b8bf056d648600c66df3581b5dfb01ffcda7335cb406ea9\n",
            "  Stored in directory: /root/.cache/pip/wheels/65/4f/35/5057db0249224e9ab55a513fa6b79451473ceb7713017823c3\n",
            "Successfully built fasttext\n",
            "Installing collected packages: pybind11, fasttext\n",
            "Successfully installed fasttext-0.9.3 pybind11-2.13.6\n"
          ]
        }
      ],
      "source": [
        "'''imports '''\n",
        "from google.colab import files\n",
        "import matplotlib.pyplot as plt\n",
        "import pandas as pd\n",
        "import numpy as np\n",
        "import json\n",
        "import tensorflow as tf\n",
        "from tensorflow.keras.utils import to_categorical\n",
        "from tensorflow.keras import layers, models, callbacks\n",
        "from tensorflow.keras.optimizers import Adam\n",
        "from tensorflow.keras.layers import LeakyReLU\n",
        "from sklearn.metrics import accuracy_score\n",
        "from sklearn.model_selection import train_test_split\n",
        "from sklearn.preprocessing import StandardScaler, OneHotEncoder,MinMaxScaler\n",
        "from sklearn.impute import SimpleImputer\n",
        "from sklearn.compose import ColumnTransformer\n",
        "from sklearn.pipeline import Pipeline\n",
        "from tensorflow.keras.utils import to_categorical\n",
        "from xgboost import XGBClassifier\n",
        "from sklearn.metrics import accuracy_score\n",
        "from sklearn.linear_model import LogisticRegression\n",
        "from sklearn.svm import SVC\n",
        "from sklearn.ensemble import RandomForestClassifier\n",
        "from sklearn.metrics import confusion_matrix\n",
        "from sklearn.metrics import classification_report\n",
        "import seaborn as sns\n",
        "from tensorflow.keras.models import Model, load_model\n",
        "from tensorflow.keras.optimizers import Adam\n",
        "from tensorflow.keras import regularizers\n",
        "\n",
        "\n",
        "from tqdm.auto import tqdm\n",
        "import warnings\n",
        "warnings.simplefilter(action='ignore', category=FutureWarning)\n",
        "\n",
        "%pip install fasttext"
      ]
    },
    {
      "cell_type": "markdown",
      "source": [
        "## Import the 3 models"
      ],
      "metadata": {
        "id": "nGVxrLaSVMXY"
      }
    },
    {
      "cell_type": "code",
      "source": [
        "!pip install huggingface_hub tensorflow --quiet\n",
        "\n",
        "from huggingface_hub import login, create_repo, upload_folder\n",
        "import os\n",
        "import tensorflow as tf\n",
        "from huggingface_hub import hf_hub_download\n",
        "\n",
        "# Repo name and model file name\n",
        "repo_id = \"tgarnier067/MNLP-HW1\"\n",
        "model_name_1 = \"model_logits_features.keras\"\n",
        "model_name_2 = \"model_logits_description.keras\"\n",
        "model_name_3 = \"model_logits_photos.keras\"\n",
        "\n",
        "# Download the model from Hugging Face\n",
        "model_path_1 = hf_hub_download(repo_id=repo_id, filename=model_name_1)\n",
        "model_path_2 = hf_hub_download(repo_id=repo_id, filename=model_name_2)\n",
        "model_path_3 = hf_hub_download(repo_id=repo_id, filename=model_name_3)\n",
        "\n",
        "\n",
        "# Load the .keras model with TensorFlow\n",
        "model_logits_features = tf.keras.models.load_model(model_path_1)\n",
        "model_logits_description = tf.keras.models.load_model(model_path_2)\n",
        "model_logits_photos = tf.keras.models.load_model(model_path_3)"
      ],
      "metadata": {
        "id": "2MeOQ_FDUftn",
        "outputId": "7db5361e-96ca-4a71-b654-0e3e063e51ac",
        "colab": {
          "base_uri": "https://localhost:8080/",
          "height": 237,
          "referenced_widgets": [
            "8221e668677d42a29783871db259575c",
            "ef16527de71b47c48eaf0098b3876df9",
            "8ccb5aa930154517af5d4eb3ea13cedc",
            "f0234706904747e5bf495189bf675dda",
            "60eb4d92e3af48b6b90d50a790245506",
            "005c9b20c65b40edbdb348643103fbc6",
            "e1a0dba8d2b3498e8305cd68aa1974a4",
            "10500c30bbbf4dddbcabaac8ac7a2d18",
            "65879f3d1c8447799bb660deb65fda00",
            "638d31ee6ec541aca542e80c8fe0830a",
            "eea31341a87048e884d9187f1089eb16",
            "437403f577684728a76099d543964f2b",
            "8f81dbc06d994f3eaa9d11dbbe6ec258",
            "b608e11e6c74456db487d18e3b231842",
            "d18fc80e28544c768165e66cefdbead4",
            "b2e65344426f43efae323e17fd4281ba",
            "a0b18a9aeda14c11ad3b955bb87a8e75",
            "d0b21e9f0594447c9390989613c00af4",
            "f370318022894eebb4e97b260515232e",
            "87d065fd7a0c43668c0fc3315ccb715b",
            "ed4d88ecd77b4114927b5cf8221d691b",
            "56cfd4219ee748aeb512cc27b9c2d9e8",
            "52f1602bfb704dd3b79ebdcf42ba0ffc",
            "5349ace0d2c14d82888168978fa495cf",
            "91f24e9cac2243bdaefd4998a0049013",
            "c17d472f8c2748b39c14bf047a0f6498",
            "48cf4f1156174755a6d71843dd989ffc",
            "fcba734d8bdb42fa9a5b6e920cfd43f6",
            "a5db5c19ee2e4a49a40e6b672700c186",
            "56836a37473a4970a6e92a0bf22b8094",
            "24489572beb34cba88502cb49e695593",
            "6e440e6200fc4596b24c64329cc22b09",
            "acbbc92e011f4fd3a0880152ce4ef68c"
          ]
        }
      },
      "execution_count": null,
      "outputs": [
        {
          "output_type": "stream",
          "name": "stderr",
          "text": [
            "/usr/local/lib/python3.11/dist-packages/huggingface_hub/utils/_auth.py:94: UserWarning: \n",
            "The secret `HF_TOKEN` does not exist in your Colab secrets.\n",
            "To authenticate with the Hugging Face Hub, create a token in your settings tab (https://huggingface.co/settings/tokens), set it as secret in your Google Colab and restart your session.\n",
            "You will be able to reuse this secret in all of your notebooks.\n",
            "Please note that authentication is recommended but still optional to access public models or datasets.\n",
            "  warnings.warn(\n"
          ]
        },
        {
          "output_type": "display_data",
          "data": {
            "text/plain": [
              "model_logits_features.keras:   0%|          | 0.00/8.74M [00:00<?, ?B/s]"
            ],
            "application/vnd.jupyter.widget-view+json": {
              "version_major": 2,
              "version_minor": 0,
              "model_id": "8221e668677d42a29783871db259575c"
            }
          },
          "metadata": {}
        },
        {
          "output_type": "display_data",
          "data": {
            "text/plain": [
              "model_logits_description.keras:   0%|          | 0.00/9.86M [00:00<?, ?B/s]"
            ],
            "application/vnd.jupyter.widget-view+json": {
              "version_major": 2,
              "version_minor": 0,
              "model_id": "437403f577684728a76099d543964f2b"
            }
          },
          "metadata": {}
        },
        {
          "output_type": "display_data",
          "data": {
            "text/plain": [
              "model_logits_photos.keras:   0%|          | 0.00/517k [00:00<?, ?B/s]"
            ],
            "application/vnd.jupyter.widget-view+json": {
              "version_major": 2,
              "version_minor": 0,
              "model_id": "52f1602bfb704dd3b79ebdcf42ba0ffc"
            }
          },
          "metadata": {}
        }
      ]
    },
    {
      "cell_type": "markdown",
      "source": [
        "## model_logits_description"
      ],
      "metadata": {
        "id": "b_C-TQ6NJ1C1"
      }
    },
    {
      "cell_type": "markdown",
      "source": [
        "### Prepare the data"
      ],
      "metadata": {
        "id": "PubY4hEUXnUD"
      }
    },
    {
      "cell_type": "code",
      "source": [
        " import fasttext.util\n",
        " fasttext.util.download_model('en', if_exists='ignore')  # English\n",
        " ft = fasttext.load_model('cc.en.300.bin')"
      ],
      "metadata": {
        "id": "MC7rmjxVkPCQ",
        "outputId": "362cef10-c904-4f7b-f23c-fbff3cb6c0fb",
        "colab": {
          "base_uri": "https://localhost:8080/"
        }
      },
      "execution_count": null,
      "outputs": [
        {
          "output_type": "stream",
          "name": "stdout",
          "text": [
            "Downloading https://dl.fbaipublicfiles.com/fasttext/vectors-crawl/cc.en.300.bin.gz\n",
            "\n"
          ]
        }
      ]
    },
    {
      "cell_type": "code",
      "source": [
        "import nltk\n",
        "from nltk.stem import PorterStemmer\n",
        "from nltk.corpus import stopwords\n",
        "nltk.download('stopwords')\n",
        "nltk.download('punkt_tab')\n",
        "porter = PorterStemmer()\n",
        "stop_words = set(stopwords.words('english'))\n",
        "from sklearn.preprocessing import normalize\n"
      ],
      "metadata": {
        "id": "z3KU45vfmuZN",
        "outputId": "e4b5b4b6-6e1c-453e-fd33-82d3017d6f78",
        "colab": {
          "base_uri": "https://localhost:8080/"
        }
      },
      "execution_count": null,
      "outputs": [
        {
          "output_type": "stream",
          "name": "stderr",
          "text": [
            "[nltk_data] Downloading package stopwords to /root/nltk_data...\n",
            "[nltk_data]   Unzipping corpora/stopwords.zip.\n",
            "[nltk_data] Downloading package punkt_tab to /root/nltk_data...\n",
            "[nltk_data]   Unzipping tokenizers/punkt_tab.zip.\n"
          ]
        }
      ]
    },
    {
      "cell_type": "code",
      "source": [
        "'''transforming the descriptions to the embeddings space , adding the oov information'''\n",
        "def transform_description(description):\n",
        "  oov_words = 0\n",
        "  description = nltk.word_tokenize(description)\n",
        "  description = [word for word in description if word not in stop_words]\n",
        "  description = [word.lower() for word in description]\n",
        "  for word in description:\n",
        "    if word not in ft.words:\n",
        "      oov_words += 1\n",
        "  description = \" \".join(description)\n",
        "  description_vector = ft.get_sentence_vector(description)\n",
        "  description_vector = normalize(description_vector.reshape(1, -1), norm='l2')[0]\n",
        "  description_vector = np.append(description_vector, oov_words)\n",
        "  return description_vector"
      ],
      "metadata": {
        "id": "p7Lu9R33maUB"
      },
      "execution_count": null,
      "outputs": []
    },
    {
      "cell_type": "code",
      "source": [
        "# Extract text and label in train set\n",
        "train_texts = train_df['description'].to_list()\n",
        "train_labels = train_df['label_int'].to_list()\n",
        "\n",
        "# Extract text and label in dev set\n",
        "dev_texts = dev_df['description'].to_list()\n",
        "dev_labels = dev_df['label_int'].to_list()\n",
        "\n",
        "# Vectorize the texts with fasttext\n",
        "train_vectors = np.array([transform_description(text) for text in train_texts])\n",
        "dev_vectors = np.array([transform_description(text) for text in dev_texts])"
      ],
      "metadata": {
        "id": "rrlwXA8Glqy5"
      },
      "execution_count": null,
      "outputs": []
    },
    {
      "cell_type": "markdown",
      "source": [
        "### Apply the model to the data"
      ],
      "metadata": {
        "id": "scfVxajMXrFl"
      }
    },
    {
      "cell_type": "code",
      "source": [
        "logits_dev_model_descriptions = model_logits_description.predict(dev_vectors)\n",
        "logits_train_model_description = model_logits_description.predict(train_vectors)"
      ],
      "metadata": {
        "colab": {
          "base_uri": "https://localhost:8080/"
        },
        "id": "xVV24MO5Bk5o",
        "outputId": "975dcd41-0598-4b5e-d980-41714d630be8"
      },
      "execution_count": null,
      "outputs": [
        {
          "output_type": "stream",
          "name": "stdout",
          "text": [
            "\u001b[1m10/10\u001b[0m \u001b[32m━━━━━━━━━━━━━━━━━━━━\u001b[0m\u001b[37m\u001b[0m \u001b[1m5s\u001b[0m 199ms/step\n",
            "\u001b[1m196/196\u001b[0m \u001b[32m━━━━━━━━━━━━━━━━━━━━\u001b[0m\u001b[37m\u001b[0m \u001b[1m2s\u001b[0m 9ms/step\n"
          ]
        }
      ]
    },
    {
      "cell_type": "code",
      "source": [
        "df_train_description = pd.DataFrame(logits_train_model_description, columns=['logit_0', 'logit_1', 'logit_2'])\n",
        "df_train_description['label'] = train_df['label_int']\n",
        "dev_df_description = pd.DataFrame(logits_dev_model_descriptions, columns=['logit_0', 'logit_1', 'logit_2'])\n",
        "dev_df_description['label'] = dev_df['label_int']\n"
      ],
      "metadata": {
        "id": "ozJhj0HSXOu8"
      },
      "execution_count": null,
      "outputs": []
    },
    {
      "cell_type": "code",
      "source": [
        "'''sanity check on the dataframe'''\n",
        "df_train_description.head(10)"
      ],
      "metadata": {
        "colab": {
          "base_uri": "https://localhost:8080/",
          "height": 363
        },
        "id": "xWnvmLJ8e-RB",
        "outputId": "0cc48920-8b56-450a-848d-70f16efb1ba2"
      },
      "execution_count": null,
      "outputs": [
        {
          "output_type": "execute_result",
          "data": {
            "text/plain": [
              "    logit_0   logit_1   logit_2  label\n",
              "0  3.058109  2.589369 -2.483755      0\n",
              "1  1.345696  3.145509 -2.701565      1\n",
              "2  0.583880  3.219156 -2.520623      1\n",
              "3  2.011387  2.479025 -2.594582      1\n",
              "4  0.641382  4.713881 -2.740190      1\n",
              "5  0.971917  3.029584 -2.572828      1\n",
              "6  3.570248  2.144744 -1.809623      0\n",
              "7  2.008799  2.841348 -2.732523      1\n",
              "8  0.561219  4.884227 -2.567963      1\n",
              "9  3.452880  2.558653 -2.165390      0"
            ],
            "text/html": [
              "\n",
              "  <div id=\"df-43cd38b5-0a02-44af-b469-168859299cd6\" class=\"colab-df-container\">\n",
              "    <div>\n",
              "<style scoped>\n",
              "    .dataframe tbody tr th:only-of-type {\n",
              "        vertical-align: middle;\n",
              "    }\n",
              "\n",
              "    .dataframe tbody tr th {\n",
              "        vertical-align: top;\n",
              "    }\n",
              "\n",
              "    .dataframe thead th {\n",
              "        text-align: right;\n",
              "    }\n",
              "</style>\n",
              "<table border=\"1\" class=\"dataframe\">\n",
              "  <thead>\n",
              "    <tr style=\"text-align: right;\">\n",
              "      <th></th>\n",
              "      <th>logit_0</th>\n",
              "      <th>logit_1</th>\n",
              "      <th>logit_2</th>\n",
              "      <th>label</th>\n",
              "    </tr>\n",
              "  </thead>\n",
              "  <tbody>\n",
              "    <tr>\n",
              "      <th>0</th>\n",
              "      <td>3.058109</td>\n",
              "      <td>2.589369</td>\n",
              "      <td>-2.483755</td>\n",
              "      <td>0</td>\n",
              "    </tr>\n",
              "    <tr>\n",
              "      <th>1</th>\n",
              "      <td>1.345696</td>\n",
              "      <td>3.145509</td>\n",
              "      <td>-2.701565</td>\n",
              "      <td>1</td>\n",
              "    </tr>\n",
              "    <tr>\n",
              "      <th>2</th>\n",
              "      <td>0.583880</td>\n",
              "      <td>3.219156</td>\n",
              "      <td>-2.520623</td>\n",
              "      <td>1</td>\n",
              "    </tr>\n",
              "    <tr>\n",
              "      <th>3</th>\n",
              "      <td>2.011387</td>\n",
              "      <td>2.479025</td>\n",
              "      <td>-2.594582</td>\n",
              "      <td>1</td>\n",
              "    </tr>\n",
              "    <tr>\n",
              "      <th>4</th>\n",
              "      <td>0.641382</td>\n",
              "      <td>4.713881</td>\n",
              "      <td>-2.740190</td>\n",
              "      <td>1</td>\n",
              "    </tr>\n",
              "    <tr>\n",
              "      <th>5</th>\n",
              "      <td>0.971917</td>\n",
              "      <td>3.029584</td>\n",
              "      <td>-2.572828</td>\n",
              "      <td>1</td>\n",
              "    </tr>\n",
              "    <tr>\n",
              "      <th>6</th>\n",
              "      <td>3.570248</td>\n",
              "      <td>2.144744</td>\n",
              "      <td>-1.809623</td>\n",
              "      <td>0</td>\n",
              "    </tr>\n",
              "    <tr>\n",
              "      <th>7</th>\n",
              "      <td>2.008799</td>\n",
              "      <td>2.841348</td>\n",
              "      <td>-2.732523</td>\n",
              "      <td>1</td>\n",
              "    </tr>\n",
              "    <tr>\n",
              "      <th>8</th>\n",
              "      <td>0.561219</td>\n",
              "      <td>4.884227</td>\n",
              "      <td>-2.567963</td>\n",
              "      <td>1</td>\n",
              "    </tr>\n",
              "    <tr>\n",
              "      <th>9</th>\n",
              "      <td>3.452880</td>\n",
              "      <td>2.558653</td>\n",
              "      <td>-2.165390</td>\n",
              "      <td>0</td>\n",
              "    </tr>\n",
              "  </tbody>\n",
              "</table>\n",
              "</div>\n",
              "    <div class=\"colab-df-buttons\">\n",
              "\n",
              "  <div class=\"colab-df-container\">\n",
              "    <button class=\"colab-df-convert\" onclick=\"convertToInteractive('df-43cd38b5-0a02-44af-b469-168859299cd6')\"\n",
              "            title=\"Convert this dataframe to an interactive table.\"\n",
              "            style=\"display:none;\">\n",
              "\n",
              "  <svg xmlns=\"http://www.w3.org/2000/svg\" height=\"24px\" viewBox=\"0 -960 960 960\">\n",
              "    <path d=\"M120-120v-720h720v720H120Zm60-500h600v-160H180v160Zm220 220h160v-160H400v160Zm0 220h160v-160H400v160ZM180-400h160v-160H180v160Zm440 0h160v-160H620v160ZM180-180h160v-160H180v160Zm440 0h160v-160H620v160Z\"/>\n",
              "  </svg>\n",
              "    </button>\n",
              "\n",
              "  <style>\n",
              "    .colab-df-container {\n",
              "      display:flex;\n",
              "      gap: 12px;\n",
              "    }\n",
              "\n",
              "    .colab-df-convert {\n",
              "      background-color: #E8F0FE;\n",
              "      border: none;\n",
              "      border-radius: 50%;\n",
              "      cursor: pointer;\n",
              "      display: none;\n",
              "      fill: #1967D2;\n",
              "      height: 32px;\n",
              "      padding: 0 0 0 0;\n",
              "      width: 32px;\n",
              "    }\n",
              "\n",
              "    .colab-df-convert:hover {\n",
              "      background-color: #E2EBFA;\n",
              "      box-shadow: 0px 1px 2px rgba(60, 64, 67, 0.3), 0px 1px 3px 1px rgba(60, 64, 67, 0.15);\n",
              "      fill: #174EA6;\n",
              "    }\n",
              "\n",
              "    .colab-df-buttons div {\n",
              "      margin-bottom: 4px;\n",
              "    }\n",
              "\n",
              "    [theme=dark] .colab-df-convert {\n",
              "      background-color: #3B4455;\n",
              "      fill: #D2E3FC;\n",
              "    }\n",
              "\n",
              "    [theme=dark] .colab-df-convert:hover {\n",
              "      background-color: #434B5C;\n",
              "      box-shadow: 0px 1px 3px 1px rgba(0, 0, 0, 0.15);\n",
              "      filter: drop-shadow(0px 1px 2px rgba(0, 0, 0, 0.3));\n",
              "      fill: #FFFFFF;\n",
              "    }\n",
              "  </style>\n",
              "\n",
              "    <script>\n",
              "      const buttonEl =\n",
              "        document.querySelector('#df-43cd38b5-0a02-44af-b469-168859299cd6 button.colab-df-convert');\n",
              "      buttonEl.style.display =\n",
              "        google.colab.kernel.accessAllowed ? 'block' : 'none';\n",
              "\n",
              "      async function convertToInteractive(key) {\n",
              "        const element = document.querySelector('#df-43cd38b5-0a02-44af-b469-168859299cd6');\n",
              "        const dataTable =\n",
              "          await google.colab.kernel.invokeFunction('convertToInteractive',\n",
              "                                                    [key], {});\n",
              "        if (!dataTable) return;\n",
              "\n",
              "        const docLinkHtml = 'Like what you see? Visit the ' +\n",
              "          '<a target=\"_blank\" href=https://colab.research.google.com/notebooks/data_table.ipynb>data table notebook</a>'\n",
              "          + ' to learn more about interactive tables.';\n",
              "        element.innerHTML = '';\n",
              "        dataTable['output_type'] = 'display_data';\n",
              "        await google.colab.output.renderOutput(dataTable, element);\n",
              "        const docLink = document.createElement('div');\n",
              "        docLink.innerHTML = docLinkHtml;\n",
              "        element.appendChild(docLink);\n",
              "      }\n",
              "    </script>\n",
              "  </div>\n",
              "\n",
              "\n",
              "    <div id=\"df-256a15a7-6fcc-4d65-8e05-56aa2a1a12a5\">\n",
              "      <button class=\"colab-df-quickchart\" onclick=\"quickchart('df-256a15a7-6fcc-4d65-8e05-56aa2a1a12a5')\"\n",
              "                title=\"Suggest charts\"\n",
              "                style=\"display:none;\">\n",
              "\n",
              "<svg xmlns=\"http://www.w3.org/2000/svg\" height=\"24px\"viewBox=\"0 0 24 24\"\n",
              "     width=\"24px\">\n",
              "    <g>\n",
              "        <path d=\"M19 3H5c-1.1 0-2 .9-2 2v14c0 1.1.9 2 2 2h14c1.1 0 2-.9 2-2V5c0-1.1-.9-2-2-2zM9 17H7v-7h2v7zm4 0h-2V7h2v10zm4 0h-2v-4h2v4z\"/>\n",
              "    </g>\n",
              "</svg>\n",
              "      </button>\n",
              "\n",
              "<style>\n",
              "  .colab-df-quickchart {\n",
              "      --bg-color: #E8F0FE;\n",
              "      --fill-color: #1967D2;\n",
              "      --hover-bg-color: #E2EBFA;\n",
              "      --hover-fill-color: #174EA6;\n",
              "      --disabled-fill-color: #AAA;\n",
              "      --disabled-bg-color: #DDD;\n",
              "  }\n",
              "\n",
              "  [theme=dark] .colab-df-quickchart {\n",
              "      --bg-color: #3B4455;\n",
              "      --fill-color: #D2E3FC;\n",
              "      --hover-bg-color: #434B5C;\n",
              "      --hover-fill-color: #FFFFFF;\n",
              "      --disabled-bg-color: #3B4455;\n",
              "      --disabled-fill-color: #666;\n",
              "  }\n",
              "\n",
              "  .colab-df-quickchart {\n",
              "    background-color: var(--bg-color);\n",
              "    border: none;\n",
              "    border-radius: 50%;\n",
              "    cursor: pointer;\n",
              "    display: none;\n",
              "    fill: var(--fill-color);\n",
              "    height: 32px;\n",
              "    padding: 0;\n",
              "    width: 32px;\n",
              "  }\n",
              "\n",
              "  .colab-df-quickchart:hover {\n",
              "    background-color: var(--hover-bg-color);\n",
              "    box-shadow: 0 1px 2px rgba(60, 64, 67, 0.3), 0 1px 3px 1px rgba(60, 64, 67, 0.15);\n",
              "    fill: var(--button-hover-fill-color);\n",
              "  }\n",
              "\n",
              "  .colab-df-quickchart-complete:disabled,\n",
              "  .colab-df-quickchart-complete:disabled:hover {\n",
              "    background-color: var(--disabled-bg-color);\n",
              "    fill: var(--disabled-fill-color);\n",
              "    box-shadow: none;\n",
              "  }\n",
              "\n",
              "  .colab-df-spinner {\n",
              "    border: 2px solid var(--fill-color);\n",
              "    border-color: transparent;\n",
              "    border-bottom-color: var(--fill-color);\n",
              "    animation:\n",
              "      spin 1s steps(1) infinite;\n",
              "  }\n",
              "\n",
              "  @keyframes spin {\n",
              "    0% {\n",
              "      border-color: transparent;\n",
              "      border-bottom-color: var(--fill-color);\n",
              "      border-left-color: var(--fill-color);\n",
              "    }\n",
              "    20% {\n",
              "      border-color: transparent;\n",
              "      border-left-color: var(--fill-color);\n",
              "      border-top-color: var(--fill-color);\n",
              "    }\n",
              "    30% {\n",
              "      border-color: transparent;\n",
              "      border-left-color: var(--fill-color);\n",
              "      border-top-color: var(--fill-color);\n",
              "      border-right-color: var(--fill-color);\n",
              "    }\n",
              "    40% {\n",
              "      border-color: transparent;\n",
              "      border-right-color: var(--fill-color);\n",
              "      border-top-color: var(--fill-color);\n",
              "    }\n",
              "    60% {\n",
              "      border-color: transparent;\n",
              "      border-right-color: var(--fill-color);\n",
              "    }\n",
              "    80% {\n",
              "      border-color: transparent;\n",
              "      border-right-color: var(--fill-color);\n",
              "      border-bottom-color: var(--fill-color);\n",
              "    }\n",
              "    90% {\n",
              "      border-color: transparent;\n",
              "      border-bottom-color: var(--fill-color);\n",
              "    }\n",
              "  }\n",
              "</style>\n",
              "\n",
              "      <script>\n",
              "        async function quickchart(key) {\n",
              "          const quickchartButtonEl =\n",
              "            document.querySelector('#' + key + ' button');\n",
              "          quickchartButtonEl.disabled = true;  // To prevent multiple clicks.\n",
              "          quickchartButtonEl.classList.add('colab-df-spinner');\n",
              "          try {\n",
              "            const charts = await google.colab.kernel.invokeFunction(\n",
              "                'suggestCharts', [key], {});\n",
              "          } catch (error) {\n",
              "            console.error('Error during call to suggestCharts:', error);\n",
              "          }\n",
              "          quickchartButtonEl.classList.remove('colab-df-spinner');\n",
              "          quickchartButtonEl.classList.add('colab-df-quickchart-complete');\n",
              "        }\n",
              "        (() => {\n",
              "          let quickchartButtonEl =\n",
              "            document.querySelector('#df-256a15a7-6fcc-4d65-8e05-56aa2a1a12a5 button');\n",
              "          quickchartButtonEl.style.display =\n",
              "            google.colab.kernel.accessAllowed ? 'block' : 'none';\n",
              "        })();\n",
              "      </script>\n",
              "    </div>\n",
              "\n",
              "    </div>\n",
              "  </div>\n"
            ],
            "application/vnd.google.colaboratory.intrinsic+json": {
              "type": "dataframe",
              "variable_name": "df_train_description",
              "summary": "{\n  \"name\": \"df_train_description\",\n  \"rows\": 6251,\n  \"fields\": [\n    {\n      \"column\": \"logit_0\",\n      \"properties\": {\n        \"dtype\": \"float32\",\n        \"num_unique_values\": 5650,\n        \"samples\": [\n          0.3787522614002228,\n          -1.610465168952942,\n          5.521539688110352\n        ],\n        \"semantic_type\": \"\",\n        \"description\": \"\"\n      }\n    },\n    {\n      \"column\": \"logit_1\",\n      \"properties\": {\n        \"dtype\": \"float32\",\n        \"num_unique_values\": 5652,\n        \"samples\": [\n          2.9691174030303955,\n          3.661219835281372,\n          3.246042251586914\n        ],\n        \"semantic_type\": \"\",\n        \"description\": \"\"\n      }\n    },\n    {\n      \"column\": \"logit_2\",\n      \"properties\": {\n        \"dtype\": \"float32\",\n        \"num_unique_values\": 5653,\n        \"samples\": [\n          -2.6974382400512695,\n          -2.623364210128784,\n          -1.883120059967041\n        ],\n        \"semantic_type\": \"\",\n        \"description\": \"\"\n      }\n    },\n    {\n      \"column\": \"label\",\n      \"properties\": {\n        \"dtype\": \"number\",\n        \"std\": 0,\n        \"min\": 0,\n        \"max\": 2,\n        \"num_unique_values\": 3,\n        \"samples\": [\n          0,\n          1,\n          2\n        ],\n        \"semantic_type\": \"\",\n        \"description\": \"\"\n      }\n    }\n  ]\n}"
            }
          },
          "metadata": {},
          "execution_count": 13
        }
      ]
    },
    {
      "cell_type": "markdown",
      "source": [
        "## model_logits_features"
      ],
      "metadata": {
        "id": "6Ow7ggzUGnw5"
      }
    },
    {
      "cell_type": "markdown",
      "source": [
        "### Prepare the data"
      ],
      "metadata": {
        "id": "bCTcoak0XwX0"
      }
    },
    {
      "cell_type": "code",
      "source": [
        "# Get the list of explicatives variables\n",
        "list_var = ['subclass_depth', 'subclasses', 'instances_of', 'instances_of_up', 'date', 'nb_lang',\n",
        "       'descr_num_nouns', 'descr_num_verbs',\n",
        "       'descr_num_adjectives', 'descr_has_location', 'descr_has_ethnic_group',\n",
        "       'descr_has_event', 'type_cat', 'category_architecture',\n",
        "       'category_biology', 'category_comics and anime', 'category_fashion',\n",
        "       'category_films', 'category_food', 'category_geography',\n",
        "       'category_literature', 'category_media', 'category_music',\n",
        "       'category_politics', 'category_sports', 'category_transportation',\n",
        "       'category_visual arts', 'category_combined',\n",
        "       'main_country_cat'\n",
        "]\n",
        "\n",
        "# Create the X and y, train and dev\n",
        "X_train = train_df[list_var]\n",
        "y_train = train_df['label_int'].values\n",
        "\n",
        "X_dev = dev_df[list_var]\n",
        "y_dev = dev_df['label_int'].values\n",
        "\n",
        "# Selecting numerical columns from X_train (all of them are int64 or float64)\n",
        "num_cols = X_train.select_dtypes(include=['int64', 'float64']).columns.tolist()\n",
        "\n",
        "# Defining pipeline: impute Nan, then scale\n",
        "num_pipeline = Pipeline([\n",
        "    ('imputer', SimpleImputer(strategy='mean')),\n",
        "    ('scaler', MinMaxScaler())\n",
        "])\n",
        "\n",
        "# Appling pipeline to numeric columns\n",
        "preprocessor = ColumnTransformer([\n",
        "    ('num', num_pipeline, num_cols)\n",
        "])\n",
        "\n",
        "\n",
        "#adjustin the data to proper format\n",
        "X_train_processed = preprocessor.fit_transform(X_train)\n",
        "X_dev_processed = preprocessor.transform(X_dev)\n",
        "\n",
        "# float cast\n",
        "X_train_processed = X_train_processed.astype('float32')\n",
        "X_dev_processed = X_dev_processed.astype('float32')\n",
        "\n",
        "# One-hot encode labels\n",
        "y_train_cat = to_categorical(y_train, num_classes=3)\n",
        "y_dev_cat = to_categorical(y_dev, num_classes=3)"
      ],
      "metadata": {
        "id": "50qeBhnYHCCn"
      },
      "execution_count": null,
      "outputs": []
    },
    {
      "cell_type": "markdown",
      "source": [
        "### Apply the model on the data"
      ],
      "metadata": {
        "id": "Z-BxJ3keXyk8"
      }
    },
    {
      "cell_type": "code",
      "source": [
        "logits_dev_model_features = model_logits_features.predict(X_dev_processed)\n",
        "logits_train_model_features = model_logits_features.predict(X_train_processed)"
      ],
      "metadata": {
        "colab": {
          "base_uri": "https://localhost:8080/"
        },
        "id": "4NruvuxHHM2g",
        "outputId": "b6073edf-f0d1-4102-93e9-bc5329f153d4"
      },
      "execution_count": null,
      "outputs": [
        {
          "output_type": "stream",
          "name": "stdout",
          "text": [
            "\u001b[1m10/10\u001b[0m \u001b[32m━━━━━━━━━━━━━━━━━━━━\u001b[0m\u001b[37m\u001b[0m \u001b[1m3s\u001b[0m 141ms/step\n",
            "\u001b[1m196/196\u001b[0m \u001b[32m━━━━━━━━━━━━━━━━━━━━\u001b[0m\u001b[37m\u001b[0m \u001b[1m1s\u001b[0m 5ms/step\n"
          ]
        }
      ]
    },
    {
      "cell_type": "markdown",
      "source": [
        "## model_logits_photos"
      ],
      "metadata": {
        "id": "og7HGSzWSAN7"
      }
    },
    {
      "cell_type": "code",
      "source": [
        "# transform the data into arrays\n",
        "train_df['image'] = train_df['image'].apply(lambda x: np.array(x))\n",
        "dev_df['image'] = dev_df['image'].apply(lambda x: np.array(x))"
      ],
      "metadata": {
        "id": "ptrm5jDYmIAq"
      },
      "execution_count": null,
      "outputs": []
    },
    {
      "cell_type": "code",
      "source": [
        "# Images normalization\n",
        "X_train_fill = np.stack(train_df['image'].to_numpy()).astype('float32') / 255.0\n",
        "y_train_fill = train_df['label']\n",
        "\n",
        "X_dev_fill = np.stack(dev_df['image'].to_numpy()).astype('float32') / 255.0\n",
        "y_dev_fill = dev_df['label']"
      ],
      "metadata": {
        "id": "oTrIPomETVMe"
      },
      "execution_count": null,
      "outputs": []
    },
    {
      "cell_type": "code",
      "source": [
        "# Apply the model\n",
        "logits_dev_model_photos = model_logits_photos.predict(X_dev_fill)\n",
        "logits_train_model_photos = model_logits_photos.predict(X_train_fill)"
      ],
      "metadata": {
        "colab": {
          "base_uri": "https://localhost:8080/"
        },
        "id": "ROUzHUc-SSDl",
        "outputId": "84ca2129-881d-4d23-8f95-9204bc5bccac"
      },
      "execution_count": null,
      "outputs": [
        {
          "output_type": "stream",
          "name": "stdout",
          "text": [
            "\u001b[1m10/10\u001b[0m \u001b[32m━━━━━━━━━━━━━━━━━━━━\u001b[0m\u001b[37m\u001b[0m \u001b[1m2s\u001b[0m 80ms/step\n",
            "\u001b[1m196/196\u001b[0m \u001b[32m━━━━━━━━━━━━━━━━━━━━\u001b[0m\u001b[37m\u001b[0m \u001b[1m1s\u001b[0m 6ms/step\n"
          ]
        }
      ]
    },
    {
      "cell_type": "markdown",
      "source": [
        "## Ensemble model\n"
      ],
      "metadata": {
        "id": "7hs6yfdjV7l-"
      }
    },
    {
      "cell_type": "markdown",
      "source": [
        "here we try to combine two classifiers, one basing on the neural network working on features extracted frrom the wikidata/wikipedia, and the second one basing on the neural network working on the embedding representation of the description of the wikipedia/wikidata entities. We combine them with a meta lerner that as training set  takes the logits for each label from both of the trained base neural networks, achieved on the train set. And the validation are the logits of these two networks acquired by predcition on the validation set."
      ],
      "metadata": {
        "id": "2aXZNt-WYBs6"
      }
    },
    {
      "cell_type": "markdown",
      "source": [
        "### Build and fit the ensemble model"
      ],
      "metadata": {
        "id": "QYrVYmLAYFmf"
      }
    },
    {
      "cell_type": "code",
      "source": [
        "# Prepare the data\n",
        "train_labels = df_train_description['label']\n",
        "dev_labels = dev_df_description['label']\n",
        "\n",
        "train_labels_nn = to_categorical(train_labels, num_classes=3)\n",
        "dev_labels_nn = to_categorical(dev_labels, num_classes=3)\n",
        "\n",
        "train_vectors = np.concatenate((logits_train_model_description, logits_train_model_features), axis=1)\n",
        "train_vectors = np.concatenate((train_vectors, logits_train_model_photos), axis=1)\n",
        "dev_vectors = np.concatenate((logits_dev_model_descriptions, logits_dev_model_features), axis=1)\n",
        "dev_vectors = np.concatenate((dev_vectors, logits_dev_model_photos), axis=1)\n",
        "\n",
        "# Build early stop and reduce lr condition\n",
        "early_stop = callbacks.EarlyStopping(monitor='val_accuracy', patience=20, restore_best_weights=True)\n",
        "reduce_lr = callbacks.ReduceLROnPlateau(monitor='val_loss', factor=0.5, patience=5)\n",
        "\n",
        "\n",
        "# Define the model\n",
        "model_Ensemble = models.Sequential([\n",
        "    layers.Input(shape=(9,)),\n",
        "    layers.Dense(16, kernel_regularizer=regularizers.l2(1e-4)),\n",
        "    LeakyReLU(alpha=0.1),\n",
        "    layers.BatchNormalization(),\n",
        "    layers.Dropout(0.3),\n",
        "\n",
        "    layers.Dense(8, kernel_regularizer=regularizers.l2(1e-4)),\n",
        "    LeakyReLU(alpha=0.1),\n",
        "    layers.BatchNormalization(),\n",
        "    layers.Dropout(0.3),\n",
        "\n",
        "    layers.Dense(3, activation='softmax')\n",
        "])\n",
        "\n",
        "# Compile and train\n",
        "model_Ensemble.compile(optimizer=Adam(learning_rate=3e-4),\n",
        "                       loss='categorical_crossentropy',\n",
        "                       metrics=['accuracy'])\n",
        "\n",
        "history = model_Ensemble.fit(\n",
        "    train_vectors, train_labels_nn,\n",
        "    validation_data=(dev_vectors, dev_labels_nn),\n",
        "    epochs=200,\n",
        "    batch_size=64,\n",
        "    callbacks=[early_stop, reduce_lr]\n",
        ")"
      ],
      "metadata": {
        "colab": {
          "base_uri": "https://localhost:8080/"
        },
        "id": "1yXcYQ7GV2mE",
        "outputId": "459d9e41-567c-4318-f3d4-fbd2e0f13f8c"
      },
      "execution_count": null,
      "outputs": [
        {
          "output_type": "stream",
          "name": "stdout",
          "text": [
            "Epoch 1/200\n"
          ]
        },
        {
          "output_type": "stream",
          "name": "stderr",
          "text": [
            "/usr/local/lib/python3.11/dist-packages/keras/src/layers/activations/leaky_relu.py:41: UserWarning: Argument `alpha` is deprecated. Use `negative_slope` instead.\n",
            "  warnings.warn(\n"
          ]
        },
        {
          "output_type": "stream",
          "name": "stdout",
          "text": [
            "\u001b[1m98/98\u001b[0m \u001b[32m━━━━━━━━━━━━━━━━━━━━\u001b[0m\u001b[37m\u001b[0m \u001b[1m14s\u001b[0m 65ms/step - accuracy: 0.4623 - loss: 1.0945 - val_accuracy: 0.5667 - val_loss: 0.9863 - learning_rate: 3.0000e-04\n",
            "Epoch 2/200\n",
            "\u001b[1m98/98\u001b[0m \u001b[32m━━━━━━━━━━━━━━━━━━━━\u001b[0m\u001b[37m\u001b[0m \u001b[1m0s\u001b[0m 3ms/step - accuracy: 0.6122 - loss: 0.8487 - val_accuracy: 0.6133 - val_loss: 0.8819 - learning_rate: 3.0000e-04\n",
            "Epoch 3/200\n",
            "\u001b[1m98/98\u001b[0m \u001b[32m━━━━━━━━━━━━━━━━━━━━\u001b[0m\u001b[37m\u001b[0m \u001b[1m1s\u001b[0m 3ms/step - accuracy: 0.7126 - loss: 0.6919 - val_accuracy: 0.6333 - val_loss: 0.8509 - learning_rate: 3.0000e-04\n",
            "Epoch 4/200\n",
            "\u001b[1m98/98\u001b[0m \u001b[32m━━━━━━━━━━━━━━━━━━━━\u001b[0m\u001b[37m\u001b[0m \u001b[1m1s\u001b[0m 3ms/step - accuracy: 0.7542 - loss: 0.6096 - val_accuracy: 0.6433 - val_loss: 0.8451 - learning_rate: 3.0000e-04\n",
            "Epoch 5/200\n",
            "\u001b[1m98/98\u001b[0m \u001b[32m━━━━━━━━━━━━━━━━━━━━\u001b[0m\u001b[37m\u001b[0m \u001b[1m0s\u001b[0m 4ms/step - accuracy: 0.8039 - loss: 0.5203 - val_accuracy: 0.6400 - val_loss: 0.8473 - learning_rate: 3.0000e-04\n",
            "Epoch 6/200\n",
            "\u001b[1m98/98\u001b[0m \u001b[32m━━━━━━━━━━━━━━━━━━━━\u001b[0m\u001b[37m\u001b[0m \u001b[1m0s\u001b[0m 3ms/step - accuracy: 0.8298 - loss: 0.4878 - val_accuracy: 0.6600 - val_loss: 0.8529 - learning_rate: 3.0000e-04\n",
            "Epoch 7/200\n",
            "\u001b[1m98/98\u001b[0m \u001b[32m━━━━━━━━━━━━━━━━━━━━\u001b[0m\u001b[37m\u001b[0m \u001b[1m1s\u001b[0m 3ms/step - accuracy: 0.8483 - loss: 0.4363 - val_accuracy: 0.6633 - val_loss: 0.8577 - learning_rate: 3.0000e-04\n",
            "Epoch 8/200\n",
            "\u001b[1m98/98\u001b[0m \u001b[32m━━━━━━━━━━━━━━━━━━━━\u001b[0m\u001b[37m\u001b[0m \u001b[1m1s\u001b[0m 3ms/step - accuracy: 0.8579 - loss: 0.4190 - val_accuracy: 0.6700 - val_loss: 0.8633 - learning_rate: 3.0000e-04\n",
            "Epoch 9/200\n",
            "\u001b[1m98/98\u001b[0m \u001b[32m━━━━━━━━━━━━━━━━━━━━\u001b[0m\u001b[37m\u001b[0m \u001b[1m1s\u001b[0m 3ms/step - accuracy: 0.8707 - loss: 0.3927 - val_accuracy: 0.6800 - val_loss: 0.8803 - learning_rate: 3.0000e-04\n",
            "Epoch 10/200\n",
            "\u001b[1m98/98\u001b[0m \u001b[32m━━━━━━━━━━━━━━━━━━━━\u001b[0m\u001b[37m\u001b[0m \u001b[1m1s\u001b[0m 4ms/step - accuracy: 0.8742 - loss: 0.3781 - val_accuracy: 0.6833 - val_loss: 0.8784 - learning_rate: 1.5000e-04\n",
            "Epoch 11/200\n",
            "\u001b[1m98/98\u001b[0m \u001b[32m━━━━━━━━━━━━━━━━━━━━\u001b[0m\u001b[37m\u001b[0m \u001b[1m0s\u001b[0m 3ms/step - accuracy: 0.8834 - loss: 0.3570 - val_accuracy: 0.6867 - val_loss: 0.8818 - learning_rate: 1.5000e-04\n",
            "Epoch 12/200\n",
            "\u001b[1m98/98\u001b[0m \u001b[32m━━━━━━━━━━━━━━━━━━━━\u001b[0m\u001b[37m\u001b[0m \u001b[1m0s\u001b[0m 3ms/step - accuracy: 0.8848 - loss: 0.3403 - val_accuracy: 0.6900 - val_loss: 0.8902 - learning_rate: 1.5000e-04\n",
            "Epoch 13/200\n",
            "\u001b[1m98/98\u001b[0m \u001b[32m━━━━━━━━━━━━━━━━━━━━\u001b[0m\u001b[37m\u001b[0m \u001b[1m1s\u001b[0m 4ms/step - accuracy: 0.8917 - loss: 0.3410 - val_accuracy: 0.6867 - val_loss: 0.8967 - learning_rate: 1.5000e-04\n",
            "Epoch 14/200\n",
            "\u001b[1m98/98\u001b[0m \u001b[32m━━━━━━━━━━━━━━━━━━━━\u001b[0m\u001b[37m\u001b[0m \u001b[1m1s\u001b[0m 5ms/step - accuracy: 0.8905 - loss: 0.3296 - val_accuracy: 0.6900 - val_loss: 0.9029 - learning_rate: 1.5000e-04\n",
            "Epoch 15/200\n",
            "\u001b[1m98/98\u001b[0m \u001b[32m━━━━━━━━━━━━━━━━━━━━\u001b[0m\u001b[37m\u001b[0m \u001b[1m0s\u001b[0m 5ms/step - accuracy: 0.8964 - loss: 0.3178 - val_accuracy: 0.6900 - val_loss: 0.9062 - learning_rate: 7.5000e-05\n",
            "Epoch 16/200\n",
            "\u001b[1m98/98\u001b[0m \u001b[32m━━━━━━━━━━━━━━━━━━━━\u001b[0m\u001b[37m\u001b[0m \u001b[1m1s\u001b[0m 5ms/step - accuracy: 0.9045 - loss: 0.3044 - val_accuracy: 0.6900 - val_loss: 0.9106 - learning_rate: 7.5000e-05\n",
            "Epoch 17/200\n",
            "\u001b[1m98/98\u001b[0m \u001b[32m━━━━━━━━━━━━━━━━━━━━\u001b[0m\u001b[37m\u001b[0m \u001b[1m0s\u001b[0m 4ms/step - accuracy: 0.9021 - loss: 0.3135 - val_accuracy: 0.6900 - val_loss: 0.9134 - learning_rate: 7.5000e-05\n",
            "Epoch 18/200\n",
            "\u001b[1m98/98\u001b[0m \u001b[32m━━━━━━━━━━━━━━━━━━━━\u001b[0m\u001b[37m\u001b[0m \u001b[1m1s\u001b[0m 3ms/step - accuracy: 0.9005 - loss: 0.3087 - val_accuracy: 0.6933 - val_loss: 0.9172 - learning_rate: 7.5000e-05\n",
            "Epoch 19/200\n",
            "\u001b[1m98/98\u001b[0m \u001b[32m━━━━━━━━━━━━━━━━━━━━\u001b[0m\u001b[37m\u001b[0m \u001b[1m1s\u001b[0m 4ms/step - accuracy: 0.8952 - loss: 0.3074 - val_accuracy: 0.6933 - val_loss: 0.9229 - learning_rate: 7.5000e-05\n",
            "Epoch 20/200\n",
            "\u001b[1m98/98\u001b[0m \u001b[32m━━━━━━━━━━━━━━━━━━━━\u001b[0m\u001b[37m\u001b[0m \u001b[1m0s\u001b[0m 3ms/step - accuracy: 0.8983 - loss: 0.3074 - val_accuracy: 0.6933 - val_loss: 0.9244 - learning_rate: 3.7500e-05\n",
            "Epoch 21/200\n",
            "\u001b[1m98/98\u001b[0m \u001b[32m━━━━━━━━━━━━━━━━━━━━\u001b[0m\u001b[37m\u001b[0m \u001b[1m0s\u001b[0m 3ms/step - accuracy: 0.9038 - loss: 0.2993 - val_accuracy: 0.6933 - val_loss: 0.9263 - learning_rate: 3.7500e-05\n",
            "Epoch 22/200\n",
            "\u001b[1m98/98\u001b[0m \u001b[32m━━━━━━━━━━━━━━━━━━━━\u001b[0m\u001b[37m\u001b[0m \u001b[1m1s\u001b[0m 3ms/step - accuracy: 0.9041 - loss: 0.3008 - val_accuracy: 0.6933 - val_loss: 0.9281 - learning_rate: 3.7500e-05\n",
            "Epoch 23/200\n",
            "\u001b[1m98/98\u001b[0m \u001b[32m━━━━━━━━━━━━━━━━━━━━\u001b[0m\u001b[37m\u001b[0m \u001b[1m1s\u001b[0m 3ms/step - accuracy: 0.9076 - loss: 0.2899 - val_accuracy: 0.6933 - val_loss: 0.9325 - learning_rate: 3.7500e-05\n",
            "Epoch 24/200\n",
            "\u001b[1m98/98\u001b[0m \u001b[32m━━━━━━━━━━━━━━━━━━━━\u001b[0m\u001b[37m\u001b[0m \u001b[1m0s\u001b[0m 3ms/step - accuracy: 0.8983 - loss: 0.2994 - val_accuracy: 0.6900 - val_loss: 0.9340 - learning_rate: 3.7500e-05\n",
            "Epoch 25/200\n",
            "\u001b[1m98/98\u001b[0m \u001b[32m━━━━━━━━━━━━━━━━━━━━\u001b[0m\u001b[37m\u001b[0m \u001b[1m1s\u001b[0m 3ms/step - accuracy: 0.9094 - loss: 0.2886 - val_accuracy: 0.6900 - val_loss: 0.9353 - learning_rate: 1.8750e-05\n",
            "Epoch 26/200\n",
            "\u001b[1m98/98\u001b[0m \u001b[32m━━━━━━━━━━━━━━━━━━━━\u001b[0m\u001b[37m\u001b[0m \u001b[1m1s\u001b[0m 3ms/step - accuracy: 0.9075 - loss: 0.2902 - val_accuracy: 0.6900 - val_loss: 0.9368 - learning_rate: 1.8750e-05\n",
            "Epoch 27/200\n",
            "\u001b[1m98/98\u001b[0m \u001b[32m━━━━━━━━━━━━━━━━━━━━\u001b[0m\u001b[37m\u001b[0m \u001b[1m0s\u001b[0m 3ms/step - accuracy: 0.9051 - loss: 0.2883 - val_accuracy: 0.6900 - val_loss: 0.9393 - learning_rate: 1.8750e-05\n",
            "Epoch 28/200\n",
            "\u001b[1m98/98\u001b[0m \u001b[32m━━━━━━━━━━━━━━━━━━━━\u001b[0m\u001b[37m\u001b[0m \u001b[1m1s\u001b[0m 3ms/step - accuracy: 0.9062 - loss: 0.2927 - val_accuracy: 0.6933 - val_loss: 0.9385 - learning_rate: 1.8750e-05\n",
            "Epoch 29/200\n",
            "\u001b[1m98/98\u001b[0m \u001b[32m━━━━━━━━━━━━━━━━━━━━\u001b[0m\u001b[37m\u001b[0m \u001b[1m0s\u001b[0m 3ms/step - accuracy: 0.9056 - loss: 0.2843 - val_accuracy: 0.6967 - val_loss: 0.9413 - learning_rate: 1.8750e-05\n",
            "Epoch 30/200\n",
            "\u001b[1m98/98\u001b[0m \u001b[32m━━━━━━━━━━━━━━━━━━━━\u001b[0m\u001b[37m\u001b[0m \u001b[1m0s\u001b[0m 3ms/step - accuracy: 0.9065 - loss: 0.2918 - val_accuracy: 0.6967 - val_loss: 0.9438 - learning_rate: 9.3750e-06\n",
            "Epoch 31/200\n",
            "\u001b[1m98/98\u001b[0m \u001b[32m━━━━━━━━━━━━━━━━━━━━\u001b[0m\u001b[37m\u001b[0m \u001b[1m1s\u001b[0m 3ms/step - accuracy: 0.9039 - loss: 0.2854 - val_accuracy: 0.6967 - val_loss: 0.9409 - learning_rate: 9.3750e-06\n",
            "Epoch 32/200\n",
            "\u001b[1m98/98\u001b[0m \u001b[32m━━━━━━━━━━━━━━━━━━━━\u001b[0m\u001b[37m\u001b[0m \u001b[1m0s\u001b[0m 3ms/step - accuracy: 0.9032 - loss: 0.2938 - val_accuracy: 0.6967 - val_loss: 0.9424 - learning_rate: 9.3750e-06\n",
            "Epoch 33/200\n",
            "\u001b[1m98/98\u001b[0m \u001b[32m━━━━━━━━━━━━━━━━━━━━\u001b[0m\u001b[37m\u001b[0m \u001b[1m1s\u001b[0m 3ms/step - accuracy: 0.9053 - loss: 0.2876 - val_accuracy: 0.6967 - val_loss: 0.9422 - learning_rate: 9.3750e-06\n",
            "Epoch 34/200\n",
            "\u001b[1m98/98\u001b[0m \u001b[32m━━━━━━━━━━━━━━━━━━━━\u001b[0m\u001b[37m\u001b[0m \u001b[1m1s\u001b[0m 3ms/step - accuracy: 0.9115 - loss: 0.2860 - val_accuracy: 0.6967 - val_loss: 0.9434 - learning_rate: 9.3750e-06\n",
            "Epoch 35/200\n",
            "\u001b[1m98/98\u001b[0m \u001b[32m━━━━━━━━━━━━━━━━━━━━\u001b[0m\u001b[37m\u001b[0m \u001b[1m1s\u001b[0m 3ms/step - accuracy: 0.9074 - loss: 0.2828 - val_accuracy: 0.6967 - val_loss: 0.9450 - learning_rate: 4.6875e-06\n",
            "Epoch 36/200\n",
            "\u001b[1m98/98\u001b[0m \u001b[32m━━━━━━━━━━━━━━━━━━━━\u001b[0m\u001b[37m\u001b[0m \u001b[1m0s\u001b[0m 3ms/step - accuracy: 0.9061 - loss: 0.2915 - val_accuracy: 0.6967 - val_loss: 0.9456 - learning_rate: 4.6875e-06\n",
            "Epoch 37/200\n",
            "\u001b[1m98/98\u001b[0m \u001b[32m━━━━━━━━━━━━━━━━━━━━\u001b[0m\u001b[37m\u001b[0m \u001b[1m0s\u001b[0m 4ms/step - accuracy: 0.9017 - loss: 0.2944 - val_accuracy: 0.6967 - val_loss: 0.9444 - learning_rate: 4.6875e-06\n",
            "Epoch 38/200\n",
            "\u001b[1m98/98\u001b[0m \u001b[32m━━━━━━━━━━━━━━━━━━━━\u001b[0m\u001b[37m\u001b[0m \u001b[1m1s\u001b[0m 5ms/step - accuracy: 0.9043 - loss: 0.2777 - val_accuracy: 0.6967 - val_loss: 0.9446 - learning_rate: 4.6875e-06\n",
            "Epoch 39/200\n",
            "\u001b[1m98/98\u001b[0m \u001b[32m━━━━━━━━━━━━━━━━━━━━\u001b[0m\u001b[37m\u001b[0m \u001b[1m1s\u001b[0m 5ms/step - accuracy: 0.9086 - loss: 0.2871 - val_accuracy: 0.6967 - val_loss: 0.9454 - learning_rate: 4.6875e-06\n",
            "Epoch 40/200\n",
            "\u001b[1m98/98\u001b[0m \u001b[32m━━━━━━━━━━━━━━━━━━━━\u001b[0m\u001b[37m\u001b[0m \u001b[1m1s\u001b[0m 4ms/step - accuracy: 0.9021 - loss: 0.2989 - val_accuracy: 0.6967 - val_loss: 0.9462 - learning_rate: 2.3438e-06\n",
            "Epoch 41/200\n",
            "\u001b[1m98/98\u001b[0m \u001b[32m━━━━━━━━━━━━━━━━━━━━\u001b[0m\u001b[37m\u001b[0m \u001b[1m0s\u001b[0m 3ms/step - accuracy: 0.8936 - loss: 0.3099 - val_accuracy: 0.6967 - val_loss: 0.9480 - learning_rate: 2.3438e-06\n",
            "Epoch 42/200\n",
            "\u001b[1m98/98\u001b[0m \u001b[32m━━━━━━━━━━━━━━━━━━━━\u001b[0m\u001b[37m\u001b[0m \u001b[1m1s\u001b[0m 3ms/step - accuracy: 0.9003 - loss: 0.2905 - val_accuracy: 0.6967 - val_loss: 0.9444 - learning_rate: 2.3438e-06\n",
            "Epoch 43/200\n",
            "\u001b[1m98/98\u001b[0m \u001b[32m━━━━━━━━━━━━━━━━━━━━\u001b[0m\u001b[37m\u001b[0m \u001b[1m1s\u001b[0m 4ms/step - accuracy: 0.9076 - loss: 0.2850 - val_accuracy: 0.6967 - val_loss: 0.9458 - learning_rate: 2.3438e-06\n",
            "Epoch 44/200\n",
            "\u001b[1m98/98\u001b[0m \u001b[32m━━━━━━━━━━━━━━━━━━━━\u001b[0m\u001b[37m\u001b[0m \u001b[1m0s\u001b[0m 3ms/step - accuracy: 0.9130 - loss: 0.2747 - val_accuracy: 0.6967 - val_loss: 0.9466 - learning_rate: 2.3438e-06\n",
            "Epoch 45/200\n",
            "\u001b[1m98/98\u001b[0m \u001b[32m━━━━━━━━━━━━━━━━━━━━\u001b[0m\u001b[37m\u001b[0m \u001b[1m1s\u001b[0m 4ms/step - accuracy: 0.9069 - loss: 0.2919 - val_accuracy: 0.6967 - val_loss: 0.9496 - learning_rate: 1.1719e-06\n",
            "Epoch 46/200\n",
            "\u001b[1m98/98\u001b[0m \u001b[32m━━━━━━━━━━━━━━━━━━━━\u001b[0m\u001b[37m\u001b[0m \u001b[1m1s\u001b[0m 3ms/step - accuracy: 0.9029 - loss: 0.2984 - val_accuracy: 0.6967 - val_loss: 0.9475 - learning_rate: 1.1719e-06\n",
            "Epoch 47/200\n",
            "\u001b[1m98/98\u001b[0m \u001b[32m━━━━━━━━━━━━━━━━━━━━\u001b[0m\u001b[37m\u001b[0m \u001b[1m0s\u001b[0m 4ms/step - accuracy: 0.9131 - loss: 0.2837 - val_accuracy: 0.6967 - val_loss: 0.9503 - learning_rate: 1.1719e-06\n",
            "Epoch 48/200\n",
            "\u001b[1m98/98\u001b[0m \u001b[32m━━━━━━━━━━━━━━━━━━━━\u001b[0m\u001b[37m\u001b[0m \u001b[1m0s\u001b[0m 3ms/step - accuracy: 0.9102 - loss: 0.2844 - val_accuracy: 0.6967 - val_loss: 0.9498 - learning_rate: 1.1719e-06\n",
            "Epoch 49/200\n",
            "\u001b[1m98/98\u001b[0m \u001b[32m━━━━━━━━━━━━━━━━━━━━\u001b[0m\u001b[37m\u001b[0m \u001b[1m1s\u001b[0m 4ms/step - accuracy: 0.9105 - loss: 0.2803 - val_accuracy: 0.6967 - val_loss: 0.9488 - learning_rate: 1.1719e-06\n"
          ]
        }
      ]
    },
    {
      "cell_type": "markdown",
      "source": [
        "### Evaluation\n",
        "\n",
        "Seems overfitted to the training set, with discreancy of the accuracies between the training and the validation set."
      ],
      "metadata": {
        "id": "uD3giYW5i1BN"
      }
    },
    {
      "cell_type": "code",
      "source": [
        "from sklearn.metrics import accuracy_score, precision_recall_fscore_support\n",
        "\n",
        "# Prepare the data for evaluation\n",
        "y_train_pred = model_Ensemble.predict(train_vectors)\n",
        "y_train_pred_classes = np.argmax(y_train_pred, axis=1)\n",
        "y_train_true_classes = np.argmax(train_labels_nn, axis=1)\n",
        "\n",
        "y_dev_pred = model_Ensemble.predict(dev_vectors)\n",
        "y_dev_pred_classes = np.argmax(y_dev_pred, axis=1)\n",
        "y_dev_true_classes = np.argmax(dev_labels_nn, axis=1)\n",
        "\n",
        "# Compute evaluations\n",
        "train_accuracy = accuracy_score(y_train_true_classes, y_train_pred_classes)\n",
        "dev_accuracy = accuracy_score(y_dev_true_classes, y_dev_pred_classes)\n",
        "train_precision, train_recall, train_f1, _ = precision_recall_fscore_support(y_train_true_classes, y_train_pred_classes, average='weighted')\n",
        "dev_precision, dev_recall, dev_f1, _ = precision_recall_fscore_support(y_dev_true_classes, y_dev_pred_classes, average='weighted')\n",
        "\n",
        "# Print\n",
        "print(f\"Train accuracy : {train_accuracy * 100:.2f}%\")\n",
        "print(f\"Train precision: {train_precision * 100:.2f}%\")\n",
        "print(f\"Train recall   : {train_recall * 100:.2f}%\")\n",
        "print(f\"Train F1-score : {train_f1 * 100:.2f}%\")\n",
        "print(f\"Dev accuracy   : {dev_accuracy * 100:.2f}%\")\n",
        "print(f\"Dev precision  : {dev_precision * 100:.2f}%\")\n",
        "print(f\"Dev recall     : {dev_recall * 100:.2f}%\")\n",
        "print(f\"Dev F1-score   : {dev_f1 * 100:.2f}%\")"
      ],
      "metadata": {
        "colab": {
          "base_uri": "https://localhost:8080/"
        },
        "id": "2DZhgYppiJGE",
        "outputId": "3abdb140-cf49-410d-9393-e0344956e487"
      },
      "execution_count": null,
      "outputs": [
        {
          "output_type": "stream",
          "name": "stdout",
          "text": [
            "\u001b[1m196/196\u001b[0m \u001b[32m━━━━━━━━━━━━━━━━━━━━\u001b[0m\u001b[37m\u001b[0m \u001b[1m1s\u001b[0m 3ms/step\n",
            "\u001b[1m10/10\u001b[0m \u001b[32m━━━━━━━━━━━━━━━━━━━━\u001b[0m\u001b[37m\u001b[0m \u001b[1m0s\u001b[0m 31ms/step\n",
            "Train accuracy : 94.13%\n",
            "Train precision: 94.11%\n",
            "Train recall   : 94.13%\n",
            "Train F1-score : 94.09%\n",
            "Dev accuracy   : 69.67%\n",
            "Dev precision  : 71.26%\n",
            "Dev recall     : 69.67%\n",
            "Dev F1-score   : 69.52%\n"
          ]
        }
      ]
    },
    {
      "cell_type": "markdown",
      "source": [
        "### Try XGBoost, Logistic Regression and SVM"
      ],
      "metadata": {
        "id": "IZMaZOiLk3hh"
      }
    },
    {
      "cell_type": "code",
      "source": [
        "import xgboost as xgb\n",
        "\n",
        "model_xgb = xgb.XGBClassifier(n_estimators=200, learning_rate=0.05)\n",
        "\n",
        "# Training\n",
        "model_xgb.fit(train_vectors, train_labels)\n",
        "\n",
        "# Prediction\n",
        "y_pred = model_xgb.predict(dev_vectors)\n",
        "\n",
        "# Evaluation\n",
        "acc = accuracy_score(dev_labels, y_pred)\n",
        "precision, recall, f1, _ = precision_recall_fscore_support(dev_labels, y_pred, average='weighted')\n",
        "\n",
        "# Print\n",
        "print(f\"Accuracy XGBoost : {acc:.4f}\")\n",
        "print(f\"Precision        : {precision:.4f}\")\n",
        "print(f\"Recall           : {recall:.4f}\")\n",
        "print(f\"F1-score         : {f1:.4f}\")\n"
      ],
      "metadata": {
        "id": "V7_m2xBdlLLS",
        "outputId": "d61abc0a-2d35-4fb0-d08e-e308009d884e",
        "colab": {
          "base_uri": "https://localhost:8080/"
        }
      },
      "execution_count": null,
      "outputs": [
        {
          "output_type": "stream",
          "name": "stdout",
          "text": [
            "Accuracy XGBoost : 0.6500\n",
            "Precision        : 0.6692\n",
            "Recall           : 0.6500\n",
            "F1-score         : 0.6519\n"
          ]
        }
      ]
    },
    {
      "cell_type": "code",
      "source": [
        "from sklearn.linear_model import LogisticRegression\n",
        "\n",
        "# Training\n",
        "model_lr = LogisticRegression(max_iter=500, multi_class='multinomial', solver='lbfgs')\n",
        "model_lr.fit(train_vectors, train_labels)\n",
        "\n",
        "# Prediction\n",
        "y_pred = model_lr.predict(dev_vectors)\n",
        "\n",
        "# Evaluation\n",
        "acc = accuracy_score(dev_labels, y_pred)\n",
        "precision, recall, f1, _ = precision_recall_fscore_support(dev_labels, y_pred, average='weighted')\n",
        "\n",
        "# Print\n",
        "print(f\"Accuracy Logistic Regression : {acc:.4f}\")\n",
        "print(f\"Precision                   : {precision:.4f}\")\n",
        "print(f\"Recall                      : {recall:.4f}\")\n",
        "print(f\"F1-score                    : {f1:.4f}\")\n"
      ],
      "metadata": {
        "id": "wIj_yjjUlLOn",
        "outputId": "28266580-426f-464f-8698-49aac1c59241",
        "colab": {
          "base_uri": "https://localhost:8080/"
        }
      },
      "execution_count": null,
      "outputs": [
        {
          "output_type": "stream",
          "name": "stdout",
          "text": [
            "Accuracy Logistic Regression : 0.6333\n",
            "Precision                   : 0.6563\n",
            "Recall                      : 0.6333\n",
            "F1-score                    : 0.6380\n"
          ]
        }
      ]
    },
    {
      "cell_type": "code",
      "source": [
        "from sklearn.svm import SVC\n",
        "\n",
        "# Training\n",
        "model_svm = SVC(C=1, kernel='rbf', probability=True)\n",
        "model_svm.fit(train_vectors, train_labels)\n",
        "\n",
        "# Prediction\n",
        "y_pred = model_svm.predict(dev_vectors)\n",
        "\n",
        "# Evaluation\n",
        "acc = accuracy_score(dev_labels, y_pred)\n",
        "precision, recall, f1, _ = precision_recall_fscore_support(dev_labels, y_pred, average='weighted')\n",
        "\n",
        "# Print\n",
        "print(f\"Accuracy SVM  : {acc:.4f}\")\n",
        "print(f\"Precision     : {precision:.4f}\")\n",
        "print(f\"Recall        : {recall:.4f}\")\n",
        "print(f\"F1-score      : {f1:.4f}\")"
      ],
      "metadata": {
        "id": "gnYFUYzUk5nY",
        "outputId": "8c4b0f74-5abd-477e-a49d-5e6f1fb85c97",
        "colab": {
          "base_uri": "https://localhost:8080/"
        }
      },
      "execution_count": null,
      "outputs": [
        {
          "output_type": "stream",
          "name": "stdout",
          "text": [
            "Accuracy SVM  : 0.6467\n",
            "Precision     : 0.6682\n",
            "Recall        : 0.6467\n",
            "F1-score      : 0.6508\n"
          ]
        }
      ]
    },
    {
      "cell_type": "markdown",
      "source": [
        "### Exportation of the ensemble model"
      ],
      "metadata": {
        "id": "9NsWxJ7JmGPX"
      }
    },
    {
      "cell_type": "code",
      "source": [
        "from huggingface_hub import login, create_repo, upload_folder\n",
        "import os\n",
        "import tensorflow as tf\n",
        "from huggingface_hub import hf_hub_download\n",
        "\n",
        "login(token=\"\")\n",
        "\n",
        "repo_name = \"MNLP-HW1\"\n",
        "repo_id = f\"tgarnier067/{repo_name}\"\n",
        "create_repo(repo_id, exist_ok=True, private=False)\n",
        "model_folder = \"models\"\n",
        "os.makedirs(model_folder, exist_ok=True)\n",
        "\n",
        "models = {\n",
        "    \"model_ensemble\": model_Ensemble\n",
        "}\n",
        "\n",
        "# Save the models in separate files\n",
        "for model_name, model in models.items():\n",
        "    model_file_path = os.path.join(model_folder, f\"{model_name}.keras\")\n",
        "    model.save(model_file_path)\n",
        "\n",
        "readme_content = \"\"\"# MNLP HW1 Models\n",
        "This repository contains multiple models trained for different tasks. Each model is saved as a separate `.keras` file.\n",
        "\"\"\"\n",
        "\n",
        "with open(os.path.join(model_folder, \"README.md\"), \"w\") as f:\n",
        "    f.write(readme_content)\n",
        "\n",
        "upload_folder(\n",
        "    repo_id=repo_id,\n",
        "    folder_path=model_folder,\n",
        "    path_in_repo=\"\"\n",
        ")\n",
        "\n",
        "print(f\"All models have been successfully uploaded to Hugging Face in the repo {repo_id}!\")"
      ],
      "metadata": {
        "id": "G1J9Ds4DmJSP",
        "outputId": "5596a6e7-df99-4ef0-fe12-ba8eaea15f2c",
        "colab": {
          "base_uri": "https://localhost:8080/",
          "height": 391
        }
      },
      "execution_count": null,
      "outputs": [
        {
          "output_type": "error",
          "ename": "LocalTokenNotFoundError",
          "evalue": "Token is required (`token=True`), but no token found. You need to provide a token or be logged in to Hugging Face with `huggingface-cli login` or `huggingface_hub.login`. See https://huggingface.co/settings/tokens.",
          "traceback": [
            "\u001b[0;31m---------------------------------------------------------------------------\u001b[0m",
            "\u001b[0;31mLocalTokenNotFoundError\u001b[0m                   Traceback (most recent call last)",
            "\u001b[0;32m<ipython-input-24-29c535e5c40d>\u001b[0m in \u001b[0;36m<cell line: 0>\u001b[0;34m()\u001b[0m\n\u001b[1;32m      4\u001b[0m \u001b[0;32mfrom\u001b[0m \u001b[0mhuggingface_hub\u001b[0m \u001b[0;32mimport\u001b[0m \u001b[0mhf_hub_download\u001b[0m\u001b[0;34m\u001b[0m\u001b[0;34m\u001b[0m\u001b[0m\n\u001b[1;32m      5\u001b[0m \u001b[0;34m\u001b[0m\u001b[0m\n\u001b[0;32m----> 6\u001b[0;31m \u001b[0mlogin\u001b[0m\u001b[0;34m(\u001b[0m\u001b[0mtoken\u001b[0m\u001b[0;34m=\u001b[0m\u001b[0;34m\"\"\u001b[0m\u001b[0;34m)\u001b[0m\u001b[0;34m\u001b[0m\u001b[0;34m\u001b[0m\u001b[0m\n\u001b[0m\u001b[1;32m      7\u001b[0m \u001b[0;34m\u001b[0m\u001b[0m\n\u001b[1;32m      8\u001b[0m \u001b[0mrepo_name\u001b[0m \u001b[0;34m=\u001b[0m \u001b[0;34m\"MNLP-HW1\"\u001b[0m\u001b[0;34m\u001b[0m\u001b[0;34m\u001b[0m\u001b[0m\n",
            "\u001b[0;32m/usr/local/lib/python3.11/dist-packages/huggingface_hub/utils/_deprecation.py\u001b[0m in \u001b[0;36minner_f\u001b[0;34m(*args, **kwargs)\u001b[0m\n\u001b[1;32m     99\u001b[0m                     \u001b[0mmessage\u001b[0m \u001b[0;34m+=\u001b[0m \u001b[0;34m\"\\n\\n\"\u001b[0m \u001b[0;34m+\u001b[0m \u001b[0mcustom_message\u001b[0m\u001b[0;34m\u001b[0m\u001b[0;34m\u001b[0m\u001b[0m\n\u001b[1;32m    100\u001b[0m                 \u001b[0mwarnings\u001b[0m\u001b[0;34m.\u001b[0m\u001b[0mwarn\u001b[0m\u001b[0;34m(\u001b[0m\u001b[0mmessage\u001b[0m\u001b[0;34m,\u001b[0m \u001b[0mFutureWarning\u001b[0m\u001b[0;34m)\u001b[0m\u001b[0;34m\u001b[0m\u001b[0;34m\u001b[0m\u001b[0m\n\u001b[0;32m--> 101\u001b[0;31m             \u001b[0;32mreturn\u001b[0m \u001b[0mf\u001b[0m\u001b[0;34m(\u001b[0m\u001b[0;34m*\u001b[0m\u001b[0margs\u001b[0m\u001b[0;34m,\u001b[0m \u001b[0;34m**\u001b[0m\u001b[0mkwargs\u001b[0m\u001b[0;34m)\u001b[0m\u001b[0;34m\u001b[0m\u001b[0;34m\u001b[0m\u001b[0m\n\u001b[0m\u001b[1;32m    102\u001b[0m \u001b[0;34m\u001b[0m\u001b[0m\n\u001b[1;32m    103\u001b[0m         \u001b[0;32mreturn\u001b[0m \u001b[0minner_f\u001b[0m\u001b[0;34m\u001b[0m\u001b[0;34m\u001b[0m\u001b[0m\n",
            "\u001b[0;32m/usr/local/lib/python3.11/dist-packages/huggingface_hub/utils/_deprecation.py\u001b[0m in \u001b[0;36minner_f\u001b[0;34m(*args, **kwargs)\u001b[0m\n\u001b[1;32m     29\u001b[0m             \u001b[0mextra_args\u001b[0m \u001b[0;34m=\u001b[0m \u001b[0mlen\u001b[0m\u001b[0;34m(\u001b[0m\u001b[0margs\u001b[0m\u001b[0;34m)\u001b[0m \u001b[0;34m-\u001b[0m \u001b[0mlen\u001b[0m\u001b[0;34m(\u001b[0m\u001b[0mall_args\u001b[0m\u001b[0;34m)\u001b[0m\u001b[0;34m\u001b[0m\u001b[0;34m\u001b[0m\u001b[0m\n\u001b[1;32m     30\u001b[0m             \u001b[0;32mif\u001b[0m \u001b[0mextra_args\u001b[0m \u001b[0;34m<=\u001b[0m \u001b[0;36m0\u001b[0m\u001b[0;34m:\u001b[0m\u001b[0;34m\u001b[0m\u001b[0;34m\u001b[0m\u001b[0m\n\u001b[0;32m---> 31\u001b[0;31m                 \u001b[0;32mreturn\u001b[0m \u001b[0mf\u001b[0m\u001b[0;34m(\u001b[0m\u001b[0;34m*\u001b[0m\u001b[0margs\u001b[0m\u001b[0;34m,\u001b[0m \u001b[0;34m**\u001b[0m\u001b[0mkwargs\u001b[0m\u001b[0;34m)\u001b[0m\u001b[0;34m\u001b[0m\u001b[0;34m\u001b[0m\u001b[0m\n\u001b[0m\u001b[1;32m     32\u001b[0m             \u001b[0;31m# extra_args > 0\u001b[0m\u001b[0;34m\u001b[0m\u001b[0;34m\u001b[0m\u001b[0m\n\u001b[1;32m     33\u001b[0m             args_msg = [\n",
            "\u001b[0;32m/usr/local/lib/python3.11/dist-packages/huggingface_hub/_login.py\u001b[0m in \u001b[0;36mlogin\u001b[0;34m(token, add_to_git_credential, new_session, write_permission)\u001b[0m\n\u001b[1;32m    124\u001b[0m                 \u001b[0;34m\"you want to set the git credential as well.\"\u001b[0m\u001b[0;34m\u001b[0m\u001b[0;34m\u001b[0m\u001b[0m\n\u001b[1;32m    125\u001b[0m             )\n\u001b[0;32m--> 126\u001b[0;31m         \u001b[0m_login\u001b[0m\u001b[0;34m(\u001b[0m\u001b[0mtoken\u001b[0m\u001b[0;34m,\u001b[0m \u001b[0madd_to_git_credential\u001b[0m\u001b[0;34m=\u001b[0m\u001b[0madd_to_git_credential\u001b[0m\u001b[0;34m)\u001b[0m\u001b[0;34m\u001b[0m\u001b[0;34m\u001b[0m\u001b[0m\n\u001b[0m\u001b[1;32m    127\u001b[0m     \u001b[0;32melif\u001b[0m \u001b[0mis_notebook\u001b[0m\u001b[0;34m(\u001b[0m\u001b[0;34m)\u001b[0m\u001b[0;34m:\u001b[0m\u001b[0;34m\u001b[0m\u001b[0;34m\u001b[0m\u001b[0m\n\u001b[1;32m    128\u001b[0m         \u001b[0mnotebook_login\u001b[0m\u001b[0;34m(\u001b[0m\u001b[0mnew_session\u001b[0m\u001b[0;34m=\u001b[0m\u001b[0mnew_session\u001b[0m\u001b[0;34m)\u001b[0m\u001b[0;34m\u001b[0m\u001b[0;34m\u001b[0m\u001b[0m\n",
            "\u001b[0;32m/usr/local/lib/python3.11/dist-packages/huggingface_hub/_login.py\u001b[0m in \u001b[0;36m_login\u001b[0;34m(token, add_to_git_credential)\u001b[0m\n\u001b[1;32m    402\u001b[0m         \u001b[0;32mraise\u001b[0m \u001b[0mValueError\u001b[0m\u001b[0;34m(\u001b[0m\u001b[0;34m\"You must use your personal account token, not an organization token.\"\u001b[0m\u001b[0;34m)\u001b[0m\u001b[0;34m\u001b[0m\u001b[0;34m\u001b[0m\u001b[0m\n\u001b[1;32m    403\u001b[0m \u001b[0;34m\u001b[0m\u001b[0m\n\u001b[0;32m--> 404\u001b[0;31m     \u001b[0mtoken_info\u001b[0m \u001b[0;34m=\u001b[0m \u001b[0mwhoami\u001b[0m\u001b[0;34m(\u001b[0m\u001b[0mtoken\u001b[0m\u001b[0;34m)\u001b[0m\u001b[0;34m\u001b[0m\u001b[0;34m\u001b[0m\u001b[0m\n\u001b[0m\u001b[1;32m    405\u001b[0m     \u001b[0mpermission\u001b[0m \u001b[0;34m=\u001b[0m \u001b[0mtoken_info\u001b[0m\u001b[0;34m[\u001b[0m\u001b[0;34m\"auth\"\u001b[0m\u001b[0;34m]\u001b[0m\u001b[0;34m[\u001b[0m\u001b[0;34m\"accessToken\"\u001b[0m\u001b[0;34m]\u001b[0m\u001b[0;34m[\u001b[0m\u001b[0;34m\"role\"\u001b[0m\u001b[0;34m]\u001b[0m\u001b[0;34m\u001b[0m\u001b[0;34m\u001b[0m\u001b[0m\n\u001b[1;32m    406\u001b[0m     \u001b[0mlogger\u001b[0m\u001b[0;34m.\u001b[0m\u001b[0minfo\u001b[0m\u001b[0;34m(\u001b[0m\u001b[0;34mf\"Token is valid (permission: {permission}).\"\u001b[0m\u001b[0;34m)\u001b[0m\u001b[0;34m\u001b[0m\u001b[0;34m\u001b[0m\u001b[0m\n",
            "\u001b[0;32m/usr/local/lib/python3.11/dist-packages/huggingface_hub/utils/_validators.py\u001b[0m in \u001b[0;36m_inner_fn\u001b[0;34m(*args, **kwargs)\u001b[0m\n\u001b[1;32m    112\u001b[0m             \u001b[0mkwargs\u001b[0m \u001b[0;34m=\u001b[0m \u001b[0msmoothly_deprecate_use_auth_token\u001b[0m\u001b[0;34m(\u001b[0m\u001b[0mfn_name\u001b[0m\u001b[0;34m=\u001b[0m\u001b[0mfn\u001b[0m\u001b[0;34m.\u001b[0m\u001b[0m__name__\u001b[0m\u001b[0;34m,\u001b[0m \u001b[0mhas_token\u001b[0m\u001b[0;34m=\u001b[0m\u001b[0mhas_token\u001b[0m\u001b[0;34m,\u001b[0m \u001b[0mkwargs\u001b[0m\u001b[0;34m=\u001b[0m\u001b[0mkwargs\u001b[0m\u001b[0;34m)\u001b[0m\u001b[0;34m\u001b[0m\u001b[0;34m\u001b[0m\u001b[0m\n\u001b[1;32m    113\u001b[0m \u001b[0;34m\u001b[0m\u001b[0m\n\u001b[0;32m--> 114\u001b[0;31m         \u001b[0;32mreturn\u001b[0m \u001b[0mfn\u001b[0m\u001b[0;34m(\u001b[0m\u001b[0;34m*\u001b[0m\u001b[0margs\u001b[0m\u001b[0;34m,\u001b[0m \u001b[0;34m**\u001b[0m\u001b[0mkwargs\u001b[0m\u001b[0;34m)\u001b[0m\u001b[0;34m\u001b[0m\u001b[0;34m\u001b[0m\u001b[0m\n\u001b[0m\u001b[1;32m    115\u001b[0m \u001b[0;34m\u001b[0m\u001b[0m\n\u001b[1;32m    116\u001b[0m     \u001b[0;32mreturn\u001b[0m \u001b[0m_inner_fn\u001b[0m  \u001b[0;31m# type: ignore\u001b[0m\u001b[0;34m\u001b[0m\u001b[0;34m\u001b[0m\u001b[0m\n",
            "\u001b[0;32m/usr/local/lib/python3.11/dist-packages/huggingface_hub/hf_api.py\u001b[0m in \u001b[0;36mwhoami\u001b[0;34m(self, token)\u001b[0m\n\u001b[1;32m   1732\u001b[0m         r = get_session().get(\n\u001b[1;32m   1733\u001b[0m             \u001b[0;34mf\"{self.endpoint}/api/whoami-v2\"\u001b[0m\u001b[0;34m,\u001b[0m\u001b[0;34m\u001b[0m\u001b[0;34m\u001b[0m\u001b[0m\n\u001b[0;32m-> 1734\u001b[0;31m             \u001b[0mheaders\u001b[0m\u001b[0;34m=\u001b[0m\u001b[0mself\u001b[0m\u001b[0;34m.\u001b[0m\u001b[0m_build_hf_headers\u001b[0m\u001b[0;34m(\u001b[0m\u001b[0mtoken\u001b[0m\u001b[0;34m=\u001b[0m\u001b[0meffective_token\u001b[0m\u001b[0;34m)\u001b[0m\u001b[0;34m,\u001b[0m\u001b[0;34m\u001b[0m\u001b[0;34m\u001b[0m\u001b[0m\n\u001b[0m\u001b[1;32m   1735\u001b[0m         )\n\u001b[1;32m   1736\u001b[0m         \u001b[0;32mtry\u001b[0m\u001b[0;34m:\u001b[0m\u001b[0;34m\u001b[0m\u001b[0;34m\u001b[0m\u001b[0m\n",
            "\u001b[0;32m/usr/local/lib/python3.11/dist-packages/huggingface_hub/hf_api.py\u001b[0m in \u001b[0;36m_build_hf_headers\u001b[0;34m(self, token, library_name, library_version, user_agent)\u001b[0m\n\u001b[1;32m   9415\u001b[0m             \u001b[0;31m# Cannot do `token = token or self.token` as token can be `False`.\u001b[0m\u001b[0;34m\u001b[0m\u001b[0;34m\u001b[0m\u001b[0m\n\u001b[1;32m   9416\u001b[0m             \u001b[0mtoken\u001b[0m \u001b[0;34m=\u001b[0m \u001b[0mself\u001b[0m\u001b[0;34m.\u001b[0m\u001b[0mtoken\u001b[0m\u001b[0;34m\u001b[0m\u001b[0;34m\u001b[0m\u001b[0m\n\u001b[0;32m-> 9417\u001b[0;31m         return build_hf_headers(\n\u001b[0m\u001b[1;32m   9418\u001b[0m             \u001b[0mtoken\u001b[0m\u001b[0;34m=\u001b[0m\u001b[0mtoken\u001b[0m\u001b[0;34m,\u001b[0m\u001b[0;34m\u001b[0m\u001b[0;34m\u001b[0m\u001b[0m\n\u001b[1;32m   9419\u001b[0m             \u001b[0mlibrary_name\u001b[0m\u001b[0;34m=\u001b[0m\u001b[0mlibrary_name\u001b[0m \u001b[0;32mor\u001b[0m \u001b[0mself\u001b[0m\u001b[0;34m.\u001b[0m\u001b[0mlibrary_name\u001b[0m\u001b[0;34m,\u001b[0m\u001b[0;34m\u001b[0m\u001b[0;34m\u001b[0m\u001b[0m\n",
            "\u001b[0;32m/usr/local/lib/python3.11/dist-packages/huggingface_hub/utils/_deprecation.py\u001b[0m in \u001b[0;36minner_f\u001b[0;34m(*args, **kwargs)\u001b[0m\n\u001b[1;32m     99\u001b[0m                     \u001b[0mmessage\u001b[0m \u001b[0;34m+=\u001b[0m \u001b[0;34m\"\\n\\n\"\u001b[0m \u001b[0;34m+\u001b[0m \u001b[0mcustom_message\u001b[0m\u001b[0;34m\u001b[0m\u001b[0;34m\u001b[0m\u001b[0m\n\u001b[1;32m    100\u001b[0m                 \u001b[0mwarnings\u001b[0m\u001b[0;34m.\u001b[0m\u001b[0mwarn\u001b[0m\u001b[0;34m(\u001b[0m\u001b[0mmessage\u001b[0m\u001b[0;34m,\u001b[0m \u001b[0mFutureWarning\u001b[0m\u001b[0;34m)\u001b[0m\u001b[0;34m\u001b[0m\u001b[0;34m\u001b[0m\u001b[0m\n\u001b[0;32m--> 101\u001b[0;31m             \u001b[0;32mreturn\u001b[0m \u001b[0mf\u001b[0m\u001b[0;34m(\u001b[0m\u001b[0;34m*\u001b[0m\u001b[0margs\u001b[0m\u001b[0;34m,\u001b[0m \u001b[0;34m**\u001b[0m\u001b[0mkwargs\u001b[0m\u001b[0;34m)\u001b[0m\u001b[0;34m\u001b[0m\u001b[0;34m\u001b[0m\u001b[0m\n\u001b[0m\u001b[1;32m    102\u001b[0m \u001b[0;34m\u001b[0m\u001b[0m\n\u001b[1;32m    103\u001b[0m         \u001b[0;32mreturn\u001b[0m \u001b[0minner_f\u001b[0m\u001b[0;34m\u001b[0m\u001b[0;34m\u001b[0m\u001b[0m\n",
            "\u001b[0;32m/usr/local/lib/python3.11/dist-packages/huggingface_hub/utils/_validators.py\u001b[0m in \u001b[0;36m_inner_fn\u001b[0;34m(*args, **kwargs)\u001b[0m\n\u001b[1;32m    112\u001b[0m             \u001b[0mkwargs\u001b[0m \u001b[0;34m=\u001b[0m \u001b[0msmoothly_deprecate_use_auth_token\u001b[0m\u001b[0;34m(\u001b[0m\u001b[0mfn_name\u001b[0m\u001b[0;34m=\u001b[0m\u001b[0mfn\u001b[0m\u001b[0;34m.\u001b[0m\u001b[0m__name__\u001b[0m\u001b[0;34m,\u001b[0m \u001b[0mhas_token\u001b[0m\u001b[0;34m=\u001b[0m\u001b[0mhas_token\u001b[0m\u001b[0;34m,\u001b[0m \u001b[0mkwargs\u001b[0m\u001b[0;34m=\u001b[0m\u001b[0mkwargs\u001b[0m\u001b[0;34m)\u001b[0m\u001b[0;34m\u001b[0m\u001b[0;34m\u001b[0m\u001b[0m\n\u001b[1;32m    113\u001b[0m \u001b[0;34m\u001b[0m\u001b[0m\n\u001b[0;32m--> 114\u001b[0;31m         \u001b[0;32mreturn\u001b[0m \u001b[0mfn\u001b[0m\u001b[0;34m(\u001b[0m\u001b[0;34m*\u001b[0m\u001b[0margs\u001b[0m\u001b[0;34m,\u001b[0m \u001b[0;34m**\u001b[0m\u001b[0mkwargs\u001b[0m\u001b[0;34m)\u001b[0m\u001b[0;34m\u001b[0m\u001b[0;34m\u001b[0m\u001b[0m\n\u001b[0m\u001b[1;32m    115\u001b[0m \u001b[0;34m\u001b[0m\u001b[0m\n\u001b[1;32m    116\u001b[0m     \u001b[0;32mreturn\u001b[0m \u001b[0m_inner_fn\u001b[0m  \u001b[0;31m# type: ignore\u001b[0m\u001b[0;34m\u001b[0m\u001b[0;34m\u001b[0m\u001b[0m\n",
            "\u001b[0;32m/usr/local/lib/python3.11/dist-packages/huggingface_hub/utils/_headers.py\u001b[0m in \u001b[0;36mbuild_hf_headers\u001b[0;34m(token, library_name, library_version, user_agent, headers, is_write_action)\u001b[0m\n\u001b[1;32m    124\u001b[0m     \"\"\"\n\u001b[1;32m    125\u001b[0m     \u001b[0;31m# Get auth token to send\u001b[0m\u001b[0;34m\u001b[0m\u001b[0;34m\u001b[0m\u001b[0m\n\u001b[0;32m--> 126\u001b[0;31m     \u001b[0mtoken_to_send\u001b[0m \u001b[0;34m=\u001b[0m \u001b[0mget_token_to_send\u001b[0m\u001b[0;34m(\u001b[0m\u001b[0mtoken\u001b[0m\u001b[0;34m)\u001b[0m\u001b[0;34m\u001b[0m\u001b[0;34m\u001b[0m\u001b[0m\n\u001b[0m\u001b[1;32m    127\u001b[0m \u001b[0;34m\u001b[0m\u001b[0m\n\u001b[1;32m    128\u001b[0m     \u001b[0;31m# Combine headers\u001b[0m\u001b[0;34m\u001b[0m\u001b[0;34m\u001b[0m\u001b[0m\n",
            "\u001b[0;32m/usr/local/lib/python3.11/dist-packages/huggingface_hub/utils/_headers.py\u001b[0m in \u001b[0;36mget_token_to_send\u001b[0;34m(token)\u001b[0m\n\u001b[1;32m    157\u001b[0m     \u001b[0;32mif\u001b[0m \u001b[0mtoken\u001b[0m \u001b[0;32mis\u001b[0m \u001b[0;32mTrue\u001b[0m\u001b[0;34m:\u001b[0m\u001b[0;34m\u001b[0m\u001b[0;34m\u001b[0m\u001b[0m\n\u001b[1;32m    158\u001b[0m         \u001b[0;32mif\u001b[0m \u001b[0mcached_token\u001b[0m \u001b[0;32mis\u001b[0m \u001b[0;32mNone\u001b[0m\u001b[0;34m:\u001b[0m\u001b[0;34m\u001b[0m\u001b[0;34m\u001b[0m\u001b[0m\n\u001b[0;32m--> 159\u001b[0;31m             raise LocalTokenNotFoundError(\n\u001b[0m\u001b[1;32m    160\u001b[0m                 \u001b[0;34m\"Token is required (`token=True`), but no token found. You\"\u001b[0m\u001b[0;34m\u001b[0m\u001b[0;34m\u001b[0m\u001b[0m\n\u001b[1;32m    161\u001b[0m                 \u001b[0;34m\" need to provide a token or be logged in to Hugging Face with\"\u001b[0m\u001b[0;34m\u001b[0m\u001b[0;34m\u001b[0m\u001b[0m\n",
            "\u001b[0;31mLocalTokenNotFoundError\u001b[0m: Token is required (`token=True`), but no token found. You need to provide a token or be logged in to Hugging Face with `huggingface-cli login` or `huggingface_hub.login`. See https://huggingface.co/settings/tokens."
          ]
        }
      ]
    },
    {
      "cell_type": "markdown",
      "source": [
        "# CNN model only"
      ],
      "metadata": {
        "id": "Gbfurz5Vdwz8"
      }
    },
    {
      "cell_type": "code",
      "source": [
        "from tensorflow.keras import models\n",
        "from tensorflow.keras import layers\n",
        "\n",
        "# Prepare the data\n",
        "train_labels = df_train_description['label']\n",
        "dev_labels = dev_df_description['label']\n",
        "\n",
        "train_labels_nn = to_categorical(train_labels, num_classes=3)\n",
        "dev_labels_nn = to_categorical(dev_labels, num_classes=3)\n",
        "\n",
        "train_vectors = logits_train_model_photos\n",
        "dev_vectors = logits_dev_model_photos\n",
        "\n",
        "# Build early stop and reduce lr conditions\n",
        "early_stop = callbacks.EarlyStopping(monitor='val_accuracy', patience=20, restore_best_weights=True)\n",
        "reduce_lr = callbacks.ReduceLROnPlateau(monitor='val_loss', factor=0.5, patience=5)\n",
        "\n",
        "# Build the model, and fit\n",
        "model_photos = models.Sequential()\n",
        "\n",
        "model_photos.add(layers.Input(shape=(3,), name='input_layer'))\n",
        "\n",
        "model_photos.add(layers.Dense(3, activation='softmax'))\n",
        "\n",
        "model_photos.compile(optimizer=Adam(learning_rate=1e-3),\n",
        "                       loss='categorical_crossentropy',\n",
        "                       metrics=['accuracy'])\n",
        "\n",
        "\n",
        "\n",
        "history = model_photos.fit(\n",
        "    train_vectors, train_labels_nn,\n",
        "    validation_data=(dev_vectors, dev_labels_nn),\n",
        "    epochs=200,\n",
        "    batch_size=64,\n",
        "    callbacks=[early_stop, reduce_lr]\n",
        ")"
      ],
      "metadata": {
        "colab": {
          "base_uri": "https://localhost:8080/"
        },
        "id": "QUXw1suWd35_",
        "outputId": "a8a20eda-1382-4933-c22a-8e1856c77e97"
      },
      "execution_count": null,
      "outputs": [
        {
          "output_type": "stream",
          "name": "stdout",
          "text": [
            "Epoch 1/200\n",
            "\u001b[1m98/98\u001b[0m \u001b[32m━━━━━━━━━━━━━━━━━━━━\u001b[0m\u001b[37m\u001b[0m \u001b[1m3s\u001b[0m 20ms/step - accuracy: 0.2681 - loss: 2.6338 - val_accuracy: 0.2033 - val_loss: 2.0045 - learning_rate: 0.0010\n",
            "Epoch 2/200\n",
            "\u001b[1m98/98\u001b[0m \u001b[32m━━━━━━━━━━━━━━━━━━━━\u001b[0m\u001b[37m\u001b[0m \u001b[1m0s\u001b[0m 3ms/step - accuracy: 0.3526 - loss: 1.8389 - val_accuracy: 0.3000 - val_loss: 1.7506 - learning_rate: 0.0010\n",
            "Epoch 3/200\n",
            "\u001b[1m98/98\u001b[0m \u001b[32m━━━━━━━━━━━━━━━━━━━━\u001b[0m\u001b[37m\u001b[0m \u001b[1m0s\u001b[0m 3ms/step - accuracy: 0.5049 - loss: 1.3531 - val_accuracy: 0.3000 - val_loss: 1.6572 - learning_rate: 0.0010\n",
            "Epoch 4/200\n",
            "\u001b[1m98/98\u001b[0m \u001b[32m━━━━━━━━━━━━━━━━━━━━\u001b[0m\u001b[37m\u001b[0m \u001b[1m0s\u001b[0m 3ms/step - accuracy: 0.5467 - loss: 1.1178 - val_accuracy: 0.3033 - val_loss: 1.5783 - learning_rate: 0.0010\n",
            "Epoch 5/200\n",
            "\u001b[1m98/98\u001b[0m \u001b[32m━━━━━━━━━━━━━━━━━━━━\u001b[0m\u001b[37m\u001b[0m \u001b[1m0s\u001b[0m 3ms/step - accuracy: 0.5666 - loss: 0.9639 - val_accuracy: 0.2900 - val_loss: 1.5228 - learning_rate: 0.0010\n",
            "Epoch 6/200\n",
            "\u001b[1m98/98\u001b[0m \u001b[32m━━━━━━━━━━━━━━━━━━━━\u001b[0m\u001b[37m\u001b[0m \u001b[1m1s\u001b[0m 3ms/step - accuracy: 0.5746 - loss: 0.8660 - val_accuracy: 0.2800 - val_loss: 1.4965 - learning_rate: 0.0010\n",
            "Epoch 7/200\n",
            "\u001b[1m98/98\u001b[0m \u001b[32m━━━━━━━━━━━━━━━━━━━━\u001b[0m\u001b[37m\u001b[0m \u001b[1m0s\u001b[0m 3ms/step - accuracy: 0.6029 - loss: 0.8025 - val_accuracy: 0.4767 - val_loss: 1.4917 - learning_rate: 0.0010\n",
            "Epoch 8/200\n",
            "\u001b[1m98/98\u001b[0m \u001b[32m━━━━━━━━━━━━━━━━━━━━\u001b[0m\u001b[37m\u001b[0m \u001b[1m0s\u001b[0m 3ms/step - accuracy: 0.6175 - loss: 0.7659 - val_accuracy: 0.4767 - val_loss: 1.5012 - learning_rate: 0.0010\n",
            "Epoch 9/200\n",
            "\u001b[1m98/98\u001b[0m \u001b[32m━━━━━━━━━━━━━━━━━━━━\u001b[0m\u001b[37m\u001b[0m \u001b[1m0s\u001b[0m 3ms/step - accuracy: 0.6260 - loss: 0.7355 - val_accuracy: 0.4833 - val_loss: 1.5192 - learning_rate: 0.0010\n",
            "Epoch 10/200\n",
            "\u001b[1m98/98\u001b[0m \u001b[32m━━━━━━━━━━━━━━━━━━━━\u001b[0m\u001b[37m\u001b[0m \u001b[1m1s\u001b[0m 3ms/step - accuracy: 0.6272 - loss: 0.7157 - val_accuracy: 0.4867 - val_loss: 1.5427 - learning_rate: 0.0010\n",
            "Epoch 11/200\n",
            "\u001b[1m98/98\u001b[0m \u001b[32m━━━━━━━━━━━━━━━━━━━━\u001b[0m\u001b[37m\u001b[0m \u001b[1m0s\u001b[0m 3ms/step - accuracy: 0.6328 - loss: 0.7085 - val_accuracy: 0.4833 - val_loss: 1.5701 - learning_rate: 0.0010\n",
            "Epoch 12/200\n",
            "\u001b[1m98/98\u001b[0m \u001b[32m━━━━━━━━━━━━━━━━━━━━\u001b[0m\u001b[37m\u001b[0m \u001b[1m1s\u001b[0m 3ms/step - accuracy: 0.6316 - loss: 0.7087 - val_accuracy: 0.4867 - val_loss: 1.5977 - learning_rate: 0.0010\n",
            "Epoch 13/200\n",
            "\u001b[1m98/98\u001b[0m \u001b[32m━━━━━━━━━━━━━━━━━━━━\u001b[0m\u001b[37m\u001b[0m \u001b[1m0s\u001b[0m 3ms/step - accuracy: 0.6489 - loss: 0.6783 - val_accuracy: 0.4867 - val_loss: 1.6131 - learning_rate: 5.0000e-04\n",
            "Epoch 14/200\n",
            "\u001b[1m98/98\u001b[0m \u001b[32m━━━━━━━━━━━━━━━━━━━━\u001b[0m\u001b[37m\u001b[0m \u001b[1m0s\u001b[0m 3ms/step - accuracy: 0.6511 - loss: 0.6754 - val_accuracy: 0.4867 - val_loss: 1.6276 - learning_rate: 5.0000e-04\n",
            "Epoch 15/200\n",
            "\u001b[1m98/98\u001b[0m \u001b[32m━━━━━━━━━━━━━━━━━━━━\u001b[0m\u001b[37m\u001b[0m \u001b[1m0s\u001b[0m 3ms/step - accuracy: 0.6562 - loss: 0.6730 - val_accuracy: 0.4867 - val_loss: 1.6424 - learning_rate: 5.0000e-04\n",
            "Epoch 16/200\n",
            "\u001b[1m98/98\u001b[0m \u001b[32m━━━━━━━━━━━━━━━━━━━━\u001b[0m\u001b[37m\u001b[0m \u001b[1m0s\u001b[0m 3ms/step - accuracy: 0.6598 - loss: 0.6683 - val_accuracy: 0.4867 - val_loss: 1.6581 - learning_rate: 5.0000e-04\n",
            "Epoch 17/200\n",
            "\u001b[1m98/98\u001b[0m \u001b[32m━━━━━━━━━━━━━━━━━━━━\u001b[0m\u001b[37m\u001b[0m \u001b[1m1s\u001b[0m 4ms/step - accuracy: 0.6494 - loss: 0.6671 - val_accuracy: 0.4867 - val_loss: 1.6741 - learning_rate: 5.0000e-04\n",
            "Epoch 18/200\n",
            "\u001b[1m98/98\u001b[0m \u001b[32m━━━━━━━━━━━━━━━━━━━━\u001b[0m\u001b[37m\u001b[0m \u001b[1m1s\u001b[0m 4ms/step - accuracy: 0.6600 - loss: 0.6622 - val_accuracy: 0.4867 - val_loss: 1.6825 - learning_rate: 2.5000e-04\n",
            "Epoch 19/200\n",
            "\u001b[1m98/98\u001b[0m \u001b[32m━━━━━━━━━━━━━━━━━━━━\u001b[0m\u001b[37m\u001b[0m \u001b[1m1s\u001b[0m 4ms/step - accuracy: 0.6594 - loss: 0.6695 - val_accuracy: 0.4867 - val_loss: 1.6907 - learning_rate: 2.5000e-04\n",
            "Epoch 20/200\n",
            "\u001b[1m98/98\u001b[0m \u001b[32m━━━━━━━━━━━━━━━━━━━━\u001b[0m\u001b[37m\u001b[0m \u001b[1m0s\u001b[0m 3ms/step - accuracy: 0.6590 - loss: 0.6677 - val_accuracy: 0.4867 - val_loss: 1.6998 - learning_rate: 2.5000e-04\n",
            "Epoch 21/200\n",
            "\u001b[1m98/98\u001b[0m \u001b[32m━━━━━━━━━━━━━━━━━━━━\u001b[0m\u001b[37m\u001b[0m \u001b[1m0s\u001b[0m 3ms/step - accuracy: 0.6541 - loss: 0.6643 - val_accuracy: 0.4867 - val_loss: 1.7087 - learning_rate: 2.5000e-04\n",
            "Epoch 22/200\n",
            "\u001b[1m98/98\u001b[0m \u001b[32m━━━━━━━━━━━━━━━━━━━━\u001b[0m\u001b[37m\u001b[0m \u001b[1m0s\u001b[0m 3ms/step - accuracy: 0.6633 - loss: 0.6553 - val_accuracy: 0.4867 - val_loss: 1.7175 - learning_rate: 2.5000e-04\n",
            "Epoch 23/200\n",
            "\u001b[1m98/98\u001b[0m \u001b[32m━━━━━━━━━━━━━━━━━━━━\u001b[0m\u001b[37m\u001b[0m \u001b[1m0s\u001b[0m 3ms/step - accuracy: 0.6582 - loss: 0.6609 - val_accuracy: 0.4867 - val_loss: 1.7225 - learning_rate: 1.2500e-04\n",
            "Epoch 24/200\n",
            "\u001b[1m98/98\u001b[0m \u001b[32m━━━━━━━━━━━━━━━━━━━━\u001b[0m\u001b[37m\u001b[0m \u001b[1m0s\u001b[0m 3ms/step - accuracy: 0.6683 - loss: 0.6571 - val_accuracy: 0.4867 - val_loss: 1.7273 - learning_rate: 1.2500e-04\n",
            "Epoch 25/200\n",
            "\u001b[1m98/98\u001b[0m \u001b[32m━━━━━━━━━━━━━━━━━━━━\u001b[0m\u001b[37m\u001b[0m \u001b[1m0s\u001b[0m 3ms/step - accuracy: 0.6596 - loss: 0.6734 - val_accuracy: 0.4867 - val_loss: 1.7323 - learning_rate: 1.2500e-04\n",
            "Epoch 26/200\n",
            "\u001b[1m98/98\u001b[0m \u001b[32m━━━━━━━━━━━━━━━━━━━━\u001b[0m\u001b[37m\u001b[0m \u001b[1m0s\u001b[0m 3ms/step - accuracy: 0.6540 - loss: 0.6635 - val_accuracy: 0.4867 - val_loss: 1.7377 - learning_rate: 1.2500e-04\n",
            "Epoch 27/200\n",
            "\u001b[1m98/98\u001b[0m \u001b[32m━━━━━━━━━━━━━━━━━━━━\u001b[0m\u001b[37m\u001b[0m \u001b[1m0s\u001b[0m 3ms/step - accuracy: 0.6533 - loss: 0.6546 - val_accuracy: 0.4867 - val_loss: 1.7434 - learning_rate: 1.2500e-04\n",
            "Epoch 28/200\n",
            "\u001b[1m98/98\u001b[0m \u001b[32m━━━━━━━━━━━━━━━━━━━━\u001b[0m\u001b[37m\u001b[0m \u001b[1m0s\u001b[0m 3ms/step - accuracy: 0.6626 - loss: 0.6574 - val_accuracy: 0.4867 - val_loss: 1.7463 - learning_rate: 6.2500e-05\n",
            "Epoch 29/200\n",
            "\u001b[1m98/98\u001b[0m \u001b[32m━━━━━━━━━━━━━━━━━━━━\u001b[0m\u001b[37m\u001b[0m \u001b[1m0s\u001b[0m 3ms/step - accuracy: 0.6559 - loss: 0.6529 - val_accuracy: 0.4900 - val_loss: 1.7490 - learning_rate: 6.2500e-05\n",
            "Epoch 30/200\n",
            "\u001b[1m98/98\u001b[0m \u001b[32m━━━━━━━━━━━━━━━━━━━━\u001b[0m\u001b[37m\u001b[0m \u001b[1m0s\u001b[0m 3ms/step - accuracy: 0.6509 - loss: 0.6633 - val_accuracy: 0.4900 - val_loss: 1.7521 - learning_rate: 6.2500e-05\n",
            "Epoch 31/200\n",
            "\u001b[1m98/98\u001b[0m \u001b[32m━━━━━━━━━━━━━━━━━━━━\u001b[0m\u001b[37m\u001b[0m \u001b[1m1s\u001b[0m 3ms/step - accuracy: 0.6503 - loss: 0.6599 - val_accuracy: 0.4933 - val_loss: 1.7555 - learning_rate: 6.2500e-05\n",
            "Epoch 32/200\n",
            "\u001b[1m98/98\u001b[0m \u001b[32m━━━━━━━━━━━━━━━━━━━━\u001b[0m\u001b[37m\u001b[0m \u001b[1m1s\u001b[0m 3ms/step - accuracy: 0.6576 - loss: 0.6564 - val_accuracy: 0.4900 - val_loss: 1.7586 - learning_rate: 6.2500e-05\n",
            "Epoch 33/200\n",
            "\u001b[1m98/98\u001b[0m \u001b[32m━━━━━━━━━━━━━━━━━━━━\u001b[0m\u001b[37m\u001b[0m \u001b[1m0s\u001b[0m 3ms/step - accuracy: 0.6582 - loss: 0.6513 - val_accuracy: 0.4900 - val_loss: 1.7604 - learning_rate: 3.1250e-05\n",
            "Epoch 34/200\n",
            "\u001b[1m98/98\u001b[0m \u001b[32m━━━━━━━━━━━━━━━━━━━━\u001b[0m\u001b[37m\u001b[0m \u001b[1m0s\u001b[0m 3ms/step - accuracy: 0.6635 - loss: 0.6500 - val_accuracy: 0.4900 - val_loss: 1.7621 - learning_rate: 3.1250e-05\n",
            "Epoch 35/200\n",
            "\u001b[1m98/98\u001b[0m \u001b[32m━━━━━━━━━━━━━━━━━━━━\u001b[0m\u001b[37m\u001b[0m \u001b[1m0s\u001b[0m 3ms/step - accuracy: 0.6634 - loss: 0.6545 - val_accuracy: 0.4900 - val_loss: 1.7640 - learning_rate: 3.1250e-05\n",
            "Epoch 36/200\n",
            "\u001b[1m98/98\u001b[0m \u001b[32m━━━━━━━━━━━━━━━━━━━━\u001b[0m\u001b[37m\u001b[0m \u001b[1m0s\u001b[0m 3ms/step - accuracy: 0.6641 - loss: 0.6488 - val_accuracy: 0.4900 - val_loss: 1.7660 - learning_rate: 3.1250e-05\n",
            "Epoch 37/200\n",
            "\u001b[1m98/98\u001b[0m \u001b[32m━━━━━━━━━━━━━━━━━━━━\u001b[0m\u001b[37m\u001b[0m \u001b[1m0s\u001b[0m 3ms/step - accuracy: 0.6597 - loss: 0.6578 - val_accuracy: 0.4900 - val_loss: 1.7680 - learning_rate: 3.1250e-05\n",
            "Epoch 38/200\n",
            "\u001b[1m98/98\u001b[0m \u001b[32m━━━━━━━━━━━━━━━━━━━━\u001b[0m\u001b[37m\u001b[0m \u001b[1m0s\u001b[0m 3ms/step - accuracy: 0.6713 - loss: 0.6491 - val_accuracy: 0.4900 - val_loss: 1.7691 - learning_rate: 1.5625e-05\n",
            "Epoch 39/200\n",
            "\u001b[1m98/98\u001b[0m \u001b[32m━━━━━━━━━━━━━━━━━━━━\u001b[0m\u001b[37m\u001b[0m \u001b[1m1s\u001b[0m 3ms/step - accuracy: 0.6577 - loss: 0.6518 - val_accuracy: 0.4900 - val_loss: 1.7702 - learning_rate: 1.5625e-05\n",
            "Epoch 40/200\n",
            "\u001b[1m98/98\u001b[0m \u001b[32m━━━━━━━━━━━━━━━━━━━━\u001b[0m\u001b[37m\u001b[0m \u001b[1m0s\u001b[0m 3ms/step - accuracy: 0.6477 - loss: 0.6609 - val_accuracy: 0.4900 - val_loss: 1.7713 - learning_rate: 1.5625e-05\n",
            "Epoch 41/200\n",
            "\u001b[1m98/98\u001b[0m \u001b[32m━━━━━━━━━━━━━━━━━━━━\u001b[0m\u001b[37m\u001b[0m \u001b[1m1s\u001b[0m 3ms/step - accuracy: 0.6665 - loss: 0.6474 - val_accuracy: 0.4900 - val_loss: 1.7725 - learning_rate: 1.5625e-05\n",
            "Epoch 42/200\n",
            "\u001b[1m98/98\u001b[0m \u001b[32m━━━━━━━━━━━━━━━━━━━━\u001b[0m\u001b[37m\u001b[0m \u001b[1m0s\u001b[0m 3ms/step - accuracy: 0.6470 - loss: 0.6658 - val_accuracy: 0.4900 - val_loss: 1.7737 - learning_rate: 1.5625e-05\n",
            "Epoch 43/200\n",
            "\u001b[1m98/98\u001b[0m \u001b[32m━━━━━━━━━━━━━━━━━━━━\u001b[0m\u001b[37m\u001b[0m \u001b[1m0s\u001b[0m 3ms/step - accuracy: 0.6523 - loss: 0.6623 - val_accuracy: 0.4900 - val_loss: 1.7743 - learning_rate: 7.8125e-06\n",
            "Epoch 44/200\n",
            "\u001b[1m98/98\u001b[0m \u001b[32m━━━━━━━━━━━━━━━━━━━━\u001b[0m\u001b[37m\u001b[0m \u001b[1m0s\u001b[0m 4ms/step - accuracy: 0.6643 - loss: 0.6583 - val_accuracy: 0.4900 - val_loss: 1.7750 - learning_rate: 7.8125e-06\n",
            "Epoch 45/200\n",
            "\u001b[1m98/98\u001b[0m \u001b[32m━━━━━━━━━━━━━━━━━━━━\u001b[0m\u001b[37m\u001b[0m \u001b[1m1s\u001b[0m 6ms/step - accuracy: 0.6504 - loss: 0.6647 - val_accuracy: 0.4900 - val_loss: 1.7757 - learning_rate: 7.8125e-06\n",
            "Epoch 46/200\n",
            "\u001b[1m98/98\u001b[0m \u001b[32m━━━━━━━━━━━━━━━━━━━━\u001b[0m\u001b[37m\u001b[0m \u001b[1m1s\u001b[0m 11ms/step - accuracy: 0.6585 - loss: 0.6529 - val_accuracy: 0.4900 - val_loss: 1.7764 - learning_rate: 7.8125e-06\n",
            "Epoch 47/200\n",
            "\u001b[1m98/98\u001b[0m \u001b[32m━━━━━━━━━━━━━━━━━━━━\u001b[0m\u001b[37m\u001b[0m \u001b[1m1s\u001b[0m 10ms/step - accuracy: 0.6654 - loss: 0.6409 - val_accuracy: 0.4900 - val_loss: 1.7771 - learning_rate: 7.8125e-06\n",
            "Epoch 48/200\n",
            "\u001b[1m98/98\u001b[0m \u001b[32m━━━━━━━━━━━━━━━━━━━━\u001b[0m\u001b[37m\u001b[0m \u001b[1m1s\u001b[0m 7ms/step - accuracy: 0.6576 - loss: 0.6580 - val_accuracy: 0.4900 - val_loss: 1.7775 - learning_rate: 3.9063e-06\n",
            "Epoch 49/200\n",
            "\u001b[1m98/98\u001b[0m \u001b[32m━━━━━━━━━━━━━━━━━━━━\u001b[0m\u001b[37m\u001b[0m \u001b[1m1s\u001b[0m 6ms/step - accuracy: 0.6440 - loss: 0.6692 - val_accuracy: 0.4900 - val_loss: 1.7779 - learning_rate: 3.9063e-06\n",
            "Epoch 50/200\n",
            "\u001b[1m98/98\u001b[0m \u001b[32m━━━━━━━━━━━━━━━━━━━━\u001b[0m\u001b[37m\u001b[0m \u001b[1m1s\u001b[0m 8ms/step - accuracy: 0.6579 - loss: 0.6540 - val_accuracy: 0.4900 - val_loss: 1.7783 - learning_rate: 3.9063e-06\n",
            "Epoch 51/200\n",
            "\u001b[1m98/98\u001b[0m \u001b[32m━━━━━━━━━━━━━━━━━━━━\u001b[0m\u001b[37m\u001b[0m \u001b[1m1s\u001b[0m 5ms/step - accuracy: 0.6586 - loss: 0.6504 - val_accuracy: 0.4900 - val_loss: 1.7787 - learning_rate: 3.9063e-06\n"
          ]
        }
      ]
    },
    {
      "cell_type": "code",
      "source": [
        "# Prepare the data for the evaluation\n",
        "y_train_pred = model_photos.predict(train_vectors)\n",
        "y_train_pred_classes = np.argmax(y_train_pred, axis=1)\n",
        "y_train_true_classes = np.argmax(train_labels_nn, axis=1)\n",
        "y_dev_pred = model_photos.predict(dev_vectors)\n",
        "y_dev_pred_classes = np.argmax(y_dev_pred, axis=1)\n",
        "y_dev_true_classes = np.argmax(dev_labels_nn, axis=1)\n",
        "\n",
        "# Compute the metrics\n",
        "train_accuracy = accuracy_score(y_train_true_classes, y_train_pred_classes)\n",
        "dev_accuracy = accuracy_score(y_dev_true_classes, y_dev_pred_classes)\n",
        "train_precision, train_recall, train_f1, _ = precision_recall_fscore_support(y_train_true_classes, y_train_pred_classes, average='weighted')\n",
        "dev_precision, dev_recall, dev_f1, _ = precision_recall_fscore_support(y_dev_true_classes, y_dev_pred_classes, average='weighted')\n",
        "\n",
        "# Print\n",
        "print(f\"Train accuracy : {train_accuracy * 100:.2f}%\")\n",
        "print(f\"Train precision: {train_precision * 100:.2f}%\")\n",
        "print(f\"Train recall   : {train_recall * 100:.2f}%\")\n",
        "print(f\"Train F1-score : {train_f1 * 100:.2f}%\")\n",
        "print(f\"Dev accuracy   : {dev_accuracy * 100:.2f}%\")\n",
        "print(f\"Dev precision  : {dev_precision * 100:.2f}%\")\n",
        "print(f\"Dev recall     : {dev_recall * 100:.2f}%\")\n",
        "print(f\"Dev F1-score   : {dev_f1 * 100:.2f}%\")\n",
        "\n"
      ],
      "metadata": {
        "colab": {
          "base_uri": "https://localhost:8080/"
        },
        "id": "cKdhIK-xeWGV",
        "outputId": "260b2e00-4f2f-411f-e09e-9647f9e43183"
      },
      "execution_count": null,
      "outputs": [
        {
          "output_type": "stream",
          "name": "stdout",
          "text": [
            "\u001b[1m196/196\u001b[0m \u001b[32m━━━━━━━━━━━━━━━━━━━━\u001b[0m\u001b[37m\u001b[0m \u001b[1m1s\u001b[0m 3ms/step\n",
            "\u001b[1m10/10\u001b[0m \u001b[32m━━━━━━━━━━━━━━━━━━━━\u001b[0m\u001b[37m\u001b[0m \u001b[1m0s\u001b[0m 20ms/step\n",
            "Train accuracy : 65.97%\n",
            "Train precision: 81.62%\n",
            "Train recall   : 65.97%\n",
            "Train F1-score : 66.48%\n",
            "Dev accuracy   : 49.33%\n",
            "Dev precision  : 48.29%\n",
            "Dev recall     : 49.33%\n",
            "Dev F1-score   : 46.30%\n"
          ]
        }
      ]
    },
    {
      "cell_type": "markdown",
      "source": [
        "# Description model only"
      ],
      "metadata": {
        "id": "TcCAKAf6eiJz"
      }
    },
    {
      "cell_type": "code",
      "source": [
        "# Prepare the data\n",
        "train_labels = df_train_description['label']\n",
        "dev_labels = dev_df_description['label']\n",
        "\n",
        "train_labels_nn = to_categorical(train_labels, num_classes=3)\n",
        "dev_labels_nn = to_categorical(dev_labels, num_classes=3)\n",
        "\n",
        "train_vectors = logits_train_model_description\n",
        "dev_vectors = logits_dev_model_descriptions\n",
        "\n",
        "# Build early stop and reduce lr conditions\n",
        "early_stop = callbacks.EarlyStopping(monitor='val_accuracy', patience=20, restore_best_weights=True)\n",
        "reduce_lr = callbacks.ReduceLROnPlateau(monitor='val_loss', factor=0.5, patience=5)\n",
        "\n",
        "# Build the model, and fit it\n",
        "model_description = models.Sequential()\n",
        "\n",
        "model_description.add(layers.Input(shape=(3,), name='input_layer'))\n",
        "\n",
        "model_description.add(layers.Dense(3, activation='softmax'))\n",
        "\n",
        "model_description.compile(optimizer=Adam(learning_rate=1e-3),\n",
        "                       loss='categorical_crossentropy',\n",
        "                       metrics=['accuracy'])\n",
        "\n",
        "\n",
        "\n",
        "history = model_description.fit(\n",
        "    train_vectors, train_labels_nn,\n",
        "    validation_data=(dev_vectors, dev_labels_nn),\n",
        "    epochs=200,\n",
        "    batch_size=64,\n",
        "    callbacks=[early_stop, reduce_lr]\n",
        ")"
      ],
      "metadata": {
        "outputId": "a01169a4-0b93-4b98-ee75-7edb2665349e",
        "colab": {
          "base_uri": "https://localhost:8080/"
        },
        "id": "fDACNBKlem-B"
      },
      "execution_count": null,
      "outputs": [
        {
          "output_type": "stream",
          "name": "stdout",
          "text": [
            "Epoch 1/200\n",
            "\u001b[1m98/98\u001b[0m \u001b[32m━━━━━━━━━━━━━━━━━━━━\u001b[0m\u001b[37m\u001b[0m \u001b[1m3s\u001b[0m 20ms/step - accuracy: 0.7089 - loss: 0.8984 - val_accuracy: 0.5333 - val_loss: 1.1242 - learning_rate: 0.0010\n",
            "Epoch 2/200\n",
            "\u001b[1m98/98\u001b[0m \u001b[32m━━━━━━━━━━━━━━━━━━━━\u001b[0m\u001b[37m\u001b[0m \u001b[1m1s\u001b[0m 6ms/step - accuracy: 0.7005 - loss: 0.6537 - val_accuracy: 0.5400 - val_loss: 1.0160 - learning_rate: 0.0010\n",
            "Epoch 3/200\n",
            "\u001b[1m98/98\u001b[0m \u001b[32m━━━━━━━━━━━━━━━━━━━━\u001b[0m\u001b[37m\u001b[0m \u001b[1m1s\u001b[0m 7ms/step - accuracy: 0.7756 - loss: 0.4877 - val_accuracy: 0.6467 - val_loss: 0.9816 - learning_rate: 0.0010\n",
            "Epoch 4/200\n",
            "\u001b[1m98/98\u001b[0m \u001b[32m━━━━━━━━━━━━━━━━━━━━\u001b[0m\u001b[37m\u001b[0m \u001b[1m1s\u001b[0m 13ms/step - accuracy: 0.8813 - loss: 0.3927 - val_accuracy: 0.6600 - val_loss: 0.9856 - learning_rate: 0.0010\n",
            "Epoch 5/200\n",
            "\u001b[1m98/98\u001b[0m \u001b[32m━━━━━━━━━━━━━━━━━━━━\u001b[0m\u001b[37m\u001b[0m \u001b[1m2s\u001b[0m 6ms/step - accuracy: 0.8966 - loss: 0.3335 - val_accuracy: 0.6733 - val_loss: 1.0044 - learning_rate: 0.0010\n",
            "Epoch 6/200\n",
            "\u001b[1m98/98\u001b[0m \u001b[32m━━━━━━━━━━━━━━━━━━━━\u001b[0m\u001b[37m\u001b[0m \u001b[1m1s\u001b[0m 3ms/step - accuracy: 0.9012 - loss: 0.3068 - val_accuracy: 0.6800 - val_loss: 1.0308 - learning_rate: 0.0010\n",
            "Epoch 7/200\n",
            "\u001b[1m98/98\u001b[0m \u001b[32m━━━━━━━━━━━━━━━━━━━━\u001b[0m\u001b[37m\u001b[0m \u001b[1m0s\u001b[0m 3ms/step - accuracy: 0.9075 - loss: 0.2793 - val_accuracy: 0.6700 - val_loss: 1.0569 - learning_rate: 0.0010\n",
            "Epoch 8/200\n",
            "\u001b[1m98/98\u001b[0m \u001b[32m━━━━━━━━━━━━━━━━━━━━\u001b[0m\u001b[37m\u001b[0m \u001b[1m0s\u001b[0m 3ms/step - accuracy: 0.8987 - loss: 0.2808 - val_accuracy: 0.6700 - val_loss: 1.0849 - learning_rate: 0.0010\n",
            "Epoch 9/200\n",
            "\u001b[1m98/98\u001b[0m \u001b[32m━━━━━━━━━━━━━━━━━━━━\u001b[0m\u001b[37m\u001b[0m \u001b[1m0s\u001b[0m 3ms/step - accuracy: 0.8989 - loss: 0.2771 - val_accuracy: 0.6733 - val_loss: 1.0973 - learning_rate: 5.0000e-04\n",
            "Epoch 10/200\n",
            "\u001b[1m98/98\u001b[0m \u001b[32m━━━━━━━━━━━━━━━━━━━━\u001b[0m\u001b[37m\u001b[0m \u001b[1m0s\u001b[0m 3ms/step - accuracy: 0.9070 - loss: 0.2599 - val_accuracy: 0.6733 - val_loss: 1.1102 - learning_rate: 5.0000e-04\n",
            "Epoch 11/200\n",
            "\u001b[1m98/98\u001b[0m \u001b[32m━━━━━━━━━━━━━━━━━━━━\u001b[0m\u001b[37m\u001b[0m \u001b[1m0s\u001b[0m 3ms/step - accuracy: 0.9010 - loss: 0.2645 - val_accuracy: 0.6767 - val_loss: 1.1224 - learning_rate: 5.0000e-04\n",
            "Epoch 12/200\n",
            "\u001b[1m98/98\u001b[0m \u001b[32m━━━━━━━━━━━━━━━━━━━━\u001b[0m\u001b[37m\u001b[0m \u001b[1m0s\u001b[0m 3ms/step - accuracy: 0.9045 - loss: 0.2584 - val_accuracy: 0.6733 - val_loss: 1.1331 - learning_rate: 5.0000e-04\n",
            "Epoch 13/200\n",
            "\u001b[1m98/98\u001b[0m \u001b[32m━━━━━━━━━━━━━━━━━━━━\u001b[0m\u001b[37m\u001b[0m \u001b[1m0s\u001b[0m 3ms/step - accuracy: 0.9014 - loss: 0.2613 - val_accuracy: 0.6767 - val_loss: 1.1458 - learning_rate: 5.0000e-04\n",
            "Epoch 14/200\n",
            "\u001b[1m98/98\u001b[0m \u001b[32m━━━━━━━━━━━━━━━━━━━━\u001b[0m\u001b[37m\u001b[0m \u001b[1m0s\u001b[0m 3ms/step - accuracy: 0.9110 - loss: 0.2534 - val_accuracy: 0.6767 - val_loss: 1.1514 - learning_rate: 2.5000e-04\n",
            "Epoch 15/200\n",
            "\u001b[1m98/98\u001b[0m \u001b[32m━━━━━━━━━━━━━━━━━━━━\u001b[0m\u001b[37m\u001b[0m \u001b[1m1s\u001b[0m 3ms/step - accuracy: 0.9076 - loss: 0.2470 - val_accuracy: 0.6767 - val_loss: 1.1576 - learning_rate: 2.5000e-04\n",
            "Epoch 16/200\n",
            "\u001b[1m98/98\u001b[0m \u001b[32m━━━━━━━━━━━━━━━━━━━━\u001b[0m\u001b[37m\u001b[0m \u001b[1m1s\u001b[0m 3ms/step - accuracy: 0.9073 - loss: 0.2536 - val_accuracy: 0.6767 - val_loss: 1.1630 - learning_rate: 2.5000e-04\n",
            "Epoch 17/200\n",
            "\u001b[1m98/98\u001b[0m \u001b[32m━━━━━━━━━━━━━━━━━━━━\u001b[0m\u001b[37m\u001b[0m \u001b[1m0s\u001b[0m 3ms/step - accuracy: 0.9055 - loss: 0.2555 - val_accuracy: 0.6767 - val_loss: 1.1689 - learning_rate: 2.5000e-04\n",
            "Epoch 18/200\n",
            "\u001b[1m98/98\u001b[0m \u001b[32m━━━━━━━━━━━━━━━━━━━━\u001b[0m\u001b[37m\u001b[0m \u001b[1m0s\u001b[0m 3ms/step - accuracy: 0.9075 - loss: 0.2470 - val_accuracy: 0.6767 - val_loss: 1.1752 - learning_rate: 2.5000e-04\n",
            "Epoch 19/200\n",
            "\u001b[1m98/98\u001b[0m \u001b[32m━━━━━━━━━━━━━━━━━━━━\u001b[0m\u001b[37m\u001b[0m \u001b[1m1s\u001b[0m 3ms/step - accuracy: 0.9125 - loss: 0.2460 - val_accuracy: 0.6767 - val_loss: 1.1780 - learning_rate: 1.2500e-04\n",
            "Epoch 20/200\n",
            "\u001b[1m98/98\u001b[0m \u001b[32m━━━━━━━━━━━━━━━━━━━━\u001b[0m\u001b[37m\u001b[0m \u001b[1m0s\u001b[0m 3ms/step - accuracy: 0.9058 - loss: 0.2532 - val_accuracy: 0.6800 - val_loss: 1.1810 - learning_rate: 1.2500e-04\n",
            "Epoch 21/200\n",
            "\u001b[1m98/98\u001b[0m \u001b[32m━━━━━━━━━━━━━━━━━━━━\u001b[0m\u001b[37m\u001b[0m \u001b[1m0s\u001b[0m 3ms/step - accuracy: 0.9076 - loss: 0.2434 - val_accuracy: 0.6767 - val_loss: 1.1837 - learning_rate: 1.2500e-04\n",
            "Epoch 22/200\n",
            "\u001b[1m98/98\u001b[0m \u001b[32m━━━━━━━━━━━━━━━━━━━━\u001b[0m\u001b[37m\u001b[0m \u001b[1m0s\u001b[0m 3ms/step - accuracy: 0.9093 - loss: 0.2474 - val_accuracy: 0.6767 - val_loss: 1.1865 - learning_rate: 1.2500e-04\n",
            "Epoch 23/200\n",
            "\u001b[1m98/98\u001b[0m \u001b[32m━━━━━━━━━━━━━━━━━━━━\u001b[0m\u001b[37m\u001b[0m \u001b[1m0s\u001b[0m 3ms/step - accuracy: 0.9084 - loss: 0.2482 - val_accuracy: 0.6767 - val_loss: 1.1892 - learning_rate: 1.2500e-04\n",
            "Epoch 24/200\n",
            "\u001b[1m98/98\u001b[0m \u001b[32m━━━━━━━━━━━━━━━━━━━━\u001b[0m\u001b[37m\u001b[0m \u001b[1m0s\u001b[0m 3ms/step - accuracy: 0.9046 - loss: 0.2612 - val_accuracy: 0.6767 - val_loss: 1.1908 - learning_rate: 6.2500e-05\n",
            "Epoch 25/200\n",
            "\u001b[1m98/98\u001b[0m \u001b[32m━━━━━━━━━━━━━━━━━━━━\u001b[0m\u001b[37m\u001b[0m \u001b[1m0s\u001b[0m 3ms/step - accuracy: 0.9091 - loss: 0.2411 - val_accuracy: 0.6767 - val_loss: 1.1925 - learning_rate: 6.2500e-05\n",
            "Epoch 26/200\n",
            "\u001b[1m98/98\u001b[0m \u001b[32m━━━━━━━━━━━━━━━━━━━━\u001b[0m\u001b[37m\u001b[0m \u001b[1m0s\u001b[0m 3ms/step - accuracy: 0.9131 - loss: 0.2414 - val_accuracy: 0.6767 - val_loss: 1.1938 - learning_rate: 6.2500e-05\n"
          ]
        }
      ]
    },
    {
      "cell_type": "code",
      "source": [
        "# Prepare the data for the evaluation\n",
        "y_train_pred = model_description.predict(train_vectors)\n",
        "y_train_pred_classes = np.argmax(y_train_pred, axis=1)\n",
        "y_train_true_classes = np.argmax(train_labels_nn, axis=1)\n",
        "y_dev_pred = model_description.predict(dev_vectors)\n",
        "y_dev_pred_classes = np.argmax(y_dev_pred, axis=1)\n",
        "y_dev_true_classes = np.argmax(dev_labels_nn, axis=1)\n",
        "\n",
        "# Evaluation metrics\n",
        "train_accuracy = accuracy_score(y_train_true_classes, y_train_pred_classes)\n",
        "dev_accuracy = accuracy_score(y_dev_true_classes, y_dev_pred_classes)\n",
        "train_precision, train_recall, train_f1, _ = precision_recall_fscore_support(y_train_true_classes, y_train_pred_classes, average='weighted')\n",
        "dev_precision, dev_recall, dev_f1, _ = precision_recall_fscore_support(y_dev_true_classes, y_dev_pred_classes, average='weighted')\n",
        "\n",
        "# Print\n",
        "print(f\"Train accuracy : {train_accuracy * 100:.2f}%\")\n",
        "print(f\"Train precision: {train_precision * 100:.2f}%\")\n",
        "print(f\"Train recall   : {train_recall * 100:.2f}%\")\n",
        "print(f\"Train F1-score : {train_f1 * 100:.2f}%\")\n",
        "print(f\"Dev accuracy   : {dev_accuracy * 100:.2f}%\")\n",
        "print(f\"Dev precision  : {dev_precision * 100:.2f}%\")\n",
        "print(f\"Dev recall     : {dev_recall * 100:.2f}%\")\n",
        "print(f\"Dev F1-score   : {dev_f1 * 100:.2f}%\")"
      ],
      "metadata": {
        "outputId": "9cfb61eb-1120-496b-fdd6-a8a90aab25a6",
        "colab": {
          "base_uri": "https://localhost:8080/"
        },
        "id": "vWgigCP7em-D"
      },
      "execution_count": null,
      "outputs": [
        {
          "output_type": "stream",
          "name": "stdout",
          "text": [
            "\u001b[1m196/196\u001b[0m \u001b[32m━━━━━━━━━━━━━━━━━━━━\u001b[0m\u001b[37m\u001b[0m \u001b[1m0s\u001b[0m 2ms/step\n",
            "\u001b[1m10/10\u001b[0m \u001b[32m━━━━━━━━━━━━━━━━━━━━\u001b[0m\u001b[37m\u001b[0m \u001b[1m0s\u001b[0m 9ms/step\n",
            "Train accuracy : 90.15%\n",
            "Train precision: 90.29%\n",
            "Train recall   : 90.15%\n",
            "Train F1-score : 90.15%\n",
            "Dev accuracy   : 68.00%\n",
            "Dev precision  : 71.34%\n",
            "Dev recall     : 68.00%\n",
            "Dev F1-score   : 68.63%\n"
          ]
        }
      ]
    },
    {
      "cell_type": "markdown",
      "source": [
        "# Features model only"
      ],
      "metadata": {
        "id": "cF9vf9ARfFvR"
      }
    },
    {
      "cell_type": "code",
      "source": [
        "# Prepare the data\n",
        "train_labels = df_train_description['label']\n",
        "dev_labels = dev_df_description['label']\n",
        "\n",
        "train_labels_nn = to_categorical(train_labels, num_classes=3)\n",
        "dev_labels_nn = to_categorical(dev_labels, num_classes=3)\n",
        "\n",
        "train_vectors = logits_train_model_features\n",
        "dev_vectors = logits_dev_model_features\n",
        "\n",
        "# Build early stop and reduce lr condition\n",
        "early_stop = callbacks.EarlyStopping(monitor='val_accuracy', patience=20, restore_best_weights=True)\n",
        "reduce_lr = callbacks.ReduceLROnPlateau(monitor='val_loss', factor=0.5, patience=5)\n",
        "\n",
        "# Build and fit the model\n",
        "model_features = models.Sequential()\n",
        "\n",
        "model_features.add(layers.Input(shape=(3,), name='input_layer'))\n",
        "\n",
        "model_features.add(layers.Dense(3, activation='softmax'))\n",
        "\n",
        "model_features.compile(optimizer=Adam(learning_rate=1e-3),\n",
        "                       loss='categorical_crossentropy',\n",
        "                       metrics=['accuracy'])\n",
        "\n",
        "history = model_features.fit(\n",
        "    train_vectors, train_labels_nn,\n",
        "    validation_data=(dev_vectors, dev_labels_nn),\n",
        "    epochs=200,\n",
        "    batch_size=64,\n",
        "    callbacks=[early_stop, reduce_lr]\n",
        ")"
      ],
      "metadata": {
        "outputId": "f756cd84-4c53-465b-d71a-51efd6283d89",
        "colab": {
          "base_uri": "https://localhost:8080/"
        },
        "id": "0vGfv5EOfULN"
      },
      "execution_count": null,
      "outputs": [
        {
          "output_type": "stream",
          "name": "stdout",
          "text": [
            "Epoch 1/200\n",
            "\u001b[1m98/98\u001b[0m \u001b[32m━━━━━━━━━━━━━━━━━━━━\u001b[0m\u001b[37m\u001b[0m \u001b[1m4s\u001b[0m 21ms/step - accuracy: 0.1919 - loss: 1.9439 - val_accuracy: 0.3067 - val_loss: 1.5295 - learning_rate: 0.0010\n",
            "Epoch 2/200\n",
            "\u001b[1m98/98\u001b[0m \u001b[32m━━━━━━━━━━━━━━━━━━━━\u001b[0m\u001b[37m\u001b[0m \u001b[1m2s\u001b[0m 7ms/step - accuracy: 0.2610 - loss: 1.4772 - val_accuracy: 0.4333 - val_loss: 1.1933 - learning_rate: 0.0010\n",
            "Epoch 3/200\n",
            "\u001b[1m98/98\u001b[0m \u001b[32m━━━━━━━━━━━━━━━━━━━━\u001b[0m\u001b[37m\u001b[0m \u001b[1m1s\u001b[0m 3ms/step - accuracy: 0.3726 - loss: 1.1355 - val_accuracy: 0.5167 - val_loss: 0.9995 - learning_rate: 0.0010\n",
            "Epoch 4/200\n",
            "\u001b[1m98/98\u001b[0m \u001b[32m━━━━━━━━━━━━━━━━━━━━\u001b[0m\u001b[37m\u001b[0m \u001b[1m1s\u001b[0m 3ms/step - accuracy: 0.5124 - loss: 0.9467 - val_accuracy: 0.5667 - val_loss: 0.8863 - learning_rate: 0.0010\n",
            "Epoch 5/200\n",
            "\u001b[1m98/98\u001b[0m \u001b[32m━━━━━━━━━━━━━━━━━━━━\u001b[0m\u001b[37m\u001b[0m \u001b[1m0s\u001b[0m 3ms/step - accuracy: 0.6069 - loss: 0.8205 - val_accuracy: 0.6200 - val_loss: 0.8207 - learning_rate: 0.0010\n",
            "Epoch 6/200\n",
            "\u001b[1m98/98\u001b[0m \u001b[32m━━━━━━━━━━━━━━━━━━━━\u001b[0m\u001b[37m\u001b[0m \u001b[1m0s\u001b[0m 3ms/step - accuracy: 0.6863 - loss: 0.7512 - val_accuracy: 0.7033 - val_loss: 0.7805 - learning_rate: 0.0010\n",
            "Epoch 7/200\n",
            "\u001b[1m98/98\u001b[0m \u001b[32m━━━━━━━━━━━━━━━━━━━━\u001b[0m\u001b[37m\u001b[0m \u001b[1m0s\u001b[0m 3ms/step - accuracy: 0.7269 - loss: 0.7288 - val_accuracy: 0.7400 - val_loss: 0.7536 - learning_rate: 0.0010\n",
            "Epoch 8/200\n",
            "\u001b[1m98/98\u001b[0m \u001b[32m━━━━━━━━━━━━━━━━━━━━\u001b[0m\u001b[37m\u001b[0m \u001b[1m0s\u001b[0m 3ms/step - accuracy: 0.7514 - loss: 0.6756 - val_accuracy: 0.7533 - val_loss: 0.7347 - learning_rate: 0.0010\n",
            "Epoch 9/200\n",
            "\u001b[1m98/98\u001b[0m \u001b[32m━━━━━━━━━━━━━━━━━━━━\u001b[0m\u001b[37m\u001b[0m \u001b[1m1s\u001b[0m 3ms/step - accuracy: 0.7516 - loss: 0.6589 - val_accuracy: 0.7567 - val_loss: 0.7205 - learning_rate: 0.0010\n",
            "Epoch 10/200\n",
            "\u001b[1m98/98\u001b[0m \u001b[32m━━━━━━━━━━━━━━━━━━━━\u001b[0m\u001b[37m\u001b[0m \u001b[1m1s\u001b[0m 3ms/step - accuracy: 0.7520 - loss: 0.6538 - val_accuracy: 0.7567 - val_loss: 0.7088 - learning_rate: 0.0010\n",
            "Epoch 11/200\n",
            "\u001b[1m98/98\u001b[0m \u001b[32m━━━━━━━━━━━━━━━━━━━━\u001b[0m\u001b[37m\u001b[0m \u001b[1m1s\u001b[0m 3ms/step - accuracy: 0.7600 - loss: 0.6359 - val_accuracy: 0.7533 - val_loss: 0.6989 - learning_rate: 0.0010\n",
            "Epoch 12/200\n",
            "\u001b[1m98/98\u001b[0m \u001b[32m━━━━━━━━━━━━━━━━━━━━\u001b[0m\u001b[37m\u001b[0m \u001b[1m0s\u001b[0m 3ms/step - accuracy: 0.7568 - loss: 0.6300 - val_accuracy: 0.7500 - val_loss: 0.6900 - learning_rate: 0.0010\n",
            "Epoch 13/200\n",
            "\u001b[1m98/98\u001b[0m \u001b[32m━━━━━━━━━━━━━━━━━━━━\u001b[0m\u001b[37m\u001b[0m \u001b[1m0s\u001b[0m 3ms/step - accuracy: 0.7666 - loss: 0.6059 - val_accuracy: 0.7567 - val_loss: 0.6819 - learning_rate: 0.0010\n",
            "Epoch 14/200\n",
            "\u001b[1m98/98\u001b[0m \u001b[32m━━━━━━━━━━━━━━━━━━━━\u001b[0m\u001b[37m\u001b[0m \u001b[1m0s\u001b[0m 3ms/step - accuracy: 0.7586 - loss: 0.6121 - val_accuracy: 0.7600 - val_loss: 0.6745 - learning_rate: 0.0010\n",
            "Epoch 15/200\n",
            "\u001b[1m98/98\u001b[0m \u001b[32m━━━━━━━━━━━━━━━━━━━━\u001b[0m\u001b[37m\u001b[0m \u001b[1m0s\u001b[0m 3ms/step - accuracy: 0.7738 - loss: 0.5983 - val_accuracy: 0.7533 - val_loss: 0.6679 - learning_rate: 0.0010\n",
            "Epoch 16/200\n",
            "\u001b[1m98/98\u001b[0m \u001b[32m━━━━━━━━━━━━━━━━━━━━\u001b[0m\u001b[37m\u001b[0m \u001b[1m1s\u001b[0m 4ms/step - accuracy: 0.7684 - loss: 0.5931 - val_accuracy: 0.7567 - val_loss: 0.6610 - learning_rate: 0.0010\n",
            "Epoch 17/200\n",
            "\u001b[1m98/98\u001b[0m \u001b[32m━━━━━━━━━━━━━━━━━━━━\u001b[0m\u001b[37m\u001b[0m \u001b[1m0s\u001b[0m 4ms/step - accuracy: 0.7795 - loss: 0.5783 - val_accuracy: 0.7567 - val_loss: 0.6552 - learning_rate: 0.0010\n",
            "Epoch 18/200\n",
            "\u001b[1m98/98\u001b[0m \u001b[32m━━━━━━━━━━━━━━━━━━━━\u001b[0m\u001b[37m\u001b[0m \u001b[1m1s\u001b[0m 4ms/step - accuracy: 0.7691 - loss: 0.5876 - val_accuracy: 0.7567 - val_loss: 0.6498 - learning_rate: 0.0010\n",
            "Epoch 19/200\n",
            "\u001b[1m98/98\u001b[0m \u001b[32m━━━━━━━━━━━━━━━━━━━━\u001b[0m\u001b[37m\u001b[0m \u001b[1m0s\u001b[0m 3ms/step - accuracy: 0.7668 - loss: 0.5969 - val_accuracy: 0.7567 - val_loss: 0.6449 - learning_rate: 0.0010\n",
            "Epoch 20/200\n",
            "\u001b[1m98/98\u001b[0m \u001b[32m━━━━━━━━━━━━━━━━━━━━\u001b[0m\u001b[37m\u001b[0m \u001b[1m0s\u001b[0m 3ms/step - accuracy: 0.7643 - loss: 0.5859 - val_accuracy: 0.7600 - val_loss: 0.6406 - learning_rate: 0.0010\n",
            "Epoch 21/200\n",
            "\u001b[1m98/98\u001b[0m \u001b[32m━━━━━━━━━━━━━━━━━━━━\u001b[0m\u001b[37m\u001b[0m \u001b[1m1s\u001b[0m 3ms/step - accuracy: 0.7739 - loss: 0.5732 - val_accuracy: 0.7600 - val_loss: 0.6369 - learning_rate: 0.0010\n",
            "Epoch 22/200\n",
            "\u001b[1m98/98\u001b[0m \u001b[32m━━━━━━━━━━━━━━━━━━━━\u001b[0m\u001b[37m\u001b[0m \u001b[1m1s\u001b[0m 3ms/step - accuracy: 0.7741 - loss: 0.5748 - val_accuracy: 0.7567 - val_loss: 0.6336 - learning_rate: 0.0010\n",
            "Epoch 23/200\n",
            "\u001b[1m98/98\u001b[0m \u001b[32m━━━━━━━━━━━━━━━━━━━━\u001b[0m\u001b[37m\u001b[0m \u001b[1m1s\u001b[0m 3ms/step - accuracy: 0.7762 - loss: 0.5609 - val_accuracy: 0.7567 - val_loss: 0.6301 - learning_rate: 0.0010\n",
            "Epoch 24/200\n",
            "\u001b[1m98/98\u001b[0m \u001b[32m━━━━━━━━━━━━━━━━━━━━\u001b[0m\u001b[37m\u001b[0m \u001b[1m0s\u001b[0m 3ms/step - accuracy: 0.7697 - loss: 0.5719 - val_accuracy: 0.7567 - val_loss: 0.6273 - learning_rate: 0.0010\n",
            "Epoch 25/200\n",
            "\u001b[1m98/98\u001b[0m \u001b[32m━━━━━━━━━━━━━━━━━━━━\u001b[0m\u001b[37m\u001b[0m \u001b[1m1s\u001b[0m 3ms/step - accuracy: 0.7716 - loss: 0.5722 - val_accuracy: 0.7567 - val_loss: 0.6251 - learning_rate: 0.0010\n",
            "Epoch 26/200\n",
            "\u001b[1m98/98\u001b[0m \u001b[32m━━━━━━━━━━━━━━━━━━━━\u001b[0m\u001b[37m\u001b[0m \u001b[1m0s\u001b[0m 3ms/step - accuracy: 0.7748 - loss: 0.5647 - val_accuracy: 0.7600 - val_loss: 0.6227 - learning_rate: 0.0010\n",
            "Epoch 27/200\n",
            "\u001b[1m98/98\u001b[0m \u001b[32m━━━━━━━━━━━━━━━━━━━━\u001b[0m\u001b[37m\u001b[0m \u001b[1m1s\u001b[0m 3ms/step - accuracy: 0.7782 - loss: 0.5594 - val_accuracy: 0.7600 - val_loss: 0.6215 - learning_rate: 0.0010\n",
            "Epoch 28/200\n",
            "\u001b[1m98/98\u001b[0m \u001b[32m━━━━━━━━━━━━━━━━━━━━\u001b[0m\u001b[37m\u001b[0m \u001b[1m1s\u001b[0m 3ms/step - accuracy: 0.7826 - loss: 0.5458 - val_accuracy: 0.7633 - val_loss: 0.6197 - learning_rate: 0.0010\n",
            "Epoch 29/200\n",
            "\u001b[1m98/98\u001b[0m \u001b[32m━━━━━━━━━━━━━━━━━━━━\u001b[0m\u001b[37m\u001b[0m \u001b[1m1s\u001b[0m 3ms/step - accuracy: 0.7759 - loss: 0.5624 - val_accuracy: 0.7633 - val_loss: 0.6183 - learning_rate: 0.0010\n",
            "Epoch 30/200\n",
            "\u001b[1m98/98\u001b[0m \u001b[32m━━━━━━━━━━━━━━━━━━━━\u001b[0m\u001b[37m\u001b[0m \u001b[1m1s\u001b[0m 3ms/step - accuracy: 0.7743 - loss: 0.5595 - val_accuracy: 0.7633 - val_loss: 0.6178 - learning_rate: 0.0010\n",
            "Epoch 31/200\n",
            "\u001b[1m98/98\u001b[0m \u001b[32m━━━━━━━━━━━━━━━━━━━━\u001b[0m\u001b[37m\u001b[0m \u001b[1m1s\u001b[0m 3ms/step - accuracy: 0.7777 - loss: 0.5486 - val_accuracy: 0.7633 - val_loss: 0.6169 - learning_rate: 0.0010\n",
            "Epoch 32/200\n",
            "\u001b[1m98/98\u001b[0m \u001b[32m━━━━━━━━━━━━━━━━━━━━\u001b[0m\u001b[37m\u001b[0m \u001b[1m1s\u001b[0m 3ms/step - accuracy: 0.7820 - loss: 0.5457 - val_accuracy: 0.7633 - val_loss: 0.6160 - learning_rate: 0.0010\n",
            "Epoch 33/200\n",
            "\u001b[1m98/98\u001b[0m \u001b[32m━━━━━━━━━━━━━━━━━━━━\u001b[0m\u001b[37m\u001b[0m \u001b[1m1s\u001b[0m 3ms/step - accuracy: 0.7797 - loss: 0.5535 - val_accuracy: 0.7667 - val_loss: 0.6154 - learning_rate: 0.0010\n",
            "Epoch 34/200\n",
            "\u001b[1m98/98\u001b[0m \u001b[32m━━━━━━━━━━━━━━━━━━━━\u001b[0m\u001b[37m\u001b[0m \u001b[1m0s\u001b[0m 3ms/step - accuracy: 0.7693 - loss: 0.5583 - val_accuracy: 0.7667 - val_loss: 0.6155 - learning_rate: 0.0010\n",
            "Epoch 35/200\n",
            "\u001b[1m98/98\u001b[0m \u001b[32m━━━━━━━━━━━━━━━━━━━━\u001b[0m\u001b[37m\u001b[0m \u001b[1m1s\u001b[0m 3ms/step - accuracy: 0.7807 - loss: 0.5415 - val_accuracy: 0.7667 - val_loss: 0.6156 - learning_rate: 0.0010\n",
            "Epoch 36/200\n",
            "\u001b[1m98/98\u001b[0m \u001b[32m━━━━━━━━━━━━━━━━━━━━\u001b[0m\u001b[37m\u001b[0m \u001b[1m1s\u001b[0m 3ms/step - accuracy: 0.7762 - loss: 0.5399 - val_accuracy: 0.7667 - val_loss: 0.6151 - learning_rate: 0.0010\n",
            "Epoch 37/200\n",
            "\u001b[1m98/98\u001b[0m \u001b[32m━━━━━━━━━━━━━━━━━━━━\u001b[0m\u001b[37m\u001b[0m \u001b[1m0s\u001b[0m 4ms/step - accuracy: 0.7777 - loss: 0.5453 - val_accuracy: 0.7667 - val_loss: 0.6151 - learning_rate: 0.0010\n",
            "Epoch 38/200\n",
            "\u001b[1m98/98\u001b[0m \u001b[32m━━━━━━━━━━━━━━━━━━━━\u001b[0m\u001b[37m\u001b[0m \u001b[1m0s\u001b[0m 4ms/step - accuracy: 0.7714 - loss: 0.5575 - val_accuracy: 0.7667 - val_loss: 0.6154 - learning_rate: 0.0010\n",
            "Epoch 39/200\n",
            "\u001b[1m98/98\u001b[0m \u001b[32m━━━━━━━━━━━━━━━━━━━━\u001b[0m\u001b[37m\u001b[0m \u001b[1m0s\u001b[0m 4ms/step - accuracy: 0.7753 - loss: 0.5508 - val_accuracy: 0.7667 - val_loss: 0.6157 - learning_rate: 0.0010\n",
            "Epoch 40/200\n",
            "\u001b[1m98/98\u001b[0m \u001b[32m━━━━━━━━━━━━━━━━━━━━\u001b[0m\u001b[37m\u001b[0m \u001b[1m0s\u001b[0m 4ms/step - accuracy: 0.7749 - loss: 0.5351 - val_accuracy: 0.7667 - val_loss: 0.6162 - learning_rate: 0.0010\n",
            "Epoch 41/200\n",
            "\u001b[1m98/98\u001b[0m \u001b[32m━━━━━━━━━━━━━━━━━━━━\u001b[0m\u001b[37m\u001b[0m \u001b[1m0s\u001b[0m 5ms/step - accuracy: 0.7691 - loss: 0.5537 - val_accuracy: 0.7667 - val_loss: 0.6162 - learning_rate: 0.0010\n",
            "Epoch 42/200\n",
            "\u001b[1m98/98\u001b[0m \u001b[32m━━━━━━━━━━━━━━━━━━━━\u001b[0m\u001b[37m\u001b[0m \u001b[1m0s\u001b[0m 3ms/step - accuracy: 0.7663 - loss: 0.5627 - val_accuracy: 0.7667 - val_loss: 0.6165 - learning_rate: 5.0000e-04\n",
            "Epoch 43/200\n",
            "\u001b[1m98/98\u001b[0m \u001b[32m━━━━━━━━━━━━━━━━━━━━\u001b[0m\u001b[37m\u001b[0m \u001b[1m1s\u001b[0m 3ms/step - accuracy: 0.7647 - loss: 0.5623 - val_accuracy: 0.7633 - val_loss: 0.6166 - learning_rate: 5.0000e-04\n",
            "Epoch 44/200\n",
            "\u001b[1m98/98\u001b[0m \u001b[32m━━━━━━━━━━━━━━━━━━━━\u001b[0m\u001b[37m\u001b[0m \u001b[1m0s\u001b[0m 3ms/step - accuracy: 0.7742 - loss: 0.5441 - val_accuracy: 0.7633 - val_loss: 0.6171 - learning_rate: 5.0000e-04\n",
            "Epoch 45/200\n",
            "\u001b[1m98/98\u001b[0m \u001b[32m━━━━━━━━━━━━━━━━━━━━\u001b[0m\u001b[37m\u001b[0m \u001b[1m0s\u001b[0m 3ms/step - accuracy: 0.7768 - loss: 0.5551 - val_accuracy: 0.7633 - val_loss: 0.6173 - learning_rate: 5.0000e-04\n",
            "Epoch 46/200\n",
            "\u001b[1m98/98\u001b[0m \u001b[32m━━━━━━━━━━━━━━━━━━━━\u001b[0m\u001b[37m\u001b[0m \u001b[1m0s\u001b[0m 3ms/step - accuracy: 0.7749 - loss: 0.5539 - val_accuracy: 0.7633 - val_loss: 0.6175 - learning_rate: 5.0000e-04\n",
            "Epoch 47/200\n",
            "\u001b[1m98/98\u001b[0m \u001b[32m━━━━━━━━━━━━━━━━━━━━\u001b[0m\u001b[37m\u001b[0m \u001b[1m0s\u001b[0m 3ms/step - accuracy: 0.7721 - loss: 0.5511 - val_accuracy: 0.7633 - val_loss: 0.6176 - learning_rate: 2.5000e-04\n",
            "Epoch 48/200\n",
            "\u001b[1m98/98\u001b[0m \u001b[32m━━━━━━━━━━━━━━━━━━━━\u001b[0m\u001b[37m\u001b[0m \u001b[1m1s\u001b[0m 3ms/step - accuracy: 0.7732 - loss: 0.5503 - val_accuracy: 0.7633 - val_loss: 0.6176 - learning_rate: 2.5000e-04\n",
            "Epoch 49/200\n",
            "\u001b[1m98/98\u001b[0m \u001b[32m━━━━━━━━━━━━━━━━━━━━\u001b[0m\u001b[37m\u001b[0m \u001b[1m1s\u001b[0m 3ms/step - accuracy: 0.7751 - loss: 0.5360 - val_accuracy: 0.7633 - val_loss: 0.6178 - learning_rate: 2.5000e-04\n",
            "Epoch 50/200\n",
            "\u001b[1m98/98\u001b[0m \u001b[32m━━━━━━━━━━━━━━━━━━━━\u001b[0m\u001b[37m\u001b[0m \u001b[1m1s\u001b[0m 3ms/step - accuracy: 0.7701 - loss: 0.5566 - val_accuracy: 0.7633 - val_loss: 0.6180 - learning_rate: 2.5000e-04\n",
            "Epoch 51/200\n",
            "\u001b[1m98/98\u001b[0m \u001b[32m━━━━━━━━━━━━━━━━━━━━\u001b[0m\u001b[37m\u001b[0m \u001b[1m0s\u001b[0m 3ms/step - accuracy: 0.7691 - loss: 0.5598 - val_accuracy: 0.7600 - val_loss: 0.6180 - learning_rate: 2.5000e-04\n",
            "Epoch 52/200\n",
            "\u001b[1m98/98\u001b[0m \u001b[32m━━━━━━━━━━━━━━━━━━━━\u001b[0m\u001b[37m\u001b[0m \u001b[1m0s\u001b[0m 3ms/step - accuracy: 0.7676 - loss: 0.5544 - val_accuracy: 0.7600 - val_loss: 0.6181 - learning_rate: 1.2500e-04\n",
            "Epoch 53/200\n",
            "\u001b[1m98/98\u001b[0m \u001b[32m━━━━━━━━━━━━━━━━━━━━\u001b[0m\u001b[37m\u001b[0m \u001b[1m1s\u001b[0m 3ms/step - accuracy: 0.7752 - loss: 0.5560 - val_accuracy: 0.7600 - val_loss: 0.6181 - learning_rate: 1.2500e-04\n"
          ]
        }
      ]
    },
    {
      "cell_type": "code",
      "source": [
        "y_train_pred = model_features.predict(train_vectors)\n",
        "y_train_pred_classes = np.argmax(y_train_pred, axis=1)\n",
        "y_train_true_classes = np.argmax(train_labels_nn, axis=1)\n",
        "y_dev_pred = model_features.predict(dev_vectors)\n",
        "y_dev_pred_classes = np.argmax(y_dev_pred, axis=1)\n",
        "y_dev_true_classes = np.argmax(dev_labels_nn, axis=1)\n",
        "\n",
        "# Evaluation metrics\n",
        "train_accuracy = accuracy_score(y_train_true_classes, y_train_pred_classes)\n",
        "dev_accuracy = accuracy_score(y_dev_true_classes, y_dev_pred_classes)\n",
        "train_precision, train_recall, train_f1, _ = precision_recall_fscore_support(y_train_true_classes, y_train_pred_classes, average='weighted')\n",
        "dev_precision, dev_recall, dev_f1, _ = precision_recall_fscore_support(y_dev_true_classes, y_dev_pred_classes, average='weighted')\n",
        "\n",
        "# Print\n",
        "print(f\"Train accuracy : {train_accuracy * 100:.2f}%\")\n",
        "print(f\"Train precision: {train_precision * 100:.2f}%\")\n",
        "print(f\"Train recall   : {train_recall * 100:.2f}%\")\n",
        "print(f\"Train F1-score : {train_f1 * 100:.2f}%\")\n",
        "print(f\"Dev accuracy   : {dev_accuracy * 100:.2f}%\")\n",
        "print(f\"Dev precision  : {dev_precision * 100:.2f}%\")\n",
        "print(f\"Dev recall     : {dev_recall * 100:.2f}%\")\n",
        "print(f\"Dev F1-score   : {dev_f1 * 100:.2f}%\")"
      ],
      "metadata": {
        "id": "DhTKYcAFfULQ",
        "outputId": "9b57280b-4cc1-468e-a03e-3d632aaa1bef",
        "colab": {
          "base_uri": "https://localhost:8080/"
        }
      },
      "execution_count": null,
      "outputs": [
        {
          "output_type": "stream",
          "name": "stdout",
          "text": [
            "\u001b[1m196/196\u001b[0m \u001b[32m━━━━━━━━━━━━━━━━━━━━\u001b[0m\u001b[37m\u001b[0m \u001b[1m0s\u001b[0m 2ms/step\n",
            "\u001b[1m10/10\u001b[0m \u001b[32m━━━━━━━━━━━━━━━━━━━━\u001b[0m\u001b[37m\u001b[0m \u001b[1m0s\u001b[0m 9ms/step\n",
            "Train accuracy : 77.38%\n",
            "Train precision: 76.98%\n",
            "Train recall   : 77.38%\n",
            "Train F1-score : 76.92%\n",
            "Dev accuracy   : 76.67%\n",
            "Dev precision  : 76.47%\n",
            "Dev recall     : 76.67%\n",
            "Dev F1-score   : 76.22%\n"
          ]
        }
      ]
    },
    {
      "cell_type": "markdown",
      "source": [
        "# The justification behind the ensemble model\n",
        "Here we wuld like to check, whether usage of the ensemble model is anyhow justified. We will check if the best model - feature model,  dominates all the other models on the validation set, meaning all mistakes it does would be also done be the weaker models. Because if so, incorporation of the weaker models could not potentially bring  any benefit over staying with the strongest predictor - feature model. But otherwise, it might be usefull to combine all of these into an ensemble."
      ],
      "metadata": {
        "id": "RaC3zNwzIvUv"
      }
    },
    {
      "cell_type": "code",
      "source": [
        "#features model\n",
        "predictions_features =  model_features.predict(logits_dev_model_features)\n",
        "features_classes = np.argmax(predictions_features, axis=1)\n",
        "\n",
        "#description model\n",
        "predictions_description = model_description.predict(logits_dev_model_descriptions)\n",
        "description_classes = np.argmax(predictions_description, axis=1)\n",
        "\n",
        "#cnn model\n",
        "predictions_cnn = model_photos.predict(logits_dev_model_photos)\n",
        "photos_classes = np.argmax(predictions_cnn,axis=1)\n",
        "\n",
        "\n",
        "# true classes\n",
        "true_classes = np.argmax(dev_labels_nn, axis=1)"
      ],
      "metadata": {
        "id": "hLRVgQmTJK_j",
        "outputId": "ebab2a74-7200-4b2a-9e1e-8bdb1f2dcbf4",
        "colab": {
          "base_uri": "https://localhost:8080/"
        }
      },
      "execution_count": null,
      "outputs": [
        {
          "output_type": "stream",
          "name": "stdout",
          "text": [
            "\u001b[1m10/10\u001b[0m \u001b[32m━━━━━━━━━━━━━━━━━━━━\u001b[0m\u001b[37m\u001b[0m \u001b[1m0s\u001b[0m 3ms/step \n",
            "\u001b[1m10/10\u001b[0m \u001b[32m━━━━━━━━━━━━━━━━━━━━\u001b[0m\u001b[37m\u001b[0m \u001b[1m0s\u001b[0m 3ms/step \n",
            "\u001b[1m10/10\u001b[0m \u001b[32m━━━━━━━━━━━━━━━━━━━━\u001b[0m\u001b[37m\u001b[0m \u001b[1m0s\u001b[0m 3ms/step \n"
          ]
        }
      ]
    },
    {
      "cell_type": "code",
      "source": [
        "features_not_description = len(np.where((features_classes == true_classes) & (description_classes != true_classes))[0])\n",
        "description_not_features = len(np.where((features_classes != true_classes) & (description_classes == true_classes))[0])\n",
        "features_not_cnn = len(np.where((features_classes == true_classes) & (photos_classes != true_classes))[0])\n",
        "cnn_not_features = len(np.where((features_classes != true_classes) & (photos_classes == true_classes))[0])\n",
        "description_not_cnn = len(np.where((description_classes == true_classes) & (photos_classes != true_classes))[0])\n",
        "cnn_not_description = len(np.where((description_classes != true_classes) & (photos_classes == true_classes))[0])\n",
        "\n",
        "\n"
      ],
      "metadata": {
        "id": "Y_MoL75EKwpZ"
      },
      "execution_count": null,
      "outputs": []
    },
    {
      "cell_type": "code",
      "source": [
        "disagreement_matrix = [\n",
        "    [0, features_not_description, features_not_cnn],\n",
        "    [description_not_features, 0, description_not_cnn],\n",
        "    [cnn_not_features, cnn_not_description, 0]\n",
        "]\n",
        "\n",
        "\n",
        "\n",
        "names = ['features', 'description', 'CNN']\n",
        "\n",
        "plt.figure(figsize=(6,6))\n",
        "sns.heatmap(disagreement_matrix, annot=True, fmt=\"d\", cmap=\"Reds\", cbar=False)\n",
        "plt.title(\"Disagreement Matrix on the proper predictions\")\n",
        "plt.ylabel(\"Model that was right - rows\")\n",
        "plt.xlabel(\"Model that was wrong - columns\")\n",
        "plt.xticks([0,1,2],names)\n",
        "plt.yticks([0,1,2],names)\n",
        "plt.tight_layout()\n",
        "plt.savefig('disagreement.png')\n",
        "plt.show()\n"
      ],
      "metadata": {
        "id": "t57SFI3hL3zX",
        "outputId": "d859e1bf-1d89-4968-8c48-80093fa8bc51",
        "colab": {
          "base_uri": "https://localhost:8080/",
          "height": 607
        }
      },
      "execution_count": null,
      "outputs": [
        {
          "output_type": "display_data",
          "data": {
            "text/plain": [
              "<Figure size 600x600 with 1 Axes>"
            ],
            "image/png": "[encoded data removed]"
          },
          "metadata": {}
        }
      ]
    },
    {
      "cell_type": "markdown",
      "source": [
        "# analysis by the class on the validation set"
      ],
      "metadata": {
        "id": "C1VEXz1DRG3P"
      }
    },
    {
      "cell_type": "code",
      "source": [
        "exclusive = dev_df['label'] == 'cultural exclusive'\n",
        "representative = dev_df['label'] == 'cultural representative'\n",
        "agnostic = dev_df['label'] == 'cultural agnostic'\n",
        "\n",
        "dict_mapping_classes = {\n",
        "    'cultural agnostic': agnostic,\n",
        "    'cultural exclusive' : exclusive,\n",
        "    'cultural representative' : representative\n",
        "}\n"
      ],
      "metadata": {
        "id": "JCRBqh7-SobO"
      },
      "execution_count": null,
      "outputs": []
    },
    {
      "cell_type": "code",
      "source": [
        "labels = ['cultural exclusive', 'cultural representative','cultural agnostic']\n",
        "\n",
        "\n",
        "features_classes_temp = features_classes.copy()\n",
        "description_classes_temp = description_classes.copy()\n",
        "photos_classes_temp = photos_classes.copy()\n",
        "\n",
        "for indx, element in enumerate(labels):\n",
        "\n",
        "\n",
        "    features_not_description =np.where((features_classes == true_classes) & (description_classes != true_classes))[0]\n",
        "    description_not_features = np.where((features_classes != true_classes) & (description_classes == true_classes))[0]\n",
        "    features_not_cnn = np.where((features_classes == true_classes) & (photos_classes != true_classes))[0]\n",
        "    cnn_not_features = np.where((features_classes != true_classes) & (photos_classes == true_classes))[0]\n",
        "    description_not_cnn = np.where((description_classes == true_classes) & (photos_classes != true_classes))[0]\n",
        "    cnn_not_description = np.where((description_classes != true_classes) & (photos_classes == true_classes))[0]\n",
        "\n",
        "\n",
        "    disagreement_matrix = [\n",
        "        [0, features_not_description, features_not_cnn],\n",
        "        [description_not_features, 0, description_not_cnn],\n",
        "        [cnn_not_features, cnn_not_description, 0]\n",
        "    ]\n",
        "    for i in range(len(disagreement_matrix)):\n",
        "      for j in range(len(disagreement_matrix[0])):\n",
        "        if i ==j:\n",
        "          continue\n",
        "\n",
        "        disagreement_matrix[i][j] = np.intersect1d(disagreement_matrix[i][j], np.where(dict_mapping_classes[element])[0])\n",
        "        disagreement_matrix[i][j] = len(disagreement_matrix[i][j])\n",
        "\n",
        "\n",
        "\n",
        "\n",
        "    names = ['features', 'description', 'CNN']\n",
        "\n",
        "    plt.figure(figsize=(6,6))\n",
        "    sns.heatmap(disagreement_matrix, annot=True, fmt=\"d\", cmap=\"Reds\", cbar=False)\n",
        "    plt.title(f\"Disagreement Matrix on the proper predictions,\\n class: {element}\")\n",
        "    plt.ylabel(\"Model that was right - rows\")\n",
        "    plt.xlabel(\"Model that was wrong - columns\")\n",
        "    plt.xticks([0,1,2],names)\n",
        "    plt.yticks([0,1,2],names)\n",
        "    plt.tight_layout()\n",
        "    plt.savefig(f'disagreemennt_class_{element}.png')\n",
        "    plt.show()"
      ],
      "metadata": {
        "id": "qyZOoeKfRFZR",
        "outputId": "9c22da2a-eb13-4917-89b6-d144326bea8d",
        "colab": {
          "base_uri": "https://localhost:8080/",
          "height": 1000
        }
      },
      "execution_count": null,
      "outputs": [
        {
          "output_type": "display_data",
          "data": {
            "text/plain": [
              "<Figure size 600x600 with 1 Axes>"
            ],
            "image/png": "[encoded data removed]"
          },
          "metadata": {}
        },
        {
          "output_type": "display_data",
          "data": {
            "text/plain": [
              "<Figure size 600x600 with 1 Axes>"
            ],
            "image/png": "[encoded data removed]"
          },
          "metadata": {}
        },
        {
          "output_type": "display_data",
          "data": {
            "text/plain": [
              "<Figure size 600x600 with 1 Axes>"
            ],
            "image/png": "[encoded data removed]"
          },
          "metadata": {}
        }
      ]
    },
    {
      "cell_type": "markdown",
      "source": [
        "# Conclusions\n",
        "\n",
        "It is clearly visible that none of the models dominates any other since there are no 0  in disagreement matrix apart from the diagonals. Therefore the usage of the ensemble with all 3 models could potentially prove beneficial to the performance of the cultural entity classification system."
      ],
      "metadata": {
        "id": "M4XjryU8ia_b"
      }
    }
  ]
}