{
  "nbformat": 4,
  "nbformat_minor": 0,
  "metadata": {
    "colab": {
      "provenance": [],
      "gpuType": "T4",
      "include_colab_link": true
    },
    "kernelspec": {
      "name": "python3",
      "display_name": "Python 3"
    },
    "language_info": {
      "name": "python"
    },
    "accelerator": "GPU"
  },
  "cells": [
    {
      "cell_type": "markdown",
      "metadata": {
        "id": "view-in-github",
        "colab_type": "text"
      },
      "source": [
        "<a href=\"https://colab.research.google.com/github/miczkejedrzej/MNLP-project-1/blob/main/Modelisation_NN.ipynb\" target=\"_parent\"><img src=\"https://colab.research.google.com/assets/colab-badge.svg\" alt=\"Open In Colab\"/></a>"
      ]
    },
    {
      "cell_type": "markdown",
      "source": [
        "# Modelization - Neural network based on the extracted features\n",
        "\n",
        "In this notebook we will teach the neural network based on the features we have extracted from the wikidata and wikipedia.\n",
        "We will try a neural network model"
      ],
      "metadata": {
        "id": "SPqNN6HfglJA"
      }
    },
    {
      "cell_type": "code",
      "execution_count": 1,
      "metadata": {
        "id": "YZSRucX6c70p",
        "colab": {
          "base_uri": "https://localhost:8080/",
          "height": 108
        },
        "outputId": "625dc6f8-b2eb-44ed-9b48-f480c8375d5c"
      },
      "outputs": [
        {
          "output_type": "display_data",
          "data": {
            "text/plain": [
              "<IPython.core.display.HTML object>"
            ],
            "text/html": [
              "\n",
              "     <input type=\"file\" id=\"files-4448afd2-49d3-4048-8e73-87f048c85767\" name=\"files[]\" multiple disabled\n",
              "        style=\"border:none\" />\n",
              "     <output id=\"result-4448afd2-49d3-4048-8e73-87f048c85767\">\n",
              "      Upload widget is only available when the cell has been executed in the\n",
              "      current browser session. Please rerun this cell to enable.\n",
              "      </output>\n",
              "      <script>// Copyright 2017 Google LLC\n",
              "//\n",
              "// Licensed under the Apache License, Version 2.0 (the \"License\");\n",
              "// you may not use this file except in compliance with the License.\n",
              "// You may obtain a copy of the License at\n",
              "//\n",
              "//      http://www.apache.org/licenses/LICENSE-2.0\n",
              "//\n",
              "// Unless required by applicable law or agreed to in writing, software\n",
              "// distributed under the License is distributed on an \"AS IS\" BASIS,\n",
              "// WITHOUT WARRANTIES OR CONDITIONS OF ANY KIND, either express or implied.\n",
              "// See the License for the specific language governing permissions and\n",
              "// limitations under the License.\n",
              "\n",
              "/**\n",
              " * @fileoverview Helpers for google.colab Python module.\n",
              " */\n",
              "(function(scope) {\n",
              "function span(text, styleAttributes = {}) {\n",
              "  const element = document.createElement('span');\n",
              "  element.textContent = text;\n",
              "  for (const key of Object.keys(styleAttributes)) {\n",
              "    element.style[key] = styleAttributes[key];\n",
              "  }\n",
              "  return element;\n",
              "}\n",
              "\n",
              "// Max number of bytes which will be uploaded at a time.\n",
              "const MAX_PAYLOAD_SIZE = 100 * 1024;\n",
              "\n",
              "function _uploadFiles(inputId, outputId) {\n",
              "  const steps = uploadFilesStep(inputId, outputId);\n",
              "  const outputElement = document.getElementById(outputId);\n",
              "  // Cache steps on the outputElement to make it available for the next call\n",
              "  // to uploadFilesContinue from Python.\n",
              "  outputElement.steps = steps;\n",
              "\n",
              "  return _uploadFilesContinue(outputId);\n",
              "}\n",
              "\n",
              "// This is roughly an async generator (not supported in the browser yet),\n",
              "// where there are multiple asynchronous steps and the Python side is going\n",
              "// to poll for completion of each step.\n",
              "// This uses a Promise to block the python side on completion of each step,\n",
              "// then passes the result of the previous step as the input to the next step.\n",
              "function _uploadFilesContinue(outputId) {\n",
              "  const outputElement = document.getElementById(outputId);\n",
              "  const steps = outputElement.steps;\n",
              "\n",
              "  const next = steps.next(outputElement.lastPromiseValue);\n",
              "  return Promise.resolve(next.value.promise).then((value) => {\n",
              "    // Cache the last promise value to make it available to the next\n",
              "    // step of the generator.\n",
              "    outputElement.lastPromiseValue = value;\n",
              "    return next.value.response;\n",
              "  });\n",
              "}\n",
              "\n",
              "/**\n",
              " * Generator function which is called between each async step of the upload\n",
              " * process.\n",
              " * @param {string} inputId Element ID of the input file picker element.\n",
              " * @param {string} outputId Element ID of the output display.\n",
              " * @return {!Iterable<!Object>} Iterable of next steps.\n",
              " */\n",
              "function* uploadFilesStep(inputId, outputId) {\n",
              "  const inputElement = document.getElementById(inputId);\n",
              "  inputElement.disabled = false;\n",
              "\n",
              "  const outputElement = document.getElementById(outputId);\n",
              "  outputElement.innerHTML = '';\n",
              "\n",
              "  const pickedPromise = new Promise((resolve) => {\n",
              "    inputElement.addEventListener('change', (e) => {\n",
              "      resolve(e.target.files);\n",
              "    });\n",
              "  });\n",
              "\n",
              "  const cancel = document.createElement('button');\n",
              "  inputElement.parentElement.appendChild(cancel);\n",
              "  cancel.textContent = 'Cancel upload';\n",
              "  const cancelPromise = new Promise((resolve) => {\n",
              "    cancel.onclick = () => {\n",
              "      resolve(null);\n",
              "    };\n",
              "  });\n",
              "\n",
              "  // Wait for the user to pick the files.\n",
              "  const files = yield {\n",
              "    promise: Promise.race([pickedPromise, cancelPromise]),\n",
              "    response: {\n",
              "      action: 'starting',\n",
              "    }\n",
              "  };\n",
              "\n",
              "  cancel.remove();\n",
              "\n",
              "  // Disable the input element since further picks are not allowed.\n",
              "  inputElement.disabled = true;\n",
              "\n",
              "  if (!files) {\n",
              "    return {\n",
              "      response: {\n",
              "        action: 'complete',\n",
              "      }\n",
              "    };\n",
              "  }\n",
              "\n",
              "  for (const file of files) {\n",
              "    const li = document.createElement('li');\n",
              "    li.append(span(file.name, {fontWeight: 'bold'}));\n",
              "    li.append(span(\n",
              "        `(${file.type || 'n/a'}) - ${file.size} bytes, ` +\n",
              "        `last modified: ${\n",
              "            file.lastModifiedDate ? file.lastModifiedDate.toLocaleDateString() :\n",
              "                                    'n/a'} - `));\n",
              "    const percent = span('0% done');\n",
              "    li.appendChild(percent);\n",
              "\n",
              "    outputElement.appendChild(li);\n",
              "\n",
              "    const fileDataPromise = new Promise((resolve) => {\n",
              "      const reader = new FileReader();\n",
              "      reader.onload = (e) => {\n",
              "        resolve(e.target.result);\n",
              "      };\n",
              "      reader.readAsArrayBuffer(file);\n",
              "    });\n",
              "    // Wait for the data to be ready.\n",
              "    let fileData = yield {\n",
              "      promise: fileDataPromise,\n",
              "      response: {\n",
              "        action: 'continue',\n",
              "      }\n",
              "    };\n",
              "\n",
              "    // Use a chunked sending to avoid message size limits. See b/62115660.\n",
              "    let position = 0;\n",
              "    do {\n",
              "      const length = Math.min(fileData.byteLength - position, MAX_PAYLOAD_SIZE);\n",
              "      const chunk = new Uint8Array(fileData, position, length);\n",
              "      position += length;\n",
              "\n",
              "      const base64 = btoa(String.fromCharCode.apply(null, chunk));\n",
              "      yield {\n",
              "        response: {\n",
              "          action: 'append',\n",
              "          file: file.name,\n",
              "          data: base64,\n",
              "        },\n",
              "      };\n",
              "\n",
              "      let percentDone = fileData.byteLength === 0 ?\n",
              "          100 :\n",
              "          Math.round((position / fileData.byteLength) * 100);\n",
              "      percent.textContent = `${percentDone}% done`;\n",
              "\n",
              "    } while (position < fileData.byteLength);\n",
              "  }\n",
              "\n",
              "  // All done.\n",
              "  yield {\n",
              "    response: {\n",
              "      action: 'complete',\n",
              "    }\n",
              "  };\n",
              "}\n",
              "\n",
              "scope.google = scope.google || {};\n",
              "scope.google.colab = scope.google.colab || {};\n",
              "scope.google.colab._files = {\n",
              "  _uploadFiles,\n",
              "  _uploadFilesContinue,\n",
              "};\n",
              "})(self);\n",
              "</script> "
            ]
          },
          "metadata": {}
        },
        {
          "output_type": "stream",
          "name": "stdout",
          "text": [
            "Saving dev_df_complete.json to dev_df_complete.json\n",
            "Saving train_df_complete.json to train_df_complete.json\n"
          ]
        }
      ],
      "source": [
        "# Import of the training data\n",
        "\n",
        "from google.colab import files\n",
        "uploaded = files.upload()\n",
        "\n",
        "# Import of moduls\n",
        "\n",
        "import matplotlib.pyplot as plt\n",
        "import pandas as pd\n",
        "import numpy as np\n",
        "import json\n",
        "import tensorflow as tf\n",
        "from tensorflow.keras.utils import to_categorical\n",
        "from tensorflow.keras import layers, models, callbacks\n",
        "from tensorflow.keras.optimizers import Adam\n",
        "from tensorflow.keras.layers import LeakyReLU\n",
        "from sklearn.metrics import accuracy_score\n",
        "from sklearn.model_selection import train_test_split\n",
        "from sklearn.preprocessing import StandardScaler, OneHotEncoder,MinMaxScaler\n",
        "from sklearn.impute import SimpleImputer\n",
        "from sklearn.compose import ColumnTransformer\n",
        "from sklearn.pipeline import Pipeline\n",
        "from tensorflow.keras.utils import to_categorical\n",
        "from xgboost import XGBClassifier\n",
        "from sklearn.metrics import accuracy_score\n",
        "from sklearn.linear_model import LogisticRegression\n",
        "from sklearn.svm import SVC\n",
        "from sklearn.ensemble import RandomForestClassifier\n",
        "from sklearn.metrics import confusion_matrix\n",
        "from sklearn.metrics import classification_report\n",
        "import seaborn as sns\n",
        "from tensorflow.keras.models import Model\n",
        "from sklearn.model_selection import StratifiedKFold\n",
        "\n",
        "from tqdm.auto import tqdm\n",
        "import warnings\n",
        "warnings.simplefilter(action='ignore', category=FutureWarning)\n",
        "\n",
        "# Loading the data\n",
        "train_df = pd.read_json('train_df_complete.json', orient=\"records\", lines=True)\n",
        "dev_df = pd.read_json('dev_df_complete.json', orient=\"records\", lines=True)"
      ]
    },
    {
      "cell_type": "markdown",
      "source": [
        "### Reproducibility of experiments\n",
        "\n",
        "tf random seed set so that the experiments with the neural netowrk are reproducible"
      ],
      "metadata": {
        "id": "rnPW_Uy4fGOo"
      }
    },
    {
      "cell_type": "code",
      "source": [
        "SEED = 42\n",
        "tf.random.set_seed(SEED)"
      ],
      "metadata": {
        "id": "cSqMQmFGenDZ"
      },
      "execution_count": 2,
      "outputs": []
    },
    {
      "cell_type": "markdown",
      "source": [
        "### Data preparation for the neural network model\n",
        "\n",
        "Here we adjust our dataframe in order to prepare it in the correct format for the neural network"
      ],
      "metadata": {
        "id": "J9ExQ6hOiYTP"
      }
    },
    {
      "cell_type": "code",
      "source": [
        "# Get the list of explicatives variables\n",
        "list_var = ['subclass_depth', 'subclasses', 'instances_of', 'instances_of_up', 'date', 'nb_lang',\n",
        "       'descr_num_nouns', 'descr_num_verbs',\n",
        "       'descr_num_adjectives', 'descr_has_location', 'descr_has_ethnic_group',\n",
        "       'descr_has_event', 'type_cat', 'category_architecture',\n",
        "       'category_biology', 'category_comics and anime', 'category_fashion',\n",
        "       'category_films', 'category_food', 'category_geography',\n",
        "       'category_literature', 'category_media', 'category_music',\n",
        "       'category_politics', 'category_sports', 'category_transportation',\n",
        "       'category_visual arts', 'category_combined',\n",
        "       'main_country_cat'\n",
        "]\n",
        "\n",
        "# Create the X and y, train and dev\n",
        "X_train = train_df[list_var]\n",
        "y_train = train_df['label_int'].values\n",
        "\n",
        "X_dev = dev_df[list_var]\n",
        "y_dev = dev_df['label_int'].values\n",
        "\n",
        "# Selecting numerical columns from X_train (all of them are int64 or float64)\n",
        "num_cols = X_train.select_dtypes(include=['int64', 'float64']).columns.tolist()\n",
        "\n",
        "# Defining pipeline: impute Nan, then scale\n",
        "num_pipeline = Pipeline([\n",
        "    ('imputer', SimpleImputer(strategy='mean')),\n",
        "    ('scaler', MinMaxScaler())\n",
        "])\n",
        "\n",
        "# Appling pipeline to numeric columns\n",
        "preprocessor = ColumnTransformer([\n",
        "    ('num', num_pipeline, num_cols)\n",
        "])\n",
        "\n",
        "\n",
        "#adjustin the data to proper format\n",
        "X_train_processed = preprocessor.fit_transform(X_train)\n",
        "X_dev_processed = preprocessor.transform(X_dev)\n",
        "\n",
        "# float cast\n",
        "X_train_processed = X_train_processed.astype('float32')\n",
        "X_dev_processed = X_dev_processed.astype('float32')\n",
        "\n",
        "# One-hot encode labels\n",
        "y_train_cat = to_categorical(y_train, num_classes=3)\n",
        "y_dev_cat = to_categorical(y_dev, num_classes=3)"
      ],
      "metadata": {
        "id": "_fVr0hu-iX1f"
      },
      "execution_count": 3,
      "outputs": []
    },
    {
      "cell_type": "markdown",
      "source": [
        "# Neural network training -Hyperparameter tuning\n",
        "\n",
        "  Firstly we try our network with the k-fold(k=5) cross validation in order to know how many epochs should we train our neural network not to underfit and not to overfit\n"
      ],
      "metadata": {
        "id": "9WknBsxV4XSU"
      }
    },
    {
      "cell_type": "code",
      "source": [
        "\n",
        "# Early stopping\n",
        "early_stop = callbacks.EarlyStopping(monitor='val_loss', patience=5, restore_best_weights=True)\n",
        "reduce_lr = callbacks.ReduceLROnPlateau(monitor='val_loss', factor=0.5, patience=5)\n",
        "\n",
        "\n",
        "kfold = StratifiedKFold(n_splits=5, shuffle=True, random_state=42)\n",
        "epochs_per_fold = []\n",
        "\n",
        "\n",
        "for train_indices, val_indices in kfold.split(X_train_processed,y_train):\n",
        "\n",
        "\n",
        "    X_train_fold, X_val_fold = X_train_processed[train_indices], X_train_processed[val_indices]\n",
        "    y_train_fold, y_val_fold = y_train[train_indices], y_train[val_indices]\n",
        "\n",
        "    model_classification = models.Sequential()\n",
        "\n",
        "\n",
        "    input_layer = layers.Input(shape=(29,), name=\"input_layer\")\n",
        "\n",
        "    model_classification.add(input_layer)\n",
        "\n",
        "\n",
        "\n",
        "    for i, units in enumerate([1024, 1024, 512, 512, 256, 256, 128, 128, 64, 64, 32, 32]):\n",
        "        dense_layer = layers.Dense(units, name=f\"dense_layer_{i}\")\n",
        "        leaky_relu = LeakyReLU(alpha=0.1, name=f\"leaky_relu_{i}\")\n",
        "        batch_norm = layers.BatchNormalization(name=f\"batch_norm_{i}\")\n",
        "        dropout = layers.Dropout(0.3 if units > 128 else 0.2, name=f\"dropout_{i}\")\n",
        "\n",
        "\n",
        "        model_classification.add(dense_layer)\n",
        "        model_classification.add(leaky_relu)\n",
        "        model_classification.add(batch_norm)\n",
        "        model_classification.add(dropout)\n",
        "\n",
        "\n",
        "    logits_output = layers.Dense(3, name=\"logits\")\n",
        "    model_classification.add(logits_output)\n",
        "    softmax_output = layers.Activation('softmax', name=\"softmax\")\n",
        "    model_classification.add(softmax_output)\n",
        "\n",
        "\n",
        "\n",
        "\n",
        "    model_classification.compile(optimizer=Adam(learning_rate=1e-3),\n",
        "                  loss='sparse_categorical_crossentropy',\n",
        "                  metrics=['accuracy'])\n",
        "\n",
        "\n",
        "\n",
        "    history = model_classification.fit(\n",
        "        X_train_fold, y_train_fold,\n",
        "        validation_data=(X_val_fold, y_val_fold),\n",
        "        epochs=200,\n",
        "        batch_size=64,\n",
        "        callbacks=[early_stop, reduce_lr]\n",
        "    )\n",
        "    epochs_per_fold.append(len(history.history['loss']))\n",
        "\n",
        "\n",
        "print(f\"mean num of epochs per fold is : {np.mean(epochs_per_fold)}\")"
      ],
      "metadata": {
        "id": "XtYxEsGg6dOE",
        "outputId": "8c6a876c-9a33-45a6-8bbe-f022ea97b0c7",
        "colab": {
          "base_uri": "https://localhost:8080/"
        }
      },
      "execution_count": 4,
      "outputs": [
        {
          "output_type": "stream",
          "name": "stderr",
          "text": [
            "/usr/local/lib/python3.11/dist-packages/keras/src/layers/activations/leaky_relu.py:41: UserWarning: Argument `alpha` is deprecated. Use `negative_slope` instead.\n",
            "  warnings.warn(\n"
          ]
        },
        {
          "output_type": "stream",
          "name": "stdout",
          "text": [
            "Epoch 1/200\n",
            "\u001b[1m79/79\u001b[0m \u001b[32m━━━━━━━━━━━━━━━━━━━━\u001b[0m\u001b[37m\u001b[0m \u001b[1m36s\u001b[0m 177ms/step - accuracy: 0.4328 - loss: 1.3150 - val_accuracy: 0.5188 - val_loss: 1.0002 - learning_rate: 0.0010\n",
            "Epoch 2/200\n",
            "\u001b[1m79/79\u001b[0m \u001b[32m━━━━━━━━━━━━━━━━━━━━\u001b[0m\u001b[37m\u001b[0m \u001b[1m14s\u001b[0m 10ms/step - accuracy: 0.5772 - loss: 0.9257 - val_accuracy: 0.4788 - val_loss: 0.9529 - learning_rate: 0.0010\n",
            "Epoch 3/200\n",
            "\u001b[1m79/79\u001b[0m \u001b[32m━━━━━━━━━━━━━━━━━━━━\u001b[0m\u001b[37m\u001b[0m \u001b[1m1s\u001b[0m 9ms/step - accuracy: 0.6359 - loss: 0.8237 - val_accuracy: 0.5084 - val_loss: 0.9184 - learning_rate: 0.0010\n",
            "Epoch 4/200\n",
            "\u001b[1m79/79\u001b[0m \u001b[32m━━━━━━━━━━━━━━━━━━━━\u001b[0m\u001b[37m\u001b[0m \u001b[1m1s\u001b[0m 7ms/step - accuracy: 0.6458 - loss: 0.7836 - val_accuracy: 0.6379 - val_loss: 0.7985 - learning_rate: 0.0010\n",
            "Epoch 5/200\n",
            "\u001b[1m79/79\u001b[0m \u001b[32m━━━━━━━━━━━━━━━━━━━━\u001b[0m\u001b[37m\u001b[0m \u001b[1m1s\u001b[0m 8ms/step - accuracy: 0.6831 - loss: 0.7469 - val_accuracy: 0.6811 - val_loss: 0.7182 - learning_rate: 0.0010\n",
            "Epoch 6/200\n",
            "\u001b[1m79/79\u001b[0m \u001b[32m━━━━━━━━━━━━━━━━━━━━\u001b[0m\u001b[37m\u001b[0m \u001b[1m1s\u001b[0m 7ms/step - accuracy: 0.6809 - loss: 0.7256 - val_accuracy: 0.7034 - val_loss: 0.6721 - learning_rate: 0.0010\n",
            "Epoch 7/200\n",
            "\u001b[1m79/79\u001b[0m \u001b[32m━━━━━━━━━━━━━━━━━━━━\u001b[0m\u001b[37m\u001b[0m \u001b[1m1s\u001b[0m 7ms/step - accuracy: 0.6965 - loss: 0.6999 - val_accuracy: 0.7218 - val_loss: 0.6444 - learning_rate: 0.0010\n",
            "Epoch 8/200\n",
            "\u001b[1m79/79\u001b[0m \u001b[32m━━━━━━━━━━━━━━━━━━━━\u001b[0m\u001b[37m\u001b[0m \u001b[1m1s\u001b[0m 7ms/step - accuracy: 0.7102 - loss: 0.6772 - val_accuracy: 0.7330 - val_loss: 0.6359 - learning_rate: 0.0010\n",
            "Epoch 9/200\n",
            "\u001b[1m79/79\u001b[0m \u001b[32m━━━━━━━━━━━━━━━━━━━━\u001b[0m\u001b[37m\u001b[0m \u001b[1m1s\u001b[0m 7ms/step - accuracy: 0.7215 - loss: 0.6587 - val_accuracy: 0.7338 - val_loss: 0.6277 - learning_rate: 0.0010\n",
            "Epoch 10/200\n",
            "\u001b[1m79/79\u001b[0m \u001b[32m━━━━━━━━━━━━━━━━━━━━\u001b[0m\u001b[37m\u001b[0m \u001b[1m1s\u001b[0m 7ms/step - accuracy: 0.7354 - loss: 0.6471 - val_accuracy: 0.7314 - val_loss: 0.6387 - learning_rate: 0.0010\n",
            "Epoch 11/200\n",
            "\u001b[1m79/79\u001b[0m \u001b[32m━━━━━━━━━━━━━━━━━━━━\u001b[0m\u001b[37m\u001b[0m \u001b[1m1s\u001b[0m 7ms/step - accuracy: 0.7412 - loss: 0.6418 - val_accuracy: 0.7202 - val_loss: 0.6348 - learning_rate: 0.0010\n",
            "Epoch 12/200\n",
            "\u001b[1m79/79\u001b[0m \u001b[32m━━━━━━━━━━━━━━━━━━━━\u001b[0m\u001b[37m\u001b[0m \u001b[1m1s\u001b[0m 7ms/step - accuracy: 0.7378 - loss: 0.6391 - val_accuracy: 0.7418 - val_loss: 0.6237 - learning_rate: 0.0010\n",
            "Epoch 13/200\n",
            "\u001b[1m79/79\u001b[0m \u001b[32m━━━━━━━━━━━━━━━━━━━━\u001b[0m\u001b[37m\u001b[0m \u001b[1m1s\u001b[0m 7ms/step - accuracy: 0.7467 - loss: 0.6180 - val_accuracy: 0.7282 - val_loss: 0.6241 - learning_rate: 0.0010\n",
            "Epoch 14/200\n",
            "\u001b[1m79/79\u001b[0m \u001b[32m━━━━━━━━━━━━━━━━━━━━\u001b[0m\u001b[37m\u001b[0m \u001b[1m1s\u001b[0m 7ms/step - accuracy: 0.7437 - loss: 0.6132 - val_accuracy: 0.7474 - val_loss: 0.6132 - learning_rate: 0.0010\n",
            "Epoch 15/200\n",
            "\u001b[1m79/79\u001b[0m \u001b[32m━━━━━━━━━━━━━━━━━━━━\u001b[0m\u001b[37m\u001b[0m \u001b[1m1s\u001b[0m 8ms/step - accuracy: 0.7489 - loss: 0.6195 - val_accuracy: 0.7282 - val_loss: 0.6305 - learning_rate: 0.0010\n",
            "Epoch 16/200\n",
            "\u001b[1m79/79\u001b[0m \u001b[32m━━━━━━━━━━━━━━━━━━━━\u001b[0m\u001b[37m\u001b[0m \u001b[1m1s\u001b[0m 8ms/step - accuracy: 0.7584 - loss: 0.5973 - val_accuracy: 0.7314 - val_loss: 0.6221 - learning_rate: 0.0010\n",
            "Epoch 17/200\n",
            "\u001b[1m79/79\u001b[0m \u001b[32m━━━━━━━━━━━━━━━━━━━━\u001b[0m\u001b[37m\u001b[0m \u001b[1m1s\u001b[0m 9ms/step - accuracy: 0.7544 - loss: 0.5957 - val_accuracy: 0.7402 - val_loss: 0.6140 - learning_rate: 0.0010\n",
            "Epoch 18/200\n",
            "\u001b[1m79/79\u001b[0m \u001b[32m━━━━━━━━━━━━━━━━━━━━\u001b[0m\u001b[37m\u001b[0m \u001b[1m1s\u001b[0m 10ms/step - accuracy: 0.7583 - loss: 0.5988 - val_accuracy: 0.7258 - val_loss: 0.6337 - learning_rate: 0.0010\n",
            "Epoch 19/200\n",
            "\u001b[1m79/79\u001b[0m \u001b[32m━━━━━━━━━━━━━━━━━━━━\u001b[0m\u001b[37m\u001b[0m \u001b[1m1s\u001b[0m 7ms/step - accuracy: 0.7645 - loss: 0.5887 - val_accuracy: 0.7378 - val_loss: 0.6254 - learning_rate: 0.0010\n",
            "Epoch 1/200\n",
            "\u001b[1m79/79\u001b[0m \u001b[32m━━━━━━━━━━━━━━━━━━━━\u001b[0m\u001b[37m\u001b[0m \u001b[1m28s\u001b[0m 145ms/step - accuracy: 0.3956 - loss: 1.4117 - val_accuracy: 0.5888 - val_loss: 1.0395 - learning_rate: 0.0010\n",
            "Epoch 2/200\n",
            "\u001b[1m79/79\u001b[0m \u001b[32m━━━━━━━━━━━━━━━━━━━━\u001b[0m\u001b[37m\u001b[0m \u001b[1m1s\u001b[0m 7ms/step - accuracy: 0.5770 - loss: 0.9585 - val_accuracy: 0.6400 - val_loss: 0.9466 - learning_rate: 0.0010\n",
            "Epoch 3/200\n",
            "\u001b[1m79/79\u001b[0m \u001b[32m━━━━━━━━━━━━━━━━━━━━\u001b[0m\u001b[37m\u001b[0m \u001b[1m1s\u001b[0m 6ms/step - accuracy: 0.6236 - loss: 0.8318 - val_accuracy: 0.6320 - val_loss: 0.8864 - learning_rate: 0.0010\n",
            "Epoch 4/200\n",
            "\u001b[1m79/79\u001b[0m \u001b[32m━━━━━━━━━━━━━━━━━━━━\u001b[0m\u001b[37m\u001b[0m \u001b[1m1s\u001b[0m 6ms/step - accuracy: 0.6287 - loss: 0.8025 - val_accuracy: 0.6408 - val_loss: 0.8109 - learning_rate: 0.0010\n",
            "Epoch 5/200\n",
            "\u001b[1m79/79\u001b[0m \u001b[32m━━━━━━━━━━━━━━━━━━━━\u001b[0m\u001b[37m\u001b[0m \u001b[1m1s\u001b[0m 7ms/step - accuracy: 0.6720 - loss: 0.7464 - val_accuracy: 0.6864 - val_loss: 0.7386 - learning_rate: 0.0010\n",
            "Epoch 6/200\n",
            "\u001b[1m79/79\u001b[0m \u001b[32m━━━━━━━━━━━━━━━━━━━━\u001b[0m\u001b[37m\u001b[0m \u001b[1m1s\u001b[0m 8ms/step - accuracy: 0.6665 - loss: 0.7386 - val_accuracy: 0.7024 - val_loss: 0.6971 - learning_rate: 0.0010\n",
            "Epoch 7/200\n",
            "\u001b[1m79/79\u001b[0m \u001b[32m━━━━━━━━━━━━━━━━━━━━\u001b[0m\u001b[37m\u001b[0m \u001b[1m1s\u001b[0m 8ms/step - accuracy: 0.6926 - loss: 0.7062 - val_accuracy: 0.7088 - val_loss: 0.6757 - learning_rate: 0.0010\n",
            "Epoch 8/200\n",
            "\u001b[1m79/79\u001b[0m \u001b[32m━━━━━━━━━━━━━━━━━━━━\u001b[0m\u001b[37m\u001b[0m \u001b[1m1s\u001b[0m 10ms/step - accuracy: 0.6996 - loss: 0.6898 - val_accuracy: 0.7200 - val_loss: 0.6571 - learning_rate: 0.0010\n",
            "Epoch 9/200\n",
            "\u001b[1m79/79\u001b[0m \u001b[32m━━━━━━━━━━━━━━━━━━━━\u001b[0m\u001b[37m\u001b[0m \u001b[1m1s\u001b[0m 7ms/step - accuracy: 0.7176 - loss: 0.6696 - val_accuracy: 0.7216 - val_loss: 0.6575 - learning_rate: 0.0010\n",
            "Epoch 10/200\n",
            "\u001b[1m79/79\u001b[0m \u001b[32m━━━━━━━━━━━━━━━━━━━━\u001b[0m\u001b[37m\u001b[0m \u001b[1m1s\u001b[0m 7ms/step - accuracy: 0.7319 - loss: 0.6502 - val_accuracy: 0.7192 - val_loss: 0.6398 - learning_rate: 0.0010\n",
            "Epoch 11/200\n",
            "\u001b[1m79/79\u001b[0m \u001b[32m━━━━━━━━━━━━━━━━━━━━\u001b[0m\u001b[37m\u001b[0m \u001b[1m1s\u001b[0m 7ms/step - accuracy: 0.7302 - loss: 0.6404 - val_accuracy: 0.7344 - val_loss: 0.6521 - learning_rate: 0.0010\n",
            "Epoch 12/200\n",
            "\u001b[1m79/79\u001b[0m \u001b[32m━━━━━━━━━━━━━━━━━━━━\u001b[0m\u001b[37m\u001b[0m \u001b[1m1s\u001b[0m 8ms/step - accuracy: 0.7417 - loss: 0.6259 - val_accuracy: 0.7320 - val_loss: 0.6528 - learning_rate: 0.0010\n",
            "Epoch 13/200\n",
            "\u001b[1m79/79\u001b[0m \u001b[32m━━━━━━━━━━━━━━━━━━━━\u001b[0m\u001b[37m\u001b[0m \u001b[1m1s\u001b[0m 8ms/step - accuracy: 0.7399 - loss: 0.6237 - val_accuracy: 0.7240 - val_loss: 0.6619 - learning_rate: 0.0010\n",
            "Epoch 14/200\n",
            "\u001b[1m79/79\u001b[0m \u001b[32m━━━━━━━━━━━━━━━━━━━━\u001b[0m\u001b[37m\u001b[0m \u001b[1m1s\u001b[0m 7ms/step - accuracy: 0.7462 - loss: 0.6202 - val_accuracy: 0.7256 - val_loss: 0.6551 - learning_rate: 0.0010\n",
            "Epoch 15/200\n",
            "\u001b[1m79/79\u001b[0m \u001b[32m━━━━━━━━━━━━━━━━━━━━\u001b[0m\u001b[37m\u001b[0m \u001b[1m1s\u001b[0m 7ms/step - accuracy: 0.7409 - loss: 0.6188 - val_accuracy: 0.7328 - val_loss: 0.6599 - learning_rate: 0.0010\n",
            "Epoch 1/200\n",
            "\u001b[1m79/79\u001b[0m \u001b[32m━━━━━━━━━━━━━━━━━━━━\u001b[0m\u001b[37m\u001b[0m \u001b[1m25s\u001b[0m 125ms/step - accuracy: 0.3914 - loss: 1.3839 - val_accuracy: 0.4296 - val_loss: 1.0283 - learning_rate: 0.0010\n",
            "Epoch 2/200\n",
            "\u001b[1m79/79\u001b[0m \u001b[32m━━━━━━━━━━━━━━━━━━━━\u001b[0m\u001b[37m\u001b[0m \u001b[1m1s\u001b[0m 7ms/step - accuracy: 0.5571 - loss: 0.9538 - val_accuracy: 0.4056 - val_loss: 1.0358 - learning_rate: 0.0010\n",
            "Epoch 3/200\n",
            "\u001b[1m79/79\u001b[0m \u001b[32m━━━━━━━━━━━━━━━━━━━━\u001b[0m\u001b[37m\u001b[0m \u001b[1m1s\u001b[0m 8ms/step - accuracy: 0.6290 - loss: 0.8253 - val_accuracy: 0.4248 - val_loss: 0.9861 - learning_rate: 0.0010\n",
            "Epoch 4/200\n",
            "\u001b[1m79/79\u001b[0m \u001b[32m━━━━━━━━━━━━━━━━━━━━\u001b[0m\u001b[37m\u001b[0m \u001b[1m1s\u001b[0m 8ms/step - accuracy: 0.6317 - loss: 0.8097 - val_accuracy: 0.5616 - val_loss: 0.8746 - learning_rate: 0.0010\n",
            "Epoch 5/200\n",
            "\u001b[1m79/79\u001b[0m \u001b[32m━━━━━━━━━━━━━━━━━━━━\u001b[0m\u001b[37m\u001b[0m \u001b[1m1s\u001b[0m 8ms/step - accuracy: 0.6491 - loss: 0.7541 - val_accuracy: 0.6544 - val_loss: 0.7738 - learning_rate: 0.0010\n",
            "Epoch 6/200\n",
            "\u001b[1m79/79\u001b[0m \u001b[32m━━━━━━━━━━━━━━━━━━━━\u001b[0m\u001b[37m\u001b[0m \u001b[1m1s\u001b[0m 8ms/step - accuracy: 0.6664 - loss: 0.7380 - val_accuracy: 0.6672 - val_loss: 0.7288 - learning_rate: 0.0010\n",
            "Epoch 7/200\n",
            "\u001b[1m79/79\u001b[0m \u001b[32m━━━━━━━━━━━━━━━━━━━━\u001b[0m\u001b[37m\u001b[0m \u001b[1m1s\u001b[0m 9ms/step - accuracy: 0.6813 - loss: 0.7123 - val_accuracy: 0.6992 - val_loss: 0.6778 - learning_rate: 0.0010\n",
            "Epoch 8/200\n",
            "\u001b[1m79/79\u001b[0m \u001b[32m━━━━━━━━━━━━━━━━━━━━\u001b[0m\u001b[37m\u001b[0m \u001b[1m1s\u001b[0m 8ms/step - accuracy: 0.6870 - loss: 0.7025 - val_accuracy: 0.7144 - val_loss: 0.6446 - learning_rate: 0.0010\n",
            "Epoch 9/200\n",
            "\u001b[1m79/79\u001b[0m \u001b[32m━━━━━━━━━━━━━━━━━━━━\u001b[0m\u001b[37m\u001b[0m \u001b[1m1s\u001b[0m 7ms/step - accuracy: 0.7091 - loss: 0.6821 - val_accuracy: 0.7240 - val_loss: 0.6517 - learning_rate: 0.0010\n",
            "Epoch 10/200\n",
            "\u001b[1m79/79\u001b[0m \u001b[32m━━━━━━━━━━━━━━━━━━━━\u001b[0m\u001b[37m\u001b[0m \u001b[1m1s\u001b[0m 7ms/step - accuracy: 0.7121 - loss: 0.6667 - val_accuracy: 0.7224 - val_loss: 0.6310 - learning_rate: 0.0010\n",
            "Epoch 11/200\n",
            "\u001b[1m79/79\u001b[0m \u001b[32m━━━━━━━━━━━━━━━━━━━━\u001b[0m\u001b[37m\u001b[0m \u001b[1m1s\u001b[0m 8ms/step - accuracy: 0.7261 - loss: 0.6487 - val_accuracy: 0.7272 - val_loss: 0.6281 - learning_rate: 0.0010\n",
            "Epoch 12/200\n",
            "\u001b[1m79/79\u001b[0m \u001b[32m━━━━━━━━━━━━━━━━━━━━\u001b[0m\u001b[37m\u001b[0m \u001b[1m1s\u001b[0m 7ms/step - accuracy: 0.7399 - loss: 0.6344 - val_accuracy: 0.7240 - val_loss: 0.6272 - learning_rate: 0.0010\n",
            "Epoch 13/200\n",
            "\u001b[1m79/79\u001b[0m \u001b[32m━━━━━━━━━━━━━━━━━━━━\u001b[0m\u001b[37m\u001b[0m \u001b[1m1s\u001b[0m 7ms/step - accuracy: 0.7470 - loss: 0.6345 - val_accuracy: 0.7240 - val_loss: 0.6375 - learning_rate: 0.0010\n",
            "Epoch 14/200\n",
            "\u001b[1m79/79\u001b[0m \u001b[32m━━━━━━━━━━━━━━━━━━━━\u001b[0m\u001b[37m\u001b[0m \u001b[1m1s\u001b[0m 8ms/step - accuracy: 0.7353 - loss: 0.6340 - val_accuracy: 0.7328 - val_loss: 0.6205 - learning_rate: 0.0010\n",
            "Epoch 15/200\n",
            "\u001b[1m79/79\u001b[0m \u001b[32m━━━━━━━━━━━━━━━━━━━━\u001b[0m\u001b[37m\u001b[0m \u001b[1m1s\u001b[0m 7ms/step - accuracy: 0.7389 - loss: 0.6209 - val_accuracy: 0.7304 - val_loss: 0.6200 - learning_rate: 0.0010\n",
            "Epoch 16/200\n",
            "\u001b[1m79/79\u001b[0m \u001b[32m━━━━━━━━━━━━━━━━━━━━\u001b[0m\u001b[37m\u001b[0m \u001b[1m1s\u001b[0m 7ms/step - accuracy: 0.7414 - loss: 0.6154 - val_accuracy: 0.7336 - val_loss: 0.6249 - learning_rate: 0.0010\n",
            "Epoch 17/200\n",
            "\u001b[1m79/79\u001b[0m \u001b[32m━━━━━━━━━━━━━━━━━━━━\u001b[0m\u001b[37m\u001b[0m \u001b[1m1s\u001b[0m 7ms/step - accuracy: 0.7510 - loss: 0.6029 - val_accuracy: 0.7336 - val_loss: 0.6253 - learning_rate: 0.0010\n",
            "Epoch 18/200\n",
            "\u001b[1m79/79\u001b[0m \u001b[32m━━━━━━━━━━━━━━━━━━━━\u001b[0m\u001b[37m\u001b[0m \u001b[1m1s\u001b[0m 8ms/step - accuracy: 0.7524 - loss: 0.6058 - val_accuracy: 0.7424 - val_loss: 0.6258 - learning_rate: 0.0010\n",
            "Epoch 19/200\n",
            "\u001b[1m79/79\u001b[0m \u001b[32m━━━━━━━━━━━━━━━━━━━━\u001b[0m\u001b[37m\u001b[0m \u001b[1m1s\u001b[0m 8ms/step - accuracy: 0.7573 - loss: 0.6035 - val_accuracy: 0.7336 - val_loss: 0.6256 - learning_rate: 0.0010\n",
            "Epoch 20/200\n",
            "\u001b[1m79/79\u001b[0m \u001b[32m━━━━━━━━━━━━━━━━━━━━\u001b[0m\u001b[37m\u001b[0m \u001b[1m1s\u001b[0m 7ms/step - accuracy: 0.7545 - loss: 0.6060 - val_accuracy: 0.7416 - val_loss: 0.6337 - learning_rate: 0.0010\n",
            "Epoch 1/200\n",
            "\u001b[1m79/79\u001b[0m \u001b[32m━━━━━━━━━━━━━━━━━━━━\u001b[0m\u001b[37m\u001b[0m \u001b[1m25s\u001b[0m 107ms/step - accuracy: 0.4187 - loss: 1.3652 - val_accuracy: 0.4296 - val_loss: 1.1076 - learning_rate: 0.0010\n",
            "Epoch 2/200\n",
            "\u001b[1m79/79\u001b[0m \u001b[32m━━━━━━━━━━━━━━━━━━━━\u001b[0m\u001b[37m\u001b[0m \u001b[1m4s\u001b[0m 7ms/step - accuracy: 0.5820 - loss: 0.9134 - val_accuracy: 0.3760 - val_loss: 1.0842 - learning_rate: 0.0010\n",
            "Epoch 3/200\n",
            "\u001b[1m79/79\u001b[0m \u001b[32m━━━━━━━━━━━━━━━━━━━━\u001b[0m\u001b[37m\u001b[0m \u001b[1m1s\u001b[0m 7ms/step - accuracy: 0.6260 - loss: 0.8414 - val_accuracy: 0.4088 - val_loss: 1.0061 - learning_rate: 0.0010\n",
            "Epoch 4/200\n",
            "\u001b[1m79/79\u001b[0m \u001b[32m━━━━━━━━━━━━━━━━━━━━\u001b[0m\u001b[37m\u001b[0m \u001b[1m1s\u001b[0m 7ms/step - accuracy: 0.6464 - loss: 0.7762 - val_accuracy: 0.6144 - val_loss: 0.8363 - learning_rate: 0.0010\n",
            "Epoch 5/200\n",
            "\u001b[1m79/79\u001b[0m \u001b[32m━━━━━━━━━━━━━━━━━━━━\u001b[0m\u001b[37m\u001b[0m \u001b[1m1s\u001b[0m 7ms/step - accuracy: 0.6594 - loss: 0.7633 - val_accuracy: 0.6888 - val_loss: 0.7411 - learning_rate: 0.0010\n",
            "Epoch 6/200\n",
            "\u001b[1m79/79\u001b[0m \u001b[32m━━━━━━━━━━━━━━━━━━━━\u001b[0m\u001b[37m\u001b[0m \u001b[1m1s\u001b[0m 7ms/step - accuracy: 0.6654 - loss: 0.7472 - val_accuracy: 0.7216 - val_loss: 0.6729 - learning_rate: 0.0010\n",
            "Epoch 7/200\n",
            "\u001b[1m79/79\u001b[0m \u001b[32m━━━━━━━━━━━━━━━━━━━━\u001b[0m\u001b[37m\u001b[0m \u001b[1m1s\u001b[0m 8ms/step - accuracy: 0.6780 - loss: 0.7237 - val_accuracy: 0.7232 - val_loss: 0.6393 - learning_rate: 0.0010\n",
            "Epoch 8/200\n",
            "\u001b[1m79/79\u001b[0m \u001b[32m━━━━━━━━━━━━━━━━━━━━\u001b[0m\u001b[37m\u001b[0m \u001b[1m1s\u001b[0m 7ms/step - accuracy: 0.7054 - loss: 0.6879 - val_accuracy: 0.7304 - val_loss: 0.6181 - learning_rate: 0.0010\n",
            "Epoch 9/200\n",
            "\u001b[1m79/79\u001b[0m \u001b[32m━━━━━━━━━━━━━━━━━━━━\u001b[0m\u001b[37m\u001b[0m \u001b[1m1s\u001b[0m 7ms/step - accuracy: 0.7186 - loss: 0.6715 - val_accuracy: 0.7336 - val_loss: 0.6165 - learning_rate: 0.0010\n",
            "Epoch 10/200\n",
            "\u001b[1m79/79\u001b[0m \u001b[32m━━━━━━━━━━━━━━━━━━━━\u001b[0m\u001b[37m\u001b[0m \u001b[1m1s\u001b[0m 7ms/step - accuracy: 0.7203 - loss: 0.6671 - val_accuracy: 0.7384 - val_loss: 0.6084 - learning_rate: 0.0010\n",
            "Epoch 11/200\n",
            "\u001b[1m79/79\u001b[0m \u001b[32m━━━━━━━━━━━━━━━━━━━━\u001b[0m\u001b[37m\u001b[0m \u001b[1m1s\u001b[0m 8ms/step - accuracy: 0.7203 - loss: 0.6553 - val_accuracy: 0.7432 - val_loss: 0.6028 - learning_rate: 0.0010\n",
            "Epoch 12/200\n",
            "\u001b[1m79/79\u001b[0m \u001b[32m━━━━━━━━━━━━━━━━━━━━\u001b[0m\u001b[37m\u001b[0m \u001b[1m1s\u001b[0m 7ms/step - accuracy: 0.7190 - loss: 0.6531 - val_accuracy: 0.7520 - val_loss: 0.6022 - learning_rate: 0.0010\n",
            "Epoch 13/200\n",
            "\u001b[1m79/79\u001b[0m \u001b[32m━━━━━━━━━━━━━━━━━━━━\u001b[0m\u001b[37m\u001b[0m \u001b[1m1s\u001b[0m 7ms/step - accuracy: 0.7348 - loss: 0.6301 - val_accuracy: 0.7496 - val_loss: 0.6034 - learning_rate: 0.0010\n",
            "Epoch 14/200\n",
            "\u001b[1m79/79\u001b[0m \u001b[32m━━━━━━━━━━━━━━━━━━━━\u001b[0m\u001b[37m\u001b[0m \u001b[1m1s\u001b[0m 7ms/step - accuracy: 0.7393 - loss: 0.6307 - val_accuracy: 0.7464 - val_loss: 0.6033 - learning_rate: 0.0010\n",
            "Epoch 15/200\n",
            "\u001b[1m79/79\u001b[0m \u001b[32m━━━━━━━━━━━━━━━━━━━━\u001b[0m\u001b[37m\u001b[0m \u001b[1m1s\u001b[0m 10ms/step - accuracy: 0.7443 - loss: 0.6307 - val_accuracy: 0.7496 - val_loss: 0.5994 - learning_rate: 0.0010\n",
            "Epoch 16/200\n",
            "\u001b[1m79/79\u001b[0m \u001b[32m━━━━━━━━━━━━━━━━━━━━\u001b[0m\u001b[37m\u001b[0m \u001b[1m1s\u001b[0m 8ms/step - accuracy: 0.7369 - loss: 0.6231 - val_accuracy: 0.7440 - val_loss: 0.6052 - learning_rate: 0.0010\n",
            "Epoch 17/200\n",
            "\u001b[1m79/79\u001b[0m \u001b[32m━━━━━━━━━━━━━━━━━━━━\u001b[0m\u001b[37m\u001b[0m \u001b[1m1s\u001b[0m 8ms/step - accuracy: 0.7428 - loss: 0.6054 - val_accuracy: 0.7416 - val_loss: 0.6110 - learning_rate: 0.0010\n",
            "Epoch 18/200\n",
            "\u001b[1m79/79\u001b[0m \u001b[32m━━━━━━━━━━━━━━━━━━━━\u001b[0m\u001b[37m\u001b[0m \u001b[1m1s\u001b[0m 7ms/step - accuracy: 0.7374 - loss: 0.6127 - val_accuracy: 0.7488 - val_loss: 0.6096 - learning_rate: 0.0010\n",
            "Epoch 19/200\n",
            "\u001b[1m79/79\u001b[0m \u001b[32m━━━━━━━━━━━━━━━━━━━━\u001b[0m\u001b[37m\u001b[0m \u001b[1m1s\u001b[0m 7ms/step - accuracy: 0.7368 - loss: 0.6280 - val_accuracy: 0.7464 - val_loss: 0.6110 - learning_rate: 0.0010\n",
            "Epoch 20/200\n",
            "\u001b[1m79/79\u001b[0m \u001b[32m━━━━━━━━━━━━━━━━━━━━\u001b[0m\u001b[37m\u001b[0m \u001b[1m1s\u001b[0m 7ms/step - accuracy: 0.7433 - loss: 0.5979 - val_accuracy: 0.7584 - val_loss: 0.6015 - learning_rate: 0.0010\n",
            "Epoch 1/200\n",
            "\u001b[1m79/79\u001b[0m \u001b[32m━━━━━━━━━━━━━━━━━━━━\u001b[0m\u001b[37m\u001b[0m \u001b[1m25s\u001b[0m 127ms/step - accuracy: 0.4079 - loss: 1.4027 - val_accuracy: 0.6288 - val_loss: 1.0098 - learning_rate: 0.0010\n",
            "Epoch 2/200\n",
            "\u001b[1m79/79\u001b[0m \u001b[32m━━━━━━━━━━━━━━━━━━━━\u001b[0m\u001b[37m\u001b[0m \u001b[1m1s\u001b[0m 8ms/step - accuracy: 0.5655 - loss: 0.9549 - val_accuracy: 0.6176 - val_loss: 0.9607 - learning_rate: 0.0010\n",
            "Epoch 3/200\n",
            "\u001b[1m79/79\u001b[0m \u001b[32m━━━━━━━━━━━━━━━━━━━━\u001b[0m\u001b[37m\u001b[0m \u001b[1m1s\u001b[0m 8ms/step - accuracy: 0.6157 - loss: 0.8587 - val_accuracy: 0.6552 - val_loss: 0.8464 - learning_rate: 0.0010\n",
            "Epoch 4/200\n",
            "\u001b[1m79/79\u001b[0m \u001b[32m━━━━━━━━━━━━━━━━━━━━\u001b[0m\u001b[37m\u001b[0m \u001b[1m1s\u001b[0m 7ms/step - accuracy: 0.6412 - loss: 0.8028 - val_accuracy: 0.6880 - val_loss: 0.7780 - learning_rate: 0.0010\n",
            "Epoch 5/200\n",
            "\u001b[1m79/79\u001b[0m \u001b[32m━━━━━━━━━━━━━━━━━━━━\u001b[0m\u001b[37m\u001b[0m \u001b[1m1s\u001b[0m 7ms/step - accuracy: 0.6548 - loss: 0.7783 - val_accuracy: 0.7080 - val_loss: 0.7311 - learning_rate: 0.0010\n",
            "Epoch 6/200\n",
            "\u001b[1m79/79\u001b[0m \u001b[32m━━━━━━━━━━━━━━━━━━━━\u001b[0m\u001b[37m\u001b[0m \u001b[1m1s\u001b[0m 8ms/step - accuracy: 0.6800 - loss: 0.7432 - val_accuracy: 0.7056 - val_loss: 0.6764 - learning_rate: 0.0010\n",
            "Epoch 7/200\n",
            "\u001b[1m79/79\u001b[0m \u001b[32m━━━━━━━━━━━━━━━━━━━━\u001b[0m\u001b[37m\u001b[0m \u001b[1m1s\u001b[0m 10ms/step - accuracy: 0.6918 - loss: 0.7191 - val_accuracy: 0.7184 - val_loss: 0.6412 - learning_rate: 0.0010\n",
            "Epoch 8/200\n",
            "\u001b[1m79/79\u001b[0m \u001b[32m━━━━━━━━━━━━━━━━━━━━\u001b[0m\u001b[37m\u001b[0m \u001b[1m1s\u001b[0m 10ms/step - accuracy: 0.6848 - loss: 0.7122 - val_accuracy: 0.7320 - val_loss: 0.6259 - learning_rate: 0.0010\n",
            "Epoch 9/200\n",
            "\u001b[1m79/79\u001b[0m \u001b[32m━━━━━━━━━━━━━━━━━━━━\u001b[0m\u001b[37m\u001b[0m \u001b[1m1s\u001b[0m 7ms/step - accuracy: 0.7039 - loss: 0.6958 - val_accuracy: 0.7408 - val_loss: 0.6172 - learning_rate: 0.0010\n",
            "Epoch 10/200\n",
            "\u001b[1m79/79\u001b[0m \u001b[32m━━━━━━━━━━━━━━━━━━━━\u001b[0m\u001b[37m\u001b[0m \u001b[1m1s\u001b[0m 7ms/step - accuracy: 0.7146 - loss: 0.6703 - val_accuracy: 0.7400 - val_loss: 0.6089 - learning_rate: 0.0010\n",
            "Epoch 11/200\n",
            "\u001b[1m79/79\u001b[0m \u001b[32m━━━━━━━━━━━━━━━━━━━━\u001b[0m\u001b[37m\u001b[0m \u001b[1m1s\u001b[0m 7ms/step - accuracy: 0.7209 - loss: 0.6573 - val_accuracy: 0.7384 - val_loss: 0.6098 - learning_rate: 0.0010\n",
            "Epoch 12/200\n",
            "\u001b[1m79/79\u001b[0m \u001b[32m━━━━━━━━━━━━━━━━━━━━\u001b[0m\u001b[37m\u001b[0m \u001b[1m1s\u001b[0m 7ms/step - accuracy: 0.7266 - loss: 0.6591 - val_accuracy: 0.7384 - val_loss: 0.6093 - learning_rate: 0.0010\n",
            "Epoch 13/200\n",
            "\u001b[1m79/79\u001b[0m \u001b[32m━━━━━━━━━━━━━━━━━━━━\u001b[0m\u001b[37m\u001b[0m \u001b[1m1s\u001b[0m 7ms/step - accuracy: 0.7279 - loss: 0.6412 - val_accuracy: 0.7448 - val_loss: 0.6066 - learning_rate: 0.0010\n",
            "Epoch 14/200\n",
            "\u001b[1m79/79\u001b[0m \u001b[32m━━━━━━━━━━━━━━━━━━━━\u001b[0m\u001b[37m\u001b[0m \u001b[1m1s\u001b[0m 7ms/step - accuracy: 0.7269 - loss: 0.6437 - val_accuracy: 0.7336 - val_loss: 0.6290 - learning_rate: 0.0010\n",
            "Epoch 15/200\n",
            "\u001b[1m79/79\u001b[0m \u001b[32m━━━━━━━━━━━━━━━━━━━━\u001b[0m\u001b[37m\u001b[0m \u001b[1m1s\u001b[0m 7ms/step - accuracy: 0.7282 - loss: 0.6373 - val_accuracy: 0.7400 - val_loss: 0.6032 - learning_rate: 0.0010\n",
            "Epoch 16/200\n",
            "\u001b[1m79/79\u001b[0m \u001b[32m━━━━━━━━━━━━━━━━━━━━\u001b[0m\u001b[37m\u001b[0m \u001b[1m1s\u001b[0m 7ms/step - accuracy: 0.7380 - loss: 0.6355 - val_accuracy: 0.7432 - val_loss: 0.6081 - learning_rate: 0.0010\n",
            "Epoch 17/200\n",
            "\u001b[1m79/79\u001b[0m \u001b[32m━━━━━━━━━━━━━━━━━━━━\u001b[0m\u001b[37m\u001b[0m \u001b[1m1s\u001b[0m 8ms/step - accuracy: 0.7338 - loss: 0.6153 - val_accuracy: 0.7488 - val_loss: 0.6042 - learning_rate: 0.0010\n",
            "Epoch 18/200\n",
            "\u001b[1m79/79\u001b[0m \u001b[32m━━━━━━━━━━━━━━━━━━━━\u001b[0m\u001b[37m\u001b[0m \u001b[1m1s\u001b[0m 7ms/step - accuracy: 0.7445 - loss: 0.6241 - val_accuracy: 0.7536 - val_loss: 0.6049 - learning_rate: 0.0010\n",
            "Epoch 19/200\n",
            "\u001b[1m79/79\u001b[0m \u001b[32m━━━━━━━━━━━━━━━━━━━━\u001b[0m\u001b[37m\u001b[0m \u001b[1m1s\u001b[0m 8ms/step - accuracy: 0.7370 - loss: 0.6228 - val_accuracy: 0.7480 - val_loss: 0.6005 - learning_rate: 0.0010\n",
            "Epoch 20/200\n",
            "\u001b[1m79/79\u001b[0m \u001b[32m━━━━━━━━━━━━━━━━━━━━\u001b[0m\u001b[37m\u001b[0m \u001b[1m1s\u001b[0m 7ms/step - accuracy: 0.7459 - loss: 0.6173 - val_accuracy: 0.7488 - val_loss: 0.6035 - learning_rate: 0.0010\n",
            "Epoch 21/200\n",
            "\u001b[1m79/79\u001b[0m \u001b[32m━━━━━━━━━━━━━━━━━━━━\u001b[0m\u001b[37m\u001b[0m \u001b[1m1s\u001b[0m 8ms/step - accuracy: 0.7357 - loss: 0.6082 - val_accuracy: 0.7568 - val_loss: 0.6080 - learning_rate: 0.0010\n",
            "Epoch 22/200\n",
            "\u001b[1m79/79\u001b[0m \u001b[32m━━━━━━━━━━━━━━━━━━━━\u001b[0m\u001b[37m\u001b[0m \u001b[1m1s\u001b[0m 8ms/step - accuracy: 0.7431 - loss: 0.6141 - val_accuracy: 0.7488 - val_loss: 0.6048 - learning_rate: 0.0010\n",
            "Epoch 23/200\n",
            "\u001b[1m79/79\u001b[0m \u001b[32m━━━━━━━━━━━━━━━━━━━━\u001b[0m\u001b[37m\u001b[0m \u001b[1m1s\u001b[0m 9ms/step - accuracy: 0.7530 - loss: 0.6112 - val_accuracy: 0.7448 - val_loss: 0.6107 - learning_rate: 0.0010\n",
            "Epoch 24/200\n",
            "\u001b[1m79/79\u001b[0m \u001b[32m━━━━━━━━━━━━━━━━━━━━\u001b[0m\u001b[37m\u001b[0m \u001b[1m1s\u001b[0m 8ms/step - accuracy: 0.7519 - loss: 0.5937 - val_accuracy: 0.7536 - val_loss: 0.6219 - learning_rate: 0.0010\n",
            "mean num of epochs per fold is : 19.6\n"
          ]
        }
      ]
    },
    {
      "cell_type": "markdown",
      "source": [
        "## retraining on the whole data\n",
        "\n",
        "now, knowing the proper number of epochs, we retrain the nn on the whole training data without the folds"
      ],
      "metadata": {
        "id": "DJiF_KdN4fbH"
      }
    },
    {
      "cell_type": "code",
      "source": [
        "import math\n",
        "\n",
        "model_classification = models.Sequential()\n",
        "model_logits= models.Sequential()\n",
        "\n",
        "\n",
        "input_layer = layers.Input(shape=(29,), name=\"input_layer\")\n",
        "\n",
        "model_classification.add(input_layer)\n",
        "model_logits.add(input_layer)\n",
        "\n",
        "\n",
        "\n",
        "for i, units in enumerate([1024, 1024, 512, 512, 256, 256, 128, 128, 64, 64, 32, 32]):\n",
        "    dense_layer = layers.Dense(units, name=f\"dense_layer_{i}\")\n",
        "    leaky_relu = LeakyReLU(alpha=0.1, name=f\"leaky_relu_{i}\")\n",
        "    batch_norm = layers.BatchNormalization(name=f\"batch_norm_{i}\")\n",
        "    dropout = layers.Dropout(0.3 if units > 128 else 0.2, name=f\"dropout_{i}\")\n",
        "\n",
        "    # Add the layers to both models\n",
        "    model_classification.add(dense_layer)\n",
        "    model_classification.add(leaky_relu)\n",
        "    model_classification.add(batch_norm)\n",
        "    model_classification.add(dropout)\n",
        "\n",
        "    model_logits.add(dense_layer)\n",
        "    model_logits.add(leaky_relu)\n",
        "    model_logits.add(batch_norm)\n",
        "    model_logits.add(dropout)\n",
        "\n",
        "\n",
        "logits_output = layers.Dense(3, name=\"logits\")\n",
        "model_classification.add(logits_output)\n",
        "model_logits.add(logits_output)\n",
        "softmax_output = layers.Activation('softmax', name=\"softmax\")\n",
        "model_classification.add(softmax_output)\n",
        "\n",
        "\n",
        "\n",
        "# Compilation\n",
        "model_classification.compile(optimizer=Adam(learning_rate=1e-3),\n",
        "              loss='categorical_crossentropy',\n",
        "              metrics=['accuracy'])\n",
        "\n",
        "# model_NN.summary()\n",
        "\n",
        "history = model_classification.fit(\n",
        "    X_train_processed, y_train_cat,\n",
        "    epochs=math.floor(np.mean(epochs_per_fold)),\n",
        "    batch_size=64,\n",
        ")\n",
        "\n",
        "\n",
        "logits_dev = model_logits.predict(X_dev_processed)\n",
        "logits_train = model_logits.predict(X_train_processed)\n",
        "np.save(\"dev_logits_description.npy\", logits_dev)\n",
        "np.save(\"train_logits_description.npy\", logits_train)\n",
        "\n",
        "\n"
      ],
      "metadata": {
        "id": "RZzk4TkP4juZ",
        "outputId": "3e81a020-8510-4d8d-da1d-26b4bf52ff2e",
        "colab": {
          "base_uri": "https://localhost:8080/"
        }
      },
      "execution_count": 5,
      "outputs": [
        {
          "output_type": "stream",
          "name": "stdout",
          "text": [
            "Epoch 1/19\n",
            "\u001b[1m98/98\u001b[0m \u001b[32m━━━━━━━━━━━━━━━━━━━━\u001b[0m\u001b[37m\u001b[0m \u001b[1m27s\u001b[0m 104ms/step - accuracy: 0.4191 - loss: 1.3588\n",
            "Epoch 2/19\n",
            "\u001b[1m98/98\u001b[0m \u001b[32m━━━━━━━━━━━━━━━━━━━━\u001b[0m\u001b[37m\u001b[0m \u001b[1m1s\u001b[0m 6ms/step - accuracy: 0.6054 - loss: 0.8996\n",
            "Epoch 3/19\n",
            "\u001b[1m98/98\u001b[0m \u001b[32m━━━━━━━━━━━━━━━━━━━━\u001b[0m\u001b[37m\u001b[0m \u001b[1m1s\u001b[0m 6ms/step - accuracy: 0.6400 - loss: 0.7888\n",
            "Epoch 4/19\n",
            "\u001b[1m98/98\u001b[0m \u001b[32m━━━━━━━━━━━━━━━━━━━━\u001b[0m\u001b[37m\u001b[0m \u001b[1m1s\u001b[0m 6ms/step - accuracy: 0.6605 - loss: 0.7664\n",
            "Epoch 5/19\n",
            "\u001b[1m98/98\u001b[0m \u001b[32m━━━━━━━━━━━━━━━━━━━━\u001b[0m\u001b[37m\u001b[0m \u001b[1m1s\u001b[0m 6ms/step - accuracy: 0.6870 - loss: 0.7322\n",
            "Epoch 6/19\n",
            "\u001b[1m98/98\u001b[0m \u001b[32m━━━━━━━━━━━━━━━━━━━━\u001b[0m\u001b[37m\u001b[0m \u001b[1m1s\u001b[0m 6ms/step - accuracy: 0.6961 - loss: 0.7015\n",
            "Epoch 7/19\n",
            "\u001b[1m98/98\u001b[0m \u001b[32m━━━━━━━━━━━━━━━━━━━━\u001b[0m\u001b[37m\u001b[0m \u001b[1m1s\u001b[0m 6ms/step - accuracy: 0.7123 - loss: 0.6862\n",
            "Epoch 8/19\n",
            "\u001b[1m98/98\u001b[0m \u001b[32m━━━━━━━━━━━━━━━━━━━━\u001b[0m\u001b[37m\u001b[0m \u001b[1m1s\u001b[0m 6ms/step - accuracy: 0.7208 - loss: 0.6761\n",
            "Epoch 9/19\n",
            "\u001b[1m98/98\u001b[0m \u001b[32m━━━━━━━━━━━━━━━━━━━━\u001b[0m\u001b[37m\u001b[0m \u001b[1m1s\u001b[0m 6ms/step - accuracy: 0.7261 - loss: 0.6604\n",
            "Epoch 10/19\n",
            "\u001b[1m98/98\u001b[0m \u001b[32m━━━━━━━━━━━━━━━━━━━━\u001b[0m\u001b[37m\u001b[0m \u001b[1m1s\u001b[0m 6ms/step - accuracy: 0.7408 - loss: 0.6386\n",
            "Epoch 11/19\n",
            "\u001b[1m98/98\u001b[0m \u001b[32m━━━━━━━━━━━━━━━━━━━━\u001b[0m\u001b[37m\u001b[0m \u001b[1m1s\u001b[0m 6ms/step - accuracy: 0.7410 - loss: 0.6377\n",
            "Epoch 12/19\n",
            "\u001b[1m98/98\u001b[0m \u001b[32m━━━━━━━━━━━━━━━━━━━━\u001b[0m\u001b[37m\u001b[0m \u001b[1m1s\u001b[0m 7ms/step - accuracy: 0.7365 - loss: 0.6451\n",
            "Epoch 13/19\n",
            "\u001b[1m98/98\u001b[0m \u001b[32m━━━━━━━━━━━━━━━━━━━━\u001b[0m\u001b[37m\u001b[0m \u001b[1m1s\u001b[0m 7ms/step - accuracy: 0.7470 - loss: 0.6272\n",
            "Epoch 14/19\n",
            "\u001b[1m98/98\u001b[0m \u001b[32m━━━━━━━━━━━━━━━━━━━━\u001b[0m\u001b[37m\u001b[0m \u001b[1m1s\u001b[0m 6ms/step - accuracy: 0.7428 - loss: 0.6357\n",
            "Epoch 15/19\n",
            "\u001b[1m98/98\u001b[0m \u001b[32m━━━━━━━━━━━━━━━━━━━━\u001b[0m\u001b[37m\u001b[0m \u001b[1m1s\u001b[0m 6ms/step - accuracy: 0.7476 - loss: 0.6298\n",
            "Epoch 16/19\n",
            "\u001b[1m98/98\u001b[0m \u001b[32m━━━━━━━━━━━━━━━━━━━━\u001b[0m\u001b[37m\u001b[0m \u001b[1m1s\u001b[0m 6ms/step - accuracy: 0.7515 - loss: 0.6104\n",
            "Epoch 17/19\n",
            "\u001b[1m98/98\u001b[0m \u001b[32m━━━━━━━━━━━━━━━━━━━━\u001b[0m\u001b[37m\u001b[0m \u001b[1m1s\u001b[0m 6ms/step - accuracy: 0.7573 - loss: 0.6150\n",
            "Epoch 18/19\n",
            "\u001b[1m98/98\u001b[0m \u001b[32m━━━━━━━━━━━━━━━━━━━━\u001b[0m\u001b[37m\u001b[0m \u001b[1m1s\u001b[0m 6ms/step - accuracy: 0.7579 - loss: 0.6066\n",
            "Epoch 19/19\n",
            "\u001b[1m98/98\u001b[0m \u001b[32m━━━━━━━━━━━━━━━━━━━━\u001b[0m\u001b[37m\u001b[0m \u001b[1m1s\u001b[0m 6ms/step - accuracy: 0.7502 - loss: 0.6098\n",
            "\u001b[1m10/10\u001b[0m \u001b[32m━━━━━━━━━━━━━━━━━━━━\u001b[0m\u001b[37m\u001b[0m \u001b[1m2s\u001b[0m 106ms/step\n",
            "\u001b[1m196/196\u001b[0m \u001b[32m━━━━━━━━━━━━━━━━━━━━\u001b[0m\u001b[37m\u001b[0m \u001b[1m1s\u001b[0m 5ms/step\n"
          ]
        }
      ]
    },
    {
      "cell_type": "code",
      "source": [
        "# Predictions on train\n",
        "y_train_pred = model_classification.predict(X_train_processed)\n",
        "y_train_pred_classes = np.argmax(y_train_pred, axis=1)\n",
        "y_train_true_classes = np.argmax(y_train_cat, axis=1)\n",
        "\n",
        "# Predictions on dev\n",
        "y_dev_pred = model_classification.predict(X_dev_processed)\n",
        "y_dev_pred_classes = np.argmax(y_dev_pred, axis=1)\n",
        "y_dev_true_classes = np.argmax(y_dev_cat, axis=1)\n",
        "\n",
        "# Accuracy\n",
        "train_accuracy = accuracy_score(y_train_true_classes, y_train_pred_classes)\n",
        "dev_accuracy = accuracy_score(y_dev_true_classes, y_dev_pred_classes)\n",
        "\n",
        "print(f\"Train accuracy : {train_accuracy * 100:.2f}%\")\n",
        "print(f\"Dev accuracy   : {dev_accuracy * 100:.2f}%\")\n"
      ],
      "metadata": {
        "id": "VrJAqGTC-a5W",
        "outputId": "f8128939-be1e-43a3-e94f-f49811622534",
        "colab": {
          "base_uri": "https://localhost:8080/"
        }
      },
      "execution_count": 6,
      "outputs": [
        {
          "output_type": "stream",
          "name": "stdout",
          "text": [
            "\u001b[1m196/196\u001b[0m \u001b[32m━━━━━━━━━━━━━━━━━━━━\u001b[0m\u001b[37m\u001b[0m \u001b[1m2s\u001b[0m 5ms/step\n",
            "\u001b[1m10/10\u001b[0m \u001b[32m━━━━━━━━━━━━━━━━━━━━\u001b[0m\u001b[37m\u001b[0m \u001b[1m0s\u001b[0m 32ms/step\n",
            "Train accuracy : 77.00%\n",
            "Dev accuracy   : 74.00%\n"
          ]
        }
      ]
    },
    {
      "cell_type": "code",
      "source": [
        "model_logits.save(\"model_logits_features.keras\")"
      ],
      "metadata": {
        "id": "AegsLgIDFO5C"
      },
      "execution_count": 7,
      "outputs": []
    },
    {
      "cell_type": "markdown",
      "source": [
        "## Different approaches\n",
        "we do not limit ourselves to deep learning approach with NN, but also try the more lightweight approaches from the classical ml such as: Random Forest, Logistic Regression, XGBoost, SVM and asses the outcomes by evaluating on the dev set and visualizin the outcomes with confusion matrices"
      ],
      "metadata": {
        "id": "qP6pe5iKjAj9"
      }
    },
    {
      "cell_type": "markdown",
      "source": [
        "### Random Forest"
      ],
      "metadata": {
        "id": "8TPlwyyh2stA"
      }
    },
    {
      "cell_type": "code",
      "source": [
        "# From one hot to labels\n",
        "y_train_int = np.argmax(y_train_cat, axis=1)\n",
        "y_dev_int = np.argmax(y_dev_cat, axis=1)\n",
        "\n",
        "# Random Forest model, and training\n",
        "model_RF = RandomForestClassifier(n_estimators=100, random_state=42)\n",
        "model_RF.fit(X_train_processed, y_train_int)\n",
        "\n",
        "# Predictions\n",
        "y_train_pred = model_RF.predict(X_train_processed)\n",
        "y_dev_pred = model_RF.predict(X_dev_processed)\n",
        "\n",
        "# Calculate accuracy\n",
        "train_accuracy = accuracy_score(y_train_int, y_train_pred)\n",
        "dev_accuracy = accuracy_score(y_dev_int, y_dev_pred)\n",
        "\n",
        "print(f\"Accuracy on Train: {train_accuracy * 100:.2f}%\")\n",
        "print(f\"Accuracy on Dev: {dev_accuracy * 100:.2f}%\")\n"
      ],
      "metadata": {
        "colab": {
          "base_uri": "https://localhost:8080/"
        },
        "id": "XKSsppTe3-BZ",
        "outputId": "1f5129d9-0703-4666-f6d2-7670d17a472c"
      },
      "execution_count": null,
      "outputs": [
        {
          "output_type": "stream",
          "name": "stdout",
          "text": [
            "Accuracy on Train: 99.70%\n",
            "Accuracy on Dev: 75.00%\n"
          ]
        }
      ]
    },
    {
      "cell_type": "code",
      "source": [
        "# Classification report\n",
        "print(classification_report(y_dev_int, y_dev_pred))"
      ],
      "metadata": {
        "outputId": "705a61da-4135-42c4-a8c7-8fe6dd3ec6f5",
        "colab": {
          "base_uri": "https://localhost:8080/"
        },
        "id": "RdxHm-sYPuCC"
      },
      "execution_count": null,
      "outputs": [
        {
          "output_type": "stream",
          "name": "stdout",
          "text": [
            "              precision    recall  f1-score   support\n",
            "\n",
            "           0       0.68      0.74      0.71        76\n",
            "           1       0.69      0.61      0.65       107\n",
            "           2       0.84      0.89      0.86       117\n",
            "\n",
            "    accuracy                           0.75       300\n",
            "   macro avg       0.74      0.74      0.74       300\n",
            "weighted avg       0.75      0.75      0.75       300\n",
            "\n"
          ]
        }
      ]
    },
    {
      "cell_type": "code",
      "source": [
        "# Confusion Matrix\n",
        "cm_NN = confusion_matrix(y_dev_int, y_dev_pred)\n",
        "plt.figure(figsize=(8,6))\n",
        "classes = ['cultural exclusive', 'cultural representative', 'cultural agnostic']\n",
        "sns.heatmap(cm_NN, annot=True, fmt=\"d\", cmap=\"Blues\", vmin=0, xticklabels=classes, yticklabels=classes)\n",
        "plt.xlabel(\"Predicted\")\n",
        "plt.ylabel(\"True\")\n",
        "plt.title(\"Confusion Matrix for the Random Forest Model\")\n",
        "plt.show()\n"
      ],
      "metadata": {
        "outputId": "bb03ebe4-38c6-4c40-be7f-09853f7a6194",
        "colab": {
          "base_uri": "https://localhost:8080/",
          "height": 564
        },
        "id": "k_HHQbj5PuCE"
      },
      "execution_count": null,
      "outputs": [
        {
          "output_type": "display_data",
          "data": {
            "text/plain": [
              "<Figure size 800x600 with 2 Axes>"
            ],
            "image/png": "[encoded data removed]"
          },
          "metadata": {}
        }
      ]
    },
    {
      "cell_type": "markdown",
      "source": [
        "### XGBoost"
      ],
      "metadata": {
        "id": "io-G-dXsAgt-"
      }
    },
    {
      "cell_type": "code",
      "source": [
        "# Define XGBoost model\n",
        "model_XG = XGBClassifier(use_label_encoder=False, eval_metric='mlogloss')\n",
        "\n",
        "# Train model\n",
        "model_XG.fit(X_train_processed, y_train)\n",
        "\n",
        "# Predictions\n",
        "y_train_pred = model_XG.predict(X_train_processed)\n",
        "y_dev_pred = model_XG.predict(X_dev_processed)\n",
        "\n",
        "# Calculate accuracy\n",
        "train_accuracy = accuracy_score(y_train, y_train_pred)\n",
        "dev_accuracy = accuracy_score(y_dev, y_dev_pred)\n",
        "\n",
        "print(f\"Accuracy on Train: {train_accuracy * 100:.2f}%\")\n",
        "print(f\"Accuracy on Dev: {dev_accuracy * 100:.2f}%\")"
      ],
      "metadata": {
        "id": "dh9uVSPoAgYD",
        "outputId": "579a84d1-ff3e-418b-efa6-ea5e21af7e5e",
        "colab": {
          "base_uri": "https://localhost:8080/"
        }
      },
      "execution_count": null,
      "outputs": [
        {
          "output_type": "stream",
          "name": "stderr",
          "text": [
            "/usr/local/lib/python3.11/dist-packages/xgboost/core.py:158: UserWarning: [08:10:00] WARNING: /workspace/src/learner.cc:740: \n",
            "Parameters: { \"use_label_encoder\" } are not used.\n",
            "\n",
            "  warnings.warn(smsg, UserWarning)\n"
          ]
        },
        {
          "output_type": "stream",
          "name": "stdout",
          "text": [
            "Accuracy on Train: 90.91%\n",
            "Accuracy on Dev: 72.33%\n"
          ]
        }
      ]
    },
    {
      "cell_type": "code",
      "source": [
        "# Classification report\n",
        "print(classification_report(y_dev, y_dev_pred))"
      ],
      "metadata": {
        "outputId": "0af78b17-5411-4d00-ff7b-427d0336dbe7",
        "colab": {
          "base_uri": "https://localhost:8080/"
        },
        "id": "Lrji0XI6QOba"
      },
      "execution_count": null,
      "outputs": [
        {
          "output_type": "stream",
          "name": "stdout",
          "text": [
            "              precision    recall  f1-score   support\n",
            "\n",
            "           0       0.68      0.66      0.67        76\n",
            "           1       0.65      0.61      0.63       107\n",
            "           2       0.81      0.87      0.84       117\n",
            "\n",
            "    accuracy                           0.72       300\n",
            "   macro avg       0.71      0.71      0.71       300\n",
            "weighted avg       0.72      0.72      0.72       300\n",
            "\n"
          ]
        }
      ]
    },
    {
      "cell_type": "code",
      "source": [
        "# Confusion Matrix\n",
        "cm_NN = confusion_matrix(y_dev, y_dev_pred)\n",
        "plt.figure(figsize=(8,6))\n",
        "classes = ['cultural exclusive', 'cultural representative', 'cultural agnostic']\n",
        "sns.heatmap(cm_NN, annot=True, fmt=\"d\", cmap=\"Blues\", vmin=0, xticklabels=classes, yticklabels=classes)\n",
        "plt.xlabel(\"Predicted\")\n",
        "plt.ylabel(\"True\")\n",
        "plt.title(\"Confusion Matrix for the Random Forest Model\")\n",
        "plt.show()\n"
      ],
      "metadata": {
        "outputId": "459458ca-4c60-4d7e-8612-9a843e47cbc6",
        "colab": {
          "base_uri": "https://localhost:8080/",
          "height": 564
        },
        "id": "e0iTbQGFQObc"
      },
      "execution_count": null,
      "outputs": [
        {
          "output_type": "display_data",
          "data": {
            "text/plain": [
              "<Figure size 800x600 with 2 Axes>"
            ],
            "image/png": "[encoded data removed]"
          },
          "metadata": {}
        }
      ]
    },
    {
      "cell_type": "markdown",
      "source": [
        "### SVM"
      ],
      "metadata": {
        "id": "SMcQwioOA8qN"
      }
    },
    {
      "cell_type": "code",
      "source": [
        "# From one hot to labels\n",
        "y_train_int = np.argmax(y_train_cat, axis=1)\n",
        "y_dev_int = np.argmax(y_dev_cat, axis=1)\n",
        "\n",
        "# Model SVM and training\n",
        "model_SV = SVC(kernel='rbf', probability=True)\n",
        "model_SV.fit(X_train_processed, y_train_int)\n",
        "\n",
        "# Predictions\n",
        "y_train_pred = model_SV.predict(X_train_processed)\n",
        "y_dev_pred = model_SV.predict(X_dev_processed)\n",
        "\n",
        "# Calculate accuracy\n",
        "train_accuracy = accuracy_score(y_train_int, y_train_pred)\n",
        "dev_accuracy = accuracy_score(y_dev_int, y_dev_pred)\n",
        "\n",
        "print(f\"Accuracy on Train: {train_accuracy * 100:.2f}%\")\n",
        "print(f\"Accuracy on Dev: {dev_accuracy * 100:.2f}%\")"
      ],
      "metadata": {
        "id": "1oexmSbzA8gl",
        "outputId": "9e80c600-9516-4757-ed0d-d1305531c084",
        "colab": {
          "base_uri": "https://localhost:8080/"
        }
      },
      "execution_count": null,
      "outputs": [
        {
          "output_type": "stream",
          "name": "stdout",
          "text": [
            "Accuracy on Train: 77.75%\n",
            "Accuracy on Dev: 74.00%\n"
          ]
        }
      ]
    },
    {
      "cell_type": "code",
      "source": [
        "# Classification report\n",
        "print(classification_report(y_dev_int, y_dev_pred))"
      ],
      "metadata": {
        "outputId": "41cb3bb7-5fb5-4bd9-859f-c004468715d9",
        "colab": {
          "base_uri": "https://localhost:8080/"
        },
        "id": "gzGHOvPdQdQm"
      },
      "execution_count": null,
      "outputs": [
        {
          "output_type": "stream",
          "name": "stdout",
          "text": [
            "              precision    recall  f1-score   support\n",
            "\n",
            "           0       0.67      0.72      0.70        76\n",
            "           1       0.73      0.53      0.62       107\n",
            "           2       0.79      0.94      0.86       117\n",
            "\n",
            "    accuracy                           0.74       300\n",
            "   macro avg       0.73      0.73      0.72       300\n",
            "weighted avg       0.74      0.74      0.73       300\n",
            "\n"
          ]
        }
      ]
    },
    {
      "cell_type": "code",
      "source": [
        "# Confusion Matrix\n",
        "cm_NN = confusion_matrix(y_dev_int, y_dev_pred)\n",
        "plt.figure(figsize=(8,6))\n",
        "classes = ['cultural exclusive', 'cultural representative', 'cultural agnostic']\n",
        "sns.heatmap(cm_NN, annot=True, fmt=\"d\", cmap=\"Blues\", vmin=0, xticklabels=classes, yticklabels=classes)\n",
        "plt.xlabel(\"Predicted\")\n",
        "plt.ylabel(\"True\")\n",
        "plt.title(\"Confusion Matrix for the Random Forest Model\")\n",
        "plt.show()\n"
      ],
      "metadata": {
        "outputId": "3d8888cd-ca1e-401c-fed2-0b770a2d1fbe",
        "colab": {
          "base_uri": "https://localhost:8080/",
          "height": 564
        },
        "id": "hp4A2vQHQdQo"
      },
      "execution_count": null,
      "outputs": [
        {
          "output_type": "display_data",
          "data": {
            "text/plain": [
              "<Figure size 800x600 with 2 Axes>"
            ],
            "image/png": "[encoded data removed]"
          },
          "metadata": {}
        }
      ]
    },
    {
      "cell_type": "markdown",
      "source": [
        "### Logistic Regression"
      ],
      "metadata": {
        "id": "droCHEMwBUkd"
      }
    },
    {
      "cell_type": "code",
      "source": [
        "# From one hot to labels\n",
        "y_train_int = np.argmax(y_train_cat, axis=1)\n",
        "y_dev_int = np.argmax(y_dev_cat, axis=1)\n",
        "\n",
        "# Model : Logistic regression. Training\n",
        "model_LR = LogisticRegression(multi_class='multinomial', max_iter=1000)\n",
        "model_LR.fit(X_train_processed, y_train_int)\n",
        "\n",
        "# Prediction\n",
        "y_train_pred = model_LR.predict(X_train_processed)\n",
        "y_dev_pred = model_LR.predict(X_dev_processed)\n",
        "\n",
        "# Calculate accuracy\n",
        "train_accuracy = accuracy_score(y_train_int, y_train_pred)\n",
        "dev_accuracy = accuracy_score(y_dev_int, y_dev_pred)\n",
        "\n",
        "print(f\"Accuracy on Train: {train_accuracy * 100:.2f}%\")\n",
        "print(f\"Accuracy on Dev: {dev_accuracy * 100:.2f}%\")"
      ],
      "metadata": {
        "id": "dxyJUbmoBTnc",
        "outputId": "c246ac61-4153-446e-d68e-fc3111d921dd",
        "colab": {
          "base_uri": "https://localhost:8080/"
        }
      },
      "execution_count": null,
      "outputs": [
        {
          "output_type": "stream",
          "name": "stdout",
          "text": [
            "Accuracy on Train: 75.04%\n",
            "Accuracy on Dev: 76.33%\n"
          ]
        }
      ]
    },
    {
      "cell_type": "code",
      "source": [
        "# Classification report\n",
        "print(classification_report(y_dev_int, y_dev_pred))"
      ],
      "metadata": {
        "outputId": "0c84e4b7-2f6e-4662-e2e3-d7197d6eae5b",
        "colab": {
          "base_uri": "https://localhost:8080/"
        },
        "id": "hGDb6dEnQsPR"
      },
      "execution_count": null,
      "outputs": [
        {
          "output_type": "stream",
          "name": "stdout",
          "text": [
            "              precision    recall  f1-score   support\n",
            "\n",
            "           0       0.70      0.74      0.72        76\n",
            "           1       0.78      0.58      0.67       107\n",
            "           2       0.79      0.95      0.86       117\n",
            "\n",
            "    accuracy                           0.76       300\n",
            "   macro avg       0.76      0.75      0.75       300\n",
            "weighted avg       0.76      0.76      0.76       300\n",
            "\n"
          ]
        }
      ]
    },
    {
      "cell_type": "code",
      "source": [
        "# Confusion Matrix\n",
        "cm_NN = confusion_matrix(y_dev_int, y_dev_pred)\n",
        "plt.figure(figsize=(8,6))\n",
        "classes = ['cultural exclusive', 'cultural representative', 'cultural agnostic']\n",
        "sns.heatmap(cm_NN, annot=True, fmt=\"d\", cmap=\"Blues\", vmin=0, xticklabels=classes, yticklabels=classes)\n",
        "plt.xlabel(\"Predicted\")\n",
        "plt.ylabel(\"True\")\n",
        "plt.title(\"Confusion Matrix for the Random Forest Model\")\n",
        "plt.show()"
      ],
      "metadata": {
        "id": "GBOQnvVCQy67",
        "outputId": "2ac717f7-17e4-4d7d-ae8c-a7c2f6f6dbeb",
        "colab": {
          "base_uri": "https://localhost:8080/",
          "height": 564
        }
      },
      "execution_count": null,
      "outputs": [
        {
          "output_type": "display_data",
          "data": {
            "text/plain": [
              "<Figure size 800x600 with 2 Axes>"
            ],
            "image/png": "[encoded data removed]"
          },
          "metadata": {}
        }
      ]
    },
    {
      "cell_type": "markdown",
      "source": [
        "# Exportation of the ML models"
      ],
      "metadata": {
        "id": "sDb4YYj7Cgh2"
      }
    },
    {
      "cell_type": "code",
      "source": [
        "# Save the model\n",
        "#model_NN.save('model_NN.keras')\n",
        "#model_RF.save('model_RF.keras')\n",
        "#model_SV.save('model_SV.keras')\n",
        "#model_XG.save('model_XG.keras')\n",
        "#model_LR.save('model_LR.keras')"
      ],
      "metadata": {
        "id": "NLHD5Mo_CgDj"
      },
      "execution_count": null,
      "outputs": []
    }
  ]
}