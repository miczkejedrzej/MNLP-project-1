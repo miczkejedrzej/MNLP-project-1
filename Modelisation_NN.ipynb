{
  "nbformat": 4,
  "nbformat_minor": 0,
  "metadata": {
    "colab": {
      "provenance": [],
      "authorship_tag": "ABX9TyMrrjYaMquXFEyWEQAYGGuk",
      "include_colab_link": true
    },
    "kernelspec": {
      "name": "python3",
      "display_name": "Python 3"
    },
    "language_info": {
      "name": "python"
    }
  },
  "cells": [
    {
      "cell_type": "markdown",
      "metadata": {
        "id": "view-in-github",
        "colab_type": "text"
      },
      "source": [
        "<a href=\"https://colab.research.google.com/github/miczkejedrzej/MNLP-project-1/blob/main/Modelisation_NN.ipynb\" target=\"_parent\"><img src=\"https://colab.research.google.com/assets/colab-badge.svg\" alt=\"Open In Colab\"/></a>"
      ]
    },
    {
      "cell_type": "code",
      "execution_count": null,
      "metadata": {
        "id": "YZSRucX6c70p"
      },
      "outputs": [],
      "source": [
        "# Import of the training data\n",
        "\n",
        "from google.colab import files\n",
        "uploaded = files.upload()\n",
        "\n",
        "# Import of moduls\n",
        "\n",
        "import matplotlib.pyplot as plt\n",
        "import pandas as pd\n",
        "import numpy as np\n",
        "import json\n",
        "\n",
        "from tqdm.auto import tqdm\n",
        "import warnings\n",
        "warnings.simplefilter(action='ignore', category=FutureWarning)\n",
        "\n",
        "# Loading the data\n",
        "train_df = pd.read_json('train_df_final.json', orient=\"records\", lines=True)\n",
        "dev_df = pd.read_json('dev_df_final.json', orient=\"records\", lines=True)"
      ]
    },
    {
      "cell_type": "code",
      "source": [
        "import torch\n",
        "print(torch.cuda.is_available())  # True if the GPU is available\n",
        "print(torch.cuda.get_device_name(0))  # Name of the GPU"
      ],
      "metadata": {
        "id": "tRwQcXERdt47"
      },
      "execution_count": null,
      "outputs": []
    }
  ]
}