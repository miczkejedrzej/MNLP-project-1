{
  "nbformat": 4,
  "nbformat_minor": 0,
  "metadata": {
    "colab": {
      "provenance": [],
      "gpuType": "T4",
      "toc_visible": true,
      "include_colab_link": true
    },
    "kernelspec": {
      "name": "python3",
      "display_name": "Python 3"
    },
    "language_info": {
      "name": "python"
    },
    "accelerator": "GPU",
    "widgets": {
      "application/vnd.jupyter.widget-state+json": {
        "01003a71aaf34100aa8be24dcee93182": {
          "model_module": "@jupyter-widgets/controls",
          "model_name": "HBoxModel",
          "model_module_version": "1.5.0",
          "state": {
            "_dom_classes": [],
            "_model_module": "@jupyter-widgets/controls",
            "_model_module_version": "1.5.0",
            "_model_name": "HBoxModel",
            "_view_count": null,
            "_view_module": "@jupyter-widgets/controls",
            "_view_module_version": "1.5.0",
            "_view_name": "HBoxView",
            "box_style": "",
            "children": [
              "IPY_MODEL_cb8197495fa1432b833325653d2e86b5",
              "IPY_MODEL_749b16f7389b40c6aec7c2cf3c7a4f0a",
              "IPY_MODEL_49507af7e0a04f6b9b0fed0bdde400f1"
            ],
            "layout": "IPY_MODEL_10a5ebe84fb0458e95c8e27cf70f68f9"
          }
        },
        "cb8197495fa1432b833325653d2e86b5": {
          "model_module": "@jupyter-widgets/controls",
          "model_name": "HTMLModel",
          "model_module_version": "1.5.0",
          "state": {
            "_dom_classes": [],
            "_model_module": "@jupyter-widgets/controls",
            "_model_module_version": "1.5.0",
            "_model_name": "HTMLModel",
            "_view_count": null,
            "_view_module": "@jupyter-widgets/controls",
            "_view_module_version": "1.5.0",
            "_view_name": "HTMLView",
            "description": "",
            "description_tooltip": null,
            "layout": "IPY_MODEL_bd5b3612ae034680b915016cc33dbee9",
            "placeholder": "​",
            "style": "IPY_MODEL_bb974c1da0c248b9bf6cd4bd5b581d0a",
            "value": "model_logits_photos.keras: 100%"
          }
        },
        "749b16f7389b40c6aec7c2cf3c7a4f0a": {
          "model_module": "@jupyter-widgets/controls",
          "model_name": "FloatProgressModel",
          "model_module_version": "1.5.0",
          "state": {
            "_dom_classes": [],
            "_model_module": "@jupyter-widgets/controls",
            "_model_module_version": "1.5.0",
            "_model_name": "FloatProgressModel",
            "_view_count": null,
            "_view_module": "@jupyter-widgets/controls",
            "_view_module_version": "1.5.0",
            "_view_name": "ProgressView",
            "bar_style": "success",
            "description": "",
            "description_tooltip": null,
            "layout": "IPY_MODEL_428102238652417a92c7537445292dff",
            "max": 517032,
            "min": 0,
            "orientation": "horizontal",
            "style": "IPY_MODEL_3148127b1ad44a96ba936f2675e33ea6",
            "value": 517032
          }
        },
        "49507af7e0a04f6b9b0fed0bdde400f1": {
          "model_module": "@jupyter-widgets/controls",
          "model_name": "HTMLModel",
          "model_module_version": "1.5.0",
          "state": {
            "_dom_classes": [],
            "_model_module": "@jupyter-widgets/controls",
            "_model_module_version": "1.5.0",
            "_model_name": "HTMLModel",
            "_view_count": null,
            "_view_module": "@jupyter-widgets/controls",
            "_view_module_version": "1.5.0",
            "_view_name": "HTMLView",
            "description": "",
            "description_tooltip": null,
            "layout": "IPY_MODEL_4a27344264604b4ca43c9733f4cad686",
            "placeholder": "​",
            "style": "IPY_MODEL_44b8a24142224e919700bcde903440c7",
            "value": " 517k/517k [00:01&lt;00:00, 441kB/s]"
          }
        },
        "10a5ebe84fb0458e95c8e27cf70f68f9": {
          "model_module": "@jupyter-widgets/base",
          "model_name": "LayoutModel",
          "model_module_version": "1.2.0",
          "state": {
            "_model_module": "@jupyter-widgets/base",
            "_model_module_version": "1.2.0",
            "_model_name": "LayoutModel",
            "_view_count": null,
            "_view_module": "@jupyter-widgets/base",
            "_view_module_version": "1.2.0",
            "_view_name": "LayoutView",
            "align_content": null,
            "align_items": null,
            "align_self": null,
            "border": null,
            "bottom": null,
            "display": null,
            "flex": null,
            "flex_flow": null,
            "grid_area": null,
            "grid_auto_columns": null,
            "grid_auto_flow": null,
            "grid_auto_rows": null,
            "grid_column": null,
            "grid_gap": null,
            "grid_row": null,
            "grid_template_areas": null,
            "grid_template_columns": null,
            "grid_template_rows": null,
            "height": null,
            "justify_content": null,
            "justify_items": null,
            "left": null,
            "margin": null,
            "max_height": null,
            "max_width": null,
            "min_height": null,
            "min_width": null,
            "object_fit": null,
            "object_position": null,
            "order": null,
            "overflow": null,
            "overflow_x": null,
            "overflow_y": null,
            "padding": null,
            "right": null,
            "top": null,
            "visibility": null,
            "width": null
          }
        },
        "bd5b3612ae034680b915016cc33dbee9": {
          "model_module": "@jupyter-widgets/base",
          "model_name": "LayoutModel",
          "model_module_version": "1.2.0",
          "state": {
            "_model_module": "@jupyter-widgets/base",
            "_model_module_version": "1.2.0",
            "_model_name": "LayoutModel",
            "_view_count": null,
            "_view_module": "@jupyter-widgets/base",
            "_view_module_version": "1.2.0",
            "_view_name": "LayoutView",
            "align_content": null,
            "align_items": null,
            "align_self": null,
            "border": null,
            "bottom": null,
            "display": null,
            "flex": null,
            "flex_flow": null,
            "grid_area": null,
            "grid_auto_columns": null,
            "grid_auto_flow": null,
            "grid_auto_rows": null,
            "grid_column": null,
            "grid_gap": null,
            "grid_row": null,
            "grid_template_areas": null,
            "grid_template_columns": null,
            "grid_template_rows": null,
            "height": null,
            "justify_content": null,
            "justify_items": null,
            "left": null,
            "margin": null,
            "max_height": null,
            "max_width": null,
            "min_height": null,
            "min_width": null,
            "object_fit": null,
            "object_position": null,
            "order": null,
            "overflow": null,
            "overflow_x": null,
            "overflow_y": null,
            "padding": null,
            "right": null,
            "top": null,
            "visibility": null,
            "width": null
          }
        },
        "bb974c1da0c248b9bf6cd4bd5b581d0a": {
          "model_module": "@jupyter-widgets/controls",
          "model_name": "DescriptionStyleModel",
          "model_module_version": "1.5.0",
          "state": {
            "_model_module": "@jupyter-widgets/controls",
            "_model_module_version": "1.5.0",
            "_model_name": "DescriptionStyleModel",
            "_view_count": null,
            "_view_module": "@jupyter-widgets/base",
            "_view_module_version": "1.2.0",
            "_view_name": "StyleView",
            "description_width": ""
          }
        },
        "428102238652417a92c7537445292dff": {
          "model_module": "@jupyter-widgets/base",
          "model_name": "LayoutModel",
          "model_module_version": "1.2.0",
          "state": {
            "_model_module": "@jupyter-widgets/base",
            "_model_module_version": "1.2.0",
            "_model_name": "LayoutModel",
            "_view_count": null,
            "_view_module": "@jupyter-widgets/base",
            "_view_module_version": "1.2.0",
            "_view_name": "LayoutView",
            "align_content": null,
            "align_items": null,
            "align_self": null,
            "border": null,
            "bottom": null,
            "display": null,
            "flex": null,
            "flex_flow": null,
            "grid_area": null,
            "grid_auto_columns": null,
            "grid_auto_flow": null,
            "grid_auto_rows": null,
            "grid_column": null,
            "grid_gap": null,
            "grid_row": null,
            "grid_template_areas": null,
            "grid_template_columns": null,
            "grid_template_rows": null,
            "height": null,
            "justify_content": null,
            "justify_items": null,
            "left": null,
            "margin": null,
            "max_height": null,
            "max_width": null,
            "min_height": null,
            "min_width": null,
            "object_fit": null,
            "object_position": null,
            "order": null,
            "overflow": null,
            "overflow_x": null,
            "overflow_y": null,
            "padding": null,
            "right": null,
            "top": null,
            "visibility": null,
            "width": null
          }
        },
        "3148127b1ad44a96ba936f2675e33ea6": {
          "model_module": "@jupyter-widgets/controls",
          "model_name": "ProgressStyleModel",
          "model_module_version": "1.5.0",
          "state": {
            "_model_module": "@jupyter-widgets/controls",
            "_model_module_version": "1.5.0",
            "_model_name": "ProgressStyleModel",
            "_view_count": null,
            "_view_module": "@jupyter-widgets/base",
            "_view_module_version": "1.2.0",
            "_view_name": "StyleView",
            "bar_color": null,
            "description_width": ""
          }
        },
        "4a27344264604b4ca43c9733f4cad686": {
          "model_module": "@jupyter-widgets/base",
          "model_name": "LayoutModel",
          "model_module_version": "1.2.0",
          "state": {
            "_model_module": "@jupyter-widgets/base",
            "_model_module_version": "1.2.0",
            "_model_name": "LayoutModel",
            "_view_count": null,
            "_view_module": "@jupyter-widgets/base",
            "_view_module_version": "1.2.0",
            "_view_name": "LayoutView",
            "align_content": null,
            "align_items": null,
            "align_self": null,
            "border": null,
            "bottom": null,
            "display": null,
            "flex": null,
            "flex_flow": null,
            "grid_area": null,
            "grid_auto_columns": null,
            "grid_auto_flow": null,
            "grid_auto_rows": null,
            "grid_column": null,
            "grid_gap": null,
            "grid_row": null,
            "grid_template_areas": null,
            "grid_template_columns": null,
            "grid_template_rows": null,
            "height": null,
            "justify_content": null,
            "justify_items": null,
            "left": null,
            "margin": null,
            "max_height": null,
            "max_width": null,
            "min_height": null,
            "min_width": null,
            "object_fit": null,
            "object_position": null,
            "order": null,
            "overflow": null,
            "overflow_x": null,
            "overflow_y": null,
            "padding": null,
            "right": null,
            "top": null,
            "visibility": null,
            "width": null
          }
        },
        "44b8a24142224e919700bcde903440c7": {
          "model_module": "@jupyter-widgets/controls",
          "model_name": "DescriptionStyleModel",
          "model_module_version": "1.5.0",
          "state": {
            "_model_module": "@jupyter-widgets/controls",
            "_model_module_version": "1.5.0",
            "_model_name": "DescriptionStyleModel",
            "_view_count": null,
            "_view_module": "@jupyter-widgets/base",
            "_view_module_version": "1.2.0",
            "_view_name": "StyleView",
            "description_width": ""
          }
        }
      }
    }
  },
  "cells": [
    {
      "cell_type": "markdown",
      "metadata": {
        "id": "view-in-github",
        "colab_type": "text"
      },
      "source": [
        "<a href=\"https://colab.research.google.com/github/miczkejedrzej/MNLP-project-1/blob/main/Modelisation_CNN.ipynb\" target=\"_parent\"><img src=\"https://colab.research.google.com/assets/colab-badge.svg\" alt=\"Open In Colab\"/></a>"
      ]
    },
    {
      "cell_type": "markdown",
      "source": [
        "# Import Data"
      ],
      "metadata": {
        "id": "PBpcvtDsnba3"
      }
    },
    {
      "cell_type": "code",
      "execution_count": null,
      "metadata": {
        "id": "jzs7axfMYYQx",
        "outputId": "39f1cc80-2e49-4c98-eb42-a387ca498652",
        "colab": {
          "base_uri": "https://localhost:8080/",
          "height": 108
        }
      },
      "outputs": [
        {
          "output_type": "display_data",
          "data": {
            "text/plain": [
              "<IPython.core.display.HTML object>"
            ],
            "text/html": [
              "\n",
              "     <input type=\"file\" id=\"files-94f5284d-2201-4c49-b463-66908135bfa3\" name=\"files[]\" multiple disabled\n",
              "        style=\"border:none\" />\n",
              "     <output id=\"result-94f5284d-2201-4c49-b463-66908135bfa3\">\n",
              "      Upload widget is only available when the cell has been executed in the\n",
              "      current browser session. Please rerun this cell to enable.\n",
              "      </output>\n",
              "      <script>// Copyright 2017 Google LLC\n",
              "//\n",
              "// Licensed under the Apache License, Version 2.0 (the \"License\");\n",
              "// you may not use this file except in compliance with the License.\n",
              "// You may obtain a copy of the License at\n",
              "//\n",
              "//      http://www.apache.org/licenses/LICENSE-2.0\n",
              "//\n",
              "// Unless required by applicable law or agreed to in writing, software\n",
              "// distributed under the License is distributed on an \"AS IS\" BASIS,\n",
              "// WITHOUT WARRANTIES OR CONDITIONS OF ANY KIND, either express or implied.\n",
              "// See the License for the specific language governing permissions and\n",
              "// limitations under the License.\n",
              "\n",
              "/**\n",
              " * @fileoverview Helpers for google.colab Python module.\n",
              " */\n",
              "(function(scope) {\n",
              "function span(text, styleAttributes = {}) {\n",
              "  const element = document.createElement('span');\n",
              "  element.textContent = text;\n",
              "  for (const key of Object.keys(styleAttributes)) {\n",
              "    element.style[key] = styleAttributes[key];\n",
              "  }\n",
              "  return element;\n",
              "}\n",
              "\n",
              "// Max number of bytes which will be uploaded at a time.\n",
              "const MAX_PAYLOAD_SIZE = 100 * 1024;\n",
              "\n",
              "function _uploadFiles(inputId, outputId) {\n",
              "  const steps = uploadFilesStep(inputId, outputId);\n",
              "  const outputElement = document.getElementById(outputId);\n",
              "  // Cache steps on the outputElement to make it available for the next call\n",
              "  // to uploadFilesContinue from Python.\n",
              "  outputElement.steps = steps;\n",
              "\n",
              "  return _uploadFilesContinue(outputId);\n",
              "}\n",
              "\n",
              "// This is roughly an async generator (not supported in the browser yet),\n",
              "// where there are multiple asynchronous steps and the Python side is going\n",
              "// to poll for completion of each step.\n",
              "// This uses a Promise to block the python side on completion of each step,\n",
              "// then passes the result of the previous step as the input to the next step.\n",
              "function _uploadFilesContinue(outputId) {\n",
              "  const outputElement = document.getElementById(outputId);\n",
              "  const steps = outputElement.steps;\n",
              "\n",
              "  const next = steps.next(outputElement.lastPromiseValue);\n",
              "  return Promise.resolve(next.value.promise).then((value) => {\n",
              "    // Cache the last promise value to make it available to the next\n",
              "    // step of the generator.\n",
              "    outputElement.lastPromiseValue = value;\n",
              "    return next.value.response;\n",
              "  });\n",
              "}\n",
              "\n",
              "/**\n",
              " * Generator function which is called between each async step of the upload\n",
              " * process.\n",
              " * @param {string} inputId Element ID of the input file picker element.\n",
              " * @param {string} outputId Element ID of the output display.\n",
              " * @return {!Iterable<!Object>} Iterable of next steps.\n",
              " */\n",
              "function* uploadFilesStep(inputId, outputId) {\n",
              "  const inputElement = document.getElementById(inputId);\n",
              "  inputElement.disabled = false;\n",
              "\n",
              "  const outputElement = document.getElementById(outputId);\n",
              "  outputElement.innerHTML = '';\n",
              "\n",
              "  const pickedPromise = new Promise((resolve) => {\n",
              "    inputElement.addEventListener('change', (e) => {\n",
              "      resolve(e.target.files);\n",
              "    });\n",
              "  });\n",
              "\n",
              "  const cancel = document.createElement('button');\n",
              "  inputElement.parentElement.appendChild(cancel);\n",
              "  cancel.textContent = 'Cancel upload';\n",
              "  const cancelPromise = new Promise((resolve) => {\n",
              "    cancel.onclick = () => {\n",
              "      resolve(null);\n",
              "    };\n",
              "  });\n",
              "\n",
              "  // Wait for the user to pick the files.\n",
              "  const files = yield {\n",
              "    promise: Promise.race([pickedPromise, cancelPromise]),\n",
              "    response: {\n",
              "      action: 'starting',\n",
              "    }\n",
              "  };\n",
              "\n",
              "  cancel.remove();\n",
              "\n",
              "  // Disable the input element since further picks are not allowed.\n",
              "  inputElement.disabled = true;\n",
              "\n",
              "  if (!files) {\n",
              "    return {\n",
              "      response: {\n",
              "        action: 'complete',\n",
              "      }\n",
              "    };\n",
              "  }\n",
              "\n",
              "  for (const file of files) {\n",
              "    const li = document.createElement('li');\n",
              "    li.append(span(file.name, {fontWeight: 'bold'}));\n",
              "    li.append(span(\n",
              "        `(${file.type || 'n/a'}) - ${file.size} bytes, ` +\n",
              "        `last modified: ${\n",
              "            file.lastModifiedDate ? file.lastModifiedDate.toLocaleDateString() :\n",
              "                                    'n/a'} - `));\n",
              "    const percent = span('0% done');\n",
              "    li.appendChild(percent);\n",
              "\n",
              "    outputElement.appendChild(li);\n",
              "\n",
              "    const fileDataPromise = new Promise((resolve) => {\n",
              "      const reader = new FileReader();\n",
              "      reader.onload = (e) => {\n",
              "        resolve(e.target.result);\n",
              "      };\n",
              "      reader.readAsArrayBuffer(file);\n",
              "    });\n",
              "    // Wait for the data to be ready.\n",
              "    let fileData = yield {\n",
              "      promise: fileDataPromise,\n",
              "      response: {\n",
              "        action: 'continue',\n",
              "      }\n",
              "    };\n",
              "\n",
              "    // Use a chunked sending to avoid message size limits. See b/62115660.\n",
              "    let position = 0;\n",
              "    do {\n",
              "      const length = Math.min(fileData.byteLength - position, MAX_PAYLOAD_SIZE);\n",
              "      const chunk = new Uint8Array(fileData, position, length);\n",
              "      position += length;\n",
              "\n",
              "      const base64 = btoa(String.fromCharCode.apply(null, chunk));\n",
              "      yield {\n",
              "        response: {\n",
              "          action: 'append',\n",
              "          file: file.name,\n",
              "          data: base64,\n",
              "        },\n",
              "      };\n",
              "\n",
              "      let percentDone = fileData.byteLength === 0 ?\n",
              "          100 :\n",
              "          Math.round((position / fileData.byteLength) * 100);\n",
              "      percent.textContent = `${percentDone}% done`;\n",
              "\n",
              "    } while (position < fileData.byteLength);\n",
              "  }\n",
              "\n",
              "  // All done.\n",
              "  yield {\n",
              "    response: {\n",
              "      action: 'complete',\n",
              "    }\n",
              "  };\n",
              "}\n",
              "\n",
              "scope.google = scope.google || {};\n",
              "scope.google.colab = scope.google.colab || {};\n",
              "scope.google.colab._files = {\n",
              "  _uploadFiles,\n",
              "  _uploadFilesContinue,\n",
              "};\n",
              "})(self);\n",
              "</script> "
            ]
          },
          "metadata": {}
        },
        {
          "output_type": "stream",
          "name": "stdout",
          "text": [
            "Saving dev_df_images.json to dev_df_images.json\n",
            "Saving train_df_images.json to train_df_images.json\n"
          ]
        }
      ],
      "source": [
        "from google.colab import files\n",
        "uploaded = files.upload()\n",
        "\n",
        "\n",
        "import pandas as pd\n",
        "from PIL import Image\n",
        "from torchvision import transforms\n",
        "import numpy as np\n",
        "import tensorflow as tf\n",
        "from tensorflow.keras import layers, models\n",
        "from sklearn.metrics import confusion_matrix, precision_score, recall_score, f1_score, classification_report\n",
        "import seaborn as sns\n",
        "import matplotlib.pyplot as plt"
      ]
    },
    {
      "cell_type": "code",
      "source": [
        "train_df_images = pd.read_json('train_df_images.json', orient=\"records\", lines=True)\n",
        "dev_df_images = pd.read_json('dev_df_images.json', orient=\"records\", lines=True)"
      ],
      "metadata": {
        "id": "Ox784YzA1xos"
      },
      "execution_count": null,
      "outputs": []
    },
    {
      "cell_type": "code",
      "source": [
        "# Clean the labels (see notebook cleaning data for more details)\n",
        "\n",
        "# Select the labels and associated labels to correct\n",
        "to_correct = train_df_images[train_df_images[\"label\"].isin(['cultural agn','cultural represent', 'cultural ex', 'cultural ag'])][['item', 'label']]\n",
        "\n",
        "# Create the mapping for correction\n",
        "mapping_correction = {\n",
        "  'cultural agn' : 'cultural agnostic',\n",
        "  'cultural represent' : 'cultural representative',\n",
        "  'cultural ex' : 'cultural exclusive',\n",
        "  'cultural ag' : 'cultural agnostic'\n",
        "}\n",
        "\n",
        "# Apply the correction\n",
        "to_correct['label'] = to_correct['label'].map(mapping_correction)\n",
        "\n",
        "# We update the transformations to the initial dataset\n",
        "train_df_images.set_index('item', inplace=True)\n",
        "to_correct.set_index('item', inplace=True)\n",
        "\n",
        "train_df_images.update(to_correct)\n",
        "train_df_images.reset_index(inplace=True)"
      ],
      "metadata": {
        "id": "x6tcy5HiArsD"
      },
      "execution_count": null,
      "outputs": []
    },
    {
      "cell_type": "code",
      "source": [
        "# Select the items that have no label, or with label 'cultural', or 'cult'\n",
        "to_classify = train_df_images[(train_df_images[\"label\"].isin([\"cultural\", \"cult\"])) | (train_df_images[\"label\"].isna())][['item', 'name', 'description']]\n",
        "\n",
        "# Create the dictionnary for the mapping\n",
        "categories = {\n",
        "    'http://www.wikidata.org/entity/Q957033': 'cultural representative',\n",
        "    'http://www.wikidata.org/entity/Q30327019': 'cultural agnostic',\n",
        "    'http://www.wikidata.org/entity/Q811361': 'cultural agnostic',\n",
        "    'http://www.wikidata.org/entity/Q12014207': 'cultural agnostic',\n",
        "    'http://www.wikidata.org/entity/Q257907': 'cultural exclusive',\n",
        "    'http://www.wikidata.org/entity/Q1136336': 'cultural representative',\n",
        "    'http://www.wikidata.org/entity/Q67111': 'cultural representative',\n",
        "    'http://www.wikidata.org/entity/Q1089672': 'cultural representative',\n",
        "    'http://www.wikidata.org/entity/Q85755629': 'cultural representative',\n",
        "    'http://www.wikidata.org/entity/Q206912': 'cultural agnostic',\n",
        "    'http://www.wikidata.org/entity/Q23228': 'cultural agnostic',\n",
        "    'http://www.wikidata.org/entity/Q3196604': 'cultural representative',\n",
        "    'http://www.wikidata.org/entity/Q1940624': 'cultural representative'\n",
        "}\n",
        "\n",
        "# Apply the classification\n",
        "to_classify['label'] = to_classify['item'].map(categories)\n",
        "\n",
        "# We update the transformations to the initial dataset\n",
        "train_df_images.set_index('item', inplace=True)\n",
        "to_classify.set_index('item', inplace=True)\n",
        "\n",
        "train_df_images.update(to_classify)\n",
        "train_df_images.reset_index(inplace=True)"
      ],
      "metadata": {
        "id": "JX-aFTco1oa_"
      },
      "execution_count": null,
      "outputs": []
    },
    {
      "cell_type": "code",
      "source": [
        "# Mapping labels to integers\n",
        "labels = train_df_images['label'].unique()\n",
        "dict_mapping ={}\n",
        "\n",
        "for i, label in enumerate(labels):\n",
        "  dict_mapping[label]=int(i)\n",
        "  i = i+1\n",
        "\n",
        "print(dict_mapping)\n",
        "\n",
        "for df in [train_df_images, dev_df_images]:\n",
        "  df['label'] = df['label'].map(dict_mapping)\n",
        "  df['label'] = df['label'].apply(lambda x: np.array(x))"
      ],
      "metadata": {
        "colab": {
          "base_uri": "https://localhost:8080/"
        },
        "id": "TOziSjSeB2a6",
        "outputId": "4fd6c803-737a-41db-bc8b-b7daf03ea638"
      },
      "execution_count": null,
      "outputs": [
        {
          "output_type": "stream",
          "name": "stdout",
          "text": [
            "{'cultural exclusive': 0, 'cultural representative': 1, 'cultural agnostic': 2}\n"
          ]
        }
      ]
    },
    {
      "cell_type": "markdown",
      "source": [
        "Now, we keep the following association : {cultural exclusive: 0, cultural representative: 1, cultural agnostic: 2}"
      ],
      "metadata": {
        "id": "pIIv56OVUHqG"
      }
    },
    {
      "cell_type": "markdown",
      "source": [
        "## Fill in or drop"
      ],
      "metadata": {
        "id": "2reWRMpTGAEM"
      }
    },
    {
      "cell_type": "markdown",
      "source": [
        "Some photos are missing for many items, and as the CNN can not handles missing values, we have to find solutions to deal with this problem. We have for now 2 options :\n",
        "\n",
        "- Fill in the NaN with white images\n",
        "- Drop the item with missing image"
      ],
      "metadata": {
        "id": "BwpNUUDUuyY_"
      }
    },
    {
      "cell_type": "code",
      "source": [
        "def fill_NaN_image(image):\n",
        "\n",
        "  \"\"\"\n",
        "  If a cell is empty, it fills in with a white image, of dimension (28,28,3) ie (height, width, channels)\n",
        "  \"\"\"\n",
        "\n",
        "  if image is None or (isinstance(image, float) and np.isnan(image)):\n",
        "    image = np.ones((28, 28, 3), dtype=np.uint8) * 255\n",
        "\n",
        "  return image"
      ],
      "metadata": {
        "id": "11qJesiwpng9"
      },
      "execution_count": null,
      "outputs": []
    },
    {
      "cell_type": "code",
      "source": [
        "def clean_images(df, fill=True, drop=False):\n",
        "\n",
        "  if fill == True:\n",
        "    df['image'] = df['image'].apply(lambda x: fill_NaN_image(x))\n",
        "\n",
        "  if drop == True:\n",
        "    df = df[df['image'].notna()]\n",
        "\n",
        "  return df"
      ],
      "metadata": {
        "id": "N12EkuF-F3tV"
      },
      "execution_count": null,
      "outputs": []
    },
    {
      "cell_type": "code",
      "source": [
        "# Create a dataframe where we only keep the item that have an image\n",
        "train_df_images_without_na = clean_images(train_df_images, fill=False, drop=True)\n",
        "dev_df_images_without_na = clean_images(dev_df_images, fill=False, drop=True)\n",
        "\n",
        "\n",
        "# Create a dataframe where we keep all the image, and fill in the NaN with white images\n",
        "train_df_images_fill = clean_images(train_df_images, fill=True, drop=False)\n",
        "dev_df_images_fill = clean_images(dev_df_images, fill=True, drop=False)"
      ],
      "metadata": {
        "id": "EPqXtprepni1"
      },
      "execution_count": null,
      "outputs": []
    },
    {
      "cell_type": "code",
      "source": [
        "# Transform data to arrays\n",
        "train_df_images_without_na['image'] = train_df_images_without_na['image'].apply(lambda x: np.array(x))\n",
        "dev_df_images_without_na['image'] = dev_df_images_without_na['image'].apply(lambda x: np.array(x))\n",
        "\n",
        "train_df_images_fill['image'] = train_df_images_fill['image'].apply(lambda x: np.array(x))\n",
        "dev_df_images_fill['image'] = dev_df_images_fill['image'].apply(lambda x: np.array(x))"
      ],
      "metadata": {
        "id": "ptrm5jDYmIAq",
        "outputId": "c61fc3f1-b7b8-4b29-d1dd-2ceca476423d",
        "colab": {
          "base_uri": "https://localhost:8080/"
        }
      },
      "execution_count": null,
      "outputs": [
        {
          "output_type": "stream",
          "name": "stderr",
          "text": [
            "<ipython-input-13-ce936c5b28cb>:1: SettingWithCopyWarning: \n",
            "A value is trying to be set on a copy of a slice from a DataFrame.\n",
            "Try using .loc[row_indexer,col_indexer] = value instead\n",
            "\n",
            "See the caveats in the documentation: https://pandas.pydata.org/pandas-docs/stable/user_guide/indexing.html#returning-a-view-versus-a-copy\n",
            "  train_df_images_without_na['image'] = train_df_images_without_na['image'].apply(lambda x: np.array(x))\n",
            "<ipython-input-13-ce936c5b28cb>:2: SettingWithCopyWarning: \n",
            "A value is trying to be set on a copy of a slice from a DataFrame.\n",
            "Try using .loc[row_indexer,col_indexer] = value instead\n",
            "\n",
            "See the caveats in the documentation: https://pandas.pydata.org/pandas-docs/stable/user_guide/indexing.html#returning-a-view-versus-a-copy\n",
            "  dev_df_images_without_na['image'] = dev_df_images_without_na['image'].apply(lambda x: np.array(x))\n"
          ]
        }
      ]
    },
    {
      "cell_type": "markdown",
      "source": [
        "## Model 1 : fill in model"
      ],
      "metadata": {
        "id": "mZt4yBp6jBRU"
      }
    },
    {
      "cell_type": "markdown",
      "source": [
        "First, we try the model applied on the dataset wherre we filled in the missing values by white images"
      ],
      "metadata": {
        "id": "FCdtogeLWClf"
      }
    },
    {
      "cell_type": "markdown",
      "source": [
        "We want to train a model, that is able to classify our items, into the 3 classes of culture. So we create a model called model_classification for that. But we also want to get the logits of this model (the output of the layer just before the softmax layer), so that we can use this information, in a bigger model (we call it the ensemble model) : that's the reason why, we create also the model called model_logits"
      ],
      "metadata": {
        "id": "Rb2oqckmUoZe"
      }
    },
    {
      "cell_type": "markdown",
      "source": [
        "### Training and accuracy"
      ],
      "metadata": {
        "id": "x-fLUxe7VoxX"
      }
    },
    {
      "cell_type": "code",
      "source": [
        "# We create two models\n",
        "model_classification = models.Sequential()\n",
        "model_logits = models.Sequential()\n",
        "\n",
        "# Build the layers\n",
        "layer_conv1 = layers.Conv2D(32, (3, 3), activation='relu', input_shape=(28,28,3))\n",
        "layer_maxpool = layers.MaxPooling2D((2, 2))\n",
        "\n",
        "layer_conv2 = layers.Conv2D(64, (3, 3), activation='relu')\n",
        "layer_maxpool2 = layers.MaxPooling2D((2, 2))\n",
        "\n",
        "layer_flatten = layers.Flatten()\n",
        "layer_dense_1 = layers.Dense(64, activation='relu')\n",
        "layer_dropout = layers.Dropout(0.3)\n",
        "layer_logits = layers.Dense(3, name=\"logits\")  # dense finale sans activation\n",
        "layer_softmax = layers.Activation('softmax', name=\"softmax\")  # activation séparée\n",
        "\n",
        "# Fill in the models with layers (almost the same)\n",
        "model_logits.add(layer_conv1)\n",
        "model_logits.add(layer_maxpool)\n",
        "model_logits.add(layer_conv2)\n",
        "model_logits.add(layer_maxpool2)\n",
        "model_logits.add(layer_flatten)\n",
        "model_logits.add(layer_dense_1)\n",
        "model_logits.add(layer_logits)\n",
        "\n",
        "model_classification.add(layer_conv1)\n",
        "model_classification.add(layer_maxpool)\n",
        "model_classification.add(layer_conv2)\n",
        "model_classification.add(layer_maxpool)\n",
        "model_classification.add(layer_flatten)\n",
        "model_classification.add(layer_dense_1)\n",
        "model_classification.add(layer_logits)\n",
        "model_classification.add(layer_softmax)\n",
        "\n",
        "# Compilation\n",
        "model_classification.compile(optimizer='adam',\n",
        "                              loss='sparse_categorical_crossentropy',\n",
        "                              metrics=['accuracy'])\n",
        "\n",
        "# Images normalization\n",
        "X_train_fill = np.stack(train_df_images_fill['image'].to_numpy()).astype('float32') / 255.0\n",
        "y_train_fill = train_df_images_fill['label']\n",
        "\n",
        "X_dev_fill = np.stack(dev_df_images_fill['image'].to_numpy()).astype('float32') / 255.0\n",
        "y_dev_fill = dev_df_images_fill['label']\n",
        "\n",
        "# Training\n",
        "model_classification.fit(X_train_fill, y_train_fill, epochs=40, batch_size=32)\n",
        "\n",
        "# Evaluation\n",
        "train_loss, train_accuracy = model_classification.evaluate(X_train_fill, y_train_fill)\n",
        "dev_loss, dev_accuracy = model_classification.evaluate(X_dev_fill, y_dev_fill)\n",
        "\n",
        "print(f\"Accuracy on the train set : {train_accuracy:.4f}\")\n",
        "print(f\"Accuracy on the dev set : {dev_accuracy:.4f}\")"
      ],
      "metadata": {
        "colab": {
          "base_uri": "https://localhost:8080/"
        },
        "id": "UiqWgNV2MGfV",
        "outputId": "c64a0e2a-5fae-4ecb-8ef7-638ebd82df09"
      },
      "execution_count": null,
      "outputs": [
        {
          "output_type": "stream",
          "name": "stderr",
          "text": [
            "/usr/local/lib/python3.11/dist-packages/keras/src/layers/convolutional/base_conv.py:107: UserWarning: Do not pass an `input_shape`/`input_dim` argument to a layer. When using Sequential models, prefer using an `Input(shape)` object as the first layer in the model instead.\n",
            "  super().__init__(activity_regularizer=activity_regularizer, **kwargs)\n"
          ]
        },
        {
          "output_type": "stream",
          "name": "stdout",
          "text": [
            "Epoch 1/40\n",
            "\u001b[1m196/196\u001b[0m \u001b[32m━━━━━━━━━━━━━━━━━━━━\u001b[0m\u001b[37m\u001b[0m \u001b[1m3s\u001b[0m 6ms/step - accuracy: 0.4301 - loss: 1.0465\n",
            "Epoch 2/40\n",
            "\u001b[1m196/196\u001b[0m \u001b[32m━━━━━━━━━━━━━━━━━━━━\u001b[0m\u001b[37m\u001b[0m \u001b[1m2s\u001b[0m 4ms/step - accuracy: 0.4599 - loss: 1.0057\n",
            "Epoch 3/40\n",
            "\u001b[1m196/196\u001b[0m \u001b[32m━━━━━━━━━━━━━━━━━━━━\u001b[0m\u001b[37m\u001b[0m \u001b[1m1s\u001b[0m 3ms/step - accuracy: 0.4721 - loss: 1.0056\n",
            "Epoch 4/40\n",
            "\u001b[1m196/196\u001b[0m \u001b[32m━━━━━━━━━━━━━━━━━━━━\u001b[0m\u001b[37m\u001b[0m \u001b[1m1s\u001b[0m 3ms/step - accuracy: 0.4780 - loss: 0.9849\n",
            "Epoch 5/40\n",
            "\u001b[1m196/196\u001b[0m \u001b[32m━━━━━━━━━━━━━━━━━━━━\u001b[0m\u001b[37m\u001b[0m \u001b[1m1s\u001b[0m 3ms/step - accuracy: 0.4679 - loss: 0.9810\n",
            "Epoch 6/40\n",
            "\u001b[1m196/196\u001b[0m \u001b[32m━━━━━━━━━━━━━━━━━━━━\u001b[0m\u001b[37m\u001b[0m \u001b[1m1s\u001b[0m 3ms/step - accuracy: 0.4842 - loss: 0.9735\n",
            "Epoch 7/40\n",
            "\u001b[1m196/196\u001b[0m \u001b[32m━━━━━━━━━━━━━━━━━━━━\u001b[0m\u001b[37m\u001b[0m \u001b[1m1s\u001b[0m 3ms/step - accuracy: 0.4945 - loss: 0.9553\n",
            "Epoch 8/40\n",
            "\u001b[1m196/196\u001b[0m \u001b[32m━━━━━━━━━━━━━━━━━━━━\u001b[0m\u001b[37m\u001b[0m \u001b[1m1s\u001b[0m 3ms/step - accuracy: 0.5264 - loss: 0.9412\n",
            "Epoch 9/40\n",
            "\u001b[1m196/196\u001b[0m \u001b[32m━━━━━━━━━━━━━━━━━━━━\u001b[0m\u001b[37m\u001b[0m \u001b[1m1s\u001b[0m 3ms/step - accuracy: 0.5297 - loss: 0.9222\n",
            "Epoch 10/40\n",
            "\u001b[1m196/196\u001b[0m \u001b[32m━━━━━━━━━━━━━━━━━━━━\u001b[0m\u001b[37m\u001b[0m \u001b[1m1s\u001b[0m 3ms/step - accuracy: 0.5612 - loss: 0.8879\n",
            "Epoch 11/40\n",
            "\u001b[1m196/196\u001b[0m \u001b[32m━━━━━━━━━━━━━━━━━━━━\u001b[0m\u001b[37m\u001b[0m \u001b[1m1s\u001b[0m 3ms/step - accuracy: 0.5502 - loss: 0.8759\n",
            "Epoch 12/40\n",
            "\u001b[1m196/196\u001b[0m \u001b[32m━━━━━━━━━━━━━━━━━━━━\u001b[0m\u001b[37m\u001b[0m \u001b[1m1s\u001b[0m 3ms/step - accuracy: 0.5601 - loss: 0.8448\n",
            "Epoch 13/40\n",
            "\u001b[1m196/196\u001b[0m \u001b[32m━━━━━━━━━━━━━━━━━━━━\u001b[0m\u001b[37m\u001b[0m \u001b[1m1s\u001b[0m 3ms/step - accuracy: 0.5753 - loss: 0.8192\n",
            "Epoch 14/40\n",
            "\u001b[1m196/196\u001b[0m \u001b[32m━━━━━━━━━━━━━━━━━━━━\u001b[0m\u001b[37m\u001b[0m \u001b[1m1s\u001b[0m 3ms/step - accuracy: 0.6023 - loss: 0.7845\n",
            "Epoch 15/40\n",
            "\u001b[1m196/196\u001b[0m \u001b[32m━━━━━━━━━━━━━━━━━━━━\u001b[0m\u001b[37m\u001b[0m \u001b[1m1s\u001b[0m 3ms/step - accuracy: 0.6080 - loss: 0.7535\n",
            "Epoch 16/40\n",
            "\u001b[1m196/196\u001b[0m \u001b[32m━━━━━━━━━━━━━━━━━━━━\u001b[0m\u001b[37m\u001b[0m \u001b[1m1s\u001b[0m 3ms/step - accuracy: 0.6161 - loss: 0.7460\n",
            "Epoch 17/40\n",
            "\u001b[1m196/196\u001b[0m \u001b[32m━━━━━━━━━━━━━━━━━━━━\u001b[0m\u001b[37m\u001b[0m \u001b[1m1s\u001b[0m 3ms/step - accuracy: 0.6326 - loss: 0.7094\n",
            "Epoch 18/40\n",
            "\u001b[1m196/196\u001b[0m \u001b[32m━━━━━━━━━━━━━━━━━━━━\u001b[0m\u001b[37m\u001b[0m \u001b[1m1s\u001b[0m 3ms/step - accuracy: 0.6428 - loss: 0.6861\n",
            "Epoch 19/40\n",
            "\u001b[1m196/196\u001b[0m \u001b[32m━━━━━━━━━━━━━━━━━━━━\u001b[0m\u001b[37m\u001b[0m \u001b[1m1s\u001b[0m 3ms/step - accuracy: 0.6339 - loss: 0.6984\n",
            "Epoch 20/40\n",
            "\u001b[1m196/196\u001b[0m \u001b[32m━━━━━━━━━━━━━━━━━━━━\u001b[0m\u001b[37m\u001b[0m \u001b[1m1s\u001b[0m 4ms/step - accuracy: 0.6505 - loss: 0.6657\n",
            "Epoch 21/40\n",
            "\u001b[1m196/196\u001b[0m \u001b[32m━━━━━━━━━━━━━━━━━━━━\u001b[0m\u001b[37m\u001b[0m \u001b[1m1s\u001b[0m 3ms/step - accuracy: 0.6530 - loss: 0.6687\n",
            "Epoch 22/40\n",
            "\u001b[1m196/196\u001b[0m \u001b[32m━━━━━━━━━━━━━━━━━━━━\u001b[0m\u001b[37m\u001b[0m \u001b[1m1s\u001b[0m 3ms/step - accuracy: 0.6591 - loss: 0.6620\n",
            "Epoch 23/40\n",
            "\u001b[1m196/196\u001b[0m \u001b[32m━━━━━━━━━━━━━━━━━━━━\u001b[0m\u001b[37m\u001b[0m \u001b[1m1s\u001b[0m 3ms/step - accuracy: 0.6681 - loss: 0.6509\n",
            "Epoch 24/40\n",
            "\u001b[1m196/196\u001b[0m \u001b[32m━━━━━━━━━━━━━━━━━━━━\u001b[0m\u001b[37m\u001b[0m \u001b[1m1s\u001b[0m 3ms/step - accuracy: 0.6581 - loss: 0.6392\n",
            "Epoch 25/40\n",
            "\u001b[1m196/196\u001b[0m \u001b[32m━━━━━━━━━━━━━━━━━━━━\u001b[0m\u001b[37m\u001b[0m \u001b[1m1s\u001b[0m 3ms/step - accuracy: 0.6557 - loss: 0.6423\n",
            "Epoch 26/40\n",
            "\u001b[1m196/196\u001b[0m \u001b[32m━━━━━━━━━━━━━━━━━━━━\u001b[0m\u001b[37m\u001b[0m \u001b[1m1s\u001b[0m 3ms/step - accuracy: 0.6582 - loss: 0.6568\n",
            "Epoch 27/40\n",
            "\u001b[1m196/196\u001b[0m \u001b[32m━━━━━━━━━━━━━━━━━━━━\u001b[0m\u001b[37m\u001b[0m \u001b[1m1s\u001b[0m 3ms/step - accuracy: 0.6563 - loss: 0.6619\n",
            "Epoch 28/40\n",
            "\u001b[1m196/196\u001b[0m \u001b[32m━━━━━━━━━━━━━━━━━━━━\u001b[0m\u001b[37m\u001b[0m \u001b[1m1s\u001b[0m 3ms/step - accuracy: 0.6618 - loss: 0.6399\n",
            "Epoch 29/40\n",
            "\u001b[1m196/196\u001b[0m \u001b[32m━━━━━━━━━━━━━━━━━━━━\u001b[0m\u001b[37m\u001b[0m \u001b[1m1s\u001b[0m 3ms/step - accuracy: 0.6610 - loss: 0.6380\n",
            "Epoch 30/40\n",
            "\u001b[1m196/196\u001b[0m \u001b[32m━━━━━━━━━━━━━━━━━━━━\u001b[0m\u001b[37m\u001b[0m \u001b[1m1s\u001b[0m 3ms/step - accuracy: 0.6517 - loss: 0.6351\n",
            "Epoch 31/40\n",
            "\u001b[1m196/196\u001b[0m \u001b[32m━━━━━━━━━━━━━━━━━━━━\u001b[0m\u001b[37m\u001b[0m \u001b[1m1s\u001b[0m 3ms/step - accuracy: 0.6481 - loss: 0.6743\n",
            "Epoch 32/40\n",
            "\u001b[1m196/196\u001b[0m \u001b[32m━━━━━━━━━━━━━━━━━━━━\u001b[0m\u001b[37m\u001b[0m \u001b[1m1s\u001b[0m 3ms/step - accuracy: 0.6560 - loss: 0.6423\n",
            "Epoch 33/40\n",
            "\u001b[1m196/196\u001b[0m \u001b[32m━━━━━━━━━━━━━━━━━━━━\u001b[0m\u001b[37m\u001b[0m \u001b[1m1s\u001b[0m 3ms/step - accuracy: 0.6752 - loss: 0.6234\n",
            "Epoch 34/40\n",
            "\u001b[1m196/196\u001b[0m \u001b[32m━━━━━━━━━━━━━━━━━━━━\u001b[0m\u001b[37m\u001b[0m \u001b[1m1s\u001b[0m 3ms/step - accuracy: 0.6747 - loss: 0.6168\n",
            "Epoch 35/40\n",
            "\u001b[1m196/196\u001b[0m \u001b[32m━━━━━━━━━━━━━━━━━━━━\u001b[0m\u001b[37m\u001b[0m \u001b[1m1s\u001b[0m 3ms/step - accuracy: 0.6678 - loss: 0.6243\n",
            "Epoch 36/40\n",
            "\u001b[1m196/196\u001b[0m \u001b[32m━━━━━━━━━━━━━━━━━━━━\u001b[0m\u001b[37m\u001b[0m \u001b[1m1s\u001b[0m 3ms/step - accuracy: 0.6678 - loss: 0.6281\n",
            "Epoch 37/40\n",
            "\u001b[1m196/196\u001b[0m \u001b[32m━━━━━━━━━━━━━━━━━━━━\u001b[0m\u001b[37m\u001b[0m \u001b[1m2s\u001b[0m 6ms/step - accuracy: 0.6601 - loss: 0.6321\n",
            "Epoch 38/40\n",
            "\u001b[1m196/196\u001b[0m \u001b[32m━━━━━━━━━━━━━━━━━━━━\u001b[0m\u001b[37m\u001b[0m \u001b[1m1s\u001b[0m 3ms/step - accuracy: 0.6718 - loss: 0.6251\n",
            "Epoch 39/40\n",
            "\u001b[1m196/196\u001b[0m \u001b[32m━━━━━━━━━━━━━━━━━━━━\u001b[0m\u001b[37m\u001b[0m \u001b[1m1s\u001b[0m 3ms/step - accuracy: 0.6293 - loss: 0.7072\n",
            "Epoch 40/40\n",
            "\u001b[1m196/196\u001b[0m \u001b[32m━━━━━━━━━━━━━━━━━━━━\u001b[0m\u001b[37m\u001b[0m \u001b[1m1s\u001b[0m 3ms/step - accuracy: 0.6416 - loss: 0.6688\n",
            "\u001b[1m196/196\u001b[0m \u001b[32m━━━━━━━━━━━━━━━━━━━━\u001b[0m\u001b[37m\u001b[0m \u001b[1m1s\u001b[0m 3ms/step - accuracy: 0.6740 - loss: 0.6114\n",
            "\u001b[1m10/10\u001b[0m \u001b[32m━━━━━━━━━━━━━━━━━━━━\u001b[0m\u001b[37m\u001b[0m \u001b[1m0s\u001b[0m 26ms/step - accuracy: 0.4838 - loss: 2.5273\n",
            "Accuracy on the train set : 0.6620\n",
            "Accuracy on the dev set : 0.5133\n"
          ]
        }
      ]
    },
    {
      "cell_type": "markdown",
      "source": [
        "### A deeper analysis of the performance"
      ],
      "metadata": {
        "id": "PQkWuZt4Vr1u"
      }
    },
    {
      "cell_type": "code",
      "source": [
        "# Get the logit output from the dev set\n",
        "dev_logits = model_logits.predict(X_dev_fill)"
      ],
      "metadata": {
        "colab": {
          "base_uri": "https://localhost:8080/"
        },
        "id": "s9lSauuiNozE",
        "outputId": "760f2676-8bfc-4bd7-890e-68faa439d718"
      },
      "execution_count": null,
      "outputs": [
        {
          "output_type": "stream",
          "name": "stdout",
          "text": [
            "\u001b[1m10/10\u001b[0m \u001b[32m━━━━━━━━━━━━━━━━━━━━\u001b[0m\u001b[37m\u001b[0m \u001b[1m0s\u001b[0m 5ms/step \n"
          ]
        },
        {
          "output_type": "execute_result",
          "data": {
            "text/plain": [
              "(300, 3)"
            ]
          },
          "metadata": {},
          "execution_count": 59
        }
      ]
    },
    {
      "cell_type": "code",
      "source": [
        "# Get the logit output from the train set\n",
        "train_logits = model_logits.predict(X_train_fill)"
      ],
      "metadata": {
        "colab": {
          "base_uri": "https://localhost:8080/"
        },
        "id": "5Oc6ENwSN5GQ",
        "outputId": "73badc21-6beb-4f6e-8474-5d74a4843974"
      },
      "execution_count": null,
      "outputs": [
        {
          "output_type": "stream",
          "name": "stdout",
          "text": [
            "\u001b[1m196/196\u001b[0m \u001b[32m━━━━━━━━━━━━━━━━━━━━\u001b[0m\u001b[37m\u001b[0m \u001b[1m0s\u001b[0m 2ms/step\n"
          ]
        },
        {
          "output_type": "execute_result",
          "data": {
            "text/plain": [
              "(6251, 3)"
            ]
          },
          "metadata": {},
          "execution_count": 60
        }
      ]
    },
    {
      "cell_type": "code",
      "source": [
        "# Prepare the data to evaluate the model\n",
        "y_pred = model_classification.predict(X_dev_fill)\n",
        "y_pred_classes = np.argmax(y_pred, axis=1)\n",
        "\n",
        "conf_matrix = confusion_matrix(y_dev_fill, y_pred_classes)\n",
        "\n",
        "# Plot confusion matrix\n",
        "plt.figure(figsize=(8, 6))\n",
        "sns.heatmap(conf_matrix, annot=True, fmt='d', cmap='Blues')\n",
        "plt.title(\"Confusion Matrix\")\n",
        "plt.xlabel(\"Prediction\")\n",
        "plt.ylabel(\"True Labels\")\n",
        "plt.show()"
      ],
      "metadata": {
        "id": "oy20EUdzbxxH",
        "outputId": "add38ac1-ac5b-464e-defc-7878dd33eeba",
        "colab": {
          "base_uri": "https://localhost:8080/",
          "height": 581
        }
      },
      "execution_count": null,
      "outputs": [
        {
          "output_type": "stream",
          "name": "stdout",
          "text": [
            "\u001b[1m10/10\u001b[0m \u001b[32m━━━━━━━━━━━━━━━━━━━━\u001b[0m\u001b[37m\u001b[0m \u001b[1m0s\u001b[0m 25ms/step\n"
          ]
        },
        {
          "output_type": "display_data",
          "data": {
            "text/plain": [
              "<Figure size 800x600 with 2 Axes>"
            ],
            "image/png": "[encoded data removed]"
          },
          "metadata": {}
        }
      ]
    },
    {
      "cell_type": "code",
      "source": [
        "# Compute Precision, Recall, and F1-score\n",
        "precision = precision_score(y_dev_fill, y_pred_classes, average='macro')\n",
        "recall = recall_score(y_dev_fill, y_pred_classes, average='macro')\n",
        "f1 = f1_score(y_dev_fill, y_pred_classes, average='macro')\n",
        "\n",
        "print(f\"Precision : {precision:.4f}\")\n",
        "print(f\"Recall : {recall:.4f}\")\n",
        "print(f\"F1 Score : {f1:.4f}\")\n",
        "\n",
        "# More complete informations\n",
        "print(\"\\n\")\n",
        "print(classification_report(y_dev_fill, y_pred_classes))\n"
      ],
      "metadata": {
        "id": "kzU1xS5ndnHm",
        "outputId": "7c2d5818-1543-4500-a0f1-26e706834717",
        "colab": {
          "base_uri": "https://localhost:8080/"
        }
      },
      "execution_count": null,
      "outputs": [
        {
          "output_type": "stream",
          "name": "stdout",
          "text": [
            "Precision : 0.4946\n",
            "Recall : 0.4882\n",
            "F1 Score : 0.4684\n",
            "\n",
            "\n",
            "              precision    recall  f1-score   support\n",
            "\n",
            "           0       0.40      0.36      0.38        76\n",
            "           1       0.54      0.28      0.37       107\n",
            "           2       0.55      0.83      0.66       117\n",
            "\n",
            "    accuracy                           0.51       300\n",
            "   macro avg       0.49      0.49      0.47       300\n",
            "weighted avg       0.51      0.51      0.48       300\n",
            "\n"
          ]
        }
      ]
    },
    {
      "cell_type": "markdown",
      "source": [
        "## Exportation"
      ],
      "metadata": {
        "id": "dLVrRUHUOIt5"
      }
    },
    {
      "cell_type": "code",
      "source": [
        "from huggingface_hub import login, create_repo, upload_folder\n",
        "import os\n",
        "import tensorflow as tf\n",
        "from huggingface_hub import hf_hub_download\n",
        "\n",
        "login(token=\"\")\n",
        "\n",
        "repo_name = \"MNLP-HW1\"\n",
        "repo_id = f\"tgarnier067/{repo_name}\"\n",
        "create_repo(repo_id, exist_ok=True, private=False)\n",
        "model_folder = \"models\"\n",
        "os.makedirs(model_folder, exist_ok=True)\n",
        "models = {\n",
        "    \"model_logits_photos\": model_logits\n",
        "}\n",
        "\n",
        "# Save the models in separate files\n",
        "for model_name, model in models.items():\n",
        "    model_file_path = os.path.join(model_folder, f\"{model_name}.keras\")\n",
        "    model.save(model_file_path)\n",
        "\n",
        "# Add a default README\n",
        "readme_content = \"\"\"# MNLP HW1 Models\n",
        "This repository contains multiple models trained for different tasks. Each model is saved as a separate `.keras` file.\n",
        "\"\"\"\n",
        "\n",
        "# Create a README.md file in the model folder\n",
        "with open(os.path.join(model_folder, \"README.md\"), \"w\") as f:\n",
        "    f.write(readme_content)\n",
        "\n",
        "# Upload all models to the Hugging Face repo\n",
        "upload_folder(\n",
        "    repo_id=repo_id,\n",
        "    folder_path=model_folder,\n",
        "    path_in_repo=\"\"\n",
        ")\n",
        "\n",
        "print(f\"All models have been successfully uploaded to Hugging Face in the repo {repo_id}!\")"
      ],
      "metadata": {
        "colab": {
          "base_uri": "https://localhost:8080/",
          "height": 118,
          "referenced_widgets": [
            "01003a71aaf34100aa8be24dcee93182",
            "cb8197495fa1432b833325653d2e86b5",
            "749b16f7389b40c6aec7c2cf3c7a4f0a",
            "49507af7e0a04f6b9b0fed0bdde400f1",
            "10a5ebe84fb0458e95c8e27cf70f68f9",
            "bd5b3612ae034680b915016cc33dbee9",
            "bb974c1da0c248b9bf6cd4bd5b581d0a",
            "428102238652417a92c7537445292dff",
            "3148127b1ad44a96ba936f2675e33ea6",
            "4a27344264604b4ca43c9733f4cad686",
            "44b8a24142224e919700bcde903440c7"
          ]
        },
        "id": "v8-kF_qJOgQA",
        "outputId": "3855d810-8398-4687-af46-39654d930a5b"
      },
      "execution_count": null,
      "outputs": [
        {
          "output_type": "stream",
          "name": "stderr",
          "text": [
            "/usr/local/lib/python3.11/dist-packages/huggingface_hub/hf_api.py:9561: UserWarning: Warnings while validating metadata in README.md:\n",
            "- empty or missing yaml metadata in repo card\n",
            "  warnings.warn(f\"Warnings while validating metadata in README.md:\\n{message}\")\n"
          ]
        },
        {
          "output_type": "display_data",
          "data": {
            "text/plain": [
              "model_logits_photos.keras:   0%|          | 0.00/517k [00:00<?, ?B/s]"
            ],
            "application/vnd.jupyter.widget-view+json": {
              "version_major": 2,
              "version_minor": 0,
              "model_id": "01003a71aaf34100aa8be24dcee93182"
            }
          },
          "metadata": {}
        },
        {
          "output_type": "stream",
          "name": "stdout",
          "text": [
            "All models have been successfully uploaded to Hugging Face in the repo tgarnier067/MNLP-HW1!\n"
          ]
        }
      ]
    },
    {
      "cell_type": "markdown",
      "source": [
        "## Model 2 : Without na"
      ],
      "metadata": {
        "id": "0TjjhxHDIOdP"
      }
    },
    {
      "cell_type": "markdown",
      "source": [
        "Now, we try the same model, but based on the non missing values dataset only"
      ],
      "metadata": {
        "id": "ZQxk8bflWV0g"
      }
    },
    {
      "cell_type": "code",
      "source": [
        "def build_a_model(input_shape=(28, 28, 3), num_classes=10):\n",
        "    model = models.Sequential([\n",
        "        layers.Conv2D(32, (3, 3), activation='relu', input_shape=input_shape),\n",
        "        layers.MaxPooling2D((2, 2)),\n",
        "        layers.Conv2D(64, (3, 3), activation='relu'),\n",
        "        layers.MaxPooling2D((2, 2)),\n",
        "        layers.Flatten(),\n",
        "        layers.Dense(64, activation='relu'),\n",
        "        layers.Dropout(0.3),\n",
        "        layers.Dense(num_classes, activation='softmax')\n",
        "    ])\n",
        "\n",
        "    model.compile(optimizer='adam',\n",
        "                  loss='sparse_categorical_crossentropy',\n",
        "                  metrics=['accuracy'])\n",
        "\n",
        "    return model"
      ],
      "metadata": {
        "id": "FlA2CxKthY2G"
      },
      "execution_count": null,
      "outputs": []
    },
    {
      "cell_type": "code",
      "source": [
        "model_without_na = build_a_model()\n",
        "\n",
        "# Normalization so that the fitting of the CNN is easier\n",
        "X_train_without_na= np.stack(train_df_images_without_na['image'].to_numpy()).astype('float32') / 255.0\n",
        "y_train_without_na = train_df_images_without_na['label']\n",
        "X_dev_without_na = np.stack(dev_df_images_without_na['image'].to_numpy()).astype('float32') / 255.0\n",
        "y_dev_without_na = dev_df_images_without_na['label']\n",
        "\n",
        "# Fitting\n",
        "model_without_na.fit(X_train_without_na, y_train_without_na, epochs=40, batch_size=32)\n",
        "\n",
        "# Evaluation, on both sets\n",
        "train_loss, train_accuracy = model_without_na.evaluate(X_train_without_na, y_train_without_na)\n",
        "dev_loss, dev_accuracy = model_without_na.evaluate(X_dev_without_na, y_dev_without_na)\n",
        "\n",
        "print(f\"Accuracy on the train set : {train_accuracy:.4f}\")\n",
        "print(f\"Accuracy on the dev set : {dev_accuracy:.4f}\")"
      ],
      "metadata": {
        "id": "IBQT5FS0YXBh",
        "outputId": "0a104e7f-848a-4330-b152-9fd5361982f4",
        "colab": {
          "base_uri": "https://localhost:8080/"
        }
      },
      "execution_count": null,
      "outputs": [
        {
          "output_type": "stream",
          "name": "stdout",
          "text": [
            "Epoch 1/40\n"
          ]
        },
        {
          "output_type": "stream",
          "name": "stderr",
          "text": [
            "/usr/local/lib/python3.11/dist-packages/keras/src/layers/convolutional/base_conv.py:107: UserWarning: Do not pass an `input_shape`/`input_dim` argument to a layer. When using Sequential models, prefer using an `Input(shape)` object as the first layer in the model instead.\n",
            "  super().__init__(activity_regularizer=activity_regularizer, **kwargs)\n"
          ]
        },
        {
          "output_type": "stream",
          "name": "stdout",
          "text": [
            "\u001b[1m83/83\u001b[0m \u001b[32m━━━━━━━━━━━━━━━━━━━━\u001b[0m\u001b[37m\u001b[0m \u001b[1m4s\u001b[0m 22ms/step - accuracy: 0.4541 - loss: 1.4221\n",
            "Epoch 2/40\n",
            "\u001b[1m83/83\u001b[0m \u001b[32m━━━━━━━━━━━━━━━━━━━━\u001b[0m\u001b[37m\u001b[0m \u001b[1m0s\u001b[0m 3ms/step - accuracy: 0.5013 - loss: 1.0073\n",
            "Epoch 3/40\n",
            "\u001b[1m83/83\u001b[0m \u001b[32m━━━━━━━━━━━━━━━━━━━━\u001b[0m\u001b[37m\u001b[0m \u001b[1m0s\u001b[0m 3ms/step - accuracy: 0.4839 - loss: 0.9903\n",
            "Epoch 4/40\n",
            "\u001b[1m83/83\u001b[0m \u001b[32m━━━━━━━━━━━━━━━━━━━━\u001b[0m\u001b[37m\u001b[0m \u001b[1m0s\u001b[0m 3ms/step - accuracy: 0.5003 - loss: 0.9680\n",
            "Epoch 5/40\n",
            "\u001b[1m83/83\u001b[0m \u001b[32m━━━━━━━━━━━━━━━━━━━━\u001b[0m\u001b[37m\u001b[0m \u001b[1m0s\u001b[0m 3ms/step - accuracy: 0.5375 - loss: 0.9276\n",
            "Epoch 6/40\n",
            "\u001b[1m83/83\u001b[0m \u001b[32m━━━━━━━━━━━━━━━━━━━━\u001b[0m\u001b[37m\u001b[0m \u001b[1m0s\u001b[0m 3ms/step - accuracy: 0.5371 - loss: 0.9321\n",
            "Epoch 7/40\n",
            "\u001b[1m83/83\u001b[0m \u001b[32m━━━━━━━━━━━━━━━━━━━━\u001b[0m\u001b[37m\u001b[0m \u001b[1m0s\u001b[0m 3ms/step - accuracy: 0.5432 - loss: 0.9377\n",
            "Epoch 8/40\n",
            "\u001b[1m83/83\u001b[0m \u001b[32m━━━━━━━━━━━━━━━━━━━━\u001b[0m\u001b[37m\u001b[0m \u001b[1m0s\u001b[0m 3ms/step - accuracy: 0.5403 - loss: 0.9127\n",
            "Epoch 9/40\n",
            "\u001b[1m83/83\u001b[0m \u001b[32m━━━━━━━━━━━━━━━━━━━━\u001b[0m\u001b[37m\u001b[0m \u001b[1m0s\u001b[0m 3ms/step - accuracy: 0.5498 - loss: 0.8945\n",
            "Epoch 10/40\n",
            "\u001b[1m83/83\u001b[0m \u001b[32m━━━━━━━━━━━━━━━━━━━━\u001b[0m\u001b[37m\u001b[0m \u001b[1m0s\u001b[0m 3ms/step - accuracy: 0.5705 - loss: 0.8983\n",
            "Epoch 11/40\n",
            "\u001b[1m83/83\u001b[0m \u001b[32m━━━━━━━━━━━━━━━━━━━━\u001b[0m\u001b[37m\u001b[0m \u001b[1m0s\u001b[0m 3ms/step - accuracy: 0.5557 - loss: 0.8990\n",
            "Epoch 12/40\n",
            "\u001b[1m83/83\u001b[0m \u001b[32m━━━━━━━━━━━━━━━━━━━━\u001b[0m\u001b[37m\u001b[0m \u001b[1m0s\u001b[0m 3ms/step - accuracy: 0.5608 - loss: 0.9003\n",
            "Epoch 13/40\n",
            "\u001b[1m83/83\u001b[0m \u001b[32m━━━━━━━━━━━━━━━━━━━━\u001b[0m\u001b[37m\u001b[0m \u001b[1m0s\u001b[0m 3ms/step - accuracy: 0.5527 - loss: 0.9063\n",
            "Epoch 14/40\n",
            "\u001b[1m83/83\u001b[0m \u001b[32m━━━━━━━━━━━━━━━━━━━━\u001b[0m\u001b[37m\u001b[0m \u001b[1m0s\u001b[0m 3ms/step - accuracy: 0.5553 - loss: 0.8846\n",
            "Epoch 15/40\n",
            "\u001b[1m83/83\u001b[0m \u001b[32m━━━━━━━━━━━━━━━━━━━━\u001b[0m\u001b[37m\u001b[0m \u001b[1m0s\u001b[0m 3ms/step - accuracy: 0.5761 - loss: 0.9008\n",
            "Epoch 16/40\n",
            "\u001b[1m83/83\u001b[0m \u001b[32m━━━━━━━━━━━━━━━━━━━━\u001b[0m\u001b[37m\u001b[0m \u001b[1m0s\u001b[0m 3ms/step - accuracy: 0.5813 - loss: 0.8661\n",
            "Epoch 17/40\n",
            "\u001b[1m83/83\u001b[0m \u001b[32m━━━━━━━━━━━━━━━━━━━━\u001b[0m\u001b[37m\u001b[0m \u001b[1m0s\u001b[0m 3ms/step - accuracy: 0.5679 - loss: 0.8647\n",
            "Epoch 18/40\n",
            "\u001b[1m83/83\u001b[0m \u001b[32m━━━━━━━━━━━━━━━━━━━━\u001b[0m\u001b[37m\u001b[0m \u001b[1m0s\u001b[0m 3ms/step - accuracy: 0.6043 - loss: 0.8263\n",
            "Epoch 19/40\n",
            "\u001b[1m83/83\u001b[0m \u001b[32m━━━━━━━━━━━━━━━━━━━━\u001b[0m\u001b[37m\u001b[0m \u001b[1m0s\u001b[0m 3ms/step - accuracy: 0.6085 - loss: 0.8287\n",
            "Epoch 20/40\n",
            "\u001b[1m83/83\u001b[0m \u001b[32m━━━━━━━━━━━━━━━━━━━━\u001b[0m\u001b[37m\u001b[0m \u001b[1m0s\u001b[0m 3ms/step - accuracy: 0.5966 - loss: 0.8330\n",
            "Epoch 21/40\n",
            "\u001b[1m83/83\u001b[0m \u001b[32m━━━━━━━━━━━━━━━━━━━━\u001b[0m\u001b[37m\u001b[0m \u001b[1m0s\u001b[0m 3ms/step - accuracy: 0.6372 - loss: 0.7938\n",
            "Epoch 22/40\n",
            "\u001b[1m83/83\u001b[0m \u001b[32m━━━━━━━━━━━━━━━━━━━━\u001b[0m\u001b[37m\u001b[0m \u001b[1m0s\u001b[0m 3ms/step - accuracy: 0.6420 - loss: 0.7691\n",
            "Epoch 23/40\n",
            "\u001b[1m83/83\u001b[0m \u001b[32m━━━━━━━━━━━━━━━━━━━━\u001b[0m\u001b[37m\u001b[0m \u001b[1m0s\u001b[0m 3ms/step - accuracy: 0.6319 - loss: 0.7763\n",
            "Epoch 24/40\n",
            "\u001b[1m83/83\u001b[0m \u001b[32m━━━━━━━━━━━━━━━━━━━━\u001b[0m\u001b[37m\u001b[0m \u001b[1m0s\u001b[0m 3ms/step - accuracy: 0.6526 - loss: 0.7589\n",
            "Epoch 25/40\n",
            "\u001b[1m83/83\u001b[0m \u001b[32m━━━━━━━━━━━━━━━━━━━━\u001b[0m\u001b[37m\u001b[0m \u001b[1m0s\u001b[0m 3ms/step - accuracy: 0.6578 - loss: 0.7187\n",
            "Epoch 26/40\n",
            "\u001b[1m83/83\u001b[0m \u001b[32m━━━━━━━━━━━━━━━━━━━━\u001b[0m\u001b[37m\u001b[0m \u001b[1m0s\u001b[0m 4ms/step - accuracy: 0.6634 - loss: 0.7045\n",
            "Epoch 27/40\n",
            "\u001b[1m83/83\u001b[0m \u001b[32m━━━━━━━━━━━━━━━━━━━━\u001b[0m\u001b[37m\u001b[0m \u001b[1m0s\u001b[0m 4ms/step - accuracy: 0.7048 - loss: 0.6748\n",
            "Epoch 28/40\n",
            "\u001b[1m83/83\u001b[0m \u001b[32m━━━━━━━━━━━━━━━━━━━━\u001b[0m\u001b[37m\u001b[0m \u001b[1m0s\u001b[0m 4ms/step - accuracy: 0.7309 - loss: 0.6159\n",
            "Epoch 29/40\n",
            "\u001b[1m83/83\u001b[0m \u001b[32m━━━━━━━━━━━━━━━━━━━━\u001b[0m\u001b[37m\u001b[0m \u001b[1m1s\u001b[0m 4ms/step - accuracy: 0.6938 - loss: 0.6443\n",
            "Epoch 30/40\n",
            "\u001b[1m83/83\u001b[0m \u001b[32m━━━━━━━━━━━━━━━━━━━━\u001b[0m\u001b[37m\u001b[0m \u001b[1m1s\u001b[0m 3ms/step - accuracy: 0.7169 - loss: 0.5938\n",
            "Epoch 31/40\n",
            "\u001b[1m83/83\u001b[0m \u001b[32m━━━━━━━━━━━━━━━━━━━━\u001b[0m\u001b[37m\u001b[0m \u001b[1m0s\u001b[0m 3ms/step - accuracy: 0.7548 - loss: 0.5393\n",
            "Epoch 32/40\n",
            "\u001b[1m83/83\u001b[0m \u001b[32m━━━━━━━━━━━━━━━━━━━━\u001b[0m\u001b[37m\u001b[0m \u001b[1m0s\u001b[0m 3ms/step - accuracy: 0.7692 - loss: 0.5184\n",
            "Epoch 33/40\n",
            "\u001b[1m83/83\u001b[0m \u001b[32m━━━━━━━━━━━━━━━━━━━━\u001b[0m\u001b[37m\u001b[0m \u001b[1m0s\u001b[0m 3ms/step - accuracy: 0.7686 - loss: 0.4893\n",
            "Epoch 34/40\n",
            "\u001b[1m83/83\u001b[0m \u001b[32m━━━━━━━━━━━━━━━━━━━━\u001b[0m\u001b[37m\u001b[0m \u001b[1m0s\u001b[0m 3ms/step - accuracy: 0.7944 - loss: 0.4758\n",
            "Epoch 35/40\n",
            "\u001b[1m83/83\u001b[0m \u001b[32m━━━━━━━━━━━━━━━━━━━━\u001b[0m\u001b[37m\u001b[0m \u001b[1m0s\u001b[0m 3ms/step - accuracy: 0.8013 - loss: 0.4603\n",
            "Epoch 36/40\n",
            "\u001b[1m83/83\u001b[0m \u001b[32m━━━━━━━━━━━━━━━━━━━━\u001b[0m\u001b[37m\u001b[0m \u001b[1m0s\u001b[0m 3ms/step - accuracy: 0.7789 - loss: 0.4611\n",
            "Epoch 37/40\n",
            "\u001b[1m83/83\u001b[0m \u001b[32m━━━━━━━━━━━━━━━━━━━━\u001b[0m\u001b[37m\u001b[0m \u001b[1m0s\u001b[0m 3ms/step - accuracy: 0.8134 - loss: 0.4119\n",
            "Epoch 38/40\n",
            "\u001b[1m83/83\u001b[0m \u001b[32m━━━━━━━━━━━━━━━━━━━━\u001b[0m\u001b[37m\u001b[0m \u001b[1m0s\u001b[0m 3ms/step - accuracy: 0.8141 - loss: 0.4187\n",
            "Epoch 39/40\n",
            "\u001b[1m83/83\u001b[0m \u001b[32m━━━━━━━━━━━━━━━━━━━━\u001b[0m\u001b[37m\u001b[0m \u001b[1m0s\u001b[0m 3ms/step - accuracy: 0.8188 - loss: 0.3867\n",
            "Epoch 40/40\n",
            "\u001b[1m83/83\u001b[0m \u001b[32m━━━━━━━━━━━━━━━━━━━━\u001b[0m\u001b[37m\u001b[0m \u001b[1m0s\u001b[0m 3ms/step - accuracy: 0.8415 - loss: 0.3722\n",
            "\u001b[1m83/83\u001b[0m \u001b[32m━━━━━━━━━━━━━━━━━━━━\u001b[0m\u001b[37m\u001b[0m \u001b[1m1s\u001b[0m 7ms/step - accuracy: 0.9089 - loss: 0.2530\n",
            "\u001b[1m5/5\u001b[0m \u001b[32m━━━━━━━━━━━━━━━━━━━━\u001b[0m\u001b[37m\u001b[0m \u001b[1m1s\u001b[0m 142ms/step - accuracy: 0.4943 - loss: 1.9244\n",
            "Accuracy on the train set : 0.9053\n",
            "Accuracy on the dev set : 0.4895\n"
          ]
        }
      ]
    },
    {
      "cell_type": "code",
      "source": [
        "# Prepare the data for evaluation\n",
        "y_pred = model_without_na.predict(X_dev_without_na)\n",
        "y_pred_classes = np.argmax(y_pred, axis=1)\n",
        "\n",
        "conf_matrix = confusion_matrix(y_dev_without_na, y_pred_classes)\n",
        "\n",
        "# Plot confusion matrix\n",
        "plt.figure(figsize=(8, 6))\n",
        "sns.heatmap(conf_matrix, annot=True, fmt='d', cmap='Blues')\n",
        "plt.title(\"Confusion Matrix\")\n",
        "plt.xlabel(\"Prediction\")\n",
        "plt.ylabel(\"True Labels\")\n",
        "plt.show()"
      ],
      "metadata": {
        "id": "w7rCunesaLDB",
        "outputId": "7d02effd-e2c1-4941-e0cb-0d1ce55fe21b",
        "colab": {
          "base_uri": "https://localhost:8080/",
          "height": 581
        }
      },
      "execution_count": null,
      "outputs": [
        {
          "output_type": "stream",
          "name": "stdout",
          "text": [
            "\u001b[1m5/5\u001b[0m \u001b[32m━━━━━━━━━━━━━━━━━━━━\u001b[0m\u001b[37m\u001b[0m \u001b[1m0s\u001b[0m 69ms/step\n"
          ]
        },
        {
          "output_type": "display_data",
          "data": {
            "text/plain": [
              "<Figure size 800x600 with 2 Axes>"
            ],
            "image/png": "[encoded data removed]"
          },
          "metadata": {}
        }
      ]
    },
    {
      "cell_type": "code",
      "source": [
        "# Compute Precision, Recall, and F1-score (in mean macro)\n",
        "precision = precision_score(y_dev_without_na, y_pred_classes, average='macro')\n",
        "recall = recall_score(y_dev_without_na, y_pred_classes, average='macro')\n",
        "f1 = f1_score(y_dev_without_na, y_pred_classes, average='macro')\n",
        "\n",
        "print(f\"Precision : {precision:.4f}\")\n",
        "print(f\"Recall : {recall:.4f}\")\n",
        "print(f\"F1 Score : {f1:.4f}\")\n",
        "\n",
        "# More complete informations\n",
        "print(\"\\n\")\n",
        "print(classification_report(y_dev_without_na, y_pred_classes))"
      ],
      "metadata": {
        "id": "8XsSNIGnf33o",
        "outputId": "37a9fdee-c441-4717-8e77-1fd6689aa02b",
        "colab": {
          "base_uri": "https://localhost:8080/"
        }
      },
      "execution_count": null,
      "outputs": [
        {
          "output_type": "stream",
          "name": "stdout",
          "text": [
            "Precision : 0.5007\n",
            "Recall : 0.4617\n",
            "F1 Score : 0.4515\n",
            "\n",
            "\n",
            "              precision    recall  f1-score   support\n",
            "\n",
            "           0       0.43      0.71      0.53        49\n",
            "           1       0.61      0.44      0.51        64\n",
            "           2       0.47      0.23      0.31        30\n",
            "\n",
            "    accuracy                           0.49       143\n",
            "   macro avg       0.50      0.46      0.45       143\n",
            "weighted avg       0.52      0.49      0.48       143\n",
            "\n"
          ]
        }
      ]
    }
  ]
}