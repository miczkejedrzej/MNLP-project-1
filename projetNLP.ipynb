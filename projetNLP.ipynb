{
  "nbformat": 4,
  "nbformat_minor": 0,
  "metadata": {
    "colab": {
      "provenance": [],
      "gpuType": "T4",
      "include_colab_link": true
    },
    "kernelspec": {
      "name": "python3",
      "display_name": "Python 3"
    },
    "language_info": {
      "name": "python"
    }
  },
  "cells": [
    {
      "cell_type": "markdown",
      "metadata": {
        "id": "view-in-github",
        "colab_type": "text"
      },
      "source": [
        "<a href=\"https://colab.research.google.com/github/miczkejedrzej/MNLP-project-1/blob/main/projetNLP.ipynb\" target=\"_parent\"><img src=\"https://colab.research.google.com/assets/colab-badge.svg\" alt=\"Open In Colab\"/></a>"
      ]
    },
    {
      "cell_type": "code",
      "source": [
        "# Import of the training data\n",
        "\n",
        "from google.colab import files\n",
        "uploaded = files.upload()"
      ],
      "metadata": {
        "colab": {
          "base_uri": "https://localhost:8080/",
          "height": 73
        },
        "id": "hhyM5XzTyOP3",
        "outputId": "e25bfbdf-ad56-45ae-b55f-d3f224b8447a"
      },
      "execution_count": null,
      "outputs": [
        {
          "output_type": "display_data",
          "data": {
            "text/plain": [
              "<IPython.core.display.HTML object>"
            ],
            "text/html": [
              "\n",
              "     <input type=\"file\" id=\"files-24fe0798-3cea-4ea2-8720-d8840120993b\" name=\"files[]\" multiple disabled\n",
              "        style=\"border:none\" />\n",
              "     <output id=\"result-24fe0798-3cea-4ea2-8720-d8840120993b\">\n",
              "      Upload widget is only available when the cell has been executed in the\n",
              "      current browser session. Please rerun this cell to enable.\n",
              "      </output>\n",
              "      <script>// Copyright 2017 Google LLC\n",
              "//\n",
              "// Licensed under the Apache License, Version 2.0 (the \"License\");\n",
              "// you may not use this file except in compliance with the License.\n",
              "// You may obtain a copy of the License at\n",
              "//\n",
              "//      http://www.apache.org/licenses/LICENSE-2.0\n",
              "//\n",
              "// Unless required by applicable law or agreed to in writing, software\n",
              "// distributed under the License is distributed on an \"AS IS\" BASIS,\n",
              "// WITHOUT WARRANTIES OR CONDITIONS OF ANY KIND, either express or implied.\n",
              "// See the License for the specific language governing permissions and\n",
              "// limitations under the License.\n",
              "\n",
              "/**\n",
              " * @fileoverview Helpers for google.colab Python module.\n",
              " */\n",
              "(function(scope) {\n",
              "function span(text, styleAttributes = {}) {\n",
              "  const element = document.createElement('span');\n",
              "  element.textContent = text;\n",
              "  for (const key of Object.keys(styleAttributes)) {\n",
              "    element.style[key] = styleAttributes[key];\n",
              "  }\n",
              "  return element;\n",
              "}\n",
              "\n",
              "// Max number of bytes which will be uploaded at a time.\n",
              "const MAX_PAYLOAD_SIZE = 100 * 1024;\n",
              "\n",
              "function _uploadFiles(inputId, outputId) {\n",
              "  const steps = uploadFilesStep(inputId, outputId);\n",
              "  const outputElement = document.getElementById(outputId);\n",
              "  // Cache steps on the outputElement to make it available for the next call\n",
              "  // to uploadFilesContinue from Python.\n",
              "  outputElement.steps = steps;\n",
              "\n",
              "  return _uploadFilesContinue(outputId);\n",
              "}\n",
              "\n",
              "// This is roughly an async generator (not supported in the browser yet),\n",
              "// where there are multiple asynchronous steps and the Python side is going\n",
              "// to poll for completion of each step.\n",
              "// This uses a Promise to block the python side on completion of each step,\n",
              "// then passes the result of the previous step as the input to the next step.\n",
              "function _uploadFilesContinue(outputId) {\n",
              "  const outputElement = document.getElementById(outputId);\n",
              "  const steps = outputElement.steps;\n",
              "\n",
              "  const next = steps.next(outputElement.lastPromiseValue);\n",
              "  return Promise.resolve(next.value.promise).then((value) => {\n",
              "    // Cache the last promise value to make it available to the next\n",
              "    // step of the generator.\n",
              "    outputElement.lastPromiseValue = value;\n",
              "    return next.value.response;\n",
              "  });\n",
              "}\n",
              "\n",
              "/**\n",
              " * Generator function which is called between each async step of the upload\n",
              " * process.\n",
              " * @param {string} inputId Element ID of the input file picker element.\n",
              " * @param {string} outputId Element ID of the output display.\n",
              " * @return {!Iterable<!Object>} Iterable of next steps.\n",
              " */\n",
              "function* uploadFilesStep(inputId, outputId) {\n",
              "  const inputElement = document.getElementById(inputId);\n",
              "  inputElement.disabled = false;\n",
              "\n",
              "  const outputElement = document.getElementById(outputId);\n",
              "  outputElement.innerHTML = '';\n",
              "\n",
              "  const pickedPromise = new Promise((resolve) => {\n",
              "    inputElement.addEventListener('change', (e) => {\n",
              "      resolve(e.target.files);\n",
              "    });\n",
              "  });\n",
              "\n",
              "  const cancel = document.createElement('button');\n",
              "  inputElement.parentElement.appendChild(cancel);\n",
              "  cancel.textContent = 'Cancel upload';\n",
              "  const cancelPromise = new Promise((resolve) => {\n",
              "    cancel.onclick = () => {\n",
              "      resolve(null);\n",
              "    };\n",
              "  });\n",
              "\n",
              "  // Wait for the user to pick the files.\n",
              "  const files = yield {\n",
              "    promise: Promise.race([pickedPromise, cancelPromise]),\n",
              "    response: {\n",
              "      action: 'starting',\n",
              "    }\n",
              "  };\n",
              "\n",
              "  cancel.remove();\n",
              "\n",
              "  // Disable the input element since further picks are not allowed.\n",
              "  inputElement.disabled = true;\n",
              "\n",
              "  if (!files) {\n",
              "    return {\n",
              "      response: {\n",
              "        action: 'complete',\n",
              "      }\n",
              "    };\n",
              "  }\n",
              "\n",
              "  for (const file of files) {\n",
              "    const li = document.createElement('li');\n",
              "    li.append(span(file.name, {fontWeight: 'bold'}));\n",
              "    li.append(span(\n",
              "        `(${file.type || 'n/a'}) - ${file.size} bytes, ` +\n",
              "        `last modified: ${\n",
              "            file.lastModifiedDate ? file.lastModifiedDate.toLocaleDateString() :\n",
              "                                    'n/a'} - `));\n",
              "    const percent = span('0% done');\n",
              "    li.appendChild(percent);\n",
              "\n",
              "    outputElement.appendChild(li);\n",
              "\n",
              "    const fileDataPromise = new Promise((resolve) => {\n",
              "      const reader = new FileReader();\n",
              "      reader.onload = (e) => {\n",
              "        resolve(e.target.result);\n",
              "      };\n",
              "      reader.readAsArrayBuffer(file);\n",
              "    });\n",
              "    // Wait for the data to be ready.\n",
              "    let fileData = yield {\n",
              "      promise: fileDataPromise,\n",
              "      response: {\n",
              "        action: 'continue',\n",
              "      }\n",
              "    };\n",
              "\n",
              "    // Use a chunked sending to avoid message size limits. See b/62115660.\n",
              "    let position = 0;\n",
              "    do {\n",
              "      const length = Math.min(fileData.byteLength - position, MAX_PAYLOAD_SIZE);\n",
              "      const chunk = new Uint8Array(fileData, position, length);\n",
              "      position += length;\n",
              "\n",
              "      const base64 = btoa(String.fromCharCode.apply(null, chunk));\n",
              "      yield {\n",
              "        response: {\n",
              "          action: 'append',\n",
              "          file: file.name,\n",
              "          data: base64,\n",
              "        },\n",
              "      };\n",
              "\n",
              "      let percentDone = fileData.byteLength === 0 ?\n",
              "          100 :\n",
              "          Math.round((position / fileData.byteLength) * 100);\n",
              "      percent.textContent = `${percentDone}% done`;\n",
              "\n",
              "    } while (position < fileData.byteLength);\n",
              "  }\n",
              "\n",
              "  // All done.\n",
              "  yield {\n",
              "    response: {\n",
              "      action: 'complete',\n",
              "    }\n",
              "  };\n",
              "}\n",
              "\n",
              "scope.google = scope.google || {};\n",
              "scope.google.colab = scope.google.colab || {};\n",
              "scope.google.colab._files = {\n",
              "  _uploadFiles,\n",
              "  _uploadFilesContinue,\n",
              "};\n",
              "})(self);\n",
              "</script> "
            ]
          },
          "metadata": {}
        },
        {
          "output_type": "stream",
          "name": "stdout",
          "text": [
            "Saving [MNLP 2025 HW1] train set [PUBLIC] - train_cleaned.tsv to [MNLP 2025 HW1] train set [PUBLIC] - train_cleaned.tsv\n"
          ]
        }
      ]
    },
    {
      "cell_type": "code",
      "execution_count": 11,
      "metadata": {
        "id": "d37xmkiBrIkx"
      },
      "outputs": [],
      "source": [
        "!pip install wikidata --quiet\n",
        "\n",
        "import pandas as pd\n",
        "from wikidata.client import Client\n",
        "import requests"
      ]
    },
    {
      "cell_type": "code",
      "source": [
        "df_train = pd.read_csv('/content/[MNLP 2025 HW1] train set [PUBLIC] - train_cleaned.tsv', sep = '\\t')"
      ],
      "metadata": {
        "id": "Q2_Gx3JMrPKw"
      },
      "execution_count": 34,
      "outputs": []
    },
    {
      "cell_type": "markdown",
      "source": [
        "#subclasses (P279)"
      ],
      "metadata": {
        "id": "RmWiWRMsnsn4"
      }
    },
    {
      "cell_type": "markdown",
      "source": [
        "We are looking for the shortest path from the given item to a 'root' item that has not any subclass. We then define the depth of each item in the graph of subclasses as the number of nodes in the shortest path."
      ],
      "metadata": {
        "id": "CH-sW4bbBoaR"
      }
    },
    {
      "cell_type": "code",
      "source": [
        "import requests\n",
        "from collections import deque\n",
        "from functools import lru_cache\n",
        "from tqdm import tqdm\n",
        "\n",
        "WIKIDATA_SPARQL_URL = \"https://query.wikidata.org/sparql\"\n",
        "HEADERS = {\n",
        "    \"Accept\": \"application/sparql-results+json\",\n",
        "    \"User-Agent\": \"ExplorateurWikidata/0.1 (truc@truc.com)\"\n",
        "}\n",
        "\n",
        "def extract_entity_id(url):\n",
        "    return url.strip().split(\"/\")[-1]\n",
        "\n",
        "@lru_cache(maxsize=None)\n",
        "def get_superclasses(qid):\n",
        "    \"\"\"Superclasses (P279) with cache.\"\"\"\n",
        "    query = f\"\"\"\n",
        "    SELECT ?superclass WHERE {{\n",
        "      wd:{qid} wdt:P279 ?superclass.\n",
        "    }}\n",
        "    \"\"\"\n",
        "    response = requests.get(WIKIDATA_SPARQL_URL, params={\"query\": query}, headers=HEADERS)\n",
        "    results = response.json()[\"results\"][\"bindings\"]\n",
        "    return tuple(r[\"superclass\"][\"value\"].split(\"/\")[-1] for r in results)\n",
        "\n",
        "def get_subclass_depth_bfs(url, max_depth=20):\n",
        "    \"\"\"get the depth by finding the shortest path with BFS\"\"\"\n",
        "    qid = extract_entity_id(url)\n",
        "    visited = set()\n",
        "    queue = deque([(qid, 1)])\n",
        "\n",
        "    while queue:\n",
        "        current_qid, depth = queue.popleft()\n",
        "        if current_qid in visited:\n",
        "            continue\n",
        "        visited.add(current_qid)\n",
        "\n",
        "        parents = get_superclasses(current_qid)\n",
        "        if not parents:\n",
        "            return depth\n",
        "        if depth >= max_depth:\n",
        "            return None\n",
        "        for parent_qid in parents:\n",
        "            queue.append((parent_qid, depth + 1))\n",
        "\n",
        "    return None\n"
      ],
      "metadata": {
        "id": "SW4cxTElK6Ic"
      },
      "execution_count": 41,
      "outputs": []
    },
    {
      "cell_type": "code",
      "source": [
        "tqdm.pandas()\n",
        "df_train[\"subclass_depth\"]= df_train[\"item\"].progress_apply(get_subclass_depth_bfs)"
      ],
      "metadata": {
        "id": "TA4IihufOXEc",
        "outputId": "f0c7de46-7232-48c6-ed03-81be00f7dc1c",
        "colab": {
          "base_uri": "https://localhost:8080/"
        }
      },
      "execution_count": 36,
      "outputs": [
        {
          "output_type": "stream",
          "name": "stderr",
          "text": [
            "100%|██████████| 6251/6251 [25:17<00:00,  4.12it/s]\n"
          ]
        }
      ]
    },
    {
      "cell_type": "markdown",
      "source": [
        "## Subclasses downward"
      ],
      "metadata": {
        "id": "2P55KXbc4mZR"
      }
    },
    {
      "cell_type": "code",
      "source": [
        "def get_direct_subclasses(url):\n",
        "    \"\"\"return the number of subclasses \"\"\"\n",
        "    qid = extract_entity_id(url)\n",
        "    query = f\"\"\"\n",
        "    SELECT ?subclass WHERE {{\n",
        "      ?subclass wdt:P279 wd:{qid} .\n",
        "    }}\n",
        "    \"\"\"\n",
        "    response = requests.get(WIKIDATA_SPARQL_URL, params={\"query\": query}, headers=HEADERS)\n",
        "    results = response.json()[\"results\"][\"bindings\"]\n",
        "    #return [r[\"subclass\"][\"value\"].split(\"/\")[-1] for r in results]\n",
        "    return len(results)\n"
      ],
      "metadata": {
        "id": "yFYBCWP5xtIH"
      },
      "execution_count": 13,
      "outputs": []
    },
    {
      "cell_type": "code",
      "source": [
        "df_train[\"subclasses\"] = df_train[\"item\"].apply(get_direct_subclasses)"
      ],
      "metadata": {
        "id": "8vrzw2mBTx9Q"
      },
      "execution_count": 14,
      "outputs": []
    },
    {
      "cell_type": "markdown",
      "source": [
        "# Instances of (P31) downward\n",
        "\n",
        "Here I explore the concept of the instances of the entity. Mainly I check how many entities on the wikipedia are the instances of the given entity, later i group the outcomes by the labels and plot them to see whether there is any meaningfull correlation"
      ],
      "metadata": {
        "id": "WtwuIGHw5KWl"
      }
    },
    {
      "cell_type": "code",
      "source": [
        "def get_instances_of(url):\n",
        "  qid = extract_entity_id(url)\n",
        "  \"\"\"return  number of items that are 'instances of' the given entity\"\"\"\n",
        "  query = f\"\"\"\n",
        "  SELECT ?entity ?label WHERE {{\n",
        "    ?entity wdt:P31 wd:{qid}.\n",
        "    ?entity rdfs:label ?label .\n",
        "    FILTER(LANG(?label) = \"en\")\n",
        "  }}\n",
        "  \"\"\"\n",
        "  response = requests.get(WIKIDATA_SPARQL_URL, params={\"query\": query}, headers=HEADERS)\n",
        "  results = response.json()[\"results\"][\"bindings\"]\n",
        "  #return [(r[\"class\"][\"value\"].split(\"/\")[-1], r[\"label\"][\"value\"]) for r in results ]\n",
        "  return len(results)\n"
      ],
      "metadata": {
        "id": "qqtO-UBP4XaY"
      },
      "execution_count": 17,
      "outputs": []
    },
    {
      "cell_type": "code",
      "source": [
        "df_train[\"instances_of\"] = df_train[\"item\"].apply(get_instances_of)"
      ],
      "metadata": {
        "id": "e2FzgGaE6O6c"
      },
      "execution_count": 18,
      "outputs": []
    },
    {
      "cell_type": "code",
      "source": [
        "df_train[df_train[\"instances_of\"] != 0]"
      ],
      "metadata": {
        "id": "p1GMQwaq-CCc",
        "outputId": "c034152a-1abf-45af-bd5f-c832f31abf7e",
        "colab": {
          "base_uri": "https://localhost:8080/",
          "height": 597
        }
      },
      "execution_count": null,
      "outputs": [
        {
          "output_type": "execute_result",
          "data": {
            "text/plain": [
              "                                          item                           name  \\\n",
              "61    http://www.wikidata.org/entity/Q19772737            political candidate   \n",
              "75     http://www.wikidata.org/entity/Q4175034                     legislator   \n",
              "78     http://www.wikidata.org/entity/Q5261098            deputy party leader   \n",
              "85     http://www.wikidata.org/entity/Q2285706             head of government   \n",
              "86     http://www.wikidata.org/entity/Q1688932                       jiedushi   \n",
              "...                                        ...                            ...   \n",
              "6201    http://www.wikidata.org/entity/Q287414  neighborhood in New York City   \n",
              "6203    http://www.wikidata.org/entity/Q201759                           slum   \n",
              "6204    http://www.wikidata.org/entity/Q188509                         suburb   \n",
              "6205     http://www.wikidata.org/entity/Q75848                gated community   \n",
              "6206    http://www.wikidata.org/entity/Q152018                         ghetto   \n",
              "\n",
              "                                            description     type   category  \\\n",
              "61        candidate in an election for political office  concept   politics   \n",
              "75                              member of a legislature  concept   politics   \n",
              "78               second-in-command of a political party  concept   politics   \n",
              "85    chief officer of the executive branch of a gov...  concept   politics   \n",
              "86                  regional military governor function  concept   politics   \n",
              "...                                                 ...      ...        ...   \n",
              "6201  neighborhood located within one of the five bo...  concept  geography   \n",
              "6203  heavily populated urban settlement characteriz...  concept  geography   \n",
              "6204  human settlement that is part of or near to a ...  concept  geography   \n",
              "6205  residental community with controlled entrances...  concept  geography   \n",
              "6206  part of a city in which members of a minority ...  concept  geography   \n",
              "\n",
              "       subcategory               label  instances_of  \n",
              "61      politician   cultural agnostic             7  \n",
              "75      politician   cultural agnostic             2  \n",
              "78      politician   cultural agnostic             3  \n",
              "85      politician   cultural agnostic            40  \n",
              "86      politician  cultural exclusive             3  \n",
              "...            ...                 ...           ...  \n",
              "6201  neighborhood  cultural exclusive             4  \n",
              "6203  neighborhood   cultural agnostic            19  \n",
              "6204  neighborhood   cultural agnostic          8223  \n",
              "6205  neighborhood   cultural agnostic            44  \n",
              "6206  neighborhood   cultural agnostic            17  \n",
              "\n",
              "[1105 rows x 8 columns]"
            ],
            "text/html": [
              "\n",
              "  <div id=\"df-6fe819c4-5e7f-47c5-8351-912b591ff437\" class=\"colab-df-container\">\n",
              "    <div>\n",
              "<style scoped>\n",
              "    .dataframe tbody tr th:only-of-type {\n",
              "        vertical-align: middle;\n",
              "    }\n",
              "\n",
              "    .dataframe tbody tr th {\n",
              "        vertical-align: top;\n",
              "    }\n",
              "\n",
              "    .dataframe thead th {\n",
              "        text-align: right;\n",
              "    }\n",
              "</style>\n",
              "<table border=\"1\" class=\"dataframe\">\n",
              "  <thead>\n",
              "    <tr style=\"text-align: right;\">\n",
              "      <th></th>\n",
              "      <th>item</th>\n",
              "      <th>name</th>\n",
              "      <th>description</th>\n",
              "      <th>type</th>\n",
              "      <th>category</th>\n",
              "      <th>subcategory</th>\n",
              "      <th>label</th>\n",
              "      <th>instances_of</th>\n",
              "    </tr>\n",
              "  </thead>\n",
              "  <tbody>\n",
              "    <tr>\n",
              "      <th>61</th>\n",
              "      <td>http://www.wikidata.org/entity/Q19772737</td>\n",
              "      <td>political candidate</td>\n",
              "      <td>candidate in an election for political office</td>\n",
              "      <td>concept</td>\n",
              "      <td>politics</td>\n",
              "      <td>politician</td>\n",
              "      <td>cultural agnostic</td>\n",
              "      <td>7</td>\n",
              "    </tr>\n",
              "    <tr>\n",
              "      <th>75</th>\n",
              "      <td>http://www.wikidata.org/entity/Q4175034</td>\n",
              "      <td>legislator</td>\n",
              "      <td>member of a legislature</td>\n",
              "      <td>concept</td>\n",
              "      <td>politics</td>\n",
              "      <td>politician</td>\n",
              "      <td>cultural agnostic</td>\n",
              "      <td>2</td>\n",
              "    </tr>\n",
              "    <tr>\n",
              "      <th>78</th>\n",
              "      <td>http://www.wikidata.org/entity/Q5261098</td>\n",
              "      <td>deputy party leader</td>\n",
              "      <td>second-in-command of a political party</td>\n",
              "      <td>concept</td>\n",
              "      <td>politics</td>\n",
              "      <td>politician</td>\n",
              "      <td>cultural agnostic</td>\n",
              "      <td>3</td>\n",
              "    </tr>\n",
              "    <tr>\n",
              "      <th>85</th>\n",
              "      <td>http://www.wikidata.org/entity/Q2285706</td>\n",
              "      <td>head of government</td>\n",
              "      <td>chief officer of the executive branch of a gov...</td>\n",
              "      <td>concept</td>\n",
              "      <td>politics</td>\n",
              "      <td>politician</td>\n",
              "      <td>cultural agnostic</td>\n",
              "      <td>40</td>\n",
              "    </tr>\n",
              "    <tr>\n",
              "      <th>86</th>\n",
              "      <td>http://www.wikidata.org/entity/Q1688932</td>\n",
              "      <td>jiedushi</td>\n",
              "      <td>regional military governor function</td>\n",
              "      <td>concept</td>\n",
              "      <td>politics</td>\n",
              "      <td>politician</td>\n",
              "      <td>cultural exclusive</td>\n",
              "      <td>3</td>\n",
              "    </tr>\n",
              "    <tr>\n",
              "      <th>...</th>\n",
              "      <td>...</td>\n",
              "      <td>...</td>\n",
              "      <td>...</td>\n",
              "      <td>...</td>\n",
              "      <td>...</td>\n",
              "      <td>...</td>\n",
              "      <td>...</td>\n",
              "      <td>...</td>\n",
              "    </tr>\n",
              "    <tr>\n",
              "      <th>6201</th>\n",
              "      <td>http://www.wikidata.org/entity/Q287414</td>\n",
              "      <td>neighborhood in New York City</td>\n",
              "      <td>neighborhood located within one of the five bo...</td>\n",
              "      <td>concept</td>\n",
              "      <td>geography</td>\n",
              "      <td>neighborhood</td>\n",
              "      <td>cultural exclusive</td>\n",
              "      <td>4</td>\n",
              "    </tr>\n",
              "    <tr>\n",
              "      <th>6203</th>\n",
              "      <td>http://www.wikidata.org/entity/Q201759</td>\n",
              "      <td>slum</td>\n",
              "      <td>heavily populated urban settlement characteriz...</td>\n",
              "      <td>concept</td>\n",
              "      <td>geography</td>\n",
              "      <td>neighborhood</td>\n",
              "      <td>cultural agnostic</td>\n",
              "      <td>19</td>\n",
              "    </tr>\n",
              "    <tr>\n",
              "      <th>6204</th>\n",
              "      <td>http://www.wikidata.org/entity/Q188509</td>\n",
              "      <td>suburb</td>\n",
              "      <td>human settlement that is part of or near to a ...</td>\n",
              "      <td>concept</td>\n",
              "      <td>geography</td>\n",
              "      <td>neighborhood</td>\n",
              "      <td>cultural agnostic</td>\n",
              "      <td>8223</td>\n",
              "    </tr>\n",
              "    <tr>\n",
              "      <th>6205</th>\n",
              "      <td>http://www.wikidata.org/entity/Q75848</td>\n",
              "      <td>gated community</td>\n",
              "      <td>residental community with controlled entrances...</td>\n",
              "      <td>concept</td>\n",
              "      <td>geography</td>\n",
              "      <td>neighborhood</td>\n",
              "      <td>cultural agnostic</td>\n",
              "      <td>44</td>\n",
              "    </tr>\n",
              "    <tr>\n",
              "      <th>6206</th>\n",
              "      <td>http://www.wikidata.org/entity/Q152018</td>\n",
              "      <td>ghetto</td>\n",
              "      <td>part of a city in which members of a minority ...</td>\n",
              "      <td>concept</td>\n",
              "      <td>geography</td>\n",
              "      <td>neighborhood</td>\n",
              "      <td>cultural agnostic</td>\n",
              "      <td>17</td>\n",
              "    </tr>\n",
              "  </tbody>\n",
              "</table>\n",
              "<p>1105 rows × 8 columns</p>\n",
              "</div>\n",
              "    <div class=\"colab-df-buttons\">\n",
              "\n",
              "  <div class=\"colab-df-container\">\n",
              "    <button class=\"colab-df-convert\" onclick=\"convertToInteractive('df-6fe819c4-5e7f-47c5-8351-912b591ff437')\"\n",
              "            title=\"Convert this dataframe to an interactive table.\"\n",
              "            style=\"display:none;\">\n",
              "\n",
              "  <svg xmlns=\"http://www.w3.org/2000/svg\" height=\"24px\" viewBox=\"0 -960 960 960\">\n",
              "    <path d=\"M120-120v-720h720v720H120Zm60-500h600v-160H180v160Zm220 220h160v-160H400v160Zm0 220h160v-160H400v160ZM180-400h160v-160H180v160Zm440 0h160v-160H620v160ZM180-180h160v-160H180v160Zm440 0h160v-160H620v160Z\"/>\n",
              "  </svg>\n",
              "    </button>\n",
              "\n",
              "  <style>\n",
              "    .colab-df-container {\n",
              "      display:flex;\n",
              "      gap: 12px;\n",
              "    }\n",
              "\n",
              "    .colab-df-convert {\n",
              "      background-color: #E8F0FE;\n",
              "      border: none;\n",
              "      border-radius: 50%;\n",
              "      cursor: pointer;\n",
              "      display: none;\n",
              "      fill: #1967D2;\n",
              "      height: 32px;\n",
              "      padding: 0 0 0 0;\n",
              "      width: 32px;\n",
              "    }\n",
              "\n",
              "    .colab-df-convert:hover {\n",
              "      background-color: #E2EBFA;\n",
              "      box-shadow: 0px 1px 2px rgba(60, 64, 67, 0.3), 0px 1px 3px 1px rgba(60, 64, 67, 0.15);\n",
              "      fill: #174EA6;\n",
              "    }\n",
              "\n",
              "    .colab-df-buttons div {\n",
              "      margin-bottom: 4px;\n",
              "    }\n",
              "\n",
              "    [theme=dark] .colab-df-convert {\n",
              "      background-color: #3B4455;\n",
              "      fill: #D2E3FC;\n",
              "    }\n",
              "\n",
              "    [theme=dark] .colab-df-convert:hover {\n",
              "      background-color: #434B5C;\n",
              "      box-shadow: 0px 1px 3px 1px rgba(0, 0, 0, 0.15);\n",
              "      filter: drop-shadow(0px 1px 2px rgba(0, 0, 0, 0.3));\n",
              "      fill: #FFFFFF;\n",
              "    }\n",
              "  </style>\n",
              "\n",
              "    <script>\n",
              "      const buttonEl =\n",
              "        document.querySelector('#df-6fe819c4-5e7f-47c5-8351-912b591ff437 button.colab-df-convert');\n",
              "      buttonEl.style.display =\n",
              "        google.colab.kernel.accessAllowed ? 'block' : 'none';\n",
              "\n",
              "      async function convertToInteractive(key) {\n",
              "        const element = document.querySelector('#df-6fe819c4-5e7f-47c5-8351-912b591ff437');\n",
              "        const dataTable =\n",
              "          await google.colab.kernel.invokeFunction('convertToInteractive',\n",
              "                                                    [key], {});\n",
              "        if (!dataTable) return;\n",
              "\n",
              "        const docLinkHtml = 'Like what you see? Visit the ' +\n",
              "          '<a target=\"_blank\" href=https://colab.research.google.com/notebooks/data_table.ipynb>data table notebook</a>'\n",
              "          + ' to learn more about interactive tables.';\n",
              "        element.innerHTML = '';\n",
              "        dataTable['output_type'] = 'display_data';\n",
              "        await google.colab.output.renderOutput(dataTable, element);\n",
              "        const docLink = document.createElement('div');\n",
              "        docLink.innerHTML = docLinkHtml;\n",
              "        element.appendChild(docLink);\n",
              "      }\n",
              "    </script>\n",
              "  </div>\n",
              "\n",
              "\n",
              "<div id=\"df-4712c345-6ef1-4ea8-a4d3-d759f5d4ba78\">\n",
              "  <button class=\"colab-df-quickchart\" onclick=\"quickchart('df-4712c345-6ef1-4ea8-a4d3-d759f5d4ba78')\"\n",
              "            title=\"Suggest charts\"\n",
              "            style=\"display:none;\">\n",
              "\n",
              "<svg xmlns=\"http://www.w3.org/2000/svg\" height=\"24px\"viewBox=\"0 0 24 24\"\n",
              "     width=\"24px\">\n",
              "    <g>\n",
              "        <path d=\"M19 3H5c-1.1 0-2 .9-2 2v14c0 1.1.9 2 2 2h14c1.1 0 2-.9 2-2V5c0-1.1-.9-2-2-2zM9 17H7v-7h2v7zm4 0h-2V7h2v10zm4 0h-2v-4h2v4z\"/>\n",
              "    </g>\n",
              "</svg>\n",
              "  </button>\n",
              "\n",
              "<style>\n",
              "  .colab-df-quickchart {\n",
              "      --bg-color: #E8F0FE;\n",
              "      --fill-color: #1967D2;\n",
              "      --hover-bg-color: #E2EBFA;\n",
              "      --hover-fill-color: #174EA6;\n",
              "      --disabled-fill-color: #AAA;\n",
              "      --disabled-bg-color: #DDD;\n",
              "  }\n",
              "\n",
              "  [theme=dark] .colab-df-quickchart {\n",
              "      --bg-color: #3B4455;\n",
              "      --fill-color: #D2E3FC;\n",
              "      --hover-bg-color: #434B5C;\n",
              "      --hover-fill-color: #FFFFFF;\n",
              "      --disabled-bg-color: #3B4455;\n",
              "      --disabled-fill-color: #666;\n",
              "  }\n",
              "\n",
              "  .colab-df-quickchart {\n",
              "    background-color: var(--bg-color);\n",
              "    border: none;\n",
              "    border-radius: 50%;\n",
              "    cursor: pointer;\n",
              "    display: none;\n",
              "    fill: var(--fill-color);\n",
              "    height: 32px;\n",
              "    padding: 0;\n",
              "    width: 32px;\n",
              "  }\n",
              "\n",
              "  .colab-df-quickchart:hover {\n",
              "    background-color: var(--hover-bg-color);\n",
              "    box-shadow: 0 1px 2px rgba(60, 64, 67, 0.3), 0 1px 3px 1px rgba(60, 64, 67, 0.15);\n",
              "    fill: var(--button-hover-fill-color);\n",
              "  }\n",
              "\n",
              "  .colab-df-quickchart-complete:disabled,\n",
              "  .colab-df-quickchart-complete:disabled:hover {\n",
              "    background-color: var(--disabled-bg-color);\n",
              "    fill: var(--disabled-fill-color);\n",
              "    box-shadow: none;\n",
              "  }\n",
              "\n",
              "  .colab-df-spinner {\n",
              "    border: 2px solid var(--fill-color);\n",
              "    border-color: transparent;\n",
              "    border-bottom-color: var(--fill-color);\n",
              "    animation:\n",
              "      spin 1s steps(1) infinite;\n",
              "  }\n",
              "\n",
              "  @keyframes spin {\n",
              "    0% {\n",
              "      border-color: transparent;\n",
              "      border-bottom-color: var(--fill-color);\n",
              "      border-left-color: var(--fill-color);\n",
              "    }\n",
              "    20% {\n",
              "      border-color: transparent;\n",
              "      border-left-color: var(--fill-color);\n",
              "      border-top-color: var(--fill-color);\n",
              "    }\n",
              "    30% {\n",
              "      border-color: transparent;\n",
              "      border-left-color: var(--fill-color);\n",
              "      border-top-color: var(--fill-color);\n",
              "      border-right-color: var(--fill-color);\n",
              "    }\n",
              "    40% {\n",
              "      border-color: transparent;\n",
              "      border-right-color: var(--fill-color);\n",
              "      border-top-color: var(--fill-color);\n",
              "    }\n",
              "    60% {\n",
              "      border-color: transparent;\n",
              "      border-right-color: var(--fill-color);\n",
              "    }\n",
              "    80% {\n",
              "      border-color: transparent;\n",
              "      border-right-color: var(--fill-color);\n",
              "      border-bottom-color: var(--fill-color);\n",
              "    }\n",
              "    90% {\n",
              "      border-color: transparent;\n",
              "      border-bottom-color: var(--fill-color);\n",
              "    }\n",
              "  }\n",
              "</style>\n",
              "\n",
              "  <script>\n",
              "    async function quickchart(key) {\n",
              "      const quickchartButtonEl =\n",
              "        document.querySelector('#' + key + ' button');\n",
              "      quickchartButtonEl.disabled = true;  // To prevent multiple clicks.\n",
              "      quickchartButtonEl.classList.add('colab-df-spinner');\n",
              "      try {\n",
              "        const charts = await google.colab.kernel.invokeFunction(\n",
              "            'suggestCharts', [key], {});\n",
              "      } catch (error) {\n",
              "        console.error('Error during call to suggestCharts:', error);\n",
              "      }\n",
              "      quickchartButtonEl.classList.remove('colab-df-spinner');\n",
              "      quickchartButtonEl.classList.add('colab-df-quickchart-complete');\n",
              "    }\n",
              "    (() => {\n",
              "      let quickchartButtonEl =\n",
              "        document.querySelector('#df-4712c345-6ef1-4ea8-a4d3-d759f5d4ba78 button');\n",
              "      quickchartButtonEl.style.display =\n",
              "        google.colab.kernel.accessAllowed ? 'block' : 'none';\n",
              "    })();\n",
              "  </script>\n",
              "</div>\n",
              "\n",
              "    </div>\n",
              "  </div>\n"
            ],
            "application/vnd.google.colaboratory.intrinsic+json": {
              "type": "dataframe",
              "summary": "{\n  \"name\": \"df_train[df_train[\\\"instances_of\\\"] != 0]\",\n  \"rows\": 1105,\n  \"fields\": [\n    {\n      \"column\": \"item\",\n      \"properties\": {\n        \"dtype\": \"string\",\n        \"num_unique_values\": 1105,\n        \"samples\": [\n          \"http://www.wikidata.org/entity/Q115755619\",\n          \"http://www.wikidata.org/entity/Q2367508\",\n          \"http://www.wikidata.org/entity/Q314132\"\n        ],\n        \"semantic_type\": \"\",\n        \"description\": \"\"\n      }\n    },\n    {\n      \"column\": \"name\",\n      \"properties\": {\n        \"dtype\": \"string\",\n        \"num_unique_values\": 1104,\n        \"samples\": [\n          \"traction engine\",\n          \"township of Taiwan\",\n          \"Alpine Club\"\n        ],\n        \"semantic_type\": \"\",\n        \"description\": \"\"\n      }\n    },\n    {\n      \"column\": \"description\",\n      \"properties\": {\n        \"dtype\": \"string\",\n        \"num_unique_values\": 1090,\n        \"samples\": [\n          \"design of war memorial by Reginald Blomfield\",\n          \"standing, dead or dying tree\",\n          \"central or downtown area of a Philippine city or municipality\"\n        ],\n        \"semantic_type\": \"\",\n        \"description\": \"\"\n      }\n    },\n    {\n      \"column\": \"type\",\n      \"properties\": {\n        \"dtype\": \"category\",\n        \"num_unique_values\": 2,\n        \"samples\": [\n          \"entity\",\n          \"concept\"\n        ],\n        \"semantic_type\": \"\",\n        \"description\": \"\"\n      }\n    },\n    {\n      \"column\": \"category\",\n      \"properties\": {\n        \"dtype\": \"category\",\n        \"num_unique_values\": 19,\n        \"samples\": [\n          \"politics\",\n          \"media\"\n        ],\n        \"semantic_type\": \"\",\n        \"description\": \"\"\n      }\n    },\n    {\n      \"column\": \"subcategory\",\n      \"properties\": {\n        \"dtype\": \"category\",\n        \"num_unique_values\": 91,\n        \"samples\": [\n          \"literary award\",\n          \"athlete\"\n        ],\n        \"semantic_type\": \"\",\n        \"description\": \"\"\n      }\n    },\n    {\n      \"column\": \"label\",\n      \"properties\": {\n        \"dtype\": \"category\",\n        \"num_unique_values\": 5,\n        \"samples\": [\n          \"cultural exclusive\",\n          \"cultural\"\n        ],\n        \"semantic_type\": \"\",\n        \"description\": \"\"\n      }\n    },\n    {\n      \"column\": \"instances_of\",\n      \"properties\": {\n        \"dtype\": \"number\",\n        \"std\": 10385,\n        \"min\": 1,\n        \"max\": 238273,\n        \"num_unique_values\": 249,\n        \"samples\": [\n          548,\n          4\n        ],\n        \"semantic_type\": \"\",\n        \"description\": \"\"\n      }\n    }\n  ]\n}"
            }
          },
          "metadata": {},
          "execution_count": 19
        }
      ]
    },
    {
      "cell_type": "code",
      "source": [
        "import seaborn as sns\n",
        "import matplotlib.pyplot as plt\n",
        "\n",
        "df_train['instances_of'] = pd.to_numeric(df_train['instances_of'], errors='coerce')\n",
        "#categories = list(set(df_lang['label']))\n",
        "\n",
        "'''the box plots are utterly uninformative due to discrepancy of data magnitude'''\n",
        "# categories = ['cultural representative','cultural exclusive','cultural agnostic']\n",
        "# print(categories)\n",
        "# fig, axes = plt.subplots(1, 3, figsize=(15, 5), sharey=True)\n",
        "\n",
        "\n",
        "# for i, label in enumerate(categories):\n",
        "#     ax = axes[i]\n",
        "#     subset = df_train[df_train['label'] == label]\n",
        "#     sns.boxplot(data=subset, x='instances_of', fill=True, ax=ax)\n",
        "#     ax.set_title(f'Density for label: {label}')\n",
        "#     ax.set_xlabel('Number of Languages of wikipedia site of  the item')\n",
        "#     ax.set_ylabel('Density distirbution')\n",
        "#     plt.tight_layout()\n",
        "# plt.show()"
      ],
      "metadata": {
        "id": "f3G02aF2jo9t",
        "outputId": "451fb35d-0f2f-424e-bff7-58bc150c57b5",
        "colab": {
          "base_uri": "https://localhost:8080/",
          "height": 412
        }
      },
      "execution_count": null,
      "outputs": [
        {
          "output_type": "stream",
          "name": "stdout",
          "text": [
            "['cultural representative', 'cultural exclusive', 'cultural agnostic']\n"
          ]
        },
        {
          "output_type": "display_data",
          "data": {
            "text/plain": [
              "<Figure size 1500x500 with 3 Axes>"
            ],
            "image/png": "[encoded data removed]"
          },
          "metadata": {}
        }
      ]
    },
    {
      "cell_type": "markdown",
      "source": [
        "### Here printed the means for each group and the lengths to see whether there could be a data imbalance issue"
      ],
      "metadata": {
        "id": "aKCwpOxYnRAT"
      }
    },
    {
      "cell_type": "code",
      "source": [
        "print('mean number of instances of entity for cultural representative is:')\n",
        "print(df_train[df_train['label'] == 'cultural representative']['instances_of'].sum()/len(df_train[df_train['label'] == 'cultural representative']))\n",
        "print('mean number of instances of entity for cultural exclusive is:')\n",
        "print(df_train[df_train['label'] == 'cultural exclusive']['instances_of'].sum()/len(df_train[df_train['label'] == 'cultural exclusive']))\n",
        "print('mean number of instances of entity for cultural agnostic is:')\n",
        "print(df_train[df_train['label'] == 'cultural agnostic']['instances_of'].sum()/len(df_train[df_train['label'] == 'cultural agnostic']))\n",
        "\n",
        "\n",
        "print('number of cultural representative entities is:')\n",
        "print(len(df_train[df_train['label'] == 'cultural representative']))\n",
        "print('number of cultural exclusive entities is:')\n",
        "print(len(df_train[df_train['label'] == 'cultural exclusive']))\n",
        "print('number of cultural agnostic entities is:')\n",
        "print(len(df_train[df_train['label'] == 'cultural agnostic']))"
      ],
      "metadata": {
        "id": "hiDEYVqskb_G",
        "outputId": "2fba0193-db98-486e-89b9-24042357b461",
        "colab": {
          "base_uri": "https://localhost:8080/"
        }
      },
      "execution_count": null,
      "outputs": [
        {
          "output_type": "stream",
          "name": "stdout",
          "text": [
            "mean number of instances of entity for cultural representative is:\n",
            "4.452818991097923\n",
            "mean number of instances of entity for cultural exclusive is:\n",
            "25.659590316573556\n",
            "mean number of instances of entity for cultural agnostic is:\n",
            "638.3324382384533\n",
            "number of cultural representative entities is:\n",
            "1685\n",
            "number of cultural exclusive entities is:\n",
            "2685\n",
            "number of cultural agnostic entities is:\n",
            "1862\n"
          ]
        }
      ]
    },
    {
      "cell_type": "markdown",
      "source": [
        "### Plotting the relations to see the magnitude"
      ],
      "metadata": {
        "id": "Rbi6d48pnvAB"
      }
    },
    {
      "cell_type": "code",
      "source": [
        "mean_representative =df_train[df_train['label'] == 'cultural representative']['instances_of'].sum()/len(df_train[df_train['label'] == 'cultural representative'])\n",
        "mean_exclusive = df_train[df_train['label'] == 'cultural exclusive']['instances_of'].sum()/len(df_train[df_train['label'] == 'cultural exclusive'])\n",
        "mean_agnostic = df_train[df_train['label'] == 'cultural agnostic']['instances_of'].sum()/len(df_train[df_train['label'] == 'cultural agnostic'])\n",
        "\n",
        "categories = ['cultural representative','cultural exclusive','cultural agnostic',]\n",
        "numbers =   [mean_representative, mean_exclusive, mean_agnostic]\n",
        "plt.title('the average number of the instances of entity grouped by the label ')\n",
        "# plot a bar chart\n",
        "plt.bar(categories, numbers)\n",
        "plt.show()\n",
        "\n",
        "\n",
        "\n",
        "categories = ['cultural representative','cultural agnostic','cultural exclusive']\n",
        "numbers =   [mean_representative, mean_exclusive, mean_agnostic]\n",
        "plt.title('the average number of the instances of entity grouped by the label, log scale')\n",
        "# plot a bar chart with logarithmic scale\n",
        "plt.yscale('log')\n",
        "plt.bar(categories, numbers)\n",
        "plt.show()"
      ],
      "metadata": {
        "id": "7QgqQIvalcu7",
        "outputId": "31f0f450-d2fc-4194-86d6-7145296aeb03",
        "colab": {
          "base_uri": "https://localhost:8080/",
          "height": 887
        }
      },
      "execution_count": null,
      "outputs": [
        {
          "output_type": "display_data",
          "data": {
            "text/plain": [
              "<Figure size 640x480 with 1 Axes>"
            ],
            "image/png": "[encoded data removed]"
          },
          "metadata": {}
        },
        {
          "output_type": "display_data",
          "data": {
            "text/plain": [
              "<Figure size 640x480 with 1 Axes>"
            ],
            "image/png": "[encoded data removed]"
          },
          "metadata": {}
        }
      ]
    },
    {
      "cell_type": "markdown",
      "source": [
        "# Instances of (P31) upward\n",
        "Again instances of but now in reversed way how many other entites the given item is an instance of"
      ],
      "metadata": {
        "id": "uQSiQnYUoSuR"
      }
    },
    {
      "cell_type": "code",
      "source": [
        "def get_instances_of_up(url):\n",
        "  qid = extract_entity_id(url)\n",
        "  \"\"\"return  number of  'instances of' the given entity\"\"\"\n",
        "  query = f\"\"\"\n",
        "  SELECT ?entity ?label WHERE {{\n",
        "    ?entity wd:{qid} wdt:P31 .\n",
        "    ?entity rdfs:label ?label .\n",
        "    FILTER(LANG(?label) = \"en\")\n",
        "  }}\n",
        "  \"\"\"\n",
        "  response = requests.get(WIKIDATA_SPARQL_URL, params={\"query\": query}, headers=HEADERS)\n",
        "  results = response.json()[\"results\"][\"bindings\"]\n",
        "  #return [(r[\"class\"][\"value\"].split(\"/\")[-1], r[\"label\"][\"value\"]) for r in results ]\n",
        "  return len(results)"
      ],
      "metadata": {
        "id": "NHsc38YYocC2"
      },
      "execution_count": 21,
      "outputs": []
    },
    {
      "cell_type": "code",
      "source": [
        "df_train[\"instances_of_up\"] = df_train[\"item\"].apply(get_instances_of_up)"
      ],
      "metadata": {
        "id": "13ih_TDtoiZl"
      },
      "execution_count": 22,
      "outputs": []
    },
    {
      "cell_type": "code",
      "source": [
        "df_train.to_csv('train_set_instances.csv')"
      ],
      "metadata": {
        "id": "wfVeHCk2E1Pr"
      },
      "execution_count": null,
      "outputs": []
    },
    {
      "cell_type": "markdown",
      "source": [
        "#plot to see the distribution of number of instances among the agnostic and the non agnostic"
      ],
      "metadata": {
        "id": "0OnyrhCZ6_Gn"
      }
    },
    {
      "cell_type": "code",
      "source": [
        "df = df_train.loc[lambda x: x.label == \"cultural agnostic\"]\n",
        "df1 = df_train.loc[lambda x: x.label != \"cultural agnostic\"]"
      ],
      "metadata": {
        "id": "YIXl0FhWFNiG"
      },
      "execution_count": null,
      "outputs": []
    },
    {
      "cell_type": "code",
      "source": [
        "import matplotlib.pyplot as plt"
      ],
      "metadata": {
        "id": "xxMXeT5FF80q"
      },
      "execution_count": null,
      "outputs": []
    },
    {
      "cell_type": "code",
      "source": [
        "# Distribution des valeurs\n",
        "counts = df[\"instances_of\"].value_counts().sort_index()\n",
        "\n",
        "counts1 = df1[\"instances_of\"].value_counts().sort_index()\n",
        "\n",
        "# Proportions (en % ou ratio)\n",
        "proportions = counts / counts.sum()\n",
        "\n",
        "proportions1 = counts1 / counts1.sum()\n"
      ],
      "metadata": {
        "id": "rOwoBMAkHrkk"
      },
      "execution_count": null,
      "outputs": []
    },
    {
      "cell_type": "code",
      "source": [
        "import matplotlib.pyplot as plt\n",
        "plt.figure(figsize=(8, 5))\n",
        "plt.bar(proportions.index, proportions.values, width=0.8, edgecolor='black')\n",
        "\n",
        "plt.title(\"Distribution proportionnelle du nombre de 'instance of' pour agnostic\")\n",
        "plt.xlabel(\"Nombre de 'instance of'\")\n",
        "plt.ylabel(\"Proportion des items\")\n",
        "plt.grid(axis='y')\n",
        "\n",
        "# Optionnel : afficher en pourcentage\n",
        "plt.gca().yaxis.set_major_formatter(plt.FuncFormatter(lambda y, _: f\"{y:.0%}\"))\n",
        "\n",
        "plt.figure(figsize=(8, 5))\n",
        "plt.bar(proportions1.index, proportions1.values, width=0.8, edgecolor='black')\n",
        "\n",
        "plt.title(\"Distribution proportionnelle du nombre de 'instance of' pour non agnostic\")\n",
        "plt.xlabel(\"Nombre de 'instance of'\")\n",
        "plt.ylabel(\"Proportion des items\")\n",
        "plt.grid(axis='y')\n",
        "\n",
        "# Optionnel : afficher en pourcentage\n",
        "plt.gca().yaxis.set_major_formatter(plt.FuncFormatter(lambda y, _: f\"{y:.0%}\"))\n",
        "\n",
        "plt.show()\n"
      ],
      "metadata": {
        "id": "STEhFpr9GFwH",
        "outputId": "608d0c17-9e9a-4e3f-b967-34d202d47b66",
        "colab": {
          "base_uri": "https://localhost:8080/",
          "height": 957
        }
      },
      "execution_count": null,
      "outputs": [
        {
          "output_type": "display_data",
          "data": {
            "text/plain": [
              "<Figure size 800x500 with 1 Axes>"
            ],
            "image/png": "[encoded data removed]"
          },
          "metadata": {}
        },
        {
          "output_type": "display_data",
          "data": {
            "text/plain": [
              "<Figure size 800x500 with 1 Axes>"
            ],
            "image/png": "[encoded data removed]"
          },
          "metadata": {}
        }
      ]
    },
    {
      "cell_type": "code",
      "source": [],
      "metadata": {
        "id": "XSWQgzeOHO1M"
      },
      "execution_count": null,
      "outputs": []
    },
    {
      "cell_type": "markdown",
      "source": [
        "# saving the dataset with 3 new features"
      ],
      "metadata": {
        "id": "YUIr_cC5A81u"
      }
    },
    {
      "cell_type": "code",
      "source": [
        "df_train.to_json('trainset_subclass_instances.json', orient='records', lines=True)"
      ],
      "metadata": {
        "id": "u7FOsp_uBApy"
      },
      "execution_count": 29,
      "outputs": []
    }
  ]
}