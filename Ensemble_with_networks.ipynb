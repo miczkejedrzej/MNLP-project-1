{
  "nbformat": 4,
  "nbformat_minor": 0,
  "metadata": {
    "colab": {
      "provenance": [],
      "gpuType": "T4",
      "include_colab_link": true
    },
    "kernelspec": {
      "name": "python3",
      "display_name": "Python 3"
    },
    "language_info": {
      "name": "python"
    },
    "accelerator": "GPU",
    "widgets": {
      "application/vnd.jupyter.widget-state+json": {
        "d7b662b5edd840cd9b767229d44197ce": {
          "model_module": "@jupyter-widgets/controls",
          "model_name": "HBoxModel",
          "model_module_version": "1.5.0",
          "state": {
            "_dom_classes": [],
            "_model_module": "@jupyter-widgets/controls",
            "_model_module_version": "1.5.0",
            "_model_name": "HBoxModel",
            "_view_count": null,
            "_view_module": "@jupyter-widgets/controls",
            "_view_module_version": "1.5.0",
            "_view_name": "HBoxView",
            "box_style": "",
            "children": [
              "IPY_MODEL_9e25028832c34900a8e67c2c1a4c1ce8",
              "IPY_MODEL_a34440bc245d46fb99e39728dcdf4ecd",
              "IPY_MODEL_a2e33be1fc2f485098aec42053e25c44"
            ],
            "layout": "IPY_MODEL_6c14a6a385d94664893bf7492e90ecd0"
          }
        },
        "9e25028832c34900a8e67c2c1a4c1ce8": {
          "model_module": "@jupyter-widgets/controls",
          "model_name": "HTMLModel",
          "model_module_version": "1.5.0",
          "state": {
            "_dom_classes": [],
            "_model_module": "@jupyter-widgets/controls",
            "_model_module_version": "1.5.0",
            "_model_name": "HTMLModel",
            "_view_count": null,
            "_view_module": "@jupyter-widgets/controls",
            "_view_module_version": "1.5.0",
            "_view_name": "HTMLView",
            "description": "",
            "description_tooltip": null,
            "layout": "IPY_MODEL_893fbf4c42dd47b7bb8df75d15ff27eb",
            "placeholder": "​",
            "style": "IPY_MODEL_8e2d81e8408d41db9a99585050cc90a1",
            "value": "model_logits_features.keras: 100%"
          }
        },
        "a34440bc245d46fb99e39728dcdf4ecd": {
          "model_module": "@jupyter-widgets/controls",
          "model_name": "FloatProgressModel",
          "model_module_version": "1.5.0",
          "state": {
            "_dom_classes": [],
            "_model_module": "@jupyter-widgets/controls",
            "_model_module_version": "1.5.0",
            "_model_name": "FloatProgressModel",
            "_view_count": null,
            "_view_module": "@jupyter-widgets/controls",
            "_view_module_version": "1.5.0",
            "_view_name": "ProgressView",
            "bar_style": "success",
            "description": "",
            "description_tooltip": null,
            "layout": "IPY_MODEL_d886888e4d4b41f48edbc569b68f8471",
            "max": 8741950,
            "min": 0,
            "orientation": "horizontal",
            "style": "IPY_MODEL_b70bf2bb5dfa492387a9553324f82f36",
            "value": 8741950
          }
        },
        "a2e33be1fc2f485098aec42053e25c44": {
          "model_module": "@jupyter-widgets/controls",
          "model_name": "HTMLModel",
          "model_module_version": "1.5.0",
          "state": {
            "_dom_classes": [],
            "_model_module": "@jupyter-widgets/controls",
            "_model_module_version": "1.5.0",
            "_model_name": "HTMLModel",
            "_view_count": null,
            "_view_module": "@jupyter-widgets/controls",
            "_view_module_version": "1.5.0",
            "_view_name": "HTMLView",
            "description": "",
            "description_tooltip": null,
            "layout": "IPY_MODEL_9898b4b84ef74d74b85b79ba30fad62c",
            "placeholder": "​",
            "style": "IPY_MODEL_b87894f07d274433896969994408c119",
            "value": " 8.74M/8.74M [00:00&lt;00:00, 37.3MB/s]"
          }
        },
        "6c14a6a385d94664893bf7492e90ecd0": {
          "model_module": "@jupyter-widgets/base",
          "model_name": "LayoutModel",
          "model_module_version": "1.2.0",
          "state": {
            "_model_module": "@jupyter-widgets/base",
            "_model_module_version": "1.2.0",
            "_model_name": "LayoutModel",
            "_view_count": null,
            "_view_module": "@jupyter-widgets/base",
            "_view_module_version": "1.2.0",
            "_view_name": "LayoutView",
            "align_content": null,
            "align_items": null,
            "align_self": null,
            "border": null,
            "bottom": null,
            "display": null,
            "flex": null,
            "flex_flow": null,
            "grid_area": null,
            "grid_auto_columns": null,
            "grid_auto_flow": null,
            "grid_auto_rows": null,
            "grid_column": null,
            "grid_gap": null,
            "grid_row": null,
            "grid_template_areas": null,
            "grid_template_columns": null,
            "grid_template_rows": null,
            "height": null,
            "justify_content": null,
            "justify_items": null,
            "left": null,
            "margin": null,
            "max_height": null,
            "max_width": null,
            "min_height": null,
            "min_width": null,
            "object_fit": null,
            "object_position": null,
            "order": null,
            "overflow": null,
            "overflow_x": null,
            "overflow_y": null,
            "padding": null,
            "right": null,
            "top": null,
            "visibility": null,
            "width": null
          }
        },
        "893fbf4c42dd47b7bb8df75d15ff27eb": {
          "model_module": "@jupyter-widgets/base",
          "model_name": "LayoutModel",
          "model_module_version": "1.2.0",
          "state": {
            "_model_module": "@jupyter-widgets/base",
            "_model_module_version": "1.2.0",
            "_model_name": "LayoutModel",
            "_view_count": null,
            "_view_module": "@jupyter-widgets/base",
            "_view_module_version": "1.2.0",
            "_view_name": "LayoutView",
            "align_content": null,
            "align_items": null,
            "align_self": null,
            "border": null,
            "bottom": null,
            "display": null,
            "flex": null,
            "flex_flow": null,
            "grid_area": null,
            "grid_auto_columns": null,
            "grid_auto_flow": null,
            "grid_auto_rows": null,
            "grid_column": null,
            "grid_gap": null,
            "grid_row": null,
            "grid_template_areas": null,
            "grid_template_columns": null,
            "grid_template_rows": null,
            "height": null,
            "justify_content": null,
            "justify_items": null,
            "left": null,
            "margin": null,
            "max_height": null,
            "max_width": null,
            "min_height": null,
            "min_width": null,
            "object_fit": null,
            "object_position": null,
            "order": null,
            "overflow": null,
            "overflow_x": null,
            "overflow_y": null,
            "padding": null,
            "right": null,
            "top": null,
            "visibility": null,
            "width": null
          }
        },
        "8e2d81e8408d41db9a99585050cc90a1": {
          "model_module": "@jupyter-widgets/controls",
          "model_name": "DescriptionStyleModel",
          "model_module_version": "1.5.0",
          "state": {
            "_model_module": "@jupyter-widgets/controls",
            "_model_module_version": "1.5.0",
            "_model_name": "DescriptionStyleModel",
            "_view_count": null,
            "_view_module": "@jupyter-widgets/base",
            "_view_module_version": "1.2.0",
            "_view_name": "StyleView",
            "description_width": ""
          }
        },
        "d886888e4d4b41f48edbc569b68f8471": {
          "model_module": "@jupyter-widgets/base",
          "model_name": "LayoutModel",
          "model_module_version": "1.2.0",
          "state": {
            "_model_module": "@jupyter-widgets/base",
            "_model_module_version": "1.2.0",
            "_model_name": "LayoutModel",
            "_view_count": null,
            "_view_module": "@jupyter-widgets/base",
            "_view_module_version": "1.2.0",
            "_view_name": "LayoutView",
            "align_content": null,
            "align_items": null,
            "align_self": null,
            "border": null,
            "bottom": null,
            "display": null,
            "flex": null,
            "flex_flow": null,
            "grid_area": null,
            "grid_auto_columns": null,
            "grid_auto_flow": null,
            "grid_auto_rows": null,
            "grid_column": null,
            "grid_gap": null,
            "grid_row": null,
            "grid_template_areas": null,
            "grid_template_columns": null,
            "grid_template_rows": null,
            "height": null,
            "justify_content": null,
            "justify_items": null,
            "left": null,
            "margin": null,
            "max_height": null,
            "max_width": null,
            "min_height": null,
            "min_width": null,
            "object_fit": null,
            "object_position": null,
            "order": null,
            "overflow": null,
            "overflow_x": null,
            "overflow_y": null,
            "padding": null,
            "right": null,
            "top": null,
            "visibility": null,
            "width": null
          }
        },
        "b70bf2bb5dfa492387a9553324f82f36": {
          "model_module": "@jupyter-widgets/controls",
          "model_name": "ProgressStyleModel",
          "model_module_version": "1.5.0",
          "state": {
            "_model_module": "@jupyter-widgets/controls",
            "_model_module_version": "1.5.0",
            "_model_name": "ProgressStyleModel",
            "_view_count": null,
            "_view_module": "@jupyter-widgets/base",
            "_view_module_version": "1.2.0",
            "_view_name": "StyleView",
            "bar_color": null,
            "description_width": ""
          }
        },
        "9898b4b84ef74d74b85b79ba30fad62c": {
          "model_module": "@jupyter-widgets/base",
          "model_name": "LayoutModel",
          "model_module_version": "1.2.0",
          "state": {
            "_model_module": "@jupyter-widgets/base",
            "_model_module_version": "1.2.0",
            "_model_name": "LayoutModel",
            "_view_count": null,
            "_view_module": "@jupyter-widgets/base",
            "_view_module_version": "1.2.0",
            "_view_name": "LayoutView",
            "align_content": null,
            "align_items": null,
            "align_self": null,
            "border": null,
            "bottom": null,
            "display": null,
            "flex": null,
            "flex_flow": null,
            "grid_area": null,
            "grid_auto_columns": null,
            "grid_auto_flow": null,
            "grid_auto_rows": null,
            "grid_column": null,
            "grid_gap": null,
            "grid_row": null,
            "grid_template_areas": null,
            "grid_template_columns": null,
            "grid_template_rows": null,
            "height": null,
            "justify_content": null,
            "justify_items": null,
            "left": null,
            "margin": null,
            "max_height": null,
            "max_width": null,
            "min_height": null,
            "min_width": null,
            "object_fit": null,
            "object_position": null,
            "order": null,
            "overflow": null,
            "overflow_x": null,
            "overflow_y": null,
            "padding": null,
            "right": null,
            "top": null,
            "visibility": null,
            "width": null
          }
        },
        "b87894f07d274433896969994408c119": {
          "model_module": "@jupyter-widgets/controls",
          "model_name": "DescriptionStyleModel",
          "model_module_version": "1.5.0",
          "state": {
            "_model_module": "@jupyter-widgets/controls",
            "_model_module_version": "1.5.0",
            "_model_name": "DescriptionStyleModel",
            "_view_count": null,
            "_view_module": "@jupyter-widgets/base",
            "_view_module_version": "1.2.0",
            "_view_name": "StyleView",
            "description_width": ""
          }
        },
        "cbac7336ea9a48de8ca60d61eef1ae12": {
          "model_module": "@jupyter-widgets/controls",
          "model_name": "HBoxModel",
          "model_module_version": "1.5.0",
          "state": {
            "_dom_classes": [],
            "_model_module": "@jupyter-widgets/controls",
            "_model_module_version": "1.5.0",
            "_model_name": "HBoxModel",
            "_view_count": null,
            "_view_module": "@jupyter-widgets/controls",
            "_view_module_version": "1.5.0",
            "_view_name": "HBoxView",
            "box_style": "",
            "children": [
              "IPY_MODEL_0a275256bdde4da398d27f0f164584b9",
              "IPY_MODEL_8e1ea4bb649446798a78a2aeac7a12bd",
              "IPY_MODEL_f6363ea762514e2491ab5cd9396e6374"
            ],
            "layout": "IPY_MODEL_3ee3b52f17c94b11b9fee4543f3ea6c0"
          }
        },
        "0a275256bdde4da398d27f0f164584b9": {
          "model_module": "@jupyter-widgets/controls",
          "model_name": "HTMLModel",
          "model_module_version": "1.5.0",
          "state": {
            "_dom_classes": [],
            "_model_module": "@jupyter-widgets/controls",
            "_model_module_version": "1.5.0",
            "_model_name": "HTMLModel",
            "_view_count": null,
            "_view_module": "@jupyter-widgets/controls",
            "_view_module_version": "1.5.0",
            "_view_name": "HTMLView",
            "description": "",
            "description_tooltip": null,
            "layout": "IPY_MODEL_16c90d34a28f48b6a81938d8622514c9",
            "placeholder": "​",
            "style": "IPY_MODEL_26e3d245e88c4922b2730be3909cc4f6",
            "value": "model_logits_description.keras: 100%"
          }
        },
        "8e1ea4bb649446798a78a2aeac7a12bd": {
          "model_module": "@jupyter-widgets/controls",
          "model_name": "FloatProgressModel",
          "model_module_version": "1.5.0",
          "state": {
            "_dom_classes": [],
            "_model_module": "@jupyter-widgets/controls",
            "_model_module_version": "1.5.0",
            "_model_name": "FloatProgressModel",
            "_view_count": null,
            "_view_module": "@jupyter-widgets/controls",
            "_view_module_version": "1.5.0",
            "_view_name": "ProgressView",
            "bar_style": "success",
            "description": "",
            "description_tooltip": null,
            "layout": "IPY_MODEL_0a745a6b702946139ac0d24ed7ab3b4c",
            "max": 9856137,
            "min": 0,
            "orientation": "horizontal",
            "style": "IPY_MODEL_03f0471448454c48853417e265923391",
            "value": 9856137
          }
        },
        "f6363ea762514e2491ab5cd9396e6374": {
          "model_module": "@jupyter-widgets/controls",
          "model_name": "HTMLModel",
          "model_module_version": "1.5.0",
          "state": {
            "_dom_classes": [],
            "_model_module": "@jupyter-widgets/controls",
            "_model_module_version": "1.5.0",
            "_model_name": "HTMLModel",
            "_view_count": null,
            "_view_module": "@jupyter-widgets/controls",
            "_view_module_version": "1.5.0",
            "_view_name": "HTMLView",
            "description": "",
            "description_tooltip": null,
            "layout": "IPY_MODEL_5228d43c5a87430f9b569f986e66c180",
            "placeholder": "​",
            "style": "IPY_MODEL_923099ac4df8448194af110c0f796166",
            "value": " 9.86M/9.86M [00:00&lt;00:00, 48.8MB/s]"
          }
        },
        "3ee3b52f17c94b11b9fee4543f3ea6c0": {
          "model_module": "@jupyter-widgets/base",
          "model_name": "LayoutModel",
          "model_module_version": "1.2.0",
          "state": {
            "_model_module": "@jupyter-widgets/base",
            "_model_module_version": "1.2.0",
            "_model_name": "LayoutModel",
            "_view_count": null,
            "_view_module": "@jupyter-widgets/base",
            "_view_module_version": "1.2.0",
            "_view_name": "LayoutView",
            "align_content": null,
            "align_items": null,
            "align_self": null,
            "border": null,
            "bottom": null,
            "display": null,
            "flex": null,
            "flex_flow": null,
            "grid_area": null,
            "grid_auto_columns": null,
            "grid_auto_flow": null,
            "grid_auto_rows": null,
            "grid_column": null,
            "grid_gap": null,
            "grid_row": null,
            "grid_template_areas": null,
            "grid_template_columns": null,
            "grid_template_rows": null,
            "height": null,
            "justify_content": null,
            "justify_items": null,
            "left": null,
            "margin": null,
            "max_height": null,
            "max_width": null,
            "min_height": null,
            "min_width": null,
            "object_fit": null,
            "object_position": null,
            "order": null,
            "overflow": null,
            "overflow_x": null,
            "overflow_y": null,
            "padding": null,
            "right": null,
            "top": null,
            "visibility": null,
            "width": null
          }
        },
        "16c90d34a28f48b6a81938d8622514c9": {
          "model_module": "@jupyter-widgets/base",
          "model_name": "LayoutModel",
          "model_module_version": "1.2.0",
          "state": {
            "_model_module": "@jupyter-widgets/base",
            "_model_module_version": "1.2.0",
            "_model_name": "LayoutModel",
            "_view_count": null,
            "_view_module": "@jupyter-widgets/base",
            "_view_module_version": "1.2.0",
            "_view_name": "LayoutView",
            "align_content": null,
            "align_items": null,
            "align_self": null,
            "border": null,
            "bottom": null,
            "display": null,
            "flex": null,
            "flex_flow": null,
            "grid_area": null,
            "grid_auto_columns": null,
            "grid_auto_flow": null,
            "grid_auto_rows": null,
            "grid_column": null,
            "grid_gap": null,
            "grid_row": null,
            "grid_template_areas": null,
            "grid_template_columns": null,
            "grid_template_rows": null,
            "height": null,
            "justify_content": null,
            "justify_items": null,
            "left": null,
            "margin": null,
            "max_height": null,
            "max_width": null,
            "min_height": null,
            "min_width": null,
            "object_fit": null,
            "object_position": null,
            "order": null,
            "overflow": null,
            "overflow_x": null,
            "overflow_y": null,
            "padding": null,
            "right": null,
            "top": null,
            "visibility": null,
            "width": null
          }
        },
        "26e3d245e88c4922b2730be3909cc4f6": {
          "model_module": "@jupyter-widgets/controls",
          "model_name": "DescriptionStyleModel",
          "model_module_version": "1.5.0",
          "state": {
            "_model_module": "@jupyter-widgets/controls",
            "_model_module_version": "1.5.0",
            "_model_name": "DescriptionStyleModel",
            "_view_count": null,
            "_view_module": "@jupyter-widgets/base",
            "_view_module_version": "1.2.0",
            "_view_name": "StyleView",
            "description_width": ""
          }
        },
        "0a745a6b702946139ac0d24ed7ab3b4c": {
          "model_module": "@jupyter-widgets/base",
          "model_name": "LayoutModel",
          "model_module_version": "1.2.0",
          "state": {
            "_model_module": "@jupyter-widgets/base",
            "_model_module_version": "1.2.0",
            "_model_name": "LayoutModel",
            "_view_count": null,
            "_view_module": "@jupyter-widgets/base",
            "_view_module_version": "1.2.0",
            "_view_name": "LayoutView",
            "align_content": null,
            "align_items": null,
            "align_self": null,
            "border": null,
            "bottom": null,
            "display": null,
            "flex": null,
            "flex_flow": null,
            "grid_area": null,
            "grid_auto_columns": null,
            "grid_auto_flow": null,
            "grid_auto_rows": null,
            "grid_column": null,
            "grid_gap": null,
            "grid_row": null,
            "grid_template_areas": null,
            "grid_template_columns": null,
            "grid_template_rows": null,
            "height": null,
            "justify_content": null,
            "justify_items": null,
            "left": null,
            "margin": null,
            "max_height": null,
            "max_width": null,
            "min_height": null,
            "min_width": null,
            "object_fit": null,
            "object_position": null,
            "order": null,
            "overflow": null,
            "overflow_x": null,
            "overflow_y": null,
            "padding": null,
            "right": null,
            "top": null,
            "visibility": null,
            "width": null
          }
        },
        "03f0471448454c48853417e265923391": {
          "model_module": "@jupyter-widgets/controls",
          "model_name": "ProgressStyleModel",
          "model_module_version": "1.5.0",
          "state": {
            "_model_module": "@jupyter-widgets/controls",
            "_model_module_version": "1.5.0",
            "_model_name": "ProgressStyleModel",
            "_view_count": null,
            "_view_module": "@jupyter-widgets/base",
            "_view_module_version": "1.2.0",
            "_view_name": "StyleView",
            "bar_color": null,
            "description_width": ""
          }
        },
        "5228d43c5a87430f9b569f986e66c180": {
          "model_module": "@jupyter-widgets/base",
          "model_name": "LayoutModel",
          "model_module_version": "1.2.0",
          "state": {
            "_model_module": "@jupyter-widgets/base",
            "_model_module_version": "1.2.0",
            "_model_name": "LayoutModel",
            "_view_count": null,
            "_view_module": "@jupyter-widgets/base",
            "_view_module_version": "1.2.0",
            "_view_name": "LayoutView",
            "align_content": null,
            "align_items": null,
            "align_self": null,
            "border": null,
            "bottom": null,
            "display": null,
            "flex": null,
            "flex_flow": null,
            "grid_area": null,
            "grid_auto_columns": null,
            "grid_auto_flow": null,
            "grid_auto_rows": null,
            "grid_column": null,
            "grid_gap": null,
            "grid_row": null,
            "grid_template_areas": null,
            "grid_template_columns": null,
            "grid_template_rows": null,
            "height": null,
            "justify_content": null,
            "justify_items": null,
            "left": null,
            "margin": null,
            "max_height": null,
            "max_width": null,
            "min_height": null,
            "min_width": null,
            "object_fit": null,
            "object_position": null,
            "order": null,
            "overflow": null,
            "overflow_x": null,
            "overflow_y": null,
            "padding": null,
            "right": null,
            "top": null,
            "visibility": null,
            "width": null
          }
        },
        "923099ac4df8448194af110c0f796166": {
          "model_module": "@jupyter-widgets/controls",
          "model_name": "DescriptionStyleModel",
          "model_module_version": "1.5.0",
          "state": {
            "_model_module": "@jupyter-widgets/controls",
            "_model_module_version": "1.5.0",
            "_model_name": "DescriptionStyleModel",
            "_view_count": null,
            "_view_module": "@jupyter-widgets/base",
            "_view_module_version": "1.2.0",
            "_view_name": "StyleView",
            "description_width": ""
          }
        },
        "5c113dec9dbe4f7b97997a7ae9c01952": {
          "model_module": "@jupyter-widgets/controls",
          "model_name": "HBoxModel",
          "model_module_version": "1.5.0",
          "state": {
            "_dom_classes": [],
            "_model_module": "@jupyter-widgets/controls",
            "_model_module_version": "1.5.0",
            "_model_name": "HBoxModel",
            "_view_count": null,
            "_view_module": "@jupyter-widgets/controls",
            "_view_module_version": "1.5.0",
            "_view_name": "HBoxView",
            "box_style": "",
            "children": [
              "IPY_MODEL_b35d404cf9394c7dbbf120fc826b5266",
              "IPY_MODEL_e00207b5432642d0bf10b5ca07b142ce",
              "IPY_MODEL_57c0a9c86f4d43faa8607fc867693fe7"
            ],
            "layout": "IPY_MODEL_8ea102ba993148408932b1495aafffa9"
          }
        },
        "b35d404cf9394c7dbbf120fc826b5266": {
          "model_module": "@jupyter-widgets/controls",
          "model_name": "HTMLModel",
          "model_module_version": "1.5.0",
          "state": {
            "_dom_classes": [],
            "_model_module": "@jupyter-widgets/controls",
            "_model_module_version": "1.5.0",
            "_model_name": "HTMLModel",
            "_view_count": null,
            "_view_module": "@jupyter-widgets/controls",
            "_view_module_version": "1.5.0",
            "_view_name": "HTMLView",
            "description": "",
            "description_tooltip": null,
            "layout": "IPY_MODEL_21899cd1f7464020ba28c97595dce907",
            "placeholder": "​",
            "style": "IPY_MODEL_ac620bd93d7943e3be5e64246d9e1a7c",
            "value": "model_logits_photos.keras: 100%"
          }
        },
        "e00207b5432642d0bf10b5ca07b142ce": {
          "model_module": "@jupyter-widgets/controls",
          "model_name": "FloatProgressModel",
          "model_module_version": "1.5.0",
          "state": {
            "_dom_classes": [],
            "_model_module": "@jupyter-widgets/controls",
            "_model_module_version": "1.5.0",
            "_model_name": "FloatProgressModel",
            "_view_count": null,
            "_view_module": "@jupyter-widgets/controls",
            "_view_module_version": "1.5.0",
            "_view_name": "ProgressView",
            "bar_style": "success",
            "description": "",
            "description_tooltip": null,
            "layout": "IPY_MODEL_ed613311b2e445109ac4d6d2440427ce",
            "max": 517032,
            "min": 0,
            "orientation": "horizontal",
            "style": "IPY_MODEL_68ebdd426aef4dbab789c6eeacc04867",
            "value": 517032
          }
        },
        "57c0a9c86f4d43faa8607fc867693fe7": {
          "model_module": "@jupyter-widgets/controls",
          "model_name": "HTMLModel",
          "model_module_version": "1.5.0",
          "state": {
            "_dom_classes": [],
            "_model_module": "@jupyter-widgets/controls",
            "_model_module_version": "1.5.0",
            "_model_name": "HTMLModel",
            "_view_count": null,
            "_view_module": "@jupyter-widgets/controls",
            "_view_module_version": "1.5.0",
            "_view_name": "HTMLView",
            "description": "",
            "description_tooltip": null,
            "layout": "IPY_MODEL_18964c03b43d4a2abe2cec6b0f5ad1e3",
            "placeholder": "​",
            "style": "IPY_MODEL_70c41a3fdbb4475ebc6c4c645bdc61e8",
            "value": " 517k/517k [00:00&lt;00:00, 12.7MB/s]"
          }
        },
        "8ea102ba993148408932b1495aafffa9": {
          "model_module": "@jupyter-widgets/base",
          "model_name": "LayoutModel",
          "model_module_version": "1.2.0",
          "state": {
            "_model_module": "@jupyter-widgets/base",
            "_model_module_version": "1.2.0",
            "_model_name": "LayoutModel",
            "_view_count": null,
            "_view_module": "@jupyter-widgets/base",
            "_view_module_version": "1.2.0",
            "_view_name": "LayoutView",
            "align_content": null,
            "align_items": null,
            "align_self": null,
            "border": null,
            "bottom": null,
            "display": null,
            "flex": null,
            "flex_flow": null,
            "grid_area": null,
            "grid_auto_columns": null,
            "grid_auto_flow": null,
            "grid_auto_rows": null,
            "grid_column": null,
            "grid_gap": null,
            "grid_row": null,
            "grid_template_areas": null,
            "grid_template_columns": null,
            "grid_template_rows": null,
            "height": null,
            "justify_content": null,
            "justify_items": null,
            "left": null,
            "margin": null,
            "max_height": null,
            "max_width": null,
            "min_height": null,
            "min_width": null,
            "object_fit": null,
            "object_position": null,
            "order": null,
            "overflow": null,
            "overflow_x": null,
            "overflow_y": null,
            "padding": null,
            "right": null,
            "top": null,
            "visibility": null,
            "width": null
          }
        },
        "21899cd1f7464020ba28c97595dce907": {
          "model_module": "@jupyter-widgets/base",
          "model_name": "LayoutModel",
          "model_module_version": "1.2.0",
          "state": {
            "_model_module": "@jupyter-widgets/base",
            "_model_module_version": "1.2.0",
            "_model_name": "LayoutModel",
            "_view_count": null,
            "_view_module": "@jupyter-widgets/base",
            "_view_module_version": "1.2.0",
            "_view_name": "LayoutView",
            "align_content": null,
            "align_items": null,
            "align_self": null,
            "border": null,
            "bottom": null,
            "display": null,
            "flex": null,
            "flex_flow": null,
            "grid_area": null,
            "grid_auto_columns": null,
            "grid_auto_flow": null,
            "grid_auto_rows": null,
            "grid_column": null,
            "grid_gap": null,
            "grid_row": null,
            "grid_template_areas": null,
            "grid_template_columns": null,
            "grid_template_rows": null,
            "height": null,
            "justify_content": null,
            "justify_items": null,
            "left": null,
            "margin": null,
            "max_height": null,
            "max_width": null,
            "min_height": null,
            "min_width": null,
            "object_fit": null,
            "object_position": null,
            "order": null,
            "overflow": null,
            "overflow_x": null,
            "overflow_y": null,
            "padding": null,
            "right": null,
            "top": null,
            "visibility": null,
            "width": null
          }
        },
        "ac620bd93d7943e3be5e64246d9e1a7c": {
          "model_module": "@jupyter-widgets/controls",
          "model_name": "DescriptionStyleModel",
          "model_module_version": "1.5.0",
          "state": {
            "_model_module": "@jupyter-widgets/controls",
            "_model_module_version": "1.5.0",
            "_model_name": "DescriptionStyleModel",
            "_view_count": null,
            "_view_module": "@jupyter-widgets/base",
            "_view_module_version": "1.2.0",
            "_view_name": "StyleView",
            "description_width": ""
          }
        },
        "ed613311b2e445109ac4d6d2440427ce": {
          "model_module": "@jupyter-widgets/base",
          "model_name": "LayoutModel",
          "model_module_version": "1.2.0",
          "state": {
            "_model_module": "@jupyter-widgets/base",
            "_model_module_version": "1.2.0",
            "_model_name": "LayoutModel",
            "_view_count": null,
            "_view_module": "@jupyter-widgets/base",
            "_view_module_version": "1.2.0",
            "_view_name": "LayoutView",
            "align_content": null,
            "align_items": null,
            "align_self": null,
            "border": null,
            "bottom": null,
            "display": null,
            "flex": null,
            "flex_flow": null,
            "grid_area": null,
            "grid_auto_columns": null,
            "grid_auto_flow": null,
            "grid_auto_rows": null,
            "grid_column": null,
            "grid_gap": null,
            "grid_row": null,
            "grid_template_areas": null,
            "grid_template_columns": null,
            "grid_template_rows": null,
            "height": null,
            "justify_content": null,
            "justify_items": null,
            "left": null,
            "margin": null,
            "max_height": null,
            "max_width": null,
            "min_height": null,
            "min_width": null,
            "object_fit": null,
            "object_position": null,
            "order": null,
            "overflow": null,
            "overflow_x": null,
            "overflow_y": null,
            "padding": null,
            "right": null,
            "top": null,
            "visibility": null,
            "width": null
          }
        },
        "68ebdd426aef4dbab789c6eeacc04867": {
          "model_module": "@jupyter-widgets/controls",
          "model_name": "ProgressStyleModel",
          "model_module_version": "1.5.0",
          "state": {
            "_model_module": "@jupyter-widgets/controls",
            "_model_module_version": "1.5.0",
            "_model_name": "ProgressStyleModel",
            "_view_count": null,
            "_view_module": "@jupyter-widgets/base",
            "_view_module_version": "1.2.0",
            "_view_name": "StyleView",
            "bar_color": null,
            "description_width": ""
          }
        },
        "18964c03b43d4a2abe2cec6b0f5ad1e3": {
          "model_module": "@jupyter-widgets/base",
          "model_name": "LayoutModel",
          "model_module_version": "1.2.0",
          "state": {
            "_model_module": "@jupyter-widgets/base",
            "_model_module_version": "1.2.0",
            "_model_name": "LayoutModel",
            "_view_count": null,
            "_view_module": "@jupyter-widgets/base",
            "_view_module_version": "1.2.0",
            "_view_name": "LayoutView",
            "align_content": null,
            "align_items": null,
            "align_self": null,
            "border": null,
            "bottom": null,
            "display": null,
            "flex": null,
            "flex_flow": null,
            "grid_area": null,
            "grid_auto_columns": null,
            "grid_auto_flow": null,
            "grid_auto_rows": null,
            "grid_column": null,
            "grid_gap": null,
            "grid_row": null,
            "grid_template_areas": null,
            "grid_template_columns": null,
            "grid_template_rows": null,
            "height": null,
            "justify_content": null,
            "justify_items": null,
            "left": null,
            "margin": null,
            "max_height": null,
            "max_width": null,
            "min_height": null,
            "min_width": null,
            "object_fit": null,
            "object_position": null,
            "order": null,
            "overflow": null,
            "overflow_x": null,
            "overflow_y": null,
            "padding": null,
            "right": null,
            "top": null,
            "visibility": null,
            "width": null
          }
        },
        "70c41a3fdbb4475ebc6c4c645bdc61e8": {
          "model_module": "@jupyter-widgets/controls",
          "model_name": "DescriptionStyleModel",
          "model_module_version": "1.5.0",
          "state": {
            "_model_module": "@jupyter-widgets/controls",
            "_model_module_version": "1.5.0",
            "_model_name": "DescriptionStyleModel",
            "_view_count": null,
            "_view_module": "@jupyter-widgets/base",
            "_view_module_version": "1.2.0",
            "_view_name": "StyleView",
            "description_width": ""
          }
        }
      }
    }
  },
  "cells": [
    {
      "cell_type": "markdown",
      "metadata": {
        "id": "view-in-github",
        "colab_type": "text"
      },
      "source": [
        "<a href=\"https://colab.research.google.com/github/miczkejedrzej/MNLP-project-1/blob/main/Ensemble_with_networks.ipynb\" target=\"_parent\"><img src=\"https://colab.research.google.com/assets/colab-badge.svg\" alt=\"Open In Colab\"/></a>"
      ]
    },
    {
      "cell_type": "markdown",
      "source": [
        "#Ensemble\n"
      ],
      "metadata": {
        "id": "_N5_A08nJLCh"
      }
    },
    {
      "cell_type": "code",
      "execution_count": 1,
      "metadata": {
        "colab": {
          "base_uri": "https://localhost:8080/",
          "height": 420
        },
        "id": "EJob63VAJInj",
        "outputId": "c3d95abf-18c7-462a-c6dd-5b908b54f699"
      },
      "outputs": [
        {
          "output_type": "display_data",
          "data": {
            "text/plain": [
              "<IPython.core.display.HTML object>"
            ],
            "text/html": [
              "\n",
              "     <input type=\"file\" id=\"files-21f76bfa-72dd-4bae-b0a0-e0ee6f7a5f44\" name=\"files[]\" multiple disabled\n",
              "        style=\"border:none\" />\n",
              "     <output id=\"result-21f76bfa-72dd-4bae-b0a0-e0ee6f7a5f44\">\n",
              "      Upload widget is only available when the cell has been executed in the\n",
              "      current browser session. Please rerun this cell to enable.\n",
              "      </output>\n",
              "      <script>// Copyright 2017 Google LLC\n",
              "//\n",
              "// Licensed under the Apache License, Version 2.0 (the \"License\");\n",
              "// you may not use this file except in compliance with the License.\n",
              "// You may obtain a copy of the License at\n",
              "//\n",
              "//      http://www.apache.org/licenses/LICENSE-2.0\n",
              "//\n",
              "// Unless required by applicable law or agreed to in writing, software\n",
              "// distributed under the License is distributed on an \"AS IS\" BASIS,\n",
              "// WITHOUT WARRANTIES OR CONDITIONS OF ANY KIND, either express or implied.\n",
              "// See the License for the specific language governing permissions and\n",
              "// limitations under the License.\n",
              "\n",
              "/**\n",
              " * @fileoverview Helpers for google.colab Python module.\n",
              " */\n",
              "(function(scope) {\n",
              "function span(text, styleAttributes = {}) {\n",
              "  const element = document.createElement('span');\n",
              "  element.textContent = text;\n",
              "  for (const key of Object.keys(styleAttributes)) {\n",
              "    element.style[key] = styleAttributes[key];\n",
              "  }\n",
              "  return element;\n",
              "}\n",
              "\n",
              "// Max number of bytes which will be uploaded at a time.\n",
              "const MAX_PAYLOAD_SIZE = 100 * 1024;\n",
              "\n",
              "function _uploadFiles(inputId, outputId) {\n",
              "  const steps = uploadFilesStep(inputId, outputId);\n",
              "  const outputElement = document.getElementById(outputId);\n",
              "  // Cache steps on the outputElement to make it available for the next call\n",
              "  // to uploadFilesContinue from Python.\n",
              "  outputElement.steps = steps;\n",
              "\n",
              "  return _uploadFilesContinue(outputId);\n",
              "}\n",
              "\n",
              "// This is roughly an async generator (not supported in the browser yet),\n",
              "// where there are multiple asynchronous steps and the Python side is going\n",
              "// to poll for completion of each step.\n",
              "// This uses a Promise to block the python side on completion of each step,\n",
              "// then passes the result of the previous step as the input to the next step.\n",
              "function _uploadFilesContinue(outputId) {\n",
              "  const outputElement = document.getElementById(outputId);\n",
              "  const steps = outputElement.steps;\n",
              "\n",
              "  const next = steps.next(outputElement.lastPromiseValue);\n",
              "  return Promise.resolve(next.value.promise).then((value) => {\n",
              "    // Cache the last promise value to make it available to the next\n",
              "    // step of the generator.\n",
              "    outputElement.lastPromiseValue = value;\n",
              "    return next.value.response;\n",
              "  });\n",
              "}\n",
              "\n",
              "/**\n",
              " * Generator function which is called between each async step of the upload\n",
              " * process.\n",
              " * @param {string} inputId Element ID of the input file picker element.\n",
              " * @param {string} outputId Element ID of the output display.\n",
              " * @return {!Iterable<!Object>} Iterable of next steps.\n",
              " */\n",
              "function* uploadFilesStep(inputId, outputId) {\n",
              "  const inputElement = document.getElementById(inputId);\n",
              "  inputElement.disabled = false;\n",
              "\n",
              "  const outputElement = document.getElementById(outputId);\n",
              "  outputElement.innerHTML = '';\n",
              "\n",
              "  const pickedPromise = new Promise((resolve) => {\n",
              "    inputElement.addEventListener('change', (e) => {\n",
              "      resolve(e.target.files);\n",
              "    });\n",
              "  });\n",
              "\n",
              "  const cancel = document.createElement('button');\n",
              "  inputElement.parentElement.appendChild(cancel);\n",
              "  cancel.textContent = 'Cancel upload';\n",
              "  const cancelPromise = new Promise((resolve) => {\n",
              "    cancel.onclick = () => {\n",
              "      resolve(null);\n",
              "    };\n",
              "  });\n",
              "\n",
              "  // Wait for the user to pick the files.\n",
              "  const files = yield {\n",
              "    promise: Promise.race([pickedPromise, cancelPromise]),\n",
              "    response: {\n",
              "      action: 'starting',\n",
              "    }\n",
              "  };\n",
              "\n",
              "  cancel.remove();\n",
              "\n",
              "  // Disable the input element since further picks are not allowed.\n",
              "  inputElement.disabled = true;\n",
              "\n",
              "  if (!files) {\n",
              "    return {\n",
              "      response: {\n",
              "        action: 'complete',\n",
              "      }\n",
              "    };\n",
              "  }\n",
              "\n",
              "  for (const file of files) {\n",
              "    const li = document.createElement('li');\n",
              "    li.append(span(file.name, {fontWeight: 'bold'}));\n",
              "    li.append(span(\n",
              "        `(${file.type || 'n/a'}) - ${file.size} bytes, ` +\n",
              "        `last modified: ${\n",
              "            file.lastModifiedDate ? file.lastModifiedDate.toLocaleDateString() :\n",
              "                                    'n/a'} - `));\n",
              "    const percent = span('0% done');\n",
              "    li.appendChild(percent);\n",
              "\n",
              "    outputElement.appendChild(li);\n",
              "\n",
              "    const fileDataPromise = new Promise((resolve) => {\n",
              "      const reader = new FileReader();\n",
              "      reader.onload = (e) => {\n",
              "        resolve(e.target.result);\n",
              "      };\n",
              "      reader.readAsArrayBuffer(file);\n",
              "    });\n",
              "    // Wait for the data to be ready.\n",
              "    let fileData = yield {\n",
              "      promise: fileDataPromise,\n",
              "      response: {\n",
              "        action: 'continue',\n",
              "      }\n",
              "    };\n",
              "\n",
              "    // Use a chunked sending to avoid message size limits. See b/62115660.\n",
              "    let position = 0;\n",
              "    do {\n",
              "      const length = Math.min(fileData.byteLength - position, MAX_PAYLOAD_SIZE);\n",
              "      const chunk = new Uint8Array(fileData, position, length);\n",
              "      position += length;\n",
              "\n",
              "      const base64 = btoa(String.fromCharCode.apply(null, chunk));\n",
              "      yield {\n",
              "        response: {\n",
              "          action: 'append',\n",
              "          file: file.name,\n",
              "          data: base64,\n",
              "        },\n",
              "      };\n",
              "\n",
              "      let percentDone = fileData.byteLength === 0 ?\n",
              "          100 :\n",
              "          Math.round((position / fileData.byteLength) * 100);\n",
              "      percent.textContent = `${percentDone}% done`;\n",
              "\n",
              "    } while (position < fileData.byteLength);\n",
              "  }\n",
              "\n",
              "  // All done.\n",
              "  yield {\n",
              "    response: {\n",
              "      action: 'complete',\n",
              "    }\n",
              "  };\n",
              "}\n",
              "\n",
              "scope.google = scope.google || {};\n",
              "scope.google.colab = scope.google.colab || {};\n",
              "scope.google.colab._files = {\n",
              "  _uploadFiles,\n",
              "  _uploadFilesContinue,\n",
              "};\n",
              "})(self);\n",
              "</script> "
            ]
          },
          "metadata": {}
        },
        {
          "output_type": "stream",
          "name": "stdout",
          "text": [
            "Saving dev_df_complete.json to dev_df_complete.json\n",
            "Saving train_df_complete.json to train_df_complete.json\n",
            "Collecting fasttext\n",
            "  Downloading fasttext-0.9.3.tar.gz (73 kB)\n",
            "\u001b[2K     \u001b[90m━━━━━━━━━━━━━━━━━━━━━━━━━━━━━━━━━━━━━━━━\u001b[0m \u001b[32m73.4/73.4 kB\u001b[0m \u001b[31m5.0 MB/s\u001b[0m eta \u001b[36m0:00:00\u001b[0m\n",
            "\u001b[?25h  Installing build dependencies ... \u001b[?25l\u001b[?25hdone\n",
            "  Getting requirements to build wheel ... \u001b[?25l\u001b[?25hdone\n",
            "  Preparing metadata (pyproject.toml) ... \u001b[?25l\u001b[?25hdone\n",
            "Collecting pybind11>=2.2 (from fasttext)\n",
            "  Using cached pybind11-2.13.6-py3-none-any.whl.metadata (9.5 kB)\n",
            "Requirement already satisfied: setuptools>=0.7.0 in /usr/local/lib/python3.11/dist-packages (from fasttext) (75.2.0)\n",
            "Requirement already satisfied: numpy in /usr/local/lib/python3.11/dist-packages (from fasttext) (2.0.2)\n",
            "Using cached pybind11-2.13.6-py3-none-any.whl (243 kB)\n",
            "Building wheels for collected packages: fasttext\n",
            "  Building wheel for fasttext (pyproject.toml) ... \u001b[?25l\u001b[?25hdone\n",
            "  Created wheel for fasttext: filename=fasttext-0.9.3-cp311-cp311-linux_x86_64.whl size=4313485 sha256=ed2403c25c38b7519b55f4e0d4253a4a19c1a680ea75f3926559f57b6207b66b\n",
            "  Stored in directory: /root/.cache/pip/wheels/65/4f/35/5057db0249224e9ab55a513fa6b79451473ceb7713017823c3\n",
            "Successfully built fasttext\n",
            "Installing collected packages: pybind11, fasttext\n",
            "Successfully installed fasttext-0.9.3 pybind11-2.13.6\n"
          ]
        }
      ],
      "source": [
        "'''imports '''\n",
        "from google.colab import files\n",
        "uploaded = files.upload()\n",
        "import matplotlib.pyplot as plt\n",
        "import pandas as pd\n",
        "import numpy as np\n",
        "import json\n",
        "import tensorflow as tf\n",
        "from tensorflow.keras.utils import to_categorical\n",
        "from tensorflow.keras import layers, models, callbacks\n",
        "from tensorflow.keras.optimizers import Adam\n",
        "from tensorflow.keras.layers import LeakyReLU\n",
        "from sklearn.metrics import accuracy_score\n",
        "from sklearn.model_selection import train_test_split\n",
        "from sklearn.preprocessing import StandardScaler, OneHotEncoder,MinMaxScaler\n",
        "from sklearn.impute import SimpleImputer\n",
        "from sklearn.compose import ColumnTransformer\n",
        "from sklearn.pipeline import Pipeline\n",
        "from tensorflow.keras.utils import to_categorical\n",
        "from xgboost import XGBClassifier\n",
        "from sklearn.metrics import accuracy_score\n",
        "from sklearn.linear_model import LogisticRegression\n",
        "from sklearn.svm import SVC\n",
        "from sklearn.ensemble import RandomForestClassifier\n",
        "from sklearn.metrics import confusion_matrix\n",
        "from sklearn.metrics import classification_report\n",
        "import seaborn as sns\n",
        "from tensorflow.keras.models import Model, load_model\n",
        "from tensorflow.keras.optimizers import Adam\n",
        "from tensorflow.keras import regularizers\n",
        "\n",
        "\n",
        "from tqdm.auto import tqdm\n",
        "import warnings\n",
        "warnings.simplefilter(action='ignore', category=FutureWarning)\n",
        "\n",
        "%pip install fasttext\n",
        "\n",
        "\n",
        "# The complete datasets needed\n",
        "train_df = pd.read_json('train_df_complete.json', orient=\"records\", lines=True)\n",
        "dev_df = pd.read_json('dev_df_complete.json', orient=\"records\", lines=True)"
      ]
    },
    {
      "cell_type": "markdown",
      "source": [
        "## Import the 3 models"
      ],
      "metadata": {
        "id": "nGVxrLaSVMXY"
      }
    },
    {
      "cell_type": "code",
      "source": [
        "!pip install huggingface_hub tensorflow --quiet\n",
        "\n",
        "from huggingface_hub import login, create_repo, upload_folder\n",
        "import os\n",
        "import tensorflow as tf\n",
        "from huggingface_hub import hf_hub_download\n",
        "\n",
        "# Repo name and model file name\n",
        "repo_id = \"tgarnier067/MNLP-HW1\"\n",
        "model_name_1 = \"model_logits_features.keras\"\n",
        "model_name_2 = \"model_logits_description.keras\"\n",
        "model_name_3 = \"model_logits_photos.keras\"\n",
        "\n",
        "# Download the model from Hugging Face\n",
        "model_path_1 = hf_hub_download(repo_id=repo_id, filename=model_name_1)\n",
        "model_path_2 = hf_hub_download(repo_id=repo_id, filename=model_name_2)\n",
        "model_path_3 = hf_hub_download(repo_id=repo_id, filename=model_name_3)\n",
        "\n",
        "\n",
        "# Load the .keras model with TensorFlow\n",
        "model_logits_features = tf.keras.models.load_model(model_path_1)\n",
        "model_logits_description = tf.keras.models.load_model(model_path_2)\n",
        "model_logits_photos = tf.keras.models.load_model(model_path_3)"
      ],
      "metadata": {
        "id": "2MeOQ_FDUftn",
        "outputId": "105b7a71-7ae8-464d-f07a-f1f753851579",
        "colab": {
          "base_uri": "https://localhost:8080/",
          "height": 237,
          "referenced_widgets": [
            "d7b662b5edd840cd9b767229d44197ce",
            "9e25028832c34900a8e67c2c1a4c1ce8",
            "a34440bc245d46fb99e39728dcdf4ecd",
            "a2e33be1fc2f485098aec42053e25c44",
            "6c14a6a385d94664893bf7492e90ecd0",
            "893fbf4c42dd47b7bb8df75d15ff27eb",
            "8e2d81e8408d41db9a99585050cc90a1",
            "d886888e4d4b41f48edbc569b68f8471",
            "b70bf2bb5dfa492387a9553324f82f36",
            "9898b4b84ef74d74b85b79ba30fad62c",
            "b87894f07d274433896969994408c119",
            "cbac7336ea9a48de8ca60d61eef1ae12",
            "0a275256bdde4da398d27f0f164584b9",
            "8e1ea4bb649446798a78a2aeac7a12bd",
            "f6363ea762514e2491ab5cd9396e6374",
            "3ee3b52f17c94b11b9fee4543f3ea6c0",
            "16c90d34a28f48b6a81938d8622514c9",
            "26e3d245e88c4922b2730be3909cc4f6",
            "0a745a6b702946139ac0d24ed7ab3b4c",
            "03f0471448454c48853417e265923391",
            "5228d43c5a87430f9b569f986e66c180",
            "923099ac4df8448194af110c0f796166",
            "5c113dec9dbe4f7b97997a7ae9c01952",
            "b35d404cf9394c7dbbf120fc826b5266",
            "e00207b5432642d0bf10b5ca07b142ce",
            "57c0a9c86f4d43faa8607fc867693fe7",
            "8ea102ba993148408932b1495aafffa9",
            "21899cd1f7464020ba28c97595dce907",
            "ac620bd93d7943e3be5e64246d9e1a7c",
            "ed613311b2e445109ac4d6d2440427ce",
            "68ebdd426aef4dbab789c6eeacc04867",
            "18964c03b43d4a2abe2cec6b0f5ad1e3",
            "70c41a3fdbb4475ebc6c4c645bdc61e8"
          ]
        }
      },
      "execution_count": 2,
      "outputs": [
        {
          "output_type": "stream",
          "name": "stderr",
          "text": [
            "/usr/local/lib/python3.11/dist-packages/huggingface_hub/utils/_auth.py:94: UserWarning: \n",
            "The secret `HF_TOKEN` does not exist in your Colab secrets.\n",
            "To authenticate with the Hugging Face Hub, create a token in your settings tab (https://huggingface.co/settings/tokens), set it as secret in your Google Colab and restart your session.\n",
            "You will be able to reuse this secret in all of your notebooks.\n",
            "Please note that authentication is recommended but still optional to access public models or datasets.\n",
            "  warnings.warn(\n"
          ]
        },
        {
          "output_type": "display_data",
          "data": {
            "text/plain": [
              "model_logits_features.keras:   0%|          | 0.00/8.74M [00:00<?, ?B/s]"
            ],
            "application/vnd.jupyter.widget-view+json": {
              "version_major": 2,
              "version_minor": 0,
              "model_id": "d7b662b5edd840cd9b767229d44197ce"
            }
          },
          "metadata": {}
        },
        {
          "output_type": "display_data",
          "data": {
            "text/plain": [
              "model_logits_description.keras:   0%|          | 0.00/9.86M [00:00<?, ?B/s]"
            ],
            "application/vnd.jupyter.widget-view+json": {
              "version_major": 2,
              "version_minor": 0,
              "model_id": "cbac7336ea9a48de8ca60d61eef1ae12"
            }
          },
          "metadata": {}
        },
        {
          "output_type": "display_data",
          "data": {
            "text/plain": [
              "model_logits_photos.keras:   0%|          | 0.00/517k [00:00<?, ?B/s]"
            ],
            "application/vnd.jupyter.widget-view+json": {
              "version_major": 2,
              "version_minor": 0,
              "model_id": "5c113dec9dbe4f7b97997a7ae9c01952"
            }
          },
          "metadata": {}
        }
      ]
    },
    {
      "cell_type": "markdown",
      "source": [
        "## model_logits_description"
      ],
      "metadata": {
        "id": "b_C-TQ6NJ1C1"
      }
    },
    {
      "cell_type": "markdown",
      "source": [
        "### Prepare the data"
      ],
      "metadata": {
        "id": "PubY4hEUXnUD"
      }
    },
    {
      "cell_type": "code",
      "source": [
        " import fasttext.util\n",
        " fasttext.util.download_model('en', if_exists='ignore')  # English\n",
        " ft = fasttext.load_model('cc.en.300.bin')"
      ],
      "metadata": {
        "id": "MC7rmjxVkPCQ",
        "outputId": "861a14ea-64f0-4885-fa75-3f39d8f89417",
        "colab": {
          "base_uri": "https://localhost:8080/"
        }
      },
      "execution_count": 3,
      "outputs": [
        {
          "output_type": "stream",
          "name": "stdout",
          "text": [
            "Downloading https://dl.fbaipublicfiles.com/fasttext/vectors-crawl/cc.en.300.bin.gz\n",
            "\n"
          ]
        }
      ]
    },
    {
      "cell_type": "code",
      "source": [
        "import nltk\n",
        "from nltk.stem import PorterStemmer\n",
        "from nltk.corpus import stopwords\n",
        "nltk.download('stopwords')\n",
        "nltk.download('punkt_tab')\n",
        "porter = PorterStemmer()\n",
        "stop_words = set(stopwords.words('english'))\n",
        "from sklearn.preprocessing import normalize\n"
      ],
      "metadata": {
        "id": "z3KU45vfmuZN",
        "outputId": "0175e762-aa9d-4d27-c051-e86c1a2b3621",
        "colab": {
          "base_uri": "https://localhost:8080/"
        }
      },
      "execution_count": 4,
      "outputs": [
        {
          "output_type": "stream",
          "name": "stderr",
          "text": [
            "[nltk_data] Downloading package stopwords to /root/nltk_data...\n",
            "[nltk_data]   Unzipping corpora/stopwords.zip.\n",
            "[nltk_data] Downloading package punkt_tab to /root/nltk_data...\n",
            "[nltk_data]   Unzipping tokenizers/punkt_tab.zip.\n"
          ]
        }
      ]
    },
    {
      "cell_type": "code",
      "source": [
        "'''transforming the descriptions to the embeddings space , adding the oov information'''\n",
        "def transform_description(description):\n",
        "  oov_words = 0\n",
        "  description = nltk.word_tokenize(description)\n",
        "  description = [word for word in description if word not in stop_words]\n",
        "  description = [word.lower() for word in description]\n",
        "  for word in description:\n",
        "    if word not in ft.words:\n",
        "      oov_words += 1\n",
        "  description = \" \".join(description)\n",
        "  description_vector = ft.get_sentence_vector(description)\n",
        "  description_vector = normalize(description_vector.reshape(1, -1), norm='l2')[0]\n",
        "  description_vector = np.append(description_vector, oov_words)\n",
        "  return description_vector"
      ],
      "metadata": {
        "id": "p7Lu9R33maUB"
      },
      "execution_count": 5,
      "outputs": []
    },
    {
      "cell_type": "code",
      "source": [
        "# Extract text and label in train set\n",
        "train_texts = train_df['description'].to_list()\n",
        "train_labels = train_df['label_int'].to_list()\n",
        "\n",
        "# Extract text and label in dev set\n",
        "dev_texts = dev_df['description'].to_list()\n",
        "dev_labels = dev_df['label_int'].to_list()\n",
        "\n",
        "# Vectorize the texts with fasttext\n",
        "train_vectors = np.array([transform_description(text) for text in train_texts])\n",
        "dev_vectors = np.array([transform_description(text) for text in dev_texts])"
      ],
      "metadata": {
        "id": "rrlwXA8Glqy5"
      },
      "execution_count": 6,
      "outputs": []
    },
    {
      "cell_type": "markdown",
      "source": [
        "### Apply the model to the data"
      ],
      "metadata": {
        "id": "scfVxajMXrFl"
      }
    },
    {
      "cell_type": "code",
      "source": [
        "logits_dev_model_descriptions = model_logits_description.predict(dev_vectors)\n",
        "logits_train_model_description = model_logits_description.predict(train_vectors)"
      ],
      "metadata": {
        "colab": {
          "base_uri": "https://localhost:8080/"
        },
        "id": "xVV24MO5Bk5o",
        "outputId": "36d2f19c-1691-4f6c-85bf-60f35528534e"
      },
      "execution_count": 7,
      "outputs": [
        {
          "output_type": "stream",
          "name": "stdout",
          "text": [
            "\u001b[1m10/10\u001b[0m \u001b[32m━━━━━━━━━━━━━━━━━━━━\u001b[0m\u001b[37m\u001b[0m \u001b[1m4s\u001b[0m 191ms/step\n",
            "\u001b[1m196/196\u001b[0m \u001b[32m━━━━━━━━━━━━━━━━━━━━\u001b[0m\u001b[37m\u001b[0m \u001b[1m2s\u001b[0m 9ms/step\n"
          ]
        }
      ]
    },
    {
      "cell_type": "code",
      "source": [
        "df_train_description = pd.DataFrame(logits_train_model_description, columns=['logit_0', 'logit_1', 'logit_2'])\n",
        "df_train_description['label'] = train_df['label_int']\n",
        "dev_df_description = pd.DataFrame(logits_dev_model_descriptions, columns=['logit_0', 'logit_1', 'logit_2'])\n",
        "dev_df_description['label'] = dev_df['label_int']\n"
      ],
      "metadata": {
        "id": "ozJhj0HSXOu8"
      },
      "execution_count": 8,
      "outputs": []
    },
    {
      "cell_type": "code",
      "source": [
        "'''sanity check on the dataframe'''\n",
        "df_train_description.head(10)"
      ],
      "metadata": {
        "colab": {
          "base_uri": "https://localhost:8080/",
          "height": 363
        },
        "id": "xWnvmLJ8e-RB",
        "outputId": "91da4017-a63d-49d6-821f-8d1602468269"
      },
      "execution_count": 9,
      "outputs": [
        {
          "output_type": "execute_result",
          "data": {
            "text/plain": [
              "    logit_0   logit_1   logit_2  label\n",
              "0  1.905099  1.534088 -3.094239      0\n",
              "1  0.760209  2.901672 -5.288945      1\n",
              "2 -0.636569  2.368679 -4.468927      1\n",
              "3  1.309630  1.982279 -3.745397      1\n",
              "4 -1.129772  2.629756 -4.753024      1\n",
              "5  1.146501  1.890622 -3.682914      1\n",
              "6  0.381403  1.764994 -3.796714      0\n",
              "7  1.686283  2.372820 -4.080890      1\n",
              "8 -1.380255  2.684189 -4.805522      1\n",
              "9  1.886965  1.921860 -3.410134      0"
            ],
            "text/html": [
              "\n",
              "  <div id=\"df-53f35248-9e0d-47ec-b35c-c028073b0cfc\" class=\"colab-df-container\">\n",
              "    <div>\n",
              "<style scoped>\n",
              "    .dataframe tbody tr th:only-of-type {\n",
              "        vertical-align: middle;\n",
              "    }\n",
              "\n",
              "    .dataframe tbody tr th {\n",
              "        vertical-align: top;\n",
              "    }\n",
              "\n",
              "    .dataframe thead th {\n",
              "        text-align: right;\n",
              "    }\n",
              "</style>\n",
              "<table border=\"1\" class=\"dataframe\">\n",
              "  <thead>\n",
              "    <tr style=\"text-align: right;\">\n",
              "      <th></th>\n",
              "      <th>logit_0</th>\n",
              "      <th>logit_1</th>\n",
              "      <th>logit_2</th>\n",
              "      <th>label</th>\n",
              "    </tr>\n",
              "  </thead>\n",
              "  <tbody>\n",
              "    <tr>\n",
              "      <th>0</th>\n",
              "      <td>1.905099</td>\n",
              "      <td>1.534088</td>\n",
              "      <td>-3.094239</td>\n",
              "      <td>0</td>\n",
              "    </tr>\n",
              "    <tr>\n",
              "      <th>1</th>\n",
              "      <td>0.760209</td>\n",
              "      <td>2.901672</td>\n",
              "      <td>-5.288945</td>\n",
              "      <td>1</td>\n",
              "    </tr>\n",
              "    <tr>\n",
              "      <th>2</th>\n",
              "      <td>-0.636569</td>\n",
              "      <td>2.368679</td>\n",
              "      <td>-4.468927</td>\n",
              "      <td>1</td>\n",
              "    </tr>\n",
              "    <tr>\n",
              "      <th>3</th>\n",
              "      <td>1.309630</td>\n",
              "      <td>1.982279</td>\n",
              "      <td>-3.745397</td>\n",
              "      <td>1</td>\n",
              "    </tr>\n",
              "    <tr>\n",
              "      <th>4</th>\n",
              "      <td>-1.129772</td>\n",
              "      <td>2.629756</td>\n",
              "      <td>-4.753024</td>\n",
              "      <td>1</td>\n",
              "    </tr>\n",
              "    <tr>\n",
              "      <th>5</th>\n",
              "      <td>1.146501</td>\n",
              "      <td>1.890622</td>\n",
              "      <td>-3.682914</td>\n",
              "      <td>1</td>\n",
              "    </tr>\n",
              "    <tr>\n",
              "      <th>6</th>\n",
              "      <td>0.381403</td>\n",
              "      <td>1.764994</td>\n",
              "      <td>-3.796714</td>\n",
              "      <td>0</td>\n",
              "    </tr>\n",
              "    <tr>\n",
              "      <th>7</th>\n",
              "      <td>1.686283</td>\n",
              "      <td>2.372820</td>\n",
              "      <td>-4.080890</td>\n",
              "      <td>1</td>\n",
              "    </tr>\n",
              "    <tr>\n",
              "      <th>8</th>\n",
              "      <td>-1.380255</td>\n",
              "      <td>2.684189</td>\n",
              "      <td>-4.805522</td>\n",
              "      <td>1</td>\n",
              "    </tr>\n",
              "    <tr>\n",
              "      <th>9</th>\n",
              "      <td>1.886965</td>\n",
              "      <td>1.921860</td>\n",
              "      <td>-3.410134</td>\n",
              "      <td>0</td>\n",
              "    </tr>\n",
              "  </tbody>\n",
              "</table>\n",
              "</div>\n",
              "    <div class=\"colab-df-buttons\">\n",
              "\n",
              "  <div class=\"colab-df-container\">\n",
              "    <button class=\"colab-df-convert\" onclick=\"convertToInteractive('df-53f35248-9e0d-47ec-b35c-c028073b0cfc')\"\n",
              "            title=\"Convert this dataframe to an interactive table.\"\n",
              "            style=\"display:none;\">\n",
              "\n",
              "  <svg xmlns=\"http://www.w3.org/2000/svg\" height=\"24px\" viewBox=\"0 -960 960 960\">\n",
              "    <path d=\"M120-120v-720h720v720H120Zm60-500h600v-160H180v160Zm220 220h160v-160H400v160Zm0 220h160v-160H400v160ZM180-400h160v-160H180v160Zm440 0h160v-160H620v160ZM180-180h160v-160H180v160Zm440 0h160v-160H620v160Z\"/>\n",
              "  </svg>\n",
              "    </button>\n",
              "\n",
              "  <style>\n",
              "    .colab-df-container {\n",
              "      display:flex;\n",
              "      gap: 12px;\n",
              "    }\n",
              "\n",
              "    .colab-df-convert {\n",
              "      background-color: #E8F0FE;\n",
              "      border: none;\n",
              "      border-radius: 50%;\n",
              "      cursor: pointer;\n",
              "      display: none;\n",
              "      fill: #1967D2;\n",
              "      height: 32px;\n",
              "      padding: 0 0 0 0;\n",
              "      width: 32px;\n",
              "    }\n",
              "\n",
              "    .colab-df-convert:hover {\n",
              "      background-color: #E2EBFA;\n",
              "      box-shadow: 0px 1px 2px rgba(60, 64, 67, 0.3), 0px 1px 3px 1px rgba(60, 64, 67, 0.15);\n",
              "      fill: #174EA6;\n",
              "    }\n",
              "\n",
              "    .colab-df-buttons div {\n",
              "      margin-bottom: 4px;\n",
              "    }\n",
              "\n",
              "    [theme=dark] .colab-df-convert {\n",
              "      background-color: #3B4455;\n",
              "      fill: #D2E3FC;\n",
              "    }\n",
              "\n",
              "    [theme=dark] .colab-df-convert:hover {\n",
              "      background-color: #434B5C;\n",
              "      box-shadow: 0px 1px 3px 1px rgba(0, 0, 0, 0.15);\n",
              "      filter: drop-shadow(0px 1px 2px rgba(0, 0, 0, 0.3));\n",
              "      fill: #FFFFFF;\n",
              "    }\n",
              "  </style>\n",
              "\n",
              "    <script>\n",
              "      const buttonEl =\n",
              "        document.querySelector('#df-53f35248-9e0d-47ec-b35c-c028073b0cfc button.colab-df-convert');\n",
              "      buttonEl.style.display =\n",
              "        google.colab.kernel.accessAllowed ? 'block' : 'none';\n",
              "\n",
              "      async function convertToInteractive(key) {\n",
              "        const element = document.querySelector('#df-53f35248-9e0d-47ec-b35c-c028073b0cfc');\n",
              "        const dataTable =\n",
              "          await google.colab.kernel.invokeFunction('convertToInteractive',\n",
              "                                                    [key], {});\n",
              "        if (!dataTable) return;\n",
              "\n",
              "        const docLinkHtml = 'Like what you see? Visit the ' +\n",
              "          '<a target=\"_blank\" href=https://colab.research.google.com/notebooks/data_table.ipynb>data table notebook</a>'\n",
              "          + ' to learn more about interactive tables.';\n",
              "        element.innerHTML = '';\n",
              "        dataTable['output_type'] = 'display_data';\n",
              "        await google.colab.output.renderOutput(dataTable, element);\n",
              "        const docLink = document.createElement('div');\n",
              "        docLink.innerHTML = docLinkHtml;\n",
              "        element.appendChild(docLink);\n",
              "      }\n",
              "    </script>\n",
              "  </div>\n",
              "\n",
              "\n",
              "    <div id=\"df-b8fa773c-cc20-4126-9e9d-e88ef6a3dbc4\">\n",
              "      <button class=\"colab-df-quickchart\" onclick=\"quickchart('df-b8fa773c-cc20-4126-9e9d-e88ef6a3dbc4')\"\n",
              "                title=\"Suggest charts\"\n",
              "                style=\"display:none;\">\n",
              "\n",
              "<svg xmlns=\"http://www.w3.org/2000/svg\" height=\"24px\"viewBox=\"0 0 24 24\"\n",
              "     width=\"24px\">\n",
              "    <g>\n",
              "        <path d=\"M19 3H5c-1.1 0-2 .9-2 2v14c0 1.1.9 2 2 2h14c1.1 0 2-.9 2-2V5c0-1.1-.9-2-2-2zM9 17H7v-7h2v7zm4 0h-2V7h2v10zm4 0h-2v-4h2v4z\"/>\n",
              "    </g>\n",
              "</svg>\n",
              "      </button>\n",
              "\n",
              "<style>\n",
              "  .colab-df-quickchart {\n",
              "      --bg-color: #E8F0FE;\n",
              "      --fill-color: #1967D2;\n",
              "      --hover-bg-color: #E2EBFA;\n",
              "      --hover-fill-color: #174EA6;\n",
              "      --disabled-fill-color: #AAA;\n",
              "      --disabled-bg-color: #DDD;\n",
              "  }\n",
              "\n",
              "  [theme=dark] .colab-df-quickchart {\n",
              "      --bg-color: #3B4455;\n",
              "      --fill-color: #D2E3FC;\n",
              "      --hover-bg-color: #434B5C;\n",
              "      --hover-fill-color: #FFFFFF;\n",
              "      --disabled-bg-color: #3B4455;\n",
              "      --disabled-fill-color: #666;\n",
              "  }\n",
              "\n",
              "  .colab-df-quickchart {\n",
              "    background-color: var(--bg-color);\n",
              "    border: none;\n",
              "    border-radius: 50%;\n",
              "    cursor: pointer;\n",
              "    display: none;\n",
              "    fill: var(--fill-color);\n",
              "    height: 32px;\n",
              "    padding: 0;\n",
              "    width: 32px;\n",
              "  }\n",
              "\n",
              "  .colab-df-quickchart:hover {\n",
              "    background-color: var(--hover-bg-color);\n",
              "    box-shadow: 0 1px 2px rgba(60, 64, 67, 0.3), 0 1px 3px 1px rgba(60, 64, 67, 0.15);\n",
              "    fill: var(--button-hover-fill-color);\n",
              "  }\n",
              "\n",
              "  .colab-df-quickchart-complete:disabled,\n",
              "  .colab-df-quickchart-complete:disabled:hover {\n",
              "    background-color: var(--disabled-bg-color);\n",
              "    fill: var(--disabled-fill-color);\n",
              "    box-shadow: none;\n",
              "  }\n",
              "\n",
              "  .colab-df-spinner {\n",
              "    border: 2px solid var(--fill-color);\n",
              "    border-color: transparent;\n",
              "    border-bottom-color: var(--fill-color);\n",
              "    animation:\n",
              "      spin 1s steps(1) infinite;\n",
              "  }\n",
              "\n",
              "  @keyframes spin {\n",
              "    0% {\n",
              "      border-color: transparent;\n",
              "      border-bottom-color: var(--fill-color);\n",
              "      border-left-color: var(--fill-color);\n",
              "    }\n",
              "    20% {\n",
              "      border-color: transparent;\n",
              "      border-left-color: var(--fill-color);\n",
              "      border-top-color: var(--fill-color);\n",
              "    }\n",
              "    30% {\n",
              "      border-color: transparent;\n",
              "      border-left-color: var(--fill-color);\n",
              "      border-top-color: var(--fill-color);\n",
              "      border-right-color: var(--fill-color);\n",
              "    }\n",
              "    40% {\n",
              "      border-color: transparent;\n",
              "      border-right-color: var(--fill-color);\n",
              "      border-top-color: var(--fill-color);\n",
              "    }\n",
              "    60% {\n",
              "      border-color: transparent;\n",
              "      border-right-color: var(--fill-color);\n",
              "    }\n",
              "    80% {\n",
              "      border-color: transparent;\n",
              "      border-right-color: var(--fill-color);\n",
              "      border-bottom-color: var(--fill-color);\n",
              "    }\n",
              "    90% {\n",
              "      border-color: transparent;\n",
              "      border-bottom-color: var(--fill-color);\n",
              "    }\n",
              "  }\n",
              "</style>\n",
              "\n",
              "      <script>\n",
              "        async function quickchart(key) {\n",
              "          const quickchartButtonEl =\n",
              "            document.querySelector('#' + key + ' button');\n",
              "          quickchartButtonEl.disabled = true;  // To prevent multiple clicks.\n",
              "          quickchartButtonEl.classList.add('colab-df-spinner');\n",
              "          try {\n",
              "            const charts = await google.colab.kernel.invokeFunction(\n",
              "                'suggestCharts', [key], {});\n",
              "          } catch (error) {\n",
              "            console.error('Error during call to suggestCharts:', error);\n",
              "          }\n",
              "          quickchartButtonEl.classList.remove('colab-df-spinner');\n",
              "          quickchartButtonEl.classList.add('colab-df-quickchart-complete');\n",
              "        }\n",
              "        (() => {\n",
              "          let quickchartButtonEl =\n",
              "            document.querySelector('#df-b8fa773c-cc20-4126-9e9d-e88ef6a3dbc4 button');\n",
              "          quickchartButtonEl.style.display =\n",
              "            google.colab.kernel.accessAllowed ? 'block' : 'none';\n",
              "        })();\n",
              "      </script>\n",
              "    </div>\n",
              "\n",
              "    </div>\n",
              "  </div>\n"
            ],
            "application/vnd.google.colaboratory.intrinsic+json": {
              "type": "dataframe",
              "variable_name": "df_train_description",
              "summary": "{\n  \"name\": \"df_train_description\",\n  \"rows\": 6251,\n  \"fields\": [\n    {\n      \"column\": \"logit_0\",\n      \"properties\": {\n        \"dtype\": \"float32\",\n        \"num_unique_values\": 5653,\n        \"samples\": [\n          0.6552765965461731,\n          1.1803863048553467,\n          -0.2166413813829422\n        ],\n        \"semantic_type\": \"\",\n        \"description\": \"\"\n      }\n    },\n    {\n      \"column\": \"logit_1\",\n      \"properties\": {\n        \"dtype\": \"float32\",\n        \"num_unique_values\": 5651,\n        \"samples\": [\n          -0.8251675367355347,\n          2.4999377727508545,\n          1.4025187492370605\n        ],\n        \"semantic_type\": \"\",\n        \"description\": \"\"\n      }\n    },\n    {\n      \"column\": \"logit_2\",\n      \"properties\": {\n        \"dtype\": \"float32\",\n        \"num_unique_values\": 5653,\n        \"samples\": [\n          -3.7215323448181152,\n          -4.4649152755737305,\n          -3.3390021324157715\n        ],\n        \"semantic_type\": \"\",\n        \"description\": \"\"\n      }\n    },\n    {\n      \"column\": \"label\",\n      \"properties\": {\n        \"dtype\": \"number\",\n        \"std\": 0,\n        \"min\": 0,\n        \"max\": 2,\n        \"num_unique_values\": 3,\n        \"samples\": [\n          0,\n          1,\n          2\n        ],\n        \"semantic_type\": \"\",\n        \"description\": \"\"\n      }\n    }\n  ]\n}"
            }
          },
          "metadata": {},
          "execution_count": 9
        }
      ]
    },
    {
      "cell_type": "markdown",
      "source": [
        "## model_logits_features"
      ],
      "metadata": {
        "id": "6Ow7ggzUGnw5"
      }
    },
    {
      "cell_type": "markdown",
      "source": [
        "### Prepare the data"
      ],
      "metadata": {
        "id": "bCTcoak0XwX0"
      }
    },
    {
      "cell_type": "code",
      "source": [
        "# Get the list of explicatives variables\n",
        "list_var = ['subclass_depth', 'subclasses', 'instances_of', 'instances_of_up', 'date', 'nb_lang',\n",
        "       'descr_num_nouns', 'descr_num_verbs',\n",
        "       'descr_num_adjectives', 'descr_has_location', 'descr_has_ethnic_group',\n",
        "       'descr_has_event', 'type_cat', 'category_architecture',\n",
        "       'category_biology', 'category_comics and anime', 'category_fashion',\n",
        "       'category_films', 'category_food', 'category_geography',\n",
        "       'category_literature', 'category_media', 'category_music',\n",
        "       'category_politics', 'category_sports', 'category_transportation',\n",
        "       'category_visual arts', 'category_combined',\n",
        "       'main_country_cat'\n",
        "]\n",
        "\n",
        "# Create the X and y, train and dev\n",
        "X_train = train_df[list_var]\n",
        "y_train = train_df['label_int'].values\n",
        "\n",
        "X_dev = dev_df[list_var]\n",
        "y_dev = dev_df['label_int'].values\n",
        "\n",
        "# Selecting numerical columns from X_train (all of them are int64 or float64)\n",
        "num_cols = X_train.select_dtypes(include=['int64', 'float64']).columns.tolist()\n",
        "\n",
        "# Defining pipeline: impute Nan, then scale\n",
        "num_pipeline = Pipeline([\n",
        "    ('imputer', SimpleImputer(strategy='mean')),\n",
        "    ('scaler', MinMaxScaler())\n",
        "])\n",
        "\n",
        "# Appling pipeline to numeric columns\n",
        "preprocessor = ColumnTransformer([\n",
        "    ('num', num_pipeline, num_cols)\n",
        "])\n",
        "\n",
        "\n",
        "#adjustin the data to proper format\n",
        "X_train_processed = preprocessor.fit_transform(X_train)\n",
        "X_dev_processed = preprocessor.transform(X_dev)\n",
        "\n",
        "# float cast\n",
        "X_train_processed = X_train_processed.astype('float32')\n",
        "X_dev_processed = X_dev_processed.astype('float32')\n",
        "\n",
        "# One-hot encode labels\n",
        "y_train_cat = to_categorical(y_train, num_classes=3)\n",
        "y_dev_cat = to_categorical(y_dev, num_classes=3)"
      ],
      "metadata": {
        "id": "50qeBhnYHCCn"
      },
      "execution_count": 10,
      "outputs": []
    },
    {
      "cell_type": "markdown",
      "source": [
        "### Apply the model on the data"
      ],
      "metadata": {
        "id": "Z-BxJ3keXyk8"
      }
    },
    {
      "cell_type": "code",
      "source": [
        "logits_dev_model_features = model_logits_features.predict(X_dev_processed)\n",
        "logits_train_model_features = model_logits_features.predict(X_train_processed)"
      ],
      "metadata": {
        "colab": {
          "base_uri": "https://localhost:8080/"
        },
        "id": "4NruvuxHHM2g",
        "outputId": "40c53c19-8754-4683-ce68-0bdba45781ab"
      },
      "execution_count": 11,
      "outputs": [
        {
          "output_type": "stream",
          "name": "stdout",
          "text": [
            "\u001b[1m10/10\u001b[0m \u001b[32m━━━━━━━━━━━━━━━━━━━━\u001b[0m\u001b[37m\u001b[0m \u001b[1m2s\u001b[0m 151ms/step\n",
            "\u001b[1m196/196\u001b[0m \u001b[32m━━━━━━━━━━━━━━━━━━━━\u001b[0m\u001b[37m\u001b[0m \u001b[1m1s\u001b[0m 6ms/step\n"
          ]
        }
      ]
    },
    {
      "cell_type": "markdown",
      "source": [
        "## model_logits_photos"
      ],
      "metadata": {
        "id": "og7HGSzWSAN7"
      }
    },
    {
      "cell_type": "code",
      "source": [
        "# transform the data into arrays\n",
        "train_df['image'] = train_df['image'].apply(lambda x: np.array(x))\n",
        "dev_df['image'] = dev_df['image'].apply(lambda x: np.array(x))"
      ],
      "metadata": {
        "id": "ptrm5jDYmIAq"
      },
      "execution_count": 12,
      "outputs": []
    },
    {
      "cell_type": "code",
      "source": [
        "# Images normalization\n",
        "X_train_fill = np.stack(train_df['image'].to_numpy()).astype('float32') / 255.0\n",
        "y_train_fill = train_df['label']\n",
        "\n",
        "X_dev_fill = np.stack(dev_df['image'].to_numpy()).astype('float32') / 255.0\n",
        "y_dev_fill = dev_df['label']"
      ],
      "metadata": {
        "id": "oTrIPomETVMe"
      },
      "execution_count": 13,
      "outputs": []
    },
    {
      "cell_type": "code",
      "source": [
        "# Apply the model\n",
        "logits_dev_model_photos = model_logits_photos.predict(X_dev_fill)\n",
        "logits_train_model_photos = model_logits_photos.predict(X_train_fill)"
      ],
      "metadata": {
        "colab": {
          "base_uri": "https://localhost:8080/"
        },
        "id": "ROUzHUc-SSDl",
        "outputId": "7f8a8491-b132-4f00-8975-5630a91ac1c9"
      },
      "execution_count": 14,
      "outputs": [
        {
          "output_type": "stream",
          "name": "stdout",
          "text": [
            "\u001b[1m10/10\u001b[0m \u001b[32m━━━━━━━━━━━━━━━━━━━━\u001b[0m\u001b[37m\u001b[0m \u001b[1m2s\u001b[0m 79ms/step\n",
            "\u001b[1m196/196\u001b[0m \u001b[32m━━━━━━━━━━━━━━━━━━━━\u001b[0m\u001b[37m\u001b[0m \u001b[1m1s\u001b[0m 5ms/step\n"
          ]
        }
      ]
    },
    {
      "cell_type": "markdown",
      "source": [
        "## Ensemble model\n"
      ],
      "metadata": {
        "id": "7hs6yfdjV7l-"
      }
    },
    {
      "cell_type": "markdown",
      "source": [
        "here we try to combine two classifiers, one basing on the neural network working on features extracted frrom the wikidata/wikipedia, and the second one basing on the neural network working on the embedding representation of the description of the wikipedia/wikidata entities. We combine them with a meta lerner that as training set  takes the logits for each label from both of the trained base neural networks, achieved on the train set. And the validation are the logits of these two networks acquired by predcition on the validation set."
      ],
      "metadata": {
        "id": "2aXZNt-WYBs6"
      }
    },
    {
      "cell_type": "markdown",
      "source": [
        "### Build and fit the ensemble model"
      ],
      "metadata": {
        "id": "QYrVYmLAYFmf"
      }
    },
    {
      "cell_type": "code",
      "source": [
        "# Prepare the data\n",
        "train_labels = df_train_description['label']\n",
        "dev_labels = dev_df_description['label']\n",
        "\n",
        "train_labels_nn = to_categorical(train_labels, num_classes=3)\n",
        "dev_labels_nn = to_categorical(dev_labels, num_classes=3)\n",
        "\n",
        "train_vectors = np.concatenate((logits_train_model_description, logits_train_model_features), axis=1)\n",
        "train_vectors = np.concatenate((train_vectors, logits_train_model_photos), axis=1)\n",
        "dev_vectors = np.concatenate((logits_dev_model_descriptions, logits_dev_model_features), axis=1)\n",
        "dev_vectors = np.concatenate((dev_vectors, logits_dev_model_photos), axis=1)\n",
        "\n",
        "# Build early stop and reduce lr condition\n",
        "early_stop = callbacks.EarlyStopping(monitor='val_accuracy', patience=20, restore_best_weights=True)\n",
        "reduce_lr = callbacks.ReduceLROnPlateau(monitor='val_loss', factor=0.5, patience=5)\n",
        "\n",
        "\n",
        "# Define the model\n",
        "model_Ensemble = models.Sequential([\n",
        "    layers.Input(shape=(9,)),\n",
        "    layers.Dense(16, kernel_regularizer=regularizers.l2(1e-4)),\n",
        "    LeakyReLU(alpha=0.1),\n",
        "    layers.BatchNormalization(),\n",
        "    layers.Dropout(0.3),\n",
        "\n",
        "    layers.Dense(8, kernel_regularizer=regularizers.l2(1e-4)),\n",
        "    LeakyReLU(alpha=0.1),\n",
        "    layers.BatchNormalization(),\n",
        "    layers.Dropout(0.3),\n",
        "\n",
        "    layers.Dense(3, activation='softmax')\n",
        "])\n",
        "\n",
        "# Compile and train\n",
        "model_Ensemble.compile(optimizer=Adam(learning_rate=3e-4),\n",
        "                       loss='categorical_crossentropy',\n",
        "                       metrics=['accuracy'])\n",
        "\n",
        "history = model_Ensemble.fit(\n",
        "    train_vectors, train_labels_nn,\n",
        "    validation_data=(dev_vectors, dev_labels_nn),\n",
        "    epochs=200,\n",
        "    batch_size=64,\n",
        "    callbacks=[early_stop, reduce_lr]\n",
        ")"
      ],
      "metadata": {
        "colab": {
          "base_uri": "https://localhost:8080/"
        },
        "id": "1yXcYQ7GV2mE",
        "outputId": "7e0260c5-19ad-413a-be87-9893ed0ab6e1"
      },
      "execution_count": 20,
      "outputs": [
        {
          "output_type": "stream",
          "name": "stdout",
          "text": [
            "Epoch 1/200\n"
          ]
        },
        {
          "output_type": "stream",
          "name": "stderr",
          "text": [
            "/usr/local/lib/python3.11/dist-packages/keras/src/layers/activations/leaky_relu.py:41: UserWarning: Argument `alpha` is deprecated. Use `negative_slope` instead.\n",
            "  warnings.warn(\n"
          ]
        },
        {
          "output_type": "stream",
          "name": "stdout",
          "text": [
            "\u001b[1m98/98\u001b[0m \u001b[32m━━━━━━━━━━━━━━━━━━━━\u001b[0m\u001b[37m\u001b[0m \u001b[1m6s\u001b[0m 25ms/step - accuracy: 0.5836 - loss: 1.0049 - val_accuracy: 0.6600 - val_loss: 0.7805 - learning_rate: 3.0000e-04\n",
            "Epoch 2/200\n",
            "\u001b[1m98/98\u001b[0m \u001b[32m━━━━━━━━━━━━━━━━━━━━\u001b[0m\u001b[37m\u001b[0m \u001b[1m2s\u001b[0m 3ms/step - accuracy: 0.7015 - loss: 0.7468 - val_accuracy: 0.6733 - val_loss: 0.7481 - learning_rate: 3.0000e-04\n",
            "Epoch 3/200\n",
            "\u001b[1m98/98\u001b[0m \u001b[32m━━━━━━━━━━━━━━━━━━━━\u001b[0m\u001b[37m\u001b[0m \u001b[1m1s\u001b[0m 3ms/step - accuracy: 0.7697 - loss: 0.6009 - val_accuracy: 0.6767 - val_loss: 0.7436 - learning_rate: 3.0000e-04\n",
            "Epoch 4/200\n",
            "\u001b[1m98/98\u001b[0m \u001b[32m━━━━━━━━━━━━━━━━━━━━\u001b[0m\u001b[37m\u001b[0m \u001b[1m0s\u001b[0m 3ms/step - accuracy: 0.8127 - loss: 0.5178 - val_accuracy: 0.6733 - val_loss: 0.7454 - learning_rate: 3.0000e-04\n",
            "Epoch 5/200\n",
            "\u001b[1m98/98\u001b[0m \u001b[32m━━━━━━━━━━━━━━━━━━━━\u001b[0m\u001b[37m\u001b[0m \u001b[1m1s\u001b[0m 3ms/step - accuracy: 0.8366 - loss: 0.4571 - val_accuracy: 0.6800 - val_loss: 0.7534 - learning_rate: 3.0000e-04\n",
            "Epoch 6/200\n",
            "\u001b[1m98/98\u001b[0m \u001b[32m━━━━━━━━━━━━━━━━━━━━\u001b[0m\u001b[37m\u001b[0m \u001b[1m0s\u001b[0m 4ms/step - accuracy: 0.8585 - loss: 0.4109 - val_accuracy: 0.6900 - val_loss: 0.7590 - learning_rate: 3.0000e-04\n",
            "Epoch 7/200\n",
            "\u001b[1m98/98\u001b[0m \u001b[32m━━━━━━━━━━━━━━━━━━━━\u001b[0m\u001b[37m\u001b[0m \u001b[1m1s\u001b[0m 5ms/step - accuracy: 0.8694 - loss: 0.3864 - val_accuracy: 0.6967 - val_loss: 0.7733 - learning_rate: 3.0000e-04\n",
            "Epoch 8/200\n",
            "\u001b[1m98/98\u001b[0m \u001b[32m━━━━━━━━━━━━━━━━━━━━\u001b[0m\u001b[37m\u001b[0m \u001b[1m1s\u001b[0m 5ms/step - accuracy: 0.8684 - loss: 0.3738 - val_accuracy: 0.7067 - val_loss: 0.7856 - learning_rate: 3.0000e-04\n",
            "Epoch 9/200\n",
            "\u001b[1m98/98\u001b[0m \u001b[32m━━━━━━━━━━━━━━━━━━━━\u001b[0m\u001b[37m\u001b[0m \u001b[1m1s\u001b[0m 4ms/step - accuracy: 0.8694 - loss: 0.3585 - val_accuracy: 0.7067 - val_loss: 0.7936 - learning_rate: 1.5000e-04\n",
            "Epoch 10/200\n",
            "\u001b[1m98/98\u001b[0m \u001b[32m━━━━━━━━━━━━━━━━━━━━\u001b[0m\u001b[37m\u001b[0m \u001b[1m1s\u001b[0m 3ms/step - accuracy: 0.8886 - loss: 0.3437 - val_accuracy: 0.7033 - val_loss: 0.8042 - learning_rate: 1.5000e-04\n",
            "Epoch 11/200\n",
            "\u001b[1m98/98\u001b[0m \u001b[32m━━━━━━━━━━━━━━━━━━━━\u001b[0m\u001b[37m\u001b[0m \u001b[1m1s\u001b[0m 3ms/step - accuracy: 0.8827 - loss: 0.3377 - val_accuracy: 0.7033 - val_loss: 0.8099 - learning_rate: 1.5000e-04\n",
            "Epoch 12/200\n",
            "\u001b[1m98/98\u001b[0m \u001b[32m━━━━━━━━━━━━━━━━━━━━\u001b[0m\u001b[37m\u001b[0m \u001b[1m0s\u001b[0m 3ms/step - accuracy: 0.8908 - loss: 0.3198 - val_accuracy: 0.7033 - val_loss: 0.8219 - learning_rate: 1.5000e-04\n",
            "Epoch 13/200\n",
            "\u001b[1m98/98\u001b[0m \u001b[32m━━━━━━━━━━━━━━━━━━━━\u001b[0m\u001b[37m\u001b[0m \u001b[1m0s\u001b[0m 3ms/step - accuracy: 0.8958 - loss: 0.3175 - val_accuracy: 0.7033 - val_loss: 0.8310 - learning_rate: 1.5000e-04\n",
            "Epoch 14/200\n",
            "\u001b[1m98/98\u001b[0m \u001b[32m━━━━━━━━━━━━━━━━━━━━\u001b[0m\u001b[37m\u001b[0m \u001b[1m1s\u001b[0m 3ms/step - accuracy: 0.8919 - loss: 0.3181 - val_accuracy: 0.7067 - val_loss: 0.8351 - learning_rate: 7.5000e-05\n",
            "Epoch 15/200\n",
            "\u001b[1m98/98\u001b[0m \u001b[32m━━━━━━━━━━━━━━━━━━━━\u001b[0m\u001b[37m\u001b[0m \u001b[1m1s\u001b[0m 3ms/step - accuracy: 0.8928 - loss: 0.3173 - val_accuracy: 0.7033 - val_loss: 0.8397 - learning_rate: 7.5000e-05\n",
            "Epoch 16/200\n",
            "\u001b[1m98/98\u001b[0m \u001b[32m━━━━━━━━━━━━━━━━━━━━\u001b[0m\u001b[37m\u001b[0m \u001b[1m1s\u001b[0m 3ms/step - accuracy: 0.8973 - loss: 0.2970 - val_accuracy: 0.7033 - val_loss: 0.8443 - learning_rate: 7.5000e-05\n",
            "Epoch 17/200\n",
            "\u001b[1m98/98\u001b[0m \u001b[32m━━━━━━━━━━━━━━━━━━━━\u001b[0m\u001b[37m\u001b[0m \u001b[1m1s\u001b[0m 3ms/step - accuracy: 0.8927 - loss: 0.3136 - val_accuracy: 0.7033 - val_loss: 0.8509 - learning_rate: 7.5000e-05\n",
            "Epoch 18/200\n",
            "\u001b[1m98/98\u001b[0m \u001b[32m━━━━━━━━━━━━━━━━━━━━\u001b[0m\u001b[37m\u001b[0m \u001b[1m1s\u001b[0m 3ms/step - accuracy: 0.9032 - loss: 0.3023 - val_accuracy: 0.7033 - val_loss: 0.8569 - learning_rate: 7.5000e-05\n",
            "Epoch 19/200\n",
            "\u001b[1m98/98\u001b[0m \u001b[32m━━━━━━━━━━━━━━━━━━━━\u001b[0m\u001b[37m\u001b[0m \u001b[1m0s\u001b[0m 3ms/step - accuracy: 0.9006 - loss: 0.2987 - val_accuracy: 0.7033 - val_loss: 0.8587 - learning_rate: 3.7500e-05\n",
            "Epoch 20/200\n",
            "\u001b[1m98/98\u001b[0m \u001b[32m━━━━━━━━━━━━━━━━━━━━\u001b[0m\u001b[37m\u001b[0m \u001b[1m0s\u001b[0m 3ms/step - accuracy: 0.9025 - loss: 0.2936 - val_accuracy: 0.7033 - val_loss: 0.8589 - learning_rate: 3.7500e-05\n",
            "Epoch 21/200\n",
            "\u001b[1m98/98\u001b[0m \u001b[32m━━━━━━━━━━━━━━━━━━━━\u001b[0m\u001b[37m\u001b[0m \u001b[1m0s\u001b[0m 3ms/step - accuracy: 0.8991 - loss: 0.2998 - val_accuracy: 0.7033 - val_loss: 0.8635 - learning_rate: 3.7500e-05\n",
            "Epoch 22/200\n",
            "\u001b[1m98/98\u001b[0m \u001b[32m━━━━━━━━━━━━━━━━━━━━\u001b[0m\u001b[37m\u001b[0m \u001b[1m1s\u001b[0m 3ms/step - accuracy: 0.8942 - loss: 0.2981 - val_accuracy: 0.7033 - val_loss: 0.8660 - learning_rate: 3.7500e-05\n",
            "Epoch 23/200\n",
            "\u001b[1m98/98\u001b[0m \u001b[32m━━━━━━━━━━━━━━━━━━━━\u001b[0m\u001b[37m\u001b[0m \u001b[1m1s\u001b[0m 3ms/step - accuracy: 0.8995 - loss: 0.2961 - val_accuracy: 0.7033 - val_loss: 0.8686 - learning_rate: 3.7500e-05\n",
            "Epoch 24/200\n",
            "\u001b[1m98/98\u001b[0m \u001b[32m━━━━━━━━━━━━━━━━━━━━\u001b[0m\u001b[37m\u001b[0m \u001b[1m1s\u001b[0m 3ms/step - accuracy: 0.9037 - loss: 0.2847 - val_accuracy: 0.7033 - val_loss: 0.8706 - learning_rate: 1.8750e-05\n",
            "Epoch 25/200\n",
            "\u001b[1m98/98\u001b[0m \u001b[32m━━━━━━━━━━━━━━━━━━━━\u001b[0m\u001b[37m\u001b[0m \u001b[1m1s\u001b[0m 3ms/step - accuracy: 0.9013 - loss: 0.2964 - val_accuracy: 0.7033 - val_loss: 0.8728 - learning_rate: 1.8750e-05\n",
            "Epoch 26/200\n",
            "\u001b[1m98/98\u001b[0m \u001b[32m━━━━━━━━━━━━━━━━━━━━\u001b[0m\u001b[37m\u001b[0m \u001b[1m0s\u001b[0m 3ms/step - accuracy: 0.8958 - loss: 0.2975 - val_accuracy: 0.7033 - val_loss: 0.8733 - learning_rate: 1.8750e-05\n",
            "Epoch 27/200\n",
            "\u001b[1m98/98\u001b[0m \u001b[32m━━━━━━━━━━━━━━━━━━━━\u001b[0m\u001b[37m\u001b[0m \u001b[1m1s\u001b[0m 3ms/step - accuracy: 0.9007 - loss: 0.2996 - val_accuracy: 0.7033 - val_loss: 0.8762 - learning_rate: 1.8750e-05\n",
            "Epoch 28/200\n",
            "\u001b[1m98/98\u001b[0m \u001b[32m━━━━━━━━━━━━━━━━━━━━\u001b[0m\u001b[37m\u001b[0m \u001b[1m1s\u001b[0m 4ms/step - accuracy: 0.8994 - loss: 0.3032 - val_accuracy: 0.7033 - val_loss: 0.8758 - learning_rate: 1.8750e-05\n"
          ]
        }
      ]
    },
    {
      "cell_type": "markdown",
      "source": [
        "### Evaluation\n",
        "\n",
        "Seems overfitted to the training set, with discreancy of the accuracies between the training and the validation set."
      ],
      "metadata": {
        "id": "uD3giYW5i1BN"
      }
    },
    {
      "cell_type": "code",
      "source": [
        "from sklearn.metrics import accuracy_score, precision_recall_fscore_support\n",
        "\n",
        "# Prepare the data for evaluation\n",
        "y_train_pred = model_Ensemble.predict(train_vectors)\n",
        "y_train_pred_classes = np.argmax(y_train_pred, axis=1)\n",
        "y_train_true_classes = np.argmax(train_labels_nn, axis=1)\n",
        "\n",
        "y_dev_pred = model_Ensemble.predict(dev_vectors)\n",
        "y_dev_pred_classes = np.argmax(y_dev_pred, axis=1)\n",
        "y_dev_true_classes = np.argmax(dev_labels_nn, axis=1)\n",
        "\n",
        "# Compute evaluations\n",
        "train_accuracy = accuracy_score(y_train_true_classes, y_train_pred_classes)\n",
        "dev_accuracy = accuracy_score(y_dev_true_classes, y_dev_pred_classes)\n",
        "train_precision, train_recall, train_f1, _ = precision_recall_fscore_support(y_train_true_classes, y_train_pred_classes, average='weighted')\n",
        "dev_precision, dev_recall, dev_f1, _ = precision_recall_fscore_support(y_dev_true_classes, y_dev_pred_classes, average='weighted')\n",
        "\n",
        "# Print\n",
        "print(f\"Train accuracy : {train_accuracy * 100:.2f}%\")\n",
        "print(f\"Train precision: {train_precision * 100:.2f}%\")\n",
        "print(f\"Train recall   : {train_recall * 100:.2f}%\")\n",
        "print(f\"Train F1-score : {train_f1 * 100:.2f}%\")\n",
        "print(f\"Dev accuracy   : {dev_accuracy * 100:.2f}%\")\n",
        "print(f\"Dev precision  : {dev_precision * 100:.2f}%\")\n",
        "print(f\"Dev recall     : {dev_recall * 100:.2f}%\")\n",
        "print(f\"Dev F1-score   : {dev_f1 * 100:.2f}%\")"
      ],
      "metadata": {
        "colab": {
          "base_uri": "https://localhost:8080/"
        },
        "id": "2DZhgYppiJGE",
        "outputId": "43fe5763-de72-45ef-c413-4a616282cfa5"
      },
      "execution_count": 21,
      "outputs": [
        {
          "output_type": "stream",
          "name": "stdout",
          "text": [
            "\u001b[1m196/196\u001b[0m \u001b[32m━━━━━━━━━━━━━━━━━━━━\u001b[0m\u001b[37m\u001b[0m \u001b[1m1s\u001b[0m 3ms/step\n",
            "\u001b[1m10/10\u001b[0m \u001b[32m━━━━━━━━━━━━━━━━━━━━\u001b[0m\u001b[37m\u001b[0m \u001b[1m0s\u001b[0m 19ms/step\n",
            "Train accuracy : 93.70%\n",
            "Train precision: 93.68%\n",
            "Train recall   : 93.70%\n",
            "Train F1-score : 93.67%\n",
            "Dev accuracy   : 70.67%\n",
            "Dev precision  : 72.21%\n",
            "Dev recall     : 70.67%\n",
            "Dev F1-score   : 70.39%\n"
          ]
        }
      ]
    },
    {
      "cell_type": "markdown",
      "source": [
        "### Try XGBoost, Logistic Regression and SVM"
      ],
      "metadata": {
        "id": "IZMaZOiLk3hh"
      }
    },
    {
      "cell_type": "code",
      "source": [
        "import xgboost as xgb\n",
        "\n",
        "model_xgb = xgb.XGBClassifier(n_estimators=200, learning_rate=0.05)\n",
        "\n",
        "# Training\n",
        "model_xgb.fit(train_vectors, train_labels)\n",
        "\n",
        "# Prediction\n",
        "y_pred = model_xgb.predict(dev_vectors)\n",
        "\n",
        "# Evaluation\n",
        "acc = accuracy_score(dev_labels, y_pred)\n",
        "precision, recall, f1, _ = precision_recall_fscore_support(dev_labels, y_pred, average='weighted')\n",
        "\n",
        "# Print\n",
        "print(f\"Accuracy XGBoost : {acc:.4f}\")\n",
        "print(f\"Precision        : {precision:.4f}\")\n",
        "print(f\"Recall           : {recall:.4f}\")\n",
        "print(f\"F1-score         : {f1:.4f}\")\n"
      ],
      "metadata": {
        "id": "V7_m2xBdlLLS",
        "outputId": "610a1c03-6c84-496f-eb18-fea667c30c42",
        "colab": {
          "base_uri": "https://localhost:8080/"
        }
      },
      "execution_count": 17,
      "outputs": [
        {
          "output_type": "stream",
          "name": "stdout",
          "text": [
            "Accuracy XGBoost : 0.6567\n",
            "Precision        : 0.6701\n",
            "Recall           : 0.6567\n",
            "F1-score         : 0.6549\n"
          ]
        }
      ]
    },
    {
      "cell_type": "code",
      "source": [
        "from sklearn.linear_model import LogisticRegression\n",
        "\n",
        "# Training\n",
        "model_lr = LogisticRegression(max_iter=500, multi_class='multinomial', solver='lbfgs')\n",
        "model_lr.fit(train_vectors, train_labels)\n",
        "\n",
        "# Prediction\n",
        "y_pred = model_lr.predict(dev_vectors)\n",
        "\n",
        "# Evaluation\n",
        "acc = accuracy_score(dev_labels, y_pred)\n",
        "precision, recall, f1, _ = precision_recall_fscore_support(dev_labels, y_pred, average='weighted')\n",
        "\n",
        "# Print\n",
        "print(f\"Accuracy Logistic Regression : {acc:.4f}\")\n",
        "print(f\"Precision                   : {precision:.4f}\")\n",
        "print(f\"Recall                      : {recall:.4f}\")\n",
        "print(f\"F1-score                    : {f1:.4f}\")\n"
      ],
      "metadata": {
        "id": "wIj_yjjUlLOn",
        "outputId": "3e1a4494-8d8d-461e-9480-f88feddca561",
        "colab": {
          "base_uri": "https://localhost:8080/"
        }
      },
      "execution_count": 18,
      "outputs": [
        {
          "output_type": "stream",
          "name": "stdout",
          "text": [
            "Accuracy Logistic Regression : 0.6667\n",
            "Precision                   : 0.6870\n",
            "Recall                      : 0.6667\n",
            "F1-score                    : 0.6661\n"
          ]
        }
      ]
    },
    {
      "cell_type": "code",
      "source": [
        "from sklearn.svm import SVC\n",
        "\n",
        "# Training\n",
        "model_svm = SVC(C=1, kernel='rbf', probability=True)\n",
        "model_svm.fit(train_vectors, train_labels)\n",
        "\n",
        "# Prediction\n",
        "y_pred = model_svm.predict(dev_vectors)\n",
        "\n",
        "# Evaluation\n",
        "acc = accuracy_score(dev_labels, y_pred)\n",
        "precision, recall, f1, _ = precision_recall_fscore_support(dev_labels, y_pred, average='weighted')\n",
        "\n",
        "# Print\n",
        "print(f\"Accuracy SVM  : {acc:.4f}\")\n",
        "print(f\"Precision     : {precision:.4f}\")\n",
        "print(f\"Recall        : {recall:.4f}\")\n",
        "print(f\"F1-score      : {f1:.4f}\")"
      ],
      "metadata": {
        "id": "gnYFUYzUk5nY",
        "outputId": "3d766a81-e7be-4a73-8b06-a4efcaa61bd7",
        "colab": {
          "base_uri": "https://localhost:8080/"
        }
      },
      "execution_count": 19,
      "outputs": [
        {
          "output_type": "stream",
          "name": "stdout",
          "text": [
            "Accuracy SVM  : 0.6633\n",
            "Precision     : 0.6835\n",
            "Recall        : 0.6633\n",
            "F1-score      : 0.6642\n"
          ]
        }
      ]
    },
    {
      "cell_type": "markdown",
      "source": [
        "### Exportation of the ensemble model"
      ],
      "metadata": {
        "id": "9NsWxJ7JmGPX"
      }
    },
    {
      "cell_type": "code",
      "source": [
        "from huggingface_hub import login, create_repo, upload_folder\n",
        "import os\n",
        "import tensorflow as tf\n",
        "from huggingface_hub import hf_hub_download\n",
        "\n",
        "login(token=\"\")\n",
        "\n",
        "repo_name = \"MNLP-HW1\"\n",
        "repo_id = f\"tgarnier067/{repo_name}\"\n",
        "create_repo(repo_id, exist_ok=True, private=False)\n",
        "model_folder = \"models\"\n",
        "os.makedirs(model_folder, exist_ok=True)\n",
        "\n",
        "models = {\n",
        "    \"model_ensemble\": model_Ensemble\n",
        "}\n",
        "\n",
        "# Save the models in separate files\n",
        "for model_name, model in models.items():\n",
        "    model_file_path = os.path.join(model_folder, f\"{model_name}.keras\")\n",
        "    model.save(model_file_path)\n",
        "\n",
        "readme_content = \"\"\"# MNLP HW1 Models\n",
        "This repository contains multiple models trained for different tasks. Each model is saved as a separate `.keras` file.\n",
        "\"\"\"\n",
        "\n",
        "with open(os.path.join(model_folder, \"README.md\"), \"w\") as f:\n",
        "    f.write(readme_content)\n",
        "\n",
        "upload_folder(\n",
        "    repo_id=repo_id,\n",
        "    folder_path=model_folder,\n",
        "    path_in_repo=\"\"\n",
        ")\n",
        "\n",
        "print(f\"All models have been successfully uploaded to Hugging Face in the repo {repo_id}!\")"
      ],
      "metadata": {
        "id": "G1J9Ds4DmJSP",
        "outputId": "71c0d65d-3a57-4cce-e139-ab222f9c72bc",
        "colab": {
          "base_uri": "https://localhost:8080/"
        }
      },
      "execution_count": 23,
      "outputs": [
        {
          "output_type": "stream",
          "name": "stderr",
          "text": [
            "/usr/local/lib/python3.11/dist-packages/huggingface_hub/hf_api.py:9561: UserWarning: Warnings while validating metadata in README.md:\n",
            "- empty or missing yaml metadata in repo card\n",
            "  warnings.warn(f\"Warnings while validating metadata in README.md:\\n{message}\")\n"
          ]
        },
        {
          "output_type": "stream",
          "name": "stdout",
          "text": [
            "All models have been successfully uploaded to Hugging Face in the repo tgarnier067/MNLP-HW1!\n"
          ]
        }
      ]
    },
    {
      "cell_type": "markdown",
      "source": [
        "# CNN model only"
      ],
      "metadata": {
        "id": "Gbfurz5Vdwz8"
      }
    },
    {
      "cell_type": "code",
      "source": [
        "from tensorflow.keras import models\n",
        "from tensorflow.keras import layers\n",
        "\n",
        "# Prepare the data\n",
        "train_labels = df_train_description['label']\n",
        "dev_labels = dev_df_description['label']\n",
        "\n",
        "train_labels_nn = to_categorical(train_labels, num_classes=3)\n",
        "dev_labels_nn = to_categorical(dev_labels, num_classes=3)\n",
        "\n",
        "train_vectors = logits_train_model_photos\n",
        "dev_vectors = logits_dev_model_photos\n",
        "\n",
        "# Build early stop and reduce lr conditions\n",
        "early_stop = callbacks.EarlyStopping(monitor='val_accuracy', patience=20, restore_best_weights=True)\n",
        "reduce_lr = callbacks.ReduceLROnPlateau(monitor='val_loss', factor=0.5, patience=5)\n",
        "\n",
        "# Build the model, and fit\n",
        "model_photos = models.Sequential()\n",
        "\n",
        "model_photos.add(layers.Input(shape=(3,), name='input_layer'))\n",
        "\n",
        "model_photos.add(layers.Dense(3, activation='softmax'))\n",
        "\n",
        "model_photos.compile(optimizer=Adam(learning_rate=1e-3),\n",
        "                       loss='categorical_crossentropy',\n",
        "                       metrics=['accuracy'])\n",
        "\n",
        "\n",
        "\n",
        "history = model_photos.fit(\n",
        "    train_vectors, train_labels_nn,\n",
        "    validation_data=(dev_vectors, dev_labels_nn),\n",
        "    epochs=200,\n",
        "    batch_size=64,\n",
        "    callbacks=[early_stop, reduce_lr]\n",
        ")"
      ],
      "metadata": {
        "colab": {
          "base_uri": "https://localhost:8080/"
        },
        "id": "QUXw1suWd35_",
        "outputId": "3595abbe-89c5-4395-b09c-c1a7495dcae2"
      },
      "execution_count": 25,
      "outputs": [
        {
          "output_type": "stream",
          "name": "stdout",
          "text": [
            "Epoch 1/200\n",
            "\u001b[1m98/98\u001b[0m \u001b[32m━━━━━━━━━━━━━━━━━━━━\u001b[0m\u001b[37m\u001b[0m \u001b[1m3s\u001b[0m 19ms/step - accuracy: 0.1148 - loss: 3.2517 - val_accuracy: 0.2933 - val_loss: 1.8858 - learning_rate: 0.0010\n",
            "Epoch 2/200\n",
            "\u001b[1m98/98\u001b[0m \u001b[32m━━━━━━━━━━━━━━━━━━━━\u001b[0m\u001b[37m\u001b[0m \u001b[1m0s\u001b[0m 4ms/step - accuracy: 0.1228 - loss: 2.4113 - val_accuracy: 0.3000 - val_loss: 1.5027 - learning_rate: 0.0010\n",
            "Epoch 3/200\n",
            "\u001b[1m98/98\u001b[0m \u001b[32m━━━━━━━━━━━━━━━━━━━━\u001b[0m\u001b[37m\u001b[0m \u001b[1m0s\u001b[0m 3ms/step - accuracy: 0.2565 - loss: 1.6489 - val_accuracy: 0.2500 - val_loss: 1.2222 - learning_rate: 0.0010\n",
            "Epoch 4/200\n",
            "\u001b[1m98/98\u001b[0m \u001b[32m━━━━━━━━━━━━━━━━━━━━\u001b[0m\u001b[37m\u001b[0m \u001b[1m0s\u001b[0m 4ms/step - accuracy: 0.3992 - loss: 1.1234 - val_accuracy: 0.3233 - val_loss: 1.1589 - learning_rate: 0.0010\n",
            "Epoch 5/200\n",
            "\u001b[1m98/98\u001b[0m \u001b[32m━━━━━━━━━━━━━━━━━━━━\u001b[0m\u001b[37m\u001b[0m \u001b[1m1s\u001b[0m 4ms/step - accuracy: 0.5725 - loss: 0.9074 - val_accuracy: 0.5100 - val_loss: 1.1825 - learning_rate: 0.0010\n",
            "Epoch 6/200\n",
            "\u001b[1m98/98\u001b[0m \u001b[32m━━━━━━━━━━━━━━━━━━━━\u001b[0m\u001b[37m\u001b[0m \u001b[1m1s\u001b[0m 4ms/step - accuracy: 0.6165 - loss: 0.8190 - val_accuracy: 0.5100 - val_loss: 1.2208 - learning_rate: 0.0010\n",
            "Epoch 7/200\n",
            "\u001b[1m98/98\u001b[0m \u001b[32m━━━━━━━━━━━━━━━━━━━━\u001b[0m\u001b[37m\u001b[0m \u001b[1m0s\u001b[0m 3ms/step - accuracy: 0.6320 - loss: 0.7769 - val_accuracy: 0.5100 - val_loss: 1.2599 - learning_rate: 0.0010\n",
            "Epoch 8/200\n",
            "\u001b[1m98/98\u001b[0m \u001b[32m━━━━━━━━━━━━━━━━━━━━\u001b[0m\u001b[37m\u001b[0m \u001b[1m0s\u001b[0m 3ms/step - accuracy: 0.6377 - loss: 0.7493 - val_accuracy: 0.5100 - val_loss: 1.3007 - learning_rate: 0.0010\n",
            "Epoch 9/200\n",
            "\u001b[1m98/98\u001b[0m \u001b[32m━━━━━━━━━━━━━━━━━━━━\u001b[0m\u001b[37m\u001b[0m \u001b[1m0s\u001b[0m 3ms/step - accuracy: 0.6357 - loss: 0.7264 - val_accuracy: 0.5067 - val_loss: 1.3413 - learning_rate: 0.0010\n",
            "Epoch 10/200\n",
            "\u001b[1m98/98\u001b[0m \u001b[32m━━━━━━━━━━━━━━━━━━━━\u001b[0m\u001b[37m\u001b[0m \u001b[1m0s\u001b[0m 3ms/step - accuracy: 0.6547 - loss: 0.7035 - val_accuracy: 0.5100 - val_loss: 1.3610 - learning_rate: 5.0000e-04\n",
            "Epoch 11/200\n",
            "\u001b[1m98/98\u001b[0m \u001b[32m━━━━━━━━━━━━━━━━━━━━\u001b[0m\u001b[37m\u001b[0m \u001b[1m0s\u001b[0m 3ms/step - accuracy: 0.6482 - loss: 0.7023 - val_accuracy: 0.5100 - val_loss: 1.3810 - learning_rate: 5.0000e-04\n",
            "Epoch 12/200\n",
            "\u001b[1m98/98\u001b[0m \u001b[32m━━━━━━━━━━━━━━━━━━━━\u001b[0m\u001b[37m\u001b[0m \u001b[1m0s\u001b[0m 3ms/step - accuracy: 0.6487 - loss: 0.6986 - val_accuracy: 0.5133 - val_loss: 1.4012 - learning_rate: 5.0000e-04\n",
            "Epoch 13/200\n",
            "\u001b[1m98/98\u001b[0m \u001b[32m━━━━━━━━━━━━━━━━━━━━\u001b[0m\u001b[37m\u001b[0m \u001b[1m0s\u001b[0m 3ms/step - accuracy: 0.6616 - loss: 0.6939 - val_accuracy: 0.5100 - val_loss: 1.4222 - learning_rate: 5.0000e-04\n",
            "Epoch 14/200\n",
            "\u001b[1m98/98\u001b[0m \u001b[32m━━━━━━━━━━━━━━━━━━━━\u001b[0m\u001b[37m\u001b[0m \u001b[1m0s\u001b[0m 3ms/step - accuracy: 0.6558 - loss: 0.6912 - val_accuracy: 0.5133 - val_loss: 1.4428 - learning_rate: 5.0000e-04\n",
            "Epoch 15/200\n",
            "\u001b[1m98/98\u001b[0m \u001b[32m━━━━━━━━━━━━━━━━━━━━\u001b[0m\u001b[37m\u001b[0m \u001b[1m0s\u001b[0m 3ms/step - accuracy: 0.6539 - loss: 0.6828 - val_accuracy: 0.5133 - val_loss: 1.4531 - learning_rate: 2.5000e-04\n",
            "Epoch 16/200\n",
            "\u001b[1m98/98\u001b[0m \u001b[32m━━━━━━━━━━━━━━━━━━━━\u001b[0m\u001b[37m\u001b[0m \u001b[1m1s\u001b[0m 4ms/step - accuracy: 0.6562 - loss: 0.6796 - val_accuracy: 0.5133 - val_loss: 1.4639 - learning_rate: 2.5000e-04\n",
            "Epoch 17/200\n",
            "\u001b[1m98/98\u001b[0m \u001b[32m━━━━━━━━━━━━━━━━━━━━\u001b[0m\u001b[37m\u001b[0m \u001b[1m1s\u001b[0m 6ms/step - accuracy: 0.6615 - loss: 0.6852 - val_accuracy: 0.5100 - val_loss: 1.4747 - learning_rate: 2.5000e-04\n",
            "Epoch 18/200\n",
            "\u001b[1m98/98\u001b[0m \u001b[32m━━━━━━━━━━━━━━━━━━━━\u001b[0m\u001b[37m\u001b[0m \u001b[1m1s\u001b[0m 5ms/step - accuracy: 0.6642 - loss: 0.6741 - val_accuracy: 0.5100 - val_loss: 1.4860 - learning_rate: 2.5000e-04\n",
            "Epoch 19/200\n",
            "\u001b[1m98/98\u001b[0m \u001b[32m━━━━━━━━━━━━━━━━━━━━\u001b[0m\u001b[37m\u001b[0m \u001b[1m1s\u001b[0m 5ms/step - accuracy: 0.6454 - loss: 0.6831 - val_accuracy: 0.5100 - val_loss: 1.4972 - learning_rate: 2.5000e-04\n",
            "Epoch 20/200\n",
            "\u001b[1m98/98\u001b[0m \u001b[32m━━━━━━━━━━━━━━━━━━━━\u001b[0m\u001b[37m\u001b[0m \u001b[1m0s\u001b[0m 5ms/step - accuracy: 0.6639 - loss: 0.6710 - val_accuracy: 0.5100 - val_loss: 1.5029 - learning_rate: 1.2500e-04\n",
            "Epoch 21/200\n",
            "\u001b[1m98/98\u001b[0m \u001b[32m━━━━━━━━━━━━━━━━━━━━\u001b[0m\u001b[37m\u001b[0m \u001b[1m0s\u001b[0m 4ms/step - accuracy: 0.6568 - loss: 0.6814 - val_accuracy: 0.5067 - val_loss: 1.5088 - learning_rate: 1.2500e-04\n",
            "Epoch 22/200\n",
            "\u001b[1m98/98\u001b[0m \u001b[32m━━━━━━━━━━━━━━━━━━━━\u001b[0m\u001b[37m\u001b[0m \u001b[1m0s\u001b[0m 4ms/step - accuracy: 0.6596 - loss: 0.6731 - val_accuracy: 0.5067 - val_loss: 1.5154 - learning_rate: 1.2500e-04\n",
            "Epoch 23/200\n",
            "\u001b[1m98/98\u001b[0m \u001b[32m━━━━━━━━━━━━━━━━━━━━\u001b[0m\u001b[37m\u001b[0m \u001b[1m0s\u001b[0m 3ms/step - accuracy: 0.6541 - loss: 0.6741 - val_accuracy: 0.5067 - val_loss: 1.5215 - learning_rate: 1.2500e-04\n",
            "Epoch 24/200\n",
            "\u001b[1m98/98\u001b[0m \u001b[32m━━━━━━━━━━━━━━━━━━━━\u001b[0m\u001b[37m\u001b[0m \u001b[1m0s\u001b[0m 3ms/step - accuracy: 0.6552 - loss: 0.6798 - val_accuracy: 0.5067 - val_loss: 1.5281 - learning_rate: 1.2500e-04\n",
            "Epoch 25/200\n",
            "\u001b[1m98/98\u001b[0m \u001b[32m━━━━━━━━━━━━━━━━━━━━\u001b[0m\u001b[37m\u001b[0m \u001b[1m1s\u001b[0m 4ms/step - accuracy: 0.6562 - loss: 0.6727 - val_accuracy: 0.5067 - val_loss: 1.5314 - learning_rate: 6.2500e-05\n",
            "Epoch 26/200\n",
            "\u001b[1m98/98\u001b[0m \u001b[32m━━━━━━━━━━━━━━━━━━━━\u001b[0m\u001b[37m\u001b[0m \u001b[1m0s\u001b[0m 3ms/step - accuracy: 0.6657 - loss: 0.6708 - val_accuracy: 0.5067 - val_loss: 1.5350 - learning_rate: 6.2500e-05\n",
            "Epoch 27/200\n",
            "\u001b[1m98/98\u001b[0m \u001b[32m━━━━━━━━━━━━━━━━━━━━\u001b[0m\u001b[37m\u001b[0m \u001b[1m0s\u001b[0m 3ms/step - accuracy: 0.6656 - loss: 0.6704 - val_accuracy: 0.5067 - val_loss: 1.5386 - learning_rate: 6.2500e-05\n",
            "Epoch 28/200\n",
            "\u001b[1m98/98\u001b[0m \u001b[32m━━━━━━━━━━━━━━━━━━━━\u001b[0m\u001b[37m\u001b[0m \u001b[1m0s\u001b[0m 3ms/step - accuracy: 0.6572 - loss: 0.6740 - val_accuracy: 0.5067 - val_loss: 1.5424 - learning_rate: 6.2500e-05\n",
            "Epoch 29/200\n",
            "\u001b[1m98/98\u001b[0m \u001b[32m━━━━━━━━━━━━━━━━━━━━\u001b[0m\u001b[37m\u001b[0m \u001b[1m0s\u001b[0m 3ms/step - accuracy: 0.6603 - loss: 0.6738 - val_accuracy: 0.5067 - val_loss: 1.5463 - learning_rate: 6.2500e-05\n",
            "Epoch 30/200\n",
            "\u001b[1m98/98\u001b[0m \u001b[32m━━━━━━━━━━━━━━━━━━━━\u001b[0m\u001b[37m\u001b[0m \u001b[1m0s\u001b[0m 3ms/step - accuracy: 0.6593 - loss: 0.6781 - val_accuracy: 0.5067 - val_loss: 1.5482 - learning_rate: 3.1250e-05\n",
            "Epoch 31/200\n",
            "\u001b[1m98/98\u001b[0m \u001b[32m━━━━━━━━━━━━━━━━━━━━\u001b[0m\u001b[37m\u001b[0m \u001b[1m0s\u001b[0m 4ms/step - accuracy: 0.6628 - loss: 0.6617 - val_accuracy: 0.5067 - val_loss: 1.5503 - learning_rate: 3.1250e-05\n",
            "Epoch 32/200\n",
            "\u001b[1m98/98\u001b[0m \u001b[32m━━━━━━━━━━━━━━━━━━━━\u001b[0m\u001b[37m\u001b[0m \u001b[1m1s\u001b[0m 4ms/step - accuracy: 0.6643 - loss: 0.6696 - val_accuracy: 0.5100 - val_loss: 1.5526 - learning_rate: 3.1250e-05\n"
          ]
        }
      ]
    },
    {
      "cell_type": "code",
      "source": [
        "# Prepare the data for the evaluation\n",
        "y_train_pred = model_photos.predict(train_vectors)\n",
        "y_train_pred_classes = np.argmax(y_train_pred, axis=1)\n",
        "y_train_true_classes = np.argmax(train_labels_nn, axis=1)\n",
        "y_dev_pred = model_photos.predict(dev_vectors)\n",
        "y_dev_pred_classes = np.argmax(y_dev_pred, axis=1)\n",
        "y_dev_true_classes = np.argmax(dev_labels_nn, axis=1)\n",
        "\n",
        "# Compute the metrics\n",
        "train_accuracy = accuracy_score(y_train_true_classes, y_train_pred_classes)\n",
        "dev_accuracy = accuracy_score(y_dev_true_classes, y_dev_pred_classes)\n",
        "train_precision, train_recall, train_f1, _ = precision_recall_fscore_support(y_train_true_classes, y_train_pred_classes, average='weighted')\n",
        "dev_precision, dev_recall, dev_f1, _ = precision_recall_fscore_support(y_dev_true_classes, y_dev_pred_classes, average='weighted')\n",
        "\n",
        "# Print\n",
        "print(f\"Train accuracy : {train_accuracy * 100:.2f}%\")\n",
        "print(f\"Train precision: {train_precision * 100:.2f}%\")\n",
        "print(f\"Train recall   : {train_recall * 100:.2f}%\")\n",
        "print(f\"Train F1-score : {train_f1 * 100:.2f}%\")\n",
        "print(f\"Dev accuracy   : {dev_accuracy * 100:.2f}%\")\n",
        "print(f\"Dev precision  : {dev_precision * 100:.2f}%\")\n",
        "print(f\"Dev recall     : {dev_recall * 100:.2f}%\")\n",
        "print(f\"Dev F1-score   : {dev_f1 * 100:.2f}%\")\n",
        "\n"
      ],
      "metadata": {
        "colab": {
          "base_uri": "https://localhost:8080/"
        },
        "id": "cKdhIK-xeWGV",
        "outputId": "3d2cea8f-7cb2-470b-be37-36234a569f20"
      },
      "execution_count": 26,
      "outputs": [
        {
          "output_type": "stream",
          "name": "stdout",
          "text": [
            "\u001b[1m196/196\u001b[0m \u001b[32m━━━━━━━━━━━━━━━━━━━━\u001b[0m\u001b[37m\u001b[0m \u001b[1m1s\u001b[0m 3ms/step\n",
            "\u001b[1m10/10\u001b[0m \u001b[32m━━━━━━━━━━━━━━━━━━━━\u001b[0m\u001b[37m\u001b[0m \u001b[1m0s\u001b[0m 17ms/step\n",
            "Train accuracy : 65.19%\n",
            "Train precision: 80.10%\n",
            "Train recall   : 65.19%\n",
            "Train F1-score : 65.77%\n",
            "Dev accuracy   : 51.33%\n",
            "Dev precision  : 51.43%\n",
            "Dev recall     : 51.33%\n",
            "Dev F1-score   : 49.12%\n"
          ]
        }
      ]
    },
    {
      "cell_type": "markdown",
      "source": [
        "# Description model only"
      ],
      "metadata": {
        "id": "TcCAKAf6eiJz"
      }
    },
    {
      "cell_type": "code",
      "source": [
        "# Prepare the data\n",
        "train_labels = df_train_description['label']\n",
        "dev_labels = dev_df_description['label']\n",
        "\n",
        "train_labels_nn = to_categorical(train_labels, num_classes=3)\n",
        "dev_labels_nn = to_categorical(dev_labels, num_classes=3)\n",
        "\n",
        "train_vectors = logits_train_model_description\n",
        "dev_vectors = logits_dev_model_descriptions\n",
        "\n",
        "# Build early stop and reduce lr conditions\n",
        "early_stop = callbacks.EarlyStopping(monitor='val_accuracy', patience=20, restore_best_weights=True)\n",
        "reduce_lr = callbacks.ReduceLROnPlateau(monitor='val_loss', factor=0.5, patience=5)\n",
        "\n",
        "# Build the model, and fit it\n",
        "model_description = models.Sequential()\n",
        "\n",
        "model_description.add(layers.Input(shape=(3,), name='input_layer'))\n",
        "\n",
        "model_description.add(layers.Dense(3, activation='softmax'))\n",
        "\n",
        "model_description.compile(optimizer=Adam(learning_rate=1e-3),\n",
        "                       loss='categorical_crossentropy',\n",
        "                       metrics=['accuracy'])\n",
        "\n",
        "\n",
        "\n",
        "history = model_description.fit(\n",
        "    train_vectors, train_labels_nn,\n",
        "    validation_data=(dev_vectors, dev_labels_nn),\n",
        "    epochs=200,\n",
        "    batch_size=64,\n",
        "    callbacks=[early_stop, reduce_lr]\n",
        ")"
      ],
      "metadata": {
        "outputId": "239885c5-7ff4-4676-d9b6-ff77e706c665",
        "colab": {
          "base_uri": "https://localhost:8080/"
        },
        "id": "fDACNBKlem-B"
      },
      "execution_count": 27,
      "outputs": [
        {
          "output_type": "stream",
          "name": "stdout",
          "text": [
            "Epoch 1/200\n",
            "\u001b[1m98/98\u001b[0m \u001b[32m━━━━━━━━━━━━━━━━━━━━\u001b[0m\u001b[37m\u001b[0m \u001b[1m3s\u001b[0m 13ms/step - accuracy: 0.2008 - loss: 1.4769 - val_accuracy: 0.3500 - val_loss: 1.0937 - learning_rate: 0.0010\n",
            "Epoch 2/200\n",
            "\u001b[1m98/98\u001b[0m \u001b[32m━━━━━━━━━━━━━━━━━━━━\u001b[0m\u001b[37m\u001b[0m \u001b[1m1s\u001b[0m 4ms/step - accuracy: 0.6099 - loss: 0.9116 - val_accuracy: 0.6867 - val_loss: 0.8748 - learning_rate: 0.0010\n",
            "Epoch 3/200\n",
            "\u001b[1m98/98\u001b[0m \u001b[32m━━━━━━━━━━━━━━━━━━━━\u001b[0m\u001b[37m\u001b[0m \u001b[1m1s\u001b[0m 5ms/step - accuracy: 0.8152 - loss: 0.6372 - val_accuracy: 0.6900 - val_loss: 0.8031 - learning_rate: 0.0010\n",
            "Epoch 4/200\n",
            "\u001b[1m98/98\u001b[0m \u001b[32m━━━━━━━━━━━━━━━━━━━━\u001b[0m\u001b[37m\u001b[0m \u001b[1m1s\u001b[0m 6ms/step - accuracy: 0.8553 - loss: 0.4891 - val_accuracy: 0.6900 - val_loss: 0.7865 - learning_rate: 0.0010\n",
            "Epoch 5/200\n",
            "\u001b[1m98/98\u001b[0m \u001b[32m━━━━━━━━━━━━━━━━━━━━\u001b[0m\u001b[37m\u001b[0m \u001b[1m1s\u001b[0m 6ms/step - accuracy: 0.8849 - loss: 0.4128 - val_accuracy: 0.6867 - val_loss: 0.7900 - learning_rate: 0.0010\n",
            "Epoch 6/200\n",
            "\u001b[1m98/98\u001b[0m \u001b[32m━━━━━━━━━━━━━━━━━━━━\u001b[0m\u001b[37m\u001b[0m \u001b[1m0s\u001b[0m 4ms/step - accuracy: 0.8860 - loss: 0.3730 - val_accuracy: 0.6900 - val_loss: 0.8007 - learning_rate: 0.0010\n",
            "Epoch 7/200\n",
            "\u001b[1m98/98\u001b[0m \u001b[32m━━━━━━━━━━━━━━━━━━━━\u001b[0m\u001b[37m\u001b[0m \u001b[1m1s\u001b[0m 5ms/step - accuracy: 0.8908 - loss: 0.3469 - val_accuracy: 0.6867 - val_loss: 0.8149 - learning_rate: 0.0010\n",
            "Epoch 8/200\n",
            "\u001b[1m98/98\u001b[0m \u001b[32m━━━━━━━━━━━━━━━━━━━━\u001b[0m\u001b[37m\u001b[0m \u001b[1m1s\u001b[0m 5ms/step - accuracy: 0.9001 - loss: 0.3252 - val_accuracy: 0.6800 - val_loss: 0.8302 - learning_rate: 0.0010\n",
            "Epoch 9/200\n",
            "\u001b[1m98/98\u001b[0m \u001b[32m━━━━━━━━━━━━━━━━━━━━\u001b[0m\u001b[37m\u001b[0m \u001b[1m0s\u001b[0m 4ms/step - accuracy: 0.8964 - loss: 0.3154 - val_accuracy: 0.6767 - val_loss: 0.8456 - learning_rate: 0.0010\n",
            "Epoch 10/200\n",
            "\u001b[1m98/98\u001b[0m \u001b[32m━━━━━━━━━━━━━━━━━━━━\u001b[0m\u001b[37m\u001b[0m \u001b[1m1s\u001b[0m 3ms/step - accuracy: 0.8929 - loss: 0.3057 - val_accuracy: 0.6767 - val_loss: 0.8531 - learning_rate: 5.0000e-04\n",
            "Epoch 11/200\n",
            "\u001b[1m98/98\u001b[0m \u001b[32m━━━━━━━━━━━━━━━━━━━━\u001b[0m\u001b[37m\u001b[0m \u001b[1m0s\u001b[0m 3ms/step - accuracy: 0.8923 - loss: 0.3008 - val_accuracy: 0.6733 - val_loss: 0.8612 - learning_rate: 5.0000e-04\n",
            "Epoch 12/200\n",
            "\u001b[1m98/98\u001b[0m \u001b[32m━━━━━━━━━━━━━━━━━━━━\u001b[0m\u001b[37m\u001b[0m \u001b[1m1s\u001b[0m 3ms/step - accuracy: 0.8988 - loss: 0.2907 - val_accuracy: 0.6767 - val_loss: 0.8690 - learning_rate: 5.0000e-04\n",
            "Epoch 13/200\n",
            "\u001b[1m98/98\u001b[0m \u001b[32m━━━━━━━━━━━━━━━━━━━━\u001b[0m\u001b[37m\u001b[0m \u001b[1m1s\u001b[0m 3ms/step - accuracy: 0.8997 - loss: 0.2887 - val_accuracy: 0.6767 - val_loss: 0.8765 - learning_rate: 5.0000e-04\n",
            "Epoch 14/200\n",
            "\u001b[1m98/98\u001b[0m \u001b[32m━━━━━━━━━━━━━━━━━━━━\u001b[0m\u001b[37m\u001b[0m \u001b[1m0s\u001b[0m 3ms/step - accuracy: 0.9040 - loss: 0.2816 - val_accuracy: 0.6733 - val_loss: 0.8845 - learning_rate: 5.0000e-04\n",
            "Epoch 15/200\n",
            "\u001b[1m98/98\u001b[0m \u001b[32m━━━━━━━━━━━━━━━━━━━━\u001b[0m\u001b[37m\u001b[0m \u001b[1m0s\u001b[0m 3ms/step - accuracy: 0.8973 - loss: 0.2862 - val_accuracy: 0.6733 - val_loss: 0.8886 - learning_rate: 2.5000e-04\n",
            "Epoch 16/200\n",
            "\u001b[1m98/98\u001b[0m \u001b[32m━━━━━━━━━━━━━━━━━━━━\u001b[0m\u001b[37m\u001b[0m \u001b[1m1s\u001b[0m 3ms/step - accuracy: 0.9032 - loss: 0.2749 - val_accuracy: 0.6733 - val_loss: 0.8927 - learning_rate: 2.5000e-04\n",
            "Epoch 17/200\n",
            "\u001b[1m98/98\u001b[0m \u001b[32m━━━━━━━━━━━━━━━━━━━━\u001b[0m\u001b[37m\u001b[0m \u001b[1m0s\u001b[0m 3ms/step - accuracy: 0.8985 - loss: 0.2773 - val_accuracy: 0.6733 - val_loss: 0.8970 - learning_rate: 2.5000e-04\n",
            "Epoch 18/200\n",
            "\u001b[1m98/98\u001b[0m \u001b[32m━━━━━━━━━━━━━━━━━━━━\u001b[0m\u001b[37m\u001b[0m \u001b[1m0s\u001b[0m 4ms/step - accuracy: 0.8998 - loss: 0.2750 - val_accuracy: 0.6767 - val_loss: 0.9012 - learning_rate: 2.5000e-04\n",
            "Epoch 19/200\n",
            "\u001b[1m98/98\u001b[0m \u001b[32m━━━━━━━━━━━━━━━━━━━━\u001b[0m\u001b[37m\u001b[0m \u001b[1m0s\u001b[0m 4ms/step - accuracy: 0.8911 - loss: 0.2903 - val_accuracy: 0.6767 - val_loss: 0.9054 - learning_rate: 2.5000e-04\n",
            "Epoch 20/200\n",
            "\u001b[1m98/98\u001b[0m \u001b[32m━━━━━━━━━━━━━━━━━━━━\u001b[0m\u001b[37m\u001b[0m \u001b[1m1s\u001b[0m 4ms/step - accuracy: 0.8960 - loss: 0.2814 - val_accuracy: 0.6767 - val_loss: 0.9077 - learning_rate: 1.2500e-04\n",
            "Epoch 21/200\n",
            "\u001b[1m98/98\u001b[0m \u001b[32m━━━━━━━━━━━━━━━━━━━━\u001b[0m\u001b[37m\u001b[0m \u001b[1m0s\u001b[0m 3ms/step - accuracy: 0.8955 - loss: 0.2823 - val_accuracy: 0.6767 - val_loss: 0.9099 - learning_rate: 1.2500e-04\n",
            "Epoch 22/200\n",
            "\u001b[1m98/98\u001b[0m \u001b[32m━━━━━━━━━━━━━━━━━━━━\u001b[0m\u001b[37m\u001b[0m \u001b[1m1s\u001b[0m 3ms/step - accuracy: 0.8981 - loss: 0.2778 - val_accuracy: 0.6767 - val_loss: 0.9122 - learning_rate: 1.2500e-04\n",
            "Epoch 23/200\n",
            "\u001b[1m98/98\u001b[0m \u001b[32m━━━━━━━━━━━━━━━━━━━━\u001b[0m\u001b[37m\u001b[0m \u001b[1m1s\u001b[0m 3ms/step - accuracy: 0.8973 - loss: 0.2767 - val_accuracy: 0.6767 - val_loss: 0.9147 - learning_rate: 1.2500e-04\n"
          ]
        }
      ]
    },
    {
      "cell_type": "code",
      "source": [
        "# Prepare the data for the evaluation\n",
        "y_train_pred = model_description.predict(train_vectors)\n",
        "y_train_pred_classes = np.argmax(y_train_pred, axis=1)\n",
        "y_train_true_classes = np.argmax(train_labels_nn, axis=1)\n",
        "y_dev_pred = model_description.predict(dev_vectors)\n",
        "y_dev_pred_classes = np.argmax(y_dev_pred, axis=1)\n",
        "y_dev_true_classes = np.argmax(dev_labels_nn, axis=1)\n",
        "\n",
        "# Evaluation metrics\n",
        "train_accuracy = accuracy_score(y_train_true_classes, y_train_pred_classes)\n",
        "dev_accuracy = accuracy_score(y_dev_true_classes, y_dev_pred_classes)\n",
        "train_precision, train_recall, train_f1, _ = precision_recall_fscore_support(y_train_true_classes, y_train_pred_classes, average='weighted')\n",
        "dev_precision, dev_recall, dev_f1, _ = precision_recall_fscore_support(y_dev_true_classes, y_dev_pred_classes, average='weighted')\n",
        "\n",
        "# Print\n",
        "print(f\"Train accuracy : {train_accuracy * 100:.2f}%\")\n",
        "print(f\"Train precision: {train_precision * 100:.2f}%\")\n",
        "print(f\"Train recall   : {train_recall * 100:.2f}%\")\n",
        "print(f\"Train F1-score : {train_f1 * 100:.2f}%\")\n",
        "print(f\"Dev accuracy   : {dev_accuracy * 100:.2f}%\")\n",
        "print(f\"Dev precision  : {dev_precision * 100:.2f}%\")\n",
        "print(f\"Dev recall     : {dev_recall * 100:.2f}%\")\n",
        "print(f\"Dev F1-score   : {dev_f1 * 100:.2f}%\")"
      ],
      "metadata": {
        "outputId": "6bf1c15c-6066-442a-cef9-47140c842da0",
        "colab": {
          "base_uri": "https://localhost:8080/"
        },
        "id": "vWgigCP7em-D"
      },
      "execution_count": 28,
      "outputs": [
        {
          "output_type": "stream",
          "name": "stdout",
          "text": [
            "\u001b[1m196/196\u001b[0m \u001b[32m━━━━━━━━━━━━━━━━━━━━\u001b[0m\u001b[37m\u001b[0m \u001b[1m1s\u001b[0m 3ms/step\n",
            "\u001b[1m10/10\u001b[0m \u001b[32m━━━━━━━━━━━━━━━━━━━━\u001b[0m\u001b[37m\u001b[0m \u001b[1m0s\u001b[0m 25ms/step\n",
            "Train accuracy : 84.91%\n",
            "Train precision: 86.10%\n",
            "Train recall   : 84.91%\n",
            "Train F1-score : 85.10%\n",
            "Dev accuracy   : 69.00%\n",
            "Dev precision  : 70.77%\n",
            "Dev recall     : 69.00%\n",
            "Dev F1-score   : 69.57%\n"
          ]
        }
      ]
    },
    {
      "cell_type": "markdown",
      "source": [
        "# Features model only"
      ],
      "metadata": {
        "id": "cF9vf9ARfFvR"
      }
    },
    {
      "cell_type": "code",
      "source": [
        "# Prepare the data\n",
        "train_labels = df_train_description['label']\n",
        "dev_labels = dev_df_description['label']\n",
        "\n",
        "train_labels_nn = to_categorical(train_labels, num_classes=3)\n",
        "dev_labels_nn = to_categorical(dev_labels, num_classes=3)\n",
        "\n",
        "train_vectors = logits_train_model_features\n",
        "dev_vectors = logits_dev_model_features\n",
        "\n",
        "# Build early stop and reduce lr condition\n",
        "early_stop = callbacks.EarlyStopping(monitor='val_accuracy', patience=20, restore_best_weights=True)\n",
        "reduce_lr = callbacks.ReduceLROnPlateau(monitor='val_loss', factor=0.5, patience=5)\n",
        "\n",
        "# Build and fit the model\n",
        "model_features = models.Sequential()\n",
        "\n",
        "model_features.add(layers.Input(shape=(3,), name='input_layer'))\n",
        "\n",
        "model_features.add(layers.Dense(3, activation='softmax'))\n",
        "\n",
        "model_features.compile(optimizer=Adam(learning_rate=1e-3),\n",
        "                       loss='categorical_crossentropy',\n",
        "                       metrics=['accuracy'])\n",
        "\n",
        "history = model_features.fit(\n",
        "    train_vectors, train_labels_nn,\n",
        "    validation_data=(dev_vectors, dev_labels_nn),\n",
        "    epochs=200,\n",
        "    batch_size=64,\n",
        "    callbacks=[early_stop, reduce_lr]\n",
        ")"
      ],
      "metadata": {
        "outputId": "1139d6c9-52cc-4dd2-94b4-2c668b318795",
        "colab": {
          "base_uri": "https://localhost:8080/"
        },
        "id": "0vGfv5EOfULN"
      },
      "execution_count": 29,
      "outputs": [
        {
          "output_type": "stream",
          "name": "stdout",
          "text": [
            "Epoch 1/200\n",
            "\u001b[1m98/98\u001b[0m \u001b[32m━━━━━━━━━━━━━━━━━━━━\u001b[0m\u001b[37m\u001b[0m \u001b[1m4s\u001b[0m 18ms/step - accuracy: 0.5359 - loss: 0.9870 - val_accuracy: 0.5967 - val_loss: 0.8777 - learning_rate: 0.0010\n",
            "Epoch 2/200\n",
            "\u001b[1m98/98\u001b[0m \u001b[32m━━━━━━━━━━━━━━━━━━━━\u001b[0m\u001b[37m\u001b[0m \u001b[1m1s\u001b[0m 3ms/step - accuracy: 0.6648 - loss: 0.7814 - val_accuracy: 0.5967 - val_loss: 0.7327 - learning_rate: 0.0010\n",
            "Epoch 3/200\n",
            "\u001b[1m98/98\u001b[0m \u001b[32m━━━━━━━━━━━━━━━━━━━━\u001b[0m\u001b[37m\u001b[0m \u001b[1m1s\u001b[0m 3ms/step - accuracy: 0.6778 - loss: 0.6817 - val_accuracy: 0.6267 - val_loss: 0.6664 - learning_rate: 0.0010\n",
            "Epoch 4/200\n",
            "\u001b[1m98/98\u001b[0m \u001b[32m━━━━━━━━━━━━━━━━━━━━\u001b[0m\u001b[37m\u001b[0m \u001b[1m0s\u001b[0m 3ms/step - accuracy: 0.7067 - loss: 0.6325 - val_accuracy: 0.7333 - val_loss: 0.6360 - learning_rate: 0.0010\n",
            "Epoch 5/200\n",
            "\u001b[1m98/98\u001b[0m \u001b[32m━━━━━━━━━━━━━━━━━━━━\u001b[0m\u001b[37m\u001b[0m \u001b[1m0s\u001b[0m 3ms/step - accuracy: 0.7733 - loss: 0.6013 - val_accuracy: 0.7467 - val_loss: 0.6191 - learning_rate: 0.0010\n",
            "Epoch 6/200\n",
            "\u001b[1m98/98\u001b[0m \u001b[32m━━━━━━━━━━━━━━━━━━━━\u001b[0m\u001b[37m\u001b[0m \u001b[1m0s\u001b[0m 3ms/step - accuracy: 0.7747 - loss: 0.5817 - val_accuracy: 0.7400 - val_loss: 0.6120 - learning_rate: 0.0010\n",
            "Epoch 7/200\n",
            "\u001b[1m98/98\u001b[0m \u001b[32m━━━━━━━━━━━━━━━━━━━━\u001b[0m\u001b[37m\u001b[0m \u001b[1m0s\u001b[0m 3ms/step - accuracy: 0.7669 - loss: 0.5786 - val_accuracy: 0.7467 - val_loss: 0.6085 - learning_rate: 0.0010\n",
            "Epoch 8/200\n",
            "\u001b[1m98/98\u001b[0m \u001b[32m━━━━━━━━━━━━━━━━━━━━\u001b[0m\u001b[37m\u001b[0m \u001b[1m0s\u001b[0m 3ms/step - accuracy: 0.7673 - loss: 0.5747 - val_accuracy: 0.7467 - val_loss: 0.6071 - learning_rate: 0.0010\n",
            "Epoch 9/200\n",
            "\u001b[1m98/98\u001b[0m \u001b[32m━━━━━━━━━━━━━━━━━━━━\u001b[0m\u001b[37m\u001b[0m \u001b[1m1s\u001b[0m 4ms/step - accuracy: 0.7636 - loss: 0.5733 - val_accuracy: 0.7533 - val_loss: 0.6061 - learning_rate: 0.0010\n",
            "Epoch 10/200\n",
            "\u001b[1m98/98\u001b[0m \u001b[32m━━━━━━━━━━━━━━━━━━━━\u001b[0m\u001b[37m\u001b[0m \u001b[1m1s\u001b[0m 10ms/step - accuracy: 0.7659 - loss: 0.5664 - val_accuracy: 0.7500 - val_loss: 0.6062 - learning_rate: 0.0010\n",
            "Epoch 11/200\n",
            "\u001b[1m98/98\u001b[0m \u001b[32m━━━━━━━━━━━━━━━━━━━━\u001b[0m\u001b[37m\u001b[0m \u001b[1m1s\u001b[0m 8ms/step - accuracy: 0.7766 - loss: 0.5491 - val_accuracy: 0.7533 - val_loss: 0.6063 - learning_rate: 0.0010\n",
            "Epoch 12/200\n",
            "\u001b[1m98/98\u001b[0m \u001b[32m━━━━━━━━━━━━━━━━━━━━\u001b[0m\u001b[37m\u001b[0m \u001b[1m1s\u001b[0m 8ms/step - accuracy: 0.7640 - loss: 0.5656 - val_accuracy: 0.7567 - val_loss: 0.6071 - learning_rate: 0.0010\n",
            "Epoch 13/200\n",
            "\u001b[1m98/98\u001b[0m \u001b[32m━━━━━━━━━━━━━━━━━━━━\u001b[0m\u001b[37m\u001b[0m \u001b[1m0s\u001b[0m 4ms/step - accuracy: 0.7783 - loss: 0.5474 - val_accuracy: 0.7500 - val_loss: 0.6081 - learning_rate: 0.0010\n",
            "Epoch 14/200\n",
            "\u001b[1m98/98\u001b[0m \u001b[32m━━━━━━━━━━━━━━━━━━━━\u001b[0m\u001b[37m\u001b[0m \u001b[1m0s\u001b[0m 4ms/step - accuracy: 0.7746 - loss: 0.5432 - val_accuracy: 0.7533 - val_loss: 0.6084 - learning_rate: 0.0010\n",
            "Epoch 15/200\n",
            "\u001b[1m98/98\u001b[0m \u001b[32m━━━━━━━━━━━━━━━━━━━━\u001b[0m\u001b[37m\u001b[0m \u001b[1m1s\u001b[0m 3ms/step - accuracy: 0.7628 - loss: 0.5693 - val_accuracy: 0.7533 - val_loss: 0.6088 - learning_rate: 5.0000e-04\n",
            "Epoch 16/200\n",
            "\u001b[1m98/98\u001b[0m \u001b[32m━━━━━━━━━━━━━━━━━━━━\u001b[0m\u001b[37m\u001b[0m \u001b[1m0s\u001b[0m 5ms/step - accuracy: 0.7658 - loss: 0.5555 - val_accuracy: 0.7567 - val_loss: 0.6095 - learning_rate: 5.0000e-04\n",
            "Epoch 17/200\n",
            "\u001b[1m98/98\u001b[0m \u001b[32m━━━━━━━━━━━━━━━━━━━━\u001b[0m\u001b[37m\u001b[0m \u001b[1m0s\u001b[0m 4ms/step - accuracy: 0.7776 - loss: 0.5459 - val_accuracy: 0.7533 - val_loss: 0.6099 - learning_rate: 5.0000e-04\n",
            "Epoch 18/200\n",
            "\u001b[1m98/98\u001b[0m \u001b[32m━━━━━━━━━━━━━━━━━━━━\u001b[0m\u001b[37m\u001b[0m \u001b[1m1s\u001b[0m 5ms/step - accuracy: 0.7696 - loss: 0.5527 - val_accuracy: 0.7533 - val_loss: 0.6102 - learning_rate: 5.0000e-04\n",
            "Epoch 19/200\n",
            "\u001b[1m98/98\u001b[0m \u001b[32m━━━━━━━━━━━━━━━━━━━━\u001b[0m\u001b[37m\u001b[0m \u001b[1m1s\u001b[0m 6ms/step - accuracy: 0.7779 - loss: 0.5428 - val_accuracy: 0.7533 - val_loss: 0.6105 - learning_rate: 5.0000e-04\n",
            "Epoch 20/200\n",
            "\u001b[1m98/98\u001b[0m \u001b[32m━━━━━━━━━━━━━━━━━━━━\u001b[0m\u001b[37m\u001b[0m \u001b[1m1s\u001b[0m 3ms/step - accuracy: 0.7798 - loss: 0.5417 - val_accuracy: 0.7533 - val_loss: 0.6108 - learning_rate: 2.5000e-04\n",
            "Epoch 21/200\n",
            "\u001b[1m98/98\u001b[0m \u001b[32m━━━━━━━━━━━━━━━━━━━━\u001b[0m\u001b[37m\u001b[0m \u001b[1m0s\u001b[0m 3ms/step - accuracy: 0.7691 - loss: 0.5559 - val_accuracy: 0.7533 - val_loss: 0.6110 - learning_rate: 2.5000e-04\n",
            "Epoch 22/200\n",
            "\u001b[1m98/98\u001b[0m \u001b[32m━━━━━━━━━━━━━━━━━━━━\u001b[0m\u001b[37m\u001b[0m \u001b[1m0s\u001b[0m 3ms/step - accuracy: 0.7699 - loss: 0.5519 - val_accuracy: 0.7533 - val_loss: 0.6111 - learning_rate: 2.5000e-04\n",
            "Epoch 23/200\n",
            "\u001b[1m98/98\u001b[0m \u001b[32m━━━━━━━━━━━━━━━━━━━━\u001b[0m\u001b[37m\u001b[0m \u001b[1m0s\u001b[0m 3ms/step - accuracy: 0.7771 - loss: 0.5453 - val_accuracy: 0.7533 - val_loss: 0.6114 - learning_rate: 2.5000e-04\n",
            "Epoch 24/200\n",
            "\u001b[1m98/98\u001b[0m \u001b[32m━━━━━━━━━━━━━━━━━━━━\u001b[0m\u001b[37m\u001b[0m \u001b[1m0s\u001b[0m 3ms/step - accuracy: 0.7708 - loss: 0.5528 - val_accuracy: 0.7533 - val_loss: 0.6115 - learning_rate: 2.5000e-04\n",
            "Epoch 25/200\n",
            "\u001b[1m98/98\u001b[0m \u001b[32m━━━━━━━━━━━━━━━━━━━━\u001b[0m\u001b[37m\u001b[0m \u001b[1m0s\u001b[0m 3ms/step - accuracy: 0.7638 - loss: 0.5570 - val_accuracy: 0.7533 - val_loss: 0.6116 - learning_rate: 1.2500e-04\n",
            "Epoch 26/200\n",
            "\u001b[1m98/98\u001b[0m \u001b[32m━━━━━━━━━━━━━━━━━━━━\u001b[0m\u001b[37m\u001b[0m \u001b[1m0s\u001b[0m 3ms/step - accuracy: 0.7802 - loss: 0.5309 - val_accuracy: 0.7533 - val_loss: 0.6118 - learning_rate: 1.2500e-04\n",
            "Epoch 27/200\n",
            "\u001b[1m98/98\u001b[0m \u001b[32m━━━━━━━━━━━━━━━━━━━━\u001b[0m\u001b[37m\u001b[0m \u001b[1m0s\u001b[0m 3ms/step - accuracy: 0.7756 - loss: 0.5517 - val_accuracy: 0.7533 - val_loss: 0.6118 - learning_rate: 1.2500e-04\n",
            "Epoch 28/200\n",
            "\u001b[1m98/98\u001b[0m \u001b[32m━━━━━━━━━━━━━━━━━━━━\u001b[0m\u001b[37m\u001b[0m \u001b[1m0s\u001b[0m 3ms/step - accuracy: 0.7712 - loss: 0.5495 - val_accuracy: 0.7533 - val_loss: 0.6119 - learning_rate: 1.2500e-04\n",
            "Epoch 29/200\n",
            "\u001b[1m98/98\u001b[0m \u001b[32m━━━━━━━━━━━━━━━━━━━━\u001b[0m\u001b[37m\u001b[0m \u001b[1m0s\u001b[0m 3ms/step - accuracy: 0.7740 - loss: 0.5512 - val_accuracy: 0.7533 - val_loss: 0.6120 - learning_rate: 1.2500e-04\n",
            "Epoch 30/200\n",
            "\u001b[1m98/98\u001b[0m \u001b[32m━━━━━━━━━━━━━━━━━━━━\u001b[0m\u001b[37m\u001b[0m \u001b[1m1s\u001b[0m 3ms/step - accuracy: 0.7664 - loss: 0.5589 - val_accuracy: 0.7533 - val_loss: 0.6121 - learning_rate: 6.2500e-05\n",
            "Epoch 31/200\n",
            "\u001b[1m98/98\u001b[0m \u001b[32m━━━━━━━━━━━━━━━━━━━━\u001b[0m\u001b[37m\u001b[0m \u001b[1m0s\u001b[0m 3ms/step - accuracy: 0.7644 - loss: 0.5657 - val_accuracy: 0.7533 - val_loss: 0.6122 - learning_rate: 6.2500e-05\n",
            "Epoch 32/200\n",
            "\u001b[1m98/98\u001b[0m \u001b[32m━━━━━━━━━━━━━━━━━━━━\u001b[0m\u001b[37m\u001b[0m \u001b[1m0s\u001b[0m 3ms/step - accuracy: 0.7734 - loss: 0.5488 - val_accuracy: 0.7533 - val_loss: 0.6122 - learning_rate: 6.2500e-05\n"
          ]
        }
      ]
    },
    {
      "cell_type": "code",
      "source": [
        "y_train_pred = model_features.predict(train_vectors)\n",
        "y_train_pred_classes = np.argmax(y_train_pred, axis=1)\n",
        "y_train_true_classes = np.argmax(train_labels_nn, axis=1)\n",
        "y_dev_pred = model_features.predict(dev_vectors)\n",
        "y_dev_pred_classes = np.argmax(y_dev_pred, axis=1)\n",
        "y_dev_true_classes = np.argmax(dev_labels_nn, axis=1)\n",
        "\n",
        "# Evaluation metrics\n",
        "train_accuracy = accuracy_score(y_train_true_classes, y_train_pred_classes)\n",
        "dev_accuracy = accuracy_score(y_dev_true_classes, y_dev_pred_classes)\n",
        "train_precision, train_recall, train_f1, _ = precision_recall_fscore_support(y_train_true_classes, y_train_pred_classes, average='weighted')\n",
        "dev_precision, dev_recall, dev_f1, _ = precision_recall_fscore_support(y_dev_true_classes, y_dev_pred_classes, average='weighted')\n",
        "\n",
        "# Print\n",
        "print(f\"Train accuracy : {train_accuracy * 100:.2f}%\")\n",
        "print(f\"Train precision: {train_precision * 100:.2f}%\")\n",
        "print(f\"Train recall   : {train_recall * 100:.2f}%\")\n",
        "print(f\"Train F1-score : {train_f1 * 100:.2f}%\")\n",
        "print(f\"Dev accuracy   : {dev_accuracy * 100:.2f}%\")\n",
        "print(f\"Dev precision  : {dev_precision * 100:.2f}%\")\n",
        "print(f\"Dev recall     : {dev_recall * 100:.2f}%\")\n",
        "print(f\"Dev F1-score   : {dev_f1 * 100:.2f}%\")"
      ],
      "metadata": {
        "id": "DhTKYcAFfULQ",
        "outputId": "f6869b42-e673-4b7a-ee5f-0052d50565c1",
        "colab": {
          "base_uri": "https://localhost:8080/"
        }
      },
      "execution_count": 30,
      "outputs": [
        {
          "output_type": "stream",
          "name": "stdout",
          "text": [
            "\u001b[1m196/196\u001b[0m \u001b[32m━━━━━━━━━━━━━━━━━━━━\u001b[0m\u001b[37m\u001b[0m \u001b[1m0s\u001b[0m 2ms/step\n",
            "\u001b[1m10/10\u001b[0m \u001b[32m━━━━━━━━━━━━━━━━━━━━\u001b[0m\u001b[37m\u001b[0m \u001b[1m0s\u001b[0m 8ms/step\n",
            "Train accuracy : 76.96%\n",
            "Train precision: 76.58%\n",
            "Train recall   : 76.96%\n",
            "Train F1-score : 76.54%\n",
            "Dev accuracy   : 75.67%\n",
            "Dev precision  : 75.42%\n",
            "Dev recall     : 75.67%\n",
            "Dev F1-score   : 75.27%\n"
          ]
        }
      ]
    }
  ]
}